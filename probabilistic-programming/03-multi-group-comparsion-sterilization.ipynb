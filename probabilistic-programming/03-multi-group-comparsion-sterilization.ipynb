{
  "nbformat": 4,
  "nbformat_minor": 0,
  "metadata": {
    "kernelspec": {
      "name": "python3",
      "display_name": "Python 3"
    },
    "colab": {
      "name": "03-multi-group-comparsion-sterilization.ipynb",
      "provenance": []
    },
    "accelerator": "GPU"
  },
  "cells": [
    {
      "cell_type": "markdown",
      "metadata": {
        "id": "_UDlZLWN2RNH",
        "colab_type": "text"
      },
      "source": [
        "**Check environment**"
      ]
    },
    {
      "cell_type": "code",
      "metadata": {
        "id": "GruWt9Zr2P2G",
        "colab_type": "code",
        "colab": {
          "base_uri": "https://localhost:8080/",
          "height": 317
        },
        "outputId": "a1583525-8465-4cbc-d3dd-366d322b62a2"
      },
      "source": [
        "!nvidia-smi"
      ],
      "execution_count": 2,
      "outputs": [
        {
          "output_type": "stream",
          "text": [
            "Sun Sep 29 03:24:07 2019       \n",
            "+-----------------------------------------------------------------------------+\n",
            "| NVIDIA-SMI 430.40       Driver Version: 418.67       CUDA Version: 10.1     |\n",
            "|-------------------------------+----------------------+----------------------+\n",
            "| GPU  Name        Persistence-M| Bus-Id        Disp.A | Volatile Uncorr. ECC |\n",
            "| Fan  Temp  Perf  Pwr:Usage/Cap|         Memory-Usage | GPU-Util  Compute M. |\n",
            "|===============================+======================+======================|\n",
            "|   0  Tesla K80           Off  | 00000000:00:04.0 Off |                    0 |\n",
            "| N/A   45C    P8    30W / 149W |      0MiB / 11441MiB |      0%      Default |\n",
            "+-------------------------------+----------------------+----------------------+\n",
            "                                                                               \n",
            "+-----------------------------------------------------------------------------+\n",
            "| Processes:                                                       GPU Memory |\n",
            "|  GPU       PID   Type   Process name                             Usage      |\n",
            "|=============================================================================|\n",
            "|  No running processes found                                                 |\n",
            "+-----------------------------------------------------------------------------+\n"
          ],
          "name": "stdout"
        }
      ]
    },
    {
      "cell_type": "markdown",
      "metadata": {
        "id": "IrPHEBOy2jNB",
        "colab_type": "text"
      },
      "source": [
        "**Clone Datasets**"
      ]
    },
    {
      "cell_type": "code",
      "metadata": {
        "id": "EkHVdC2z2PiJ",
        "colab_type": "code",
        "colab": {
          "base_uri": "https://localhost:8080/",
          "height": 140
        },
        "outputId": "ce836f67-9e36-4e78-d527-4f25f418da7d"
      },
      "source": [
        "!git clone https://github.com/martin-fabbri/colab-notebooks.git"
      ],
      "execution_count": 3,
      "outputs": [
        {
          "output_type": "stream",
          "text": [
            "Cloning into 'colab-notebooks'...\n",
            "remote: Enumerating objects: 167, done.\u001b[K\n",
            "remote: Counting objects: 100% (167/167), done.\u001b[K\n",
            "remote: Compressing objects: 100% (139/139), done.\u001b[K\n",
            "remote: Total 314 (delta 90), reused 58 (delta 24), pack-reused 147\u001b[K\n",
            "Receiving objects: 100% (314/314), 9.40 MiB | 7.01 MiB/s, done.\n",
            "Resolving deltas: 100% (168/168), done.\n"
          ],
          "name": "stdout"
        }
      ]
    },
    {
      "cell_type": "markdown",
      "metadata": {
        "id": "YxHlcN6GDPe6",
        "colab_type": "text"
      },
      "source": [
        "**Install missing dependencies**"
      ]
    },
    {
      "cell_type": "code",
      "metadata": {
        "id": "fPUX4qPQDMod",
        "colab_type": "code",
        "colab": {
          "base_uri": "https://localhost:8080/",
          "height": 443
        },
        "outputId": "9e237ff5-aa2a-4452-a727-a7c544159a3f"
      },
      "source": [
        "!pip install arviz"
      ],
      "execution_count": 5,
      "outputs": [
        {
          "output_type": "stream",
          "text": [
            "Collecting arviz\n",
            "\u001b[?25l  Downloading https://files.pythonhosted.org/packages/fa/de/7ee2d4da966097029ed40216674b7b84e55c8fbc3bbf8fb0080f930de46c/arviz-0.5.1-py3-none-any.whl (1.4MB)\n",
            "\u001b[K     |████████████████████████████████| 1.4MB 2.8MB/s \n",
            "\u001b[?25hRequirement already satisfied: matplotlib>=3.0 in /usr/local/lib/python3.6/dist-packages (from arviz) (3.0.3)\n",
            "Requirement already satisfied: pandas>=0.23 in /usr/local/lib/python3.6/dist-packages (from arviz) (0.24.2)\n",
            "Requirement already satisfied: numpy>=1.12 in /usr/local/lib/python3.6/dist-packages (from arviz) (1.16.5)\n",
            "Requirement already satisfied: scipy>=0.19 in /usr/local/lib/python3.6/dist-packages (from arviz) (1.3.1)\n",
            "Requirement already satisfied: xarray>=0.11 in /usr/local/lib/python3.6/dist-packages (from arviz) (0.11.3)\n",
            "Collecting netcdf4 (from arviz)\n",
            "\u001b[?25l  Downloading https://files.pythonhosted.org/packages/e4/bd/689b5f9194a47240dad6cd1fd5854ab5253a7702b3bfcf4f5132db8344c8/netCDF4-1.5.2-cp36-cp36m-manylinux1_x86_64.whl (4.1MB)\n",
            "\u001b[K     |████████████████████████████████| 4.1MB 41.4MB/s \n",
            "\u001b[?25hRequirement already satisfied: python-dateutil>=2.1 in /usr/local/lib/python3.6/dist-packages (from matplotlib>=3.0->arviz) (2.5.3)\n",
            "Requirement already satisfied: pyparsing!=2.0.4,!=2.1.2,!=2.1.6,>=2.0.1 in /usr/local/lib/python3.6/dist-packages (from matplotlib>=3.0->arviz) (2.4.2)\n",
            "Requirement already satisfied: cycler>=0.10 in /usr/local/lib/python3.6/dist-packages (from matplotlib>=3.0->arviz) (0.10.0)\n",
            "Requirement already satisfied: kiwisolver>=1.0.1 in /usr/local/lib/python3.6/dist-packages (from matplotlib>=3.0->arviz) (1.1.0)\n",
            "Requirement already satisfied: pytz>=2011k in /usr/local/lib/python3.6/dist-packages (from pandas>=0.23->arviz) (2018.9)\n",
            "Collecting cftime (from netcdf4->arviz)\n",
            "\u001b[?25l  Downloading https://files.pythonhosted.org/packages/70/64/8ceadda42af3c1b27ee77005807e38c6d77baef28a8f9216b60577fddd71/cftime-1.0.3.4-cp36-cp36m-manylinux1_x86_64.whl (305kB)\n",
            "\u001b[K     |████████████████████████████████| 307kB 52.1MB/s \n",
            "\u001b[?25hRequirement already satisfied: six>=1.5 in /usr/local/lib/python3.6/dist-packages (from python-dateutil>=2.1->matplotlib>=3.0->arviz) (1.12.0)\n",
            "Requirement already satisfied: setuptools in /usr/local/lib/python3.6/dist-packages (from kiwisolver>=1.0.1->matplotlib>=3.0->arviz) (41.2.0)\n",
            "Installing collected packages: cftime, netcdf4, arviz\n",
            "Successfully installed arviz-0.5.1 cftime-1.0.3.4 netcdf4-1.5.2\n"
          ],
          "name": "stdout"
        }
      ]
    },
    {
      "cell_type": "markdown",
      "metadata": {
        "id": "U6GLuLQdD2JH",
        "colab_type": "text"
      },
      "source": [
        "**Utilities**"
      ]
    },
    {
      "cell_type": "code",
      "metadata": {
        "id": "9-o_CNwXDxWA",
        "colab_type": "code",
        "colab": {}
      },
      "source": [
        "def ECDF(data):\n",
        "    x = np.sort(data)\n",
        "    y = np.cumsum(x) / np.sum(x)\n",
        "    \n",
        "    return x, y\n",
        "\n",
        "# def despine(ax):\n",
        "#     ax.spines['right'].set_visible(False)\n",
        "#     ax.spines['top'].set_visible(False)\n",
        "    \n",
        "    \n",
        "# def despine_traceplot(traceplot):\n",
        "#     for row in traceplot:\n",
        "#         for ax in row:\n",
        "#             despine(ax)"
      ],
      "execution_count": 0,
      "outputs": []
    },
    {
      "cell_type": "code",
      "metadata": {
        "id": "K_9UDe9q2BUw",
        "colab_type": "code",
        "colab": {}
      },
      "source": [
        "import pymc3 as pm\n",
        "import matplotlib.pyplot as plt\n",
        "import pandas as pd\n",
        "import numpy as np\n",
        "import missingno as msno\n",
        "from sklearn.preprocessing import LabelEncoder\n",
        "import theano.tensor as tt\n",
        "import arviz as az\n",
        "\n",
        "%load_ext autoreload\n",
        "%autoreload 2\n",
        "%matplotlib inline\n",
        "%config InlineBackend.figure_format = 'retina'"
      ],
      "execution_count": 0,
      "outputs": []
    },
    {
      "cell_type": "markdown",
      "metadata": {
        "id": "bhRB2P9k2BU2",
        "colab_type": "text"
      },
      "source": [
        "# Introduction\n",
        "\n",
        "This notebook is designed to give you more practice with PyMC3 syntax. \n",
        "\n",
        "It is intentionally designed to provide more guidance w.r.t. model definition, i.e. which parameters to use, such that the focus is more on PyMC3 syntax rather than the mechanics of model definition. \n",
        "\n",
        "If you are already feeling comfortable with PyMC3 syntax, and would like to instead move on to practice with model definition, then feel free to move onto notebook 5 instead, where you can play with the Darwin's Finches dataset. That notebook is intentionally designed with much more freedom.\n",
        "\n",
        "## Setup\n",
        "\n",
        "You will be experimentally analyzing the effectiveness of six different phone sterilization methods against two control methods. This research was conducted at MIT's Division of Comparative Medicine, and was published this year in the Journal of the American Association for Laboratory Animal Science. If you're interested, you can read the paper [here][jaalas].\n",
        "\n",
        "[jaalas]: https://www.ncbi.nlm.nih.gov/pubmed/29402348\n",
        "\n",
        "### Experiment Design\n",
        "\n",
        "Briefly, the experiments were setup as such.\n",
        "\n",
        "1. Pre-sterilization, three sites on the phone were swabbed and the number of colony forming units (CFUs) was determined by letting the swabbed bacteria grow on an agar plate.\n",
        "1. Post-sterilization, the same three sites were swabbed and the number of CFUs was counted.\n",
        "1. Sterilization efficacy was determined by taking the ratio of the difference of CFUs pre- and post-sterilization.\n",
        "\n",
        "In the paper, we used the following formula to compute the percentage reduction:\n",
        "\n",
        "$$\\delta_{method} = \\frac{{count}_{pre} - {count}_{post}}{{count}_{pre}}$$\n",
        "\n",
        "In retrospect, a better definition would have been:\n",
        "\n",
        "$$x = \\frac{{count}_{pre} - {count}_{post}}{{count}_{pre}}$$\n",
        "$$\\delta_{method} = \\begin{cases}\n",
        "    0 & \\text{if} & x\\lt0, \\\\\n",
        "    1 & \\text{if} & x\\gt1, \\\\\n",
        "    x & \\text{otherwise}\n",
        "    \\end{cases}$$\n",
        "\n",
        "Sometimes, due to experimental variation, there are more colonies post-sterilization than pre-sterilization. This may occur particularly when the number of colonies counted on a plate is low (e.g. countable on our fingers). Thus, clipping the values helps us avoid negative percentage reductions, which one might consider to be be an \"absurd\" scenario to be in.\n",
        "\n",
        "### Data\n",
        "\n",
        "The data for this notebook came from [Evaluation of 6 Methods for Aerobic Bacterial Sanitization of Smartphones](https://www.ncbi.nlm.nih.gov/pubmed/29402348)."
      ]
    },
    {
      "cell_type": "markdown",
      "metadata": {
        "id": "nvMEWaCO2BU3",
        "colab_type": "text"
      },
      "source": [
        "### Step 1: Define Data Generating Process\n",
        "\n",
        "Just as in the previous notebook, you may want to spend 5-10 minutes talking through the data generating process before proceeding. Most important is to list out the distributions that you think are most relevant to the problem."
      ]
    },
    {
      "cell_type": "markdown",
      "metadata": {
        "id": "x7ZrkwEI2BU4",
        "colab_type": "text"
      },
      "source": [
        "### Step 2: Explore the Data\n",
        "\n",
        "Let's load the data. Here is the source code for the `load_sterilization` function, which will return the cleaned data as a pandas dataframe, as well as a mapping dictionary that we will use later to label groups."
      ]
    },
    {
      "cell_type": "code",
      "metadata": {
        "id": "9IbL56gn2BU5",
        "colab_type": "code",
        "colab": {}
      },
      "source": [
        "from data import load_sterilization\n",
        "\n",
        "load_sterilization??"
      ],
      "execution_count": 0,
      "outputs": []
    },
    {
      "cell_type": "code",
      "metadata": {
        "id": "SXQ1PRFi2BU8",
        "colab_type": "code",
        "colab": {}
      },
      "source": [
        "df, mapping = load_sterilization()"
      ],
      "execution_count": 0,
      "outputs": []
    },
    {
      "cell_type": "markdown",
      "metadata": {
        "id": "m0NxR4TI2BVF",
        "colab_type": "text"
      },
      "source": [
        "**Exercse:** \n",
        "View a random sample of 5 rows to get a feel for the structure of the data."
      ]
    },
    {
      "cell_type": "code",
      "metadata": {
        "id": "ao86Mx_P2BVG",
        "colab_type": "code",
        "colab": {}
      },
      "source": [
        "# Your code below\n"
      ],
      "execution_count": 0,
      "outputs": []
    },
    {
      "cell_type": "markdown",
      "metadata": {
        "id": "_ekDpaW42BVK",
        "colab_type": "text"
      },
      "source": [
        "**Exercise:** To help you visualize what data are available and missing in the dataframe, run the cell below to get a visual matrix (using MissingNo). (By the way, be sure to make use of this awesome tool in your data analysis!)"
      ]
    },
    {
      "cell_type": "code",
      "metadata": {
        "id": "y_erkq5Y2BVL",
        "colab_type": "code",
        "colab": {}
      },
      "source": [
        "# Run this cell, no coding required.\n",
        "msno.matrix(df)"
      ],
      "execution_count": 0,
      "outputs": []
    },
    {
      "cell_type": "markdown",
      "metadata": {
        "id": "DkAn6Rkn2BVO",
        "colab_type": "text"
      },
      "source": [
        "**Exercise:** Plot the average percentage reduction in colonies for each treatment."
      ]
    },
    {
      "cell_type": "code",
      "metadata": {
        "id": "AFoW1ryu2BVP",
        "colab_type": "code",
        "colab": {}
      },
      "source": [
        "# Write your code here.\n"
      ],
      "execution_count": 0,
      "outputs": []
    },
    {
      "cell_type": "markdown",
      "metadata": {
        "id": "63nCBXmW2BVS",
        "colab_type": "text"
      },
      "source": [
        "### Step 3: Implement and Fit Model\n",
        "\n",
        "**Exercise:** Write the generative model for the data. \n",
        "\n",
        "To help you, this is a diagrammed version of the model below.\n",
        "\n",
        "![](https://github.com/martin-fabbri/colab-notebooks/blob/master/images/bacteria_model.jpg?raw=1)"
      ]
    },
    {
      "cell_type": "code",
      "metadata": {
        "id": "au_Wr2eI2BVT",
        "colab_type": "code",
        "colab": {}
      },
      "source": [
        "# Implement the model following the hints provided.\n",
        "with pm.Model() as _________:\n",
        "    \n",
        "    # Define an exponential distribution: it is positive-only, which fits our assumptions of the\n",
        "    # data. Also, we choose a lam parameter that allows the prior to be flat.\n",
        "    # Remember that there are 8 treatments, so the shape of these distributions must be set correctly.\n",
        "    mu_pre = \n",
        "    mu_post = \n",
        "    \n",
        "    # Define the likelihoods using Poisson distributions.\n",
        "    like_pre = \n",
        "    like_post = \n",
        "    \n",
        "    # Compute percentage reduction\n",
        "    # hint: tt.clip performs the exact same operation as \n",
        "    # np.clip, which bounds your values between 0 and 1.\n",
        "    perc_reduction = "
      ],
      "execution_count": 0,
      "outputs": []
    },
    {
      "cell_type": "markdown",
      "metadata": {
        "id": "RPHxls122BVW",
        "colab_type": "text"
      },
      "source": [
        "**Exercise:** Now, sample from the posterior!"
      ]
    },
    {
      "cell_type": "code",
      "metadata": {
        "id": "7-iS4GRk2BVX",
        "colab_type": "code",
        "colab": {}
      },
      "source": [
        "# Your code below\n"
      ],
      "execution_count": 0,
      "outputs": []
    },
    {
      "cell_type": "markdown",
      "metadata": {
        "id": "PNfCga1i2BVa",
        "colab_type": "text"
      },
      "source": [
        "**Exercise:** Check the traces to make sure that sampling has converged."
      ]
    },
    {
      "cell_type": "code",
      "metadata": {
        "id": "taFa45QR2BVb",
        "colab_type": "code",
        "colab": {}
      },
      "source": [
        "# Your code below. Use pm.traceplot(trace)\n"
      ],
      "execution_count": 0,
      "outputs": []
    },
    {
      "cell_type": "markdown",
      "metadata": {
        "id": "3wHrIbS52BVe",
        "colab_type": "text"
      },
      "source": [
        "**Exercise:** Visualize the posterior distributions of percentage reduction"
      ]
    },
    {
      "cell_type": "code",
      "metadata": {
        "id": "iMelr8Sw2BVf",
        "colab_type": "code",
        "colab": {}
      },
      "source": [
        "# Use the `forestplot` or `plot_posterior` functions.\n",
        "az._______(_______, var_names=______)"
      ],
      "execution_count": 0,
      "outputs": []
    },
    {
      "cell_type": "markdown",
      "metadata": {
        "id": "oLpk83RB2BVi",
        "colab_type": "text"
      },
      "source": [
        "**Discussion:** Find a neighbour who is working on the same notebook, and discuss this together.\n",
        "\n",
        "- Which method of sterilization is the most effective? \n",
        "- Observe the posterior distribution. Is there any uncertainty surrounding this method's effectiveness? Could we still be wrong about the uncertainty?"
      ]
    },
    {
      "cell_type": "markdown",
      "metadata": {
        "id": "OFfdrG-22BVj",
        "colab_type": "text"
      },
      "source": [
        "# Summary\n",
        "\n",
        "- Two-group (and multi-group) comparisons involve a Bayesian estimation procedure.\n",
        "- We estimate parameter of interest for each group, and then compare the parameter posterior distributions."
      ]
    },
    {
      "cell_type": "code",
      "metadata": {
        "id": "rZXM8yDk2BVk",
        "colab_type": "code",
        "colab": {}
      },
      "source": [
        ""
      ],
      "execution_count": 0,
      "outputs": []
    }
  ]
}