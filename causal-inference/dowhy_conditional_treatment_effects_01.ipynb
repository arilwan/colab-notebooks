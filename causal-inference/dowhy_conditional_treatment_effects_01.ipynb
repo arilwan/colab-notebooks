{
 "cells": [
  {
   "cell_type": "markdown",
   "metadata": {
    "colab_type": "text",
    "id": "view-in-github"
   },
   "source": [
    "<a href=\"https://colab.research.google.com/github/martin-fabbri/colab-notebooks/blob/master/causal-inference/dowhy_conditional_treatment_effects_01.ipynb\" target=\"_parent\"><img src=\"https://colab.research.google.com/assets/colab-badge.svg\" alt=\"Open In Colab\"/></a>"
   ]
  },
  {
   "cell_type": "markdown",
   "metadata": {
    "colab_type": "text",
    "id": "y7r2UZ4tOpP8"
   },
   "source": [
    "# Conditional Average Treatment Effect (CATE)\n",
    "\n",
    "This notebook leverages EconML's CATE estimation using different methods.\n",
    "\n",
    "We will follow the typical doWhy workflow: model, identify, estimate, and refute."
   ]
  },
  {
   "cell_type": "markdown",
   "metadata": {
    "colab_type": "text",
    "id": "0kc_hFKpOoIJ"
   },
   "source": [
    "## Setup Dependencies"
   ]
  },
  {
   "cell_type": "code",
   "execution_count": 2,
   "metadata": {
    "colab": {
     "base_uri": "https://localhost:8080/",
     "height": 356
    },
    "colab_type": "code",
    "id": "RRpIyhddNSYH",
    "outputId": "960ce220-f373-463d-b805-36e2406ada45"
   },
   "outputs": [
    {
     "name": "stdout",
     "output_type": "stream",
     "text": [
      "Reading package lists...\n",
      "Building dependency tree...\n",
      "Reading state information...\n",
      "pkg-config is already the newest version (0.29.1-0ubuntu2).\n",
      "graphviz is already the newest version (2.40.1-2).\n",
      "libgraphviz-dev is already the newest version (2.40.1-2).\n",
      "The following package was automatically installed and is no longer required:\n",
      "  libnvidia-common-430\n",
      "Use 'sudo apt autoremove' to remove it.\n",
      "0 upgraded, 0 newly installed, 0 to remove and 25 not upgraded.\n",
      "/usr/local/lib/python3.6/dist-packages/pip/_internal/commands/install.py:283: UserWarning: Disabling all use of wheels due to the use of --build-options / --global-options / --install-options.\n",
      "  cmdoptions.check_install_build_global(options)\n",
      "\u001b[K     |████████████████████████████████| 71kB 3.0MB/s \n",
      "\u001b[K     |████████████████████████████████| 286kB 15.1MB/s \n",
      "\u001b[K     |████████████████████████████████| 5.6MB 21.6MB/s \n",
      "\u001b[K     |████████████████████████████████| 71kB 7.3MB/s \n",
      "\u001b[31mERROR: econml 0.6.1 has requirement matplotlib<3.1, but you'll have matplotlib 3.1.3 which is incompatible.\u001b[0m\n",
      "\u001b[31mERROR: econml 0.6.1 has requirement scikit-learn~=0.21.0, but you'll have scikit-learn 0.22.1 which is incompatible.\u001b[0m\n",
      "\u001b[?25h"
     ]
    }
   ],
   "source": [
    "# !sudo apt install graphviz libgraphviz-dev graphviz-dev pkg-config -y -q\n",
    "\n",
    "# !pip install -q pygraphviz --install-option=\"--include-path=/usr/include/graphviz\" \\\n",
    "# --install-option=\"--library-path=/usr/lib/graphviz/\"\n",
    "# !pip install -q dowhy"
   ]
  },
  {
   "cell_type": "code",
   "execution_count": 15,
   "metadata": {
    "colab": {},
    "colab_type": "code",
    "id": "IVCkLoOsNioS"
   },
   "outputs": [
    {
     "name": "stdout",
     "output_type": "stream",
     "text": [
      "0.2\n"
     ]
    }
   ],
   "source": [
    "import numpy as np\n",
    "import pandas as pd\n",
    "import logging\n",
    "\n",
    "import dowhy\n",
    "import dowhy.datasets\n",
    "\n",
    "from IPython.display import Image\n",
    "from IPython.display import display\n",
    "from dowhy import CausalModel\n",
    "\n",
    "import econml\n",
    "import warnings\n",
    "warnings.filterwarnings('ignore')\n",
    "\n",
    "print(dowhy.__version__)"
   ]
  },
  {
   "cell_type": "code",
   "execution_count": 8,
   "metadata": {
    "colab": {},
    "colab_type": "code",
    "id": "jwd2mm1_NilY"
   },
   "outputs": [
    {
     "data": {
      "text/html": [
       "<div>\n",
       "<style scoped>\n",
       "    .dataframe tbody tr th:only-of-type {\n",
       "        vertical-align: middle;\n",
       "    }\n",
       "\n",
       "    .dataframe tbody tr th {\n",
       "        vertical-align: top;\n",
       "    }\n",
       "\n",
       "    .dataframe thead th {\n",
       "        text-align: right;\n",
       "    }\n",
       "</style>\n",
       "<table border=\"1\" class=\"dataframe\">\n",
       "  <thead>\n",
       "    <tr style=\"text-align: right;\">\n",
       "      <th></th>\n",
       "      <th>X0</th>\n",
       "      <th>X1</th>\n",
       "      <th>Z0</th>\n",
       "      <th>Z1</th>\n",
       "      <th>W0</th>\n",
       "      <th>W1</th>\n",
       "      <th>W2</th>\n",
       "      <th>W3</th>\n",
       "      <th>v0</th>\n",
       "      <th>y</th>\n",
       "    </tr>\n",
       "  </thead>\n",
       "  <tbody>\n",
       "    <tr>\n",
       "      <th>0</th>\n",
       "      <td>0.548173</td>\n",
       "      <td>-2.277827</td>\n",
       "      <td>1.0</td>\n",
       "      <td>0.082832</td>\n",
       "      <td>1.268371</td>\n",
       "      <td>-0.505840</td>\n",
       "      <td>0.159907</td>\n",
       "      <td>0.836928</td>\n",
       "      <td>14.943959</td>\n",
       "      <td>22.755068</td>\n",
       "    </tr>\n",
       "    <tr>\n",
       "      <th>1</th>\n",
       "      <td>-0.148562</td>\n",
       "      <td>-0.973063</td>\n",
       "      <td>1.0</td>\n",
       "      <td>0.778443</td>\n",
       "      <td>0.429888</td>\n",
       "      <td>-0.962348</td>\n",
       "      <td>0.632522</td>\n",
       "      <td>0.311240</td>\n",
       "      <td>17.875651</td>\n",
       "      <td>101.200192</td>\n",
       "    </tr>\n",
       "    <tr>\n",
       "      <th>2</th>\n",
       "      <td>-2.030298</td>\n",
       "      <td>-0.827340</td>\n",
       "      <td>1.0</td>\n",
       "      <td>0.867969</td>\n",
       "      <td>0.192098</td>\n",
       "      <td>-0.299542</td>\n",
       "      <td>0.001500</td>\n",
       "      <td>-1.839095</td>\n",
       "      <td>12.552756</td>\n",
       "      <td>30.525856</td>\n",
       "    </tr>\n",
       "    <tr>\n",
       "      <th>3</th>\n",
       "      <td>-0.548583</td>\n",
       "      <td>0.890505</td>\n",
       "      <td>1.0</td>\n",
       "      <td>0.450028</td>\n",
       "      <td>3.862704</td>\n",
       "      <td>-0.347325</td>\n",
       "      <td>0.552876</td>\n",
       "      <td>0.931117</td>\n",
       "      <td>23.150643</td>\n",
       "      <td>312.346588</td>\n",
       "    </tr>\n",
       "    <tr>\n",
       "      <th>4</th>\n",
       "      <td>-0.063283</td>\n",
       "      <td>-0.571449</td>\n",
       "      <td>1.0</td>\n",
       "      <td>0.972587</td>\n",
       "      <td>0.923954</td>\n",
       "      <td>0.739621</td>\n",
       "      <td>2.514735</td>\n",
       "      <td>1.166645</td>\n",
       "      <td>33.854449</td>\n",
       "      <td>259.399519</td>\n",
       "    </tr>\n",
       "  </tbody>\n",
       "</table>\n",
       "</div>"
      ],
      "text/plain": [
       "         X0        X1   Z0        Z1        W0        W1        W2        W3  \\\n",
       "0  0.548173 -2.277827  1.0  0.082832  1.268371 -0.505840  0.159907  0.836928   \n",
       "1 -0.148562 -0.973063  1.0  0.778443  0.429888 -0.962348  0.632522  0.311240   \n",
       "2 -2.030298 -0.827340  1.0  0.867969  0.192098 -0.299542  0.001500 -1.839095   \n",
       "3 -0.548583  0.890505  1.0  0.450028  3.862704 -0.347325  0.552876  0.931117   \n",
       "4 -0.063283 -0.571449  1.0  0.972587  0.923954  0.739621  2.514735  1.166645   \n",
       "\n",
       "          v0           y  \n",
       "0  14.943959   22.755068  \n",
       "1  17.875651  101.200192  \n",
       "2  12.552756   30.525856  \n",
       "3  23.150643  312.346588  \n",
       "4  33.854449  259.399519  "
      ]
     },
     "execution_count": 8,
     "metadata": {},
     "output_type": "execute_result"
    }
   ],
   "source": [
    "data = dowhy.datasets.linear_dataset(10, num_common_causes=4, num_samples=10000,\n",
    "                                     num_instruments=2, num_effect_modifiers=2,\n",
    "                                     num_treatments=1,\n",
    "                                     treatment_is_binary=False)\n",
    "df = data['df']\n",
    "df.head()"
   ]
  },
  {
   "cell_type": "code",
   "execution_count": 13,
   "metadata": {
    "colab": {},
    "colab_type": "code",
    "id": "rtFwEfD5NiiN"
   },
   "outputs": [
    {
     "name": "stderr",
     "output_type": "stream",
     "text": [
      "INFO:dowhy.causal_model:Model to find the causal effect of treatment ['v0'] on outcome ['y']\n"
     ]
    }
   ],
   "source": [
    "model = CausalModel(data=data['df'],\n",
    "                    treatment=data['treatment_name'], \n",
    "                    outcome=data['outcome_name'],\n",
    "                    graph=data['gml_graph'])"
   ]
  },
  {
   "cell_type": "code",
   "execution_count": 17,
   "metadata": {
    "colab": {},
    "colab_type": "code",
    "id": "ZdW8dVdWNifL"
   },
   "outputs": [
    {
     "name": "stderr",
     "output_type": "stream",
     "text": [
      "WARNING:dowhy.causal_graph:Warning: Pygraphviz cannot be loaded. Check that graphviz and pygraphviz are installed.\n",
      "INFO:dowhy.causal_graph:Using Matplotlib for plotting\n"
     ]
    },
    {
     "data": {
      "image/png": "[encoded data removed]",
      "text/plain": [
       "<IPython.core.display.Image object>"
      ]
     },
     "metadata": {},
     "output_type": "display_data"
    },
    {
     "data": {
      "image/png": "[encoded data removed]",
      "text/plain": [
       "<Figure size 432x288 with 1 Axes>"
      ]
     },
     "metadata": {},
     "output_type": "display_data"
    }
   ],
   "source": [
    "model.view_model()\n",
    "display(Image(filename='causal_model.png'))"
   ]
  },
  {
   "cell_type": "code",
   "execution_count": null,
   "metadata": {
    "colab": {},
    "colab_type": "code",
    "id": "ZnoNMZBBNicS"
   },
   "outputs": [],
   "source": []
  },
  {
   "cell_type": "code",
   "execution_count": null,
   "metadata": {
    "colab": {},
    "colab_type": "code",
    "id": "s0pMIU37NiZb"
   },
   "outputs": [],
   "source": []
  }
 ],
 "metadata": {
  "colab": {
   "authorship_tag": "ABX9TyN0Nj5ZJd1fm+QcCM0RA3nM",
   "collapsed_sections": [],
   "include_colab_link": true,
   "name": "dowhy-conditional-treatment-effects-01.ipynb",
   "provenance": []
  },
  "kernelspec": {
   "display_name": "Python 3",
   "language": "python",
   "name": "python3"
  },
  "language_info": {
   "codemirror_mode": {
    "name": "ipython",
    "version": 3
   },
   "file_extension": ".py",
   "mimetype": "text/x-python",
   "name": "python",
   "nbconvert_exporter": "python",
   "pygments_lexer": "ipython3",
   "version": "3.6.10"
  }
 },
 "nbformat": 4,
 "nbformat_minor": 4
}
