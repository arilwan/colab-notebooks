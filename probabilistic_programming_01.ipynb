{
  "nbformat": 4,
  "nbformat_minor": 0,
  "metadata": {
    "colab": {
      "name": "probabilistic-programming-01.ipynb",
      "provenance": [],
      "collapsed_sections": [
        "mbl1M7IKwRP8",
        "MVbb0JJpKo8j",
        "pDKLcLE4x8mX",
        "yYIohUN8z3Je"
      ],
      "include_colab_link": true
    },
    "kernelspec": {
      "name": "python3",
      "display_name": "Python 3"
    }
  },
  "cells": [
    {
      "cell_type": "markdown",
      "metadata": {
        "id": "view-in-github",
        "colab_type": "text"
      },
      "source": [
        "<a href=\"https://colab.research.google.com/github/martin-fabbri/colab-notebooks/blob/master/probabilistic_programming_01.ipynb\" target=\"_parent\"><img src=\"https://colab.research.google.com/assets/colab-badge.svg\" alt=\"Open In Colab\"/></a>"
      ]
    },
    {
      "cell_type": "markdown",
      "metadata": {
        "id": "7kWHwFiwoN3n",
        "colab_type": "text"
      },
      "source": [
        "## What is probability?"
      ]
    },
    {
      "cell_type": "code",
      "metadata": {
        "id": "QdcOD0y7n6Gi",
        "colab_type": "code",
        "outputId": "508bfa36-a854-48fb-e232-7259d50ad1bf",
        "colab": {
          "base_uri": "https://localhost:8080/",
          "height": 34
        }
      },
      "source": [
        "import numpy as np\n",
        "import pandas as pd\n",
        "import seaborn as sns\n",
        "import matplotlib.pyplot as plt\n",
        "\n",
        "%matplotlib inline\n",
        "sns.set()\n",
        "\n",
        "\n",
        "print('Numpy:', np.__version__)"
      ],
      "execution_count": 1,
      "outputs": [
        {
          "output_type": "stream",
          "text": [
            "Numpy: 1.16.5\n"
          ],
          "name": "stdout"
        }
      ]
    },
    {
      "cell_type": "markdown",
      "metadata": {
        "id": "mbl1M7IKwRP8",
        "colab_type": "text"
      },
      "source": [
        "### Learning Objectives\n",
        "\n",
        "- To have an understanding of what \"probability\" means, if both Bayesian and Frequentist terms.\n",
        "\n",
        "- To be able to simulate probability dristriburion that model real-world phenomena.\n",
        "\n",
        "- To understand Bayes' Theorem and its utility."
      ]
    },
    {
      "cell_type": "markdown",
      "metadata": {
        "id": "iufh4ev1yxmF",
        "colab_type": "text"
      },
      "source": [
        "Let's say that a website has a CRT of 50%, i.e. that 50% of people click through. If we picked 1,000 people at random from the population, how likely would it be to find that certain number of people click?"
      ]
    },
    {
      "cell_type": "markdown",
      "metadata": {
        "id": "8dXVMrRfzTlX",
        "colab_type": "text"
      },
      "source": [
        "- We can simulate this using numpy's random number generatior. To do so, first note se can use np.random.rand() to randomly select floats between 0 and 1 (known as uniform distribution). Below, we do so and plot a histogram."
      ]
    },
    {
      "cell_type": "code",
      "metadata": {
        "id": "QbKIccTzzTFM",
        "colab_type": "code",
        "outputId": "6bd45be6-3833-4ec0-f2bb-021d09aaca2c",
        "colab": {
          "base_uri": "https://localhost:8080/",
          "height": 359
        }
      },
      "source": [
        "# Draw 1,000 samples from uniform & plot results\n",
        "\n",
        "x = np.random.rand(1000)\n",
        "plt.hist(x)"
      ],
      "execution_count": 0,
      "outputs": [
        {
          "output_type": "execute_result",
          "data": {
            "text/plain": [
              "(array([112.,  99., 109.,  99.,  97.,  84., 110.,  92.,  95., 103.]),\n",
              " array([1.20429188e-07, 9.99445907e-02, 1.99889061e-01, 2.99833531e-01,\n",
              "        3.99778002e-01, 4.99722472e-01, 5.99666942e-01, 6.99611412e-01,\n",
              "        7.99555883e-01, 8.99500353e-01, 9.99444823e-01]),\n",
              " <a list of 10 Patch objects>)"
            ]
          },
          "metadata": {
            "tags": []
          },
          "execution_count": 125
        },
        {
          "output_type": "display_data",
          "data": {
            "image/png": "[encoded data removed]",
            "text/plain": [
              "<Figure size 432x288 with 1 Axes>"
            ]
          },
          "metadata": {
            "tags": []
          }
        }
      ]
    },
    {
      "cell_type": "markdown",
      "metadata": {
        "id": "t_n9cifc0hrT",
        "colab_type": "text"
      },
      "source": [
        "To then simulate the sampling from the population, we check wheter each float was greater or less than 0.5. If lesss than or equal to 0.5, we say the person clicked.\n"
      ]
    },
    {
      "cell_type": "code",
      "metadata": {
        "id": "06LhigZhpZCW",
        "colab_type": "code",
        "outputId": "b96565af-79c9-49ec-d7e8-bb983321a175",
        "colab": {
          "base_uri": "https://localhost:8080/",
          "height": 34
        }
      },
      "source": [
        "# computer how many people clicked\n",
        "\n",
        "clicks = x < 0.5\n",
        "n_clicks = sum(clicks)\n",
        "f\"number of clicks = {n_clicks}\""
      ],
      "execution_count": 0,
      "outputs": [
        {
          "output_type": "execute_result",
          "data": {
            "text/plain": [
              "'number of clicks = 516'"
            ]
          },
          "metadata": {
            "tags": []
          },
          "execution_count": 126
        }
      ]
    },
    {
      "cell_type": "markdown",
      "metadata": {
        "id": "YYG2FYs32hmi",
        "colab_type": "text"
      },
      "source": [
        "The proportion of people who clicked can be calculated as teh total number of clicks over the number of people,"
      ]
    },
    {
      "cell_type": "code",
      "metadata": {
        "id": "hYVxBBbp2gxl",
        "colab_type": "code",
        "outputId": "af4473e1-0848-44c3-c138-d845e6a3b26a",
        "colab": {
          "base_uri": "https://localhost:8080/",
          "height": 34
        }
      },
      "source": [
        "f\"Proportion who clicked = {n_clicks / len(x)}\""
      ],
      "execution_count": 0,
      "outputs": [
        {
          "output_type": "execute_result",
          "data": {
            "text/plain": [
              "'Proportion who clicked = 0.516'"
            ]
          },
          "metadata": {
            "tags": []
          },
          "execution_count": 127
        }
      ]
    },
    {
      "cell_type": "code",
      "metadata": {
        "id": "bf8bwGft_ZmH",
        "colab_type": "code",
        "outputId": "7db5f552-3ff8-42fa-a32a-eb5a26007c46",
        "colab": {
          "base_uri": "https://localhost:8080/",
          "height": 85
        }
      },
      "source": [
        "# Compute the number of clicks and proportiion\n",
        "\n",
        "clicks = x < 0.7\n",
        "n_clicks = sum(clicks)\n",
        "print('clicks type:', type(clicks))\n",
        "print('clicks head: ', clicks[:3])\n",
        "print(f\"number of clicks = {n_clicks}\")\n",
        "print(f\"Proportion who clicked = {n_clicks / len(x)}\")"
      ],
      "execution_count": 0,
      "outputs": [
        {
          "output_type": "stream",
          "text": [
            "clicks type: <class 'numpy.ndarray'>\n",
            "clicks head:  [ True  True  True]\n",
            "number of clicks = 710\n",
            "Proportion who clicked = 0.71\n"
          ],
          "name": "stdout"
        }
      ]
    },
    {
      "cell_type": "markdown",
      "metadata": {
        "id": "A-QC8-eNEMoQ",
        "colab_type": "text"
      },
      "source": [
        "### Galapagos finch beacks"
      ]
    },
    {
      "cell_type": "code",
      "metadata": {
        "id": "6rCaLuKrEMab",
        "colab_type": "code",
        "outputId": "006d6fe0-f3a1-40a9-b5e6-99084ec0acdc",
        "colab": {
          "base_uri": "https://localhost:8080/",
          "height": 312
        }
      },
      "source": [
        "df_12 = pd.read_csv('https://raw.githubusercontent.com/martin-fabbri/colab-notebooks/master/geospiza-scandens-beak-evolution/finch_beaks_2012.csv')\n",
        "print(df_12.info())\n",
        "df_12.head(3)"
      ],
      "execution_count": 2,
      "outputs": [
        {
          "output_type": "stream",
          "text": [
            "<class 'pandas.core.frame.DataFrame'>\n",
            "RangeIndex: 248 entries, 0 to 247\n",
            "Data columns (total 4 columns):\n",
            "band       248 non-null int64\n",
            "species    248 non-null object\n",
            "blength    248 non-null float64\n",
            "bdepth     248 non-null float64\n",
            "dtypes: float64(2), int64(1), object(1)\n",
            "memory usage: 7.8+ KB\n",
            "None\n"
          ],
          "name": "stdout"
        },
        {
          "output_type": "execute_result",
          "data": {
            "text/html": [
              "<div>\n",
              "<style scoped>\n",
              "    .dataframe tbody tr th:only-of-type {\n",
              "        vertical-align: middle;\n",
              "    }\n",
              "\n",
              "    .dataframe tbody tr th {\n",
              "        vertical-align: top;\n",
              "    }\n",
              "\n",
              "    .dataframe thead th {\n",
              "        text-align: right;\n",
              "    }\n",
              "</style>\n",
              "<table border=\"1\" class=\"dataframe\">\n",
              "  <thead>\n",
              "    <tr style=\"text-align: right;\">\n",
              "      <th></th>\n",
              "      <th>band</th>\n",
              "      <th>species</th>\n",
              "      <th>blength</th>\n",
              "      <th>bdepth</th>\n",
              "    </tr>\n",
              "  </thead>\n",
              "  <tbody>\n",
              "    <tr>\n",
              "      <th>0</th>\n",
              "      <td>19022</td>\n",
              "      <td>fortis</td>\n",
              "      <td>10.0</td>\n",
              "      <td>8.5</td>\n",
              "    </tr>\n",
              "    <tr>\n",
              "      <th>1</th>\n",
              "      <td>19028</td>\n",
              "      <td>fortis</td>\n",
              "      <td>12.5</td>\n",
              "      <td>8.9</td>\n",
              "    </tr>\n",
              "    <tr>\n",
              "      <th>2</th>\n",
              "      <td>19032</td>\n",
              "      <td>fortis</td>\n",
              "      <td>9.3</td>\n",
              "      <td>7.5</td>\n",
              "    </tr>\n",
              "  </tbody>\n",
              "</table>\n",
              "</div>"
            ],
            "text/plain": [
              "    band species  blength  bdepth\n",
              "0  19022  fortis     10.0     8.5\n",
              "1  19028  fortis     12.5     8.9\n",
              "2  19032  fortis      9.3     7.5"
            ]
          },
          "metadata": {
            "tags": []
          },
          "execution_count": 2
        }
      ]
    },
    {
      "cell_type": "code",
      "metadata": {
        "id": "SiZ_0hM7IgmG",
        "colab_type": "code",
        "colab": {}
      },
      "source": [
        "# store lengths in a panda series"
      ],
      "execution_count": 0,
      "outputs": []
    },
    {
      "cell_type": "code",
      "metadata": {
        "id": "d3vBaC1SIgjA",
        "colab_type": "code",
        "outputId": "da8ab7ee-2bb3-4ec4-c93b-099c97d1df46",
        "colab": {
          "base_uri": "https://localhost:8080/",
          "height": 102
        }
      },
      "source": [
        "lengths = df_12['blength']\n",
        "print(type(lengths))\n",
        "lengths.head(3)"
      ],
      "execution_count": 0,
      "outputs": [
        {
          "output_type": "stream",
          "text": [
            "<class 'pandas.core.series.Series'>\n"
          ],
          "name": "stdout"
        },
        {
          "output_type": "execute_result",
          "data": {
            "text/plain": [
              "0    10.0\n",
              "1    12.5\n",
              "2     9.3\n",
              "Name: blength, dtype: float64"
            ]
          },
          "metadata": {
            "tags": []
          },
          "execution_count": 131
        }
      ]
    },
    {
      "cell_type": "code",
      "metadata": {
        "id": "YhQsWjmWIge3",
        "colab_type": "code",
        "outputId": "6e386e48-cdfe-4663-8e0c-ce62fe6dfa86",
        "colab": {
          "base_uri": "https://localhost:8080/",
          "height": 34
        }
      },
      "source": [
        "# What proportion of birds have a beak lenght > 10?\n",
        "\n",
        "p =  sum(lengths > 10) / len(lengths) \n",
        "p"
      ],
      "execution_count": 0,
      "outputs": [
        {
          "output_type": "execute_result",
          "data": {
            "text/plain": [
              "0.8508064516129032"
            ]
          },
          "metadata": {
            "tags": []
          },
          "execution_count": 132
        }
      ]
    },
    {
      "cell_type": "markdown",
      "metadata": {
        "id": "MVbb0JJpKo8j",
        "colab_type": "text"
      },
      "source": [
        "### A proxy for probability\n",
        "\n",
        "As stated above, we have calculated a proportion, not a probability. As a proxy for the probability, we can simulate drawing random samples (with replacement) from data seeing how many lengths are > 10 and calculating the proportion."
      ]
    },
    {
      "cell_type": "code",
      "metadata": {
        "id": "f7kOfRqaKogx",
        "colab_type": "code",
        "outputId": "8956d66c-cc0a-43e2-89a7-baae6c5cfcd7",
        "colab": {
          "base_uri": "https://localhost:8080/",
          "height": 34
        }
      },
      "source": [
        "n_samples = 10000\n",
        "proxy_sum = sum(np.random.choice(lengths, n_samples, replace=True) > 10) / n_samples\n",
        "proxy_sum"
      ],
      "execution_count": 0,
      "outputs": [
        {
          "output_type": "execute_result",
          "data": {
            "text/plain": [
              "0.847"
            ]
          },
          "metadata": {
            "tags": []
          },
          "execution_count": 133
        }
      ]
    },
    {
      "cell_type": "markdown",
      "metadata": {
        "id": "pDKLcLE4x8mX",
        "colab_type": "text"
      },
      "source": [
        "### Binomial distribution"
      ]
    },
    {
      "cell_type": "code",
      "metadata": {
        "id": "G7s20t4mKoS9",
        "colab_type": "code",
        "outputId": "684a6127-d91f-4c07-db2c-182ef852b972",
        "colab": {
          "base_uri": "https://localhost:8080/",
          "height": 34
        }
      },
      "source": [
        "# set seed\n",
        "np.random.seed(16071982)\n",
        "\n",
        "# simulate one run of flipping  the biased coin 10 times\n",
        "np.random.binomial(10, 0.7)"
      ],
      "execution_count": 0,
      "outputs": [
        {
          "output_type": "execute_result",
          "data": {
            "text/plain": [
              "7"
            ]
          },
          "metadata": {
            "tags": []
          },
          "execution_count": 134
        }
      ]
    },
    {
      "cell_type": "markdown",
      "metadata": {
        "id": "yYIohUN8z3Je",
        "colab_type": "text"
      },
      "source": [
        "### Simulating many times to get the distribution"
      ]
    },
    {
      "cell_type": "code",
      "metadata": {
        "id": "BXrv0ARAx5xb",
        "colab_type": "code",
        "outputId": "2f2caeb2-df18-4dc6-d2bc-a4da8a942c77",
        "colab": {
          "base_uri": "https://localhost:8080/",
          "height": 359
        }
      },
      "source": [
        "# simulate 1,000 run of flipping the biased coin 10 times\n",
        "# x = [np.random.binomial(10, 0.7) for _ in range(1000)]\n",
        "x = np.random.binomial(10, 0.7, 10000000)\n",
        "\n",
        "# plot normalized histogram of results\n",
        "plt.hist(x, density=True, bins=[1, 2, 3, 4, 5, 6, 7, 8, 9, 10])"
      ],
      "execution_count": 0,
      "outputs": [
        {
          "output_type": "execute_result",
          "data": {
            "text/plain": [
              "(array([1.36200667e-04, 1.44510708e-03, 9.05084435e-03, 3.67392800e-02,\n",
              "        1.02848804e-01, 2.00257781e-01, 2.66810607e-01, 2.33384244e-01,\n",
              "        1.49327132e-01]),\n",
              " array([ 1,  2,  3,  4,  5,  6,  7,  8,  9, 10]),\n",
              " <a list of 9 Patch objects>)"
            ]
          },
          "metadata": {
            "tags": []
          },
          "execution_count": 135
        },
        {
          "output_type": "display_data",
          "data": {
            "image/png": "[encoded data removed]",
            "text/plain": [
              "<Figure size 432x288 with 1 Axes>"
            ]
          },
          "metadata": {
            "tags": []
          }
        }
      ]
    },
    {
      "cell_type": "markdown",
      "metadata": {
        "id": "aQt-rgJb3eQF",
        "colab_type": "text"
      },
      "source": [
        "If I flip a biased coin (P(H)=0.3) 20 times, what it the probability of 5 or mode heads?"
      ]
    },
    {
      "cell_type": "code",
      "metadata": {
        "id": "gsvymUT23dBD",
        "colab_type": "code",
        "outputId": "bc3dc340-f813-4e3e-d1e9-7750994cb9d1",
        "colab": {
          "base_uri": "https://localhost:8080/",
          "height": 34
        }
      },
      "source": [
        "experiments = np.random.binomial(20, 0.3, 10000)\n",
        "sum(experiments >= 5)"
      ],
      "execution_count": 0,
      "outputs": [
        {
          "output_type": "execute_result",
          "data": {
            "text/plain": [
              "7693"
            ]
          },
          "metadata": {
            "tags": []
          },
          "execution_count": 136
        }
      ]
    },
    {
      "cell_type": "markdown",
      "metadata": {
        "id": "y38o_Xvm4n1k",
        "colab_type": "text"
      },
      "source": [
        "If I flip a fair coin 20 times, what is the probability of 5 or more heads?"
      ]
    },
    {
      "cell_type": "code",
      "metadata": {
        "id": "wJQUo0203c93",
        "colab_type": "code",
        "outputId": "ee95809c-66d0-45b4-87c6-880a34ba565c",
        "colab": {
          "base_uri": "https://localhost:8080/",
          "height": 51
        }
      },
      "source": [
        "experiments = np.random.binomial(20, 0.5, 10000)\n",
        "print(experiments[:5])\n",
        "sum(experiments >= 5) / 10000"
      ],
      "execution_count": 0,
      "outputs": [
        {
          "output_type": "stream",
          "text": [
            "[11  8 13 12 15]\n"
          ],
          "name": "stdout"
        },
        {
          "output_type": "execute_result",
          "data": {
            "text/plain": [
              "0.994"
            ]
          },
          "metadata": {
            "tags": []
          },
          "execution_count": 137
        }
      ]
    },
    {
      "cell_type": "markdown",
      "metadata": {
        "id": "OOtDLafu47SC",
        "colab_type": "text"
      },
      "source": [
        "Plot the normalized histogram of number of heads of the following experiment: flipping a fair coid 10 times"
      ]
    },
    {
      "cell_type": "code",
      "metadata": {
        "id": "buj547nC3c6v",
        "colab_type": "code",
        "colab": {}
      },
      "source": [
        "experiments = np.random.binomial(10, 0.5, 10000)"
      ],
      "execution_count": 0,
      "outputs": []
    },
    {
      "cell_type": "code",
      "metadata": {
        "id": "FXbLXTvd3cvG",
        "colab_type": "code",
        "outputId": "3a6856af-cb37-45bb-d67b-68104d1cf3c4",
        "colab": {
          "base_uri": "https://localhost:8080/",
          "height": 342
        }
      },
      "source": [
        "plt.hist(x=experiments, density=True, bins=10)"
      ],
      "execution_count": 0,
      "outputs": [
        {
          "output_type": "execute_result",
          "data": {
            "text/plain": [
              "(array([0.0006, 0.0099, 0.0434, 0.1156, 0.1994, 0.2479, 0.2059, 0.1199,\n",
              "        0.0469, 0.0105]),\n",
              " array([ 0.,  1.,  2.,  3.,  4.,  5.,  6.,  7.,  8.,  9., 10.]),\n",
              " <a list of 10 Patch objects>)"
            ]
          },
          "metadata": {
            "tags": []
          },
          "execution_count": 139
        },
        {
          "output_type": "display_data",
          "data": {
            "image/png": "[encoded data removed]",
            "text/plain": [
              "<Figure size 432x288 with 1 Axes>"
            ]
          },
          "metadata": {
            "tags": []
          }
        }
      ]
    },
    {
      "cell_type": "markdown",
      "metadata": {
        "id": "-_ytDyV0N9bh",
        "colab_type": "text"
      },
      "source": [
        "### Joint Probability & conditional probability"
      ]
    },
    {
      "cell_type": "code",
      "metadata": {
        "id": "9fNlSkn13crY",
        "colab_type": "code",
        "outputId": "e7c2dcce-dafb-4cd1-e13f-c66159b05054",
        "colab": {
          "base_uri": "https://localhost:8080/",
          "height": 308
        }
      },
      "source": [
        "# calculate P(A, B)\n",
        "x_0 = np.random.binomial(2, 0.5, 1000)\n",
        "print(x_0[:5])\n",
        "p_ab = sum(x_0 == 2) / len(x_0)\n",
        "plt.hist(x_0)\n",
        "print(p_ab)"
      ],
      "execution_count": 0,
      "outputs": [
        {
          "output_type": "stream",
          "text": [
            "[1 1 1 2 0]\n",
            "0.241\n"
          ],
          "name": "stdout"
        },
        {
          "output_type": "display_data",
          "data": {
            "image/png": "[encoded data removed]",
            "text/plain": [
              "<Figure size 432x288 with 1 Axes>"
            ]
          },
          "metadata": {
            "tags": []
          }
        }
      ]
    },
    {
      "cell_type": "code",
      "metadata": {
        "id": "vPHvm_LQpcJ0",
        "colab_type": "code",
        "outputId": "c36f7967-fa4b-4cd0-f1f9-6189414a51a9",
        "colab": {
          "base_uri": "https://localhost:8080/",
          "height": 34
        }
      },
      "source": [
        "# calculate P(A)P(B)\n",
        "\n",
        "x_1 = np.random.binomial(1, 0.5, 10000)\n",
        "x_2 = np.random.binomial(1, 0.5, 10000)\n",
        "\n",
        "p_a = sum(x_1) / len(x_1)\n",
        "p_b = sum(x_2) / len(x_2)\n",
        "\n",
        "p_a * p_b"
      ],
      "execution_count": 0,
      "outputs": [
        {
          "output_type": "execute_result",
          "data": {
            "text/plain": [
              "0.25550816"
            ]
          },
          "metadata": {
            "tags": []
          },
          "execution_count": 141
        }
      ]
    },
    {
      "cell_type": "markdown",
      "metadata": {
        "id": "OkX5Y6g3rOX1",
        "colab_type": "text"
      },
      "source": [
        "### Conditional Probability"
      ]
    },
    {
      "cell_type": "code",
      "metadata": {
        "id": "4cyoQwW8pcGv",
        "colab_type": "code",
        "outputId": "98767bee-9ac4-488c-ae31-d624273cd677",
        "colab": {
          "base_uri": "https://localhost:8080/",
          "height": 215
        }
      },
      "source": [
        "df_fortis = df_12.loc[df_12['species'] == 'fortis']\n",
        "print(df_fortis.head(3))\n",
        "b = sum(df_fortis['blength'] > 10) / len(df_fortis)\n",
        "b"
      ],
      "execution_count": 0,
      "outputs": [
        {
          "output_type": "error",
          "ename": "NameError",
          "evalue": "ignored",
          "traceback": [
            "\u001b[0;31m---------------------------------------------------------------------------\u001b[0m",
            "\u001b[0;31mNameError\u001b[0m                                 Traceback (most recent call last)",
            "\u001b[0;32m<ipython-input-11-e0e4c7104168>\u001b[0m in \u001b[0;36m<module>\u001b[0;34m()\u001b[0m\n\u001b[0;32m----> 1\u001b[0;31m \u001b[0mdf_fortis\u001b[0m \u001b[0;34m=\u001b[0m \u001b[0mdf_12\u001b[0m\u001b[0;34m.\u001b[0m\u001b[0mloc\u001b[0m\u001b[0;34m[\u001b[0m\u001b[0mdf_12\u001b[0m\u001b[0;34m[\u001b[0m\u001b[0;34m'species'\u001b[0m\u001b[0;34m]\u001b[0m \u001b[0;34m==\u001b[0m \u001b[0;34m'fortis'\u001b[0m\u001b[0;34m]\u001b[0m\u001b[0;34m\u001b[0m\u001b[0;34m\u001b[0m\u001b[0m\n\u001b[0m\u001b[1;32m      2\u001b[0m \u001b[0mprint\u001b[0m\u001b[0;34m(\u001b[0m\u001b[0mdf_fortis\u001b[0m\u001b[0;34m.\u001b[0m\u001b[0mhead\u001b[0m\u001b[0;34m(\u001b[0m\u001b[0;36m3\u001b[0m\u001b[0;34m)\u001b[0m\u001b[0;34m)\u001b[0m\u001b[0;34m\u001b[0m\u001b[0;34m\u001b[0m\u001b[0m\n\u001b[1;32m      3\u001b[0m \u001b[0mb\u001b[0m \u001b[0;34m=\u001b[0m \u001b[0msum\u001b[0m\u001b[0;34m(\u001b[0m\u001b[0mdf_fortis\u001b[0m\u001b[0;34m[\u001b[0m\u001b[0;34m'blength'\u001b[0m\u001b[0;34m]\u001b[0m \u001b[0;34m>\u001b[0m \u001b[0;36m10\u001b[0m\u001b[0;34m)\u001b[0m \u001b[0;34m/\u001b[0m \u001b[0mlen\u001b[0m\u001b[0;34m(\u001b[0m\u001b[0mdf_fortis\u001b[0m\u001b[0;34m)\u001b[0m\u001b[0;34m\u001b[0m\u001b[0;34m\u001b[0m\u001b[0m\n\u001b[1;32m      4\u001b[0m \u001b[0mb\u001b[0m\u001b[0;34m\u001b[0m\u001b[0;34m\u001b[0m\u001b[0m\n",
            "\u001b[0;31mNameError\u001b[0m: name 'df_12' is not defined"
          ]
        }
      ]
    },
    {
      "cell_type": "code",
      "metadata": {
        "id": "6VT3bhlZpcDT",
        "colab_type": "code",
        "outputId": "6e5ba679-9430-44d8-b390-d3b616cb75ba",
        "colab": {
          "base_uri": "https://localhost:8080/",
          "height": 34
        }
      },
      "source": [
        "beak_length_gt_10 = df_12['blength'] > 10\n",
        "p_beak_length_gt_10 = sum(beak_length_gt_10) / len(df_12)\n",
        "p_beak_length_gt_10"
      ],
      "execution_count": 0,
      "outputs": [
        {
          "output_type": "execute_result",
          "data": {
            "text/plain": [
              "0.8508064516129032"
            ]
          },
          "metadata": {
            "tags": []
          },
          "execution_count": 145
        }
      ]
    },
    {
      "cell_type": "code",
      "metadata": {
        "id": "CMMlpzc3pb4d",
        "colab_type": "code",
        "outputId": "67a70a59-409d-468e-99c9-1d73fd41d6cb",
        "colab": {
          "base_uri": "https://localhost:8080/",
          "height": 136
        }
      },
      "source": [
        "df_scandens = df_12.loc[df_12['species'] == 'scandens']\n",
        "print(df_scandens.head(5))\n",
        "b = sum(df_scandens['blength'] > 10) / len(df_scandens)\n",
        "b"
      ],
      "execution_count": 0,
      "outputs": [
        {
          "output_type": "stream",
          "text": [
            "      band   species  blength  bdepth\n",
            "121  19026  scandens     14.3     9.4\n",
            "122  19028  scandens     12.5     8.9\n",
            "123  19029  scandens     13.7     9.5\n",
            "124  19094  scandens     13.8    11.0\n",
            "125  19122  scandens     12.0     8.7\n"
          ],
          "name": "stdout"
        },
        {
          "output_type": "execute_result",
          "data": {
            "text/plain": [
              "1.0"
            ]
          },
          "metadata": {
            "tags": []
          },
          "execution_count": 153
        }
      ]
    },
    {
      "cell_type": "markdown",
      "metadata": {
        "id": "tayupzvI0Jrg",
        "colab_type": "text"
      },
      "source": [
        "## 3. Joint Probability & Conditional Probability\n",
        "\n",
        "### Joint Probability\n",
        "\n",
        "P(A, B) is the probability of two events A and B both occurring. i.e. Tow heads in a row.\n",
        "\n",
        "If A and B are independent, then P(A, B) = P(A)P(B)\n"
      ]
    },
    {
      "cell_type": "markdown",
      "metadata": {
        "id": "jJ9esC4U03p3",
        "colab_type": "text"
      },
      "source": [
        "**JOINT PROBABILITY COIN FLIPPING**\n",
        "\n",
        "Verify that $P(A,B)=P(A)P(B)$ in the two fair coin-flip case (A=heads, B=heads) by\n",
        "\n",
        "first simulating two coins being flipped together and calculating the proportion of occurences with two heads;\n",
        "then simulating one coin flip and calculating the proportion of heads and then doing that again and multiplying the two proportions.\n",
        "Your two calculations should give \"pretty close\" results and not the same results due to the (in)accuracy of simulation"
      ]
    },
    {
      "cell_type": "code",
      "metadata": {
        "id": "5i1krDK00JkM",
        "colab_type": "code",
        "outputId": "ec3ccc5b-ba00-4402-f303-3051981ebbc8",
        "colab": {
          "base_uri": "https://localhost:8080/",
          "height": 291
        }
      },
      "source": [
        "# Calculate P(A,B)\n",
        "# Generate data of 2 coins flipped together 10,000 times\n",
        "x_0 = np.random.binomial(2, 0.5, 10000) \n",
        "p_ab = sum(x_0 == 2) / len(x_0)\n",
        "# Plot histogram of results\n",
        "plt.hist(x_0, density=True)\n",
        "print(p_ab)"
      ],
      "execution_count": 0,
      "outputs": [
        {
          "output_type": "stream",
          "text": [
            "0.2443\n"
          ],
          "name": "stdout"
        },
        {
          "output_type": "display_data",
          "data": {
            "image/png": "[encoded data removed]",
            "text/plain": [
              "<Figure size 432x288 with 1 Axes>"
            ]
          },
          "metadata": {
            "tags": []
          }
        }
      ]
    },
    {
      "cell_type": "code",
      "metadata": {
        "id": "Xc7d10lt0JVO",
        "colab_type": "code",
        "outputId": "d90c7fc7-603a-471c-d080-cdfd7049f3ab",
        "colab": {
          "base_uri": "https://localhost:8080/",
          "height": 34
        }
      },
      "source": [
        "# Calculate P(A)P(B)\n",
        "x_1 = np.random.binomial(1,0.5,10000)\n",
        "x_2 = np.random.binomial(1,0.5,10000)\n",
        "p_a = sum(x_1) / len(x_1)\n",
        "p_b = sum(x_2) / len(x_2)\n",
        "p_a*p_b"
      ],
      "execution_count": 0,
      "outputs": [
        {
          "output_type": "execute_result",
          "data": {
            "text/plain": [
              "0.24324624000000003"
            ]
          },
          "metadata": {
            "tags": []
          },
          "execution_count": 10
        }
      ]
    },
    {
      "cell_type": "markdown",
      "metadata": {
        "id": "FshxE71x0JNs",
        "colab_type": "text"
      },
      "source": [
        "Note: In order to use such simulation and hacker statistics approaches to \"prove\" results such as the above, we're gliding over several coupled and deep technicalities. This is in the interests of the pedagogical nature of this introduction. For the sake of completeness, we'll mention that we're essentially\n",
        "\n",
        "Using the proportion in our simulations as a proxy for the probability which is useful to allow you to start getting your hands dirty with probability via simluation.\n",
        "Having stated this, for ease of instruction, we'll continue to do so when thinking about joint & conditional probabilities of both simulated and real data."
      ]
    },
    {
      "cell_type": "markdown",
      "metadata": {
        "id": "atM02Eo2-l1X",
        "colab_type": "text"
      },
      "source": [
        "**Conditional Probability**\n",
        "\n",
        "Now that we have a grasp on joint probabilities, lets consider conditional probabilities, that is, the probability of some $A$, knowing that some other $B$ is true. We use the notation $P(A|B)$ to denote this. For example, you can ask the question \"What is the probability of a finch beak having depth < 10, knowing that the finch of of species 'fortis'?\"\n",
        "\n",
        "Example: conditional probability for birds\n",
        "\n",
        "1. What is the probability of a finch beak having depth > 10 ?\n",
        "2. What if we know the finch is of species 'fortis'?\n",
        "3. What if we know the finch is of species 'scandens'?"
      ]
    },
    {
      "cell_type": "code",
      "metadata": {
        "id": "3LrikZ6y0JEe",
        "colab_type": "code",
        "outputId": "87e446a9-0d8f-4ab5-8aba-5344f045ec6c",
        "colab": {
          "base_uri": "https://localhost:8080/",
          "height": 34
        }
      },
      "source": [
        "# p(a) -> beak_depth_gt_10\n",
        "p_a = sum(df_12['blength'] > 10) / len(df_12)\n",
        "\n",
        "# p(b) -> fink is a 'fortis' (SUBSET)\n",
        "df_fortis = df_12.loc[df_12['species'] == 'fortis']\n",
        "p_fortis = len(df_fortis) / len(df_12)\n",
        "\n",
        "sum(df_fortis['blength'] > 10) / len(df_fortis )\n"
      ],
      "execution_count": 0,
      "outputs": [
        {
          "output_type": "execute_result",
          "data": {
            "text/plain": [
              "0.6942148760330579"
            ]
          },
          "metadata": {
            "tags": []
          },
          "execution_count": 27
        }
      ]
    },
    {
      "cell_type": "markdown",
      "metadata": {
        "id": "Hc0eIvtw0I6r",
        "colab_type": "text"
      },
      "source": [
        "#### Joint and conditional probabilities\n",
        "\n",
        "Conditional and joint probabilites are related by the following:$$ P(A,B) = P(A|B)P(B)$$"
      ]
    },
    {
      "cell_type": "markdown",
      "metadata": {
        "id": "55epdeq1XFOl",
        "colab_type": "text"
      },
      "source": [
        "#### Case: Drug Testing\n",
        "\n",
        "\n",
        "Question: Suppose that a test for using a particular drug is 99% sensitive and 99% specific. That is, the test will produce 99% true positive results for drug users and 99% true negative results for non-drug users. Suppose that 0.5% (5 in 1,000) of people are users of the drug. What is the probability that a randomly selected individual with a positive test is a drug user?\n",
        "\n",
        "If we can answer this, it will be really cool as it shows how we can move from knowing $P(+|user)$ to $P(user|+)$, a MVP for being able to move from $P(data|model)$ to $P(model|data)$.\n",
        "\n",
        "In the spirit of this workshop, it's now time to harness your computational power and the intuition of simulation to solve this drug testing example.\n",
        "\n",
        "Before doing so, what do you think the answer to the question \"What is the probability that a randomly selected individual with a positive test is a drug user?\" is? Write down your guess."
      ]
    },
    {
      "cell_type": "code",
      "metadata": {
        "id": "4k7RVNwkXE2H",
        "colab_type": "code",
        "outputId": "3f7ce99c-2be9-4043-83ef-33abb1a1f8ce",
        "colab": {
          "base_uri": "https://localhost:8080/",
          "height": 51
        }
      },
      "source": [
        "\n",
        "# Take 10,000 subjects\n",
        "n = 100000\n",
        "# Sample for number of users, non-users\n",
        "users = np.random.binomial(n, p=0.005)\n",
        "non_users = n - users\n",
        "\n",
        "print('users', users)\n",
        "print('non users', non_users)"
      ],
      "execution_count": 0,
      "outputs": [
        {
          "output_type": "stream",
          "text": [
            "users 488\n",
            "non users 99512\n"
          ],
          "name": "stdout"
        }
      ]
    },
    {
      "cell_type": "code",
      "metadata": {
        "id": "ZNcpKH3O0IwQ",
        "colab_type": "code",
        "outputId": "75476b30-f1eb-4d7d-91ec-6b2de1201f6f",
        "colab": {
          "base_uri": "https://localhost:8080/",
          "height": 51
        }
      },
      "source": [
        "# How many of these users tested +ve ?\n",
        "u_pos = np.random.binomial(users, 0.99)\n",
        "# How many of these non-users tested +ve ?\n",
        "non_pos = np.random.binomial(users, 0.01)\n",
        "\n",
        "print('u_pos:', u_pos)\n",
        "print('non_pos:', non_pos)\n"
      ],
      "execution_count": 0,
      "outputs": [
        {
          "output_type": "stream",
          "text": [
            "u_pos: 480\n",
            "non_pos: 4\n"
          ],
          "name": "stdout"
        }
      ]
    }
  ]
}