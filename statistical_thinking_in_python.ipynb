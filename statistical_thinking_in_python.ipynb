{
  "nbformat": 4,
  "nbformat_minor": 0,
  "metadata": {
    "colab": {
      "name": "statistical-thinking-in-python.ipynb",
      "provenance": [],
      "collapsed_sections": [],
      "include_colab_link": true
    },
    "kernelspec": {
      "name": "python3",
      "display_name": "Python 3"
    }
  },
  "cells": [
    {
      "cell_type": "markdown",
      "metadata": {
        "id": "view-in-github",
        "colab_type": "text"
      },
      "source": [
        "<a href=\"https://colab.research.google.com/github/martin-fabbri/colab-notebooks/blob/master/statistical_thinking_in_python.ipynb\" target=\"_parent\"><img src=\"https://colab.research.google.com/assets/colab-badge.svg\" alt=\"Open In Colab\"/></a>"
      ]
    },
    {
      "cell_type": "markdown",
      "metadata": {
        "id": "lZ0aCrSWWPc-",
        "colab_type": "text"
      },
      "source": [
        "# Statistical thinking in Python"
      ]
    },
    {
      "cell_type": "markdown",
      "metadata": {
        "id": "M3IKTRWcPoIc",
        "colab_type": "text"
      },
      "source": [
        "## Exploratory Data Analysis"
      ]
    },
    {
      "cell_type": "code",
      "metadata": {
        "id": "5vGHijTaPlhO",
        "colab_type": "code",
        "colab": {}
      },
      "source": [
        "import matplotlib.pyplot as plt\n",
        "import seaborn as sns\n",
        "import numpy as np\n",
        "import pandas as pd\n",
        "\n",
        "from sklearn.datasets import load_iris\n",
        "from math import sqrt\n",
        "from scipy import stats\n",
        "sns.set()"
      ],
      "execution_count": 0,
      "outputs": []
    },
    {
      "cell_type": "code",
      "metadata": {
        "id": "Gf4Lp8JvOWGi",
        "colab_type": "code",
        "outputId": "f5f0ad30-a52e-4ab3-d73e-0dc07f48ecf3",
        "colab": {
          "base_uri": "https://localhost:8080/",
          "height": 140
        }
      },
      "source": [
        "iris = load_iris()\n",
        "data = iris.data\n",
        "target = iris.target\n",
        "\n",
        "sentosa_samples = data[target == 0]\n",
        "versicolor_samples = data[target == 1]\n",
        "virginica_samples = data[target == 2]\n",
        "\n",
        "setosa_petal_length = sentosa_samples[:,0]\n",
        "versicolor_petal_length = versicolor_samples[:,0]\n",
        "virginica_petal_length = virginica_samples[:,0]\n",
        "\n",
        "setosa_petal_width = sentosa_samples[:,3]\n",
        "versicolor_petal_width = versicolor_samples[:,3]\n",
        "virginica_petal_width = virginica_samples[:,3]\n",
        "\n",
        "iris_df = pd.DataFrame(data=np.c_[iris['data'], iris['target']], \n",
        "                       columns=iris['feature_names'] + ['target'])\n",
        "iris_df.head(3)"
      ],
      "execution_count": 0,
      "outputs": [
        {
          "output_type": "execute_result",
          "data": {
            "text/html": [
              "<div>\n",
              "<style scoped>\n",
              "    .dataframe tbody tr th:only-of-type {\n",
              "        vertical-align: middle;\n",
              "    }\n",
              "\n",
              "    .dataframe tbody tr th {\n",
              "        vertical-align: top;\n",
              "    }\n",
              "\n",
              "    .dataframe thead th {\n",
              "        text-align: right;\n",
              "    }\n",
              "</style>\n",
              "<table border=\"1\" class=\"dataframe\">\n",
              "  <thead>\n",
              "    <tr style=\"text-align: right;\">\n",
              "      <th></th>\n",
              "      <th>sepal length (cm)</th>\n",
              "      <th>sepal width (cm)</th>\n",
              "      <th>petal length (cm)</th>\n",
              "      <th>petal width (cm)</th>\n",
              "      <th>target</th>\n",
              "    </tr>\n",
              "  </thead>\n",
              "  <tbody>\n",
              "    <tr>\n",
              "      <th>0</th>\n",
              "      <td>5.1</td>\n",
              "      <td>3.5</td>\n",
              "      <td>1.4</td>\n",
              "      <td>0.2</td>\n",
              "      <td>0.0</td>\n",
              "    </tr>\n",
              "    <tr>\n",
              "      <th>1</th>\n",
              "      <td>4.9</td>\n",
              "      <td>3.0</td>\n",
              "      <td>1.4</td>\n",
              "      <td>0.2</td>\n",
              "      <td>0.0</td>\n",
              "    </tr>\n",
              "    <tr>\n",
              "      <th>2</th>\n",
              "      <td>4.7</td>\n",
              "      <td>3.2</td>\n",
              "      <td>1.3</td>\n",
              "      <td>0.2</td>\n",
              "      <td>0.0</td>\n",
              "    </tr>\n",
              "  </tbody>\n",
              "</table>\n",
              "</div>"
            ],
            "text/plain": [
              "   sepal length (cm)  sepal width (cm)  ...  petal width (cm)  target\n",
              "0                5.1               3.5  ...               0.2     0.0\n",
              "1                4.9               3.0  ...               0.2     0.0\n",
              "2                4.7               3.2  ...               0.2     0.0\n",
              "\n",
              "[3 rows x 5 columns]"
            ]
          },
          "metadata": {
            "tags": []
          },
          "execution_count": 95
        }
      ]
    },
    {
      "cell_type": "code",
      "metadata": {
        "id": "0WYqBt6EWeye",
        "colab_type": "code",
        "outputId": "42ca4765-266e-4b64-baca-80ff4ce1c822",
        "colab": {
          "base_uri": "https://localhost:8080/",
          "height": 285
        }
      },
      "source": [
        "plt.xlabel('Petal length (cm)')\n",
        "plt.ylabel('Count')\n",
        "plt.hist(versicolor_petal_length);"
      ],
      "execution_count": 0,
      "outputs": [
        {
          "output_type": "display_data",
          "data": {
            "image/png": "[encoded data removed]",
            "text/plain": [
              "<Figure size 432x288 with 1 Axes>"
            ]
          },
          "metadata": {
            "tags": []
          }
        }
      ]
    },
    {
      "cell_type": "code",
      "metadata": {
        "id": "falcouIWWevu",
        "colab_type": "code",
        "outputId": "85e465e5-6d0e-402b-9db9-6b9865b6583c",
        "colab": {
          "base_uri": "https://localhost:8080/",
          "height": 34
        }
      },
      "source": [
        "n_data = len(versicolor_petal_length)\n",
        "n_bins = int(sqrt(n_data))\n",
        "\n",
        "print(f'Number on bins: {n_bins}')"
      ],
      "execution_count": 0,
      "outputs": [
        {
          "output_type": "stream",
          "text": [
            "Number on bins: 7\n"
          ],
          "name": "stdout"
        }
      ]
    },
    {
      "cell_type": "code",
      "metadata": {
        "id": "WchZSW9GWetZ",
        "colab_type": "code",
        "outputId": "dcc2f800-9d32-4b82-e844-163b115281e2",
        "colab": {
          "base_uri": "https://localhost:8080/",
          "height": 268
        }
      },
      "source": [
        "plt.hist(versicolor_petal_length, bins=n_bins);"
      ],
      "execution_count": 0,
      "outputs": [
        {
          "output_type": "display_data",
          "data": {
            "image/png": "[encoded data removed]",
            "text/plain": [
              "<Figure size 432x288 with 1 Axes>"
            ]
          },
          "metadata": {
            "tags": []
          }
        }
      ]
    },
    {
      "cell_type": "code",
      "metadata": {
        "id": "ayYiHV2uWeqs",
        "colab_type": "code",
        "outputId": "3ca5eefb-9d5b-4a55-8e98-a63ca76c9831",
        "colab": {
          "base_uri": "https://localhost:8080/",
          "height": 285
        }
      },
      "source": [
        "sns.swarmplot(x='target', y='petal length (cm)', data=iris_df);"
      ],
      "execution_count": 0,
      "outputs": [
        {
          "output_type": "display_data",
          "data": {
            "image/png": "[encoded data removed]",
            "text/plain": [
              "<Figure size 432x288 with 1 Axes>"
            ]
          },
          "metadata": {
            "tags": []
          }
        }
      ]
    },
    {
      "cell_type": "code",
      "metadata": {
        "id": "sBrca77tWenX",
        "colab_type": "code",
        "colab": {}
      },
      "source": [
        "def ecdf(data):\n",
        "  \"\"\"Compute ECDF fro a one-dimensional array of measurements.\"\"\"\n",
        "  n = len(data)\n",
        "  x = np.sort(data)\n",
        "  y = np.arange(1, n+1) / n\n",
        "  return x, y\n"
      ],
      "execution_count": 0,
      "outputs": []
    },
    {
      "cell_type": "code",
      "metadata": {
        "id": "RnV2HHu1WekX",
        "colab_type": "code",
        "outputId": "0325aa15-31c7-4dfd-8890-b16e90f4c4bc",
        "colab": {
          "base_uri": "https://localhost:8080/",
          "height": 285
        }
      },
      "source": [
        "x_vers, y_vers = ecdf(versicolor_petal_length)\n",
        "\n",
        "plt.plot(x_vers, y_vers, marker='.', linestyle='none')\n",
        "plt.margins(0.02)\n",
        "\n",
        "plt.xlabel('petal length (cm)')\n",
        "plt.ylabel('ECDF');"
      ],
      "execution_count": 0,
      "outputs": [
        {
          "output_type": "display_data",
          "data": {
            "image/png": "[encoded data removed]",
            "text/plain": [
              "<Figure size 432x288 with 1 Axes>"
            ]
          },
          "metadata": {
            "tags": []
          }
        }
      ]
    },
    {
      "cell_type": "code",
      "metadata": {
        "id": "EG669HWDWehb",
        "colab_type": "code",
        "outputId": "d78234da-2bca-418b-d583-02551276d38d",
        "colab": {
          "base_uri": "https://localhost:8080/",
          "height": 268
        }
      },
      "source": [
        "x_set, y_set = ecdf(setosa_petal_length)\n",
        "x_vers, y_vers = ecdf(versicolor_petal_length)\n",
        "x_virg, y_virg = ecdf(virginica_petal_length)\n",
        "\n",
        "plt.plot(x_set, y_set, marker='.', linestyle='none')\n",
        "plt.plot(x_vers, y_vers, marker='.', linestyle='none')\n",
        "plt.plot(x_virg, y_virg, marker='.', linestyle='none')\n",
        "\n",
        "plt.legend(('setosa', 'versicolor', 'virginica'), loc='lower right');\n"
      ],
      "execution_count": 0,
      "outputs": [
        {
          "output_type": "display_data",
          "data": {
            "image/png": "[encoded data removed]",
            "text/plain": [
              "<Figure size 432x288 with 1 Axes>"
            ]
          },
          "metadata": {
            "tags": []
          }
        }
      ]
    },
    {
      "cell_type": "code",
      "metadata": {
        "id": "5CJ3rgQ1lYx-",
        "colab_type": "code",
        "outputId": "7cc2c20b-5fa3-4dea-b924-0592cbb090ba",
        "colab": {
          "base_uri": "https://localhost:8080/",
          "height": 34
        }
      },
      "source": [
        "mean_length_vers = np.mean(versicolor_petal_length)\n",
        "print(f'I. versicolor: {mean_length_vers} cm')"
      ],
      "execution_count": 0,
      "outputs": [
        {
          "output_type": "stream",
          "text": [
            "I. versicolor: 5.936 cm\n"
          ],
          "name": "stdout"
        }
      ]
    },
    {
      "cell_type": "code",
      "metadata": {
        "id": "IO2QLJEFlYvD",
        "colab_type": "code",
        "colab": {}
      },
      "source": [
        "percentiles = np.array([2.5, 25, 50, 75, 97.5])\n",
        "ptiles_vers = np.percentile(versicolor_petal_length, percentiles)"
      ],
      "execution_count": 0,
      "outputs": []
    },
    {
      "cell_type": "code",
      "metadata": {
        "id": "MvRl9nv3lYsR",
        "colab_type": "code",
        "outputId": "547f1261-b8ff-434a-8b61-2f96c66b8624",
        "colab": {
          "base_uri": "https://localhost:8080/",
          "height": 285
        }
      },
      "source": [
        "plt.plot(x_vers, y_vers, '.')\n",
        "plt.xlabel('petal length (cm)')\n",
        "plt.ylabel('ECDF')\n",
        "plt.plot(ptiles_vers, percentiles / 100, marker='D', color='red', linestyle='none');"
      ],
      "execution_count": 0,
      "outputs": [
        {
          "output_type": "display_data",
          "data": {
            "image/png": "[encoded data removed]",
            "text/plain": [
              "<Figure size 432x288 with 1 Axes>"
            ]
          },
          "metadata": {
            "tags": []
          }
        }
      ]
    },
    {
      "cell_type": "code",
      "metadata": {
        "id": "9dbwjdYElYpq",
        "colab_type": "code",
        "outputId": "409c7230-e630-497b-e31f-ad3695279b55",
        "colab": {
          "base_uri": "https://localhost:8080/",
          "height": 285
        }
      },
      "source": [
        "sns.boxplot(x='target', y='petal length (cm)', data=iris_df);"
      ],
      "execution_count": 0,
      "outputs": [
        {
          "output_type": "display_data",
          "data": {
            "image/png": "[encoded data removed]",
            "text/plain": [
              "<Figure size 432x288 with 1 Axes>"
            ]
          },
          "metadata": {
            "tags": []
          }
        }
      ]
    },
    {
      "cell_type": "markdown",
      "metadata": {
        "id": "M201284iNZ3q",
        "colab_type": "text"
      },
      "source": [
        "## Computing variance"
      ]
    },
    {
      "cell_type": "code",
      "metadata": {
        "id": "ikCPHSX3NY4Q",
        "colab_type": "code",
        "outputId": "68679103-fe90-4b7e-a7df-f09b456c346c",
        "colab": {
          "base_uri": "https://localhost:8080/",
          "height": 34
        }
      },
      "source": [
        "differences = versicolor_petal_length - np.mean(versicolor_petal_length)\n",
        "diff_sq = differences ** 2\n",
        "variance_explicit = np.mean(diff_sq)\n",
        "variance_np = np.var(versicolor_petal_length)\n",
        "\n",
        "variance_explicit, variance_np"
      ],
      "execution_count": 0,
      "outputs": [
        {
          "output_type": "execute_result",
          "data": {
            "text/plain": [
              "(0.261104, 0.261104)"
            ]
          },
          "metadata": {
            "tags": []
          },
          "execution_count": 107
        }
      ]
    },
    {
      "cell_type": "code",
      "metadata": {
        "id": "zxRu1dmMNY0y",
        "colab_type": "code",
        "outputId": "0de06007-5d6a-4282-a016-70f6fe12267f",
        "colab": {
          "base_uri": "https://localhost:8080/",
          "height": 285
        }
      },
      "source": [
        "plt.plot(versicolor_petal_length, versicolor_petal_width, marker='.', linestyle='none')\n",
        "plt.xlabel('Petal length')\n",
        "plt.ylabel('Petal width');"
      ],
      "execution_count": 0,
      "outputs": [
        {
          "output_type": "display_data",
          "data": {
            "image/png": "[encoded data removed]",
            "text/plain": [
              "<Figure size 432x288 with 1 Axes>"
            ]
          },
          "metadata": {
            "tags": []
          }
        }
      ]
    },
    {
      "cell_type": "code",
      "metadata": {
        "id": "pDIeIX-dNYx7",
        "colab_type": "code",
        "outputId": "9a78b5a2-5309-4571-8e30-20301d0fe0ca",
        "colab": {
          "base_uri": "https://localhost:8080/",
          "height": 70
        }
      },
      "source": [
        "covariance_matrix = np.cov(versicolor_petal_length, versicolor_petal_width)\n",
        "print(covariance_matrix)\n",
        "\n",
        "petal_cov = covariance_matrix[0,1]\n",
        "print(petal_cov)"
      ],
      "execution_count": 0,
      "outputs": [
        {
          "output_type": "stream",
          "text": [
            "[[0.26643265 0.05577959]\n",
            " [0.05577959 0.03910612]]\n",
            "0.05577959183673469\n"
          ],
          "name": "stdout"
        }
      ]
    },
    {
      "cell_type": "code",
      "metadata": {
        "id": "Nq3bZR2NlYmG",
        "colab_type": "code",
        "outputId": "24191642-5fdc-45ca-afd8-d5790253f111",
        "colab": {
          "base_uri": "https://localhost:8080/",
          "height": 34
        }
      },
      "source": [
        "def pearson(x, y):\n",
        "  corr_mat = np.corrcoef(x, y)\n",
        "  return corr_mat[0, 1]\n",
        "\n",
        "r = pearson(versicolor_petal_length, versicolor_petal_width)\n",
        "\n",
        "print(r)"
      ],
      "execution_count": 0,
      "outputs": [
        {
          "output_type": "stream",
          "text": [
            "0.5464610715986299\n"
          ],
          "name": "stdout"
        }
      ]
    },
    {
      "cell_type": "markdown",
      "metadata": {
        "id": "ACaMjwcpmhGo",
        "colab_type": "text"
      },
      "source": [
        "## Thinking probabilistically-- Continuous variables"
      ]
    },
    {
      "cell_type": "code",
      "metadata": {
        "id": "5i3tK8Iqmg4y",
        "colab_type": "code",
        "outputId": "d6487ecd-7c78-4cf9-9c0b-5b4af281bedf",
        "colab": {
          "base_uri": "https://localhost:8080/",
          "height": 268
        }
      },
      "source": [
        "np.random.seed(42)\n",
        "\n",
        "sim_size = 100000\n",
        "\n",
        "random_numbers = np.empty(sim_size)\n",
        "for i in range(sim_size):\n",
        "  random_numbers[i] = np.random.random()\n",
        "\n",
        "plt.hist(random_numbers);"
      ],
      "execution_count": 0,
      "outputs": [
        {
          "output_type": "display_data",
          "data": {
            "image/png": "[encoded data removed]",
            "text/plain": [
              "<Figure size 432x288 with 1 Axes>"
            ]
          },
          "metadata": {
            "tags": []
          }
        }
      ]
    },
    {
      "cell_type": "code",
      "metadata": {
        "id": "9VKlarGsmg3R",
        "colab_type": "code",
        "colab": {}
      },
      "source": [
        "def perform_bernoulli_trials(n, p):\n",
        "  n_success = 0\n",
        "  trials = np.random.random(n)\n",
        "  success = trials < p\n",
        "  return success.sum()\n"
      ],
      "execution_count": 0,
      "outputs": []
    },
    {
      "cell_type": "code",
      "metadata": {
        "id": "bxHxXasGmgzv",
        "colab_type": "code",
        "outputId": "9c118185-fd32-4951-8122-3cf0fe811bb3",
        "colab": {
          "base_uri": "https://localhost:8080/",
          "height": 34
        }
      },
      "source": [
        "perform_bernoulli_trials(3, 0.5)"
      ],
      "execution_count": 0,
      "outputs": [
        {
          "output_type": "execute_result",
          "data": {
            "text/plain": [
              "1"
            ]
          },
          "metadata": {
            "tags": []
          },
          "execution_count": 113
        }
      ]
    },
    {
      "cell_type": "code",
      "metadata": {
        "id": "7IQm4Ve2mgwL",
        "colab_type": "code",
        "outputId": "ecdc995b-bc5b-4bcc-f70a-f5e3f7470890",
        "colab": {
          "base_uri": "https://localhost:8080/",
          "height": 376
        }
      },
      "source": [
        "np.random.seed(42)\n",
        "n_defaults = np.array([perform_bernoulli_trials(100, 0.05) for _ in range(1000)])\n",
        "plt.hist(n_defaults, normed=True)\n",
        "plt.xlabel('number of defaults our of 100 loans')\n",
        "plt.ylabel('probability')"
      ],
      "execution_count": 0,
      "outputs": [
        {
          "output_type": "stream",
          "text": [
            "/usr/local/lib/python3.6/dist-packages/ipykernel_launcher.py:3: MatplotlibDeprecationWarning: \n",
            "The 'normed' kwarg was deprecated in Matplotlib 2.1 and will be removed in 3.1. Use 'density' instead.\n",
            "  This is separate from the ipykernel package so we can avoid doing imports until\n"
          ],
          "name": "stderr"
        },
        {
          "output_type": "execute_result",
          "data": {
            "text/plain": [
              "Text(0, 0.5, 'probability')"
            ]
          },
          "metadata": {
            "tags": []
          },
          "execution_count": 114
        },
        {
          "output_type": "display_data",
          "data": {
            "image/png": "[encoded data removed]",
            "text/plain": [
              "<Figure size 432x288 with 1 Axes>"
            ]
          },
          "metadata": {
            "tags": []
          }
        }
      ]
    },
    {
      "cell_type": "code",
      "metadata": {
        "id": "JpUlG9PlmgQ1",
        "colab_type": "code",
        "outputId": "b009e859-d202-4896-e10f-643f1ed4a2fe",
        "colab": {
          "base_uri": "https://localhost:8080/",
          "height": 285
        }
      },
      "source": [
        "x, y = ecdf(n_defaults)\n",
        "plt.plot(x, y, marker='.', linestyle='none')\n",
        "plt.xlabel('num defaults')\n",
        "plt.ylabel('defaults prob.');"
      ],
      "execution_count": 0,
      "outputs": [
        {
          "output_type": "display_data",
          "data": {
            "image/png": "[encoded data removed]",
            "text/plain": [
              "<Figure size 432x288 with 1 Axes>"
            ]
          },
          "metadata": {
            "tags": []
          }
        }
      ]
    },
    {
      "cell_type": "code",
      "metadata": {
        "id": "VdeAYj3PwEwg",
        "colab_type": "code",
        "outputId": "8e3b18ab-3c66-4ed5-c903-0c7fc32f95e3",
        "colab": {
          "base_uri": "https://localhost:8080/",
          "height": 34
        }
      },
      "source": [
        "np.sum(n_defaults >= 10) / len(n_defaults)\n"
      ],
      "execution_count": 0,
      "outputs": [
        {
          "output_type": "execute_result",
          "data": {
            "text/plain": [
              "0.022"
            ]
          },
          "metadata": {
            "tags": []
          },
          "execution_count": 116
        }
      ]
    },
    {
      "cell_type": "code",
      "metadata": {
        "id": "faK8QSLRwEpl",
        "colab_type": "code",
        "outputId": "89c95ea0-7b2a-4436-d2d4-df2ac4bff761",
        "colab": {
          "base_uri": "https://localhost:8080/",
          "height": 34
        }
      },
      "source": [
        "np.random.binomial(4, 0.5, size=10)"
      ],
      "execution_count": 0,
      "outputs": [
        {
          "output_type": "execute_result",
          "data": {
            "text/plain": [
              "array([2, 2, 2, 2, 2, 2, 3, 3, 2, 2])"
            ]
          },
          "metadata": {
            "tags": []
          },
          "execution_count": 117
        }
      ]
    },
    {
      "cell_type": "code",
      "metadata": {
        "id": "ljY7nYW3wElV",
        "colab_type": "code",
        "outputId": "0b22be4e-0a7e-4f67-eb1d-4c6d370f9ac8",
        "colab": {
          "base_uri": "https://localhost:8080/",
          "height": 285
        }
      },
      "source": [
        "np.random.seed(42)\n",
        "\n",
        "n_defaults = np.random.binomial(n=100, p=0.05, size=10000)\n",
        "x, y = ecdf(n_defaults)\n",
        "\n",
        "plt.plot(x, y, marker='.', linestyle='none')\n",
        "plt.xlabel('defaults %')\n",
        "plt.ylabel('CDF');"
      ],
      "execution_count": 0,
      "outputs": [
        {
          "output_type": "display_data",
          "data": {
            "image/png": "[encoded data removed]",
            "text/plain": [
              "<Figure size 432x288 with 1 Axes>"
            ]
          },
          "metadata": {
            "tags": []
          }
        }
      ]
    },
    {
      "cell_type": "code",
      "metadata": {
        "id": "ZwTclnhBwEjL",
        "colab_type": "code",
        "outputId": "4d258e50-5497-46b3-c2ca-c3bc3a6158f5",
        "colab": {
          "base_uri": "https://localhost:8080/",
          "height": 358
        }
      },
      "source": [
        "bins = np.arange(0, max(n_defaults) + 1.5) - 0.5\n",
        "plt.hist(n_defaults, normed=True, bins=bins)\n",
        "plt.xlabel('defaults')\n",
        "plt.ylabel('PMF');"
      ],
      "execution_count": 0,
      "outputs": [
        {
          "output_type": "stream",
          "text": [
            "/usr/local/lib/python3.6/dist-packages/ipykernel_launcher.py:2: MatplotlibDeprecationWarning: \n",
            "The 'normed' kwarg was deprecated in Matplotlib 2.1 and will be removed in 3.1. Use 'density' instead.\n",
            "  \n"
          ],
          "name": "stderr"
        },
        {
          "output_type": "display_data",
          "data": {
            "image/png": "[encoded data removed]",
            "text/plain": [
              "<Figure size 432x288 with 1 Axes>"
            ]
          },
          "metadata": {
            "tags": []
          }
        }
      ]
    },
    {
      "cell_type": "code",
      "metadata": {
        "id": "mASiwjIawEfW",
        "colab_type": "code",
        "outputId": "fb8e02c8-8ce4-4bc3-9367-0022fd29a22e",
        "colab": {
          "base_uri": "https://localhost:8080/",
          "height": 52
        }
      },
      "source": [
        "samples_poisson = np.random.poisson(10, 1000)\n",
        "np.sort(np.unique(samples_poisson))"
      ],
      "execution_count": 0,
      "outputs": [
        {
          "output_type": "execute_result",
          "data": {
            "text/plain": [
              "array([ 3,  4,  5,  6,  7,  8,  9, 10, 11, 12, 13, 14, 15, 16, 17, 18, 19,\n",
              "       20, 22])"
            ]
          },
          "metadata": {
            "tags": []
          },
          "execution_count": 123
        }
      ]
    },
    {
      "cell_type": "code",
      "metadata": {
        "id": "yfVy1TufwEb8",
        "colab_type": "code",
        "outputId": "cc413db3-93de-44f2-a514-cc931a4f610c",
        "colab": {
          "base_uri": "https://localhost:8080/",
          "height": 54
        }
      },
      "source": [
        "stats.describe(samples_poisson)"
      ],
      "execution_count": 0,
      "outputs": [
        {
          "output_type": "execute_result",
          "data": {
            "text/plain": [
              "DescribeResult(nobs=1000, minmax=(3, 22), mean=9.996, variance=10.29628028028028, skewness=0.34700785112511734, kurtosis=0.07712341949064827)"
            ]
          },
          "metadata": {
            "tags": []
          },
          "execution_count": 127
        }
      ]
    },
    {
      "cell_type": "code",
      "metadata": {
        "id": "4AZD67xIwEYz",
        "colab_type": "code",
        "outputId": "f8285e4c-fcea-4080-9489-d75410f02b0b",
        "colab": {
          "base_uri": "https://localhost:8080/",
          "height": 70
        }
      },
      "source": [
        "n = [20, 100, 1000]\n",
        "p = [0.5, 0.1, 0.01]\n",
        "for i in range(3):\n",
        "  samples_binomial = np.random.binomial(n[i], p[i], 10000)\n",
        "  print('n =', n[i], 'Binom:', np.mean(samples_binomial),\n",
        "                                 np.std(samples_binomial))"
      ],
      "execution_count": 0,
      "outputs": [
        {
          "output_type": "stream",
          "text": [
            "n = 20 Binom: 10.0 2.2187383802512635\n",
            "n = 100 Binom: 9.9896 3.002614167687883\n",
            "n = 1000 Binom: 9.966 3.1473868526128146\n"
          ],
          "name": "stdout"
        }
      ]
    },
    {
      "cell_type": "markdown",
      "metadata": {
        "id": "08ShGDTYwHly",
        "colab_type": "text"
      },
      "source": [
        "Was 2015 anomalous?\n",
        "1990 and 2015 featured the most no-hitters of any season of baseball (there were seven). Given that there are on average 251/115 no-hitters per season, what is the probability of having seven or more in a season?"
      ]
    },
    {
      "cell_type": "code",
      "metadata": {
        "id": "5SkCgkUDwF-k",
        "colab_type": "code",
        "outputId": "5795841d-682e-497e-babc-b9e0a98311f9",
        "colab": {
          "base_uri": "https://localhost:8080/",
          "height": 52
        }
      },
      "source": [
        "n_nohitters = np.random.poisson(251/115, size=10000)\n",
        "n_large = np.sum(n_nohitters >= 7)\n",
        "print(f'n_large: {n_large}')\n",
        "p_large = n_large / 10000\n",
        "print('Probability of seven or more no-hitters:', p_large, p_large * 100)\n"
      ],
      "execution_count": 0,
      "outputs": [
        {
          "output_type": "stream",
          "text": [
            "n_large: 68\n",
            "Probability of seven or more no-hitters: 0.0068 0.6799999999999999\n"
          ],
          "name": "stdout"
        }
      ]
    },
    {
      "cell_type": "code",
      "metadata": {
        "id": "9BDPQtR8wF7q",
        "colab_type": "code",
        "colab": {}
      },
      "source": [
        "samples_std1 = np.random.normal(20, 1, 100000)\n",
        "samples_std3 = np.random.normal(20, 3, 100000)\n",
        "samples_std10 = np.random.normal(20, 10, 100000)"
      ],
      "execution_count": 0,
      "outputs": []
    },
    {
      "cell_type": "code",
      "metadata": {
        "id": "WGMgdzJAwF5c",
        "colab_type": "code",
        "outputId": "0f2797af-cace-49be-e7c9-a78d95b3571a",
        "colab": {
          "base_uri": "https://localhost:8080/",
          "height": 268
        }
      },
      "source": [
        "plt.hist(samples_std1, bins=100, density=True, histtype='step')\n",
        "plt.hist(samples_std3, bins=100, density=True, histtype='step')\n",
        "plt.hist(samples_std10, bins=100, density=True, histtype='step');"
      ],
      "execution_count": 0,
      "outputs": [
        {
          "output_type": "display_data",
          "data": {
            "image/png": "[encoded data removed]",
            "text/plain": [
              "<Figure size 432x288 with 1 Axes>"
            ]
          },
          "metadata": {
            "tags": []
          }
        }
      ]
    },
    {
      "cell_type": "code",
      "metadata": {
        "id": "k57UsFDKwF2F",
        "colab_type": "code",
        "outputId": "13a57ad7-1cf1-4c66-dd4c-d992902ca652",
        "colab": {
          "base_uri": "https://localhost:8080/",
          "height": 268
        }
      },
      "source": [
        "x_std1, y_std1 = ecdf(samples_std1)\n",
        "x_std3, y_std3 = ecdf(samples_std3)\n",
        "x_std10, y_std10 = ecdf(samples_std10)\n",
        "\n",
        "plt.plot(x_std1, y_std1, marker='.', linestyle='none');\n",
        "plt.plot(x_std3, y_std3, marker='.', linestyle='none');\n",
        "plt.plot(x_std10, y_std10, marker='.', linestyle='none')\n",
        "\n",
        "plt.legend(('std = 1', 'std = 3', 'std = 10'), loc='lower right')\n",
        "plt.show();\n"
      ],
      "execution_count": 0,
      "outputs": [
        {
          "output_type": "display_data",
          "data": {
            "image/png": "[encoded data removed]",
            "text/plain": [
              "<Figure size 432x288 with 1 Axes>"
            ]
          },
          "metadata": {
            "tags": []
          }
        }
      ]
    }
  ]
}