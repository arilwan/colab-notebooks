{
  "nbformat": 4,
  "nbformat_minor": 0,
  "metadata": {
    "kernelspec": {
      "display_name": "Python 3",
      "language": "python",
      "name": "python3"
    },
    "language_info": {
      "codemirror_mode": {
        "name": "ipython",
        "version": 3
      },
      "file_extension": ".py",
      "mimetype": "text/x-python",
      "name": "python",
      "nbconvert_exporter": "python",
      "pygments_lexer": "ipython3",
      "version": "3.7.4"
    },
    "colab": {
      "name": "02-bandits-thompson-sampling.ipynb",
      "provenance": []
    }
  },
  "cells": [
    {
      "cell_type": "markdown",
      "metadata": {
        "id": "KlnftHF0waPf",
        "colab_type": "text"
      },
      "source": [
        "# Thompson Sampling\n",
        "\n",
        "Thompson sampling is an ingenious algorithm that implicitly balances exploration and exploitation based on quality and uncertainty. Let's say we sample a 3-armed bandit and model the probability that each arm gives us a positive reward. The goal is of course to maximize our rewards by pulling the most promising arm. Assume at the current timestep arm-3 has mean reward of 0.9 over 800 pulls, arm-2 has mean reward of 0.8 over 800 pulls, and arm-1 has mean reward of 0.78 over 10 pulls. So far, arm-3 is clearly the best. But if we were to explore, would we choose arm-2 or arm-1? An $\\epsilon$-greedy algorithm would, with probability $\\epsilon$, just as likely choose arm-3, arm-2, or arm-1. However, arm-2 has been examined many times, as many as arm-1, and has a mean reward lower than arm-1. Selecting arm-2 seems like a wasteful exploratory action. Arm-1 however, has a lower mean reward than either arm-2 or arm-3, but has only been pulled a few times. In other words, arm-1 has a higher chance of being a better action than arm-3 when compared to arm-2, since we are more uncertain about its true value. The $\\epsilon$-greedy algorithm completely misses this point. Thompson sampling, on the other hand, incorporates uncertainty by modelling the bandit's Bernouilli parameter with a prior beta distribution.\n",
        "\n",
        "The beauty of the algorithm is that it always chooses the action with the highest expected reward, with the twist that this reward is weighted by uncertainty. It is in fact a Bayesian approach to the bandit problem. In our Bernouilli bandit setup, each action $k$ returns reward of 1 with probability $\\theta_k$, and 0 with probability $1-\\theta_k$. At the beginning of a simulation, each $\\theta_k$ is sampled from a uniform distribution $\\theta_k \\sim Uniform(0,1)$ with $\\theta_k$ held constant for the rest of that simulation (in the stationary case). The agent begins with a prior belief of the reward of each arm $k$ with a beta distribution, where $\\alpha = \\beta = 1$. The prior probability density of each $\\theta_k$ is:\n",
        "\n",
        "$$\n",
        "p(\\theta_k) = \\frac{\\Gamma(\\alpha_k + \\beta_k)}{\\Gamma(\\alpha_k)\\Gamma(\\beta_k)} \\theta_k^{\\alpha_k -1} (1-\\theta_k)^{\\beta_k-1}\n",
        "$$\n",
        "An action is chosen by first sampling from the beta distribution, followed by choosing the action with highest mean reward:$$\n",
        "x_t = \\text{argmax}_k (\\hat{\\theta}_k), \\quad \\hat{\\theta}_k \\sim \\text{beta}(\\alpha_k, \\beta_k)\n",
        "$$\n",
        "\n",
        "According to Bayes' rule, an action's posterior distribution is updated depending on the reward $r_t$ received:$$\n",
        "(\\alpha_k, \\beta_k) = (\\alpha_k, \\beta_k) + (r_t, 1-r_t)\n",
        "$$\n",
        "\n",
        "Thus the actions' posterior distribution are constantly updated throughout the simulation. We will measure the Thompson algorithm by comparing it with the $\\epsilon$-greedy and Upper Confidence Bound (UCB) algorithms using regret. The per-period regret for the Bernouilli bandit problem is the difference between the mean reward of the optimal action minus the mean reward of the selected action:$$\n",
        "\\text{regret}_t(\\theta) = \\max_k \\theta_k - \\theta_{x_t}\n",
        "$$\n",
        "\n",
        "First we setup the necessary imports and the standard k-armed bandit. The get_reward_regret samples the reward for the given action, and returns the regret based on the true best action.\n"
      ]
    },
    {
      "cell_type": "code",
      "metadata": {
        "id": "r5ZBjbXUwaPj",
        "colab_type": "code",
        "colab": {}
      },
      "source": [
        "import numpy as np\n",
        "import matplotlib.pyplot as plt\n",
        "from pdb import set_trace\n",
        "\n",
        "stationary = True\n",
        "class Bandit():\n",
        "    def __init__(self, arm_count):\n",
        "        \"\"\"\n",
        "        Multi-armed bandit with rewards 1 or 0\n",
        "        At initialization, multiple arms are created. The probability of each arm returning reward 1 \n",
        "        if pulled is sample from Bernoulli(p), where randomly chosen from Uniform(0, 1) at initization\n",
        "        \"\"\"\n",
        "        self.arm_count = arm_count\n",
        "        self.generate_thetas()\n",
        "        self.timestep = 0\n",
        "        global stationary\n",
        "        self.stationary=stationary\n",
        "        \n",
        "    def generate_thetas(self):\n",
        "        self.thetas = np.random.uniform(0, 1, self.arm_count)\n",
        "        \n",
        "    def get_reward_regret(self, arm):\n",
        "        \"\"\"\n",
        "        Returns random reward for arm action. Assument action are zero-indexed\n",
        "        Args:\n",
        "            arg is an int\n",
        "        \"\"\"\n",
        "        self.timestep += 1\n",
        "        if (self.stationary==False) and (self.timestep%100 == 0) :\n",
        "          self.generate_thetas()\n",
        "        # Simulate bernouilli sampling\n",
        "        sim = np.random.uniform(0,1,self.arm_count)\n",
        "        rewards = (sim<self.thetas).astype(int)\n",
        "        reward = rewards[arm]\n",
        "        regret = self.thetas.max() - self.thetas[arm]\n",
        "\n",
        "        return reward, regret"
      ],
      "execution_count": 0,
      "outputs": []
    },
    {
      "cell_type": "markdown",
      "metadata": {
        "id": "j86M4uFcwaPo",
        "colab_type": "text"
      },
      "source": [
        "We implement the two beta algorithms from [1], although we focus only on the Thompson algorithm. For the Bernouilli-greedy algorithm, the Bernouilli parameters are the expected values of the Beta distribution, i.e.:$$\n",
        "\\mathbb{E}(x_k) = \\frac{\\alpha_k}{(\\alpha_k + \\beta_k)}\n",
        "$$\n",
        "\n",
        "The Thompson algorithm follows the pseudocode below, based on [1]\n",
        "\n",
        "Algorithm: Thompson($K$,$\\alpha$, $\\beta$)\n",
        "<br>for $t$ = 1,2, ..., do<br>\n",
        "   &emsp;// sample action parameter from beta distribution<br>\n",
        "   &emsp;for $k = 1, \\dots, K$ do<br>\n",
        "      &emsp;&emsp;Sample $\\hat{\\theta}_k \\sim \\text{beta}(\\alpha_k, \\beta_k)$<br>\n",
        "   &emsp;end for<br>\n",
        "   \n",
        "   &emsp;// select action, get reward<br>\n",
        "   &emsp;$x_t \\leftarrow \\text{argmax}_k \\hat{\\theta}_k$<br>\n",
        "   &emsp;$r_t \\leftarrow \\text{observe}(x_t)$<br>\n",
        "\n",
        "   &emsp;// update beta parameters<br>\n",
        "   &emsp;$(\\alpha_{x_t}, \\beta_{x_t}) \\leftarrow (\\alpha_{x_t}, \\beta_{x_t})+(r_t, 1-r_t)$<br>\n",
        "end for"
      ]
    },
    {
      "cell_type": "code",
      "metadata": {
        "id": "J6Q7GRawwaPq",
        "colab_type": "code",
        "colab": {}
      },
      "source": [
        "class BetaAlgo():\n",
        "  \"\"\"\n",
        "  The algos try to learn which Bandit arm is the best to maximize reward.\n",
        "  \n",
        "  It does this by modelling the distribution of the Bandit arms with a Beta, \n",
        "  assuming the true probability of success of an arm is Bernouilli distributed.\n",
        "  \"\"\"\n",
        "  def __init__(self, bandit):\n",
        "    \"\"\"\n",
        "    Args:\n",
        "      bandit: the bandit class the algo is trying to model\n",
        "    \"\"\"\n",
        "    self.bandit = bandit\n",
        "    self.arm_count = bandit.arm_count\n",
        "    self.alpha = np.ones(self.arm_count)\n",
        "    self.beta = np.ones(self.arm_count)\n",
        "  \n",
        "  def get_reward_regret(self, arm):\n",
        "    reward, regret = self.bandit.get_reward_regret(arm)\n",
        "    self._update_params(arm, reward)\n",
        "    return reward, regret\n",
        "  \n",
        "  def _update_params(self, arm, reward):\n",
        "    self.alpha[arm] += reward\n",
        "    self.beta[arm] += 1 - reward\n",
        "\n",
        "class BernGreedy(BetaAlgo):\n",
        "  def __init__(self, bandit):\n",
        "    super().__init__(bandit)\n",
        "  \n",
        "  @staticmethod\n",
        "  def name():\n",
        "    return 'beta-greedy'\n",
        "   \n",
        "  def get_action(self):\n",
        "    \"\"\" Bernouilli parameters are the expected values of the beta\"\"\"\n",
        "    theta = self.alpha / (self.alpha + self.beta)\n",
        "    return theta.argmax()\n",
        "  \n",
        "class BernThompson(BetaAlgo):\n",
        "  def __init__(self, bandit):\n",
        "    super().__init__(bandit)\n",
        "\n",
        "  @staticmethod\n",
        "  def name():\n",
        "    return 'thompson'\n",
        "  \n",
        "  def get_action(self):\n",
        "    \"\"\" Bernouilli parameters are sampled from the beta\"\"\"\n",
        "    theta = np.random.beta(self.alpha, self.beta)\n",
        "    return theta.argmax()"
      ],
      "execution_count": 0,
      "outputs": []
    },
    {
      "cell_type": "markdown",
      "metadata": {
        "id": "G1s0641Q1eRU",
        "colab_type": "text"
      },
      "source": [
        "For comparison, we also implement the $\\epsilon$-greedy algorithm and Upper Confidence Bound (UBC) algorithm. The implementations are based on [2] (pages 24-28). The $\\epsilon$-greedy algorithm is straightforward and explained briefly above. Note in this implementation we make use of the incremental update rule. That is, to update the $Q$-value of each action, we maintain a count of each action. For action $k$ taken at time $t$:$$\n",
        "\\begin{align}\n",
        "r_t &amp;\\leftarrow \\text{observe}(k) \\\\\n",
        "N(k) &amp;\\leftarrow N(k) + 1 \\\\\n",
        "Q(k) &amp;\\leftarrow Q(k) + \\frac{1}{N(k)}[r_t-Q(k)] \\\\\n",
        "\\end{align}\n",
        "$$"
      ]
    },
    {
      "cell_type": "code",
      "metadata": {
        "id": "g61_eA1gwaPz",
        "colab_type": "code",
        "colab": {}
      },
      "source": [
        "epsilon = 0.1\n",
        "class EpsilonGreedy():\n",
        "  \"\"\"\n",
        "  Epsilon Greedy with incremental update.\n",
        "  Based on Sutton and Barto pseudo-code, page. 24\n",
        "  \"\"\"\n",
        "  def __init__(self, bandit):\n",
        "    global epsilon\n",
        "    self.epsilon = epsilon\n",
        "    self.bandit = bandit\n",
        "    self.arm_count = bandit.arm_count\n",
        "    self.Q = np.zeros(self.arm_count) # q-value of actions\n",
        "    self.N = np.zeros(self.arm_count) # action count\n",
        "  \n",
        "  @staticmethod\n",
        "  def name():\n",
        "    return 'epsilon-greedy'\n",
        "  \n",
        "  def get_action(self):\n",
        "    if np.random.uniform(0,1) > self.epsilon:\n",
        "      action = self.Q.argmax()\n",
        "    else:\n",
        "      action = np.random.randint(0, self.arm_count)\n",
        "    return action\n",
        "  \n",
        "  def get_reward_regret(self, arm):\n",
        "    reward, regret = self.bandit.get_reward_regret(arm)\n",
        "    self._update_params(arm, reward)\n",
        "    return reward, regret\n",
        "  \n",
        "  def _update_params(self, arm, reward):\n",
        "    self.N[arm] += 1 # increment action count\n",
        "    self.Q[arm] += 1/self.N[arm] * (reward - self.Q[arm]) # inc. update rule"
      ],
      "execution_count": 0,
      "outputs": []
    },
    {
      "cell_type": "markdown",
      "metadata": {
        "id": "VpoA3XNu1v6I",
        "colab_type": "text"
      },
      "source": [
        "The UCB action selection is different to the $\\epsilon$-greedy. Like the Thompson algorithm, it includes a measure of uncertainty. The selected action follows the rule:$$\n",
        "A_t = \\text{argmax}_a \\left[ Q_t(a) + c \\sqrt{\\frac{\\ln t}{N_t (a)}} \\right]\n",
        "$$\n",
        "\n",
        "Where $N_t (a)$ is the number of times action $a$ has been selected up to time $t$. As the denominator grows in the square root expression, the added effect on $Q_t(a)$ diminishes. This uncertainty measure is weighed by the hyperparameter $c$. The disadvantage is that, unlike the Thompson algorithm, this uncertainty hyperparameter requires tuning. Fundamentally, the UCB uncertainty is deterministic and beneficial, whereas in the Thompson case, uncertainty increases the expected reward variance. Since the Thompson algorithm samples the mean rewards from a beta distribution, the actions with high variance may not only have a higher chance of being chosen, but may also have a lower chance."
      ]
    },
    {
      "cell_type": "code",
      "metadata": {
        "id": "HHnxRiS8waP3",
        "colab_type": "code",
        "colab": {}
      },
      "source": [
        "ucb_c = 2\n",
        "class UCB():\n",
        "  \"\"\"\n",
        "  Epsilon Greedy with incremental update.\n",
        "  Based on Sutton and Barto pseudo-code, page. 24\n",
        "  \"\"\"\n",
        "  def __init__(self, bandit):\n",
        "    global ucb_c\n",
        "    self.ucb_c = ucb_c\n",
        "    self.bandit = bandit\n",
        "    self.arm_count = bandit.arm_count\n",
        "    self.Q = np.zeros(self.arm_count) # q-value of actions\n",
        "    self.N = np.zeros(self.arm_count) + 0.0001 # action count\n",
        "    self.timestep = 1\n",
        "  \n",
        "  @staticmethod\n",
        "  def name():\n",
        "    return 'ucb'\n",
        "  \n",
        "  def get_action(self):\n",
        "    ln_timestep = np.log(np.full(self.arm_count, self.timestep))\n",
        "    confidence = self.ucb_c * np.sqrt(ln_timestep/self.N)\n",
        "    action = np.argmax(self.Q + confidence)\n",
        "    self.timestep += 1\n",
        "    return action\n",
        "  \n",
        "  def get_reward_regret(self, arm):\n",
        "    reward, regret = self.bandit.get_reward_regret(arm)\n",
        "    self._update_params(arm, reward)\n",
        "    return reward, regret\n",
        "  \n",
        "  def _update_params(self, arm, reward):\n",
        "    self.N[arm] += 1 # increment action count\n",
        "    self.Q[arm] += 1/self.N[arm] * (reward - self.Q[arm]) # inc. update rule"
      ],
      "execution_count": 0,
      "outputs": []
    },
    {
      "cell_type": "markdown",
      "metadata": {
        "id": "LTCIcY9V1-tx",
        "colab_type": "text"
      },
      "source": [
        "Below are some helper functions. The function simulate will simulate the learning for a single algorithm and return the mean regrets over a number of trials. The experiment function runs the simulations over all algorithms and plots their mean regrets"
      ]
    },
    {
      "cell_type": "code",
      "metadata": {
        "id": "SaYNgQek1-Tw",
        "colab_type": "code",
        "colab": {}
      },
      "source": [
        "def plot_data(y):\n",
        "  \"\"\" y is a 1D vector \"\"\"\n",
        "  x = np.arange(y.size)\n",
        "  _ = plt.plot(x, y, 'o')\n",
        "  \n",
        "def multi_plot_data(data, names):\n",
        "  \"\"\" data, names are lists of vectors \"\"\"\n",
        "  x = np.arange(data[0].size)\n",
        "  for i, y in enumerate(data):\n",
        "    plt.plot(x, y, 'o', markersize=2, label=names[i])\n",
        "  plt.legend(loc='upper right', prop={'size': 16}, numpoints=10)\n",
        "  plt.show()\n",
        "  \n",
        "def simulate(simulations, timesteps, arm_count, Algorithm):\n",
        "  \"\"\" Simulates the algorithm over 'simulations' epochs \"\"\"\n",
        "  sum_regrets = np.zeros(timesteps)\n",
        "  for e in range(simulations):\n",
        "    bandit = Bandit(arm_count)\n",
        "    algo = Algorithm(bandit)\n",
        "    regrets = np.zeros(timesteps)\n",
        "    for i in range(timesteps):\n",
        "      action = algo.get_action()\n",
        "      reward, regret = algo.get_reward_regret(action)\n",
        "      regrets[i] = regret\n",
        "    sum_regrets += regrets  \n",
        "  mean_regrets = sum_regrets / simulations\n",
        "  return mean_regrets\n",
        "\n",
        "def experiment(arm_count, timesteps=1000, simulations=1000):\n",
        "  \"\"\" \n",
        "  Standard setup across all experiments \n",
        "  Args:\n",
        "    timesteps: (int) how many steps for the algo to learn the bandit\n",
        "    simulations: (int) number of epochs\n",
        "  \"\"\"\n",
        "  algos = [EpsilonGreedy, UCB, BernThompson]\n",
        "  regrets = []\n",
        "  names = []\n",
        "  for algo in algos:\n",
        "    regrets.append(simulate(simulations, timesteps, arm_count, algo))\n",
        "    names.append(algo.name())\n",
        "  multi_plot_data(regrets, names)"
      ],
      "execution_count": 0,
      "outputs": []
    },
    {
      "cell_type": "markdown",
      "metadata": {
        "id": "y2nbbytP2Eoc",
        "colab_type": "text"
      },
      "source": [
        "## Experiments\n",
        "For all experiments, in each trial the agents are allowed 1000 timesteps to maximize reward. We perform 5000 trials for each experiment.\n",
        "\n",
        "### Baseline\n",
        "In this first experiment, we aim for a standard setup, inspired by the bandit testbed in Chapter 2 of [2]. We set $\\epsilon=0.1$ for the $\\epsilon$-greedy algorithm, and $c=2$ for UCB. As can be seen in the chart below, the Thompson and $\\epsilon$-greedy agents quickly converge to a steady regret value after only 200 steps. The UCB agent on the other hand very slowly decreases, lagging behind the two other agents, and continues in its downward trend even at step 1000. This suggests the non-Thompson agents could benefit from parameter tuning, whereas the Thompson agent works well right off the bat."
      ]
    },
    {
      "cell_type": "code",
      "metadata": {
        "id": "jWipqCk9waP7",
        "colab_type": "code",
        "colab": {
          "base_uri": "https://localhost:8080/",
          "height": 269
        },
        "outputId": "f7c1f91f-0329-48bd-f802-95179f10d5b0"
      },
      "source": [
        "# Experiment 1\n",
        "arm_count = 10 # number of arms in bandit\n",
        "epsilon = 0.1\n",
        "ucb_c = 2\n",
        "stationary=True\n",
        "experiment(arm_count)"
      ],
      "execution_count": 6,
      "outputs": [
        {
          "output_type": "display_data",
          "data": {
            "image/png": "[encoded data removed]",
            "text/plain": [
              "<Figure size 432x288 with 1 Axes>"
            ]
          },
          "metadata": {
            "tags": []
          }
        }
      ]
    },
    {
      "cell_type": "code",
      "metadata": {
        "id": "tZzDsgH5waQA",
        "colab_type": "code",
        "colab": {}
      },
      "source": [
        ""
      ],
      "execution_count": 0,
      "outputs": []
    },
    {
      "cell_type": "code",
      "metadata": {
        "id": "dTGmgHJowaQE",
        "colab_type": "code",
        "colab": {}
      },
      "source": [
        ""
      ],
      "execution_count": 0,
      "outputs": []
    },
    {
      "cell_type": "code",
      "metadata": {
        "id": "u_dCsY-pwaQI",
        "colab_type": "code",
        "colab": {}
      },
      "source": [
        ""
      ],
      "execution_count": 0,
      "outputs": []
    },
    {
      "cell_type": "code",
      "metadata": {
        "id": "gDBkZ5CGwaQM",
        "colab_type": "code",
        "colab": {}
      },
      "source": [
        ""
      ],
      "execution_count": 0,
      "outputs": []
    },
    {
      "cell_type": "code",
      "metadata": {
        "id": "8gTxwwxJwaQQ",
        "colab_type": "code",
        "colab": {}
      },
      "source": [
        ""
      ],
      "execution_count": 0,
      "outputs": []
    },
    {
      "cell_type": "code",
      "metadata": {
        "id": "l0OkqzvjwaQU",
        "colab_type": "code",
        "colab": {}
      },
      "source": [
        ""
      ],
      "execution_count": 0,
      "outputs": []
    }
  ]
}