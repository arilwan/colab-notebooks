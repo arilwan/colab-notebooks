{
 "cells": [
  {
   "cell_type": "markdown",
   "metadata": {
    "collapsed": true,
    "pycharm": {
     "name": "#%% md\n"
    }
   },
   "source": [
    "# Imports"
   ]
  },
  {
   "cell_type": "code",
   "execution_count": 1,
   "metadata": {
    "pycharm": {
     "is_executing": false,
     "name": "#%%\n"
    }
   },
   "outputs": [
    {
     "name": "stdout",
     "output_type": "stream",
     "text": [
      "plt: <module 'matplotlib.pyplot' from '/home/martin/anaconda3/envs/colab-notebooks/lib/python3.7/site-packages/matplotlib/pyplot.py'>\n"
     ]
    }
   ],
   "source": [
    "import numpy as np\n",
    "import matplotlib.pyplot as plt\n",
    "import seaborn as sns\n",
    "import pandas as pd\n",
    "from scipy.stats import beta\n",
    "\n",
    "sns.set_style('whitegrid')\n",
    "\n",
    "print('plt:', plt)"
   ]
  },
  {
   "cell_type": "code",
   "execution_count": 2,
   "metadata": {
    "pycharm": {
     "is_executing": false,
     "name": "#%%\n"
    }
   },
   "outputs": [],
   "source": [
    "cmap = plt.get_cmap(\"tab10\", 10)\n",
    "#cmap = plt.cm.tab10(list(range(len(machines))))\n",
    "n_trials = 10000"
   ]
  },
  {
   "cell_type": "code",
   "execution_count": 3,
   "metadata": {
    "pycharm": {
     "is_executing": false,
     "name": "#%%\n"
    }
   },
   "outputs": [],
   "source": [
    "class Environment:\n",
    "    def __init__(self, variants, payouts, n_trials, variance=False):\n",
    "        self.variants = variants\n",
    "        if variance:\n",
    "            self.payouts = np.clip(payouts + np.random.normal(0, 0.04, \n",
    "                                                              size=len(variants)), \n",
    "                                   0, .2)\n",
    "        else:\n",
    "            self.payouts = payouts\n",
    "            \n",
    "        self.n_trials = n_trials\n",
    "        self.total_reward = 0\n",
    "        self.n_k = len(variants)\n",
    "        self.shape = (self.n_k, n_trials)\n",
    "            \n",
    "    def run(self, agent):\n",
    "        \"\"\"Run the simulation with the agent. Agent must be a class with \n",
    "        choose_k and update methods.\"\"\"\n",
    "        for i in range(self.n_trials):\n",
    "            # agent makea a choice\n",
    "            x_chosen = agent.choose_k()\n",
    "            # environment returns reward\n",
    "            reward = np.random.binomial(1, p=self.payouts[x_chosen])\n",
    "            # agent learns of reward\n",
    "            agent.reward = reward\n",
    "            # agent updates parameters based on the data\n",
    "            agent.update()\n",
    "            self.total_reward += reward\n",
    "        agent.collect_data()\n",
    "        return self.total_reward\n",
    "    \n",
    "class BaseSampler:\n",
    "    def __init__(self, env, n_samples=None, n_learning=None, e=0.05):\n",
    "        self.env = env\n",
    "        self.shape = (env.n_k, n_samples)\n",
    "        self.variants = env.variants\n",
    "        self.n_trials = env.n_trials\n",
    "        self.payouts = env.payouts\n",
    "        self.ad_i = np.zeros(env.n_trials)\n",
    "        self.r_i = np.zeros(env.n_trials)\n",
    "        self.thetas = np.zeros(self.n_trials)\n",
    "        self.regret_i = np.zeros(env.n_trials)\n",
    "        self.thetaregret = np.zeros(self.n_trials)\n",
    "        \n",
    "        self.a = np.ones(env.n_k) \n",
    "        self.b = np.ones(env.n_k) \n",
    "        self.theta = np.zeros(env.n_k)\n",
    "        self.data = None\n",
    "        self.reward = 0\n",
    "        self.total_reward = 0\n",
    "        self.k = 0\n",
    "        self.i = 0\n",
    "        \n",
    "        self.n_samples = n_samples\n",
    "        self.n_learning = n_learning\n",
    "        self.e = e\n",
    "        self.ep = np.random.uniform(0, 1, size=env.n_trials)\n",
    "        self.exploit = (1 - e)\n",
    "        \n",
    "    def collect_data(self):\n",
    "        self.data = pd.DataFrame(dict(ad=self.ad_i, reward=self.r_i, regret=self.regret_i))"
   ]
  },
  {
   "cell_type": "code",
   "execution_count": 4,
   "metadata": {
    "pycharm": {
     "is_executing": false,
     "name": "#%%\n"
    }
   },
   "outputs": [],
   "source": [
    "class RandomSampler(BaseSampler):\n",
    "    def __init__(self, env):\n",
    "        super().__init__(env)\n",
    "        \n",
    "    def choose_k(self):\n",
    "        self.k = np.random.choice(self.variants)\n",
    "        return self.k\n",
    "    \n",
    "    def update(self):\n",
    "        # nothing to update\n",
    "        self.thetaregret[self.i] = np.max(self.theta) - self.theta[self.k]\n",
    "        self.a[self.k] += self.reward\n",
    "        self.b[self.k] += 1\n",
    "        self.theta = self.a/self.b\n",
    "\n",
    "        self.ad_i[self.i] = self.k\n",
    "        self.r_i[self.i] = self.reward\n",
    "        self.i += 1"
   ]
  },
  {
   "cell_type": "code",
   "execution_count": 5,
   "metadata": {
    "pycharm": {
     "is_executing": false,
     "name": "#%%\n"
    }
   },
   "outputs": [],
   "source": [
    "machines = [0, 1, 2, 3, 4, 5, 6, 7, 8, 9]\n",
    "payouts = [0.023, 0.03, 0.029, 0.001, 0.05, 0.06, 0.0234, 0.035, 0.01, 0.11]\n",
    "labels = [\"V\" + str(i) + (str(p)) for i, p in zip(machines, payouts)]\n",
    "assert len(machines) == len(payouts)"
   ]
  },
  {
   "cell_type": "code",
   "execution_count": 6,
   "metadata": {
    "pycharm": {
     "is_executing": false,
     "name": "#%%\n"
    }
   },
   "outputs": [
    {
     "data": {
      "text/plain": [
       "390"
      ]
     },
     "execution_count": 6,
     "metadata": {},
     "output_type": "execute_result"
    }
   ],
   "source": [
    "en0 = Environment(machines, payouts, n_trials)\n",
    "rs = RandomSampler(env=en0)\n",
    "en0.run(agent=rs)"
   ]
  },
  {
   "cell_type": "code",
   "execution_count": null,
   "metadata": {
    "pycharm": {
     "name": "#%%\n"
    }
   },
   "outputs": [],
   "source": []
  },
  {
   "cell_type": "code",
   "execution_count": null,
   "metadata": {
    "pycharm": {
     "name": "#%%\n"
    }
   },
   "outputs": [],
   "source": []
  },
  {
   "cell_type": "code",
   "execution_count": null,
   "metadata": {
    "pycharm": {
     "name": "#%%\n"
    }
   },
   "outputs": [],
   "source": []
  },
  {
   "cell_type": "code",
   "execution_count": null,
   "metadata": {
    "pycharm": {
     "name": "#%%\n"
    }
   },
   "outputs": [],
   "source": []
  },
  {
   "cell_type": "code",
   "execution_count": null,
   "metadata": {
    "pycharm": {
     "name": "#%%\n"
    }
   },
   "outputs": [],
   "source": []
  },
  {
   "cell_type": "code",
   "execution_count": null,
   "metadata": {
    "pycharm": {
     "name": "#%%\n"
    }
   },
   "outputs": [],
   "source": [
    "\n",
    "\n",
    "\n"
   ]
  }
 ],
 "metadata": {
  "kernelspec": {
   "display_name": "Python 3",
   "language": "python",
   "name": "python3"
  },
  "language_info": {
   "codemirror_mode": {
    "name": "ipython",
    "version": 3
   },
   "file_extension": ".py",
   "mimetype": "text/x-python",
   "name": "python",
   "nbconvert_exporter": "python",
   "pygments_lexer": "ipython3",
   "version": "3.7.4"
  },
  "pycharm": {
   "stem_cell": {
    "cell_type": "raw",
    "metadata": {
     "collapsed": false
    },
    "source": []
   }
  }
 },
 "nbformat": 4,
 "nbformat_minor": 1
}
