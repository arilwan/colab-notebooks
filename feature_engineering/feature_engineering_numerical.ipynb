{
  "nbformat": 4,
  "nbformat_minor": 0,
  "metadata": {
    "colab": {
      "name": "feature-engineering-numerical-vars.ipynb",
      "provenance": [],
      "collapsed_sections": [],
      "authorship_tag": "ABX9TyPkhGBSztVFhzAKBD1YxE1e",
      "include_colab_link": true
    },
    "kernelspec": {
      "name": "python3",
      "display_name": "Python 3"
    }
  },
  "cells": [
    {
      "cell_type": "markdown",
      "metadata": {
        "id": "view-in-github",
        "colab_type": "text"
      },
      "source": [
        "<a href=\"https://colab.research.google.com/github/martin-fabbri/colab-notebooks/blob/master/feature_engineering/feature_engineering_numerical.ipynb\" target=\"_parent\"><img src=\"https://colab.research.google.com/assets/colab-badge.svg\" alt=\"Open In Colab\"/></a>"
      ]
    },
    {
      "cell_type": "code",
      "metadata": {
        "id": "cGJZGrzWCoss",
        "colab_type": "code",
        "outputId": "df71704b-de5b-495a-f982-3d4fb698bc5b",
        "colab": {
          "base_uri": "https://localhost:8080/",
          "height": 321
        }
      },
      "source": [
        "!pip install -q kaggle\n",
        "from google.colab import drive\n",
        "drive.mount('/content/gdrive')\n",
        "!mkdir -p ~/.kaggle\n",
        "!cp /content/gdrive/My\\ Drive/kaggle/kaggle.json ~/.kaggle/kaggle.json\n",
        "!chmod 600 ~/.kaggle/kaggle.json\n",
        "!kaggle datasets download -d wendykan/lending-club-loan-data\n",
        "!ls -l /content\n",
        "!unzip -o /content/lending-club-loan-data"
      ],
      "execution_count": 1,
      "outputs": [
        {
          "output_type": "stream",
          "text": [
            "Go to this URL in a browser: https://accounts.google.com/o/oauth2/auth?client_id=947318989803-6bn6qk8qdgf4n4g3pfee6491hc0brc4i.apps.googleusercontent.com&redirect_uri=urn%3aietf%3awg%3aoauth%3a2.0%3aoob&response_type=code&scope=email%20https%3a%2f%2fwww.googleapis.com%2fauth%2fdocs.test%20https%3a%2f%2fwww.googleapis.com%2fauth%2fdrive%20https%3a%2f%2fwww.googleapis.com%2fauth%2fdrive.photos.readonly%20https%3a%2f%2fwww.googleapis.com%2fauth%2fpeopleapi.readonly\n",
            "\n",
            "Enter your authorization code:\n",
            "··········\n",
            "Mounted at /content/gdrive\n",
            "Downloading lending-club-loan-data.zip to /content\n",
            " 99% 711M/720M [00:11<00:00, 74.0MB/s]\n",
            "100% 720M/720M [00:11<00:00, 64.1MB/s]\n",
            "total 737564\n",
            "drwx------ 4 root root      4096 Jan 31 02:50 gdrive\n",
            "-rw-r--r-- 1 root root 755251835 Jan 31 02:51 lending-club-loan-data.zip\n",
            "drwxr-xr-x 1 root root      4096 Jan 13 16:38 sample_data\n",
            "Archive:  /content/lending-club-loan-data.zip\n",
            "  inflating: LCDataDictionary.xlsx   \n",
            "  inflating: database.sqlite         \n",
            "  inflating: loan.csv                \n"
          ],
          "name": "stdout"
        }
      ]
    },
    {
      "cell_type": "code",
      "metadata": {
        "id": "LSvBJDG9DV2c",
        "colab_type": "code",
        "colab": {}
      },
      "source": [
        "import pandas as pd\n",
        "import numpy as np\n",
        "import matplotlib.pyplot as plt\n",
        "\n",
        "from sklearn.utils import check_random_state\n",
        "\n",
        "train_path = '/content/loan.csv'\n",
        "rs = check_random_state(44)"
      ],
      "execution_count": 0,
      "outputs": []
    },
    {
      "cell_type": "code",
      "metadata": {
        "id": "-7zryy1WDVza",
        "colab_type": "code",
        "colab": {}
      },
      "source": [
        "use_cols = [\n",
        "  'loan_amnt', 'int_rate', 'annual_inc', 'open_acc', 'loan_status', \n",
        "  'open_il_12m'\n",
        "]\n",
        "data = pd.read_csv(train_path, usecols=use_cols).sample(\n",
        "  250000, random_state = rs\n",
        ")"
      ],
      "execution_count": 0,
      "outputs": []
    },
    {
      "cell_type": "code",
      "metadata": {
        "id": "-Bt5BjHDg3e-",
        "colab_type": "code",
        "colab": {
          "base_uri": "https://localhost:8080/",
          "height": 201
        },
        "outputId": "a0f98fb2-b294-46ac-d8d3-caaf9068031a"
      },
      "source": [
        "data.head()"
      ],
      "execution_count": 21,
      "outputs": [
        {
          "output_type": "execute_result",
          "data": {
            "text/html": [
              "<div>\n",
              "<style scoped>\n",
              "    .dataframe tbody tr th:only-of-type {\n",
              "        vertical-align: middle;\n",
              "    }\n",
              "\n",
              "    .dataframe tbody tr th {\n",
              "        vertical-align: top;\n",
              "    }\n",
              "\n",
              "    .dataframe thead th {\n",
              "        text-align: right;\n",
              "    }\n",
              "</style>\n",
              "<table border=\"1\" class=\"dataframe\">\n",
              "  <thead>\n",
              "    <tr style=\"text-align: right;\">\n",
              "      <th></th>\n",
              "      <th>loan_amnt</th>\n",
              "      <th>int_rate</th>\n",
              "      <th>annual_inc</th>\n",
              "      <th>loan_status</th>\n",
              "      <th>open_acc</th>\n",
              "      <th>open_il_12m</th>\n",
              "    </tr>\n",
              "  </thead>\n",
              "  <tbody>\n",
              "    <tr>\n",
              "      <th>705202</th>\n",
              "      <td>19200</td>\n",
              "      <td>7.89</td>\n",
              "      <td>108500.0</td>\n",
              "      <td>Fully Paid</td>\n",
              "      <td>18.0</td>\n",
              "      <td>2.0</td>\n",
              "    </tr>\n",
              "    <tr>\n",
              "      <th>1817316</th>\n",
              "      <td>4375</td>\n",
              "      <td>14.09</td>\n",
              "      <td>50000.0</td>\n",
              "      <td>Fully Paid</td>\n",
              "      <td>10.0</td>\n",
              "      <td>NaN</td>\n",
              "    </tr>\n",
              "    <tr>\n",
              "      <th>926782</th>\n",
              "      <td>9000</td>\n",
              "      <td>14.49</td>\n",
              "      <td>73500.0</td>\n",
              "      <td>Charged Off</td>\n",
              "      <td>23.0</td>\n",
              "      <td>3.0</td>\n",
              "    </tr>\n",
              "    <tr>\n",
              "      <th>2161593</th>\n",
              "      <td>18150</td>\n",
              "      <td>26.30</td>\n",
              "      <td>50000.0</td>\n",
              "      <td>Charged Off</td>\n",
              "      <td>8.0</td>\n",
              "      <td>0.0</td>\n",
              "    </tr>\n",
              "    <tr>\n",
              "      <th>956052</th>\n",
              "      <td>11950</td>\n",
              "      <td>14.48</td>\n",
              "      <td>28500.0</td>\n",
              "      <td>Fully Paid</td>\n",
              "      <td>3.0</td>\n",
              "      <td>NaN</td>\n",
              "    </tr>\n",
              "  </tbody>\n",
              "</table>\n",
              "</div>"
            ],
            "text/plain": [
              "         loan_amnt  int_rate  annual_inc  loan_status  open_acc  open_il_12m\n",
              "705202       19200      7.89    108500.0   Fully Paid      18.0          2.0\n",
              "1817316       4375     14.09     50000.0   Fully Paid      10.0          NaN\n",
              "926782        9000     14.49     73500.0  Charged Off      23.0          3.0\n",
              "2161593      18150     26.30     50000.0  Charged Off       8.0          0.0\n",
              "956052       11950     14.48     28500.0   Fully Paid       3.0          NaN"
            ]
          },
          "metadata": {
            "tags": []
          },
          "execution_count": 21
        }
      ]
    },
    {
      "cell_type": "code",
      "metadata": {
        "id": "6_2kyy46DVwS",
        "colab_type": "code",
        "outputId": "f0245292-c2eb-43b7-f931-3fd432eb8dce",
        "colab": {
          "base_uri": "https://localhost:8080/",
          "height": 295
        }
      },
      "source": [
        "data.loan_amnt.hist(bins=50)\n",
        "plt.title('Loan Amount Request')\n",
        "plt.xlabel('Loan Amount')\n",
        "plt.ylabel('Number of Loans');"
      ],
      "execution_count": 22,
      "outputs": [
        {
          "output_type": "display_data",
          "data": {
            "image/png": "[encoded data removed]",
            "text/plain": [
              "<Figure size 432x288 with 1 Axes>"
            ]
          },
          "metadata": {
            "tags": []
          }
        }
      ]
    },
    {
      "cell_type": "code",
      "metadata": {
        "id": "4KSbppBaDVtU",
        "colab_type": "code",
        "colab": {
          "base_uri": "https://localhost:8080/",
          "height": 1000
        },
        "outputId": "97f7512c-c9e7-4681-f529-36e416d7c430"
      },
      "source": [
        "data.int_rate.unique()"
      ],
      "execution_count": 23,
      "outputs": [
        {
          "output_type": "execute_result",
          "data": {
            "text/plain": [
              "array([ 7.89, 14.09, 14.49, 26.3 , 14.48, 18.85,  6.49, 15.05, 16.99,\n",
              "       12.73, 18.99, 17.57, 10.49, 11.67, 12.79,  6.11, 19.72, 13.56,\n",
              "       18.55,  7.35, 11.05, 15.99, 13.49, 22.45, 19.92, 15.8 , 11.55,\n",
              "       12.49, 12.69, 15.59,  6.71, 23.88, 13.99,  6.46, 11.49, 18.24,\n",
              "       26.77,  7.9 , 16.02, 10.99,  6.99,  5.32, 20.8 , 16.91, 11.99,\n",
              "       10.91, 14.16, 21.67, 10.41, 12.99, 15.49,  6.24, 20.89, 16.29,\n",
              "        7.21,  8.9 , 15.31, 23.83,  8.18, 10.33, 18.25, 13.06,  6.03,\n",
              "       13.59, 12.59, 12.62, 14.08, 14.65,  5.31,  6.68, 17.09, 13.35,\n",
              "       12.29,  9.99,  7.34,  6.92, 11.53,  7.39,  9.17, 22.35, 15.77,\n",
              "        9.91,  9.44, 17.27,  7.99, 14.33, 15.04, 24.85,  7.84, 10.64,\n",
              "       11.47, 13.98, 20.  ,  7.97,  7.24,  8.19, 13.72, 18.49, 12.85,\n",
              "       13.33, 22.15,  8.39,  6.19, 11.39,  8.08, 28.72, 10.42, 17.56,\n",
              "       26.31, 10.08,  8.99, 18.94, 19.89,  8.59, 19.42, 23.99,  9.49,\n",
              "        7.59, 11.06, 13.66, 17.86, 14.96, 19.03, 12.88, 13.65, 20.2 ,\n",
              "       14.99,  7.49, 15.61,  6.72, 12.39, 12.61, 18.06,  6.83, 12.12,\n",
              "       11.98,  9.58, 17.99, 17.47, 13.58,  6.39, 10.72, 12.74,  8.46,\n",
              "       14.46, 18.45, 22.95, 16.55, 13.67,  5.93, 22.9 ,  6.  ,  6.89,\n",
              "       14.47, 24.5 , 10.75,  9.93, 14.07, 11.31,  7.62, 10.16,  7.12,\n",
              "        6.08, 14.79, 26.24, 10.47,  9.75, 16.2 , 19.19, 14.27, 19.99,\n",
              "        7.07, 23.13,  7.26,  9.8 , 11.14, 20.99, 11.48, 16.01, 25.81,\n",
              "        8.24, 15.02,  7.14,  9.71, 25.49, 11.8 ,  7.96, 21.49, 11.44,\n",
              "       11.71,  9.67, 20.39, 24.74, 15.65, 14.52, 10.78,  6.07,  9.16,\n",
              "       29.96, 12.98, 19.48, 30.74, 13.11,  6.91,  6.67, 19.22, 11.36,\n",
              "       20.75, 13.53, 10.56, 30.79, 21.99, 10.74, 15.27,  9.43, 17.97,\n",
              "       14.98, 22.91, 20.49, 13.68, 25.8 ,  9.92, 14.11, 21.85,  7.69,\n",
              "       22.99,  7.51, 18.2 , 10.9 , 19.69, 24.37, 23.43,  8.81, 16.46,\n",
              "        7.56, 16.14, 21.45, 15.41, 27.27,  7.46, 12.13,  8.6 , 15.22,\n",
              "       21.15, 12.18, 16.49, 29.69, 15.57, 13.18, 10.39, 16.59, 22.47,\n",
              "       18.84, 21.97, 19.53, 14.03, 24.99, 17.14, 19.2 , 23.28, 10.07,\n",
              "        7.66, 21.18, 30.75, 16.4 , 14.31, 22.74, 19.52, 10.15, 25.57,\n",
              "        8.67, 12.05, 10.95, 30.65, 13.8 , 16.32, 17.77, 24.08, 14.3 ,\n",
              "       14.85, 14.64, 21.  , 30.99,  9.62,  6.62, 25.83,  9.76, 23.76,\n",
              "       12.35, 17.1 , 13.44,  7.91, 21.98, 24.89,  9.88, 28.69, 19.05,\n",
              "       25.69, 25.82, 21.6 ,  6.97, 22.39, 17.76, 20.5 , 15.88, 23.1 ,\n",
              "       11.11,  9.25, 25.89, 22.4 , 30.89, 16.78, 19.47, 10.  ,  9.63,\n",
              "        9.32, 26.57, 23.87, 30.17, 20.31, 11.22, 21.7 , 23.5 ,  8.  ,\n",
              "       15.81,  8.49, 23.7 , 30.49, 15.1 , 25.11, 25.99, 17.88, 25.34,\n",
              "       10.65, 15.58, 22.2 ,  7.88, 25.78, 12.23, 10.25, 23.4 , 22.78,\n",
              "        7.02, 18.92, 17.58, 21.48,  8.38, 13.05,  5.99, 27.49, 12.42,\n",
              "       29.99, 16.24, 21.36, 12.87, 24.24, 14.74, 11.83,  7.29, 10.37,\n",
              "       13.23, 19.24, 18.54,  5.42, 14.91, 27.99, 11.86, 25.29, 14.61,\n",
              "       24.49, 14.17, 12.53, 19.97,  6.54, 15.23, 27.88, 24.84, 10.2 ,\n",
              "       20.3 , 29.49, 23.32, 26.99, 18.75, 22.7 , 10.59, 25.44, 24.11,\n",
              "       18.79, 11.03, 27.79, 30.84,  8.94, 21.28, 26.06, 16.82, 11.78,\n",
              "       11.89, 30.94, 11.12, 12.84, 13.47, 23.63, 28.18, 13.16, 13.48,\n",
              "       16.89, 27.34, 12.68, 11.26,  7.37, 12.36, 10.38, 14.42, 19.29,\n",
              "       13.61, 20.48, 16.11, 24.7 , 17.19, 19.13, 19.91, 11.46, 15.95,\n",
              "       15.2 ,  5.79,  7.68, 14.54, 19.36, 17.26,  9.33, 15.28, 27.31,\n",
              "       26.49, 10.36, 15.21, 16.77, 14.35, 14.83, 25.65, 15.68, 18.39,\n",
              "        9.45, 23.91, 14.72, 28.49, 13.43, 10.62, 12.72, 22.06, 25.88,\n",
              "       15.62, 12.09, 15.07, 15.96, 23.26, 12.92, 29.67, 19.79, 24.83,\n",
              "       28.88, 15.45, 14.22, 14.5 , 28.34, 17.49, 10.71, 16.45, 25.28,\n",
              "       15.76, 13.22, 28.99, 10.28, 15.33, 25.09, 11.58, 11.91, 15.83,\n",
              "       14.18, 16.  , 18.61, 10.01, 24.2 , 18.3 , 12.21,  7.74, 20.62,\n",
              "       20.17, 13.55, 14.82, 14.84, 13.3 , 19.66, 20.9 , 11.59, 13.75,\n",
              "       13.24, 12.04,  8.88, 13.87, 14.38, 13.85, 13.12, 17.39,  6.17,\n",
              "       14.59, 18.64, 13.79, 17.93, 11.66, 17.46, 26.14, 28.67, 13.57,\n",
              "       13.92, 28.14, 22.85,  8.07, 12.22,  6.76, 15.7 ,  7.43,  8.63,\n",
              "        9.96, 13.93, 14.26,  9.7 , 19.41, 20.52, 15.13, 23.52, 20.85,\n",
              "       11.34, 18.17, 17.34, 16.07, 12.86, 22.48, 11.97, 18.07, 17.06,\n",
              "       19.82, 23.33, 16.35, 21.82, 10.14, 18.43, 21.21, 17.8 , 22.11,\n",
              "       14.75, 20.25,  7.05, 18.78, 19.04, 17.54,  9.38,  7.4 , 16.69,\n",
              "       16.7 , 11.41, 16.96, 17.74, 12.41, 19.74, 11.72, 17.43, 20.11,\n",
              "       12.17,  8.32, 20.03, 16.95, 16.28, 20.77, 18.67, 19.16,  8.7 ,\n",
              "       15.37, 14.12, 22.94, 18.09,  7.42,  9.51, 10.83, 11.54, 20.4 ,\n",
              "       11.28, 21.27, 21.74,  9.64, 18.62, 11.09, 20.86, 23.22,  7.75,\n",
              "       17.51, 11.63, 19.39, 24.76, 18.53, 12.54, 15.01, 10.96, 10.46,\n",
              "       12.67, 10.51, 12.8 , 16.08, 14.62, 18.91, 14.7 , 16.63, 14.77,\n",
              "       24.59, 17.41, 13.04, 14.25, 17.22, 17.04])"
            ]
          },
          "metadata": {
            "tags": []
          },
          "execution_count": 23
        }
      ]
    },
    {
      "cell_type": "code",
      "metadata": {
        "id": "3pYDj2zbDVqu",
        "colab_type": "code",
        "colab": {
          "base_uri": "https://localhost:8080/",
          "height": 295
        },
        "outputId": "500baf67-0f64-4d64-9d7f-3496197b676e"
      },
      "source": [
        "data.int_rate.hist(bins=30)\n",
        "plt.title('Interest Rate')\n",
        "plt.xlabel('Interest Rate')\n",
        "plt.ylabel('Number of loans');\n"
      ],
      "execution_count": 24,
      "outputs": [
        {
          "output_type": "display_data",
          "data": {
            "image/png": "[encoded data removed]",
            "text/plain": [
              "<Figure size 432x288 with 1 Axes>"
            ]
          },
          "metadata": {
            "tags": []
          }
        }
      ]
    },
    {
      "cell_type": "code",
      "metadata": {
        "id": "P6bsm2vjDVnz",
        "colab_type": "code",
        "colab": {
          "base_uri": "https://localhost:8080/",
          "height": 295
        },
        "outputId": "48ddb119-f1a1-4008-8b9e-e9f85ecca9a7"
      },
      "source": [
        "data.annual_inc.hist(bins=100)\n",
        "plt.xlim(0, 400000)\n",
        "plt.title('Anual Income')\n",
        "plt.xlabel('Anual Income')\n",
        "plt.ylabel('# of customers');"
      ],
      "execution_count": 25,
      "outputs": [
        {
          "output_type": "display_data",
          "data": {
            "image/png": "[encoded data removed]",
            "text/plain": [
              "<Figure size 432x288 with 1 Axes>"
            ]
          },
          "metadata": {
            "tags": []
          }
        }
      ]
    },
    {
      "cell_type": "code",
      "metadata": {
        "id": "2ZGkN04jDVkh",
        "colab_type": "code",
        "colab": {
          "base_uri": "https://localhost:8080/",
          "height": 123
        },
        "outputId": "dc47d9b6-9734-4572-995f-225de0537fe9"
      },
      "source": [
        "data.open_acc.dropna().unique()"
      ],
      "execution_count": 26,
      "outputs": [
        {
          "output_type": "execute_result",
          "data": {
            "text/plain": [
              "array([18., 10., 23.,  8.,  3., 11., 24., 19., 14.,  6.,  9., 15., 21.,\n",
              "        5., 12., 20., 13.,  7., 22., 16.,  4., 27., 33., 25.,  1., 36.,\n",
              "       17., 30., 31.,  2., 26., 29., 28., 35., 34., 32., 39., 38., 42.,\n",
              "       45., 37., 41., 43., 40.,  0., 57., 55., 46., 48., 47., 53., 44.,\n",
              "       86., 50., 49., 58., 52., 61., 54., 51., 66., 63., 59., 65., 60.,\n",
              "       56., 62., 76., 74.])"
            ]
          },
          "metadata": {
            "tags": []
          },
          "execution_count": 26
        }
      ]
    },
    {
      "cell_type": "code",
      "metadata": {
        "id": "hEcH4_eQDVhq",
        "colab_type": "code",
        "colab": {
          "base_uri": "https://localhost:8080/",
          "height": 295
        },
        "outputId": "a3beb167-9bd6-4509-eea8-8df704364099"
      },
      "source": [
        "data.open_acc.hist(bins=100)\n",
        "plt.xlim(0, 30)\n",
        "plt.title('Open Accounts')\n",
        "plt.xlabel('# of open accounts')\n",
        "plt.ylabel('# of customers');"
      ],
      "execution_count": 27,
      "outputs": [
        {
          "output_type": "display_data",
          "data": {
            "image/png": "[encoded data removed]",
            "text/plain": [
              "<Figure size 432x288 with 1 Axes>"
            ]
          },
          "metadata": {
            "tags": []
          }
        }
      ]
    },
    {
      "cell_type": "code",
      "metadata": {
        "id": "9r-yh86nDVez",
        "colab_type": "code",
        "colab": {
          "base_uri": "https://localhost:8080/",
          "height": 52
        },
        "outputId": "da6525bb-fa8d-4953-9834-c6b7fb563607"
      },
      "source": [
        "data.open_il_12m.unique()"
      ],
      "execution_count": 28,
      "outputs": [
        {
          "output_type": "execute_result",
          "data": {
            "text/plain": [
              "array([ 2., nan,  3.,  0.,  1.,  4.,  5.,  6.,  7.,  9.,  8., 15., 10.,\n",
              "       12., 11., 13., 20.])"
            ]
          },
          "metadata": {
            "tags": []
          },
          "execution_count": 28
        }
      ]
    },
    {
      "cell_type": "code",
      "metadata": {
        "id": "or23G2jpDVb6",
        "colab_type": "code",
        "colab": {
          "base_uri": "https://localhost:8080/",
          "height": 295
        },
        "outputId": "505510d1-b273-4163-cc6a-ab98379698b5"
      },
      "source": [
        "data.open_il_12m.hist(bins=50)\n",
        "plt.title('Number of installment accounts opened in past 12 months')\n",
        "plt.xlabel('# installment accounts last 12 months')\n",
        "plt.ylabel('# of borrowers');"
      ],
      "execution_count": 29,
      "outputs": [
        {
          "output_type": "display_data",
          "data": {
            "image/png": "[encoded data removed]",
            "text/plain": [
              "<Figure size 432x288 with 1 Axes>"
            ]
          },
          "metadata": {
            "tags": []
          }
        }
      ]
    },
    {
      "cell_type": "code",
      "metadata": {
        "id": "N_3qi99BDVZE",
        "colab_type": "code",
        "colab": {
          "base_uri": "https://localhost:8080/",
          "height": 106
        },
        "outputId": "17239461-2a8b-4fa8-e042-7cab45b2aaa1"
      },
      "source": [
        "data.loan_status.unique()"
      ],
      "execution_count": 30,
      "outputs": [
        {
          "output_type": "execute_result",
          "data": {
            "text/plain": [
              "array(['Fully Paid', 'Charged Off', 'Current', 'Late (31-120 days)',\n",
              "       'In Grace Period', 'Late (16-30 days)',\n",
              "       'Does not meet the credit policy. Status:Charged Off',\n",
              "       'Does not meet the credit policy. Status:Fully Paid', 'Default'],\n",
              "      dtype=object)"
            ]
          },
          "metadata": {
            "tags": []
          },
          "execution_count": 30
        }
      ]
    },
    {
      "cell_type": "code",
      "metadata": {
        "id": "N3DqhKS2aq0N",
        "colab_type": "code",
        "colab": {
          "base_uri": "https://localhost:8080/",
          "height": 34
        },
        "outputId": "114b8187-30b2-4ee3-82a8-8089578cc830"
      },
      "source": [
        "data['defaulted'] = np.where(data.loan_status.isin(['Default']), 1, 0)\n",
        "data.defaulted.mean()"
      ],
      "execution_count": 31,
      "outputs": [
        {
          "output_type": "execute_result",
          "data": {
            "text/plain": [
              "8e-06"
            ]
          },
          "metadata": {
            "tags": []
          },
          "execution_count": 31
        }
      ]
    },
    {
      "cell_type": "code",
      "metadata": {
        "id": "1fZMoybAe-Jm",
        "colab_type": "code",
        "colab": {
          "base_uri": "https://localhost:8080/",
          "height": 70
        },
        "outputId": "4f9eda99-22ae-4f49-b99f-1e8d9cf743dd"
      },
      "source": [
        "data['defaulted'].value_counts()"
      ],
      "execution_count": 32,
      "outputs": [
        {
          "output_type": "execute_result",
          "data": {
            "text/plain": [
              "0    249998\n",
              "1         2\n",
              "Name: defaulted, dtype: int64"
            ]
          },
          "metadata": {
            "tags": []
          },
          "execution_count": 32
        }
      ]
    },
    {
      "cell_type": "code",
      "metadata": {
        "id": "7i7kPXGge-HD",
        "colab_type": "code",
        "colab": {
          "base_uri": "https://localhost:8080/",
          "height": 230
        },
        "outputId": "cf5f8b17-7a33-4c09-b312-108aef5f202f"
      },
      "source": [
        "data.loan_status.isin(['Default'])"
      ],
      "execution_count": 33,
      "outputs": [
        {
          "output_type": "execute_result",
          "data": {
            "text/plain": [
              "705202     False\n",
              "1817316    False\n",
              "926782     False\n",
              "2161593    False\n",
              "956052     False\n",
              "           ...  \n",
              "351397     False\n",
              "1924625    False\n",
              "971500     False\n",
              "743403     False\n",
              "1477751    False\n",
              "Name: loan_status, Length: 250000, dtype: bool"
            ]
          },
          "metadata": {
            "tags": []
          },
          "execution_count": 33
        }
      ]
    },
    {
      "cell_type": "code",
      "metadata": {
        "id": "PaMhZmUTe-Di",
        "colab_type": "code",
        "colab": {
          "base_uri": "https://localhost:8080/",
          "height": 194
        },
        "outputId": "1da8a694-a204-4445-cfe6-363ed2d024d7"
      },
      "source": [
        "data.loan_status.value_counts()"
      ],
      "execution_count": 34,
      "outputs": [
        {
          "output_type": "execute_result",
          "data": {
            "text/plain": [
              "Fully Paid                                             115493\n",
              "Current                                                101535\n",
              "Charged Off                                             28874\n",
              "Late (31-120 days)                                       2402\n",
              "In Grace Period                                           942\n",
              "Late (16-30 days)                                         424\n",
              "Does not meet the credit policy. Status:Fully Paid        249\n",
              "Does not meet the credit policy. Status:Charged Off        79\n",
              "Default                                                     2\n",
              "Name: loan_status, dtype: int64"
            ]
          },
          "metadata": {
            "tags": []
          },
          "execution_count": 34
        }
      ]
    },
    {
      "cell_type": "code",
      "metadata": {
        "id": "oQEshVs6e-AP",
        "colab_type": "code",
        "colab": {}
      },
      "source": [
        ""
      ],
      "execution_count": 0,
      "outputs": []
    },
    {
      "cell_type": "code",
      "metadata": {
        "id": "U_tnYYzue98z",
        "colab_type": "code",
        "colab": {}
      },
      "source": [
        ""
      ],
      "execution_count": 0,
      "outputs": []
    },
    {
      "cell_type": "code",
      "metadata": {
        "id": "5BkdWFj-e96o",
        "colab_type": "code",
        "colab": {}
      },
      "source": [
        ""
      ],
      "execution_count": 0,
      "outputs": []
    },
    {
      "cell_type": "code",
      "metadata": {
        "id": "PuxSCTLRe92v",
        "colab_type": "code",
        "colab": {}
      },
      "source": [
        ""
      ],
      "execution_count": 0,
      "outputs": []
    },
    {
      "cell_type": "code",
      "metadata": {
        "id": "GejAnrkme9zi",
        "colab_type": "code",
        "colab": {}
      },
      "source": [
        ""
      ],
      "execution_count": 0,
      "outputs": []
    },
    {
      "cell_type": "code",
      "metadata": {
        "id": "28di76A2aqxk",
        "colab_type": "code",
        "colab": {}
      },
      "source": [
        ""
      ],
      "execution_count": 0,
      "outputs": []
    },
    {
      "cell_type": "code",
      "metadata": {
        "id": "uSW__1mlaquI",
        "colab_type": "code",
        "colab": {}
      },
      "source": [
        ""
      ],
      "execution_count": 0,
      "outputs": []
    },
    {
      "cell_type": "code",
      "metadata": {
        "id": "YeAsobSYaqsl",
        "colab_type": "code",
        "colab": {}
      },
      "source": [
        ""
      ],
      "execution_count": 0,
      "outputs": []
    },
    {
      "cell_type": "code",
      "metadata": {
        "id": "nEk2gfYuaqoS",
        "colab_type": "code",
        "colab": {}
      },
      "source": [
        ""
      ],
      "execution_count": 0,
      "outputs": []
    },
    {
      "cell_type": "code",
      "metadata": {
        "id": "vJ7joSA8aqk_",
        "colab_type": "code",
        "colab": {}
      },
      "source": [
        ""
      ],
      "execution_count": 0,
      "outputs": []
    },
    {
      "cell_type": "code",
      "metadata": {
        "id": "7FRLbkLpaqh7",
        "colab_type": "code",
        "colab": {}
      },
      "source": [
        ""
      ],
      "execution_count": 0,
      "outputs": []
    },
    {
      "cell_type": "code",
      "metadata": {
        "id": "8MORAojFaqe6",
        "colab_type": "code",
        "colab": {}
      },
      "source": [
        ""
      ],
      "execution_count": 0,
      "outputs": []
    },
    {
      "cell_type": "code",
      "metadata": {
        "id": "xKMTkBR7aqcy",
        "colab_type": "code",
        "colab": {}
      },
      "source": [
        ""
      ],
      "execution_count": 0,
      "outputs": []
    },
    {
      "cell_type": "code",
      "metadata": {
        "id": "cCtA-r_taqZb",
        "colab_type": "code",
        "colab": {}
      },
      "source": [
        ""
      ],
      "execution_count": 0,
      "outputs": []
    },
    {
      "cell_type": "code",
      "metadata": {
        "id": "pyGcK7d-aqWO",
        "colab_type": "code",
        "colab": {}
      },
      "source": [
        ""
      ],
      "execution_count": 0,
      "outputs": []
    },
    {
      "cell_type": "code",
      "metadata": {
        "id": "sUFZrAm_aqS1",
        "colab_type": "code",
        "colab": {}
      },
      "source": [
        ""
      ],
      "execution_count": 0,
      "outputs": []
    },
    {
      "cell_type": "code",
      "metadata": {
        "id": "Is3v_NxtDVV0",
        "colab_type": "code",
        "colab": {}
      },
      "source": [
        ""
      ],
      "execution_count": 0,
      "outputs": []
    }
  ]
}