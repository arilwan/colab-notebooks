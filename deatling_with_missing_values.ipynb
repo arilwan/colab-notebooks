{
  "nbformat": 4,
  "nbformat_minor": 0,
  "metadata": {
    "colab": {
      "name": "deatling-with-missing-values.ipynb",
      "provenance": [],
      "collapsed_sections": [],
      "include_colab_link": true
    },
    "kernelspec": {
      "name": "python3",
      "display_name": "Python 3"
    }
  },
  "cells": [
    {
      "cell_type": "markdown",
      "metadata": {
        "id": "view-in-github",
        "colab_type": "text"
      },
      "source": [
        "<a href=\"https://colab.research.google.com/github/martin-fabbri/colab-notebooks/blob/master/deatling_with_missing_values.ipynb\" target=\"_parent\"><img src=\"https://colab.research.google.com/assets/colab-badge.svg\" alt=\"Open In Colab\"/></a>"
      ]
    },
    {
      "cell_type": "markdown",
      "metadata": {
        "id": "pcOCMMgxeOBz",
        "colab_type": "text"
      },
      "source": [
        "# Dealing with missing values"
      ]
    },
    {
      "cell_type": "code",
      "metadata": {
        "id": "WQs5-9m5sncy",
        "colab_type": "code",
        "colab": {
          "base_uri": "https://localhost:8080/",
          "height": 277
        },
        "outputId": "982ad125-0f53-44d7-d752-7129318db2e2"
      },
      "source": [
        "!pip uninstall scikit-learn -y\n",
        "!pip install scikit-learn"
      ],
      "execution_count": 3,
      "outputs": [
        {
          "output_type": "stream",
          "text": [
            "Uninstalling scikit-learn-0.21.3:\n",
            "  Successfully uninstalled scikit-learn-0.21.3\n",
            "Collecting scikit-learn\n",
            "\u001b[?25l  Downloading https://files.pythonhosted.org/packages/2e/d0/860c4f6a7027e00acff373d9f5327f4ae3ed5872234b3cbdd7bcb52e5eff/scikit_learn-0.22-cp36-cp36m-manylinux1_x86_64.whl (7.0MB)\n",
            "\u001b[K     |████████████████████████████████| 7.0MB 2.8MB/s \n",
            "\u001b[?25hRequirement already satisfied: scipy>=0.17.0 in /usr/local/lib/python3.6/dist-packages (from scikit-learn) (1.3.3)\n",
            "Requirement already satisfied: numpy>=1.11.0 in /usr/local/lib/python3.6/dist-packages (from scikit-learn) (1.17.4)\n",
            "Requirement already satisfied: joblib>=0.11 in /usr/local/lib/python3.6/dist-packages (from scikit-learn) (0.14.1)\n",
            "Installing collected packages: scikit-learn\n",
            "Successfully installed scikit-learn-0.22\n"
          ],
          "name": "stdout"
        },
        {
          "output_type": "display_data",
          "data": {
            "application/vnd.colab-display-data+json": {
              "pip_warning": {
                "packages": [
                  "sklearn"
                ]
              }
            }
          },
          "metadata": {
            "tags": []
          }
        }
      ]
    },
    {
      "cell_type": "code",
      "metadata": {
        "id": "UmYDv8MqeIR4",
        "colab_type": "code",
        "colab": {
          "base_uri": "https://localhost:8080/",
          "height": 35
        },
        "outputId": "a08d3fe8-4053-41c3-ec91-d6df6a926ecf"
      },
      "source": [
        "import pandas as pd\n",
        "import numpy as np\n",
        "import sklearn \n",
        "\n",
        "from sklearn.impute import SimpleImputer\n",
        "from sklearn.impute import KNNImputer\n",
        "from sklearn.ensemble import RandomForestRegressor\n",
        "from sklearn.model_selection import train_test_split\n",
        "from sklearn.model_selection import cross_val_score\n",
        "from sklearn.metrics import mean_absolute_error\n",
        "from sklearn.linear_model import LogisticRegressionCV\n",
        "from sklearn.linear_model import LogisticRegression\n",
        "from sklearn.preprocessing import StandardScaler\n",
        "from sklearn.pipeline import Pipeline\n",
        "from sklearn.pipeline import make_pipeline\n",
        "\n",
        "print(f'scikit-learn {sklearn.__version__}')\n",
        "\n",
        "# set seed for reproducibility\n",
        "np.random.seed(0)"
      ],
      "execution_count": 12,
      "outputs": [
        {
          "output_type": "stream",
          "text": [
            "scikit-learn 0.22\n"
          ],
          "name": "stdout"
        }
      ]
    },
    {
      "cell_type": "code",
      "metadata": {
        "id": "mEO8Vg6UeUq2",
        "colab_type": "code",
        "colab": {}
      },
      "source": [
        "nfl_dataset_url = 'https://raw.githubusercontent.com/martin-fabbri/colab-notebooks/master/data/nfl_play_by_play_v1.csv'\n",
        "nfl_df = pd.read_csv(nfl_dataset_url)\n",
        "nfl_df.head(3)"
      ],
      "execution_count": 0,
      "outputs": []
    },
    {
      "cell_type": "code",
      "metadata": {
        "id": "v8imK8p-eUoV",
        "colab_type": "code",
        "colab": {}
      },
      "source": [
        "nfl_df.sample(5)"
      ],
      "execution_count": 0,
      "outputs": []
    },
    {
      "cell_type": "code",
      "metadata": {
        "id": "DEvXr1G_g4Kl",
        "colab_type": "code",
        "colab": {}
      },
      "source": [
        "missing_values_count = nfl_df.isnull().sum()\n",
        "missing_values_count[missing_values_count > 0]"
      ],
      "execution_count": 0,
      "outputs": []
    },
    {
      "cell_type": "code",
      "metadata": {
        "id": "5QD4sHeBi1Db",
        "colab_type": "code",
        "colab": {}
      },
      "source": [
        "# how many missing values do we have?\n",
        "total_cells = np.product(nfl_df.shape)\n",
        "total_missing = missing_values_count.sum()\n",
        "\n",
        "# percent of data tha is missing\n",
        "total_missing / total_cells * 100"
      ],
      "execution_count": 0,
      "outputs": []
    },
    {
      "cell_type": "code",
      "metadata": {
        "id": "yr2Yp_UInFQY",
        "colab_type": "code",
        "colab": {}
      },
      "source": [
        "missing_values_count.filter(items=['TimeSecs'])"
      ],
      "execution_count": 0,
      "outputs": []
    },
    {
      "cell_type": "code",
      "metadata": {
        "id": "1y23xy7anFNc",
        "colab_type": "code",
        "colab": {}
      },
      "source": [
        "missing_values_count.filter(items=['PenalizedTeam'])"
      ],
      "execution_count": 0,
      "outputs": []
    },
    {
      "cell_type": "code",
      "metadata": {
        "id": "pUC1HorqnFKZ",
        "colab_type": "code",
        "colab": {}
      },
      "source": [
        "# approach # 1 - remove all the rows that contain a missing value\n",
        "nlf_without_na = nfl_df.dropna()\n",
        "nlf_without_na.info()"
      ],
      "execution_count": 0,
      "outputs": []
    },
    {
      "cell_type": "code",
      "metadata": {
        "id": "Q-84jzWbnFHa",
        "colab_type": "code",
        "colab": {}
      },
      "source": [
        "columns_without_na = nfl_df.dropna(axis=1)\n",
        "columns_without_na"
      ],
      "execution_count": 0,
      "outputs": []
    },
    {
      "cell_type": "code",
      "metadata": {
        "id": "JNLxNHrFnFD7",
        "colab_type": "code",
        "colab": {}
      },
      "source": [
        "# how much data we have lost?\n",
        "print('Columns in original dataset:', nfl_df.shape[1])\n",
        "print('Columns with na dropped:', columns_without_na.shape[1])"
      ],
      "execution_count": 0,
      "outputs": []
    },
    {
      "cell_type": "code",
      "metadata": {
        "id": "QcQNSj9deUlV",
        "colab_type": "code",
        "colab": {}
      },
      "source": [
        "sf_building_permits = 'https://raw.githubusercontent.com/martin-fabbri/colab-notebooks/master/data/sf_building_permits.csv'\n",
        "\n",
        "sf_permits_df = pd.read_csv(sf_building_permits)\n",
        "sf_permits_df .sample(5)\n",
        "\n"
      ],
      "execution_count": 0,
      "outputs": []
    },
    {
      "cell_type": "code",
      "metadata": {
        "id": "NJouP78PeUic",
        "colab_type": "code",
        "colab": {}
      },
      "source": [
        "missing_values_count = sf_permits_df.isnull().sum()\n",
        "missing_values_count[missing_values_count > 0]"
      ],
      "execution_count": 0,
      "outputs": []
    },
    {
      "cell_type": "code",
      "metadata": {
        "id": "oKshiAW8eUfX",
        "colab_type": "code",
        "colab": {}
      },
      "source": [
        "# how many missing values do we have?\n",
        "total_cells = np.product(sf_permits_df.shape)\n",
        "total_missing = missing_values_count.sum()\n",
        "\n",
        "# percent of data tha is missing\n",
        "total_missing / total_cells * 100"
      ],
      "execution_count": 0,
      "outputs": []
    },
    {
      "cell_type": "code",
      "metadata": {
        "id": "KePS-4qieUcd",
        "colab_type": "code",
        "colab": {}
      },
      "source": [
        "subset_nlf_data = nfl_df.loc[:, 'EPA':'Season']\n",
        "subset_nlf_data.head(3)"
      ],
      "execution_count": 0,
      "outputs": []
    },
    {
      "cell_type": "code",
      "metadata": {
        "id": "fPWO8D69eUZR",
        "colab_type": "code",
        "colab": {}
      },
      "source": [
        "subset_nlf_data.info()"
      ],
      "execution_count": 0,
      "outputs": []
    },
    {
      "cell_type": "code",
      "metadata": {
        "id": "o67cpu5PeUWZ",
        "colab_type": "code",
        "colab": {}
      },
      "source": [
        "subset_nlf_data.isnull().sum()"
      ],
      "execution_count": 0,
      "outputs": []
    },
    {
      "cell_type": "code",
      "metadata": {
        "id": "ApEPC-TrvCsi",
        "colab_type": "code",
        "colab": {}
      },
      "source": [
        "subset_nlf_data.fillna(0).head(3)"
      ],
      "execution_count": 0,
      "outputs": []
    },
    {
      "cell_type": "code",
      "metadata": {
        "id": "MLNnsddTvLP5",
        "colab_type": "code",
        "colab": {}
      },
      "source": [
        "# replace all NA's with the value that comes directly after it in the same column\n",
        "# then replace all the remaining na's with 0\n",
        "\n",
        "subset_nlf_data.fillna(method='bfill', axis=0).fillna(0).isnull().sum()"
      ],
      "execution_count": 0,
      "outputs": []
    },
    {
      "cell_type": "code",
      "metadata": {
        "id": "TRZ0NWbxvLMl",
        "colab_type": "code",
        "colab": {}
      },
      "source": [
        "simple_imputer = SimpleImputer()\n",
        "data_with_imputed_values = simple_imputer.fit_transform(subset_nlf_data)\n",
        "data_with_imputed_values[:5]"
      ],
      "execution_count": 0,
      "outputs": []
    },
    {
      "cell_type": "code",
      "metadata": {
        "id": "1cwOH-3cvLJq",
        "colab_type": "code",
        "colab": {}
      },
      "source": [
        "copy = nfl_df.copy()\n",
        "copy = copy.select_dtypes(exclude=['object'])\n",
        "\n",
        "simple_imputer = SimpleImputer()\n",
        "clean_df = pd.DataFrame(simple_imputer.fit_transform(copy))\n",
        "# clean_df.columns = copy.columns\n",
        "clean_df.head()"
      ],
      "execution_count": 0,
      "outputs": []
    },
    {
      "cell_type": "markdown",
      "metadata": {
        "id": "ycHUhVA3UtMl",
        "colab_type": "text"
      },
      "source": [
        "## Melbourne Housing Snapshot"
      ]
    },
    {
      "cell_type": "code",
      "metadata": {
        "id": "JVAsoKY1UBG2",
        "colab_type": "code",
        "colab": {}
      },
      "source": [
        "melbourne_housing_url = 'https://raw.githubusercontent.com/martin-fabbri/colab-notebooks/master/data/melb_data.csv'\n",
        "\n",
        "melb_df = pd.read_csv(melbourne_housing_url)\n",
        "melb_df.head()"
      ],
      "execution_count": 0,
      "outputs": []
    },
    {
      "cell_type": "code",
      "metadata": {
        "id": "52H-BFiiUBDZ",
        "colab_type": "code",
        "colab": {}
      },
      "source": [
        "melb_df.info()"
      ],
      "execution_count": 0,
      "outputs": []
    },
    {
      "cell_type": "code",
      "metadata": {
        "id": "vHLwhyM8UBAj",
        "colab_type": "code",
        "colab": {}
      },
      "source": [
        "missing_values_count = melb_df.isnull().sum()\n",
        "missing_values_count[missing_values_count > 0]\n"
      ],
      "execution_count": 0,
      "outputs": []
    },
    {
      "cell_type": "code",
      "metadata": {
        "id": "RZ8wklkRUA9g",
        "colab_type": "code",
        "colab": {}
      },
      "source": [
        "melb_target = melb_df['Price']\n",
        "melb_predictors = melb_df.drop(['Price'], axis=1)\n",
        "melb_numeric_predictors = melb_predictors.select_dtypes(exclude=['object'])\n",
        "melb_numeric_predictors.info()"
      ],
      "execution_count": 0,
      "outputs": []
    },
    {
      "cell_type": "code",
      "metadata": {
        "id": "PQGvODgaUA59",
        "colab_type": "code",
        "colab": {}
      },
      "source": [
        "X_train, X_test, y_train, y_test = train_test_split(melb_numeric_predictors, \n",
        "                                                    melb_target,\n",
        "                                                    test_size=0.3,\n",
        "                                                    random_state=0)\n",
        "def score_dataset(X_train, X_test, y_train, y_test):\n",
        "  model = RandomForestRegressor()\n",
        "  model.fit(X_train, y_train)\n",
        "  preds = model.predict(X_test)\n",
        "  return mean_absolute_error(y_test, preds)"
      ],
      "execution_count": 0,
      "outputs": []
    },
    {
      "cell_type": "markdown",
      "metadata": {
        "id": "3SvAVsk5uVT_",
        "colab_type": "text"
      },
      "source": [
        "## Get Model Score from Dropping Columns with Missing Values"
      ]
    },
    {
      "cell_type": "code",
      "metadata": {
        "id": "XnY_8HsfuIAI",
        "colab_type": "code",
        "colab": {}
      },
      "source": [
        "cols_with_missing = melb_numeric_predictors.isnull().sum()\n",
        "cols_to_drop = [col for col in cols_with_missing[cols_with_missing > 0].index]\n",
        "print('Cols to drop', cols_to_drop)\n",
        "X_train_clean = X_train.drop(cols_to_drop, axis=1)\n",
        "X_test_clean = X_test.drop(cols_to_drop, axis=1)\n",
        "X_train.head()\n",
        "print('Mean Absolute Error from dropping columns with Missing Values:')\n",
        "print(score_dataset(X_train_clean, X_test_clean, y_train, y_test))"
      ],
      "execution_count": 0,
      "outputs": []
    },
    {
      "cell_type": "markdown",
      "metadata": {
        "id": "ng-tCpgXzNal",
        "colab_type": "text"
      },
      "source": [
        "## Get Model Score from Imputation"
      ]
    },
    {
      "cell_type": "code",
      "metadata": {
        "id": "q5JIRvEGuH9E",
        "colab_type": "code",
        "colab": {}
      },
      "source": [
        "simple_imputer = SimpleImputer()\n",
        "\n",
        "X_train_simple_imputed = simple_imputer.fit_transform(X_train)\n",
        "X_test_simple_imputed = simple_imputer.fit_transform(X_test)\n",
        "\n",
        "print('Mean Absolute Error from Imputation while Track What Was Imputed:')\n",
        "print(score_dataset(X_train_simple_imputed, X_test_simple_imputed, \n",
        "                    y_train, y_test))"
      ],
      "execution_count": 0,
      "outputs": []
    },
    {
      "cell_type": "markdown",
      "metadata": {
        "id": "yNvlP98fKKut",
        "colab_type": "text"
      },
      "source": [
        "## Baseline: Dropping Columns"
      ]
    },
    {
      "cell_type": "code",
      "metadata": {
        "id": "3ZQVuorsuH6M",
        "colab_type": "code",
        "colab": {}
      },
      "source": [
        "credit_url = 'https://raw.githubusercontent.com/martin-fabbri/colab-notebooks/master/data/dataset_train_woed.csv'\n",
        "\n",
        "credit_df = pd.read_csv(credit_url, index_col='ID')\n",
        "credit_df.head()\n",
        "credit_target = credit_df['target']\n",
        "credit_predictors = credit_df.drop(['target'], axis=1)"
      ],
      "execution_count": 0,
      "outputs": []
    },
    {
      "cell_type": "code",
      "metadata": {
        "id": "AYmBDmwSuH3K",
        "colab_type": "code",
        "colab": {
          "base_uri": "https://localhost:8080/",
          "height": 35
        },
        "outputId": "2def782b-f433-4d0e-e384-635361611053"
      },
      "source": [
        "nan_columns = np.any(np.isnan(credit_predictors))\n",
        "nan_columns"
      ],
      "execution_count": 3,
      "outputs": [
        {
          "output_type": "execute_result",
          "data": {
            "text/plain": [
              "True"
            ]
          },
          "metadata": {
            "tags": []
          },
          "execution_count": 3
        }
      ]
    },
    {
      "cell_type": "code",
      "metadata": {
        "id": "uSiHS6rSuH0X",
        "colab_type": "code",
        "colab": {
          "base_uri": "https://localhost:8080/",
          "height": 252
        },
        "outputId": "da059b4d-39f3-432f-8599-51dbf632f8b2"
      },
      "source": [
        "X_train, X_test, y_train, y_test = train_test_split(credit_predictors, \n",
        "                                                    credit_target,\n",
        "                                                    test_size=0.2,\n",
        "                                                    random_state=0)\n",
        "X_train.head()"
      ],
      "execution_count": 4,
      "outputs": [
        {
          "output_type": "execute_result",
          "data": {
            "text/html": [
              "<div>\n",
              "<style scoped>\n",
              "    .dataframe tbody tr th:only-of-type {\n",
              "        vertical-align: middle;\n",
              "    }\n",
              "\n",
              "    .dataframe tbody tr th {\n",
              "        vertical-align: top;\n",
              "    }\n",
              "\n",
              "    .dataframe thead th {\n",
              "        text-align: right;\n",
              "    }\n",
              "</style>\n",
              "<table border=\"1\" class=\"dataframe\">\n",
              "  <thead>\n",
              "    <tr style=\"text-align: right;\">\n",
              "      <th></th>\n",
              "      <th>LIMIT_BAL</th>\n",
              "      <th>SEX</th>\n",
              "      <th>EDUCATION</th>\n",
              "      <th>MARRIAGE</th>\n",
              "      <th>AGE</th>\n",
              "      <th>PAY_0</th>\n",
              "      <th>PAY_2</th>\n",
              "      <th>PAY_3</th>\n",
              "      <th>PAY_4</th>\n",
              "      <th>PAY_5</th>\n",
              "      <th>PAY_6</th>\n",
              "      <th>BILL_AMT1</th>\n",
              "      <th>BILL_AMT2</th>\n",
              "      <th>BILL_AMT3</th>\n",
              "      <th>BILL_AMT4</th>\n",
              "      <th>BILL_AMT5</th>\n",
              "      <th>BILL_AMT6</th>\n",
              "      <th>PAY_AMT1</th>\n",
              "      <th>PAY_AMT2</th>\n",
              "      <th>PAY_AMT3</th>\n",
              "      <th>PAY_AMT4</th>\n",
              "      <th>PAY_AMT5</th>\n",
              "      <th>PAY_AMT6</th>\n",
              "    </tr>\n",
              "    <tr>\n",
              "      <th>ID</th>\n",
              "      <th></th>\n",
              "      <th></th>\n",
              "      <th></th>\n",
              "      <th></th>\n",
              "      <th></th>\n",
              "      <th></th>\n",
              "      <th></th>\n",
              "      <th></th>\n",
              "      <th></th>\n",
              "      <th></th>\n",
              "      <th></th>\n",
              "      <th></th>\n",
              "      <th></th>\n",
              "      <th></th>\n",
              "      <th></th>\n",
              "      <th></th>\n",
              "      <th></th>\n",
              "      <th></th>\n",
              "      <th></th>\n",
              "      <th></th>\n",
              "      <th></th>\n",
              "      <th></th>\n",
              "      <th></th>\n",
              "    </tr>\n",
              "  </thead>\n",
              "  <tbody>\n",
              "    <tr>\n",
              "      <th>3226</th>\n",
              "      <td>0.692866</td>\n",
              "      <td>-0.079777</td>\n",
              "      <td>0.168463</td>\n",
              "      <td>0.076822</td>\n",
              "      <td>0.052545</td>\n",
              "      <td>-0.659061</td>\n",
              "      <td>-0.406083</td>\n",
              "      <td>1.319915</td>\n",
              "      <td>-0.235542</td>\n",
              "      <td>-0.200910</td>\n",
              "      <td>-0.125056</td>\n",
              "      <td>0.235721</td>\n",
              "      <td>0.221552</td>\n",
              "      <td>0.162276</td>\n",
              "      <td>0.243437</td>\n",
              "      <td>0.111703</td>\n",
              "      <td>0.056681</td>\n",
              "      <td>-0.032395</td>\n",
              "      <td>0.562642</td>\n",
              "      <td>0.098836</td>\n",
              "      <td>0.046470</td>\n",
              "      <td>0.382161</td>\n",
              "      <td>0.361833</td>\n",
              "    </tr>\n",
              "    <tr>\n",
              "      <th>11816</th>\n",
              "      <td>-0.466803</td>\n",
              "      <td>-0.079777</td>\n",
              "      <td>0.091416</td>\n",
              "      <td>-0.072942</td>\n",
              "      <td>-0.161146</td>\n",
              "      <td>-0.342752</td>\n",
              "      <td>-0.402003</td>\n",
              "      <td>-0.430029</td>\n",
              "      <td>-0.407307</td>\n",
              "      <td>-0.385158</td>\n",
              "      <td>-0.327928</td>\n",
              "      <td>0.144199</td>\n",
              "      <td>0.055172</td>\n",
              "      <td>0.082028</td>\n",
              "      <td>0.153872</td>\n",
              "      <td>0.111703</td>\n",
              "      <td>0.056681</td>\n",
              "      <td>-0.065217</td>\n",
              "      <td>0.012750</td>\n",
              "      <td>0.024585</td>\n",
              "      <td>-0.086809</td>\n",
              "      <td>-0.026687</td>\n",
              "      <td>0.043184</td>\n",
              "    </tr>\n",
              "    <tr>\n",
              "      <th>7339</th>\n",
              "      <td>0.692866</td>\n",
              "      <td>0.115154</td>\n",
              "      <td>0.091416</td>\n",
              "      <td>0.076822</td>\n",
              "      <td>0.052545</td>\n",
              "      <td>2.065423</td>\n",
              "      <td>-0.406083</td>\n",
              "      <td>-0.295297</td>\n",
              "      <td>-0.235542</td>\n",
              "      <td>-0.200910</td>\n",
              "      <td>-0.201465</td>\n",
              "      <td>0.060164</td>\n",
              "      <td>0.221552</td>\n",
              "      <td>0.162276</td>\n",
              "      <td>0.243437</td>\n",
              "      <td>0.101398</td>\n",
              "      <td>0.091469</td>\n",
              "      <td>0.120994</td>\n",
              "      <td>0.174191</td>\n",
              "      <td>0.098836</td>\n",
              "      <td>0.119909</td>\n",
              "      <td>0.150499</td>\n",
              "      <td>0.361833</td>\n",
              "    </tr>\n",
              "    <tr>\n",
              "      <th>14981</th>\n",
              "      <td>0.651911</td>\n",
              "      <td>0.115154</td>\n",
              "      <td>0.091416</td>\n",
              "      <td>0.076822</td>\n",
              "      <td>0.041466</td>\n",
              "      <td>2.065423</td>\n",
              "      <td>1.473415</td>\n",
              "      <td>1.319915</td>\n",
              "      <td>1.351763</td>\n",
              "      <td>1.426636</td>\n",
              "      <td>1.284719</td>\n",
              "      <td>0.186779</td>\n",
              "      <td>0.179776</td>\n",
              "      <td>0.219737</td>\n",
              "      <td>0.178366</td>\n",
              "      <td>0.202243</td>\n",
              "      <td>0.226296</td>\n",
              "      <td>0.043100</td>\n",
              "      <td>0.012750</td>\n",
              "      <td>0.028998</td>\n",
              "      <td>0.046470</td>\n",
              "      <td>0.382161</td>\n",
              "      <td>0.236430</td>\n",
              "    </tr>\n",
              "    <tr>\n",
              "      <th>27168</th>\n",
              "      <td>0.692866</td>\n",
              "      <td>0.115154</td>\n",
              "      <td>0.091416</td>\n",
              "      <td>0.076822</td>\n",
              "      <td>0.041466</td>\n",
              "      <td>-0.659061</td>\n",
              "      <td>-0.406083</td>\n",
              "      <td>-0.295297</td>\n",
              "      <td>-0.235542</td>\n",
              "      <td>-0.200910</td>\n",
              "      <td>-0.201465</td>\n",
              "      <td>-0.015462</td>\n",
              "      <td>-0.027323</td>\n",
              "      <td>0.030418</td>\n",
              "      <td>-0.030937</td>\n",
              "      <td>-0.383466</td>\n",
              "      <td>-0.102017</td>\n",
              "      <td>-0.032395</td>\n",
              "      <td>-0.000087</td>\n",
              "      <td>0.155873</td>\n",
              "      <td>0.119909</td>\n",
              "      <td>-0.248711</td>\n",
              "      <td>0.361833</td>\n",
              "    </tr>\n",
              "  </tbody>\n",
              "</table>\n",
              "</div>"
            ],
            "text/plain": [
              "       LIMIT_BAL       SEX  EDUCATION  ...  PAY_AMT4  PAY_AMT5  PAY_AMT6\n",
              "ID                                     ...                              \n",
              "3226    0.692866 -0.079777   0.168463  ...  0.046470  0.382161  0.361833\n",
              "11816  -0.466803 -0.079777   0.091416  ... -0.086809 -0.026687  0.043184\n",
              "7339    0.692866  0.115154   0.091416  ...  0.119909  0.150499  0.361833\n",
              "14981   0.651911  0.115154   0.091416  ...  0.046470  0.382161  0.236430\n",
              "27168   0.692866  0.115154   0.091416  ...  0.119909 -0.248711  0.361833\n",
              "\n",
              "[5 rows x 23 columns]"
            ]
          },
          "metadata": {
            "tags": []
          },
          "execution_count": 4
        }
      ]
    },
    {
      "cell_type": "code",
      "metadata": {
        "id": "YR0M3KSMuHxJ",
        "colab_type": "code",
        "colab": {
          "base_uri": "https://localhost:8080/",
          "height": 87
        },
        "outputId": "06d6cb72-a825-46d9-d5d9-736bb7cbbbde"
      },
      "source": [
        "missing_values_count = credit_df.isnull().sum()\n",
        "missing_values_count[missing_values_count > 0]"
      ],
      "execution_count": 5,
      "outputs": [
        {
          "output_type": "execute_result",
          "data": {
            "text/plain": [
              "LIMIT_BAL    51\n",
              "MARRIAGE     25\n",
              "PAY_0        24\n",
              "dtype: int64"
            ]
          },
          "metadata": {
            "tags": []
          },
          "execution_count": 5
        }
      ]
    },
    {
      "cell_type": "code",
      "metadata": {
        "id": "Ae2l803vP04C",
        "colab_type": "code",
        "colab": {
          "base_uri": "https://localhost:8080/",
          "height": 104
        },
        "outputId": "3d57fc34-f028-467b-c405-ac1a2ff22ba3"
      },
      "source": [
        "nan_columns = np.any(np.isnan(X_train), axis=0)\n",
        "nan_columns = nan_columns[~nan_columns].index\n",
        "print(nan_columns)\n",
        "X_drop_columns = X_train[nan_columns]\n",
        "# X_drop_columns.info()"
      ],
      "execution_count": 6,
      "outputs": [
        {
          "output_type": "stream",
          "text": [
            "Index(['SEX', 'EDUCATION', 'AGE', 'PAY_2', 'PAY_3', 'PAY_4', 'PAY_5', 'PAY_6',\n",
            "       'BILL_AMT1', 'BILL_AMT2', 'BILL_AMT3', 'BILL_AMT4', 'BILL_AMT5',\n",
            "       'BILL_AMT6', 'PAY_AMT1', 'PAY_AMT2', 'PAY_AMT3', 'PAY_AMT4', 'PAY_AMT5',\n",
            "       'PAY_AMT6'],\n",
            "      dtype='object')\n"
          ],
          "name": "stdout"
        }
      ]
    },
    {
      "cell_type": "code",
      "metadata": {
        "id": "Ix1sf2VQRWvh",
        "colab_type": "code",
        "colab": {
          "base_uri": "https://localhost:8080/",
          "height": 35
        },
        "outputId": "2b9cea2c-515b-4495-ab3a-48c0ac5c63d7"
      },
      "source": [
        "print('Does target column contains nulls?', np.isnan(y_train).sum() > 0)"
      ],
      "execution_count": 7,
      "outputs": [
        {
          "output_type": "stream",
          "text": [
            "Does target column contains nulls? False\n"
          ],
          "name": "stdout"
        }
      ]
    },
    {
      "cell_type": "code",
      "metadata": {
        "id": "k65hnn67RWxE",
        "colab_type": "code",
        "colab": {
          "base_uri": "https://localhost:8080/",
          "height": 35
        },
        "outputId": "0d1161dc-6531-4a99-a7a4-0871b256177a"
      },
      "source": [
        "scores = cross_val_score(LogisticRegressionCV(cv=5), X_drop_columns, y_train, cv=10)\n",
        "np.mean(scores)"
      ],
      "execution_count": 8,
      "outputs": [
        {
          "output_type": "execute_result",
          "data": {
            "text/plain": [
              "0.8016666666666665"
            ]
          },
          "metadata": {
            "tags": []
          },
          "execution_count": 8
        }
      ]
    },
    {
      "cell_type": "markdown",
      "metadata": {
        "id": "JrvsWRZ0ozg2",
        "colab_type": "text"
      },
      "source": [
        "## Impute missing values: Mean & Median"
      ]
    },
    {
      "cell_type": "code",
      "metadata": {
        "id": "ZuBBZul_RWoo",
        "colab_type": "code",
        "colab": {
          "base_uri": "https://localhost:8080/",
          "height": 35
        },
        "outputId": "797e312d-6472-4794-c66b-4486123f5cd4"
      },
      "source": [
        "imp = SimpleImputer(strategy='median').fit(X_train)\n",
        "X_median_imp = imp.transform(X_train)\n",
        "scores = cross_val_score(LogisticRegressionCV(cv=5), X_median_imp, y_train, cv=10)\n",
        "np.mean(scores)"
      ],
      "execution_count": 10,
      "outputs": [
        {
          "output_type": "execute_result",
          "data": {
            "text/plain": [
              "0.8163333333333334"
            ]
          },
          "metadata": {
            "tags": []
          },
          "execution_count": 10
        }
      ]
    },
    {
      "cell_type": "code",
      "metadata": {
        "id": "qAlv1F77RWld",
        "colab_type": "code",
        "colab": {
          "base_uri": "https://localhost:8080/",
          "height": 35
        },
        "outputId": "dc7449af-c783-4646-b3cb-bfe7a6fa2ca7"
      },
      "source": [
        "imp = KNNImputer().fit(X_train)\n",
        "X_median_imp = imp.transform(X_train)\n",
        "scores = cross_val_score(LogisticRegressionCV(cv=5), X_median_imp, y_train, cv=10)\n",
        "np.mean(scores)"
      ],
      "execution_count": 11,
      "outputs": [
        {
          "output_type": "execute_result",
          "data": {
            "text/plain": [
              "0.8164583333333333"
            ]
          },
          "metadata": {
            "tags": []
          },
          "execution_count": 11
        }
      ]
    },
    {
      "cell_type": "code",
      "metadata": {
        "id": "jdmr1WdSvQRf",
        "colab_type": "code",
        "colab": {
          "base_uri": "https://localhost:8080/",
          "height": 35
        },
        "outputId": "c20589cd-9a26-41f5-8fe1-0cb252eb1450"
      },
      "source": [
        "knn_pipe = make_pipeline(KNNImputer(), LogisticRegression())\n",
        "scores = cross_val_score(knn_pipe, X_train, y_train, cv=10)\n",
        "np.mean(scores)"
      ],
      "execution_count": 14,
      "outputs": [
        {
          "output_type": "execute_result",
          "data": {
            "text/plain": [
              "0.8166249999999999"
            ]
          },
          "metadata": {
            "tags": []
          },
          "execution_count": 14
        }
      ]
    }
  ]
}