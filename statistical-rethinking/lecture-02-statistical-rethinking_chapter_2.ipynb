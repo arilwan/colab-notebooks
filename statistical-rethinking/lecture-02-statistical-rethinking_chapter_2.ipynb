{
  "nbformat": 4,
  "nbformat_minor": 0,
  "metadata": {
    "kernelspec": {
      "name": "python3",
      "display_name": "Python 3"
    },
    "language_info": {
      "codemirror_mode": {
        "name": "ipython",
        "version": 3
      },
      "file_extension": ".py",
      "mimetype": "text/x-python",
      "name": "python",
      "nbconvert_exporter": "python",
      "pygments_lexer": "ipython3",
      "version": "3.7.3"
    },
    "colab": {
      "name": "statistical-rethinking-chapter-2.ipynb",
      "provenance": [],
      "collapsed_sections": [],
      "include_colab_link": true
    },
    "accelerator": "GPU"
  },
  "cells": [
    {
      "cell_type": "markdown",
      "metadata": {
        "id": "view-in-github",
        "colab_type": "text"
      },
      "source": [
        "<a href=\"https://colab.research.google.com/github/martin-fabbri/colab-notebooks/blob/master/statistical-rethinking/lecture-02-statistical-rethinking_chapter_2.ipynb\" target=\"_parent\"><img src=\"https://colab.research.google.com/assets/colab-badge.svg\" alt=\"Open In Colab\"/></a>"
      ]
    },
    {
      "cell_type": "markdown",
      "metadata": {
        "id": "b-7x2Nog98Xl",
        "colab_type": "text"
      },
      "source": [
        "# Statistical Rethinking\n",
        "## Chapter 2. \n"
      ]
    },
    {
      "cell_type": "markdown",
      "metadata": {
        "id": "H4ciuvUkhPwf",
        "colab_type": "text"
      },
      "source": [
        "GPU check"
      ]
    },
    {
      "cell_type": "code",
      "metadata": {
        "id": "-OT-787yhPRl",
        "colab_type": "code",
        "outputId": "ec88f6ca-637a-4e20-a661-e074d3e74be2",
        "colab": {
          "base_uri": "https://localhost:8080/",
          "height": 319
        }
      },
      "source": [
        "!nvidia-smi"
      ],
      "execution_count": 2,
      "outputs": [
        {
          "output_type": "stream",
          "text": [
            "Tue Sep 24 05:21:15 2019       \n",
            "+-----------------------------------------------------------------------------+\n",
            "| NVIDIA-SMI 430.40       Driver Version: 418.67       CUDA Version: 10.1     |\n",
            "|-------------------------------+----------------------+----------------------+\n",
            "| GPU  Name        Persistence-M| Bus-Id        Disp.A | Volatile Uncorr. ECC |\n",
            "| Fan  Temp  Perf  Pwr:Usage/Cap|         Memory-Usage | GPU-Util  Compute M. |\n",
            "|===============================+======================+======================|\n",
            "|   0  Tesla K80           Off  | 00000000:00:04.0 Off |                    0 |\n",
            "| N/A   48C    P8    30W / 149W |      0MiB / 11441MiB |      0%      Default |\n",
            "+-------------------------------+----------------------+----------------------+\n",
            "                                                                               \n",
            "+-----------------------------------------------------------------------------+\n",
            "| Processes:                                                       GPU Memory |\n",
            "|  GPU       PID   Type   Process name                             Usage      |\n",
            "|=============================================================================|\n",
            "|  No running processes found                                                 |\n",
            "+-----------------------------------------------------------------------------+\n"
          ],
          "name": "stdout"
        }
      ]
    },
    {
      "cell_type": "markdown",
      "metadata": {
        "id": "FmihBmzK-r04",
        "colab_type": "text"
      },
      "source": [
        "# Dependencies\n",
        "\n"
      ]
    },
    {
      "cell_type": "code",
      "metadata": {
        "id": "TiEzFU4kgS5r",
        "colab_type": "code",
        "outputId": "92502f6a-6c81-4630-9d78-ad46c205c176",
        "colab": {
          "base_uri": "https://localhost:8080/",
          "height": 569
        }
      },
      "source": [
        "# install pyro\n",
        "!pip3 install pyro-ppl"
      ],
      "execution_count": 3,
      "outputs": [
        {
          "output_type": "stream",
          "text": [
            "Collecting pyro-ppl\n",
            "\u001b[?25l  Downloading https://files.pythonhosted.org/packages/3b/e6/1a027bd9c4d9b6198de073b168e747fce27ba1f8893731499208af2c5cc7/pyro-ppl-0.4.1.tar.gz (271kB)\n",
            "\u001b[K     |████████████████████████████████| 276kB 2.7MB/s \n",
            "\u001b[?25hRequirement already satisfied: graphviz>=0.8 in /usr/local/lib/python3.6/dist-packages (from pyro-ppl) (0.10.1)\n",
            "Requirement already satisfied: numpy>=1.7 in /usr/local/lib/python3.6/dist-packages (from pyro-ppl) (1.16.5)\n",
            "Requirement already satisfied: opt_einsum>=2.3.2 in /usr/local/lib/python3.6/dist-packages (from pyro-ppl) (3.0.1)\n",
            "Collecting torch>=1.2.0 (from pyro-ppl)\n",
            "\u001b[?25l  Downloading https://files.pythonhosted.org/packages/30/57/d5cceb0799c06733eefce80c395459f28970ebb9e896846ce96ab579a3f1/torch-1.2.0-cp36-cp36m-manylinux1_x86_64.whl (748.8MB)\n",
            "\u001b[K     |████████████████████████████████| 748.9MB 27kB/s \n",
            "\u001b[?25hCollecting tqdm>=4.31 (from pyro-ppl)\n",
            "\u001b[?25l  Downloading https://files.pythonhosted.org/packages/e1/c1/bc1dba38b48f4ae3c4428aea669c5e27bd5a7642a74c8348451e0bd8ff86/tqdm-4.36.1-py2.py3-none-any.whl (52kB)\n",
            "\u001b[K     |████████████████████████████████| 61kB 24.2MB/s \n",
            "\u001b[?25hBuilding wheels for collected packages: pyro-ppl\n",
            "  Building wheel for pyro-ppl (setup.py) ... \u001b[?25l\u001b[?25hdone\n",
            "  Created wheel for pyro-ppl: filename=pyro_ppl-0.4.1-cp36-none-any.whl size=371731 sha256=69e1bf146a43f938490da6ebd1a56aa5ad232a6ee2c16664c7a11f420a568fee\n",
            "  Stored in directory: /root/.cache/pip/wheels/fb/47/97/848e699fb40fc9fd17f421c135cf7bc121dcf3f0c8519e89b2\n",
            "Successfully built pyro-ppl\n",
            "Installing collected packages: torch, tqdm, pyro-ppl\n",
            "  Found existing installation: torch 1.1.0\n",
            "    Uninstalling torch-1.1.0:\n",
            "      Successfully uninstalled torch-1.1.0\n",
            "  Found existing installation: tqdm 4.28.1\n",
            "    Uninstalling tqdm-4.28.1:\n",
            "      Successfully uninstalled tqdm-4.28.1\n",
            "Successfully installed pyro-ppl-0.4.1 torch-1.2.0 tqdm-4.36.1\n"
          ],
          "name": "stdout"
        },
        {
          "output_type": "display_data",
          "data": {
            "application/vnd.colab-display-data+json": {
              "pip_warning": {
                "packages": [
                  "tqdm"
                ]
              }
            }
          },
          "metadata": {
            "tags": []
          }
        }
      ]
    },
    {
      "cell_type": "code",
      "metadata": {
        "id": "O109GwzSkNDi",
        "colab_type": "code",
        "colab": {
          "base_uri": "https://localhost:8080/",
          "height": 34
        },
        "outputId": "6e3ed533-2753-4b3b-928c-d32de5c219d5"
      },
      "source": [
        "# usual suspects\n",
        "import numpy as np\n",
        "import seaborn as sns\n",
        "import pymc3 as pm\n",
        "import torch \n",
        "import pyro\n",
        "import pyro.distributions as dist\n",
        "import scipy.stats as stats\n",
        "import matplotlib.pyplot as plt\n",
        "\n",
        "# see if GPU is available\n",
        "device = torch.device(\"cuda:0\" if torch.cuda.is_available() else \"cpu\")\n",
        "\n",
        "%matplotlib inline\n",
        "\n",
        "print('pymc3:', pm.__version__)"
      ],
      "execution_count": 8,
      "outputs": [
        {
          "output_type": "stream",
          "text": [
            "pymc3: 3.7\n"
          ],
          "name": "stdout"
        }
      ]
    },
    {
      "cell_type": "markdown",
      "metadata": {
        "id": "PZr46GHyjh-n",
        "colab_type": "text"
      },
      "source": [
        "## Code 2.1"
      ]
    },
    {
      "cell_type": "markdown",
      "metadata": {
        "id": "7oOhgcwHlJR4",
        "colab_type": "text"
      },
      "source": [
        "#### PyTorch"
      ]
    },
    {
      "cell_type": "code",
      "metadata": {
        "id": "hHDur4pdjhiR",
        "colab_type": "code",
        "outputId": "6552ed89-8aa0-4af4-94c5-443f2873f427",
        "colab": {
          "base_uri": "https://localhost:8080/",
          "height": 52
        }
      },
      "source": [
        "ways = torch.tensor([0., 3., 8., 9., 0.])\n",
        "print('ways.sum()', ways.sum())\n",
        "ways / ways.sum()"
      ],
      "execution_count": 0,
      "outputs": [
        {
          "output_type": "stream",
          "text": [
            "ways.sum() tensor(20.)\n"
          ],
          "name": "stdout"
        },
        {
          "output_type": "execute_result",
          "data": {
            "text/plain": [
              "tensor([0.0000, 0.1500, 0.4000, 0.4500, 0.0000])"
            ]
          },
          "metadata": {
            "tags": []
          },
          "execution_count": 2
        }
      ]
    },
    {
      "cell_type": "markdown",
      "metadata": {
        "id": "qmrLFU-MlL3w",
        "colab_type": "text"
      },
      "source": [
        "#### numpy / pymc3"
      ]
    },
    {
      "cell_type": "code",
      "metadata": {
        "id": "Hv0674VJlNBv",
        "colab_type": "code",
        "outputId": "ee67bacf-11e5-4544-b309-6def94f4e899",
        "colab": {
          "base_uri": "https://localhost:8080/",
          "height": 34
        }
      },
      "source": [
        "ways = np.array([0, 3, 8, 9, 0])\n",
        "ways / ways.sum()"
      ],
      "execution_count": 0,
      "outputs": [
        {
          "output_type": "execute_result",
          "data": {
            "text/plain": [
              "array([0.  , 0.15, 0.4 , 0.45, 0.  ])"
            ]
          },
          "metadata": {
            "tags": []
          },
          "execution_count": 3
        }
      ]
    },
    {
      "cell_type": "markdown",
      "metadata": {
        "id": "Doc9BoBlkCvp",
        "colab_type": "text"
      },
      "source": [
        "## Code 2.2"
      ]
    },
    {
      "cell_type": "markdown",
      "metadata": {
        "id": "sI6cdnDsB7yJ",
        "colab_type": "text"
      },
      "source": [
        "**Numpy**"
      ]
    },
    {
      "cell_type": "code",
      "metadata": {
        "id": "CY4IUxIHB7L_",
        "colab_type": "code",
        "outputId": "11fe4a39-4de0-488b-895e-b66f4d8b4a73",
        "colab": {
          "base_uri": "https://localhost:8080/",
          "height": 34
        }
      },
      "source": [
        "# draw samples from a binomial distribution\n",
        "\n",
        "# sample size\n",
        "N = 6\n",
        "\n",
        "# observed/ known probability?\n",
        "p = 0.5\n",
        "\n",
        "np.random.binomial(N, p)\n"
      ],
      "execution_count": 0,
      "outputs": [
        {
          "output_type": "execute_result",
          "data": {
            "text/plain": [
              "5"
            ]
          },
          "metadata": {
            "tags": []
          },
          "execution_count": 17
        }
      ]
    },
    {
      "cell_type": "markdown",
      "metadata": {
        "id": "A92ltf70mVG6",
        "colab_type": "text"
      },
      "source": [
        "**PyTorch**"
      ]
    },
    {
      "cell_type": "code",
      "metadata": {
        "id": "dmjebdDIkChk",
        "colab_type": "code",
        "outputId": "dbab3c25-d83c-47cc-aed6-b7e1b8a2147a",
        "colab": {
          "base_uri": "https://localhost:8080/",
          "height": 34
        }
      },
      "source": [
        "dist.Binomial(total_count=9, probs=0.5).log_prob(torch.tensor(6.)).exp()"
      ],
      "execution_count": 0,
      "outputs": [
        {
          "output_type": "execute_result",
          "data": {
            "text/plain": [
              "tensor(0.1641)"
            ]
          },
          "metadata": {
            "tags": []
          },
          "execution_count": 10
        }
      ]
    },
    {
      "cell_type": "markdown",
      "metadata": {
        "id": "AG2Hm4BBmcaV",
        "colab_type": "text"
      },
      "source": [
        "#### numpy / pycm3"
      ]
    },
    {
      "cell_type": "code",
      "metadata": {
        "id": "3BUCoxtdmcJz",
        "colab_type": "code",
        "outputId": "470d5532-6855-464b-c172-9ad02ccaf7ee",
        "colab": {
          "base_uri": "https://localhost:8080/",
          "height": 34
        }
      },
      "source": [
        "# binomial discrete random variable\n",
        "# likelihood???\n",
        "\n",
        "\n",
        "# observed occurences / drawing water\n",
        "W = 6\n",
        "\n",
        "# sample size / trials\n",
        "N = 9\n",
        "\n",
        "# probability of drawing W\n",
        "P=0.5\n",
        "\n",
        "stats.binom.pmf(W, n=N, p=P)"
      ],
      "execution_count": 0,
      "outputs": [
        {
          "output_type": "execute_result",
          "data": {
            "text/plain": [
              "0.16406250000000006"
            ]
          },
          "metadata": {
            "tags": []
          },
          "execution_count": 19
        }
      ]
    },
    {
      "cell_type": "markdown",
      "metadata": {
        "colab_type": "text",
        "id": "oYUfxU29nWCM"
      },
      "source": [
        "## Code 2.3\n",
        "\n",
        "---\n",
        "\n",
        "\n"
      ]
    },
    {
      "cell_type": "markdown",
      "metadata": {
        "colab_type": "text",
        "id": "7QioA4xqnTIu"
      },
      "source": [
        "#### PyTorch"
      ]
    },
    {
      "cell_type": "code",
      "metadata": {
        "colab_type": "code",
        "id": "9UxIay0DnTIv",
        "colab": {}
      },
      "source": [
        "# define grid\n",
        "n = 20\n",
        "\n",
        "p_grid = torch.linspace(start=0, end=1, steps=n)\n",
        "# p_grid"
      ],
      "execution_count": 0,
      "outputs": []
    },
    {
      "cell_type": "code",
      "metadata": {
        "id": "PHE96psrn5gl",
        "colab_type": "code",
        "colab": {}
      },
      "source": [
        "# define prior\n",
        "prior = torch.tensor(1.).repeat(n)\n",
        "# prior"
      ],
      "execution_count": 0,
      "outputs": []
    },
    {
      "cell_type": "code",
      "metadata": {
        "id": "aELidA7an5fP",
        "colab_type": "code",
        "colab": {}
      },
      "source": [
        "# compute likelihood at each value in grid\n",
        "likelihood = dist.Binomial(total_count=9, probs=p_grid).log_prob(torch.tensor(6.)).exp()\n",
        "# likelihood"
      ],
      "execution_count": 0,
      "outputs": []
    },
    {
      "cell_type": "code",
      "metadata": {
        "id": "E1oiS8rZn5ab",
        "colab_type": "code",
        "colab": {}
      },
      "source": [
        "# compute product of likelihood and prior\n",
        "unstd_posterior = likelihood * prior\n",
        "# unstd_posterior"
      ],
      "execution_count": 0,
      "outputs": []
    },
    {
      "cell_type": "code",
      "metadata": {
        "id": "uf-LnEi0n5XS",
        "colab_type": "code",
        "colab": {}
      },
      "source": [
        "# standarize the posterior \n",
        "posterior = unstd_posterior / unstd_posterior.sum()\n",
        "# posterior"
      ],
      "execution_count": 0,
      "outputs": []
    },
    {
      "cell_type": "code",
      "metadata": {
        "id": "V2kMCA6ntkdY",
        "colab_type": "code",
        "outputId": "92046fdc-279f-463b-b6e0-d1581a1789c1",
        "colab": {
          "base_uri": "https://localhost:8080/",
          "height": 295
        }
      },
      "source": [
        "ax = sns.lineplot(p_grid, posterior, marker=\"o\")\n",
        "ax.set(xlabel=\"probability of water\", ylabel=\"posterior probability\",\n",
        "       title=\"20 points\");"
      ],
      "execution_count": 0,
      "outputs": [
        {
          "output_type": "display_data",
          "data": {
            "image/png": "[encoded data removed]",
            "text/plain": [
              "<Figure size 432x288 with 1 Axes>"
            ]
          },
          "metadata": {
            "tags": []
          }
        }
      ]
    },
    {
      "cell_type": "markdown",
      "metadata": {
        "colab_type": "text",
        "id": "YutNXdBTnTI0"
      },
      "source": [
        "#### numpy / pycm3"
      ]
    },
    {
      "cell_type": "code",
      "metadata": {
        "colab_type": "code",
        "id": "iKRp4EobnTI1",
        "colab": {}
      },
      "source": [
        "def posterior_grid_aprox(grid_points=5, success=6, tosses=9):\n",
        "  # define grid\n",
        "  p_grid = np.linspace(0, 1, grid_points)\n",
        "\n",
        "  # define prior\n",
        "  prior = np.repeat(5, grid_points)\n",
        "\n",
        "  # compute likelihood at each point in the grid\n",
        "  likelihood = stats.binom.pmf(success, tosses, p_grid)\n",
        "\n",
        "  # compute product of likelihood * prior\n",
        "  unstd_posterior = likelihood * prior\n",
        "\n",
        "  posterior = unstd_posterior / unstd_posterior.sum()\n",
        "  return p_grid, posterior\n"
      ],
      "execution_count": 0,
      "outputs": []
    },
    {
      "cell_type": "code",
      "metadata": {
        "id": "9pT9W2ilmvQZ",
        "colab_type": "code",
        "colab": {}
      },
      "source": [
        "points = 23\n",
        "w, n = 6, 9\n",
        "p_grid, posterior = posterior_grid_aprox(points, w, n)"
      ],
      "execution_count": 0,
      "outputs": []
    },
    {
      "cell_type": "code",
      "metadata": {
        "id": "qvrdrAbMmvNX",
        "colab_type": "code",
        "outputId": "2708bbbd-3e0f-4c64-8d80-30bf2f6dc321",
        "colab": {
          "base_uri": "https://localhost:8080/",
          "height": 299
        }
      },
      "source": [
        "plt.plot(p_grid, posterior, 'o-', label='success = {}\\ntosses = {}'.format(w, n))\n",
        "plt.xlabel('probability of water', fontsize=14)\n",
        "plt.ylabel('posterior probability', fontsize=14)\n",
        "plt.title('{} points'.format(points))\n",
        "plt.legend(loc=0);"
      ],
      "execution_count": 0,
      "outputs": [
        {
          "output_type": "display_data",
          "data": {
            "image/png": "[encoded data removed]",
            "text/plain": [
              "<Figure size 432x288 with 1 Axes>"
            ]
          },
          "metadata": {
            "tags": []
          }
        }
      ]
    },
    {
      "cell_type": "markdown",
      "metadata": {
        "id": "KSV2e8KwtVbO",
        "colab_type": "text"
      },
      "source": [
        "### Code 2.6\n",
        "\n",
        "Computing the posterior using the quadratic approximation."
      ]
    },
    {
      "cell_type": "markdown",
      "metadata": {
        "id": "o3rEuGYstjOs",
        "colab_type": "text"
      },
      "source": [
        "**PyCM3**"
      ]
    },
    {
      "cell_type": "code",
      "metadata": {
        "id": "QyHEzvK3tip4",
        "colab_type": "code",
        "colab": {
          "base_uri": "https://localhost:8080/",
          "height": 34
        },
        "outputId": "00e70dd2-508a-46a3-807d-c363370c0656"
      },
      "source": [
        "data = np.repeat((0, 1), (3, 6))\n",
        "data"
      ],
      "execution_count": 5,
      "outputs": [
        {
          "output_type": "execute_result",
          "data": {
            "text/plain": [
              "array([0, 0, 0, 1, 1, 1, 1, 1, 1])"
            ]
          },
          "metadata": {
            "tags": []
          },
          "execution_count": 5
        }
      ]
    },
    {
      "cell_type": "code",
      "metadata": {
        "id": "17LplLSamvKX",
        "colab_type": "code",
        "colab": {
          "base_uri": "https://localhost:8080/",
          "height": 126
        },
        "outputId": "0c805593-bc71-4968-959e-dfd215a0f853"
      },
      "source": [
        "with pm.Model() as normal_approximation:\n",
        "  p = pm.Uniform('p', 0, 1)\n",
        "  w = pm.Binomial('w', n=len(data), p=p, observed=data.sum())\n",
        "  mean_q = pm.find_MAP()\n",
        "  std_q = ((1/pm.find_hessian(mean_q, vars=[p]))**0.5)[0]\n",
        "  \n",
        "print('mean_q:', mean_q['p'])\n",
        "print('std_q:', std_q)"
      ],
      "execution_count": 10,
      "outputs": [
        {
          "output_type": "stream",
          "text": [
            "/usr/local/lib/python3.6/dist-packages/pymc3/tuning/starting.py:61: UserWarning: find_MAP should not be used to initialize the NUTS sampler, simply call pymc3.sample() and it will automatically initialize NUTS in a better way.\n",
            "  warnings.warn('find_MAP should not be used to initialize the NUTS sampler, simply call pymc3.sample() and it will automatically initialize NUTS in a better way.')\n",
            "logp = -1.8075, ||grad|| = 1.5: 100%|██████████| 7/7 [00:00<00:00, 895.81it/s]\n"
          ],
          "name": "stderr"
        },
        {
          "output_type": "stream",
          "text": [
            "mean_q: 0.6666666671652423\n",
            "std_q: [0.15713484]\n"
          ],
          "name": "stdout"
        }
      ]
    },
    {
      "cell_type": "code",
      "metadata": {
        "id": "5pDMw0iUmvHN",
        "colab_type": "code",
        "colab": {
          "base_uri": "https://localhost:8080/",
          "height": 34
        },
        "outputId": "43423da5-5b99-4eb6-a1ea-639f75978f3a"
      },
      "source": [
        "norm = stats.norm(mean_q, std_q)\n",
        "prob = .89\n",
        "z = stats.norm.ppf([(1 - prob)/2, (1+prob)/2])\n",
        "pi = mean_q['p'] + std_q * z\n",
        "pi"
      ],
      "execution_count": 11,
      "outputs": [
        {
          "output_type": "execute_result",
          "data": {
            "text/plain": [
              "array([0.41553484, 0.91779849])"
            ]
          },
          "metadata": {
            "tags": []
          },
          "execution_count": 11
        }
      ]
    },
    {
      "cell_type": "code",
      "metadata": {
        "id": "BP7kqAKWmvEL",
        "colab_type": "code",
        "colab": {}
      },
      "source": [
        ""
      ],
      "execution_count": 0,
      "outputs": []
    },
    {
      "cell_type": "code",
      "metadata": {
        "id": "sQ6AktiimvBE",
        "colab_type": "code",
        "colab": {}
      },
      "source": [
        ""
      ],
      "execution_count": 0,
      "outputs": []
    },
    {
      "cell_type": "code",
      "metadata": {
        "id": "P2rk6FU-mu-C",
        "colab_type": "code",
        "colab": {}
      },
      "source": [
        ""
      ],
      "execution_count": 0,
      "outputs": []
    },
    {
      "cell_type": "code",
      "metadata": {
        "id": "SM7Gmp3pmu7I",
        "colab_type": "code",
        "colab": {}
      },
      "source": [
        ""
      ],
      "execution_count": 0,
      "outputs": []
    },
    {
      "cell_type": "code",
      "metadata": {
        "id": "HlQHKh_Gmu39",
        "colab_type": "code",
        "colab": {}
      },
      "source": [
        ""
      ],
      "execution_count": 0,
      "outputs": []
    },
    {
      "cell_type": "code",
      "metadata": {
        "id": "c3SJW8kWmu0Y",
        "colab_type": "code",
        "colab": {}
      },
      "source": [
        ""
      ],
      "execution_count": 0,
      "outputs": []
    },
    {
      "cell_type": "code",
      "metadata": {
        "id": "9TTiobDwmuwi",
        "colab_type": "code",
        "colab": {}
      },
      "source": [
        ""
      ],
      "execution_count": 0,
      "outputs": []
    },
    {
      "cell_type": "code",
      "metadata": {
        "id": "OnGJ5IXvmutM",
        "colab_type": "code",
        "colab": {}
      },
      "source": [
        ""
      ],
      "execution_count": 0,
      "outputs": []
    }
  ]
}