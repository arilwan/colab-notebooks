{
  "nbformat": 4,
  "nbformat_minor": 0,
  "metadata": {
    "colab": {
      "name": "running_scala_in_colab.ipynb",
      "provenance": [],
      "collapsed_sections": [],
      "include_colab_link": true
    },
    "kernelspec": {
      "display_name": "Scala",
      "language": "scala",
      "name": "scala"
    }
  },
  "cells": [
    {
      "cell_type": "markdown",
      "metadata": {
        "id": "view-in-github",
        "colab_type": "text"
      },
      "source": [
        "<a href=\"https://colab.research.google.com/github/martin-fabbri/colab-notebooks/blob/master/running_scala_in_colab.ipynb\" target=\"_parent\"><img src=\"https://colab.research.google.com/assets/colab-badge.svg\" alt=\"Open In Colab\"/></a>"
      ]
    },
    {
      "cell_type": "markdown",
      "metadata": {
        "id": "up2G8zDbhsEN",
        "colab_type": "text"
      },
      "source": [
        "# Running Circe in Colab\n",
        "\n",
        "In this notebook, we'll take a look at how to import libraries into a Scala notebook. Here, we'll load up [Circe](https://circe.github.io/circe/), a library for handling JSON data in Scala."
      ]
    },
    {
      "cell_type": "markdown",
      "metadata": {
        "id": "sL1Vq6r6J6dA",
        "colab_type": "text"
      },
      "source": [
        "## Install the Scala Kernel\n",
        "If you get a \"scala\" kernel not recognized warning when loading up the notebook for the first time, start by running the two cells below. Once you are done **reload the page** to load the notebook in the installed Scala kernel."
      ]
    },
    {
      "cell_type": "code",
      "metadata": {
        "id": "RoCcdvTCAqeR",
        "colab_type": "code",
        "colab": {
          "base_uri": "https://localhost:8080/",
          "height": 168
        },
        "outputId": "76450edd-ea26-4e3f-d0f6-7a7a2da7ed53"
      },
      "source": [
        "%%shell\n",
        "SCALA_VERSION=2.12.8 ALMOND_VERSION=0.3.0+16-548dc10f-SNAPSHOT\n",
        "curl -Lo coursier https://git.io/coursier-cli\n",
        "chmod +x coursier\n",
        "./coursier bootstrap \\\n",
        "    -r jitpack -r sonatype:snapshots \\\n",
        "    -i user -I user:sh.almond:scala-kernel-api_$SCALA_VERSION:$ALMOND_VERSION \\\n",
        "    sh.almond:scala-kernel_$SCALA_VERSION:$ALMOND_VERSION \\\n",
        "    --sources --default=true \\\n",
        "    -o almond-snapshot --embed-files=false\n",
        "rm coursier\n",
        "./almond-snapshot --install --global --force\n",
        "rm almond-snapshot"
      ],
      "execution_count": 1,
      "outputs": [
        {
          "output_type": "stream",
          "text": [
            "(console):2:20 expected id\n",
            "SCALA_VERSION=2.12.8 ALMOND_VERSION=0.3.0+16-548dc10f-SNAPSHOT\n",
            "                   ^"
          ],
          "name": "stderr"
        },
        {
          "output_type": "error",
          "ename": "",
          "evalue": "ignored",
          "traceback": [
            "(console):2:20 expected id\nSCALA_VERSION=2.12.8 ALMOND_VERSION=0.3.0+16-548dc10f-SNAPSHOT\n                   ^"
          ]
        }
      ]
    },
    {
      "cell_type": "code",
      "metadata": {
        "id": "BZchIo9sArF4",
        "colab_type": "code",
        "colab": {
          "base_uri": "https://localhost:8080/",
          "height": 168
        },
        "outputId": "406849c7-166b-4a98-ed48-2912481cbc8b"
      },
      "source": [
        "%%shell\n",
        "echo \"{\n",
        "  \\\"language\\\" : \\\"scala\\\",\n",
        "  \\\"display_name\\\" : \\\"Scala\\\",\n",
        "  \\\"argv\\\" : [\n",
        "    \\\"bash\\\",\n",
        "    \\\"-c\\\",\n",
        "    \\\"env LD_PRELOAD=/usr/lib/x86_64-linux-gnu/libpython3.6m.so:\\$LD_PRELOAD java -jar /usr/local/share/jupyter/kernels/scala/launcher.jar --connection-file {connection_file}\\\"\n",
        "  ]\n",
        "}\" > /usr/local/share/jupyter/kernels/scala/kernel.json"
      ],
      "execution_count": 1,
      "outputs": [
        {
          "output_type": "stream",
          "text": [
            "(console):1:1 expected end-of-input\n",
            "%%shell\n",
            "^"
          ],
          "name": "stderr"
        },
        {
          "output_type": "error",
          "ename": "",
          "evalue": "ignored",
          "traceback": [
            "(console):1:1 expected end-of-input\n%%shell\n^"
          ]
        }
      ]
    },
    {
      "cell_type": "markdown",
      "metadata": {
        "id": "sgPteJTmOkhU",
        "colab_type": "text"
      },
      "source": [
        "## Use Circe"
      ]
    },
    {
      "cell_type": "markdown",
      "metadata": {
        "id": "p-0RXR7aFFDA",
        "colab_type": "text"
      },
      "source": [
        "First, we'll import Circe into the notebook."
      ]
    },
    {
      "cell_type": "code",
      "metadata": {
        "id": "a9z0PxRg_iOp",
        "colab_type": "code",
        "outputId": "0d4603bc-e8ed-4d2b-fda5-9e0051ea259a",
        "colab": {
          "base_uri": "https://localhost:8080/",
          "height": 88
        }
      },
      "source": [
        "import $ivy.`io.circe::circe-core:0.10.0`, $ivy.`io.circe::circe-generic:0.10.0`, $ivy.`io.circe::circe-parser:0.10.0`\n",
        "\n",
        "import io.circe._, io.circe.generic.auto._, io.circe.parser._, io.circe.syntax._"
      ],
      "execution_count": 2,
      "outputs": [
        {
          "output_type": "execute_result",
          "data": {
            "text/plain": [
              "\u001b[32mimport \u001b[39m\u001b[36m$ivy.$                            , $ivy.$                               , $ivy.$                              \n",
              "\n",
              "\u001b[39m\n",
              "\u001b[32mimport \u001b[39m\u001b[36mio.circe._, io.circe.generic.auto._, io.circe.parser._, io.circe.syntax._\u001b[39m"
            ]
          },
          "metadata": {
            "tags": []
          },
          "execution_count": 2
        }
      ]
    },
    {
      "cell_type": "markdown",
      "metadata": {
        "id": "L8qlVXHYFHkq",
        "colab_type": "text"
      },
      "source": [
        "With Circe loaded, we can convert a Scala object to JSON!"
      ]
    },
    {
      "cell_type": "code",
      "metadata": {
        "id": "452wIbhD1Z5c",
        "colab_type": "code",
        "colab": {
          "base_uri": "https://localhost:8080/",
          "height": 34
        },
        "outputId": "de11abcb-e255-47fc-f35f-5dcf9fd4c911"
      },
      "source": [
        "println(\"Hello World\")"
      ],
      "execution_count": 4,
      "outputs": [
        {
          "output_type": "stream",
          "text": [
            "Hello World\n"
          ],
          "name": "stdout"
        }
      ]
    },
    {
      "cell_type": "code",
      "metadata": {
        "id": "XRUL2lxrFKi5",
        "colab_type": "code",
        "outputId": "2619f7df-5a2c-4b8d-a82b-6b14903483d1",
        "colab": {
          "base_uri": "https://localhost:8080/",
          "height": 106
        }
      },
      "source": [
        "case class Qux(i: Int, d: Option[Double])\n",
        "\n",
        "val json = Qux(13, Some(14.0)).asJson.spaces2"
      ],
      "execution_count": 3,
      "outputs": [
        {
          "output_type": "execute_result",
          "data": {
            "text/plain": [
              "defined \u001b[32mclass\u001b[39m \u001b[36mQux\u001b[39m\n",
              "\u001b[36mjson\u001b[39m: \u001b[32mString\u001b[39m = \u001b[32m\"\"\"{\n",
              "  \"i\" : 13,\n",
              "  \"d\" : 14.0\n",
              "}\"\"\"\u001b[39m"
            ]
          },
          "metadata": {
            "tags": []
          },
          "execution_count": 3
        }
      ]
    }
  ]
}