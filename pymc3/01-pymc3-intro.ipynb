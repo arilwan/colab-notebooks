{
  "nbformat": 4,
  "nbformat_minor": 0,
  "metadata": {
    "kernelspec": {
      "display_name": "Python 3",
      "language": "python",
      "name": "python3"
    },
    "language_info": {
      "codemirror_mode": {
        "name": "ipython",
        "version": 2
      },
      "file_extension": ".py",
      "mimetype": "text/x-python",
      "name": "python",
      "nbconvert_exporter": "python",
      "pygments_lexer": "ipython2",
      "version": "2.7.6"
    },
    "pycharm": {
      "stem_cell": {
        "cell_type": "raw",
        "source": [],
        "metadata": {
          "collapsed": false
        }
      }
    },
    "colab": {
      "name": "01-pymc3-intro.ipynb",
      "provenance": []
    }
  },
  "cells": [
    {
      "cell_type": "code",
      "metadata": {
        "id": "iaoXmGIf97z5",
        "colab_type": "code",
        "colab": {}
      },
      "source": [
        ""
      ],
      "execution_count": 0,
      "outputs": []
    },
    {
      "cell_type": "code",
      "metadata": {
        "pycharm": {
          "name": "#%%\n"
        },
        "id": "tu5PAQO-97z-",
        "colab_type": "code",
        "colab": {
          "base_uri": "https://localhost:8080/",
          "height": 34
        },
        "outputId": "9b0b6031-9d91-46a1-da78-7a09d9e445df"
      },
      "source": [
        "%matplotlib inline\n",
        "import io\n",
        "import requests\n",
        "import pymc3 as pm\n",
        "import numpy as np\n",
        "import pandas as pd\n",
        "import matplotlib.pyplot as plt\n",
        "\n",
        "%config InlineBackend.figure_formats = ['retina']\n",
        "plt.rc('font', size=12)\n",
        "plt.style.use('seaborn-darkgrid')\n",
        "\n",
        "\n",
        "print('pycm3:', pm.__version__)"
      ],
      "execution_count": 7,
      "outputs": [
        {
          "output_type": "stream",
          "text": [
            "pycm3: 3.7\n"
          ],
          "name": "stdout"
        }
      ]
    },
    {
      "cell_type": "code",
      "metadata": {
        "pycharm": {
          "name": "#%%\n"
        },
        "id": "QAOx8liU970E",
        "colab_type": "code",
        "colab": {
          "base_uri": "https://localhost:8080/",
          "height": 68
        },
        "outputId": "881f5d28-5693-4f10-e490-c42e78835a01"
      },
      "source": [
        "# 1. load the stock returns data.\n",
        "\n",
        "url='https://raw.githubusercontent.com/martin-fabbri/colab-notebooks/master/pymc3/stock_returns.csv'\n",
        "s=requests.get(url).content\n",
        "\n",
        "series = pd.read_csv(io.StringIO(s.decode('utf-8')))\n",
        "returns = series.values[:1000]\n",
        "returns[:3]"
      ],
      "execution_count": 11,
      "outputs": [
        {
          "output_type": "execute_result",
          "data": {
            "text/plain": [
              "array([[ 0.        ],\n",
              "       [ 0.        ],\n",
              "       [-0.02702703]])"
            ]
          },
          "metadata": {
            "tags": []
          },
          "execution_count": 11
        }
      ]
    },
    {
      "cell_type": "code",
      "metadata": {
        "pycharm": {
          "name": "#%%\n"
        },
        "id": "iUAEKi2Z970I",
        "colab_type": "code",
        "colab": {}
      },
      "source": [
        "series.info()"
      ],
      "execution_count": 0,
      "outputs": []
    },
    {
      "cell_type": "code",
      "metadata": {
        "pycharm": {
          "name": "#%%\n"
        },
        "id": "0gMdTilO970M",
        "colab_type": "code",
        "colab": {}
      },
      "source": [
        "plt.hist(returns, ec='white');"
      ],
      "execution_count": 0,
      "outputs": []
    },
    {
      "cell_type": "code",
      "metadata": {
        "pycharm": {
          "name": "#%%\n"
        },
        "id": "uzEuiI9b970Q",
        "colab_type": "code",
        "colab": {}
      },
      "source": [
        "# 2. first, let's see if it makes sense to fit a Gaussian distribution to this.\n",
        "with pm.Model() as model1:\n",
        "\n",
        "    stdev = pm.HalfNormal('stdev', sd=.1)\n",
        "    mu = pm.Normal('mu', mu=0.0, sd=1.)\n",
        "\n",
        "    pm.Normal('returns', mu=mu, sd=stdev, observed=returns)"
      ],
      "execution_count": 0,
      "outputs": []
    },
    {
      "cell_type": "code",
      "metadata": {
        "pycharm": {
          "name": "#%%\n"
        },
        "id": "xqwU4RBG970U",
        "colab_type": "code",
        "colab": {}
      },
      "source": [
        "with model1:\n",
        "    trace = pm.sample(500, tune=1000)"
      ],
      "execution_count": 0,
      "outputs": []
    },
    {
      "cell_type": "code",
      "metadata": {
        "pycharm": {
          "name": "#%%\n"
        },
        "id": "QZufiGyr970Y",
        "colab_type": "code",
        "colab": {}
      },
      "source": [
        "preds = pm.sample_ppc(trace, samples=500, model=model1)\n",
        "y = np.reshape(np.mean(preds['returns'], axis=0), [-1])"
      ],
      "execution_count": 0,
      "outputs": []
    },
    {
      "cell_type": "code",
      "metadata": {
        "pycharm": {
          "name": "#%%\n"
        },
        "id": "W-JZZRUm970c",
        "colab_type": "code",
        "colab": {}
      },
      "source": [
        "fig, (ax1, ax2) = plt.subplots(1, 2)\n",
        "\n",
        "ax1.hist(y, ec='white')\n",
        "ax1.set_title('Normal distribution returns')\n",
        "ax2.hist(returns, ec='white')\n",
        "ax2.set_title('Real returns')\n",
        "\n",
        "plt.show()"
      ],
      "execution_count": 0,
      "outputs": []
    },
    {
      "cell_type": "code",
      "metadata": {
        "pycharm": {
          "name": "#%%\n"
        },
        "id": "uBASCDH-970g",
        "colab_type": "code",
        "colab": {}
      },
      "source": [
        "# 3. now let's relax the normal distribution assumption: let's fit a Cauchy distribution.\n",
        "with pm.Model() as model2:\n",
        "\n",
        "    beta = pm.HalfNormal('beta', sd=10.)\n",
        "\n",
        "    pm.Cauchy('returns', alpha=0.0, beta=beta, observed=returns)\n",
        "\n",
        "    mean_field = pm.fit(n=150000, method='advi', obj_optimizer=pm.adam(learning_rate=.001))"
      ],
      "execution_count": 0,
      "outputs": []
    },
    {
      "cell_type": "code",
      "metadata": {
        "pycharm": {
          "name": "#%%\n"
        },
        "id": "vXbrovDN970j",
        "colab_type": "code",
        "colab": {}
      },
      "source": [
        "with model2:\n",
        "    trace2 = mean_field.sample(draws=10000)\n",
        "    trace3 = pm.sample(5000, tune=10000, target_accept=0.99)"
      ],
      "execution_count": 0,
      "outputs": []
    },
    {
      "cell_type": "code",
      "metadata": {
        "pycharm": {
          "name": "#%%\n"
        },
        "id": "8SbrJjLX970n",
        "colab_type": "code",
        "colab": {}
      },
      "source": [
        "pm.traceplot(trace3);"
      ],
      "execution_count": 0,
      "outputs": []
    },
    {
      "cell_type": "code",
      "metadata": {
        "pycharm": {
          "name": "#%%\n"
        },
        "id": "tQ7rUxc1970r",
        "colab_type": "code",
        "colab": {}
      },
      "source": [
        "pm.summary(trace3)"
      ],
      "execution_count": 0,
      "outputs": []
    },
    {
      "cell_type": "code",
      "metadata": {
        "pycharm": {
          "name": "#%%\n"
        },
        "id": "HGdftvWF970w",
        "colab_type": "code",
        "colab": {}
      },
      "source": [
        "# change to trace3 if you want\n",
        "preds2 = pm.sample_ppc(trace3, samples=10000, model=model2)\n",
        "y2 = np.reshape(np.mean(preds2['returns'], axis=0), [-1])"
      ],
      "execution_count": 0,
      "outputs": []
    },
    {
      "cell_type": "code",
      "metadata": {
        "pycharm": {
          "name": "#%%\n"
        },
        "id": "EcNDJ0bB9701",
        "colab_type": "code",
        "colab": {}
      },
      "source": [
        "fig, (ax1, ax2) = plt.subplots(1, 2)\n",
        "\n",
        "ax1.hist(y2, ec='white')\n",
        "ax1.set_title('Cauchy distribution returns')\n",
        "ax2.hist(returns, ec='white')\n",
        "ax2.set_title('Real returns')\n",
        "\n",
        "plt.show()"
      ],
      "execution_count": 0,
      "outputs": []
    },
    {
      "cell_type": "code",
      "metadata": {
        "pycharm": {
          "name": "#%%\n"
        },
        "id": "qbl3PchZ9705",
        "colab_type": "code",
        "colab": {}
      },
      "source": [
        "model1.name = 'Gaussian model'\n",
        "model2.name = 'Cauchy model'\n",
        "df_LOO = pm.compare({model1:trace, model2:trace2}, ic='LOO')"
      ],
      "execution_count": 0,
      "outputs": []
    },
    {
      "cell_type": "code",
      "metadata": {
        "pycharm": {
          "name": "#%%\n"
        },
        "id": "7x1gbqJh9709",
        "colab_type": "code",
        "colab": {}
      },
      "source": [
        "print(\"LOO comparison table: \")\n",
        "df_LOO\n"
      ],
      "execution_count": 0,
      "outputs": []
    }
  ]
}