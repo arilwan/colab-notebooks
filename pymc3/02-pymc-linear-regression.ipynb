{
 "cells": [
  {
   "cell_type": "code",
   "execution_count": null,
   "metadata": {
    "collapsed": true
   },
   "outputs": [],
   "source": []
  },
  {
   "cell_type": "code",
   "execution_count": null,
   "outputs": [],
   "source": [
    "%matplotlib inline\n",
    "import pymc3 as pm\n",
    "import numpy as np\n",
    "import pandas as pd\n",
    "import matplotlib.pyplot as plt\n",
    "import pymc3.distributions.timeseries as ts\n",
    "\n",
    "%config InlineBackend.figure_formats = ['retina']\n",
    "plt.rc('font', size=12)\n",
    "plt.style.use('seaborn-darkgrid')"
   ],
   "metadata": {
    "collapsed": false,
    "pycharm": {
     "name": "#%%\n"
    }
   }
  },
  {
   "cell_type": "code",
   "execution_count": null,
   "outputs": [],
   "source": [
    "# 1. generate 2 cointegrated assets\n",
    "N = 1000\n",
    "X = [50.0]\n",
    "Y = [40.0]\n",
    "theta = 0.02\n",
    "for t in range(1, N):\n",
    "    X.append(X[t-1] + np.random.normal(0.0, 0.5))\n",
    "    Y.append(Y[t-1] + np.random.normal(0.0, 0.28) + theta * (0.8 * X[t-1] - Y[t-1]))\n",
    "\n",
    "X = np.array(X)\n",
    "Y = np.array(Y)"
   ],
   "metadata": {
    "collapsed": false,
    "pycharm": {
     "name": "#%%\n"
    }
   }
  },
  {
   "cell_type": "code",
   "execution_count": null,
   "outputs": [],
   "source": [
    "plt.figure(figsize=(10,6))\n",
    "plt.plot(X, label='X')\n",
    "plt.plot(Y, label='Y')\n",
    "plt.legend()\n",
    "plt.show()"
   ],
   "metadata": {
    "collapsed": false,
    "pycharm": {
     "name": "#%%\n"
    }
   }
  },
  {
   "cell_type": "code",
   "execution_count": null,
   "outputs": [],
   "source": [
    "plt.figure(figsize=(10,6))\n",
    "Z = Y / X\n",
    "plt.plot(Z)\n",
    "plt.show()"
   ],
   "metadata": {
    "collapsed": false,
    "pycharm": {
     "name": "#%%\n"
    }
   }
  },
  {
   "cell_type": "code",
   "execution_count": null,
   "outputs": [],
   "source": [
    "with pm.Model() as example2:\n",
    "\n",
    "    theta = pm.HalfNormal('theta', sd=1., testval=1.)\n",
    "    coeff = pm.HalfNormal('coeff', sd=1., testval=1.)\n",
    "    sigma = pm.Normal('sigma', sd=1., testval=1.)\n",
    "\n",
    "    sde = lambda x, theta, distance: (theta * (coeff - x), sigma)\n",
    "    ts.EulerMaruyama('y', 1.0, sde, [theta, coeff], shape=len(Z), testval=np.ones(len(Z)), observed=Z)"
   ],
   "metadata": {
    "collapsed": false,
    "pycharm": {
     "name": "#%%\n"
    }
   }
  },
  {
   "cell_type": "code",
   "execution_count": null,
   "outputs": [],
   "source": [
    "with example2:\n",
    "    trace = pm.sample(50000, tune=10000, target_accept=0.95)"
   ],
   "metadata": {
    "collapsed": false,
    "pycharm": {
     "name": "#%%\n"
    }
   }
  },
  {
   "cell_type": "code",
   "execution_count": null,
   "outputs": [],
   "source": [
    "pm.traceplot(trace, varnames=['theta', 'coeff']);"
   ],
   "metadata": {
    "collapsed": false,
    "pycharm": {
     "name": "#%%\n"
    }
   }
  },
  {
   "cell_type": "code",
   "execution_count": null,
   "outputs": [],
   "source": [
    "print(\"theta = \", np.mean(trace['theta']))\n",
    "print(\"coeff = \", np.mean(trace['coeff']))\n",
    "\n"
   ],
   "metadata": {
    "collapsed": false,
    "pycharm": {
     "name": "#%%\n"
    }
   }
  }
 ],
 "metadata": {
  "kernelspec": {
   "display_name": "Python 3",
   "language": "python",
   "name": "python3"
  },
  "language_info": {
   "codemirror_mode": {
    "name": "ipython",
    "version": 2
   },
   "file_extension": ".py",
   "mimetype": "text/x-python",
   "name": "python",
   "nbconvert_exporter": "python",
   "pygments_lexer": "ipython2",
   "version": "2.7.6"
  },
  "pycharm": {
   "stem_cell": {
    "cell_type": "raw",
    "source": [],
    "metadata": {
     "collapsed": false
    }
   }
  }
 },
 "nbformat": 4,
 "nbformat_minor": 0
}