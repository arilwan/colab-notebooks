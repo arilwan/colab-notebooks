{
  "nbformat": 4,
  "nbformat_minor": 0,
  "metadata": {
    "kernelspec": {
      "display_name": "Python 3",
      "language": "python",
      "name": "python3"
    },
    "language_info": {
      "codemirror_mode": {
        "name": "ipython",
        "version": 2
      },
      "file_extension": ".py",
      "mimetype": "text/x-python",
      "name": "python",
      "nbconvert_exporter": "python",
      "pygments_lexer": "ipython2",
      "version": "2.7.6"
    },
    "colab": {
      "name": "02-cauchy-model.ipynb",
      "provenance": []
    }
  },
  "cells": [
    {
      "cell_type": "code",
      "metadata": {
        "id": "9DVoGlsbV5oA",
        "colab_type": "code",
        "colab": {}
      },
      "source": [
        "import pymc3 as pm\n",
        "import numpy as np\n",
        "import matplotlib.pyplot as plt\n",
        "\n",
        "\n"
      ],
      "execution_count": 0,
      "outputs": []
    },
    {
      "cell_type": "code",
      "metadata": {
        "id": "BQIB-EcUV-bP",
        "colab_type": "code",
        "colab": {}
      },
      "source": [
        "def generateCauchyData(N, mean):\n",
        "\n",
        "    return (np.random.standard_cauchy(N) * 100. + mean)\n",
        "\n",
        "data = generateCauchyData(10000, 42.)\n",
        "plt.plot(data)\n",
        "plt.show()\n",
        "\n"
      ],
      "execution_count": 0,
      "outputs": []
    },
    {
      "cell_type": "code",
      "metadata": {
        "id": "bLge7EOmWClC",
        "colab_type": "code",
        "colab": {}
      },
      "source": [
        "def frequentistCenter(data):\n",
        "\n",
        "    return np.mean(data)\n",
        "\n"
      ],
      "execution_count": 0,
      "outputs": []
    },
    {
      "cell_type": "code",
      "metadata": {
        "id": "Novh783eWFOV",
        "colab_type": "code",
        "colab": {}
      },
      "source": [
        "X = frequentistCenter(data)\n",
        "\n",
        "print(\"Sample mean: \", X)\n",
        "\n"
      ],
      "execution_count": 0,
      "outputs": []
    },
    {
      "cell_type": "code",
      "metadata": {
        "id": "QFeCfAzkWHE3",
        "colab_type": "code",
        "colab": {}
      },
      "source": [
        "def bayesianCenter(data):\n",
        "\n",
        "    with pm.Model():\n",
        "        loc = pm.Uniform('location', lower=-1000., upper=1000.)\n",
        "        scale = pm.Uniform('scale', lower=0.01, upper=1000.)\n",
        "\n",
        "        pm.Cauchy('y', alpha=loc, beta=scale, observed=data)\n",
        "\n",
        "        trace = pm.sample(3000, tune=3000, target_accept=0.92)\n",
        "        pm.traceplot(trace)\n",
        "        plt.show()\n",
        "\n",
        "    return np.mean(trace['location'])\n",
        "\n",
        "X2 = bayesianCenter(data)\n",
        "\n",
        "print(\"Bayesian mode (median, location): \", X2)"
      ],
      "execution_count": 0,
      "outputs": []
    },
    {
      "cell_type": "code",
      "metadata": {
        "id": "QzjUUpRSWHvf",
        "colab_type": "code",
        "colab": {}
      },
      "source": [
        ""
      ],
      "execution_count": 0,
      "outputs": []
    }
  ]
}