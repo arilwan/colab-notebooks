{
  "nbformat": 4,
  "nbformat_minor": 0,
  "metadata": {
    "kernelspec": {
      "name": "python3",
      "display_name": "Python 3"
    },
    "language_info": {
      "codemirror_mode": {
        "name": "ipython",
        "version": 2
      },
      "file_extension": ".py",
      "mimetype": "text/x-python",
      "name": "python",
      "nbconvert_exporter": "python",
      "pygments_lexer": "ipython2",
      "version": "2.7.6"
    },
    "colab": {
      "name": "02-cauchy-model.ipynb",
      "provenance": []
    },
    "accelerator": "GPU"
  },
  "cells": [
    {
      "cell_type": "code",
      "metadata": {
        "id": "oR4N4thZX_Ty",
        "colab_type": "code",
        "colab": {
          "base_uri": "https://localhost:8080/",
          "height": 306
        },
        "outputId": "24c3811d-5f94-49ce-bdc3-ffd7ca2f2d8e"
      },
      "source": [
        "!nvidia-smi"
      ],
      "execution_count": 1,
      "outputs": [
        {
          "output_type": "stream",
          "text": [
            "Wed Sep 25 21:43:30 2019       \n",
            "+-----------------------------------------------------------------------------+\n",
            "| NVIDIA-SMI 430.40       Driver Version: 418.67       CUDA Version: 10.1     |\n",
            "|-------------------------------+----------------------+----------------------+\n",
            "| GPU  Name        Persistence-M| Bus-Id        Disp.A | Volatile Uncorr. ECC |\n",
            "| Fan  Temp  Perf  Pwr:Usage/Cap|         Memory-Usage | GPU-Util  Compute M. |\n",
            "|===============================+======================+======================|\n",
            "|   0  Tesla K80           Off  | 00000000:00:04.0 Off |                    0 |\n",
            "| N/A   38C    P8    26W / 149W |      0MiB / 11441MiB |      0%      Default |\n",
            "+-------------------------------+----------------------+----------------------+\n",
            "                                                                               \n",
            "+-----------------------------------------------------------------------------+\n",
            "| Processes:                                                       GPU Memory |\n",
            "|  GPU       PID   Type   Process name                             Usage      |\n",
            "|=============================================================================|\n",
            "|  No running processes found                                                 |\n",
            "+-----------------------------------------------------------------------------+\n"
          ],
          "name": "stdout"
        }
      ]
    },
    {
      "cell_type": "code",
      "metadata": {
        "id": "9DVoGlsbV5oA",
        "colab_type": "code",
        "colab": {}
      },
      "source": [
        "import pymc3 as pm\n",
        "import numpy as np\n",
        "import matplotlib.pyplot as plt"
      ],
      "execution_count": 0,
      "outputs": []
    },
    {
      "cell_type": "code",
      "metadata": {
        "id": "BQIB-EcUV-bP",
        "colab_type": "code",
        "colab": {}
      },
      "source": [
        "def generateCauchyData(N, mean):\n",
        "    return (np.random.standard_cauchy(N) * 100. + mean)"
      ],
      "execution_count": 0,
      "outputs": []
    },
    {
      "cell_type": "code",
      "metadata": {
        "id": "SOT9QmdoWXMs",
        "colab_type": "code",
        "colab": {}
      },
      "source": [
        "data = generateCauchyData(10000, 42.)"
      ],
      "execution_count": 0,
      "outputs": []
    },
    {
      "cell_type": "code",
      "metadata": {
        "id": "I215-j7hXRXu",
        "colab_type": "code",
        "colab": {
          "base_uri": "https://localhost:8080/",
          "height": 269
        },
        "outputId": "2b8bb61d-b737-474f-83c1-3f7f743b67d3"
      },
      "source": [
        "plt.plot(data)\n",
        "plt.show()"
      ],
      "execution_count": 5,
      "outputs": [
        {
          "output_type": "display_data",
          "data": {
            "image/png": "[encoded data removed]",
            "text/plain": [
              "<Figure size 432x288 with 1 Axes>"
            ]
          },
          "metadata": {
            "tags": []
          }
        }
      ]
    },
    {
      "cell_type": "code",
      "metadata": {
        "id": "bLge7EOmWClC",
        "colab_type": "code",
        "colab": {}
      },
      "source": [
        "def frequentistCenter(data):\n",
        "    return np.mean(data)"
      ],
      "execution_count": 0,
      "outputs": []
    },
    {
      "cell_type": "code",
      "metadata": {
        "id": "Novh783eWFOV",
        "colab_type": "code",
        "colab": {
          "base_uri": "https://localhost:8080/",
          "height": 34
        },
        "outputId": "4c153ba3-b83a-4269-b864-f0850f847748"
      },
      "source": [
        "X = frequentistCenter(data)\n",
        "print(\"Sample mean: \", X)"
      ],
      "execution_count": 7,
      "outputs": [
        {
          "output_type": "stream",
          "text": [
            "Sample mean:  -32.233152217001745\n"
          ],
          "name": "stdout"
        }
      ]
    },
    {
      "cell_type": "code",
      "metadata": {
        "id": "QFeCfAzkWHE3",
        "colab_type": "code",
        "colab": {}
      },
      "source": [
        "def bayesianCenter(data):\n",
        "\n",
        "    with pm.Model():\n",
        "        loc = pm.Uniform('location', lower=-1000., upper=1000.)\n",
        "        scale = pm.Uniform('scale', lower=0.01, upper=1000.)\n",
        "\n",
        "        pm.Cauchy('y', alpha=loc, beta=scale, observed=data)\n",
        "\n",
        "        trace = pm.sample(3000, tune=3000, target_accept=0.92)\n",
        "        # pm.traceplot(trace)\n",
        "        # plt.show()\n",
        "\n",
        "    return np.mean(trace['location'])\n",
        "\n"
      ],
      "execution_count": 0,
      "outputs": []
    },
    {
      "cell_type": "code",
      "metadata": {
        "id": "rmOB6JDPXrtY",
        "colab_type": "code",
        "colab": {
          "base_uri": "https://localhost:8080/",
          "height": 136
        },
        "outputId": "86ccc723-4aac-4ab4-a10c-9cba2f355e96"
      },
      "source": [
        "X2 = bayesianCenter(data)\n",
        "\n",
        "print(\"Bayesian mode (median, location): \", X2)"
      ],
      "execution_count": 14,
      "outputs": [
        {
          "output_type": "stream",
          "text": [
            "Auto-assigning NUTS sampler...\n",
            "Initializing NUTS using jitter+adapt_diag...\n",
            "Sequential sampling (2 chains in 1 job)\n",
            "NUTS: [scale, location]\n",
            "100%|██████████| 6000/6000 [00:21<00:00, 280.60it/s]\n",
            "100%|██████████| 6000/6000 [00:24<00:00, 243.35it/s]\n"
          ],
          "name": "stderr"
        },
        {
          "output_type": "stream",
          "text": [
            "Bayesian mode (median, location):  41.68356653609901\n"
          ],
          "name": "stdout"
        }
      ]
    }
  ]
}