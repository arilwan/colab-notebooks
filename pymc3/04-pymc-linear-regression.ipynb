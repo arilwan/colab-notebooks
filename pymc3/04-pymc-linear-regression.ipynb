{
 "cells": [
  {
   "cell_type": "code",
   "execution_count": null,
   "metadata": {
    "collapsed": true
   },
   "outputs": [],
   "source": [
    "%matplotlib inline\n",
    "import pymc3 as pm\n",
    "import numpy as np\n",
    "import pandas as pd\n",
    "import matplotlib.pyplot as plt\n",
    "\n",
    "%config InlineBackend.figure_formats = ['retina']\n",
    "plt.rc('font', size=12)\n",
    "plt.style.use('seaborn-darkgrid')"
   ]
  },
  {
   "cell_type": "code",
   "execution_count": null,
   "outputs": [],
   "source": [
    "# 1. generate the artificial dataset.\n",
    "N = 10000\n",
    "\n",
    "noise = np.random.normal(0.0, 0.1, N)\n",
    "X = np.random.normal(1.0, 0.1, N)\n",
    "obs_y = (0.65 * X) + 0.5 + noise"
   ],
   "metadata": {
    "collapsed": false,
    "pycharm": {
     "name": "#%%\n"
    }
   }
  },
  {
   "cell_type": "code",
   "execution_count": null,
   "outputs": [],
   "source": [
    "# 2. model that data with a simple regression model\n",
    "with pm.Model() as exercise2:\n",
    "\n",
    "    stdev = pm.HalfNormal('stdev', sd=1.)\n",
    "    intercept = pm.Normal('intercept', mu=0.0, sd=1.)\n",
    "    coeff = pm.Normal('beta', mu=0.5, sd=1.)\n",
    "\n",
    "    expected_value = (X * coeff) + intercept\n",
    "    y = pm.Normal('y', mu=expected_value, sd=stdev, observed=obs_y)"
   ],
   "metadata": {
    "collapsed": false,
    "pycharm": {
     "name": "#%%\n"
    }
   }
  },
  {
   "cell_type": "code",
   "execution_count": null,
   "outputs": [],
   "source": [
    "with exercise2:\n",
    "    trace = pm.sample(1000)"
   ],
   "metadata": {
    "collapsed": false,
    "pycharm": {
     "name": "#%%\n"
    }
   }
  },
  {
   "cell_type": "code",
   "execution_count": null,
   "outputs": [],
   "source": [
    "pm.traceplot(trace, ['intercept', 'beta', 'stdev']);"
   ],
   "metadata": {
    "collapsed": false,
    "pycharm": {
     "name": "#%%\n"
    }
   }
  },
  {
   "cell_type": "code",
   "execution_count": null,
   "outputs": [],
   "source": [
    "with exercise2:\n",
    "    ppc = pm.sample_ppc(trace, samples=1000) # NOTE: soon to be deprecated and replaced with sample_posterior_predictive\n",
    "\n",
    "y_preds = ppc['y']\n",
    "print(\"y_preds shape = \", ppc['y'].shape)\n",
    "\n",
    "# Same thing, but now using the expectation\n",
    "expected_y_pred = np.reshape(np.mean(y_preds, axis=0), [-1])"
   ],
   "metadata": {
    "collapsed": false,
    "pycharm": {
     "name": "#%%\n"
    }
   }
  },
  {
   "cell_type": "code",
   "execution_count": null,
   "outputs": [],
   "source": [
    "plt.figure(figsize=(10,6))\n",
    "plt.scatter(X, expected_y_pred, c='g')\n",
    "plt.scatter(X, obs_y, c='b', alpha=0.1)\n",
    "plt.title(\"Relationship between X and (predicted) Y\")\n",
    "plt.xlabel(\"X\")\n",
    "plt.ylabel(\"Y\")\n",
    "\n",
    "plt.show()\n",
    "\n"
   ],
   "metadata": {
    "collapsed": false,
    "pycharm": {
     "name": "#%%\n"
    }
   }
  }
 ],
 "metadata": {
  "kernelspec": {
   "display_name": "Python 3",
   "language": "python",
   "name": "python3"
  },
  "language_info": {
   "codemirror_mode": {
    "name": "ipython",
    "version": 2
   },
   "file_extension": ".py",
   "mimetype": "text/x-python",
   "name": "python",
   "nbconvert_exporter": "python",
   "pygments_lexer": "ipython2",
   "version": "2.7.6"
  },
  "pycharm": {
   "stem_cell": {
    "cell_type": "raw",
    "source": [],
    "metadata": {
     "collapsed": false
    }
   }
  }
 },
 "nbformat": 4,
 "nbformat_minor": 0
}