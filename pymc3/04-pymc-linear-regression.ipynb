{
  "nbformat": 4,
  "nbformat_minor": 0,
  "metadata": {
    "kernelspec": {
      "name": "python3",
      "display_name": "Python 3"
    },
    "language_info": {
      "codemirror_mode": {
        "name": "ipython",
        "version": 2
      },
      "file_extension": ".py",
      "mimetype": "text/x-python",
      "name": "python",
      "nbconvert_exporter": "python",
      "pygments_lexer": "ipython2",
      "version": "2.7.6"
    },
    "pycharm": {
      "stem_cell": {
        "cell_type": "raw",
        "source": [],
        "metadata": {
          "collapsed": false
        }
      }
    },
    "colab": {
      "name": "04-pymc-linear-regression.ipynb",
      "provenance": []
    },
    "accelerator": "GPU"
  },
  "cells": [
    {
      "cell_type": "code",
      "metadata": {
        "id": "reW_6QaTmubK",
        "colab_type": "code",
        "colab": {
          "base_uri": "https://localhost:8080/",
          "height": 306
        },
        "outputId": "3d459235-4374-4a44-ca1a-9e6368669482"
      },
      "source": [
        "!nvidia-smi"
      ],
      "execution_count": 2,
      "outputs": [
        {
          "output_type": "stream",
          "text": [
            "Thu Sep 26 03:26:42 2019       \n",
            "+-----------------------------------------------------------------------------+\n",
            "| NVIDIA-SMI 430.40       Driver Version: 418.67       CUDA Version: 10.1     |\n",
            "|-------------------------------+----------------------+----------------------+\n",
            "| GPU  Name        Persistence-M| Bus-Id        Disp.A | Volatile Uncorr. ECC |\n",
            "| Fan  Temp  Perf  Pwr:Usage/Cap|         Memory-Usage | GPU-Util  Compute M. |\n",
            "|===============================+======================+======================|\n",
            "|   0  Tesla T4            Off  | 00000000:00:04.0 Off |                    0 |\n",
            "| N/A   45C    P8    10W /  70W |      0MiB / 15079MiB |      0%      Default |\n",
            "+-------------------------------+----------------------+----------------------+\n",
            "                                                                               \n",
            "+-----------------------------------------------------------------------------+\n",
            "| Processes:                                                       GPU Memory |\n",
            "|  GPU       PID   Type   Process name                             Usage      |\n",
            "|=============================================================================|\n",
            "|  No running processes found                                                 |\n",
            "+-----------------------------------------------------------------------------+\n"
          ],
          "name": "stdout"
        }
      ]
    },
    {
      "cell_type": "code",
      "metadata": {
        "id": "Xug39REOmrkE",
        "colab_type": "code",
        "colab": {}
      },
      "source": [
        "%matplotlib inline\n",
        "import pymc3 as pm\n",
        "import numpy as np\n",
        "import pandas as pd\n",
        "import matplotlib.pyplot as plt\n",
        "\n",
        "%config InlineBackend.figure_formats = ['retina']\n",
        "plt.rc('font', size=12)\n",
        "plt.style.use('seaborn-darkgrid')"
      ],
      "execution_count": 0,
      "outputs": []
    },
    {
      "cell_type": "code",
      "metadata": {
        "pycharm": {
          "name": "#%%\n"
        },
        "id": "iuASpTz9mrkK",
        "colab_type": "code",
        "colab": {}
      },
      "source": [
        "# 1. generate the artificial dataset.\n",
        "N = 10000\n",
        "\n",
        "noise = np.random.normal(0.0, 0.1, N)\n",
        "X = np.random.normal(1.0, 0.1, N)\n",
        "obs_y = (0.65 * X) + 0.5 + noise"
      ],
      "execution_count": 0,
      "outputs": []
    },
    {
      "cell_type": "code",
      "metadata": {
        "pycharm": {
          "name": "#%%\n"
        },
        "id": "nlt-A6L4mrkR",
        "colab_type": "code",
        "colab": {}
      },
      "source": [
        "# 2. model that data with a simple regression model\n",
        "with pm.Model() as exercise2:\n",
        "\n",
        "    stdev = pm.HalfNormal('stdev', sd=1.)\n",
        "    intercept = pm.Normal('intercept', mu=0.0, sd=1.)\n",
        "    coeff = pm.Normal('beta', mu=0.5, sd=1.)\n",
        "\n",
        "    expected_value = (X * coeff) + intercept\n",
        "    y = pm.Normal('y', mu=expected_value, sd=stdev, observed=obs_y)"
      ],
      "execution_count": 0,
      "outputs": []
    },
    {
      "cell_type": "code",
      "metadata": {
        "pycharm": {
          "name": "#%%\n"
        },
        "id": "pptOXbUamrkY",
        "colab_type": "code",
        "colab": {}
      },
      "source": [
        "with exercise2:\n",
        "    trace = pm.sample(1000)"
      ],
      "execution_count": 0,
      "outputs": []
    },
    {
      "cell_type": "code",
      "metadata": {
        "pycharm": {
          "name": "#%%\n"
        },
        "id": "mb4EsDmQmrkf",
        "colab_type": "code",
        "colab": {}
      },
      "source": [
        "pm.traceplot(trace, ['intercept', 'beta', 'stdev']);"
      ],
      "execution_count": 0,
      "outputs": []
    },
    {
      "cell_type": "code",
      "metadata": {
        "pycharm": {
          "name": "#%%\n"
        },
        "id": "dd_xYq2Bmrkk",
        "colab_type": "code",
        "colab": {}
      },
      "source": [
        "with exercise2:\n",
        "    ppc = pm.sample_ppc(trace, samples=1000) # NOTE: soon to be deprecated and replaced with sample_posterior_predictive\n",
        "\n",
        "y_preds = ppc['y']\n",
        "print(\"y_preds shape = \", ppc['y'].shape)\n",
        "\n",
        "# Same thing, but now using the expectation\n",
        "expected_y_pred = np.reshape(np.mean(y_preds, axis=0), [-1])"
      ],
      "execution_count": 0,
      "outputs": []
    },
    {
      "cell_type": "code",
      "metadata": {
        "pycharm": {
          "name": "#%%\n"
        },
        "id": "4SY_Q8XQmrko",
        "colab_type": "code",
        "colab": {}
      },
      "source": [
        "plt.figure(figsize=(10,6))\n",
        "plt.scatter(X, expected_y_pred, c='g')\n",
        "plt.scatter(X, obs_y, c='b', alpha=0.1)\n",
        "plt.title(\"Relationship between X and (predicted) Y\")\n",
        "plt.xlabel(\"X\")\n",
        "plt.ylabel(\"Y\")\n",
        "\n",
        "plt.show()\n",
        "\n"
      ],
      "execution_count": 0,
      "outputs": []
    }
  ]
}