{
  "nbformat": 4,
  "nbformat_minor": 0,
  "metadata": {
    "colab": {
      "name": "bayesian-networks-pyagrum.ipynb",
      "provenance": [],
      "collapsed_sections": [],
      "authorship_tag": "ABX9TyPGNC2enWx4vMhyu/9S4fq6",
      "include_colab_link": true
    },
    "kernelspec": {
      "name": "python3",
      "display_name": "Python 3"
    }
  },
  "cells": [
    {
      "cell_type": "markdown",
      "metadata": {
        "id": "view-in-github",
        "colab_type": "text"
      },
      "source": [
        "<a href=\"https://colab.research.google.com/github/martin-fabbri/colab-notebooks/blob/master/bayesian-networks/bayesian_networks_pyagrum_titanic.ipynb\" target=\"_parent\"><img src=\"https://colab.research.google.com/assets/colab-badge.svg\" alt=\"Open In Colab\"/></a>"
      ]
    },
    {
      "cell_type": "markdown",
      "metadata": {
        "id": "tWgcO3BpkztE",
        "colab_type": "text"
      },
      "source": [
        "# Graphical Models"
      ]
    },
    {
      "cell_type": "code",
      "metadata": {
        "id": "93VhNZJ_k3sP",
        "colab_type": "code",
        "outputId": "33b12852-d930-4672-d865-ac7eaee77bbe",
        "colab": {
          "base_uri": "https://localhost:8080/",
          "height": 35
        }
      },
      "source": [
        "!pip install -q pyagrum"
      ],
      "execution_count": 0,
      "outputs": [
        {
          "output_type": "stream",
          "text": [
            "\u001b[K     |████████████████████████████████| 4.5MB 5.2MB/s \n",
            "\u001b[?25h"
          ],
          "name": "stdout"
        }
      ]
    },
    {
      "cell_type": "code",
      "metadata": {
        "id": "KkNa8J9sk3pv",
        "colab_type": "code",
        "colab": {}
      },
      "source": [
        "%matplotlib inline\n",
        "from pylab import *\n",
        "import matplotlib.pyplot as plt\n",
        "import os\n",
        "import pyAgrum as gum\n",
        "import pyAgrum.lib.notebook as gnb\n",
        "\n",
        "from IPython.display import Image"
      ],
      "execution_count": 0,
      "outputs": []
    },
    {
      "cell_type": "markdown",
      "metadata": {
        "id": "9iNLuFTknhG0",
        "colab_type": "text"
      },
      "source": [
        "A **Bayesian network(BN)** is composed of random variables(nodes) and their conditional dependencies(arcs) which, together, form a directed acyclic graph (DAG). A conditional probability table (CPT) is associated with each node. It contains the conditional probability distribution of the node given its parents in the DAG:\n",
        "\n",
        "Such a BN allows to manipulate the joint probability $\\small P(C,S,R,W)$ using this decomposition:\n",
        "\n",
        "$$\\small P(C,S,R,W)=\\prod_X P(X | Parents_X) = P(C) \\cdot P(S | C) \\cdot P(R | C) \\cdot P(W | S,R)$$\n",
        "\n",
        "Imagine you want to create your first Bayesian network, say for example the 'Water Sprinkler' network. This is an easy example. All the nodes are Boolean (only 2 possible values). You can proceed as follows."
      ]
    },
    {
      "cell_type": "code",
      "metadata": {
        "id": "VQ7fkpczk3mm",
        "colab_type": "code",
        "outputId": "9a45563c-eb6c-47a4-ad09-315a9c2a1d17",
        "colab": {
          "base_uri": "https://localhost:8080/",
          "height": 421
        }
      },
      "source": [
        "Image(url='http://www-desir.lip6.fr/~phw/aGrUM/docs/last/notebooks/images/waterprinkler.png', width=500)"
      ],
      "execution_count": 0,
      "outputs": [
        {
          "output_type": "execute_result",
          "data": {
            "text/html": [
              "<img src=\"http://www-desir.lip6.fr/~phw/aGrUM/docs/last/notebooks/images/waterprinkler.png\" width=\"500\"/>"
            ],
            "text/plain": [
              "<IPython.core.display.Image object>"
            ]
          },
          "metadata": {
            "tags": []
          },
          "execution_count": 3
        }
      ]
    },
    {
      "cell_type": "markdown",
      "metadata": {
        "id": "PYhzsWF4qDgP",
        "colab_type": "text"
      },
      "source": [
        "## Create the network topology"
      ]
    },
    {
      "cell_type": "code",
      "metadata": {
        "id": "kM6t2ETkk3j2",
        "colab_type": "code",
        "outputId": "d28190c9-2313-4dd9-c721-144de3cb9eec",
        "colab": {
          "base_uri": "https://localhost:8080/",
          "height": 35
        }
      },
      "source": [
        "bn = gum.BayesNet('WatherSprinkler')\n",
        "print(bn)"
      ],
      "execution_count": 0,
      "outputs": [
        {
          "output_type": "stream",
          "text": [
            "BN{nodes: 0, arcs: 0, domainSize: 1, dim: 0}\n"
          ],
          "name": "stdout"
        }
      ]
    },
    {
      "cell_type": "markdown",
      "metadata": {
        "id": "eie7gVX9sXcu",
        "colab_type": "text"
      },
      "source": [
        "## Create the variables\n",
        "\n",
        "pyAgrum provides 3 types of variables:\n",
        "- LabelizedVariable\n",
        "- RangeVariable\n",
        "- DiscretizedVariable\n",
        "\n",
        "We will use LabelizedVariable, which is a variable whose domain is a finite set of labels. \n",
        "\n",
        "The next cell will create a variable named 'c', with 2 values and described as 'cloudy?', and it will add it to the BN. The value returned is the id of the node in the graphical structure (the DAG). pyAgrum actually distinguishes the random variable (here the labelizedVariable) from its node in the DAG: the latter is identified through a numeric id. Of course, pyAgrum provides functions to get the id of a node given the corresponding variable and conversely."
      ]
    },
    {
      "cell_type": "code",
      "metadata": {
        "id": "r9aakNRsk3gs",
        "colab_type": "code",
        "outputId": "be0b9e95-814c-47fe-b847-8e296a8b847a",
        "colab": {
          "base_uri": "https://localhost:8080/",
          "height": 35
        }
      },
      "source": [
        "c = bn.add(gum.LabelizedVariable('c', 'cloudy?', 2))\n",
        "print(c)"
      ],
      "execution_count": 0,
      "outputs": [
        {
          "output_type": "stream",
          "text": [
            "0\n"
          ],
          "name": "stdout"
        }
      ]
    },
    {
      "cell_type": "code",
      "metadata": {
        "id": "S2eZLPAGwSWX",
        "colab_type": "code",
        "outputId": "cff7aca8-dd9e-4d4d-ae8e-bb628c5e1771",
        "colab": {
          "base_uri": "https://localhost:8080/",
          "height": 69
        }
      },
      "source": [
        "for name, label in zip(['s', 'r', 'w'], ['Sprinkler?', 'Rain?', 'Wet Grass?']):\n",
        "  print(name, label)"
      ],
      "execution_count": 0,
      "outputs": [
        {
          "output_type": "stream",
          "text": [
            "s Sprinkler?\n",
            "r Rain?\n",
            "w Wet Grass?\n"
          ],
          "name": "stdout"
        }
      ]
    },
    {
      "cell_type": "code",
      "metadata": {
        "id": "JZ2Idxb9k3dR",
        "colab_type": "code",
        "outputId": "46a35fd0-33b3-48a9-8f8e-d23e912d7c25",
        "colab": {
          "base_uri": "https://localhost:8080/",
          "height": 52
        }
      },
      "source": [
        "s, r, w = [bn.add(gum.LabelizedVariable(name, label, 2)) for name, label in zip(['s', 'r', 'w'], ['Sprinkler?', 'Rain?', 'Wet Grass?'])]\n",
        "print(s, r, w)\n",
        "print(bn)"
      ],
      "execution_count": 0,
      "outputs": [
        {
          "output_type": "stream",
          "text": [
            "1 2 3\n",
            "BN{nodes: 4, arcs: 0, domainSize: 16, dim: 8}\n"
          ],
          "name": "stdout"
        }
      ]
    },
    {
      "cell_type": "code",
      "metadata": {
        "id": "VCXllDhzuQPx",
        "colab_type": "code",
        "outputId": "b73224be-2e6a-4c6c-d430-ebd5d5f8c5a0",
        "colab": {
          "base_uri": "https://localhost:8080/",
          "height": 35
        }
      },
      "source": [
        "for link in [(c, s), (c, r), (s, w), (r, w)]:\n",
        "  bn.addArc(*link)\n",
        "print(bn)"
      ],
      "execution_count": 0,
      "outputs": [
        {
          "output_type": "stream",
          "text": [
            "BN{nodes: 4, arcs: 4, domainSize: 16, dim: 18}\n"
          ],
          "name": "stdout"
        }
      ]
    },
    {
      "cell_type": "code",
      "metadata": {
        "id": "HdECKGlPuQNE",
        "colab_type": "code",
        "outputId": "d66d6a9e-fa36-4406-c18d-bbd152cf895f",
        "colab": {
          "base_uri": "https://localhost:8080/",
          "height": 272
        }
      },
      "source": [
        "bn"
      ],
      "execution_count": 0,
      "outputs": [
        {
          "output_type": "execute_result",
          "data": {
            "text/html": [
              "<svg height=\"188pt\" viewBox=\"0.00 0.00 134.00 188.00\" width=\"134pt\" xmlns=\"http://www.w3.org/2000/svg\" xmlns:xlink=\"http://www.w3.org/1999/xlink\">\n",
              "<g class=\"graph\" id=\"graph0\" transform=\"scale(1 1) rotate(0) translate(4 184)\">\n",
              "<title>G</title>\n",
              "<!-- c -->\n",
              "<g class=\"node\" id=\"node1\">\n",
              "<title>c</title>\n",
              "<g id=\"a_node1\"><a xlink:title=\"(0) c\">\n",
              "<ellipse cx=\"63\" cy=\"-162\" fill=\"#404040\" rx=\"27\" ry=\"18\" stroke=\"#000000\"/>\n",
              "<text fill=\"#ffffff\" font-family=\"Times,serif\" font-size=\"14.00\" text-anchor=\"middle\" x=\"63\" y=\"-158.3\">c</text>\n",
              "</a>\n",
              "</g>\n",
              "</g>\n",
              "<!-- s -->\n",
              "<g class=\"node\" id=\"node2\">\n",
              "<title>s</title>\n",
              "<g id=\"a_node2\"><a xlink:title=\"(1) s\">\n",
              "<ellipse cx=\"27\" cy=\"-90\" fill=\"#404040\" rx=\"27\" ry=\"18\" stroke=\"#000000\"/>\n",
              "<text fill=\"#ffffff\" font-family=\"Times,serif\" font-size=\"14.00\" text-anchor=\"middle\" x=\"27\" y=\"-86.3\">s</text>\n",
              "</a>\n",
              "</g>\n",
              "</g>\n",
              "<!-- c&#45;&gt;s -->\n",
              "<g class=\"edge\" id=\"edge1\">\n",
              "<title>c-&gt;s</title>\n",
              "<g id=\"a_edge1\"><a xlink:title=\"(0, 1) : \">\n",
              "<path d=\"M54.2854,-144.5708C50.0403,-136.0807 44.8464,-125.6929 40.1337,-116.2674\" fill=\"none\" stroke=\"#4a4a4a\"/>\n",
              "<polygon fill=\"#4a4a4a\" points=\"43.237,-114.6477 35.6343,-107.2687 36.976,-117.7782 43.237,-114.6477\" stroke=\"#4a4a4a\"/>\n",
              "</a>\n",
              "</g>\n",
              "</g>\n",
              "<!-- r -->\n",
              "<g class=\"node\" id=\"node3\">\n",
              "<title>r</title>\n",
              "<g id=\"a_node3\"><a xlink:title=\"(2) r\">\n",
              "<ellipse cx=\"99\" cy=\"-90\" fill=\"#404040\" rx=\"27\" ry=\"18\" stroke=\"#000000\"/>\n",
              "<text fill=\"#ffffff\" font-family=\"Times,serif\" font-size=\"14.00\" text-anchor=\"middle\" x=\"99\" y=\"-86.3\">r</text>\n",
              "</a>\n",
              "</g>\n",
              "</g>\n",
              "<!-- c&#45;&gt;r -->\n",
              "<g class=\"edge\" id=\"edge4\">\n",
              "<title>c-&gt;r</title>\n",
              "<g id=\"a_edge4\"><a xlink:title=\"(0, 2) : \">\n",
              "<path d=\"M71.7146,-144.5708C75.9597,-136.0807 81.1536,-125.6929 85.8663,-116.2674\" fill=\"none\" stroke=\"#4a4a4a\"/>\n",
              "<polygon fill=\"#4a4a4a\" points=\"89.024,-117.7782 90.3657,-107.2687 82.763,-114.6477 89.024,-117.7782\" stroke=\"#4a4a4a\"/>\n",
              "</a>\n",
              "</g>\n",
              "</g>\n",
              "<!-- w -->\n",
              "<g class=\"node\" id=\"node4\">\n",
              "<title>w</title>\n",
              "<g id=\"a_node4\"><a xlink:title=\"(3) w\">\n",
              "<ellipse cx=\"63\" cy=\"-18\" fill=\"#404040\" rx=\"27\" ry=\"18\" stroke=\"#000000\"/>\n",
              "<text fill=\"#ffffff\" font-family=\"Times,serif\" font-size=\"14.00\" text-anchor=\"middle\" x=\"63\" y=\"-14.3\">w</text>\n",
              "</a>\n",
              "</g>\n",
              "</g>\n",
              "<!-- s&#45;&gt;w -->\n",
              "<g class=\"edge\" id=\"edge2\">\n",
              "<title>s-&gt;w</title>\n",
              "<g id=\"a_edge2\"><a xlink:title=\"(1, 3) : \">\n",
              "<path d=\"M35.7146,-72.5708C39.9597,-64.0807 45.1536,-53.6929 49.8663,-44.2674\" fill=\"none\" stroke=\"#4a4a4a\"/>\n",
              "<polygon fill=\"#4a4a4a\" points=\"53.024,-45.7782 54.3657,-35.2687 46.763,-42.6477 53.024,-45.7782\" stroke=\"#4a4a4a\"/>\n",
              "</a>\n",
              "</g>\n",
              "</g>\n",
              "<!-- r&#45;&gt;w -->\n",
              "<g class=\"edge\" id=\"edge3\">\n",
              "<title>r-&gt;w</title>\n",
              "<g id=\"a_edge3\"><a xlink:title=\"(2, 3) : \">\n",
              "<path d=\"M90.2854,-72.5708C86.0403,-64.0807 80.8464,-53.6929 76.1337,-44.2674\" fill=\"none\" stroke=\"#4a4a4a\"/>\n",
              "<polygon fill=\"#4a4a4a\" points=\"79.237,-42.6477 71.6343,-35.2687 72.976,-45.7782 79.237,-42.6477\" stroke=\"#4a4a4a\"/>\n",
              "</a>\n",
              "</g>\n",
              "</g>\n",
              "</g>\n",
              "</svg>"
            ],
            "text/plain": [
              "(gum::BayesNet<double>@0x357c000) BN{nodes: 4, arcs: 4, domainSize: 16, dim: 18}"
            ]
          },
          "metadata": {
            "tags": []
          },
          "execution_count": 9
        }
      ]
    },
    {
      "cell_type": "markdown",
      "metadata": {
        "id": "1KqOIjGyv1nD",
        "colab_type": "text"
      },
      "source": [
        "## Create the probability tables\n",
        "\n",
        "Once the network topology is constructed, we must initialize the conditional probability tables (CPT) distributions.\n",
        "Each CPT is considered as a Potential object in pyAgrum. There are several ways to fill such an object.\n",
        "\n",
        "To get the CPT of a variable, use the cpt method of your BayesNet instance with the variable's id as parameter.\n",
        "\n",
        "Now we are ready to fill in the parameters of each node in our network. There are several ways to add these parameters."
      ]
    },
    {
      "cell_type": "markdown",
      "metadata": {
        "id": "jNIE9vsfv_4X",
        "colab_type": "text"
      },
      "source": [
        "## Low-level way"
      ]
    },
    {
      "cell_type": "code",
      "metadata": {
        "id": "IIfXWWhiuQKf",
        "colab_type": "code",
        "outputId": "0697844f-be94-437c-825c-619f46360668",
        "colab": {
          "base_uri": "https://localhost:8080/",
          "height": 84
        }
      },
      "source": [
        "bn.cpt(c).fillWith([0.5, 0.5])"
      ],
      "execution_count": 0,
      "outputs": [
        {
          "output_type": "execute_result",
          "data": {
            "text/html": [
              "<table style=\"border:1px solid black;\">\n",
              "<tr style='border:1px solid black;color:black;background-color:#808080'><th colspan='2'><center>c</center></th></tr>\n",
              "<tr><th style='border:1px solid black;border-bottom-style: double;color:black;background-color:#BBBBBB'><center>0</center></th><th style='border:1px solid black;border-bottom-style: double;color:black;background-color:#BBBBBB'><center>1</center></th></tr>\n",
              "<tr><td style='color:black;background-color:#bfbf64;text-align:right;'>0.5000</td><td style='color:black;background-color:#bfbf64;text-align:right;'>0.5000</td></tr>\n",
              "</table>"
            ],
            "text/plain": [
              "(gum::Potential<double>@0x2cb3a00) <c:0> :: 0.5 /<c:1> :: 0.5"
            ]
          },
          "metadata": {
            "tags": []
          },
          "execution_count": 10
        }
      ]
    },
    {
      "cell_type": "code",
      "metadata": {
        "id": "rqg0dPySuQHV",
        "colab_type": "code",
        "outputId": "d4a02213-dc19-4844-fe1c-25b5cb9a1385",
        "colab": {
          "base_uri": "https://localhost:8080/",
          "height": 84
        }
      },
      "source": [
        "bn.cpt('c').fillWith([0.4, 0.6])"
      ],
      "execution_count": 0,
      "outputs": [
        {
          "output_type": "execute_result",
          "data": {
            "text/html": [
              "<table style=\"border:1px solid black;\">\n",
              "<tr style='border:1px solid black;color:black;background-color:#808080'><th colspan='2'><center>c</center></th></tr>\n",
              "<tr><th style='border:1px solid black;border-bottom-style: double;color:black;background-color:#BBBBBB'><center>0</center></th><th style='border:1px solid black;border-bottom-style: double;color:black;background-color:#BBBBBB'><center>1</center></th></tr>\n",
              "<tr><td style='color:black;background-color:#cbb264;text-align:right;'>0.4000</td><td style='color:black;background-color:#b2cb64;text-align:right;'>0.6000</td></tr>\n",
              "</table>"
            ],
            "text/plain": [
              "(gum::Potential<double>@0x2cb3a00) <c:0> :: 0.4 /<c:1> :: 0.6"
            ]
          },
          "metadata": {
            "tags": []
          },
          "execution_count": 11
        }
      ]
    },
    {
      "cell_type": "markdown",
      "metadata": {
        "id": "saam0ped4x__",
        "colab_type": "text"
      },
      "source": [
        "## Using the order of variables"
      ]
    },
    {
      "cell_type": "code",
      "metadata": {
        "id": "duz4SBW0uQEF",
        "colab_type": "code",
        "outputId": "fdba0c8c-d4e7-43d9-b10a-7d85200cc1d2",
        "colab": {
          "base_uri": "https://localhost:8080/",
          "height": 35
        }
      },
      "source": [
        "bn.cpt(s).var_names"
      ],
      "execution_count": 0,
      "outputs": [
        {
          "output_type": "execute_result",
          "data": {
            "text/plain": [
              "['c', 's']"
            ]
          },
          "metadata": {
            "tags": []
          },
          "execution_count": 12
        }
      ]
    },
    {
      "cell_type": "code",
      "metadata": {
        "id": "2gB5hO41uQBA",
        "colab_type": "code",
        "colab": {}
      },
      "source": [
        "bn.cpt(s)[:]=[[0.5, 0.5], [0.9, 0.1]]"
      ],
      "execution_count": 0,
      "outputs": []
    },
    {
      "cell_type": "markdown",
      "metadata": {
        "id": "r8dGN8EV5ySL",
        "colab_type": "text"
      },
      "source": [
        "Then $\\small P(S | C=0)=[0.5,0.5]$ <br/>and $\\small P(S | C=1)=[0.9,0.1]$."
      ]
    },
    {
      "cell_type": "code",
      "metadata": {
        "id": "AyZzbeMNuP-Y",
        "colab_type": "code",
        "outputId": "50efe550-c0e4-42a3-c56c-f019cd0bbe53",
        "colab": {
          "base_uri": "https://localhost:8080/",
          "height": 35
        }
      },
      "source": [
        "print(bn.cpt(s)[1])"
      ],
      "execution_count": 0,
      "outputs": [
        {
          "output_type": "stream",
          "text": [
            "[0.9 0.1]\n"
          ],
          "name": "stdout"
        }
      ]
    },
    {
      "cell_type": "code",
      "metadata": {
        "id": "bEfMua4DuP7n",
        "colab_type": "code",
        "colab": {}
      },
      "source": [
        "bn.cpt(s)[0,:] = 0.5\n",
        "bn.cpt(s)[1,:] = [0.9,0.1]"
      ],
      "execution_count": 0,
      "outputs": []
    },
    {
      "cell_type": "code",
      "metadata": {
        "id": "5mW0qlCiuP4W",
        "colab_type": "code",
        "outputId": "d21d3cc1-c119-4d44-e50c-5aee472a76a9",
        "colab": {
          "base_uri": "https://localhost:8080/",
          "height": 35
        }
      },
      "source": [
        "bn.cpt(w).var_names"
      ],
      "execution_count": 0,
      "outputs": [
        {
          "output_type": "execute_result",
          "data": {
            "text/plain": [
              "['r', 's', 'w']"
            ]
          },
          "metadata": {
            "tags": []
          },
          "execution_count": 16
        }
      ]
    },
    {
      "cell_type": "code",
      "metadata": {
        "id": "foqLDCIPuP1M",
        "colab_type": "code",
        "outputId": "3e77431b-6d46-4a58-c986-e57bdb0e6bdc",
        "colab": {
          "base_uri": "https://localhost:8080/",
          "height": 154
        }
      },
      "source": [
        "bn.cpt(w)[0,0,:] = [1, 0] # r=0,s=0\n",
        "bn.cpt(w)[0,1,:] = [0.1, 0.9] # r=0,s=1\n",
        "bn.cpt(w)[1,0,:] = [0.1, 0.9] # r=1,s=0\n",
        "bn.cpt(w)[1,1,:] = [0.01, 0.99] # r=1,s=1\n",
        "bn.cpt(w)"
      ],
      "execution_count": 0,
      "outputs": [
        {
          "output_type": "execute_result",
          "data": {
            "text/html": [
              "<table style=\"border:1px solid black;\">\n",
              "<tr><th colspan='2'></th><th colspan='2' style='border:1px solid black;color:black;background-color:#808080;'><center>w</center></th></tr>\n",
              "<tr><th style='border:1px solid black;color:black;background-color:#808080'><center>r</center></th><th style='border:1px solid black;color:black;background-color:#808080'><center>s</center></th><th style='border:1px solid black;border-bottom-style: double;color:black;background-color:#BBBBBB'><center>0</center></th><th style='border:1px solid black;border-bottom-style: double;color:black;background-color:#BBBBBB'><center>1</center></th></tr>\n",
              "<tr><th style='border:1px solid black;color:black;background-color:#BBBBBB;' rowspan = '2'><center>0</center></th><th style='border:1px solid black;color:black;background-color:#BBBBBB'><center>0</center></th><td style='color:black;background-color:#7fff64;text-align:right;'>1.0000</td><td style='color:black;background-color:#ff7f64;text-align:right;'>0.0000</td></tr>\n",
              "<tr><th style='border:1px solid black;color:black;background-color:#BBBBBB'><center>1</center></th><td style='color:black;background-color:#f28b64;text-align:right;'>0.1000</td><td style='color:black;background-color:#8bf264;text-align:right;'>0.9000</td></tr>\n",
              "<tr><th style='border:1px solid black;color:black;background-color:#BBBBBB;' rowspan = '2'><center>1</center></th><th style='border:1px solid black;color:black;background-color:#BBBBBB'><center>0</center></th><td style='color:black;background-color:#f28b64;text-align:right;'>0.1000</td><td style='color:black;background-color:#8bf264;text-align:right;'>0.9000</td></tr>\n",
              "<tr><th style='border:1px solid black;color:black;background-color:#BBBBBB'><center>1</center></th><td style='color:black;background-color:#fd8064;text-align:right;'>0.0100</td><td style='color:black;background-color:#80fd64;text-align:right;'>0.9900</td></tr>\n",
              "</table>"
            ],
            "text/plain": [
              "(gum::Potential<double>@0x1be0980) <w:0|s:0|r:0> :: 1 /<w:1|s:0|r:0> :: 0 /<w:0|s:1|r:0> :: 0.1 /<w:1|s:1|r:0> :: 0.9 /<w:0|s:0|r:1> :: 0.1 /<w:1|s:0|r:1> :: 0.9 /<w:0|s:1|r:1> :: 0.01 /<w:1|s:1|r:1> :: 0.99"
            ]
          },
          "metadata": {
            "tags": []
          },
          "execution_count": 17
        }
      ]
    },
    {
      "cell_type": "code",
      "metadata": {
        "id": "fKtoqUdv-xVy",
        "colab_type": "code",
        "colab": {}
      },
      "source": [
        "bn.cpt(r)[{'c':0}]=[0.8,0.2]\n",
        "bn.cpt(r)[{'c':1}]=[0.2,0.8]"
      ],
      "execution_count": 0,
      "outputs": []
    },
    {
      "cell_type": "markdown",
      "metadata": {
        "id": "AEzj0dKS-9oU",
        "colab_type": "text"
      },
      "source": [
        "## Input/output"
      ]
    },
    {
      "cell_type": "code",
      "metadata": {
        "id": "ljCeZ0ls-0IP",
        "colab_type": "code",
        "outputId": "07e6906c-cbdd-4590-a7e3-1669ff920206",
        "colab": {
          "base_uri": "https://localhost:8080/",
          "height": 35
        }
      },
      "source": [
        "print(gum.availableBNExts())"
      ],
      "execution_count": 0,
      "outputs": [
        {
          "output_type": "stream",
          "text": [
            "bif|dsl|net|bifxml|o3prm|uai\n"
          ],
          "name": "stdout"
        }
      ]
    },
    {
      "cell_type": "code",
      "metadata": {
        "id": "NO01akKy-0GG",
        "colab_type": "code",
        "colab": {}
      },
      "source": [
        "# gum.saveBN(bn, os.path.join(\"out\",\"WaterSprinkler.bif\"))"
      ],
      "execution_count": 0,
      "outputs": []
    },
    {
      "cell_type": "markdown",
      "metadata": {
        "id": "vEBi22Y9_v7H",
        "colab_type": "text"
      },
      "source": [
        "## Inference in Bayesian Networks"
      ]
    },
    {
      "cell_type": "code",
      "metadata": {
        "id": "BXTNwmyq-0C4",
        "colab_type": "code",
        "outputId": "8c17b993-aec4-478a-ca7e-0a15a7d5da00",
        "colab": {
          "base_uri": "https://localhost:8080/",
          "height": 35
        }
      },
      "source": [
        "ie = gum.LazyPropagation(bn)\n",
        "ie.makeInference()\n",
        "print(ie.posterior(w))"
      ],
      "execution_count": 0,
      "outputs": [
        {
          "output_type": "stream",
          "text": [
            "<w:0> :: 0.33328 /<w:1> :: 0.66672\n"
          ],
          "name": "stdout"
        }
      ]
    },
    {
      "cell_type": "markdown",
      "metadata": {
        "id": "TaTXlH8_BGqH",
        "colab_type": "text"
      },
      "source": [
        "In our BN, $P(W) = [ 0.3529,\\ \\  0.6471]$"
      ]
    },
    {
      "cell_type": "code",
      "metadata": {
        "id": "gIMnvvDE-0AC",
        "colab_type": "code",
        "outputId": "7fe9ccf3-c3ef-43eb-84f9-af86de4f559d",
        "colab": {
          "base_uri": "https://localhost:8080/",
          "height": 84
        }
      },
      "source": [
        "ie.posterior(w)"
      ],
      "execution_count": 0,
      "outputs": [
        {
          "output_type": "execute_result",
          "data": {
            "text/html": [
              "<table style=\"border:1px solid black;\">\n",
              "<tr style='border:1px solid black;color:black;background-color:#808080'><th colspan='2'><center>w</center></th></tr>\n",
              "<tr><th style='border:1px solid black;border-bottom-style: double;color:black;background-color:#BBBBBB'><center>0</center></th><th style='border:1px solid black;border-bottom-style: double;color:black;background-color:#BBBBBB'><center>1</center></th></tr>\n",
              "<tr><td style='color:black;background-color:#d4a964;text-align:right;'>0.3333</td><td style='color:black;background-color:#a9d464;text-align:right;'>0.6667</td></tr>\n",
              "</table>"
            ],
            "text/plain": [
              "(gum::Potential<double>@0x1e1e060) <w:0> :: 0.33328 /<w:1> :: 0.66672"
            ]
          },
          "metadata": {
            "tags": []
          },
          "execution_count": 22
        }
      ]
    },
    {
      "cell_type": "markdown",
      "metadata": {
        "id": "DBVRYhueEEJQ",
        "colab_type": "text"
      },
      "source": [
        "## Inference with evidence\n",
        "\n",
        "Suppose now that you know that the sprinkler is on and that it is not cloudy, and you wonder what Is the probability of the grass being wet, i.e., you are interested in distribution $P(W|S=1,C=0)$. <br/>The new knowledge you have (sprinkler is on and it is not cloudy) is called evidence. Evidence is entered using a dictionary. When you know precisely the value taken by a random variable, the evidence is called a hard evidence. This is the case, for instance, when I know for sure that the sprinkler is on. In this case, the knowledge is entered in the dictionary as 'variable name':label"
      ]
    },
    {
      "cell_type": "code",
      "metadata": {
        "id": "PQY_PgJx-z-I",
        "colab_type": "code",
        "outputId": "8685e0c3-c6dc-4c3f-f482-a58322a69816",
        "colab": {
          "base_uri": "https://localhost:8080/",
          "height": 84
        }
      },
      "source": [
        "# P(w|s=1,c=0)\n",
        "ie.setEvidence({'s':0, 'c':0})\n",
        "ie.makeInference()\n",
        "ie.posterior(w)"
      ],
      "execution_count": 0,
      "outputs": [
        {
          "output_type": "execute_result",
          "data": {
            "text/html": [
              "<table style=\"border:1px solid black;\">\n",
              "<tr style='border:1px solid black;color:black;background-color:#808080'><th colspan='2'><center>w</center></th></tr>\n",
              "<tr><th style='border:1px solid black;border-bottom-style: double;color:black;background-color:#BBBBBB'><center>0</center></th><th style='border:1px solid black;border-bottom-style: double;color:black;background-color:#BBBBBB'><center>1</center></th></tr>\n",
              "<tr><td style='color:black;background-color:#96e764;text-align:right;'>0.8200</td><td style='color:black;background-color:#e79664;text-align:right;'>0.1800</td></tr>\n",
              "</table>"
            ],
            "text/plain": [
              "(gum::Potential<double>@0x1e1e680) <w:0> :: 0.82 /<w:1> :: 0.18"
            ]
          },
          "metadata": {
            "tags": []
          },
          "execution_count": 23
        }
      ]
    },
    {
      "cell_type": "markdown",
      "metadata": {
        "id": "TWLOhhsWLSi5",
        "colab_type": "text"
      },
      "source": [
        "When you have incomplete knowledge about the value of a random variable, this is called a soft evidence. In this case, this evidence is entered as the belief you have over the possible values that the random variable can take, in other words, as <em>P(evidence|true value of the variable)</em>. Imagine for instance that you think that if the sprinkler is off, you have only 50% chances of knowing it, but if it is on, you are sure to know it. Then, your belief about the state of the sprinkler is [0.5, 1] and you should enter this knowledge as shown below. Of course, hard evidence are special cases of soft evidence in which the beliefs over all the values of the random variable but one are equal to 0."
      ]
    },
    {
      "cell_type": "code",
      "metadata": {
        "id": "Mz-ACWtX-z68",
        "colab_type": "code",
        "outputId": "1057ffae-8089-4098-f7ab-7db1f5045ad0",
        "colab": {
          "base_uri": "https://localhost:8080/",
          "height": 84
        }
      },
      "source": [
        "ie.setEvidence({'s': [0.5, 1], 'c': [1, 0]})\n",
        "ie.makeInference()\n",
        "ie.posterior(w)"
      ],
      "execution_count": 0,
      "outputs": [
        {
          "output_type": "execute_result",
          "data": {
            "text/html": [
              "<table style=\"border:1px solid black;\">\n",
              "<tr style='border:1px solid black;color:black;background-color:#808080'><th colspan='2'><center>w</center></th></tr>\n",
              "<tr><th style='border:1px solid black;border-bottom-style: double;color:black;background-color:#BBBBBB'><center>0</center></th><th style='border:1px solid black;border-bottom-style: double;color:black;background-color:#BBBBBB'><center>1</center></th></tr>\n",
              "<tr><td style='color:black;background-color:#d5a864;text-align:right;'>0.3280</td><td style='color:black;background-color:#a8d564;text-align:right;'>0.6720</td></tr>\n",
              "</table>"
            ],
            "text/plain": [
              "(gum::Potential<double>@0x1be1f60) <w:0> :: 0.328 /<w:1> :: 0.672"
            ]
          },
          "metadata": {
            "tags": []
          },
          "execution_count": 24
        }
      ]
    },
    {
      "cell_type": "code",
      "metadata": {
        "id": "bNVVJqVe-z3S",
        "colab_type": "code",
        "outputId": "87d7d89c-c395-47f0-f6df-06b2a63377ab",
        "colab": {
          "base_uri": "https://localhost:8080/",
          "height": 102
        }
      },
      "source": [
        "%matplotlib inline\n",
        "gnb.showProba(ie.posterior(w))"
      ],
      "execution_count": 0,
      "outputs": [
        {
          "output_type": "display_data",
          "data": {
            "text/plain": [
              "<Figure size 144x36 with 1 Axes>"
            ],
            "image/svg+xml": "<?xml version=\"1.0\" encoding=\"utf-8\" standalone=\"no\"?>\n<!DOCTYPE svg PUBLIC \"-//W3C//DTD SVG 1.1//EN\"\n  \"http://www.w3.org/Graphics/SVG/1.1/DTD/svg11.dtd\">\n<!-- Created with matplotlib (https://matplotlib.org/) -->\n<svg height=\"60.198125pt\" version=\"1.1\" viewBox=\"0 0 139.3625 60.198125\" width=\"139.3625pt\" xmlns=\"http://www.w3.org/2000/svg\" xmlns:xlink=\"http://www.w3.org/1999/xlink\">\n <defs>\n  <style type=\"text/css\">\n*{stroke-linecap:butt;stroke-linejoin:round;}\n  </style>\n </defs>\n <g id=\"figure_1\">\n  <g id=\"patch_1\">\n   <path d=\"M 0 60.198125 \nL 139.3625 60.198125 \nL 139.3625 0 \nL 0 0 \nz\n\" style=\"fill:#e0e0e0;\"/>\n  </g>\n  <g id=\"axes_1\">\n   <g id=\"patch_2\">\n    <path d=\"M 20.5625 49.498125 \nL 132.1625 49.498125 \nL 132.1625 22.318125 \nL 20.5625 22.318125 \nz\n\" style=\"fill:#ffffff;\"/>\n   </g>\n   <g id=\"patch_3\">\n    <path clip-path=\"url(#pa48213324b)\" d=\"M 20.5625 49.498125 \nL 95.5577 49.498125 \nL 95.5577 37.418125 \nL 20.5625 37.418125 \nz\n\" style=\"fill:#8fbc8f;\"/>\n   </g>\n   <g id=\"patch_4\">\n    <path clip-path=\"url(#pa48213324b)\" d=\"M 20.5625 34.398125 \nL 57.1673 34.398125 \nL 57.1673 22.318125 \nL 20.5625 22.318125 \nz\n\" style=\"fill:#8fbc8f;\"/>\n   </g>\n   <g id=\"matplotlib.axis_1\">\n    <g id=\"xtick_1\">\n     <g id=\"line2d_1\">\n      <path clip-path=\"url(#pa48213324b)\" d=\"M 20.5625 49.498125 \nL 20.5625 22.318125 \n\" style=\"fill:none;stroke:#b0b0b0;stroke-linecap:square;stroke-width:0.8;\"/>\n     </g>\n     <g id=\"line2d_2\">\n      <defs>\n       <path d=\"M 0 0 \nL 0 3.5 \n\" id=\"me9f56b3e68\" style=\"stroke:#000000;stroke-width:0.8;\"/>\n      </defs>\n      <g>\n       <use style=\"stroke:#000000;stroke-width:0.8;\" x=\"20.5625\" xlink:href=\"#me9f56b3e68\" y=\"49.498125\"/>\n      </g>\n     </g>\n    </g>\n    <g id=\"xtick_2\">\n     <g id=\"line2d_3\">\n      <path clip-path=\"url(#pa48213324b)\" d=\"M 76.3625 49.498125 \nL 76.3625 22.318125 \n\" style=\"fill:none;stroke:#b0b0b0;stroke-linecap:square;stroke-width:0.8;\"/>\n     </g>\n     <g id=\"line2d_4\">\n      <g>\n       <use style=\"stroke:#000000;stroke-width:0.8;\" x=\"76.3625\" xlink:href=\"#me9f56b3e68\" y=\"49.498125\"/>\n      </g>\n     </g>\n    </g>\n    <g id=\"xtick_3\">\n     <g id=\"line2d_5\">\n      <path clip-path=\"url(#pa48213324b)\" d=\"M 132.1625 49.498125 \nL 132.1625 22.318125 \n\" style=\"fill:none;stroke:#b0b0b0;stroke-linecap:square;stroke-width:0.8;\"/>\n     </g>\n     <g id=\"line2d_6\">\n      <g>\n       <use style=\"stroke:#000000;stroke-width:0.8;\" x=\"132.1625\" xlink:href=\"#me9f56b3e68\" y=\"49.498125\"/>\n      </g>\n     </g>\n    </g>\n   </g>\n   <g id=\"matplotlib.axis_2\">\n    <g id=\"ytick_1\">\n     <g id=\"line2d_7\">\n      <defs>\n       <path d=\"M 0 0 \nL -3.5 0 \n\" id=\"m2524f1c598\" style=\"stroke:#000000;stroke-width:0.8;\"/>\n      </defs>\n      <g>\n       <use style=\"stroke:#000000;stroke-width:0.8;\" x=\"20.5625\" xlink:href=\"#m2524f1c598\" y=\"43.458125\"/>\n      </g>\n     </g>\n     <g id=\"text_1\">\n      <!-- 1 -->\n      <defs>\n       <path d=\"M 12.40625 8.296875 \nL 28.515625 8.296875 \nL 28.515625 63.921875 \nL 10.984375 60.40625 \nL 10.984375 69.390625 \nL 28.421875 72.90625 \nL 38.28125 72.90625 \nL 38.28125 8.296875 \nL 54.390625 8.296875 \nL 54.390625 0 \nL 12.40625 0 \nz\n\" id=\"DejaVuSans-49\"/>\n      </defs>\n      <g transform=\"translate(7.2 47.257344)scale(0.1 -0.1)\">\n       <use xlink:href=\"#DejaVuSans-49\"/>\n      </g>\n     </g>\n    </g>\n    <g id=\"ytick_2\">\n     <g id=\"line2d_8\">\n      <g>\n       <use style=\"stroke:#000000;stroke-width:0.8;\" x=\"20.5625\" xlink:href=\"#m2524f1c598\" y=\"28.358125\"/>\n      </g>\n     </g>\n     <g id=\"text_2\">\n      <!-- 0 -->\n      <defs>\n       <path d=\"M 31.78125 66.40625 \nQ 24.171875 66.40625 20.328125 58.90625 \nQ 16.5 51.421875 16.5 36.375 \nQ 16.5 21.390625 20.328125 13.890625 \nQ 24.171875 6.390625 31.78125 6.390625 \nQ 39.453125 6.390625 43.28125 13.890625 \nQ 47.125 21.390625 47.125 36.375 \nQ 47.125 51.421875 43.28125 58.90625 \nQ 39.453125 66.40625 31.78125 66.40625 \nz\nM 31.78125 74.21875 \nQ 44.046875 74.21875 50.515625 64.515625 \nQ 56.984375 54.828125 56.984375 36.375 \nQ 56.984375 17.96875 50.515625 8.265625 \nQ 44.046875 -1.421875 31.78125 -1.421875 \nQ 19.53125 -1.421875 13.0625 8.265625 \nQ 6.59375 17.96875 6.59375 36.375 \nQ 6.59375 54.828125 13.0625 64.515625 \nQ 19.53125 74.21875 31.78125 74.21875 \nz\n\" id=\"DejaVuSans-48\"/>\n      </defs>\n      <g transform=\"translate(7.2 32.157344)scale(0.1 -0.1)\">\n       <use xlink:href=\"#DejaVuSans-48\"/>\n      </g>\n     </g>\n    </g>\n   </g>\n   <g id=\"patch_5\">\n    <path d=\"M 20.5625 49.498125 \nL 20.5625 22.318125 \n\" style=\"fill:none;stroke:#000000;stroke-linecap:square;stroke-linejoin:miter;stroke-width:0.8;\"/>\n   </g>\n   <g id=\"patch_6\">\n    <path d=\"M 132.1625 49.498125 \nL 132.1625 22.318125 \n\" style=\"fill:none;stroke:#000000;stroke-linecap:square;stroke-linejoin:miter;stroke-width:0.8;\"/>\n   </g>\n   <g id=\"patch_7\">\n    <path d=\"M 20.5625 49.498125 \nL 132.1625 49.498125 \n\" style=\"fill:none;stroke:#000000;stroke-linecap:square;stroke-linejoin:miter;stroke-width:0.8;\"/>\n   </g>\n   <g id=\"patch_8\">\n    <path d=\"M 20.5625 22.318125 \nL 132.1625 22.318125 \n\" style=\"fill:none;stroke:#000000;stroke-linecap:square;stroke-linejoin:miter;stroke-width:0.8;\"/>\n   </g>\n   <g id=\"text_3\">\n    <!-- 67.20% -->\n    <defs>\n     <path d=\"M 33.015625 40.375 \nQ 26.375 40.375 22.484375 35.828125 \nQ 18.609375 31.296875 18.609375 23.390625 \nQ 18.609375 15.53125 22.484375 10.953125 \nQ 26.375 6.390625 33.015625 6.390625 \nQ 39.65625 6.390625 43.53125 10.953125 \nQ 47.40625 15.53125 47.40625 23.390625 \nQ 47.40625 31.296875 43.53125 35.828125 \nQ 39.65625 40.375 33.015625 40.375 \nz\nM 52.59375 71.296875 \nL 52.59375 62.3125 \nQ 48.875 64.0625 45.09375 64.984375 \nQ 41.3125 65.921875 37.59375 65.921875 \nQ 27.828125 65.921875 22.671875 59.328125 \nQ 17.53125 52.734375 16.796875 39.40625 \nQ 19.671875 43.65625 24.015625 45.921875 \nQ 28.375 48.1875 33.59375 48.1875 \nQ 44.578125 48.1875 50.953125 41.515625 \nQ 57.328125 34.859375 57.328125 23.390625 \nQ 57.328125 12.15625 50.6875 5.359375 \nQ 44.046875 -1.421875 33.015625 -1.421875 \nQ 20.359375 -1.421875 13.671875 8.265625 \nQ 6.984375 17.96875 6.984375 36.375 \nQ 6.984375 53.65625 15.1875 63.9375 \nQ 23.390625 74.21875 37.203125 74.21875 \nQ 40.921875 74.21875 44.703125 73.484375 \nQ 48.484375 72.75 52.59375 71.296875 \nz\n\" id=\"DejaVuSans-54\"/>\n     <path d=\"M 8.203125 72.90625 \nL 55.078125 72.90625 \nL 55.078125 68.703125 \nL 28.609375 0 \nL 18.3125 0 \nL 43.21875 64.59375 \nL 8.203125 64.59375 \nz\n\" id=\"DejaVuSans-55\"/>\n     <path d=\"M 10.6875 12.40625 \nL 21 12.40625 \nL 21 0 \nL 10.6875 0 \nz\n\" id=\"DejaVuSans-46\"/>\n     <path d=\"M 19.1875 8.296875 \nL 53.609375 8.296875 \nL 53.609375 0 \nL 7.328125 0 \nL 7.328125 8.296875 \nQ 12.9375 14.109375 22.625 23.890625 \nQ 32.328125 33.6875 34.8125 36.53125 \nQ 39.546875 41.84375 41.421875 45.53125 \nQ 43.3125 49.21875 43.3125 52.78125 \nQ 43.3125 58.59375 39.234375 62.25 \nQ 35.15625 65.921875 28.609375 65.921875 \nQ 23.96875 65.921875 18.8125 64.3125 \nQ 13.671875 62.703125 7.8125 59.421875 \nL 7.8125 69.390625 \nQ 13.765625 71.78125 18.9375 73 \nQ 24.125 74.21875 28.421875 74.21875 \nQ 39.75 74.21875 46.484375 68.546875 \nQ 53.21875 62.890625 53.21875 53.421875 \nQ 53.21875 48.921875 51.53125 44.890625 \nQ 49.859375 40.875 45.40625 35.40625 \nQ 44.1875 33.984375 37.640625 27.21875 \nQ 31.109375 20.453125 19.1875 8.296875 \nz\n\" id=\"DejaVuSans-50\"/>\n     <path d=\"M 72.703125 32.078125 \nQ 68.453125 32.078125 66.03125 28.46875 \nQ 63.625 24.859375 63.625 18.40625 \nQ 63.625 12.0625 66.03125 8.421875 \nQ 68.453125 4.78125 72.703125 4.78125 \nQ 76.859375 4.78125 79.265625 8.421875 \nQ 81.6875 12.0625 81.6875 18.40625 \nQ 81.6875 24.8125 79.265625 28.4375 \nQ 76.859375 32.078125 72.703125 32.078125 \nz\nM 72.703125 38.28125 \nQ 80.421875 38.28125 84.953125 32.90625 \nQ 89.5 27.546875 89.5 18.40625 \nQ 89.5 9.28125 84.9375 3.921875 \nQ 80.375 -1.421875 72.703125 -1.421875 \nQ 64.890625 -1.421875 60.34375 3.921875 \nQ 55.8125 9.28125 55.8125 18.40625 \nQ 55.8125 27.59375 60.375 32.9375 \nQ 64.9375 38.28125 72.703125 38.28125 \nz\nM 22.3125 68.015625 \nQ 18.109375 68.015625 15.6875 64.375 \nQ 13.28125 60.75 13.28125 54.390625 \nQ 13.28125 47.953125 15.671875 44.328125 \nQ 18.0625 40.71875 22.3125 40.71875 \nQ 26.5625 40.71875 28.96875 44.328125 \nQ 31.390625 47.953125 31.390625 54.390625 \nQ 31.390625 60.6875 28.953125 64.34375 \nQ 26.515625 68.015625 22.3125 68.015625 \nz\nM 66.40625 74.21875 \nL 74.21875 74.21875 \nL 28.609375 -1.421875 \nL 20.796875 -1.421875 \nz\nM 22.3125 74.21875 \nQ 30.03125 74.21875 34.609375 68.875 \nQ 39.203125 63.53125 39.203125 54.390625 \nQ 39.203125 45.171875 34.640625 39.84375 \nQ 30.078125 34.515625 22.3125 34.515625 \nQ 14.546875 34.515625 10.03125 39.859375 \nQ 5.515625 45.21875 5.515625 54.390625 \nQ 5.515625 63.484375 10.046875 68.84375 \nQ 14.59375 74.21875 22.3125 74.21875 \nz\n\" id=\"DejaVuSans-37\"/>\n    </defs>\n    <g transform=\"translate(94.032812 47.418437)scale(0.1 -0.1)\">\n     <use xlink:href=\"#DejaVuSans-54\"/>\n     <use x=\"63.623047\" xlink:href=\"#DejaVuSans-55\"/>\n     <use x=\"127.246094\" xlink:href=\"#DejaVuSans-46\"/>\n     <use x=\"159.033203\" xlink:href=\"#DejaVuSans-50\"/>\n     <use x=\"222.65625\" xlink:href=\"#DejaVuSans-48\"/>\n     <use x=\"286.279297\" xlink:href=\"#DejaVuSans-37\"/>\n    </g>\n   </g>\n   <g id=\"text_4\">\n    <!-- 32.80% -->\n    <defs>\n     <path d=\"M 40.578125 39.3125 \nQ 47.65625 37.796875 51.625 33 \nQ 55.609375 28.21875 55.609375 21.1875 \nQ 55.609375 10.40625 48.1875 4.484375 \nQ 40.765625 -1.421875 27.09375 -1.421875 \nQ 22.515625 -1.421875 17.65625 -0.515625 \nQ 12.796875 0.390625 7.625 2.203125 \nL 7.625 11.71875 \nQ 11.71875 9.328125 16.59375 8.109375 \nQ 21.484375 6.890625 26.8125 6.890625 \nQ 36.078125 6.890625 40.9375 10.546875 \nQ 45.796875 14.203125 45.796875 21.1875 \nQ 45.796875 27.640625 41.28125 31.265625 \nQ 36.765625 34.90625 28.71875 34.90625 \nL 20.21875 34.90625 \nL 20.21875 43.015625 \nL 29.109375 43.015625 \nQ 36.375 43.015625 40.234375 45.921875 \nQ 44.09375 48.828125 44.09375 54.296875 \nQ 44.09375 59.90625 40.109375 62.90625 \nQ 36.140625 65.921875 28.71875 65.921875 \nQ 24.65625 65.921875 20.015625 65.03125 \nQ 15.375 64.15625 9.8125 62.3125 \nL 9.8125 71.09375 \nQ 15.4375 72.65625 20.34375 73.4375 \nQ 25.25 74.21875 29.59375 74.21875 \nQ 40.828125 74.21875 47.359375 69.109375 \nQ 53.90625 64.015625 53.90625 55.328125 \nQ 53.90625 49.265625 50.4375 45.09375 \nQ 46.96875 40.921875 40.578125 39.3125 \nz\n\" id=\"DejaVuSans-51\"/>\n     <path d=\"M 31.78125 34.625 \nQ 24.75 34.625 20.71875 30.859375 \nQ 16.703125 27.09375 16.703125 20.515625 \nQ 16.703125 13.921875 20.71875 10.15625 \nQ 24.75 6.390625 31.78125 6.390625 \nQ 38.8125 6.390625 42.859375 10.171875 \nQ 46.921875 13.96875 46.921875 20.515625 \nQ 46.921875 27.09375 42.890625 30.859375 \nQ 38.875 34.625 31.78125 34.625 \nz\nM 21.921875 38.8125 \nQ 15.578125 40.375 12.03125 44.71875 \nQ 8.5 49.078125 8.5 55.328125 \nQ 8.5 64.0625 14.71875 69.140625 \nQ 20.953125 74.21875 31.78125 74.21875 \nQ 42.671875 74.21875 48.875 69.140625 \nQ 55.078125 64.0625 55.078125 55.328125 \nQ 55.078125 49.078125 51.53125 44.71875 \nQ 48 40.375 41.703125 38.8125 \nQ 48.828125 37.15625 52.796875 32.3125 \nQ 56.78125 27.484375 56.78125 20.515625 \nQ 56.78125 9.90625 50.3125 4.234375 \nQ 43.84375 -1.421875 31.78125 -1.421875 \nQ 19.734375 -1.421875 13.25 4.234375 \nQ 6.78125 9.90625 6.78125 20.515625 \nQ 6.78125 27.484375 10.78125 32.3125 \nQ 14.796875 37.15625 21.921875 38.8125 \nz\nM 18.3125 54.390625 \nQ 18.3125 48.734375 21.84375 45.5625 \nQ 25.390625 42.390625 31.78125 42.390625 \nQ 38.140625 42.390625 41.71875 45.5625 \nQ 45.3125 48.734375 45.3125 54.390625 \nQ 45.3125 60.0625 41.71875 63.234375 \nQ 38.140625 66.40625 31.78125 66.40625 \nQ 25.390625 66.40625 21.84375 63.234375 \nQ 18.3125 60.0625 18.3125 54.390625 \nz\n\" id=\"DejaVuSans-56\"/>\n    </defs>\n    <g transform=\"translate(94.032812 32.318437)scale(0.1 -0.1)\">\n     <use xlink:href=\"#DejaVuSans-51\"/>\n     <use x=\"63.623047\" xlink:href=\"#DejaVuSans-50\"/>\n     <use x=\"127.246094\" xlink:href=\"#DejaVuSans-46\"/>\n     <use x=\"159.033203\" xlink:href=\"#DejaVuSans-56\"/>\n     <use x=\"222.65625\" xlink:href=\"#DejaVuSans-48\"/>\n     <use x=\"286.279297\" xlink:href=\"#DejaVuSans-37\"/>\n    </g>\n   </g>\n   <g id=\"text_5\">\n    <!-- w -->\n    <defs>\n     <path d=\"M 4.203125 54.6875 \nL 13.1875 54.6875 \nL 24.421875 12.015625 \nL 35.59375 54.6875 \nL 46.1875 54.6875 \nL 57.421875 12.015625 \nL 68.609375 54.6875 \nL 77.59375 54.6875 \nL 63.28125 0 \nL 52.6875 0 \nL 40.921875 44.828125 \nL 29.109375 0 \nL 18.5 0 \nz\n\" id=\"DejaVuSans-119\"/>\n    </defs>\n    <g transform=\"translate(71.455625 16.318125)scale(0.12 -0.12)\">\n     <use xlink:href=\"#DejaVuSans-119\"/>\n    </g>\n   </g>\n  </g>\n </g>\n <defs>\n  <clipPath id=\"pa48213324b\">\n   <rect height=\"27.18\" width=\"111.6\" x=\"20.5625\" y=\"22.318125\"/>\n  </clipPath>\n </defs>\n</svg>\n"
          },
          "metadata": {
            "tags": []
          }
        }
      ]
    },
    {
      "cell_type": "code",
      "metadata": {
        "id": "0V9mfVBW81fW",
        "colab_type": "code",
        "outputId": "c1d54122-8bf8-4d72-a9a7-96d4086514e7",
        "colab": {
          "base_uri": "https://localhost:8080/",
          "height": 102
        }
      },
      "source": [
        "gnb.showPosterior(bn, {'s':1, 'c':0}, 'w')"
      ],
      "execution_count": 0,
      "outputs": [
        {
          "output_type": "display_data",
          "data": {
            "text/plain": [
              "<Figure size 144x36 with 1 Axes>"
            ],
            "image/svg+xml": "<?xml version=\"1.0\" encoding=\"utf-8\" standalone=\"no\"?>\n<!DOCTYPE svg PUBLIC \"-//W3C//DTD SVG 1.1//EN\"\n  \"http://www.w3.org/Graphics/SVG/1.1/DTD/svg11.dtd\">\n<!-- Created with matplotlib (https://matplotlib.org/) -->\n<svg height=\"60.198125pt\" version=\"1.1\" viewBox=\"0 0 139.3625 60.198125\" width=\"139.3625pt\" xmlns=\"http://www.w3.org/2000/svg\" xmlns:xlink=\"http://www.w3.org/1999/xlink\">\n <defs>\n  <style type=\"text/css\">\n*{stroke-linecap:butt;stroke-linejoin:round;}\n  </style>\n </defs>\n <g id=\"figure_1\">\n  <g id=\"patch_1\">\n   <path d=\"M 0 60.198125 \nL 139.3625 60.198125 \nL 139.3625 0 \nL 0 0 \nz\n\" style=\"fill:#e0e0e0;\"/>\n  </g>\n  <g id=\"axes_1\">\n   <g id=\"patch_2\">\n    <path d=\"M 20.5625 49.498125 \nL 132.1625 49.498125 \nL 132.1625 22.318125 \nL 20.5625 22.318125 \nz\n\" style=\"fill:#ffffff;\"/>\n   </g>\n   <g id=\"patch_3\">\n    <path clip-path=\"url(#p077e4c6660)\" d=\"M 20.5625 49.498125 \nL 123.0113 49.498125 \nL 123.0113 37.418125 \nL 20.5625 37.418125 \nz\n\" style=\"fill:#8fbc8f;\"/>\n   </g>\n   <g id=\"patch_4\">\n    <path clip-path=\"url(#p077e4c6660)\" d=\"M 20.5625 34.398125 \nL 29.7137 34.398125 \nL 29.7137 22.318125 \nL 20.5625 22.318125 \nz\n\" style=\"fill:#8fbc8f;\"/>\n   </g>\n   <g id=\"matplotlib.axis_1\">\n    <g id=\"xtick_1\">\n     <g id=\"line2d_1\">\n      <path clip-path=\"url(#p077e4c6660)\" d=\"M 20.5625 49.498125 \nL 20.5625 22.318125 \n\" style=\"fill:none;stroke:#b0b0b0;stroke-linecap:square;stroke-width:0.8;\"/>\n     </g>\n     <g id=\"line2d_2\">\n      <defs>\n       <path d=\"M 0 0 \nL 0 3.5 \n\" id=\"meb9c09cbb8\" style=\"stroke:#000000;stroke-width:0.8;\"/>\n      </defs>\n      <g>\n       <use style=\"stroke:#000000;stroke-width:0.8;\" x=\"20.5625\" xlink:href=\"#meb9c09cbb8\" y=\"49.498125\"/>\n      </g>\n     </g>\n    </g>\n    <g id=\"xtick_2\">\n     <g id=\"line2d_3\">\n      <path clip-path=\"url(#p077e4c6660)\" d=\"M 76.3625 49.498125 \nL 76.3625 22.318125 \n\" style=\"fill:none;stroke:#b0b0b0;stroke-linecap:square;stroke-width:0.8;\"/>\n     </g>\n     <g id=\"line2d_4\">\n      <g>\n       <use style=\"stroke:#000000;stroke-width:0.8;\" x=\"76.3625\" xlink:href=\"#meb9c09cbb8\" y=\"49.498125\"/>\n      </g>\n     </g>\n    </g>\n    <g id=\"xtick_3\">\n     <g id=\"line2d_5\">\n      <path clip-path=\"url(#p077e4c6660)\" d=\"M 132.1625 49.498125 \nL 132.1625 22.318125 \n\" style=\"fill:none;stroke:#b0b0b0;stroke-linecap:square;stroke-width:0.8;\"/>\n     </g>\n     <g id=\"line2d_6\">\n      <g>\n       <use style=\"stroke:#000000;stroke-width:0.8;\" x=\"132.1625\" xlink:href=\"#meb9c09cbb8\" y=\"49.498125\"/>\n      </g>\n     </g>\n    </g>\n   </g>\n   <g id=\"matplotlib.axis_2\">\n    <g id=\"ytick_1\">\n     <g id=\"line2d_7\">\n      <defs>\n       <path d=\"M 0 0 \nL -3.5 0 \n\" id=\"m95af3762b2\" style=\"stroke:#000000;stroke-width:0.8;\"/>\n      </defs>\n      <g>\n       <use style=\"stroke:#000000;stroke-width:0.8;\" x=\"20.5625\" xlink:href=\"#m95af3762b2\" y=\"43.458125\"/>\n      </g>\n     </g>\n     <g id=\"text_1\">\n      <!-- 1 -->\n      <defs>\n       <path d=\"M 12.40625 8.296875 \nL 28.515625 8.296875 \nL 28.515625 63.921875 \nL 10.984375 60.40625 \nL 10.984375 69.390625 \nL 28.421875 72.90625 \nL 38.28125 72.90625 \nL 38.28125 8.296875 \nL 54.390625 8.296875 \nL 54.390625 0 \nL 12.40625 0 \nz\n\" id=\"DejaVuSans-49\"/>\n      </defs>\n      <g transform=\"translate(7.2 47.257344)scale(0.1 -0.1)\">\n       <use xlink:href=\"#DejaVuSans-49\"/>\n      </g>\n     </g>\n    </g>\n    <g id=\"ytick_2\">\n     <g id=\"line2d_8\">\n      <g>\n       <use style=\"stroke:#000000;stroke-width:0.8;\" x=\"20.5625\" xlink:href=\"#m95af3762b2\" y=\"28.358125\"/>\n      </g>\n     </g>\n     <g id=\"text_2\">\n      <!-- 0 -->\n      <defs>\n       <path d=\"M 31.78125 66.40625 \nQ 24.171875 66.40625 20.328125 58.90625 \nQ 16.5 51.421875 16.5 36.375 \nQ 16.5 21.390625 20.328125 13.890625 \nQ 24.171875 6.390625 31.78125 6.390625 \nQ 39.453125 6.390625 43.28125 13.890625 \nQ 47.125 21.390625 47.125 36.375 \nQ 47.125 51.421875 43.28125 58.90625 \nQ 39.453125 66.40625 31.78125 66.40625 \nz\nM 31.78125 74.21875 \nQ 44.046875 74.21875 50.515625 64.515625 \nQ 56.984375 54.828125 56.984375 36.375 \nQ 56.984375 17.96875 50.515625 8.265625 \nQ 44.046875 -1.421875 31.78125 -1.421875 \nQ 19.53125 -1.421875 13.0625 8.265625 \nQ 6.59375 17.96875 6.59375 36.375 \nQ 6.59375 54.828125 13.0625 64.515625 \nQ 19.53125 74.21875 31.78125 74.21875 \nz\n\" id=\"DejaVuSans-48\"/>\n      </defs>\n      <g transform=\"translate(7.2 32.157344)scale(0.1 -0.1)\">\n       <use xlink:href=\"#DejaVuSans-48\"/>\n      </g>\n     </g>\n    </g>\n   </g>\n   <g id=\"patch_5\">\n    <path d=\"M 20.5625 49.498125 \nL 20.5625 22.318125 \n\" style=\"fill:none;stroke:#000000;stroke-linecap:square;stroke-linejoin:miter;stroke-width:0.8;\"/>\n   </g>\n   <g id=\"patch_6\">\n    <path d=\"M 132.1625 49.498125 \nL 132.1625 22.318125 \n\" style=\"fill:none;stroke:#000000;stroke-linecap:square;stroke-linejoin:miter;stroke-width:0.8;\"/>\n   </g>\n   <g id=\"patch_7\">\n    <path d=\"M 20.5625 49.498125 \nL 132.1625 49.498125 \n\" style=\"fill:none;stroke:#000000;stroke-linecap:square;stroke-linejoin:miter;stroke-width:0.8;\"/>\n   </g>\n   <g id=\"patch_8\">\n    <path d=\"M 20.5625 22.318125 \nL 132.1625 22.318125 \n\" style=\"fill:none;stroke:#000000;stroke-linecap:square;stroke-linejoin:miter;stroke-width:0.8;\"/>\n   </g>\n   <g id=\"text_3\">\n    <!-- 91.80% -->\n    <defs>\n     <path d=\"M 10.984375 1.515625 \nL 10.984375 10.5 \nQ 14.703125 8.734375 18.5 7.8125 \nQ 22.3125 6.890625 25.984375 6.890625 \nQ 35.75 6.890625 40.890625 13.453125 \nQ 46.046875 20.015625 46.78125 33.40625 \nQ 43.953125 29.203125 39.59375 26.953125 \nQ 35.25 24.703125 29.984375 24.703125 \nQ 19.046875 24.703125 12.671875 31.3125 \nQ 6.296875 37.9375 6.296875 49.421875 \nQ 6.296875 60.640625 12.9375 67.421875 \nQ 19.578125 74.21875 30.609375 74.21875 \nQ 43.265625 74.21875 49.921875 64.515625 \nQ 56.59375 54.828125 56.59375 36.375 \nQ 56.59375 19.140625 48.40625 8.859375 \nQ 40.234375 -1.421875 26.421875 -1.421875 \nQ 22.703125 -1.421875 18.890625 -0.6875 \nQ 15.09375 0.046875 10.984375 1.515625 \nz\nM 30.609375 32.421875 \nQ 37.25 32.421875 41.125 36.953125 \nQ 45.015625 41.5 45.015625 49.421875 \nQ 45.015625 57.28125 41.125 61.84375 \nQ 37.25 66.40625 30.609375 66.40625 \nQ 23.96875 66.40625 20.09375 61.84375 \nQ 16.21875 57.28125 16.21875 49.421875 \nQ 16.21875 41.5 20.09375 36.953125 \nQ 23.96875 32.421875 30.609375 32.421875 \nz\n\" id=\"DejaVuSans-57\"/>\n     <path d=\"M 10.6875 12.40625 \nL 21 12.40625 \nL 21 0 \nL 10.6875 0 \nz\n\" id=\"DejaVuSans-46\"/>\n     <path d=\"M 31.78125 34.625 \nQ 24.75 34.625 20.71875 30.859375 \nQ 16.703125 27.09375 16.703125 20.515625 \nQ 16.703125 13.921875 20.71875 10.15625 \nQ 24.75 6.390625 31.78125 6.390625 \nQ 38.8125 6.390625 42.859375 10.171875 \nQ 46.921875 13.96875 46.921875 20.515625 \nQ 46.921875 27.09375 42.890625 30.859375 \nQ 38.875 34.625 31.78125 34.625 \nz\nM 21.921875 38.8125 \nQ 15.578125 40.375 12.03125 44.71875 \nQ 8.5 49.078125 8.5 55.328125 \nQ 8.5 64.0625 14.71875 69.140625 \nQ 20.953125 74.21875 31.78125 74.21875 \nQ 42.671875 74.21875 48.875 69.140625 \nQ 55.078125 64.0625 55.078125 55.328125 \nQ 55.078125 49.078125 51.53125 44.71875 \nQ 48 40.375 41.703125 38.8125 \nQ 48.828125 37.15625 52.796875 32.3125 \nQ 56.78125 27.484375 56.78125 20.515625 \nQ 56.78125 9.90625 50.3125 4.234375 \nQ 43.84375 -1.421875 31.78125 -1.421875 \nQ 19.734375 -1.421875 13.25 4.234375 \nQ 6.78125 9.90625 6.78125 20.515625 \nQ 6.78125 27.484375 10.78125 32.3125 \nQ 14.796875 37.15625 21.921875 38.8125 \nz\nM 18.3125 54.390625 \nQ 18.3125 48.734375 21.84375 45.5625 \nQ 25.390625 42.390625 31.78125 42.390625 \nQ 38.140625 42.390625 41.71875 45.5625 \nQ 45.3125 48.734375 45.3125 54.390625 \nQ 45.3125 60.0625 41.71875 63.234375 \nQ 38.140625 66.40625 31.78125 66.40625 \nQ 25.390625 66.40625 21.84375 63.234375 \nQ 18.3125 60.0625 18.3125 54.390625 \nz\n\" id=\"DejaVuSans-56\"/>\n     <path d=\"M 72.703125 32.078125 \nQ 68.453125 32.078125 66.03125 28.46875 \nQ 63.625 24.859375 63.625 18.40625 \nQ 63.625 12.0625 66.03125 8.421875 \nQ 68.453125 4.78125 72.703125 4.78125 \nQ 76.859375 4.78125 79.265625 8.421875 \nQ 81.6875 12.0625 81.6875 18.40625 \nQ 81.6875 24.8125 79.265625 28.4375 \nQ 76.859375 32.078125 72.703125 32.078125 \nz\nM 72.703125 38.28125 \nQ 80.421875 38.28125 84.953125 32.90625 \nQ 89.5 27.546875 89.5 18.40625 \nQ 89.5 9.28125 84.9375 3.921875 \nQ 80.375 -1.421875 72.703125 -1.421875 \nQ 64.890625 -1.421875 60.34375 3.921875 \nQ 55.8125 9.28125 55.8125 18.40625 \nQ 55.8125 27.59375 60.375 32.9375 \nQ 64.9375 38.28125 72.703125 38.28125 \nz\nM 22.3125 68.015625 \nQ 18.109375 68.015625 15.6875 64.375 \nQ 13.28125 60.75 13.28125 54.390625 \nQ 13.28125 47.953125 15.671875 44.328125 \nQ 18.0625 40.71875 22.3125 40.71875 \nQ 26.5625 40.71875 28.96875 44.328125 \nQ 31.390625 47.953125 31.390625 54.390625 \nQ 31.390625 60.6875 28.953125 64.34375 \nQ 26.515625 68.015625 22.3125 68.015625 \nz\nM 66.40625 74.21875 \nL 74.21875 74.21875 \nL 28.609375 -1.421875 \nL 20.796875 -1.421875 \nz\nM 22.3125 74.21875 \nQ 30.03125 74.21875 34.609375 68.875 \nQ 39.203125 63.53125 39.203125 54.390625 \nQ 39.203125 45.171875 34.640625 39.84375 \nQ 30.078125 34.515625 22.3125 34.515625 \nQ 14.546875 34.515625 10.03125 39.859375 \nQ 5.515625 45.21875 5.515625 54.390625 \nQ 5.515625 63.484375 10.046875 68.84375 \nQ 14.59375 74.21875 22.3125 74.21875 \nz\n\" id=\"DejaVuSans-37\"/>\n    </defs>\n    <g transform=\"translate(94.032812 47.418437)scale(0.1 -0.1)\">\n     <use xlink:href=\"#DejaVuSans-57\"/>\n     <use x=\"63.623047\" xlink:href=\"#DejaVuSans-49\"/>\n     <use x=\"127.246094\" xlink:href=\"#DejaVuSans-46\"/>\n     <use x=\"159.033203\" xlink:href=\"#DejaVuSans-56\"/>\n     <use x=\"222.65625\" xlink:href=\"#DejaVuSans-48\"/>\n     <use x=\"286.279297\" xlink:href=\"#DejaVuSans-37\"/>\n    </g>\n   </g>\n   <g id=\"text_4\">\n    <!-- 8.20% -->\n    <defs>\n     <path d=\"M 19.1875 8.296875 \nL 53.609375 8.296875 \nL 53.609375 0 \nL 7.328125 0 \nL 7.328125 8.296875 \nQ 12.9375 14.109375 22.625 23.890625 \nQ 32.328125 33.6875 34.8125 36.53125 \nQ 39.546875 41.84375 41.421875 45.53125 \nQ 43.3125 49.21875 43.3125 52.78125 \nQ 43.3125 58.59375 39.234375 62.25 \nQ 35.15625 65.921875 28.609375 65.921875 \nQ 23.96875 65.921875 18.8125 64.3125 \nQ 13.671875 62.703125 7.8125 59.421875 \nL 7.8125 69.390625 \nQ 13.765625 71.78125 18.9375 73 \nQ 24.125 74.21875 28.421875 74.21875 \nQ 39.75 74.21875 46.484375 68.546875 \nQ 53.21875 62.890625 53.21875 53.421875 \nQ 53.21875 48.921875 51.53125 44.890625 \nQ 49.859375 40.875 45.40625 35.40625 \nQ 44.1875 33.984375 37.640625 27.21875 \nQ 31.109375 20.453125 19.1875 8.296875 \nz\n\" id=\"DejaVuSans-50\"/>\n    </defs>\n    <g transform=\"translate(100.395312 32.318437)scale(0.1 -0.1)\">\n     <use xlink:href=\"#DejaVuSans-56\"/>\n     <use x=\"63.623047\" xlink:href=\"#DejaVuSans-46\"/>\n     <use x=\"95.410156\" xlink:href=\"#DejaVuSans-50\"/>\n     <use x=\"159.033203\" xlink:href=\"#DejaVuSans-48\"/>\n     <use x=\"222.65625\" xlink:href=\"#DejaVuSans-37\"/>\n    </g>\n   </g>\n   <g id=\"text_5\">\n    <!-- w -->\n    <defs>\n     <path d=\"M 4.203125 54.6875 \nL 13.1875 54.6875 \nL 24.421875 12.015625 \nL 35.59375 54.6875 \nL 46.1875 54.6875 \nL 57.421875 12.015625 \nL 68.609375 54.6875 \nL 77.59375 54.6875 \nL 63.28125 0 \nL 52.6875 0 \nL 40.921875 44.828125 \nL 29.109375 0 \nL 18.5 0 \nz\n\" id=\"DejaVuSans-119\"/>\n    </defs>\n    <g transform=\"translate(71.455625 16.318125)scale(0.12 -0.12)\">\n     <use xlink:href=\"#DejaVuSans-119\"/>\n    </g>\n   </g>\n  </g>\n </g>\n <defs>\n  <clipPath id=\"p077e4c6660\">\n   <rect height=\"27.18\" width=\"111.6\" x=\"20.5625\" y=\"22.318125\"/>\n  </clipPath>\n </defs>\n</svg>\n"
          },
          "metadata": {
            "tags": []
          }
        }
      ]
    },
    {
      "cell_type": "markdown",
      "metadata": {
        "id": "drJr5pY79dif",
        "colab_type": "text"
      },
      "source": [
        "## Inference in the whole Bayes Net"
      ]
    },
    {
      "cell_type": "code",
      "metadata": {
        "id": "-DJ6-jo_9dPF",
        "colab_type": "code",
        "outputId": "ae7f113d-1d71-4aba-c7a9-dcbcf6df9c13",
        "colab": {
          "base_uri": "https://localhost:8080/",
          "height": 322
        }
      },
      "source": [
        "gnb.showInference(bn, evs={})"
      ],
      "execution_count": 0,
      "outputs": [
        {
          "output_type": "display_data",
          "data": {
            "text/plain": [
              "<IPython.core.display.SVG object>"
            ],
            "image/svg+xml": "<svg height=\"226pt\" viewBox=\"0.00 0.00 228.00 226.00\" width=\"228pt\" xmlns=\"http://www.w3.org/2000/svg\" xmlns:xlink=\"http://www.w3.org/1999/xlink\">\n<g class=\"graph\" id=\"graph0\" transform=\"scale(1 1) rotate(0) translate(4 222)\">\n<title>structs</title>\n<text fill=\"#4a4a4a\" font-family=\"Times,serif\" font-size=\"14.00\" text-anchor=\"middle\" x=\"110\" y=\"-7.8\">Inference in   0.69ms</text>\n<!-- c -->\n<g class=\"node\" id=\"node1\">\n<title>c</title>\n<polygon fill=\"#ffffff\" points=\"160,-218 59,-218 59,-177 160,-177 160,-218\" stroke=\"#000000\"/>\n<svg height=\"41px\" preserveAspectRatio=\"xMinYMin meet\" viewBox=\"0 0 132.1625 52.998125\" width=\"101px\" x=\"59\" y=\"-218\"> <defs>\n  <style type=\"text/css\">\n*{stroke-linecap:butt;stroke-linejoin:round;}\n  </style>\n </defs>\n <g id=\"figure_1\">\n  <g id=\"patch_1\">\n   <path d=\"M 0 52.998125  L 132.1625 52.998125  L 132.1625 0  L 0 0  z \" style=\"fill:none;\"/>\n  </g>\n  <g id=\"axes_1\">\n   <g id=\"patch_2\">\n    <path d=\"M 16.9625 45.898125  L 128.5625 45.898125  L 128.5625 18.718125  L 16.9625 18.718125  z \" style=\"fill:none;\"/>\n   </g>\n   <g id=\"patch_3\">\n    <path clip-path=\"url(#pb63d0c20ed)\" d=\"M 16.9625 45.898125  L 83.9225 45.898125  L 83.9225 33.818125  L 16.9625 33.818125  z \" style=\"fill:#8fbc8f;\"/>\n   </g>\n   <g id=\"patch_4\">\n    <path clip-path=\"url(#pb63d0c20ed)\" d=\"M 16.9625 30.798125  L 61.6025 30.798125  L 61.6025 18.718125  L 16.9625 18.718125  z \" style=\"fill:#8fbc8f;\"/>\n   </g>\n   <g id=\"matplotlib.axis_1\">\n    <g id=\"xtick_1\">\n     <g id=\"line2d_1\">\n      <path clip-path=\"url(#pb63d0c20ed)\" d=\"M 16.9625 45.898125  L 16.9625 18.718125  \" style=\"fill:none;stroke:#b0b0b0;stroke-linecap:square;stroke-width:0.8;\"/>\n     </g>\n     <g id=\"line2d_2\">\n      <defs>\n       <path d=\"M 0 0  L 0 3.5  \" id=\"me0cdddebf6\" style=\"stroke:#000000;stroke-width:0.8;\"/>\n      </defs>\n      <g>\n       <use style=\"stroke:#000000;stroke-width:0.8;\" x=\"16.9625\" xlink:href=\"#me0cdddebf6\" y=\"45.898125\"/>\n      </g>\n     </g>\n    </g>\n    <g id=\"xtick_2\">\n     <g id=\"line2d_3\">\n      <path clip-path=\"url(#pb63d0c20ed)\" d=\"M 72.7625 45.898125  L 72.7625 18.718125  \" style=\"fill:none;stroke:#b0b0b0;stroke-linecap:square;stroke-width:0.8;\"/>\n     </g>\n     <g id=\"line2d_4\">\n      <g>\n       <use style=\"stroke:#000000;stroke-width:0.8;\" x=\"72.7625\" xlink:href=\"#me0cdddebf6\" y=\"45.898125\"/>\n      </g>\n     </g>\n    </g>\n    <g id=\"xtick_3\">\n     <g id=\"line2d_5\">\n      <path clip-path=\"url(#pb63d0c20ed)\" d=\"M 128.5625 45.898125  L 128.5625 18.718125  \" style=\"fill:none;stroke:#b0b0b0;stroke-linecap:square;stroke-width:0.8;\"/>\n     </g>\n     <g id=\"line2d_6\">\n      <g>\n       <use style=\"stroke:#000000;stroke-width:0.8;\" x=\"128.5625\" xlink:href=\"#me0cdddebf6\" y=\"45.898125\"/>\n      </g>\n     </g>\n    </g>\n   </g>\n   <g id=\"matplotlib.axis_2\">\n    <g id=\"ytick_1\">\n     <g id=\"line2d_7\">\n      <defs>\n       <path d=\"M 0 0  L -3.5 0  \" id=\"m15f013b231\" style=\"stroke:#000000;stroke-width:0.8;\"/>\n      </defs>\n      <g>\n       <use style=\"stroke:#000000;stroke-width:0.8;\" x=\"16.9625\" xlink:href=\"#m15f013b231\" y=\"39.858125\"/>\n      </g>\n     </g>\n     <g id=\"text_1\">\n      <!-- 1 -->\n      <defs>\n       <path d=\"M 12.40625 8.296875  L 28.515625 8.296875  L 28.515625 63.921875  L 10.984375 60.40625  L 10.984375 69.390625  L 28.421875 72.90625  L 38.28125 72.90625  L 38.28125 8.296875  L 54.390625 8.296875  L 54.390625 0  L 12.40625 0  z \" id=\"DejaVuSans-49\"/>\n      </defs>\n      <g transform=\"translate(3.6 43.657344)scale(0.1 -0.1)\">\n       <use xlink:href=\"#DejaVuSans-49\"/>\n      </g>\n     </g>\n    </g>\n    <g id=\"ytick_2\">\n     <g id=\"line2d_8\">\n      <g>\n       <use style=\"stroke:#000000;stroke-width:0.8;\" x=\"16.9625\" xlink:href=\"#m15f013b231\" y=\"24.758125\"/>\n      </g>\n     </g>\n     <g id=\"text_2\">\n      <!-- 0 -->\n      <defs>\n       <path d=\"M 31.78125 66.40625  Q 24.171875 66.40625 20.328125 58.90625  Q 16.5 51.421875 16.5 36.375  Q 16.5 21.390625 20.328125 13.890625  Q 24.171875 6.390625 31.78125 6.390625  Q 39.453125 6.390625 43.28125 13.890625  Q 47.125 21.390625 47.125 36.375  Q 47.125 51.421875 43.28125 58.90625  Q 39.453125 66.40625 31.78125 66.40625  z M 31.78125 74.21875  Q 44.046875 74.21875 50.515625 64.515625  Q 56.984375 54.828125 56.984375 36.375  Q 56.984375 17.96875 50.515625 8.265625  Q 44.046875 -1.421875 31.78125 -1.421875  Q 19.53125 -1.421875 13.0625 8.265625  Q 6.59375 17.96875 6.59375 36.375  Q 6.59375 54.828125 13.0625 64.515625  Q 19.53125 74.21875 31.78125 74.21875  z \" id=\"DejaVuSans-48\"/>\n      </defs>\n      <g transform=\"translate(3.6 28.557344)scale(0.1 -0.1)\">\n       <use xlink:href=\"#DejaVuSans-48\"/>\n      </g>\n     </g>\n    </g>\n   </g>\n   <g id=\"patch_5\">\n    <path d=\"M 16.9625 45.898125  L 16.9625 18.718125  \" style=\"fill:none;stroke:#000000;stroke-linecap:square;stroke-linejoin:miter;stroke-width:0.8;\"/>\n   </g>\n   <g id=\"patch_6\">\n    <path d=\"M 128.5625 45.898125  L 128.5625 18.718125  \" style=\"fill:none;stroke:#000000;stroke-linecap:square;stroke-linejoin:miter;stroke-width:0.8;\"/>\n   </g>\n   <g id=\"patch_7\">\n    <path d=\"M 16.9625 45.898125  L 128.5625 45.898125  \" style=\"fill:none;stroke:#000000;stroke-linecap:square;stroke-linejoin:miter;stroke-width:0.8;\"/>\n   </g>\n   <g id=\"patch_8\">\n    <path d=\"M 16.9625 18.718125  L 128.5625 18.718125  \" style=\"fill:none;stroke:#000000;stroke-linecap:square;stroke-linejoin:miter;stroke-width:0.8;\"/>\n   </g>\n   <g id=\"text_3\">\n    <!-- 60.00% -->\n    <defs>\n     <path d=\"M 33.015625 40.375  Q 26.375 40.375 22.484375 35.828125  Q 18.609375 31.296875 18.609375 23.390625  Q 18.609375 15.53125 22.484375 10.953125  Q 26.375 6.390625 33.015625 6.390625  Q 39.65625 6.390625 43.53125 10.953125  Q 47.40625 15.53125 47.40625 23.390625  Q 47.40625 31.296875 43.53125 35.828125  Q 39.65625 40.375 33.015625 40.375  z M 52.59375 71.296875  L 52.59375 62.3125  Q 48.875 64.0625 45.09375 64.984375  Q 41.3125 65.921875 37.59375 65.921875  Q 27.828125 65.921875 22.671875 59.328125  Q 17.53125 52.734375 16.796875 39.40625  Q 19.671875 43.65625 24.015625 45.921875  Q 28.375 48.1875 33.59375 48.1875  Q 44.578125 48.1875 50.953125 41.515625  Q 57.328125 34.859375 57.328125 23.390625  Q 57.328125 12.15625 50.6875 5.359375  Q 44.046875 -1.421875 33.015625 -1.421875  Q 20.359375 -1.421875 13.671875 8.265625  Q 6.984375 17.96875 6.984375 36.375  Q 6.984375 53.65625 15.1875 63.9375  Q 23.390625 74.21875 37.203125 74.21875  Q 40.921875 74.21875 44.703125 73.484375  Q 48.484375 72.75 52.59375 71.296875  z \" id=\"DejaVuSans-54\"/>\n     <path d=\"M 10.6875 12.40625  L 21 12.40625  L 21 0  L 10.6875 0  z \" id=\"DejaVuSans-46\"/>\n     <path d=\"M 72.703125 32.078125  Q 68.453125 32.078125 66.03125 28.46875  Q 63.625 24.859375 63.625 18.40625  Q 63.625 12.0625 66.03125 8.421875  Q 68.453125 4.78125 72.703125 4.78125  Q 76.859375 4.78125 79.265625 8.421875  Q 81.6875 12.0625 81.6875 18.40625  Q 81.6875 24.8125 79.265625 28.4375  Q 76.859375 32.078125 72.703125 32.078125  z M 72.703125 38.28125  Q 80.421875 38.28125 84.953125 32.90625  Q 89.5 27.546875 89.5 18.40625  Q 89.5 9.28125 84.9375 3.921875  Q 80.375 -1.421875 72.703125 -1.421875  Q 64.890625 -1.421875 60.34375 3.921875  Q 55.8125 9.28125 55.8125 18.40625  Q 55.8125 27.59375 60.375 32.9375  Q 64.9375 38.28125 72.703125 38.28125  z M 22.3125 68.015625  Q 18.109375 68.015625 15.6875 64.375  Q 13.28125 60.75 13.28125 54.390625  Q 13.28125 47.953125 15.671875 44.328125  Q 18.0625 40.71875 22.3125 40.71875  Q 26.5625 40.71875 28.96875 44.328125  Q 31.390625 47.953125 31.390625 54.390625  Q 31.390625 60.6875 28.953125 64.34375  Q 26.515625 68.015625 22.3125 68.015625  z M 66.40625 74.21875  L 74.21875 74.21875  L 28.609375 -1.421875  L 20.796875 -1.421875  z M 22.3125 74.21875  Q 30.03125 74.21875 34.609375 68.875  Q 39.203125 63.53125 39.203125 54.390625  Q 39.203125 45.171875 34.640625 39.84375  Q 30.078125 34.515625 22.3125 34.515625  Q 14.546875 34.515625 10.03125 39.859375  Q 5.515625 45.21875 5.515625 54.390625  Q 5.515625 63.484375 10.046875 68.84375  Q 14.59375 74.21875 22.3125 74.21875  z \" id=\"DejaVuSans-37\"/>\n    </defs>\n    <g transform=\"translate(90.432812 43.818437)scale(0.1 -0.1)\">\n     <use xlink:href=\"#DejaVuSans-54\"/>\n     <use x=\"63.623047\" xlink:href=\"#DejaVuSans-48\"/>\n     <use x=\"127.246094\" xlink:href=\"#DejaVuSans-46\"/>\n     <use x=\"159.033203\" xlink:href=\"#DejaVuSans-48\"/>\n     <use x=\"222.65625\" xlink:href=\"#DejaVuSans-48\"/>\n     <use x=\"286.279297\" xlink:href=\"#DejaVuSans-37\"/>\n    </g>\n   </g>\n   <g id=\"text_4\">\n    <!-- 40.00% -->\n    <defs>\n     <path d=\"M 37.796875 64.3125  L 12.890625 25.390625  L 37.796875 25.390625  z M 35.203125 72.90625  L 47.609375 72.90625  L 47.609375 25.390625  L 58.015625 25.390625  L 58.015625 17.1875  L 47.609375 17.1875  L 47.609375 0  L 37.796875 0  L 37.796875 17.1875  L 4.890625 17.1875  L 4.890625 26.703125  z \" id=\"DejaVuSans-52\"/>\n    </defs>\n    <g transform=\"translate(90.432812 28.718437)scale(0.1 -0.1)\">\n     <use xlink:href=\"#DejaVuSans-52\"/>\n     <use x=\"63.623047\" xlink:href=\"#DejaVuSans-48\"/>\n     <use x=\"127.246094\" xlink:href=\"#DejaVuSans-46\"/>\n     <use x=\"159.033203\" xlink:href=\"#DejaVuSans-48\"/>\n     <use x=\"222.65625\" xlink:href=\"#DejaVuSans-48\"/>\n     <use x=\"286.279297\" xlink:href=\"#DejaVuSans-37\"/>\n    </g>\n   </g>\n   <g id=\"text_5\">\n    <!-- c -->\n    <defs>\n     <path d=\"M 48.78125 52.59375  L 48.78125 44.1875  Q 44.96875 46.296875 41.140625 47.34375  Q 37.3125 48.390625 33.40625 48.390625  Q 24.65625 48.390625 19.8125 42.84375  Q 14.984375 37.3125 14.984375 27.296875  Q 14.984375 17.28125 19.8125 11.734375  Q 24.65625 6.203125 33.40625 6.203125  Q 37.3125 6.203125 41.140625 7.25  Q 44.96875 8.296875 48.78125 10.40625  L 48.78125 2.09375  Q 45.015625 0.34375 40.984375 -0.53125  Q 36.96875 -1.421875 32.421875 -1.421875  Q 20.0625 -1.421875 12.78125 6.34375  Q 5.515625 14.109375 5.515625 27.296875  Q 5.515625 40.671875 12.859375 48.328125  Q 20.21875 56 33.015625 56  Q 37.15625 56 41.109375 55.140625  Q 45.0625 54.296875 48.78125 52.59375  z \" id=\"DejaVuSans-99\"/>\n    </defs>\n    <g transform=\"translate(69.463437 12.718125)scale(0.12 -0.12)\">\n     <use xlink:href=\"#DejaVuSans-99\"/>\n    </g>\n   </g>\n  </g>\n </g>\n <defs>\n  <clipPath id=\"pb63d0c20ed\">\n   <rect height=\"27.18\" width=\"111.6\" x=\"16.9625\" y=\"18.718125\"/>\n  </clipPath>\n </defs>\n</svg>\n\n</g>\n<!-- s -->\n<g class=\"node\" id=\"node2\">\n<title>s</title>\n<polygon fill=\"#ffffff\" points=\"101,-141 0,-141 0,-100 101,-100 101,-141\" stroke=\"#000000\"/>\n<svg height=\"41px\" preserveAspectRatio=\"xMinYMin meet\" viewBox=\"0 0 132.1625 52.998125\" width=\"101px\" x=\"0\" y=\"-141\"> <defs>\n  <style type=\"text/css\">\n*{stroke-linecap:butt;stroke-linejoin:round;}\n  </style>\n </defs>\n <g id=\"figure_1\">\n  <g id=\"patch_1\">\n   <path d=\"M 0 52.998125  L 132.1625 52.998125  L 132.1625 0  L 0 0  z \" style=\"fill:none;\"/>\n  </g>\n  <g id=\"axes_1\">\n   <g id=\"patch_2\">\n    <path d=\"M 16.9625 45.898125  L 128.5625 45.898125  L 128.5625 18.718125  L 16.9625 18.718125  z \" style=\"fill:none;\"/>\n   </g>\n   <g id=\"patch_3\">\n    <path clip-path=\"url(#pea351979ae)\" d=\"M 16.9625 45.898125  L 45.9785 45.898125  L 45.9785 33.818125  L 16.9625 33.818125  z \" style=\"fill:#8fbc8f;\"/>\n   </g>\n   <g id=\"patch_4\">\n    <path clip-path=\"url(#pea351979ae)\" d=\"M 16.9625 30.798125  L 99.5465 30.798125  L 99.5465 18.718125  L 16.9625 18.718125  z \" style=\"fill:#8fbc8f;\"/>\n   </g>\n   <g id=\"matplotlib.axis_1\">\n    <g id=\"xtick_1\">\n     <g id=\"line2d_1\">\n      <path clip-path=\"url(#pea351979ae)\" d=\"M 16.9625 45.898125  L 16.9625 18.718125  \" style=\"fill:none;stroke:#b0b0b0;stroke-linecap:square;stroke-width:0.8;\"/>\n     </g>\n     <g id=\"line2d_2\">\n      <defs>\n       <path d=\"M 0 0  L 0 3.5  \" id=\"m5cdb2dcc7f\" style=\"stroke:#000000;stroke-width:0.8;\"/>\n      </defs>\n      <g>\n       <use style=\"stroke:#000000;stroke-width:0.8;\" x=\"16.9625\" xlink:href=\"#m5cdb2dcc7f\" y=\"45.898125\"/>\n      </g>\n     </g>\n    </g>\n    <g id=\"xtick_2\">\n     <g id=\"line2d_3\">\n      <path clip-path=\"url(#pea351979ae)\" d=\"M 72.7625 45.898125  L 72.7625 18.718125  \" style=\"fill:none;stroke:#b0b0b0;stroke-linecap:square;stroke-width:0.8;\"/>\n     </g>\n     <g id=\"line2d_4\">\n      <g>\n       <use style=\"stroke:#000000;stroke-width:0.8;\" x=\"72.7625\" xlink:href=\"#m5cdb2dcc7f\" y=\"45.898125\"/>\n      </g>\n     </g>\n    </g>\n    <g id=\"xtick_3\">\n     <g id=\"line2d_5\">\n      <path clip-path=\"url(#pea351979ae)\" d=\"M 128.5625 45.898125  L 128.5625 18.718125  \" style=\"fill:none;stroke:#b0b0b0;stroke-linecap:square;stroke-width:0.8;\"/>\n     </g>\n     <g id=\"line2d_6\">\n      <g>\n       <use style=\"stroke:#000000;stroke-width:0.8;\" x=\"128.5625\" xlink:href=\"#m5cdb2dcc7f\" y=\"45.898125\"/>\n      </g>\n     </g>\n    </g>\n   </g>\n   <g id=\"matplotlib.axis_2\">\n    <g id=\"ytick_1\">\n     <g id=\"line2d_7\">\n      <defs>\n       <path d=\"M 0 0  L -3.5 0  \" id=\"mac5b6d3147\" style=\"stroke:#000000;stroke-width:0.8;\"/>\n      </defs>\n      <g>\n       <use style=\"stroke:#000000;stroke-width:0.8;\" x=\"16.9625\" xlink:href=\"#mac5b6d3147\" y=\"39.858125\"/>\n      </g>\n     </g>\n     <g id=\"text_1\">\n      <!-- 1 -->\n      <defs>\n       <path d=\"M 12.40625 8.296875  L 28.515625 8.296875  L 28.515625 63.921875  L 10.984375 60.40625  L 10.984375 69.390625  L 28.421875 72.90625  L 38.28125 72.90625  L 38.28125 8.296875  L 54.390625 8.296875  L 54.390625 0  L 12.40625 0  z \" id=\"DejaVuSans-49\"/>\n      </defs>\n      <g transform=\"translate(3.6 43.657344)scale(0.1 -0.1)\">\n       <use xlink:href=\"#DejaVuSans-49\"/>\n      </g>\n     </g>\n    </g>\n    <g id=\"ytick_2\">\n     <g id=\"line2d_8\">\n      <g>\n       <use style=\"stroke:#000000;stroke-width:0.8;\" x=\"16.9625\" xlink:href=\"#mac5b6d3147\" y=\"24.758125\"/>\n      </g>\n     </g>\n     <g id=\"text_2\">\n      <!-- 0 -->\n      <defs>\n       <path d=\"M 31.78125 66.40625  Q 24.171875 66.40625 20.328125 58.90625  Q 16.5 51.421875 16.5 36.375  Q 16.5 21.390625 20.328125 13.890625  Q 24.171875 6.390625 31.78125 6.390625  Q 39.453125 6.390625 43.28125 13.890625  Q 47.125 21.390625 47.125 36.375  Q 47.125 51.421875 43.28125 58.90625  Q 39.453125 66.40625 31.78125 66.40625  z M 31.78125 74.21875  Q 44.046875 74.21875 50.515625 64.515625  Q 56.984375 54.828125 56.984375 36.375  Q 56.984375 17.96875 50.515625 8.265625  Q 44.046875 -1.421875 31.78125 -1.421875  Q 19.53125 -1.421875 13.0625 8.265625  Q 6.59375 17.96875 6.59375 36.375  Q 6.59375 54.828125 13.0625 64.515625  Q 19.53125 74.21875 31.78125 74.21875  z \" id=\"DejaVuSans-48\"/>\n      </defs>\n      <g transform=\"translate(3.6 28.557344)scale(0.1 -0.1)\">\n       <use xlink:href=\"#DejaVuSans-48\"/>\n      </g>\n     </g>\n    </g>\n   </g>\n   <g id=\"patch_5\">\n    <path d=\"M 16.9625 45.898125  L 16.9625 18.718125  \" style=\"fill:none;stroke:#000000;stroke-linecap:square;stroke-linejoin:miter;stroke-width:0.8;\"/>\n   </g>\n   <g id=\"patch_6\">\n    <path d=\"M 128.5625 45.898125  L 128.5625 18.718125  \" style=\"fill:none;stroke:#000000;stroke-linecap:square;stroke-linejoin:miter;stroke-width:0.8;\"/>\n   </g>\n   <g id=\"patch_7\">\n    <path d=\"M 16.9625 45.898125  L 128.5625 45.898125  \" style=\"fill:none;stroke:#000000;stroke-linecap:square;stroke-linejoin:miter;stroke-width:0.8;\"/>\n   </g>\n   <g id=\"patch_8\">\n    <path d=\"M 16.9625 18.718125  L 128.5625 18.718125  \" style=\"fill:none;stroke:#000000;stroke-linecap:square;stroke-linejoin:miter;stroke-width:0.8;\"/>\n   </g>\n   <g id=\"text_3\">\n    <!-- 26.00% -->\n    <defs>\n     <path d=\"M 19.1875 8.296875  L 53.609375 8.296875  L 53.609375 0  L 7.328125 0  L 7.328125 8.296875  Q 12.9375 14.109375 22.625 23.890625  Q 32.328125 33.6875 34.8125 36.53125  Q 39.546875 41.84375 41.421875 45.53125  Q 43.3125 49.21875 43.3125 52.78125  Q 43.3125 58.59375 39.234375 62.25  Q 35.15625 65.921875 28.609375 65.921875  Q 23.96875 65.921875 18.8125 64.3125  Q 13.671875 62.703125 7.8125 59.421875  L 7.8125 69.390625  Q 13.765625 71.78125 18.9375 73  Q 24.125 74.21875 28.421875 74.21875  Q 39.75 74.21875 46.484375 68.546875  Q 53.21875 62.890625 53.21875 53.421875  Q 53.21875 48.921875 51.53125 44.890625  Q 49.859375 40.875 45.40625 35.40625  Q 44.1875 33.984375 37.640625 27.21875  Q 31.109375 20.453125 19.1875 8.296875  z \" id=\"DejaVuSans-50\"/>\n     <path d=\"M 33.015625 40.375  Q 26.375 40.375 22.484375 35.828125  Q 18.609375 31.296875 18.609375 23.390625  Q 18.609375 15.53125 22.484375 10.953125  Q 26.375 6.390625 33.015625 6.390625  Q 39.65625 6.390625 43.53125 10.953125  Q 47.40625 15.53125 47.40625 23.390625  Q 47.40625 31.296875 43.53125 35.828125  Q 39.65625 40.375 33.015625 40.375  z M 52.59375 71.296875  L 52.59375 62.3125  Q 48.875 64.0625 45.09375 64.984375  Q 41.3125 65.921875 37.59375 65.921875  Q 27.828125 65.921875 22.671875 59.328125  Q 17.53125 52.734375 16.796875 39.40625  Q 19.671875 43.65625 24.015625 45.921875  Q 28.375 48.1875 33.59375 48.1875  Q 44.578125 48.1875 50.953125 41.515625  Q 57.328125 34.859375 57.328125 23.390625  Q 57.328125 12.15625 50.6875 5.359375  Q 44.046875 -1.421875 33.015625 -1.421875  Q 20.359375 -1.421875 13.671875 8.265625  Q 6.984375 17.96875 6.984375 36.375  Q 6.984375 53.65625 15.1875 63.9375  Q 23.390625 74.21875 37.203125 74.21875  Q 40.921875 74.21875 44.703125 73.484375  Q 48.484375 72.75 52.59375 71.296875  z \" id=\"DejaVuSans-54\"/>\n     <path d=\"M 10.6875 12.40625  L 21 12.40625  L 21 0  L 10.6875 0  z \" id=\"DejaVuSans-46\"/>\n     <path d=\"M 72.703125 32.078125  Q 68.453125 32.078125 66.03125 28.46875  Q 63.625 24.859375 63.625 18.40625  Q 63.625 12.0625 66.03125 8.421875  Q 68.453125 4.78125 72.703125 4.78125  Q 76.859375 4.78125 79.265625 8.421875  Q 81.6875 12.0625 81.6875 18.40625  Q 81.6875 24.8125 79.265625 28.4375  Q 76.859375 32.078125 72.703125 32.078125  z M 72.703125 38.28125  Q 80.421875 38.28125 84.953125 32.90625  Q 89.5 27.546875 89.5 18.40625  Q 89.5 9.28125 84.9375 3.921875  Q 80.375 -1.421875 72.703125 -1.421875  Q 64.890625 -1.421875 60.34375 3.921875  Q 55.8125 9.28125 55.8125 18.40625  Q 55.8125 27.59375 60.375 32.9375  Q 64.9375 38.28125 72.703125 38.28125  z M 22.3125 68.015625  Q 18.109375 68.015625 15.6875 64.375  Q 13.28125 60.75 13.28125 54.390625  Q 13.28125 47.953125 15.671875 44.328125  Q 18.0625 40.71875 22.3125 40.71875  Q 26.5625 40.71875 28.96875 44.328125  Q 31.390625 47.953125 31.390625 54.390625  Q 31.390625 60.6875 28.953125 64.34375  Q 26.515625 68.015625 22.3125 68.015625  z M 66.40625 74.21875  L 74.21875 74.21875  L 28.609375 -1.421875  L 20.796875 -1.421875  z M 22.3125 74.21875  Q 30.03125 74.21875 34.609375 68.875  Q 39.203125 63.53125 39.203125 54.390625  Q 39.203125 45.171875 34.640625 39.84375  Q 30.078125 34.515625 22.3125 34.515625  Q 14.546875 34.515625 10.03125 39.859375  Q 5.515625 45.21875 5.515625 54.390625  Q 5.515625 63.484375 10.046875 68.84375  Q 14.59375 74.21875 22.3125 74.21875  z \" id=\"DejaVuSans-37\"/>\n    </defs>\n    <g transform=\"translate(90.432812 43.818437)scale(0.1 -0.1)\">\n     <use xlink:href=\"#DejaVuSans-50\"/>\n     <use x=\"63.623047\" xlink:href=\"#DejaVuSans-54\"/>\n     <use x=\"127.246094\" xlink:href=\"#DejaVuSans-46\"/>\n     <use x=\"159.033203\" xlink:href=\"#DejaVuSans-48\"/>\n     <use x=\"222.65625\" xlink:href=\"#DejaVuSans-48\"/>\n     <use x=\"286.279297\" xlink:href=\"#DejaVuSans-37\"/>\n    </g>\n   </g>\n   <g id=\"text_4\">\n    <!-- 74.00% -->\n    <defs>\n     <path d=\"M 8.203125 72.90625  L 55.078125 72.90625  L 55.078125 68.703125  L 28.609375 0  L 18.3125 0  L 43.21875 64.59375  L 8.203125 64.59375  z \" id=\"DejaVuSans-55\"/>\n     <path d=\"M 37.796875 64.3125  L 12.890625 25.390625  L 37.796875 25.390625  z M 35.203125 72.90625  L 47.609375 72.90625  L 47.609375 25.390625  L 58.015625 25.390625  L 58.015625 17.1875  L 47.609375 17.1875  L 47.609375 0  L 37.796875 0  L 37.796875 17.1875  L 4.890625 17.1875  L 4.890625 26.703125  z \" id=\"DejaVuSans-52\"/>\n    </defs>\n    <g transform=\"translate(90.432812 28.718437)scale(0.1 -0.1)\">\n     <use xlink:href=\"#DejaVuSans-55\"/>\n     <use x=\"63.623047\" xlink:href=\"#DejaVuSans-52\"/>\n     <use x=\"127.246094\" xlink:href=\"#DejaVuSans-46\"/>\n     <use x=\"159.033203\" xlink:href=\"#DejaVuSans-48\"/>\n     <use x=\"222.65625\" xlink:href=\"#DejaVuSans-48\"/>\n     <use x=\"286.279297\" xlink:href=\"#DejaVuSans-37\"/>\n    </g>\n   </g>\n   <g id=\"text_5\">\n    <!-- s -->\n    <defs>\n     <path d=\"M 44.28125 53.078125  L 44.28125 44.578125  Q 40.484375 46.53125 36.375 47.5  Q 32.28125 48.484375 27.875 48.484375  Q 21.1875 48.484375 17.84375 46.4375  Q 14.5 44.390625 14.5 40.28125  Q 14.5 37.15625 16.890625 35.375  Q 19.28125 33.59375 26.515625 31.984375  L 29.59375 31.296875  Q 39.15625 29.25 43.1875 25.515625  Q 47.21875 21.78125 47.21875 15.09375  Q 47.21875 7.46875 41.1875 3.015625  Q 35.15625 -1.421875 24.609375 -1.421875  Q 20.21875 -1.421875 15.453125 -0.5625  Q 10.6875 0.296875 5.421875 2  L 5.421875 11.28125  Q 10.40625 8.6875 15.234375 7.390625  Q 20.0625 6.109375 24.8125 6.109375  Q 31.15625 6.109375 34.5625 8.28125  Q 37.984375 10.453125 37.984375 14.40625  Q 37.984375 18.0625 35.515625 20.015625  Q 33.0625 21.96875 24.703125 23.78125  L 21.578125 24.515625  Q 13.234375 26.265625 9.515625 29.90625  Q 5.8125 33.546875 5.8125 39.890625  Q 5.8125 47.609375 11.28125 51.796875  Q 16.75 56 26.8125 56  Q 31.78125 56 36.171875 55.265625  Q 40.578125 54.546875 44.28125 53.078125  z \" id=\"DejaVuSans-115\"/>\n    </defs>\n    <g transform=\"translate(69.636875 12.718125)scale(0.12 -0.12)\">\n     <use xlink:href=\"#DejaVuSans-115\"/>\n    </g>\n   </g>\n  </g>\n </g>\n <defs>\n  <clipPath id=\"pea351979ae\">\n   <rect height=\"27.18\" width=\"111.6\" x=\"16.9625\" y=\"18.718125\"/>\n  </clipPath>\n </defs>\n</svg>\n\n</g>\n<!-- c&#45;&gt;s -->\n<g class=\"edge\" id=\"edge1\">\n<title>c-&gt;s</title>\n<g id=\"a_edge1\"><a xlink:title=\"(0, 1):\">\n<path d=\"M93.6891,-176.8654C87.2079,-168.407 79.5941,-158.4702 72.579,-149.3149\" fill=\"none\" stroke=\"#4a4a4a\"/>\n<polygon fill=\"#4a4a4a\" points=\"75.215,-147.0005 66.3546,-141.1915 69.6585,-151.2581 75.215,-147.0005\" stroke=\"#4a4a4a\"/>\n</a>\n</g>\n</g>\n<!-- r -->\n<g class=\"node\" id=\"node3\">\n<title>r</title>\n<polygon fill=\"#ffffff\" points=\"220,-141 119,-141 119,-100 220,-100 220,-141\" stroke=\"#000000\"/>\n<svg height=\"41px\" preserveAspectRatio=\"xMinYMin meet\" viewBox=\"0 0 132.1625 52.998125\" width=\"101px\" x=\"119\" y=\"-141\"> <defs>\n  <style type=\"text/css\">\n*{stroke-linecap:butt;stroke-linejoin:round;}\n  </style>\n </defs>\n <g id=\"figure_1\">\n  <g id=\"patch_1\">\n   <path d=\"M 0 52.998125  L 132.1625 52.998125  L 132.1625 0  L 0 0  z \" style=\"fill:none;\"/>\n  </g>\n  <g id=\"axes_1\">\n   <g id=\"patch_2\">\n    <path d=\"M 16.9625 45.898125  L 128.5625 45.898125  L 128.5625 18.718125  L 16.9625 18.718125  z \" style=\"fill:none;\"/>\n   </g>\n   <g id=\"patch_3\">\n    <path clip-path=\"url(#p9113dae00e)\" d=\"M 16.9625 45.898125  L 79.4585 45.898125  L 79.4585 33.818125  L 16.9625 33.818125  z \" style=\"fill:#8fbc8f;\"/>\n   </g>\n   <g id=\"patch_4\">\n    <path clip-path=\"url(#p9113dae00e)\" d=\"M 16.9625 30.798125  L 66.0665 30.798125  L 66.0665 18.718125  L 16.9625 18.718125  z \" style=\"fill:#8fbc8f;\"/>\n   </g>\n   <g id=\"matplotlib.axis_1\">\n    <g id=\"xtick_1\">\n     <g id=\"line2d_1\">\n      <path clip-path=\"url(#p9113dae00e)\" d=\"M 16.9625 45.898125  L 16.9625 18.718125  \" style=\"fill:none;stroke:#b0b0b0;stroke-linecap:square;stroke-width:0.8;\"/>\n     </g>\n     <g id=\"line2d_2\">\n      <defs>\n       <path d=\"M 0 0  L 0 3.5  \" id=\"m944375a721\" style=\"stroke:#000000;stroke-width:0.8;\"/>\n      </defs>\n      <g>\n       <use style=\"stroke:#000000;stroke-width:0.8;\" x=\"16.9625\" xlink:href=\"#m944375a721\" y=\"45.898125\"/>\n      </g>\n     </g>\n    </g>\n    <g id=\"xtick_2\">\n     <g id=\"line2d_3\">\n      <path clip-path=\"url(#p9113dae00e)\" d=\"M 72.7625 45.898125  L 72.7625 18.718125  \" style=\"fill:none;stroke:#b0b0b0;stroke-linecap:square;stroke-width:0.8;\"/>\n     </g>\n     <g id=\"line2d_4\">\n      <g>\n       <use style=\"stroke:#000000;stroke-width:0.8;\" x=\"72.7625\" xlink:href=\"#m944375a721\" y=\"45.898125\"/>\n      </g>\n     </g>\n    </g>\n    <g id=\"xtick_3\">\n     <g id=\"line2d_5\">\n      <path clip-path=\"url(#p9113dae00e)\" d=\"M 128.5625 45.898125  L 128.5625 18.718125  \" style=\"fill:none;stroke:#b0b0b0;stroke-linecap:square;stroke-width:0.8;\"/>\n     </g>\n     <g id=\"line2d_6\">\n      <g>\n       <use style=\"stroke:#000000;stroke-width:0.8;\" x=\"128.5625\" xlink:href=\"#m944375a721\" y=\"45.898125\"/>\n      </g>\n     </g>\n    </g>\n   </g>\n   <g id=\"matplotlib.axis_2\">\n    <g id=\"ytick_1\">\n     <g id=\"line2d_7\">\n      <defs>\n       <path d=\"M 0 0  L -3.5 0  \" id=\"m69a50f77d4\" style=\"stroke:#000000;stroke-width:0.8;\"/>\n      </defs>\n      <g>\n       <use style=\"stroke:#000000;stroke-width:0.8;\" x=\"16.9625\" xlink:href=\"#m69a50f77d4\" y=\"39.858125\"/>\n      </g>\n     </g>\n     <g id=\"text_1\">\n      <!-- 1 -->\n      <defs>\n       <path d=\"M 12.40625 8.296875  L 28.515625 8.296875  L 28.515625 63.921875  L 10.984375 60.40625  L 10.984375 69.390625  L 28.421875 72.90625  L 38.28125 72.90625  L 38.28125 8.296875  L 54.390625 8.296875  L 54.390625 0  L 12.40625 0  z \" id=\"DejaVuSans-49\"/>\n      </defs>\n      <g transform=\"translate(3.6 43.657344)scale(0.1 -0.1)\">\n       <use xlink:href=\"#DejaVuSans-49\"/>\n      </g>\n     </g>\n    </g>\n    <g id=\"ytick_2\">\n     <g id=\"line2d_8\">\n      <g>\n       <use style=\"stroke:#000000;stroke-width:0.8;\" x=\"16.9625\" xlink:href=\"#m69a50f77d4\" y=\"24.758125\"/>\n      </g>\n     </g>\n     <g id=\"text_2\">\n      <!-- 0 -->\n      <defs>\n       <path d=\"M 31.78125 66.40625  Q 24.171875 66.40625 20.328125 58.90625  Q 16.5 51.421875 16.5 36.375  Q 16.5 21.390625 20.328125 13.890625  Q 24.171875 6.390625 31.78125 6.390625  Q 39.453125 6.390625 43.28125 13.890625  Q 47.125 21.390625 47.125 36.375  Q 47.125 51.421875 43.28125 58.90625  Q 39.453125 66.40625 31.78125 66.40625  z M 31.78125 74.21875  Q 44.046875 74.21875 50.515625 64.515625  Q 56.984375 54.828125 56.984375 36.375  Q 56.984375 17.96875 50.515625 8.265625  Q 44.046875 -1.421875 31.78125 -1.421875  Q 19.53125 -1.421875 13.0625 8.265625  Q 6.59375 17.96875 6.59375 36.375  Q 6.59375 54.828125 13.0625 64.515625  Q 19.53125 74.21875 31.78125 74.21875  z \" id=\"DejaVuSans-48\"/>\n      </defs>\n      <g transform=\"translate(3.6 28.557344)scale(0.1 -0.1)\">\n       <use xlink:href=\"#DejaVuSans-48\"/>\n      </g>\n     </g>\n    </g>\n   </g>\n   <g id=\"patch_5\">\n    <path d=\"M 16.9625 45.898125  L 16.9625 18.718125  \" style=\"fill:none;stroke:#000000;stroke-linecap:square;stroke-linejoin:miter;stroke-width:0.8;\"/>\n   </g>\n   <g id=\"patch_6\">\n    <path d=\"M 128.5625 45.898125  L 128.5625 18.718125  \" style=\"fill:none;stroke:#000000;stroke-linecap:square;stroke-linejoin:miter;stroke-width:0.8;\"/>\n   </g>\n   <g id=\"patch_7\">\n    <path d=\"M 16.9625 45.898125  L 128.5625 45.898125  \" style=\"fill:none;stroke:#000000;stroke-linecap:square;stroke-linejoin:miter;stroke-width:0.8;\"/>\n   </g>\n   <g id=\"patch_8\">\n    <path d=\"M 16.9625 18.718125  L 128.5625 18.718125  \" style=\"fill:none;stroke:#000000;stroke-linecap:square;stroke-linejoin:miter;stroke-width:0.8;\"/>\n   </g>\n   <g id=\"text_3\">\n    <!-- 56.00% -->\n    <defs>\n     <path d=\"M 10.796875 72.90625  L 49.515625 72.90625  L 49.515625 64.59375  L 19.828125 64.59375  L 19.828125 46.734375  Q 21.96875 47.46875 24.109375 47.828125  Q 26.265625 48.1875 28.421875 48.1875  Q 40.625 48.1875 47.75 41.5  Q 54.890625 34.8125 54.890625 23.390625  Q 54.890625 11.625 47.5625 5.09375  Q 40.234375 -1.421875 26.90625 -1.421875  Q 22.3125 -1.421875 17.546875 -0.640625  Q 12.796875 0.140625 7.71875 1.703125  L 7.71875 11.625  Q 12.109375 9.234375 16.796875 8.0625  Q 21.484375 6.890625 26.703125 6.890625  Q 35.15625 6.890625 40.078125 11.328125  Q 45.015625 15.765625 45.015625 23.390625  Q 45.015625 31 40.078125 35.4375  Q 35.15625 39.890625 26.703125 39.890625  Q 22.75 39.890625 18.8125 39.015625  Q 14.890625 38.140625 10.796875 36.28125  z \" id=\"DejaVuSans-53\"/>\n     <path d=\"M 33.015625 40.375  Q 26.375 40.375 22.484375 35.828125  Q 18.609375 31.296875 18.609375 23.390625  Q 18.609375 15.53125 22.484375 10.953125  Q 26.375 6.390625 33.015625 6.390625  Q 39.65625 6.390625 43.53125 10.953125  Q 47.40625 15.53125 47.40625 23.390625  Q 47.40625 31.296875 43.53125 35.828125  Q 39.65625 40.375 33.015625 40.375  z M 52.59375 71.296875  L 52.59375 62.3125  Q 48.875 64.0625 45.09375 64.984375  Q 41.3125 65.921875 37.59375 65.921875  Q 27.828125 65.921875 22.671875 59.328125  Q 17.53125 52.734375 16.796875 39.40625  Q 19.671875 43.65625 24.015625 45.921875  Q 28.375 48.1875 33.59375 48.1875  Q 44.578125 48.1875 50.953125 41.515625  Q 57.328125 34.859375 57.328125 23.390625  Q 57.328125 12.15625 50.6875 5.359375  Q 44.046875 -1.421875 33.015625 -1.421875  Q 20.359375 -1.421875 13.671875 8.265625  Q 6.984375 17.96875 6.984375 36.375  Q 6.984375 53.65625 15.1875 63.9375  Q 23.390625 74.21875 37.203125 74.21875  Q 40.921875 74.21875 44.703125 73.484375  Q 48.484375 72.75 52.59375 71.296875  z \" id=\"DejaVuSans-54\"/>\n     <path d=\"M 10.6875 12.40625  L 21 12.40625  L 21 0  L 10.6875 0  z \" id=\"DejaVuSans-46\"/>\n     <path d=\"M 72.703125 32.078125  Q 68.453125 32.078125 66.03125 28.46875  Q 63.625 24.859375 63.625 18.40625  Q 63.625 12.0625 66.03125 8.421875  Q 68.453125 4.78125 72.703125 4.78125  Q 76.859375 4.78125 79.265625 8.421875  Q 81.6875 12.0625 81.6875 18.40625  Q 81.6875 24.8125 79.265625 28.4375  Q 76.859375 32.078125 72.703125 32.078125  z M 72.703125 38.28125  Q 80.421875 38.28125 84.953125 32.90625  Q 89.5 27.546875 89.5 18.40625  Q 89.5 9.28125 84.9375 3.921875  Q 80.375 -1.421875 72.703125 -1.421875  Q 64.890625 -1.421875 60.34375 3.921875  Q 55.8125 9.28125 55.8125 18.40625  Q 55.8125 27.59375 60.375 32.9375  Q 64.9375 38.28125 72.703125 38.28125  z M 22.3125 68.015625  Q 18.109375 68.015625 15.6875 64.375  Q 13.28125 60.75 13.28125 54.390625  Q 13.28125 47.953125 15.671875 44.328125  Q 18.0625 40.71875 22.3125 40.71875  Q 26.5625 40.71875 28.96875 44.328125  Q 31.390625 47.953125 31.390625 54.390625  Q 31.390625 60.6875 28.953125 64.34375  Q 26.515625 68.015625 22.3125 68.015625  z M 66.40625 74.21875  L 74.21875 74.21875  L 28.609375 -1.421875  L 20.796875 -1.421875  z M 22.3125 74.21875  Q 30.03125 74.21875 34.609375 68.875  Q 39.203125 63.53125 39.203125 54.390625  Q 39.203125 45.171875 34.640625 39.84375  Q 30.078125 34.515625 22.3125 34.515625  Q 14.546875 34.515625 10.03125 39.859375  Q 5.515625 45.21875 5.515625 54.390625  Q 5.515625 63.484375 10.046875 68.84375  Q 14.59375 74.21875 22.3125 74.21875  z \" id=\"DejaVuSans-37\"/>\n    </defs>\n    <g transform=\"translate(90.432812 43.818437)scale(0.1 -0.1)\">\n     <use xlink:href=\"#DejaVuSans-53\"/>\n     <use x=\"63.623047\" xlink:href=\"#DejaVuSans-54\"/>\n     <use x=\"127.246094\" xlink:href=\"#DejaVuSans-46\"/>\n     <use x=\"159.033203\" xlink:href=\"#DejaVuSans-48\"/>\n     <use x=\"222.65625\" xlink:href=\"#DejaVuSans-48\"/>\n     <use x=\"286.279297\" xlink:href=\"#DejaVuSans-37\"/>\n    </g>\n   </g>\n   <g id=\"text_4\">\n    <!-- 44.00% -->\n    <defs>\n     <path d=\"M 37.796875 64.3125  L 12.890625 25.390625  L 37.796875 25.390625  z M 35.203125 72.90625  L 47.609375 72.90625  L 47.609375 25.390625  L 58.015625 25.390625  L 58.015625 17.1875  L 47.609375 17.1875  L 47.609375 0  L 37.796875 0  L 37.796875 17.1875  L 4.890625 17.1875  L 4.890625 26.703125  z \" id=\"DejaVuSans-52\"/>\n    </defs>\n    <g transform=\"translate(90.432812 28.718437)scale(0.1 -0.1)\">\n     <use xlink:href=\"#DejaVuSans-52\"/>\n     <use x=\"63.623047\" xlink:href=\"#DejaVuSans-52\"/>\n     <use x=\"127.246094\" xlink:href=\"#DejaVuSans-46\"/>\n     <use x=\"159.033203\" xlink:href=\"#DejaVuSans-48\"/>\n     <use x=\"222.65625\" xlink:href=\"#DejaVuSans-48\"/>\n     <use x=\"286.279297\" xlink:href=\"#DejaVuSans-37\"/>\n    </g>\n   </g>\n   <g id=\"text_5\">\n    <!-- r -->\n    <defs>\n     <path d=\"M 41.109375 46.296875  Q 39.59375 47.171875 37.8125 47.578125  Q 36.03125 48 33.890625 48  Q 26.265625 48 22.1875 43.046875  Q 18.109375 38.09375 18.109375 28.8125  L 18.109375 0  L 9.078125 0  L 9.078125 54.6875  L 18.109375 54.6875  L 18.109375 46.1875  Q 20.953125 51.171875 25.484375 53.578125  Q 30.03125 56 36.53125 56  Q 37.453125 56 38.578125 55.875  Q 39.703125 55.765625 41.0625 55.515625  z \" id=\"DejaVuSans-114\"/>\n    </defs>\n    <g transform=\"translate(70.295938 12.718125)scale(0.12 -0.12)\">\n     <use xlink:href=\"#DejaVuSans-114\"/>\n    </g>\n   </g>\n  </g>\n </g>\n <defs>\n  <clipPath id=\"p9113dae00e\">\n   <rect height=\"27.18\" width=\"111.6\" x=\"16.9625\" y=\"18.718125\"/>\n  </clipPath>\n </defs>\n</svg>\n\n</g>\n<!-- c&#45;&gt;r -->\n<g class=\"edge\" id=\"edge4\">\n<title>c-&gt;r</title>\n<g id=\"a_edge4\"><a xlink:title=\"(0, 2):\">\n<path d=\"M125.5789,-176.8654C132.1699,-168.407 139.9128,-158.4702 147.0468,-149.3149\" fill=\"none\" stroke=\"#4a4a4a\"/>\n<polygon fill=\"#4a4a4a\" points=\"149.991,-151.2309 153.3767,-141.1915 144.4694,-146.9283 149.991,-151.2309\" stroke=\"#4a4a4a\"/>\n</a>\n</g>\n</g>\n<!-- w -->\n<g class=\"node\" id=\"node4\">\n<title>w</title>\n<polygon fill=\"#ffffff\" points=\"160,-64 59,-64 59,-23 160,-23 160,-64\" stroke=\"#000000\"/>\n<svg height=\"41px\" preserveAspectRatio=\"xMinYMin meet\" viewBox=\"0 0 132.1625 52.998125\" width=\"101px\" x=\"59\" y=\"-64\"> <defs>\n  <style type=\"text/css\">\n*{stroke-linecap:butt;stroke-linejoin:round;}\n  </style>\n </defs>\n <g id=\"figure_1\">\n  <g id=\"patch_1\">\n   <path d=\"M 0 52.998125  L 132.1625 52.998125  L 132.1625 0  L 0 0  z \" style=\"fill:none;\"/>\n  </g>\n  <g id=\"axes_1\">\n   <g id=\"patch_2\">\n    <path d=\"M 16.9625 45.898125  L 128.5625 45.898125  L 128.5625 18.718125  L 16.9625 18.718125  z \" style=\"fill:none;\"/>\n   </g>\n   <g id=\"patch_3\">\n    <path clip-path=\"url(#pf19fedc97c)\" d=\"M 16.9625 45.898125  L 91.368452 45.898125  L 91.368452 33.818125  L 16.9625 33.818125  z \" style=\"fill:#8fbc8f;\"/>\n   </g>\n   <g id=\"patch_4\">\n    <path clip-path=\"url(#pf19fedc97c)\" d=\"M 16.9625 30.798125  L 54.156548 30.798125  L 54.156548 18.718125  L 16.9625 18.718125  z \" style=\"fill:#8fbc8f;\"/>\n   </g>\n   <g id=\"matplotlib.axis_1\">\n    <g id=\"xtick_1\">\n     <g id=\"line2d_1\">\n      <path clip-path=\"url(#pf19fedc97c)\" d=\"M 16.9625 45.898125  L 16.9625 18.718125  \" style=\"fill:none;stroke:#b0b0b0;stroke-linecap:square;stroke-width:0.8;\"/>\n     </g>\n     <g id=\"line2d_2\">\n      <defs>\n       <path d=\"M 0 0  L 0 3.5  \" id=\"m071bec3b3a\" style=\"stroke:#000000;stroke-width:0.8;\"/>\n      </defs>\n      <g>\n       <use style=\"stroke:#000000;stroke-width:0.8;\" x=\"16.9625\" xlink:href=\"#m071bec3b3a\" y=\"45.898125\"/>\n      </g>\n     </g>\n    </g>\n    <g id=\"xtick_2\">\n     <g id=\"line2d_3\">\n      <path clip-path=\"url(#pf19fedc97c)\" d=\"M 72.7625 45.898125  L 72.7625 18.718125  \" style=\"fill:none;stroke:#b0b0b0;stroke-linecap:square;stroke-width:0.8;\"/>\n     </g>\n     <g id=\"line2d_4\">\n      <g>\n       <use style=\"stroke:#000000;stroke-width:0.8;\" x=\"72.7625\" xlink:href=\"#m071bec3b3a\" y=\"45.898125\"/>\n      </g>\n     </g>\n    </g>\n    <g id=\"xtick_3\">\n     <g id=\"line2d_5\">\n      <path clip-path=\"url(#pf19fedc97c)\" d=\"M 128.5625 45.898125  L 128.5625 18.718125  \" style=\"fill:none;stroke:#b0b0b0;stroke-linecap:square;stroke-width:0.8;\"/>\n     </g>\n     <g id=\"line2d_6\">\n      <g>\n       <use style=\"stroke:#000000;stroke-width:0.8;\" x=\"128.5625\" xlink:href=\"#m071bec3b3a\" y=\"45.898125\"/>\n      </g>\n     </g>\n    </g>\n   </g>\n   <g id=\"matplotlib.axis_2\">\n    <g id=\"ytick_1\">\n     <g id=\"line2d_7\">\n      <defs>\n       <path d=\"M 0 0  L -3.5 0  \" id=\"ma31544018f\" style=\"stroke:#000000;stroke-width:0.8;\"/>\n      </defs>\n      <g>\n       <use style=\"stroke:#000000;stroke-width:0.8;\" x=\"16.9625\" xlink:href=\"#ma31544018f\" y=\"39.858125\"/>\n      </g>\n     </g>\n     <g id=\"text_1\">\n      <!-- 1 -->\n      <defs>\n       <path d=\"M 12.40625 8.296875  L 28.515625 8.296875  L 28.515625 63.921875  L 10.984375 60.40625  L 10.984375 69.390625  L 28.421875 72.90625  L 38.28125 72.90625  L 38.28125 8.296875  L 54.390625 8.296875  L 54.390625 0  L 12.40625 0  z \" id=\"DejaVuSans-49\"/>\n      </defs>\n      <g transform=\"translate(3.6 43.657344)scale(0.1 -0.1)\">\n       <use xlink:href=\"#DejaVuSans-49\"/>\n      </g>\n     </g>\n    </g>\n    <g id=\"ytick_2\">\n     <g id=\"line2d_8\">\n      <g>\n       <use style=\"stroke:#000000;stroke-width:0.8;\" x=\"16.9625\" xlink:href=\"#ma31544018f\" y=\"24.758125\"/>\n      </g>\n     </g>\n     <g id=\"text_2\">\n      <!-- 0 -->\n      <defs>\n       <path d=\"M 31.78125 66.40625  Q 24.171875 66.40625 20.328125 58.90625  Q 16.5 51.421875 16.5 36.375  Q 16.5 21.390625 20.328125 13.890625  Q 24.171875 6.390625 31.78125 6.390625  Q 39.453125 6.390625 43.28125 13.890625  Q 47.125 21.390625 47.125 36.375  Q 47.125 51.421875 43.28125 58.90625  Q 39.453125 66.40625 31.78125 66.40625  z M 31.78125 74.21875  Q 44.046875 74.21875 50.515625 64.515625  Q 56.984375 54.828125 56.984375 36.375  Q 56.984375 17.96875 50.515625 8.265625  Q 44.046875 -1.421875 31.78125 -1.421875  Q 19.53125 -1.421875 13.0625 8.265625  Q 6.59375 17.96875 6.59375 36.375  Q 6.59375 54.828125 13.0625 64.515625  Q 19.53125 74.21875 31.78125 74.21875  z \" id=\"DejaVuSans-48\"/>\n      </defs>\n      <g transform=\"translate(3.6 28.557344)scale(0.1 -0.1)\">\n       <use xlink:href=\"#DejaVuSans-48\"/>\n      </g>\n     </g>\n    </g>\n   </g>\n   <g id=\"patch_5\">\n    <path d=\"M 16.9625 45.898125  L 16.9625 18.718125  \" style=\"fill:none;stroke:#000000;stroke-linecap:square;stroke-linejoin:miter;stroke-width:0.8;\"/>\n   </g>\n   <g id=\"patch_6\">\n    <path d=\"M 128.5625 45.898125  L 128.5625 18.718125  \" style=\"fill:none;stroke:#000000;stroke-linecap:square;stroke-linejoin:miter;stroke-width:0.8;\"/>\n   </g>\n   <g id=\"patch_7\">\n    <path d=\"M 16.9625 45.898125  L 128.5625 45.898125  \" style=\"fill:none;stroke:#000000;stroke-linecap:square;stroke-linejoin:miter;stroke-width:0.8;\"/>\n   </g>\n   <g id=\"patch_8\">\n    <path d=\"M 16.9625 18.718125  L 128.5625 18.718125  \" style=\"fill:none;stroke:#000000;stroke-linecap:square;stroke-linejoin:miter;stroke-width:0.8;\"/>\n   </g>\n   <g id=\"text_3\">\n    <!-- 66.67% -->\n    <defs>\n     <path d=\"M 33.015625 40.375  Q 26.375 40.375 22.484375 35.828125  Q 18.609375 31.296875 18.609375 23.390625  Q 18.609375 15.53125 22.484375 10.953125  Q 26.375 6.390625 33.015625 6.390625  Q 39.65625 6.390625 43.53125 10.953125  Q 47.40625 15.53125 47.40625 23.390625  Q 47.40625 31.296875 43.53125 35.828125  Q 39.65625 40.375 33.015625 40.375  z M 52.59375 71.296875  L 52.59375 62.3125  Q 48.875 64.0625 45.09375 64.984375  Q 41.3125 65.921875 37.59375 65.921875  Q 27.828125 65.921875 22.671875 59.328125  Q 17.53125 52.734375 16.796875 39.40625  Q 19.671875 43.65625 24.015625 45.921875  Q 28.375 48.1875 33.59375 48.1875  Q 44.578125 48.1875 50.953125 41.515625  Q 57.328125 34.859375 57.328125 23.390625  Q 57.328125 12.15625 50.6875 5.359375  Q 44.046875 -1.421875 33.015625 -1.421875  Q 20.359375 -1.421875 13.671875 8.265625  Q 6.984375 17.96875 6.984375 36.375  Q 6.984375 53.65625 15.1875 63.9375  Q 23.390625 74.21875 37.203125 74.21875  Q 40.921875 74.21875 44.703125 73.484375  Q 48.484375 72.75 52.59375 71.296875  z \" id=\"DejaVuSans-54\"/>\n     <path d=\"M 10.6875 12.40625  L 21 12.40625  L 21 0  L 10.6875 0  z \" id=\"DejaVuSans-46\"/>\n     <path d=\"M 8.203125 72.90625  L 55.078125 72.90625  L 55.078125 68.703125  L 28.609375 0  L 18.3125 0  L 43.21875 64.59375  L 8.203125 64.59375  z \" id=\"DejaVuSans-55\"/>\n     <path d=\"M 72.703125 32.078125  Q 68.453125 32.078125 66.03125 28.46875  Q 63.625 24.859375 63.625 18.40625  Q 63.625 12.0625 66.03125 8.421875  Q 68.453125 4.78125 72.703125 4.78125  Q 76.859375 4.78125 79.265625 8.421875  Q 81.6875 12.0625 81.6875 18.40625  Q 81.6875 24.8125 79.265625 28.4375  Q 76.859375 32.078125 72.703125 32.078125  z M 72.703125 38.28125  Q 80.421875 38.28125 84.953125 32.90625  Q 89.5 27.546875 89.5 18.40625  Q 89.5 9.28125 84.9375 3.921875  Q 80.375 -1.421875 72.703125 -1.421875  Q 64.890625 -1.421875 60.34375 3.921875  Q 55.8125 9.28125 55.8125 18.40625  Q 55.8125 27.59375 60.375 32.9375  Q 64.9375 38.28125 72.703125 38.28125  z M 22.3125 68.015625  Q 18.109375 68.015625 15.6875 64.375  Q 13.28125 60.75 13.28125 54.390625  Q 13.28125 47.953125 15.671875 44.328125  Q 18.0625 40.71875 22.3125 40.71875  Q 26.5625 40.71875 28.96875 44.328125  Q 31.390625 47.953125 31.390625 54.390625  Q 31.390625 60.6875 28.953125 64.34375  Q 26.515625 68.015625 22.3125 68.015625  z M 66.40625 74.21875  L 74.21875 74.21875  L 28.609375 -1.421875  L 20.796875 -1.421875  z M 22.3125 74.21875  Q 30.03125 74.21875 34.609375 68.875  Q 39.203125 63.53125 39.203125 54.390625  Q 39.203125 45.171875 34.640625 39.84375  Q 30.078125 34.515625 22.3125 34.515625  Q 14.546875 34.515625 10.03125 39.859375  Q 5.515625 45.21875 5.515625 54.390625  Q 5.515625 63.484375 10.046875 68.84375  Q 14.59375 74.21875 22.3125 74.21875  z \" id=\"DejaVuSans-37\"/>\n    </defs>\n    <g transform=\"translate(90.432812 43.818437)scale(0.1 -0.1)\">\n     <use xlink:href=\"#DejaVuSans-54\"/>\n     <use x=\"63.623047\" xlink:href=\"#DejaVuSans-54\"/>\n     <use x=\"127.246094\" xlink:href=\"#DejaVuSans-46\"/>\n     <use x=\"159.033203\" xlink:href=\"#DejaVuSans-54\"/>\n     <use x=\"222.65625\" xlink:href=\"#DejaVuSans-55\"/>\n     <use x=\"286.279297\" xlink:href=\"#DejaVuSans-37\"/>\n    </g>\n   </g>\n   <g id=\"text_4\">\n    <!-- 33.33% -->\n    <defs>\n     <path d=\"M 40.578125 39.3125  Q 47.65625 37.796875 51.625 33  Q 55.609375 28.21875 55.609375 21.1875  Q 55.609375 10.40625 48.1875 4.484375  Q 40.765625 -1.421875 27.09375 -1.421875  Q 22.515625 -1.421875 17.65625 -0.515625  Q 12.796875 0.390625 7.625 2.203125  L 7.625 11.71875  Q 11.71875 9.328125 16.59375 8.109375  Q 21.484375 6.890625 26.8125 6.890625  Q 36.078125 6.890625 40.9375 10.546875  Q 45.796875 14.203125 45.796875 21.1875  Q 45.796875 27.640625 41.28125 31.265625  Q 36.765625 34.90625 28.71875 34.90625  L 20.21875 34.90625  L 20.21875 43.015625  L 29.109375 43.015625  Q 36.375 43.015625 40.234375 45.921875  Q 44.09375 48.828125 44.09375 54.296875  Q 44.09375 59.90625 40.109375 62.90625  Q 36.140625 65.921875 28.71875 65.921875  Q 24.65625 65.921875 20.015625 65.03125  Q 15.375 64.15625 9.8125 62.3125  L 9.8125 71.09375  Q 15.4375 72.65625 20.34375 73.4375  Q 25.25 74.21875 29.59375 74.21875  Q 40.828125 74.21875 47.359375 69.109375  Q 53.90625 64.015625 53.90625 55.328125  Q 53.90625 49.265625 50.4375 45.09375  Q 46.96875 40.921875 40.578125 39.3125  z \" id=\"DejaVuSans-51\"/>\n    </defs>\n    <g transform=\"translate(90.432812 28.718437)scale(0.1 -0.1)\">\n     <use xlink:href=\"#DejaVuSans-51\"/>\n     <use x=\"63.623047\" xlink:href=\"#DejaVuSans-51\"/>\n     <use x=\"127.246094\" xlink:href=\"#DejaVuSans-46\"/>\n     <use x=\"159.033203\" xlink:href=\"#DejaVuSans-51\"/>\n     <use x=\"222.65625\" xlink:href=\"#DejaVuSans-51\"/>\n     <use x=\"286.279297\" xlink:href=\"#DejaVuSans-37\"/>\n    </g>\n   </g>\n   <g id=\"text_5\">\n    <!-- w -->\n    <defs>\n     <path d=\"M 4.203125 54.6875  L 13.1875 54.6875  L 24.421875 12.015625  L 35.59375 54.6875  L 46.1875 54.6875  L 57.421875 12.015625  L 68.609375 54.6875  L 77.59375 54.6875  L 63.28125 0  L 52.6875 0  L 40.921875 44.828125  L 29.109375 0  L 18.5 0  z \" id=\"DejaVuSans-119\"/>\n    </defs>\n    <g transform=\"translate(67.855625 12.718125)scale(0.12 -0.12)\">\n     <use xlink:href=\"#DejaVuSans-119\"/>\n    </g>\n   </g>\n  </g>\n </g>\n <defs>\n  <clipPath id=\"pf19fedc97c\">\n   <rect height=\"27.18\" width=\"111.6\" x=\"16.9625\" y=\"18.718125\"/>\n  </clipPath>\n </defs>\n</svg>\n\n</g>\n<!-- s&#45;&gt;w -->\n<g class=\"edge\" id=\"edge2\">\n<title>s-&gt;w</title>\n<g id=\"a_edge2\"><a xlink:title=\"(1, 3):\">\n<path d=\"M66.3109,-99.8654C72.7921,-91.407 80.4059,-81.4702 87.421,-72.3149\" fill=\"none\" stroke=\"#4a4a4a\"/>\n<polygon fill=\"#4a4a4a\" points=\"90.3415,-74.2581 93.6454,-64.1915 84.785,-70.0005 90.3415,-74.2581\" stroke=\"#4a4a4a\"/>\n</a>\n</g>\n</g>\n<!-- r&#45;&gt;w -->\n<g class=\"edge\" id=\"edge3\">\n<title>r-&gt;w</title>\n<g id=\"a_edge3\"><a xlink:title=\"(2, 3):\">\n<path d=\"M153.4211,-99.8654C146.8301,-91.407 139.0872,-81.4702 131.9532,-72.3149\" fill=\"none\" stroke=\"#4a4a4a\"/>\n<polygon fill=\"#4a4a4a\" points=\"134.5306,-69.9283 125.6233,-64.1915 129.009,-74.2309 134.5306,-69.9283\" stroke=\"#4a4a4a\"/>\n</a>\n</g>\n</g>\n</g>\n</svg>"
          },
          "metadata": {
            "tags": []
          }
        }
      ]
    },
    {
      "cell_type": "code",
      "metadata": {
        "id": "BTVXxMBB81cP",
        "colab_type": "code",
        "outputId": "2b463ba8-c495-4405-caad-d5db9639dea8",
        "colab": {
          "base_uri": "https://localhost:8080/",
          "height": 322
        }
      },
      "source": [
        "gnb.showInference(bn, evs={'s':1, 'c':0})"
      ],
      "execution_count": 0,
      "outputs": [
        {
          "output_type": "display_data",
          "data": {
            "text/plain": [
              "<IPython.core.display.SVG object>"
            ],
            "image/svg+xml": "<svg height=\"226pt\" viewBox=\"0.00 0.00 228.00 226.00\" width=\"228pt\" xmlns=\"http://www.w3.org/2000/svg\" xmlns:xlink=\"http://www.w3.org/1999/xlink\">\n<g class=\"graph\" id=\"graph0\" transform=\"scale(1 1) rotate(0) translate(4 222)\">\n<title>structs</title>\n<text fill=\"#4a4a4a\" font-family=\"Times,serif\" font-size=\"14.00\" text-anchor=\"middle\" x=\"110\" y=\"-7.8\">Inference in   0.73ms</text>\n<!-- c -->\n<g class=\"node\" id=\"node1\">\n<title>c</title>\n<polygon fill=\"#f4a460\" points=\"160,-218 59,-218 59,-177 160,-177 160,-218\" stroke=\"#000000\"/>\n<svg height=\"41px\" preserveAspectRatio=\"xMinYMin meet\" viewBox=\"0 0 132.1625 52.998125\" width=\"101px\" x=\"59\" y=\"-218\"> <defs>\n  <style type=\"text/css\">\n*{stroke-linecap:butt;stroke-linejoin:round;}\n  </style>\n </defs>\n <g id=\"figure_1\">\n  <g id=\"patch_1\">\n   <path d=\"M 0 52.998125  L 132.1625 52.998125  L 132.1625 0  L 0 0  z \" style=\"fill:none;\"/>\n  </g>\n  <g id=\"axes_1\">\n   <g id=\"patch_2\">\n    <path d=\"M 16.9625 45.898125  L 128.5625 45.898125  L 128.5625 18.718125  L 16.9625 18.718125  z \" style=\"fill:none;\"/>\n   </g>\n   <g id=\"patch_3\">\n    <path clip-path=\"url(#p945f161e80)\" d=\"M 16.9625 45.898125  L 16.9625 45.898125  L 16.9625 33.818125  L 16.9625 33.818125  z \" style=\"fill:#8fbc8f;\"/>\n   </g>\n   <g id=\"patch_4\">\n    <path clip-path=\"url(#p945f161e80)\" d=\"M 16.9625 30.798125  L 128.5625 30.798125  L 128.5625 18.718125  L 16.9625 18.718125  z \" style=\"fill:#8fbc8f;\"/>\n   </g>\n   <g id=\"matplotlib.axis_1\">\n    <g id=\"xtick_1\">\n     <g id=\"line2d_1\">\n      <path clip-path=\"url(#p945f161e80)\" d=\"M 16.9625 45.898125  L 16.9625 18.718125  \" style=\"fill:none;stroke:#b0b0b0;stroke-linecap:square;stroke-width:0.8;\"/>\n     </g>\n     <g id=\"line2d_2\">\n      <defs>\n       <path d=\"M 0 0  L 0 3.5  \" id=\"m2d1e68b54a\" style=\"stroke:#000000;stroke-width:0.8;\"/>\n      </defs>\n      <g>\n       <use style=\"stroke:#000000;stroke-width:0.8;\" x=\"16.9625\" xlink:href=\"#m2d1e68b54a\" y=\"45.898125\"/>\n      </g>\n     </g>\n    </g>\n    <g id=\"xtick_2\">\n     <g id=\"line2d_3\">\n      <path clip-path=\"url(#p945f161e80)\" d=\"M 72.7625 45.898125  L 72.7625 18.718125  \" style=\"fill:none;stroke:#b0b0b0;stroke-linecap:square;stroke-width:0.8;\"/>\n     </g>\n     <g id=\"line2d_4\">\n      <g>\n       <use style=\"stroke:#000000;stroke-width:0.8;\" x=\"72.7625\" xlink:href=\"#m2d1e68b54a\" y=\"45.898125\"/>\n      </g>\n     </g>\n    </g>\n    <g id=\"xtick_3\">\n     <g id=\"line2d_5\">\n      <path clip-path=\"url(#p945f161e80)\" d=\"M 128.5625 45.898125  L 128.5625 18.718125  \" style=\"fill:none;stroke:#b0b0b0;stroke-linecap:square;stroke-width:0.8;\"/>\n     </g>\n     <g id=\"line2d_6\">\n      <g>\n       <use style=\"stroke:#000000;stroke-width:0.8;\" x=\"128.5625\" xlink:href=\"#m2d1e68b54a\" y=\"45.898125\"/>\n      </g>\n     </g>\n    </g>\n   </g>\n   <g id=\"matplotlib.axis_2\">\n    <g id=\"ytick_1\">\n     <g id=\"line2d_7\">\n      <defs>\n       <path d=\"M 0 0  L -3.5 0  \" id=\"m72a4b08685\" style=\"stroke:#000000;stroke-width:0.8;\"/>\n      </defs>\n      <g>\n       <use style=\"stroke:#000000;stroke-width:0.8;\" x=\"16.9625\" xlink:href=\"#m72a4b08685\" y=\"39.858125\"/>\n      </g>\n     </g>\n     <g id=\"text_1\">\n      <!-- 1 -->\n      <defs>\n       <path d=\"M 12.40625 8.296875  L 28.515625 8.296875  L 28.515625 63.921875  L 10.984375 60.40625  L 10.984375 69.390625  L 28.421875 72.90625  L 38.28125 72.90625  L 38.28125 8.296875  L 54.390625 8.296875  L 54.390625 0  L 12.40625 0  z \" id=\"DejaVuSans-49\"/>\n      </defs>\n      <g transform=\"translate(3.6 43.657344)scale(0.1 -0.1)\">\n       <use xlink:href=\"#DejaVuSans-49\"/>\n      </g>\n     </g>\n    </g>\n    <g id=\"ytick_2\">\n     <g id=\"line2d_8\">\n      <g>\n       <use style=\"stroke:#000000;stroke-width:0.8;\" x=\"16.9625\" xlink:href=\"#m72a4b08685\" y=\"24.758125\"/>\n      </g>\n     </g>\n     <g id=\"text_2\">\n      <!-- 0 -->\n      <defs>\n       <path d=\"M 31.78125 66.40625  Q 24.171875 66.40625 20.328125 58.90625  Q 16.5 51.421875 16.5 36.375  Q 16.5 21.390625 20.328125 13.890625  Q 24.171875 6.390625 31.78125 6.390625  Q 39.453125 6.390625 43.28125 13.890625  Q 47.125 21.390625 47.125 36.375  Q 47.125 51.421875 43.28125 58.90625  Q 39.453125 66.40625 31.78125 66.40625  z M 31.78125 74.21875  Q 44.046875 74.21875 50.515625 64.515625  Q 56.984375 54.828125 56.984375 36.375  Q 56.984375 17.96875 50.515625 8.265625  Q 44.046875 -1.421875 31.78125 -1.421875  Q 19.53125 -1.421875 13.0625 8.265625  Q 6.59375 17.96875 6.59375 36.375  Q 6.59375 54.828125 13.0625 64.515625  Q 19.53125 74.21875 31.78125 74.21875  z \" id=\"DejaVuSans-48\"/>\n      </defs>\n      <g transform=\"translate(3.6 28.557344)scale(0.1 -0.1)\">\n       <use xlink:href=\"#DejaVuSans-48\"/>\n      </g>\n     </g>\n    </g>\n   </g>\n   <g id=\"patch_5\">\n    <path d=\"M 16.9625 45.898125  L 16.9625 18.718125  \" style=\"fill:none;stroke:#000000;stroke-linecap:square;stroke-linejoin:miter;stroke-width:0.8;\"/>\n   </g>\n   <g id=\"patch_6\">\n    <path d=\"M 128.5625 45.898125  L 128.5625 18.718125  \" style=\"fill:none;stroke:#000000;stroke-linecap:square;stroke-linejoin:miter;stroke-width:0.8;\"/>\n   </g>\n   <g id=\"patch_7\">\n    <path d=\"M 16.9625 45.898125  L 128.5625 45.898125  \" style=\"fill:none;stroke:#000000;stroke-linecap:square;stroke-linejoin:miter;stroke-width:0.8;\"/>\n   </g>\n   <g id=\"patch_8\">\n    <path d=\"M 16.9625 18.718125  L 128.5625 18.718125  \" style=\"fill:none;stroke:#000000;stroke-linecap:square;stroke-linejoin:miter;stroke-width:0.8;\"/>\n   </g>\n   <g id=\"text_3\">\n    <!-- 100.00% -->\n    <defs>\n     <path d=\"M 10.6875 12.40625  L 21 12.40625  L 21 0  L 10.6875 0  z \" id=\"DejaVuSans-46\"/>\n     <path d=\"M 72.703125 32.078125  Q 68.453125 32.078125 66.03125 28.46875  Q 63.625 24.859375 63.625 18.40625  Q 63.625 12.0625 66.03125 8.421875  Q 68.453125 4.78125 72.703125 4.78125  Q 76.859375 4.78125 79.265625 8.421875  Q 81.6875 12.0625 81.6875 18.40625  Q 81.6875 24.8125 79.265625 28.4375  Q 76.859375 32.078125 72.703125 32.078125  z M 72.703125 38.28125  Q 80.421875 38.28125 84.953125 32.90625  Q 89.5 27.546875 89.5 18.40625  Q 89.5 9.28125 84.9375 3.921875  Q 80.375 -1.421875 72.703125 -1.421875  Q 64.890625 -1.421875 60.34375 3.921875  Q 55.8125 9.28125 55.8125 18.40625  Q 55.8125 27.59375 60.375 32.9375  Q 64.9375 38.28125 72.703125 38.28125  z M 22.3125 68.015625  Q 18.109375 68.015625 15.6875 64.375  Q 13.28125 60.75 13.28125 54.390625  Q 13.28125 47.953125 15.671875 44.328125  Q 18.0625 40.71875 22.3125 40.71875  Q 26.5625 40.71875 28.96875 44.328125  Q 31.390625 47.953125 31.390625 54.390625  Q 31.390625 60.6875 28.953125 64.34375  Q 26.515625 68.015625 22.3125 68.015625  z M 66.40625 74.21875  L 74.21875 74.21875  L 28.609375 -1.421875  L 20.796875 -1.421875  z M 22.3125 74.21875  Q 30.03125 74.21875 34.609375 68.875  Q 39.203125 63.53125 39.203125 54.390625  Q 39.203125 45.171875 34.640625 39.84375  Q 30.078125 34.515625 22.3125 34.515625  Q 14.546875 34.515625 10.03125 39.859375  Q 5.515625 45.21875 5.515625 54.390625  Q 5.515625 63.484375 10.046875 68.84375  Q 14.59375 74.21875 22.3125 74.21875  z \" id=\"DejaVuSans-37\"/>\n    </defs>\n    <g transform=\"translate(84.070312 28.718437)scale(0.1 -0.1)\">\n     <use xlink:href=\"#DejaVuSans-49\"/>\n     <use x=\"63.623047\" xlink:href=\"#DejaVuSans-48\"/>\n     <use x=\"127.246094\" xlink:href=\"#DejaVuSans-48\"/>\n     <use x=\"190.869141\" xlink:href=\"#DejaVuSans-46\"/>\n     <use x=\"222.65625\" xlink:href=\"#DejaVuSans-48\"/>\n     <use x=\"286.279297\" xlink:href=\"#DejaVuSans-48\"/>\n     <use x=\"349.902344\" xlink:href=\"#DejaVuSans-37\"/>\n    </g>\n   </g>\n   <g id=\"text_4\">\n    <!-- c -->\n    <defs>\n     <path d=\"M 48.78125 52.59375  L 48.78125 44.1875  Q 44.96875 46.296875 41.140625 47.34375  Q 37.3125 48.390625 33.40625 48.390625  Q 24.65625 48.390625 19.8125 42.84375  Q 14.984375 37.3125 14.984375 27.296875  Q 14.984375 17.28125 19.8125 11.734375  Q 24.65625 6.203125 33.40625 6.203125  Q 37.3125 6.203125 41.140625 7.25  Q 44.96875 8.296875 48.78125 10.40625  L 48.78125 2.09375  Q 45.015625 0.34375 40.984375 -0.53125  Q 36.96875 -1.421875 32.421875 -1.421875  Q 20.0625 -1.421875 12.78125 6.34375  Q 5.515625 14.109375 5.515625 27.296875  Q 5.515625 40.671875 12.859375 48.328125  Q 20.21875 56 33.015625 56  Q 37.15625 56 41.109375 55.140625  Q 45.0625 54.296875 48.78125 52.59375  z \" id=\"DejaVuSans-99\"/>\n    </defs>\n    <g transform=\"translate(69.463437 12.718125)scale(0.12 -0.12)\">\n     <use xlink:href=\"#DejaVuSans-99\"/>\n    </g>\n   </g>\n  </g>\n </g>\n <defs>\n  <clipPath id=\"p945f161e80\">\n   <rect height=\"27.18\" width=\"111.6\" x=\"16.9625\" y=\"18.718125\"/>\n  </clipPath>\n </defs>\n</svg>\n\n</g>\n<!-- s -->\n<g class=\"node\" id=\"node2\">\n<title>s</title>\n<polygon fill=\"#f4a460\" points=\"101,-141 0,-141 0,-100 101,-100 101,-141\" stroke=\"#000000\"/>\n<svg height=\"41px\" preserveAspectRatio=\"xMinYMin meet\" viewBox=\"0 0 132.1625 52.998125\" width=\"101px\" x=\"0\" y=\"-141\"> <defs>\n  <style type=\"text/css\">\n*{stroke-linecap:butt;stroke-linejoin:round;}\n  </style>\n </defs>\n <g id=\"figure_1\">\n  <g id=\"patch_1\">\n   <path d=\"M 0 52.998125  L 132.1625 52.998125  L 132.1625 0  L 0 0  z \" style=\"fill:none;\"/>\n  </g>\n  <g id=\"axes_1\">\n   <g id=\"patch_2\">\n    <path d=\"M 16.9625 45.898125  L 128.5625 45.898125  L 128.5625 18.718125  L 16.9625 18.718125  z \" style=\"fill:none;\"/>\n   </g>\n   <g id=\"patch_3\">\n    <path clip-path=\"url(#p937b391170)\" d=\"M 16.9625 45.898125  L 128.5625 45.898125  L 128.5625 33.818125  L 16.9625 33.818125  z \" style=\"fill:#8fbc8f;\"/>\n   </g>\n   <g id=\"patch_4\">\n    <path clip-path=\"url(#p937b391170)\" d=\"M 16.9625 30.798125  L 16.9625 30.798125  L 16.9625 18.718125  L 16.9625 18.718125  z \" style=\"fill:#8fbc8f;\"/>\n   </g>\n   <g id=\"matplotlib.axis_1\">\n    <g id=\"xtick_1\">\n     <g id=\"line2d_1\">\n      <path clip-path=\"url(#p937b391170)\" d=\"M 16.9625 45.898125  L 16.9625 18.718125  \" style=\"fill:none;stroke:#b0b0b0;stroke-linecap:square;stroke-width:0.8;\"/>\n     </g>\n     <g id=\"line2d_2\">\n      <defs>\n       <path d=\"M 0 0  L 0 3.5  \" id=\"m53b4609a10\" style=\"stroke:#000000;stroke-width:0.8;\"/>\n      </defs>\n      <g>\n       <use style=\"stroke:#000000;stroke-width:0.8;\" x=\"16.9625\" xlink:href=\"#m53b4609a10\" y=\"45.898125\"/>\n      </g>\n     </g>\n    </g>\n    <g id=\"xtick_2\">\n     <g id=\"line2d_3\">\n      <path clip-path=\"url(#p937b391170)\" d=\"M 72.7625 45.898125  L 72.7625 18.718125  \" style=\"fill:none;stroke:#b0b0b0;stroke-linecap:square;stroke-width:0.8;\"/>\n     </g>\n     <g id=\"line2d_4\">\n      <g>\n       <use style=\"stroke:#000000;stroke-width:0.8;\" x=\"72.7625\" xlink:href=\"#m53b4609a10\" y=\"45.898125\"/>\n      </g>\n     </g>\n    </g>\n    <g id=\"xtick_3\">\n     <g id=\"line2d_5\">\n      <path clip-path=\"url(#p937b391170)\" d=\"M 128.5625 45.898125  L 128.5625 18.718125  \" style=\"fill:none;stroke:#b0b0b0;stroke-linecap:square;stroke-width:0.8;\"/>\n     </g>\n     <g id=\"line2d_6\">\n      <g>\n       <use style=\"stroke:#000000;stroke-width:0.8;\" x=\"128.5625\" xlink:href=\"#m53b4609a10\" y=\"45.898125\"/>\n      </g>\n     </g>\n    </g>\n   </g>\n   <g id=\"matplotlib.axis_2\">\n    <g id=\"ytick_1\">\n     <g id=\"line2d_7\">\n      <defs>\n       <path d=\"M 0 0  L -3.5 0  \" id=\"mc4eea77f2b\" style=\"stroke:#000000;stroke-width:0.8;\"/>\n      </defs>\n      <g>\n       <use style=\"stroke:#000000;stroke-width:0.8;\" x=\"16.9625\" xlink:href=\"#mc4eea77f2b\" y=\"39.858125\"/>\n      </g>\n     </g>\n     <g id=\"text_1\">\n      <!-- 1 -->\n      <defs>\n       <path d=\"M 12.40625 8.296875  L 28.515625 8.296875  L 28.515625 63.921875  L 10.984375 60.40625  L 10.984375 69.390625  L 28.421875 72.90625  L 38.28125 72.90625  L 38.28125 8.296875  L 54.390625 8.296875  L 54.390625 0  L 12.40625 0  z \" id=\"DejaVuSans-49\"/>\n      </defs>\n      <g transform=\"translate(3.6 43.657344)scale(0.1 -0.1)\">\n       <use xlink:href=\"#DejaVuSans-49\"/>\n      </g>\n     </g>\n    </g>\n    <g id=\"ytick_2\">\n     <g id=\"line2d_8\">\n      <g>\n       <use style=\"stroke:#000000;stroke-width:0.8;\" x=\"16.9625\" xlink:href=\"#mc4eea77f2b\" y=\"24.758125\"/>\n      </g>\n     </g>\n     <g id=\"text_2\">\n      <!-- 0 -->\n      <defs>\n       <path d=\"M 31.78125 66.40625  Q 24.171875 66.40625 20.328125 58.90625  Q 16.5 51.421875 16.5 36.375  Q 16.5 21.390625 20.328125 13.890625  Q 24.171875 6.390625 31.78125 6.390625  Q 39.453125 6.390625 43.28125 13.890625  Q 47.125 21.390625 47.125 36.375  Q 47.125 51.421875 43.28125 58.90625  Q 39.453125 66.40625 31.78125 66.40625  z M 31.78125 74.21875  Q 44.046875 74.21875 50.515625 64.515625  Q 56.984375 54.828125 56.984375 36.375  Q 56.984375 17.96875 50.515625 8.265625  Q 44.046875 -1.421875 31.78125 -1.421875  Q 19.53125 -1.421875 13.0625 8.265625  Q 6.59375 17.96875 6.59375 36.375  Q 6.59375 54.828125 13.0625 64.515625  Q 19.53125 74.21875 31.78125 74.21875  z \" id=\"DejaVuSans-48\"/>\n      </defs>\n      <g transform=\"translate(3.6 28.557344)scale(0.1 -0.1)\">\n       <use xlink:href=\"#DejaVuSans-48\"/>\n      </g>\n     </g>\n    </g>\n   </g>\n   <g id=\"patch_5\">\n    <path d=\"M 16.9625 45.898125  L 16.9625 18.718125  \" style=\"fill:none;stroke:#000000;stroke-linecap:square;stroke-linejoin:miter;stroke-width:0.8;\"/>\n   </g>\n   <g id=\"patch_6\">\n    <path d=\"M 128.5625 45.898125  L 128.5625 18.718125  \" style=\"fill:none;stroke:#000000;stroke-linecap:square;stroke-linejoin:miter;stroke-width:0.8;\"/>\n   </g>\n   <g id=\"patch_7\">\n    <path d=\"M 16.9625 45.898125  L 128.5625 45.898125  \" style=\"fill:none;stroke:#000000;stroke-linecap:square;stroke-linejoin:miter;stroke-width:0.8;\"/>\n   </g>\n   <g id=\"patch_8\">\n    <path d=\"M 16.9625 18.718125  L 128.5625 18.718125  \" style=\"fill:none;stroke:#000000;stroke-linecap:square;stroke-linejoin:miter;stroke-width:0.8;\"/>\n   </g>\n   <g id=\"text_3\">\n    <!-- 100.00% -->\n    <defs>\n     <path d=\"M 10.6875 12.40625  L 21 12.40625  L 21 0  L 10.6875 0  z \" id=\"DejaVuSans-46\"/>\n     <path d=\"M 72.703125 32.078125  Q 68.453125 32.078125 66.03125 28.46875  Q 63.625 24.859375 63.625 18.40625  Q 63.625 12.0625 66.03125 8.421875  Q 68.453125 4.78125 72.703125 4.78125  Q 76.859375 4.78125 79.265625 8.421875  Q 81.6875 12.0625 81.6875 18.40625  Q 81.6875 24.8125 79.265625 28.4375  Q 76.859375 32.078125 72.703125 32.078125  z M 72.703125 38.28125  Q 80.421875 38.28125 84.953125 32.90625  Q 89.5 27.546875 89.5 18.40625  Q 89.5 9.28125 84.9375 3.921875  Q 80.375 -1.421875 72.703125 -1.421875  Q 64.890625 -1.421875 60.34375 3.921875  Q 55.8125 9.28125 55.8125 18.40625  Q 55.8125 27.59375 60.375 32.9375  Q 64.9375 38.28125 72.703125 38.28125  z M 22.3125 68.015625  Q 18.109375 68.015625 15.6875 64.375  Q 13.28125 60.75 13.28125 54.390625  Q 13.28125 47.953125 15.671875 44.328125  Q 18.0625 40.71875 22.3125 40.71875  Q 26.5625 40.71875 28.96875 44.328125  Q 31.390625 47.953125 31.390625 54.390625  Q 31.390625 60.6875 28.953125 64.34375  Q 26.515625 68.015625 22.3125 68.015625  z M 66.40625 74.21875  L 74.21875 74.21875  L 28.609375 -1.421875  L 20.796875 -1.421875  z M 22.3125 74.21875  Q 30.03125 74.21875 34.609375 68.875  Q 39.203125 63.53125 39.203125 54.390625  Q 39.203125 45.171875 34.640625 39.84375  Q 30.078125 34.515625 22.3125 34.515625  Q 14.546875 34.515625 10.03125 39.859375  Q 5.515625 45.21875 5.515625 54.390625  Q 5.515625 63.484375 10.046875 68.84375  Q 14.59375 74.21875 22.3125 74.21875  z \" id=\"DejaVuSans-37\"/>\n    </defs>\n    <g transform=\"translate(84.070312 43.818437)scale(0.1 -0.1)\">\n     <use xlink:href=\"#DejaVuSans-49\"/>\n     <use x=\"63.623047\" xlink:href=\"#DejaVuSans-48\"/>\n     <use x=\"127.246094\" xlink:href=\"#DejaVuSans-48\"/>\n     <use x=\"190.869141\" xlink:href=\"#DejaVuSans-46\"/>\n     <use x=\"222.65625\" xlink:href=\"#DejaVuSans-48\"/>\n     <use x=\"286.279297\" xlink:href=\"#DejaVuSans-48\"/>\n     <use x=\"349.902344\" xlink:href=\"#DejaVuSans-37\"/>\n    </g>\n   </g>\n   <g id=\"text_4\">\n    <!-- s -->\n    <defs>\n     <path d=\"M 44.28125 53.078125  L 44.28125 44.578125  Q 40.484375 46.53125 36.375 47.5  Q 32.28125 48.484375 27.875 48.484375  Q 21.1875 48.484375 17.84375 46.4375  Q 14.5 44.390625 14.5 40.28125  Q 14.5 37.15625 16.890625 35.375  Q 19.28125 33.59375 26.515625 31.984375  L 29.59375 31.296875  Q 39.15625 29.25 43.1875 25.515625  Q 47.21875 21.78125 47.21875 15.09375  Q 47.21875 7.46875 41.1875 3.015625  Q 35.15625 -1.421875 24.609375 -1.421875  Q 20.21875 -1.421875 15.453125 -0.5625  Q 10.6875 0.296875 5.421875 2  L 5.421875 11.28125  Q 10.40625 8.6875 15.234375 7.390625  Q 20.0625 6.109375 24.8125 6.109375  Q 31.15625 6.109375 34.5625 8.28125  Q 37.984375 10.453125 37.984375 14.40625  Q 37.984375 18.0625 35.515625 20.015625  Q 33.0625 21.96875 24.703125 23.78125  L 21.578125 24.515625  Q 13.234375 26.265625 9.515625 29.90625  Q 5.8125 33.546875 5.8125 39.890625  Q 5.8125 47.609375 11.28125 51.796875  Q 16.75 56 26.8125 56  Q 31.78125 56 36.171875 55.265625  Q 40.578125 54.546875 44.28125 53.078125  z \" id=\"DejaVuSans-115\"/>\n    </defs>\n    <g transform=\"translate(69.636875 12.718125)scale(0.12 -0.12)\">\n     <use xlink:href=\"#DejaVuSans-115\"/>\n    </g>\n   </g>\n  </g>\n </g>\n <defs>\n  <clipPath id=\"p937b391170\">\n   <rect height=\"27.18\" width=\"111.6\" x=\"16.9625\" y=\"18.718125\"/>\n  </clipPath>\n </defs>\n</svg>\n\n</g>\n<!-- c&#45;&gt;s -->\n<g class=\"edge\" id=\"edge1\">\n<title>c-&gt;s</title>\n<g id=\"a_edge1\"><a xlink:title=\"(0, 1):\">\n<path d=\"M93.6891,-176.8654C87.2079,-168.407 79.5941,-158.4702 72.579,-149.3149\" fill=\"none\" stroke=\"#4a4a4a\"/>\n<polygon fill=\"#4a4a4a\" points=\"75.215,-147.0005 66.3546,-141.1915 69.6585,-151.2581 75.215,-147.0005\" stroke=\"#4a4a4a\"/>\n</a>\n</g>\n</g>\n<!-- r -->\n<g class=\"node\" id=\"node3\">\n<title>r</title>\n<polygon fill=\"#ffffff\" points=\"220,-141 119,-141 119,-100 220,-100 220,-141\" stroke=\"#000000\"/>\n<svg height=\"41px\" preserveAspectRatio=\"xMinYMin meet\" viewBox=\"0 0 132.1625 52.998125\" width=\"101px\" x=\"119\" y=\"-141\"> <defs>\n  <style type=\"text/css\">\n*{stroke-linecap:butt;stroke-linejoin:round;}\n  </style>\n </defs>\n <g id=\"figure_1\">\n  <g id=\"patch_1\">\n   <path d=\"M 0 52.998125  L 132.1625 52.998125  L 132.1625 0  L 0 0  z \" style=\"fill:none;\"/>\n  </g>\n  <g id=\"axes_1\">\n   <g id=\"patch_2\">\n    <path d=\"M 16.9625 45.898125  L 128.5625 45.898125  L 128.5625 18.718125  L 16.9625 18.718125  z \" style=\"fill:none;\"/>\n   </g>\n   <g id=\"patch_3\">\n    <path clip-path=\"url(#p80bf4a8072)\" d=\"M 16.9625 45.898125  L 39.2825 45.898125  L 39.2825 33.818125  L 16.9625 33.818125  z \" style=\"fill:#8fbc8f;\"/>\n   </g>\n   <g id=\"patch_4\">\n    <path clip-path=\"url(#p80bf4a8072)\" d=\"M 16.9625 30.798125  L 106.2425 30.798125  L 106.2425 18.718125  L 16.9625 18.718125  z \" style=\"fill:#8fbc8f;\"/>\n   </g>\n   <g id=\"matplotlib.axis_1\">\n    <g id=\"xtick_1\">\n     <g id=\"line2d_1\">\n      <path clip-path=\"url(#p80bf4a8072)\" d=\"M 16.9625 45.898125  L 16.9625 18.718125  \" style=\"fill:none;stroke:#b0b0b0;stroke-linecap:square;stroke-width:0.8;\"/>\n     </g>\n     <g id=\"line2d_2\">\n      <defs>\n       <path d=\"M 0 0  L 0 3.5  \" id=\"m86e62cf74f\" style=\"stroke:#000000;stroke-width:0.8;\"/>\n      </defs>\n      <g>\n       <use style=\"stroke:#000000;stroke-width:0.8;\" x=\"16.9625\" xlink:href=\"#m86e62cf74f\" y=\"45.898125\"/>\n      </g>\n     </g>\n    </g>\n    <g id=\"xtick_2\">\n     <g id=\"line2d_3\">\n      <path clip-path=\"url(#p80bf4a8072)\" d=\"M 72.7625 45.898125  L 72.7625 18.718125  \" style=\"fill:none;stroke:#b0b0b0;stroke-linecap:square;stroke-width:0.8;\"/>\n     </g>\n     <g id=\"line2d_4\">\n      <g>\n       <use style=\"stroke:#000000;stroke-width:0.8;\" x=\"72.7625\" xlink:href=\"#m86e62cf74f\" y=\"45.898125\"/>\n      </g>\n     </g>\n    </g>\n    <g id=\"xtick_3\">\n     <g id=\"line2d_5\">\n      <path clip-path=\"url(#p80bf4a8072)\" d=\"M 128.5625 45.898125  L 128.5625 18.718125  \" style=\"fill:none;stroke:#b0b0b0;stroke-linecap:square;stroke-width:0.8;\"/>\n     </g>\n     <g id=\"line2d_6\">\n      <g>\n       <use style=\"stroke:#000000;stroke-width:0.8;\" x=\"128.5625\" xlink:href=\"#m86e62cf74f\" y=\"45.898125\"/>\n      </g>\n     </g>\n    </g>\n   </g>\n   <g id=\"matplotlib.axis_2\">\n    <g id=\"ytick_1\">\n     <g id=\"line2d_7\">\n      <defs>\n       <path d=\"M 0 0  L -3.5 0  \" id=\"m7323090806\" style=\"stroke:#000000;stroke-width:0.8;\"/>\n      </defs>\n      <g>\n       <use style=\"stroke:#000000;stroke-width:0.8;\" x=\"16.9625\" xlink:href=\"#m7323090806\" y=\"39.858125\"/>\n      </g>\n     </g>\n     <g id=\"text_1\">\n      <!-- 1 -->\n      <defs>\n       <path d=\"M 12.40625 8.296875  L 28.515625 8.296875  L 28.515625 63.921875  L 10.984375 60.40625  L 10.984375 69.390625  L 28.421875 72.90625  L 38.28125 72.90625  L 38.28125 8.296875  L 54.390625 8.296875  L 54.390625 0  L 12.40625 0  z \" id=\"DejaVuSans-49\"/>\n      </defs>\n      <g transform=\"translate(3.6 43.657344)scale(0.1 -0.1)\">\n       <use xlink:href=\"#DejaVuSans-49\"/>\n      </g>\n     </g>\n    </g>\n    <g id=\"ytick_2\">\n     <g id=\"line2d_8\">\n      <g>\n       <use style=\"stroke:#000000;stroke-width:0.8;\" x=\"16.9625\" xlink:href=\"#m7323090806\" y=\"24.758125\"/>\n      </g>\n     </g>\n     <g id=\"text_2\">\n      <!-- 0 -->\n      <defs>\n       <path d=\"M 31.78125 66.40625  Q 24.171875 66.40625 20.328125 58.90625  Q 16.5 51.421875 16.5 36.375  Q 16.5 21.390625 20.328125 13.890625  Q 24.171875 6.390625 31.78125 6.390625  Q 39.453125 6.390625 43.28125 13.890625  Q 47.125 21.390625 47.125 36.375  Q 47.125 51.421875 43.28125 58.90625  Q 39.453125 66.40625 31.78125 66.40625  z M 31.78125 74.21875  Q 44.046875 74.21875 50.515625 64.515625  Q 56.984375 54.828125 56.984375 36.375  Q 56.984375 17.96875 50.515625 8.265625  Q 44.046875 -1.421875 31.78125 -1.421875  Q 19.53125 -1.421875 13.0625 8.265625  Q 6.59375 17.96875 6.59375 36.375  Q 6.59375 54.828125 13.0625 64.515625  Q 19.53125 74.21875 31.78125 74.21875  z \" id=\"DejaVuSans-48\"/>\n      </defs>\n      <g transform=\"translate(3.6 28.557344)scale(0.1 -0.1)\">\n       <use xlink:href=\"#DejaVuSans-48\"/>\n      </g>\n     </g>\n    </g>\n   </g>\n   <g id=\"patch_5\">\n    <path d=\"M 16.9625 45.898125  L 16.9625 18.718125  \" style=\"fill:none;stroke:#000000;stroke-linecap:square;stroke-linejoin:miter;stroke-width:0.8;\"/>\n   </g>\n   <g id=\"patch_6\">\n    <path d=\"M 128.5625 45.898125  L 128.5625 18.718125  \" style=\"fill:none;stroke:#000000;stroke-linecap:square;stroke-linejoin:miter;stroke-width:0.8;\"/>\n   </g>\n   <g id=\"patch_7\">\n    <path d=\"M 16.9625 45.898125  L 128.5625 45.898125  \" style=\"fill:none;stroke:#000000;stroke-linecap:square;stroke-linejoin:miter;stroke-width:0.8;\"/>\n   </g>\n   <g id=\"patch_8\">\n    <path d=\"M 16.9625 18.718125  L 128.5625 18.718125  \" style=\"fill:none;stroke:#000000;stroke-linecap:square;stroke-linejoin:miter;stroke-width:0.8;\"/>\n   </g>\n   <g id=\"text_3\">\n    <!-- 20.00% -->\n    <defs>\n     <path d=\"M 19.1875 8.296875  L 53.609375 8.296875  L 53.609375 0  L 7.328125 0  L 7.328125 8.296875  Q 12.9375 14.109375 22.625 23.890625  Q 32.328125 33.6875 34.8125 36.53125  Q 39.546875 41.84375 41.421875 45.53125  Q 43.3125 49.21875 43.3125 52.78125  Q 43.3125 58.59375 39.234375 62.25  Q 35.15625 65.921875 28.609375 65.921875  Q 23.96875 65.921875 18.8125 64.3125  Q 13.671875 62.703125 7.8125 59.421875  L 7.8125 69.390625  Q 13.765625 71.78125 18.9375 73  Q 24.125 74.21875 28.421875 74.21875  Q 39.75 74.21875 46.484375 68.546875  Q 53.21875 62.890625 53.21875 53.421875  Q 53.21875 48.921875 51.53125 44.890625  Q 49.859375 40.875 45.40625 35.40625  Q 44.1875 33.984375 37.640625 27.21875  Q 31.109375 20.453125 19.1875 8.296875  z \" id=\"DejaVuSans-50\"/>\n     <path d=\"M 10.6875 12.40625  L 21 12.40625  L 21 0  L 10.6875 0  z \" id=\"DejaVuSans-46\"/>\n     <path d=\"M 72.703125 32.078125  Q 68.453125 32.078125 66.03125 28.46875  Q 63.625 24.859375 63.625 18.40625  Q 63.625 12.0625 66.03125 8.421875  Q 68.453125 4.78125 72.703125 4.78125  Q 76.859375 4.78125 79.265625 8.421875  Q 81.6875 12.0625 81.6875 18.40625  Q 81.6875 24.8125 79.265625 28.4375  Q 76.859375 32.078125 72.703125 32.078125  z M 72.703125 38.28125  Q 80.421875 38.28125 84.953125 32.90625  Q 89.5 27.546875 89.5 18.40625  Q 89.5 9.28125 84.9375 3.921875  Q 80.375 -1.421875 72.703125 -1.421875  Q 64.890625 -1.421875 60.34375 3.921875  Q 55.8125 9.28125 55.8125 18.40625  Q 55.8125 27.59375 60.375 32.9375  Q 64.9375 38.28125 72.703125 38.28125  z M 22.3125 68.015625  Q 18.109375 68.015625 15.6875 64.375  Q 13.28125 60.75 13.28125 54.390625  Q 13.28125 47.953125 15.671875 44.328125  Q 18.0625 40.71875 22.3125 40.71875  Q 26.5625 40.71875 28.96875 44.328125  Q 31.390625 47.953125 31.390625 54.390625  Q 31.390625 60.6875 28.953125 64.34375  Q 26.515625 68.015625 22.3125 68.015625  z M 66.40625 74.21875  L 74.21875 74.21875  L 28.609375 -1.421875  L 20.796875 -1.421875  z M 22.3125 74.21875  Q 30.03125 74.21875 34.609375 68.875  Q 39.203125 63.53125 39.203125 54.390625  Q 39.203125 45.171875 34.640625 39.84375  Q 30.078125 34.515625 22.3125 34.515625  Q 14.546875 34.515625 10.03125 39.859375  Q 5.515625 45.21875 5.515625 54.390625  Q 5.515625 63.484375 10.046875 68.84375  Q 14.59375 74.21875 22.3125 74.21875  z \" id=\"DejaVuSans-37\"/>\n    </defs>\n    <g transform=\"translate(90.432812 43.818437)scale(0.1 -0.1)\">\n     <use xlink:href=\"#DejaVuSans-50\"/>\n     <use x=\"63.623047\" xlink:href=\"#DejaVuSans-48\"/>\n     <use x=\"127.246094\" xlink:href=\"#DejaVuSans-46\"/>\n     <use x=\"159.033203\" xlink:href=\"#DejaVuSans-48\"/>\n     <use x=\"222.65625\" xlink:href=\"#DejaVuSans-48\"/>\n     <use x=\"286.279297\" xlink:href=\"#DejaVuSans-37\"/>\n    </g>\n   </g>\n   <g id=\"text_4\">\n    <!-- 80.00% -->\n    <defs>\n     <path d=\"M 31.78125 34.625  Q 24.75 34.625 20.71875 30.859375  Q 16.703125 27.09375 16.703125 20.515625  Q 16.703125 13.921875 20.71875 10.15625  Q 24.75 6.390625 31.78125 6.390625  Q 38.8125 6.390625 42.859375 10.171875  Q 46.921875 13.96875 46.921875 20.515625  Q 46.921875 27.09375 42.890625 30.859375  Q 38.875 34.625 31.78125 34.625  z M 21.921875 38.8125  Q 15.578125 40.375 12.03125 44.71875  Q 8.5 49.078125 8.5 55.328125  Q 8.5 64.0625 14.71875 69.140625  Q 20.953125 74.21875 31.78125 74.21875  Q 42.671875 74.21875 48.875 69.140625  Q 55.078125 64.0625 55.078125 55.328125  Q 55.078125 49.078125 51.53125 44.71875  Q 48 40.375 41.703125 38.8125  Q 48.828125 37.15625 52.796875 32.3125  Q 56.78125 27.484375 56.78125 20.515625  Q 56.78125 9.90625 50.3125 4.234375  Q 43.84375 -1.421875 31.78125 -1.421875  Q 19.734375 -1.421875 13.25 4.234375  Q 6.78125 9.90625 6.78125 20.515625  Q 6.78125 27.484375 10.78125 32.3125  Q 14.796875 37.15625 21.921875 38.8125  z M 18.3125 54.390625  Q 18.3125 48.734375 21.84375 45.5625  Q 25.390625 42.390625 31.78125 42.390625  Q 38.140625 42.390625 41.71875 45.5625  Q 45.3125 48.734375 45.3125 54.390625  Q 45.3125 60.0625 41.71875 63.234375  Q 38.140625 66.40625 31.78125 66.40625  Q 25.390625 66.40625 21.84375 63.234375  Q 18.3125 60.0625 18.3125 54.390625  z \" id=\"DejaVuSans-56\"/>\n    </defs>\n    <g transform=\"translate(90.432812 28.718437)scale(0.1 -0.1)\">\n     <use xlink:href=\"#DejaVuSans-56\"/>\n     <use x=\"63.623047\" xlink:href=\"#DejaVuSans-48\"/>\n     <use x=\"127.246094\" xlink:href=\"#DejaVuSans-46\"/>\n     <use x=\"159.033203\" xlink:href=\"#DejaVuSans-48\"/>\n     <use x=\"222.65625\" xlink:href=\"#DejaVuSans-48\"/>\n     <use x=\"286.279297\" xlink:href=\"#DejaVuSans-37\"/>\n    </g>\n   </g>\n   <g id=\"text_5\">\n    <!-- r -->\n    <defs>\n     <path d=\"M 41.109375 46.296875  Q 39.59375 47.171875 37.8125 47.578125  Q 36.03125 48 33.890625 48  Q 26.265625 48 22.1875 43.046875  Q 18.109375 38.09375 18.109375 28.8125  L 18.109375 0  L 9.078125 0  L 9.078125 54.6875  L 18.109375 54.6875  L 18.109375 46.1875  Q 20.953125 51.171875 25.484375 53.578125  Q 30.03125 56 36.53125 56  Q 37.453125 56 38.578125 55.875  Q 39.703125 55.765625 41.0625 55.515625  z \" id=\"DejaVuSans-114\"/>\n    </defs>\n    <g transform=\"translate(70.295938 12.718125)scale(0.12 -0.12)\">\n     <use xlink:href=\"#DejaVuSans-114\"/>\n    </g>\n   </g>\n  </g>\n </g>\n <defs>\n  <clipPath id=\"p80bf4a8072\">\n   <rect height=\"27.18\" width=\"111.6\" x=\"16.9625\" y=\"18.718125\"/>\n  </clipPath>\n </defs>\n</svg>\n\n</g>\n<!-- c&#45;&gt;r -->\n<g class=\"edge\" id=\"edge4\">\n<title>c-&gt;r</title>\n<g id=\"a_edge4\"><a xlink:title=\"(0, 2):\">\n<path d=\"M125.5789,-176.8654C132.1699,-168.407 139.9128,-158.4702 147.0468,-149.3149\" fill=\"none\" stroke=\"#4a4a4a\"/>\n<polygon fill=\"#4a4a4a\" points=\"149.991,-151.2309 153.3767,-141.1915 144.4694,-146.9283 149.991,-151.2309\" stroke=\"#4a4a4a\"/>\n</a>\n</g>\n</g>\n<!-- w -->\n<g class=\"node\" id=\"node4\">\n<title>w</title>\n<polygon fill=\"#ffffff\" points=\"160,-64 59,-64 59,-23 160,-23 160,-64\" stroke=\"#000000\"/>\n<svg height=\"41px\" preserveAspectRatio=\"xMinYMin meet\" viewBox=\"0 0 132.1625 52.998125\" width=\"101px\" x=\"59\" y=\"-64\"> <defs>\n  <style type=\"text/css\">\n*{stroke-linecap:butt;stroke-linejoin:round;}\n  </style>\n </defs>\n <g id=\"figure_1\">\n  <g id=\"patch_1\">\n   <path d=\"M 0 52.998125  L 132.1625 52.998125  L 132.1625 0  L 0 0  z \" style=\"fill:none;\"/>\n  </g>\n  <g id=\"axes_1\">\n   <g id=\"patch_2\">\n    <path d=\"M 16.9625 45.898125  L 128.5625 45.898125  L 128.5625 18.718125  L 16.9625 18.718125  z \" style=\"fill:none;\"/>\n   </g>\n   <g id=\"patch_3\">\n    <path clip-path=\"url(#p5fbd5ef952)\" d=\"M 16.9625 45.898125  L 119.4113 45.898125  L 119.4113 33.818125  L 16.9625 33.818125  z \" style=\"fill:#8fbc8f;\"/>\n   </g>\n   <g id=\"patch_4\">\n    <path clip-path=\"url(#p5fbd5ef952)\" d=\"M 16.9625 30.798125  L 26.1137 30.798125  L 26.1137 18.718125  L 16.9625 18.718125  z \" style=\"fill:#8fbc8f;\"/>\n   </g>\n   <g id=\"matplotlib.axis_1\">\n    <g id=\"xtick_1\">\n     <g id=\"line2d_1\">\n      <path clip-path=\"url(#p5fbd5ef952)\" d=\"M 16.9625 45.898125  L 16.9625 18.718125  \" style=\"fill:none;stroke:#b0b0b0;stroke-linecap:square;stroke-width:0.8;\"/>\n     </g>\n     <g id=\"line2d_2\">\n      <defs>\n       <path d=\"M 0 0  L 0 3.5  \" id=\"m4a70c984c4\" style=\"stroke:#000000;stroke-width:0.8;\"/>\n      </defs>\n      <g>\n       <use style=\"stroke:#000000;stroke-width:0.8;\" x=\"16.9625\" xlink:href=\"#m4a70c984c4\" y=\"45.898125\"/>\n      </g>\n     </g>\n    </g>\n    <g id=\"xtick_2\">\n     <g id=\"line2d_3\">\n      <path clip-path=\"url(#p5fbd5ef952)\" d=\"M 72.7625 45.898125  L 72.7625 18.718125  \" style=\"fill:none;stroke:#b0b0b0;stroke-linecap:square;stroke-width:0.8;\"/>\n     </g>\n     <g id=\"line2d_4\">\n      <g>\n       <use style=\"stroke:#000000;stroke-width:0.8;\" x=\"72.7625\" xlink:href=\"#m4a70c984c4\" y=\"45.898125\"/>\n      </g>\n     </g>\n    </g>\n    <g id=\"xtick_3\">\n     <g id=\"line2d_5\">\n      <path clip-path=\"url(#p5fbd5ef952)\" d=\"M 128.5625 45.898125  L 128.5625 18.718125  \" style=\"fill:none;stroke:#b0b0b0;stroke-linecap:square;stroke-width:0.8;\"/>\n     </g>\n     <g id=\"line2d_6\">\n      <g>\n       <use style=\"stroke:#000000;stroke-width:0.8;\" x=\"128.5625\" xlink:href=\"#m4a70c984c4\" y=\"45.898125\"/>\n      </g>\n     </g>\n    </g>\n   </g>\n   <g id=\"matplotlib.axis_2\">\n    <g id=\"ytick_1\">\n     <g id=\"line2d_7\">\n      <defs>\n       <path d=\"M 0 0  L -3.5 0  \" id=\"me5ad2e7d43\" style=\"stroke:#000000;stroke-width:0.8;\"/>\n      </defs>\n      <g>\n       <use style=\"stroke:#000000;stroke-width:0.8;\" x=\"16.9625\" xlink:href=\"#me5ad2e7d43\" y=\"39.858125\"/>\n      </g>\n     </g>\n     <g id=\"text_1\">\n      <!-- 1 -->\n      <defs>\n       <path d=\"M 12.40625 8.296875  L 28.515625 8.296875  L 28.515625 63.921875  L 10.984375 60.40625  L 10.984375 69.390625  L 28.421875 72.90625  L 38.28125 72.90625  L 38.28125 8.296875  L 54.390625 8.296875  L 54.390625 0  L 12.40625 0  z \" id=\"DejaVuSans-49\"/>\n      </defs>\n      <g transform=\"translate(3.6 43.657344)scale(0.1 -0.1)\">\n       <use xlink:href=\"#DejaVuSans-49\"/>\n      </g>\n     </g>\n    </g>\n    <g id=\"ytick_2\">\n     <g id=\"line2d_8\">\n      <g>\n       <use style=\"stroke:#000000;stroke-width:0.8;\" x=\"16.9625\" xlink:href=\"#me5ad2e7d43\" y=\"24.758125\"/>\n      </g>\n     </g>\n     <g id=\"text_2\">\n      <!-- 0 -->\n      <defs>\n       <path d=\"M 31.78125 66.40625  Q 24.171875 66.40625 20.328125 58.90625  Q 16.5 51.421875 16.5 36.375  Q 16.5 21.390625 20.328125 13.890625  Q 24.171875 6.390625 31.78125 6.390625  Q 39.453125 6.390625 43.28125 13.890625  Q 47.125 21.390625 47.125 36.375  Q 47.125 51.421875 43.28125 58.90625  Q 39.453125 66.40625 31.78125 66.40625  z M 31.78125 74.21875  Q 44.046875 74.21875 50.515625 64.515625  Q 56.984375 54.828125 56.984375 36.375  Q 56.984375 17.96875 50.515625 8.265625  Q 44.046875 -1.421875 31.78125 -1.421875  Q 19.53125 -1.421875 13.0625 8.265625  Q 6.59375 17.96875 6.59375 36.375  Q 6.59375 54.828125 13.0625 64.515625  Q 19.53125 74.21875 31.78125 74.21875  z \" id=\"DejaVuSans-48\"/>\n      </defs>\n      <g transform=\"translate(3.6 28.557344)scale(0.1 -0.1)\">\n       <use xlink:href=\"#DejaVuSans-48\"/>\n      </g>\n     </g>\n    </g>\n   </g>\n   <g id=\"patch_5\">\n    <path d=\"M 16.9625 45.898125  L 16.9625 18.718125  \" style=\"fill:none;stroke:#000000;stroke-linecap:square;stroke-linejoin:miter;stroke-width:0.8;\"/>\n   </g>\n   <g id=\"patch_6\">\n    <path d=\"M 128.5625 45.898125  L 128.5625 18.718125  \" style=\"fill:none;stroke:#000000;stroke-linecap:square;stroke-linejoin:miter;stroke-width:0.8;\"/>\n   </g>\n   <g id=\"patch_7\">\n    <path d=\"M 16.9625 45.898125  L 128.5625 45.898125  \" style=\"fill:none;stroke:#000000;stroke-linecap:square;stroke-linejoin:miter;stroke-width:0.8;\"/>\n   </g>\n   <g id=\"patch_8\">\n    <path d=\"M 16.9625 18.718125  L 128.5625 18.718125  \" style=\"fill:none;stroke:#000000;stroke-linecap:square;stroke-linejoin:miter;stroke-width:0.8;\"/>\n   </g>\n   <g id=\"text_3\">\n    <!-- 91.80% -->\n    <defs>\n     <path d=\"M 10.984375 1.515625  L 10.984375 10.5  Q 14.703125 8.734375 18.5 7.8125  Q 22.3125 6.890625 25.984375 6.890625  Q 35.75 6.890625 40.890625 13.453125  Q 46.046875 20.015625 46.78125 33.40625  Q 43.953125 29.203125 39.59375 26.953125  Q 35.25 24.703125 29.984375 24.703125  Q 19.046875 24.703125 12.671875 31.3125  Q 6.296875 37.9375 6.296875 49.421875  Q 6.296875 60.640625 12.9375 67.421875  Q 19.578125 74.21875 30.609375 74.21875  Q 43.265625 74.21875 49.921875 64.515625  Q 56.59375 54.828125 56.59375 36.375  Q 56.59375 19.140625 48.40625 8.859375  Q 40.234375 -1.421875 26.421875 -1.421875  Q 22.703125 -1.421875 18.890625 -0.6875  Q 15.09375 0.046875 10.984375 1.515625  z M 30.609375 32.421875  Q 37.25 32.421875 41.125 36.953125  Q 45.015625 41.5 45.015625 49.421875  Q 45.015625 57.28125 41.125 61.84375  Q 37.25 66.40625 30.609375 66.40625  Q 23.96875 66.40625 20.09375 61.84375  Q 16.21875 57.28125 16.21875 49.421875  Q 16.21875 41.5 20.09375 36.953125  Q 23.96875 32.421875 30.609375 32.421875  z \" id=\"DejaVuSans-57\"/>\n     <path d=\"M 10.6875 12.40625  L 21 12.40625  L 21 0  L 10.6875 0  z \" id=\"DejaVuSans-46\"/>\n     <path d=\"M 31.78125 34.625  Q 24.75 34.625 20.71875 30.859375  Q 16.703125 27.09375 16.703125 20.515625  Q 16.703125 13.921875 20.71875 10.15625  Q 24.75 6.390625 31.78125 6.390625  Q 38.8125 6.390625 42.859375 10.171875  Q 46.921875 13.96875 46.921875 20.515625  Q 46.921875 27.09375 42.890625 30.859375  Q 38.875 34.625 31.78125 34.625  z M 21.921875 38.8125  Q 15.578125 40.375 12.03125 44.71875  Q 8.5 49.078125 8.5 55.328125  Q 8.5 64.0625 14.71875 69.140625  Q 20.953125 74.21875 31.78125 74.21875  Q 42.671875 74.21875 48.875 69.140625  Q 55.078125 64.0625 55.078125 55.328125  Q 55.078125 49.078125 51.53125 44.71875  Q 48 40.375 41.703125 38.8125  Q 48.828125 37.15625 52.796875 32.3125  Q 56.78125 27.484375 56.78125 20.515625  Q 56.78125 9.90625 50.3125 4.234375  Q 43.84375 -1.421875 31.78125 -1.421875  Q 19.734375 -1.421875 13.25 4.234375  Q 6.78125 9.90625 6.78125 20.515625  Q 6.78125 27.484375 10.78125 32.3125  Q 14.796875 37.15625 21.921875 38.8125  z M 18.3125 54.390625  Q 18.3125 48.734375 21.84375 45.5625  Q 25.390625 42.390625 31.78125 42.390625  Q 38.140625 42.390625 41.71875 45.5625  Q 45.3125 48.734375 45.3125 54.390625  Q 45.3125 60.0625 41.71875 63.234375  Q 38.140625 66.40625 31.78125 66.40625  Q 25.390625 66.40625 21.84375 63.234375  Q 18.3125 60.0625 18.3125 54.390625  z \" id=\"DejaVuSans-56\"/>\n     <path d=\"M 72.703125 32.078125  Q 68.453125 32.078125 66.03125 28.46875  Q 63.625 24.859375 63.625 18.40625  Q 63.625 12.0625 66.03125 8.421875  Q 68.453125 4.78125 72.703125 4.78125  Q 76.859375 4.78125 79.265625 8.421875  Q 81.6875 12.0625 81.6875 18.40625  Q 81.6875 24.8125 79.265625 28.4375  Q 76.859375 32.078125 72.703125 32.078125  z M 72.703125 38.28125  Q 80.421875 38.28125 84.953125 32.90625  Q 89.5 27.546875 89.5 18.40625  Q 89.5 9.28125 84.9375 3.921875  Q 80.375 -1.421875 72.703125 -1.421875  Q 64.890625 -1.421875 60.34375 3.921875  Q 55.8125 9.28125 55.8125 18.40625  Q 55.8125 27.59375 60.375 32.9375  Q 64.9375 38.28125 72.703125 38.28125  z M 22.3125 68.015625  Q 18.109375 68.015625 15.6875 64.375  Q 13.28125 60.75 13.28125 54.390625  Q 13.28125 47.953125 15.671875 44.328125  Q 18.0625 40.71875 22.3125 40.71875  Q 26.5625 40.71875 28.96875 44.328125  Q 31.390625 47.953125 31.390625 54.390625  Q 31.390625 60.6875 28.953125 64.34375  Q 26.515625 68.015625 22.3125 68.015625  z M 66.40625 74.21875  L 74.21875 74.21875  L 28.609375 -1.421875  L 20.796875 -1.421875  z M 22.3125 74.21875  Q 30.03125 74.21875 34.609375 68.875  Q 39.203125 63.53125 39.203125 54.390625  Q 39.203125 45.171875 34.640625 39.84375  Q 30.078125 34.515625 22.3125 34.515625  Q 14.546875 34.515625 10.03125 39.859375  Q 5.515625 45.21875 5.515625 54.390625  Q 5.515625 63.484375 10.046875 68.84375  Q 14.59375 74.21875 22.3125 74.21875  z \" id=\"DejaVuSans-37\"/>\n    </defs>\n    <g transform=\"translate(90.432812 43.818437)scale(0.1 -0.1)\">\n     <use xlink:href=\"#DejaVuSans-57\"/>\n     <use x=\"63.623047\" xlink:href=\"#DejaVuSans-49\"/>\n     <use x=\"127.246094\" xlink:href=\"#DejaVuSans-46\"/>\n     <use x=\"159.033203\" xlink:href=\"#DejaVuSans-56\"/>\n     <use x=\"222.65625\" xlink:href=\"#DejaVuSans-48\"/>\n     <use x=\"286.279297\" xlink:href=\"#DejaVuSans-37\"/>\n    </g>\n   </g>\n   <g id=\"text_4\">\n    <!-- 8.20% -->\n    <defs>\n     <path d=\"M 19.1875 8.296875  L 53.609375 8.296875  L 53.609375 0  L 7.328125 0  L 7.328125 8.296875  Q 12.9375 14.109375 22.625 23.890625  Q 32.328125 33.6875 34.8125 36.53125  Q 39.546875 41.84375 41.421875 45.53125  Q 43.3125 49.21875 43.3125 52.78125  Q 43.3125 58.59375 39.234375 62.25  Q 35.15625 65.921875 28.609375 65.921875  Q 23.96875 65.921875 18.8125 64.3125  Q 13.671875 62.703125 7.8125 59.421875  L 7.8125 69.390625  Q 13.765625 71.78125 18.9375 73  Q 24.125 74.21875 28.421875 74.21875  Q 39.75 74.21875 46.484375 68.546875  Q 53.21875 62.890625 53.21875 53.421875  Q 53.21875 48.921875 51.53125 44.890625  Q 49.859375 40.875 45.40625 35.40625  Q 44.1875 33.984375 37.640625 27.21875  Q 31.109375 20.453125 19.1875 8.296875  z \" id=\"DejaVuSans-50\"/>\n    </defs>\n    <g transform=\"translate(96.795312 28.718437)scale(0.1 -0.1)\">\n     <use xlink:href=\"#DejaVuSans-56\"/>\n     <use x=\"63.623047\" xlink:href=\"#DejaVuSans-46\"/>\n     <use x=\"95.410156\" xlink:href=\"#DejaVuSans-50\"/>\n     <use x=\"159.033203\" xlink:href=\"#DejaVuSans-48\"/>\n     <use x=\"222.65625\" xlink:href=\"#DejaVuSans-37\"/>\n    </g>\n   </g>\n   <g id=\"text_5\">\n    <!-- w -->\n    <defs>\n     <path d=\"M 4.203125 54.6875  L 13.1875 54.6875  L 24.421875 12.015625  L 35.59375 54.6875  L 46.1875 54.6875  L 57.421875 12.015625  L 68.609375 54.6875  L 77.59375 54.6875  L 63.28125 0  L 52.6875 0  L 40.921875 44.828125  L 29.109375 0  L 18.5 0  z \" id=\"DejaVuSans-119\"/>\n    </defs>\n    <g transform=\"translate(67.855625 12.718125)scale(0.12 -0.12)\">\n     <use xlink:href=\"#DejaVuSans-119\"/>\n    </g>\n   </g>\n  </g>\n </g>\n <defs>\n  <clipPath id=\"p5fbd5ef952\">\n   <rect height=\"27.18\" width=\"111.6\" x=\"16.9625\" y=\"18.718125\"/>\n  </clipPath>\n </defs>\n</svg>\n\n</g>\n<!-- s&#45;&gt;w -->\n<g class=\"edge\" id=\"edge2\">\n<title>s-&gt;w</title>\n<g id=\"a_edge2\"><a xlink:title=\"(1, 3):\">\n<path d=\"M66.3109,-99.8654C72.7921,-91.407 80.4059,-81.4702 87.421,-72.3149\" fill=\"none\" stroke=\"#4a4a4a\"/>\n<polygon fill=\"#4a4a4a\" points=\"90.3415,-74.2581 93.6454,-64.1915 84.785,-70.0005 90.3415,-74.2581\" stroke=\"#4a4a4a\"/>\n</a>\n</g>\n</g>\n<!-- r&#45;&gt;w -->\n<g class=\"edge\" id=\"edge3\">\n<title>r-&gt;w</title>\n<g id=\"a_edge3\"><a xlink:title=\"(2, 3):\">\n<path d=\"M153.4211,-99.8654C146.8301,-91.407 139.0872,-81.4702 131.9532,-72.3149\" fill=\"none\" stroke=\"#4a4a4a\"/>\n<polygon fill=\"#4a4a4a\" points=\"134.5306,-69.9283 125.6233,-64.1915 129.009,-74.2309 134.5306,-69.9283\" stroke=\"#4a4a4a\"/>\n</a>\n</g>\n</g>\n</g>\n</svg>"
          },
          "metadata": {
            "tags": []
          }
        }
      ]
    },
    {
      "cell_type": "code",
      "metadata": {
        "id": "YE1ByTgT81ZP",
        "colab_type": "code",
        "outputId": "a36e5145-f2ed-408c-da3d-6d0a393e4e40",
        "colab": {
          "base_uri": "https://localhost:8080/",
          "height": 322
        }
      },
      "source": [
        "gnb.showInference(bn,evs={'s':1,'c':[0.3,0.9]})"
      ],
      "execution_count": 0,
      "outputs": [
        {
          "output_type": "display_data",
          "data": {
            "text/plain": [
              "<IPython.core.display.SVG object>"
            ],
            "image/svg+xml": "<svg height=\"226pt\" viewBox=\"0.00 0.00 228.00 226.00\" width=\"228pt\" xmlns=\"http://www.w3.org/2000/svg\" xmlns:xlink=\"http://www.w3.org/1999/xlink\">\n<g class=\"graph\" id=\"graph0\" transform=\"scale(1 1) rotate(0) translate(4 222)\">\n<title>structs</title>\n<text fill=\"#4a4a4a\" font-family=\"Times,serif\" font-size=\"14.00\" text-anchor=\"middle\" x=\"110\" y=\"-7.8\">Inference in   0.88ms</text>\n<!-- c -->\n<g class=\"node\" id=\"node1\">\n<title>c</title>\n<polygon fill=\"#f4a460\" points=\"160,-218 59,-218 59,-177 160,-177 160,-218\" stroke=\"#000000\"/>\n<svg height=\"41px\" preserveAspectRatio=\"xMinYMin meet\" viewBox=\"0 0 132.1625 52.998125\" width=\"101px\" x=\"59\" y=\"-218\"> <defs>\n  <style type=\"text/css\">\n*{stroke-linecap:butt;stroke-linejoin:round;}\n  </style>\n </defs>\n <g id=\"figure_1\">\n  <g id=\"patch_1\">\n   <path d=\"M 0 52.998125  L 132.1625 52.998125  L 132.1625 0  L 0 0  z \" style=\"fill:none;\"/>\n  </g>\n  <g id=\"axes_1\">\n   <g id=\"patch_2\">\n    <path d=\"M 16.9625 45.898125  L 128.5625 45.898125  L 128.5625 18.718125  L 16.9625 18.718125  z \" style=\"fill:none;\"/>\n   </g>\n   <g id=\"patch_3\">\n    <path clip-path=\"url(#p9553c6afe1)\" d=\"M 16.9625 45.898125  L 69.825658 45.898125  L 69.825658 33.818125  L 16.9625 33.818125  z \" style=\"fill:#8fbc8f;\"/>\n   </g>\n   <g id=\"patch_4\">\n    <path clip-path=\"url(#p9553c6afe1)\" d=\"M 16.9625 30.798125  L 75.699342 30.798125  L 75.699342 18.718125  L 16.9625 18.718125  z \" style=\"fill:#8fbc8f;\"/>\n   </g>\n   <g id=\"matplotlib.axis_1\">\n    <g id=\"xtick_1\">\n     <g id=\"line2d_1\">\n      <path clip-path=\"url(#p9553c6afe1)\" d=\"M 16.9625 45.898125  L 16.9625 18.718125  \" style=\"fill:none;stroke:#b0b0b0;stroke-linecap:square;stroke-width:0.8;\"/>\n     </g>\n     <g id=\"line2d_2\">\n      <defs>\n       <path d=\"M 0 0  L 0 3.5  \" id=\"m62bbe1e406\" style=\"stroke:#000000;stroke-width:0.8;\"/>\n      </defs>\n      <g>\n       <use style=\"stroke:#000000;stroke-width:0.8;\" x=\"16.9625\" xlink:href=\"#m62bbe1e406\" y=\"45.898125\"/>\n      </g>\n     </g>\n    </g>\n    <g id=\"xtick_2\">\n     <g id=\"line2d_3\">\n      <path clip-path=\"url(#p9553c6afe1)\" d=\"M 72.7625 45.898125  L 72.7625 18.718125  \" style=\"fill:none;stroke:#b0b0b0;stroke-linecap:square;stroke-width:0.8;\"/>\n     </g>\n     <g id=\"line2d_4\">\n      <g>\n       <use style=\"stroke:#000000;stroke-width:0.8;\" x=\"72.7625\" xlink:href=\"#m62bbe1e406\" y=\"45.898125\"/>\n      </g>\n     </g>\n    </g>\n    <g id=\"xtick_3\">\n     <g id=\"line2d_5\">\n      <path clip-path=\"url(#p9553c6afe1)\" d=\"M 128.5625 45.898125  L 128.5625 18.718125  \" style=\"fill:none;stroke:#b0b0b0;stroke-linecap:square;stroke-width:0.8;\"/>\n     </g>\n     <g id=\"line2d_6\">\n      <g>\n       <use style=\"stroke:#000000;stroke-width:0.8;\" x=\"128.5625\" xlink:href=\"#m62bbe1e406\" y=\"45.898125\"/>\n      </g>\n     </g>\n    </g>\n   </g>\n   <g id=\"matplotlib.axis_2\">\n    <g id=\"ytick_1\">\n     <g id=\"line2d_7\">\n      <defs>\n       <path d=\"M 0 0  L -3.5 0  \" id=\"m5c449bf45f\" style=\"stroke:#000000;stroke-width:0.8;\"/>\n      </defs>\n      <g>\n       <use style=\"stroke:#000000;stroke-width:0.8;\" x=\"16.9625\" xlink:href=\"#m5c449bf45f\" y=\"39.858125\"/>\n      </g>\n     </g>\n     <g id=\"text_1\">\n      <!-- 1 -->\n      <defs>\n       <path d=\"M 12.40625 8.296875  L 28.515625 8.296875  L 28.515625 63.921875  L 10.984375 60.40625  L 10.984375 69.390625  L 28.421875 72.90625  L 38.28125 72.90625  L 38.28125 8.296875  L 54.390625 8.296875  L 54.390625 0  L 12.40625 0  z \" id=\"DejaVuSans-49\"/>\n      </defs>\n      <g transform=\"translate(3.6 43.657344)scale(0.1 -0.1)\">\n       <use xlink:href=\"#DejaVuSans-49\"/>\n      </g>\n     </g>\n    </g>\n    <g id=\"ytick_2\">\n     <g id=\"line2d_8\">\n      <g>\n       <use style=\"stroke:#000000;stroke-width:0.8;\" x=\"16.9625\" xlink:href=\"#m5c449bf45f\" y=\"24.758125\"/>\n      </g>\n     </g>\n     <g id=\"text_2\">\n      <!-- 0 -->\n      <defs>\n       <path d=\"M 31.78125 66.40625  Q 24.171875 66.40625 20.328125 58.90625  Q 16.5 51.421875 16.5 36.375  Q 16.5 21.390625 20.328125 13.890625  Q 24.171875 6.390625 31.78125 6.390625  Q 39.453125 6.390625 43.28125 13.890625  Q 47.125 21.390625 47.125 36.375  Q 47.125 51.421875 43.28125 58.90625  Q 39.453125 66.40625 31.78125 66.40625  z M 31.78125 74.21875  Q 44.046875 74.21875 50.515625 64.515625  Q 56.984375 54.828125 56.984375 36.375  Q 56.984375 17.96875 50.515625 8.265625  Q 44.046875 -1.421875 31.78125 -1.421875  Q 19.53125 -1.421875 13.0625 8.265625  Q 6.59375 17.96875 6.59375 36.375  Q 6.59375 54.828125 13.0625 64.515625  Q 19.53125 74.21875 31.78125 74.21875  z \" id=\"DejaVuSans-48\"/>\n      </defs>\n      <g transform=\"translate(3.6 28.557344)scale(0.1 -0.1)\">\n       <use xlink:href=\"#DejaVuSans-48\"/>\n      </g>\n     </g>\n    </g>\n   </g>\n   <g id=\"patch_5\">\n    <path d=\"M 16.9625 45.898125  L 16.9625 18.718125  \" style=\"fill:none;stroke:#000000;stroke-linecap:square;stroke-linejoin:miter;stroke-width:0.8;\"/>\n   </g>\n   <g id=\"patch_6\">\n    <path d=\"M 128.5625 45.898125  L 128.5625 18.718125  \" style=\"fill:none;stroke:#000000;stroke-linecap:square;stroke-linejoin:miter;stroke-width:0.8;\"/>\n   </g>\n   <g id=\"patch_7\">\n    <path d=\"M 16.9625 45.898125  L 128.5625 45.898125  \" style=\"fill:none;stroke:#000000;stroke-linecap:square;stroke-linejoin:miter;stroke-width:0.8;\"/>\n   </g>\n   <g id=\"patch_8\">\n    <path d=\"M 16.9625 18.718125  L 128.5625 18.718125  \" style=\"fill:none;stroke:#000000;stroke-linecap:square;stroke-linejoin:miter;stroke-width:0.8;\"/>\n   </g>\n   <g id=\"text_3\">\n    <!-- 47.37% -->\n    <defs>\n     <path d=\"M 37.796875 64.3125  L 12.890625 25.390625  L 37.796875 25.390625  z M 35.203125 72.90625  L 47.609375 72.90625  L 47.609375 25.390625  L 58.015625 25.390625  L 58.015625 17.1875  L 47.609375 17.1875  L 47.609375 0  L 37.796875 0  L 37.796875 17.1875  L 4.890625 17.1875  L 4.890625 26.703125  z \" id=\"DejaVuSans-52\"/>\n     <path d=\"M 8.203125 72.90625  L 55.078125 72.90625  L 55.078125 68.703125  L 28.609375 0  L 18.3125 0  L 43.21875 64.59375  L 8.203125 64.59375  z \" id=\"DejaVuSans-55\"/>\n     <path d=\"M 10.6875 12.40625  L 21 12.40625  L 21 0  L 10.6875 0  z \" id=\"DejaVuSans-46\"/>\n     <path d=\"M 40.578125 39.3125  Q 47.65625 37.796875 51.625 33  Q 55.609375 28.21875 55.609375 21.1875  Q 55.609375 10.40625 48.1875 4.484375  Q 40.765625 -1.421875 27.09375 -1.421875  Q 22.515625 -1.421875 17.65625 -0.515625  Q 12.796875 0.390625 7.625 2.203125  L 7.625 11.71875  Q 11.71875 9.328125 16.59375 8.109375  Q 21.484375 6.890625 26.8125 6.890625  Q 36.078125 6.890625 40.9375 10.546875  Q 45.796875 14.203125 45.796875 21.1875  Q 45.796875 27.640625 41.28125 31.265625  Q 36.765625 34.90625 28.71875 34.90625  L 20.21875 34.90625  L 20.21875 43.015625  L 29.109375 43.015625  Q 36.375 43.015625 40.234375 45.921875  Q 44.09375 48.828125 44.09375 54.296875  Q 44.09375 59.90625 40.109375 62.90625  Q 36.140625 65.921875 28.71875 65.921875  Q 24.65625 65.921875 20.015625 65.03125  Q 15.375 64.15625 9.8125 62.3125  L 9.8125 71.09375  Q 15.4375 72.65625 20.34375 73.4375  Q 25.25 74.21875 29.59375 74.21875  Q 40.828125 74.21875 47.359375 69.109375  Q 53.90625 64.015625 53.90625 55.328125  Q 53.90625 49.265625 50.4375 45.09375  Q 46.96875 40.921875 40.578125 39.3125  z \" id=\"DejaVuSans-51\"/>\n     <path d=\"M 72.703125 32.078125  Q 68.453125 32.078125 66.03125 28.46875  Q 63.625 24.859375 63.625 18.40625  Q 63.625 12.0625 66.03125 8.421875  Q 68.453125 4.78125 72.703125 4.78125  Q 76.859375 4.78125 79.265625 8.421875  Q 81.6875 12.0625 81.6875 18.40625  Q 81.6875 24.8125 79.265625 28.4375  Q 76.859375 32.078125 72.703125 32.078125  z M 72.703125 38.28125  Q 80.421875 38.28125 84.953125 32.90625  Q 89.5 27.546875 89.5 18.40625  Q 89.5 9.28125 84.9375 3.921875  Q 80.375 -1.421875 72.703125 -1.421875  Q 64.890625 -1.421875 60.34375 3.921875  Q 55.8125 9.28125 55.8125 18.40625  Q 55.8125 27.59375 60.375 32.9375  Q 64.9375 38.28125 72.703125 38.28125  z M 22.3125 68.015625  Q 18.109375 68.015625 15.6875 64.375  Q 13.28125 60.75 13.28125 54.390625  Q 13.28125 47.953125 15.671875 44.328125  Q 18.0625 40.71875 22.3125 40.71875  Q 26.5625 40.71875 28.96875 44.328125  Q 31.390625 47.953125 31.390625 54.390625  Q 31.390625 60.6875 28.953125 64.34375  Q 26.515625 68.015625 22.3125 68.015625  z M 66.40625 74.21875  L 74.21875 74.21875  L 28.609375 -1.421875  L 20.796875 -1.421875  z M 22.3125 74.21875  Q 30.03125 74.21875 34.609375 68.875  Q 39.203125 63.53125 39.203125 54.390625  Q 39.203125 45.171875 34.640625 39.84375  Q 30.078125 34.515625 22.3125 34.515625  Q 14.546875 34.515625 10.03125 39.859375  Q 5.515625 45.21875 5.515625 54.390625  Q 5.515625 63.484375 10.046875 68.84375  Q 14.59375 74.21875 22.3125 74.21875  z \" id=\"DejaVuSans-37\"/>\n    </defs>\n    <g transform=\"translate(90.432812 43.818437)scale(0.1 -0.1)\">\n     <use xlink:href=\"#DejaVuSans-52\"/>\n     <use x=\"63.623047\" xlink:href=\"#DejaVuSans-55\"/>\n     <use x=\"127.246094\" xlink:href=\"#DejaVuSans-46\"/>\n     <use x=\"159.033203\" xlink:href=\"#DejaVuSans-51\"/>\n     <use x=\"222.65625\" xlink:href=\"#DejaVuSans-55\"/>\n     <use x=\"286.279297\" xlink:href=\"#DejaVuSans-37\"/>\n    </g>\n   </g>\n   <g id=\"text_4\">\n    <!-- 52.63% -->\n    <defs>\n     <path d=\"M 10.796875 72.90625  L 49.515625 72.90625  L 49.515625 64.59375  L 19.828125 64.59375  L 19.828125 46.734375  Q 21.96875 47.46875 24.109375 47.828125  Q 26.265625 48.1875 28.421875 48.1875  Q 40.625 48.1875 47.75 41.5  Q 54.890625 34.8125 54.890625 23.390625  Q 54.890625 11.625 47.5625 5.09375  Q 40.234375 -1.421875 26.90625 -1.421875  Q 22.3125 -1.421875 17.546875 -0.640625  Q 12.796875 0.140625 7.71875 1.703125  L 7.71875 11.625  Q 12.109375 9.234375 16.796875 8.0625  Q 21.484375 6.890625 26.703125 6.890625  Q 35.15625 6.890625 40.078125 11.328125  Q 45.015625 15.765625 45.015625 23.390625  Q 45.015625 31 40.078125 35.4375  Q 35.15625 39.890625 26.703125 39.890625  Q 22.75 39.890625 18.8125 39.015625  Q 14.890625 38.140625 10.796875 36.28125  z \" id=\"DejaVuSans-53\"/>\n     <path d=\"M 19.1875 8.296875  L 53.609375 8.296875  L 53.609375 0  L 7.328125 0  L 7.328125 8.296875  Q 12.9375 14.109375 22.625 23.890625  Q 32.328125 33.6875 34.8125 36.53125  Q 39.546875 41.84375 41.421875 45.53125  Q 43.3125 49.21875 43.3125 52.78125  Q 43.3125 58.59375 39.234375 62.25  Q 35.15625 65.921875 28.609375 65.921875  Q 23.96875 65.921875 18.8125 64.3125  Q 13.671875 62.703125 7.8125 59.421875  L 7.8125 69.390625  Q 13.765625 71.78125 18.9375 73  Q 24.125 74.21875 28.421875 74.21875  Q 39.75 74.21875 46.484375 68.546875  Q 53.21875 62.890625 53.21875 53.421875  Q 53.21875 48.921875 51.53125 44.890625  Q 49.859375 40.875 45.40625 35.40625  Q 44.1875 33.984375 37.640625 27.21875  Q 31.109375 20.453125 19.1875 8.296875  z \" id=\"DejaVuSans-50\"/>\n     <path d=\"M 33.015625 40.375  Q 26.375 40.375 22.484375 35.828125  Q 18.609375 31.296875 18.609375 23.390625  Q 18.609375 15.53125 22.484375 10.953125  Q 26.375 6.390625 33.015625 6.390625  Q 39.65625 6.390625 43.53125 10.953125  Q 47.40625 15.53125 47.40625 23.390625  Q 47.40625 31.296875 43.53125 35.828125  Q 39.65625 40.375 33.015625 40.375  z M 52.59375 71.296875  L 52.59375 62.3125  Q 48.875 64.0625 45.09375 64.984375  Q 41.3125 65.921875 37.59375 65.921875  Q 27.828125 65.921875 22.671875 59.328125  Q 17.53125 52.734375 16.796875 39.40625  Q 19.671875 43.65625 24.015625 45.921875  Q 28.375 48.1875 33.59375 48.1875  Q 44.578125 48.1875 50.953125 41.515625  Q 57.328125 34.859375 57.328125 23.390625  Q 57.328125 12.15625 50.6875 5.359375  Q 44.046875 -1.421875 33.015625 -1.421875  Q 20.359375 -1.421875 13.671875 8.265625  Q 6.984375 17.96875 6.984375 36.375  Q 6.984375 53.65625 15.1875 63.9375  Q 23.390625 74.21875 37.203125 74.21875  Q 40.921875 74.21875 44.703125 73.484375  Q 48.484375 72.75 52.59375 71.296875  z \" id=\"DejaVuSans-54\"/>\n    </defs>\n    <g transform=\"translate(90.432812 28.718437)scale(0.1 -0.1)\">\n     <use xlink:href=\"#DejaVuSans-53\"/>\n     <use x=\"63.623047\" xlink:href=\"#DejaVuSans-50\"/>\n     <use x=\"127.246094\" xlink:href=\"#DejaVuSans-46\"/>\n     <use x=\"159.033203\" xlink:href=\"#DejaVuSans-54\"/>\n     <use x=\"222.65625\" xlink:href=\"#DejaVuSans-51\"/>\n     <use x=\"286.279297\" xlink:href=\"#DejaVuSans-37\"/>\n    </g>\n   </g>\n   <g id=\"text_5\">\n    <!-- c -->\n    <defs>\n     <path d=\"M 48.78125 52.59375  L 48.78125 44.1875  Q 44.96875 46.296875 41.140625 47.34375  Q 37.3125 48.390625 33.40625 48.390625  Q 24.65625 48.390625 19.8125 42.84375  Q 14.984375 37.3125 14.984375 27.296875  Q 14.984375 17.28125 19.8125 11.734375  Q 24.65625 6.203125 33.40625 6.203125  Q 37.3125 6.203125 41.140625 7.25  Q 44.96875 8.296875 48.78125 10.40625  L 48.78125 2.09375  Q 45.015625 0.34375 40.984375 -0.53125  Q 36.96875 -1.421875 32.421875 -1.421875  Q 20.0625 -1.421875 12.78125 6.34375  Q 5.515625 14.109375 5.515625 27.296875  Q 5.515625 40.671875 12.859375 48.328125  Q 20.21875 56 33.015625 56  Q 37.15625 56 41.109375 55.140625  Q 45.0625 54.296875 48.78125 52.59375  z \" id=\"DejaVuSans-99\"/>\n    </defs>\n    <g transform=\"translate(69.463437 12.718125)scale(0.12 -0.12)\">\n     <use xlink:href=\"#DejaVuSans-99\"/>\n    </g>\n   </g>\n  </g>\n </g>\n <defs>\n  <clipPath id=\"p9553c6afe1\">\n   <rect height=\"27.18\" width=\"111.6\" x=\"16.9625\" y=\"18.718125\"/>\n  </clipPath>\n </defs>\n</svg>\n\n</g>\n<!-- s -->\n<g class=\"node\" id=\"node2\">\n<title>s</title>\n<polygon fill=\"#f4a460\" points=\"101,-141 0,-141 0,-100 101,-100 101,-141\" stroke=\"#000000\"/>\n<svg height=\"41px\" preserveAspectRatio=\"xMinYMin meet\" viewBox=\"0 0 132.1625 52.998125\" width=\"101px\" x=\"0\" y=\"-141\"> <defs>\n  <style type=\"text/css\">\n*{stroke-linecap:butt;stroke-linejoin:round;}\n  </style>\n </defs>\n <g id=\"figure_1\">\n  <g id=\"patch_1\">\n   <path d=\"M 0 52.998125  L 132.1625 52.998125  L 132.1625 0  L 0 0  z \" style=\"fill:none;\"/>\n  </g>\n  <g id=\"axes_1\">\n   <g id=\"patch_2\">\n    <path d=\"M 16.9625 45.898125  L 128.5625 45.898125  L 128.5625 18.718125  L 16.9625 18.718125  z \" style=\"fill:none;\"/>\n   </g>\n   <g id=\"patch_3\">\n    <path clip-path=\"url(#p4077102c87)\" d=\"M 16.9625 45.898125  L 128.5625 45.898125  L 128.5625 33.818125  L 16.9625 33.818125  z \" style=\"fill:#8fbc8f;\"/>\n   </g>\n   <g id=\"patch_4\">\n    <path clip-path=\"url(#p4077102c87)\" d=\"M 16.9625 30.798125  L 16.9625 30.798125  L 16.9625 18.718125  L 16.9625 18.718125  z \" style=\"fill:#8fbc8f;\"/>\n   </g>\n   <g id=\"matplotlib.axis_1\">\n    <g id=\"xtick_1\">\n     <g id=\"line2d_1\">\n      <path clip-path=\"url(#p4077102c87)\" d=\"M 16.9625 45.898125  L 16.9625 18.718125  \" style=\"fill:none;stroke:#b0b0b0;stroke-linecap:square;stroke-width:0.8;\"/>\n     </g>\n     <g id=\"line2d_2\">\n      <defs>\n       <path d=\"M 0 0  L 0 3.5  \" id=\"m8bb1c9ddec\" style=\"stroke:#000000;stroke-width:0.8;\"/>\n      </defs>\n      <g>\n       <use style=\"stroke:#000000;stroke-width:0.8;\" x=\"16.9625\" xlink:href=\"#m8bb1c9ddec\" y=\"45.898125\"/>\n      </g>\n     </g>\n    </g>\n    <g id=\"xtick_2\">\n     <g id=\"line2d_3\">\n      <path clip-path=\"url(#p4077102c87)\" d=\"M 72.7625 45.898125  L 72.7625 18.718125  \" style=\"fill:none;stroke:#b0b0b0;stroke-linecap:square;stroke-width:0.8;\"/>\n     </g>\n     <g id=\"line2d_4\">\n      <g>\n       <use style=\"stroke:#000000;stroke-width:0.8;\" x=\"72.7625\" xlink:href=\"#m8bb1c9ddec\" y=\"45.898125\"/>\n      </g>\n     </g>\n    </g>\n    <g id=\"xtick_3\">\n     <g id=\"line2d_5\">\n      <path clip-path=\"url(#p4077102c87)\" d=\"M 128.5625 45.898125  L 128.5625 18.718125  \" style=\"fill:none;stroke:#b0b0b0;stroke-linecap:square;stroke-width:0.8;\"/>\n     </g>\n     <g id=\"line2d_6\">\n      <g>\n       <use style=\"stroke:#000000;stroke-width:0.8;\" x=\"128.5625\" xlink:href=\"#m8bb1c9ddec\" y=\"45.898125\"/>\n      </g>\n     </g>\n    </g>\n   </g>\n   <g id=\"matplotlib.axis_2\">\n    <g id=\"ytick_1\">\n     <g id=\"line2d_7\">\n      <defs>\n       <path d=\"M 0 0  L -3.5 0  \" id=\"m759e3ff7e8\" style=\"stroke:#000000;stroke-width:0.8;\"/>\n      </defs>\n      <g>\n       <use style=\"stroke:#000000;stroke-width:0.8;\" x=\"16.9625\" xlink:href=\"#m759e3ff7e8\" y=\"39.858125\"/>\n      </g>\n     </g>\n     <g id=\"text_1\">\n      <!-- 1 -->\n      <defs>\n       <path d=\"M 12.40625 8.296875  L 28.515625 8.296875  L 28.515625 63.921875  L 10.984375 60.40625  L 10.984375 69.390625  L 28.421875 72.90625  L 38.28125 72.90625  L 38.28125 8.296875  L 54.390625 8.296875  L 54.390625 0  L 12.40625 0  z \" id=\"DejaVuSans-49\"/>\n      </defs>\n      <g transform=\"translate(3.6 43.657344)scale(0.1 -0.1)\">\n       <use xlink:href=\"#DejaVuSans-49\"/>\n      </g>\n     </g>\n    </g>\n    <g id=\"ytick_2\">\n     <g id=\"line2d_8\">\n      <g>\n       <use style=\"stroke:#000000;stroke-width:0.8;\" x=\"16.9625\" xlink:href=\"#m759e3ff7e8\" y=\"24.758125\"/>\n      </g>\n     </g>\n     <g id=\"text_2\">\n      <!-- 0 -->\n      <defs>\n       <path d=\"M 31.78125 66.40625  Q 24.171875 66.40625 20.328125 58.90625  Q 16.5 51.421875 16.5 36.375  Q 16.5 21.390625 20.328125 13.890625  Q 24.171875 6.390625 31.78125 6.390625  Q 39.453125 6.390625 43.28125 13.890625  Q 47.125 21.390625 47.125 36.375  Q 47.125 51.421875 43.28125 58.90625  Q 39.453125 66.40625 31.78125 66.40625  z M 31.78125 74.21875  Q 44.046875 74.21875 50.515625 64.515625  Q 56.984375 54.828125 56.984375 36.375  Q 56.984375 17.96875 50.515625 8.265625  Q 44.046875 -1.421875 31.78125 -1.421875  Q 19.53125 -1.421875 13.0625 8.265625  Q 6.59375 17.96875 6.59375 36.375  Q 6.59375 54.828125 13.0625 64.515625  Q 19.53125 74.21875 31.78125 74.21875  z \" id=\"DejaVuSans-48\"/>\n      </defs>\n      <g transform=\"translate(3.6 28.557344)scale(0.1 -0.1)\">\n       <use xlink:href=\"#DejaVuSans-48\"/>\n      </g>\n     </g>\n    </g>\n   </g>\n   <g id=\"patch_5\">\n    <path d=\"M 16.9625 45.898125  L 16.9625 18.718125  \" style=\"fill:none;stroke:#000000;stroke-linecap:square;stroke-linejoin:miter;stroke-width:0.8;\"/>\n   </g>\n   <g id=\"patch_6\">\n    <path d=\"M 128.5625 45.898125  L 128.5625 18.718125  \" style=\"fill:none;stroke:#000000;stroke-linecap:square;stroke-linejoin:miter;stroke-width:0.8;\"/>\n   </g>\n   <g id=\"patch_7\">\n    <path d=\"M 16.9625 45.898125  L 128.5625 45.898125  \" style=\"fill:none;stroke:#000000;stroke-linecap:square;stroke-linejoin:miter;stroke-width:0.8;\"/>\n   </g>\n   <g id=\"patch_8\">\n    <path d=\"M 16.9625 18.718125  L 128.5625 18.718125  \" style=\"fill:none;stroke:#000000;stroke-linecap:square;stroke-linejoin:miter;stroke-width:0.8;\"/>\n   </g>\n   <g id=\"text_3\">\n    <!-- 100.00% -->\n    <defs>\n     <path d=\"M 10.6875 12.40625  L 21 12.40625  L 21 0  L 10.6875 0  z \" id=\"DejaVuSans-46\"/>\n     <path d=\"M 72.703125 32.078125  Q 68.453125 32.078125 66.03125 28.46875  Q 63.625 24.859375 63.625 18.40625  Q 63.625 12.0625 66.03125 8.421875  Q 68.453125 4.78125 72.703125 4.78125  Q 76.859375 4.78125 79.265625 8.421875  Q 81.6875 12.0625 81.6875 18.40625  Q 81.6875 24.8125 79.265625 28.4375  Q 76.859375 32.078125 72.703125 32.078125  z M 72.703125 38.28125  Q 80.421875 38.28125 84.953125 32.90625  Q 89.5 27.546875 89.5 18.40625  Q 89.5 9.28125 84.9375 3.921875  Q 80.375 -1.421875 72.703125 -1.421875  Q 64.890625 -1.421875 60.34375 3.921875  Q 55.8125 9.28125 55.8125 18.40625  Q 55.8125 27.59375 60.375 32.9375  Q 64.9375 38.28125 72.703125 38.28125  z M 22.3125 68.015625  Q 18.109375 68.015625 15.6875 64.375  Q 13.28125 60.75 13.28125 54.390625  Q 13.28125 47.953125 15.671875 44.328125  Q 18.0625 40.71875 22.3125 40.71875  Q 26.5625 40.71875 28.96875 44.328125  Q 31.390625 47.953125 31.390625 54.390625  Q 31.390625 60.6875 28.953125 64.34375  Q 26.515625 68.015625 22.3125 68.015625  z M 66.40625 74.21875  L 74.21875 74.21875  L 28.609375 -1.421875  L 20.796875 -1.421875  z M 22.3125 74.21875  Q 30.03125 74.21875 34.609375 68.875  Q 39.203125 63.53125 39.203125 54.390625  Q 39.203125 45.171875 34.640625 39.84375  Q 30.078125 34.515625 22.3125 34.515625  Q 14.546875 34.515625 10.03125 39.859375  Q 5.515625 45.21875 5.515625 54.390625  Q 5.515625 63.484375 10.046875 68.84375  Q 14.59375 74.21875 22.3125 74.21875  z \" id=\"DejaVuSans-37\"/>\n    </defs>\n    <g transform=\"translate(84.070312 43.818437)scale(0.1 -0.1)\">\n     <use xlink:href=\"#DejaVuSans-49\"/>\n     <use x=\"63.623047\" xlink:href=\"#DejaVuSans-48\"/>\n     <use x=\"127.246094\" xlink:href=\"#DejaVuSans-48\"/>\n     <use x=\"190.869141\" xlink:href=\"#DejaVuSans-46\"/>\n     <use x=\"222.65625\" xlink:href=\"#DejaVuSans-48\"/>\n     <use x=\"286.279297\" xlink:href=\"#DejaVuSans-48\"/>\n     <use x=\"349.902344\" xlink:href=\"#DejaVuSans-37\"/>\n    </g>\n   </g>\n   <g id=\"text_4\">\n    <!-- s -->\n    <defs>\n     <path d=\"M 44.28125 53.078125  L 44.28125 44.578125  Q 40.484375 46.53125 36.375 47.5  Q 32.28125 48.484375 27.875 48.484375  Q 21.1875 48.484375 17.84375 46.4375  Q 14.5 44.390625 14.5 40.28125  Q 14.5 37.15625 16.890625 35.375  Q 19.28125 33.59375 26.515625 31.984375  L 29.59375 31.296875  Q 39.15625 29.25 43.1875 25.515625  Q 47.21875 21.78125 47.21875 15.09375  Q 47.21875 7.46875 41.1875 3.015625  Q 35.15625 -1.421875 24.609375 -1.421875  Q 20.21875 -1.421875 15.453125 -0.5625  Q 10.6875 0.296875 5.421875 2  L 5.421875 11.28125  Q 10.40625 8.6875 15.234375 7.390625  Q 20.0625 6.109375 24.8125 6.109375  Q 31.15625 6.109375 34.5625 8.28125  Q 37.984375 10.453125 37.984375 14.40625  Q 37.984375 18.0625 35.515625 20.015625  Q 33.0625 21.96875 24.703125 23.78125  L 21.578125 24.515625  Q 13.234375 26.265625 9.515625 29.90625  Q 5.8125 33.546875 5.8125 39.890625  Q 5.8125 47.609375 11.28125 51.796875  Q 16.75 56 26.8125 56  Q 31.78125 56 36.171875 55.265625  Q 40.578125 54.546875 44.28125 53.078125  z \" id=\"DejaVuSans-115\"/>\n    </defs>\n    <g transform=\"translate(69.636875 12.718125)scale(0.12 -0.12)\">\n     <use xlink:href=\"#DejaVuSans-115\"/>\n    </g>\n   </g>\n  </g>\n </g>\n <defs>\n  <clipPath id=\"p4077102c87\">\n   <rect height=\"27.18\" width=\"111.6\" x=\"16.9625\" y=\"18.718125\"/>\n  </clipPath>\n </defs>\n</svg>\n\n</g>\n<!-- c&#45;&gt;s -->\n<g class=\"edge\" id=\"edge1\">\n<title>c-&gt;s</title>\n<g id=\"a_edge1\"><a xlink:title=\"(0, 1):\">\n<path d=\"M93.6891,-176.8654C87.2079,-168.407 79.5941,-158.4702 72.579,-149.3149\" fill=\"none\" stroke=\"#4a4a4a\"/>\n<polygon fill=\"#4a4a4a\" points=\"75.215,-147.0005 66.3546,-141.1915 69.6585,-151.2581 75.215,-147.0005\" stroke=\"#4a4a4a\"/>\n</a>\n</g>\n</g>\n<!-- r -->\n<g class=\"node\" id=\"node3\">\n<title>r</title>\n<polygon fill=\"#ffffff\" points=\"220,-141 119,-141 119,-100 220,-100 220,-141\" stroke=\"#000000\"/>\n<svg height=\"41px\" preserveAspectRatio=\"xMinYMin meet\" viewBox=\"0 0 132.1625 52.998125\" width=\"101px\" x=\"119\" y=\"-141\"> <defs>\n  <style type=\"text/css\">\n*{stroke-linecap:butt;stroke-linejoin:round;}\n  </style>\n </defs>\n <g id=\"figure_1\">\n  <g id=\"patch_1\">\n   <path d=\"M 0 52.998125  L 132.1625 52.998125  L 132.1625 0  L 0 0  z \" style=\"fill:none;\"/>\n  </g>\n  <g id=\"axes_1\">\n   <g id=\"patch_2\">\n    <path d=\"M 16.9625 45.898125  L 128.5625 45.898125  L 128.5625 18.718125  L 16.9625 18.718125  z \" style=\"fill:none;\"/>\n   </g>\n   <g id=\"patch_3\">\n    <path clip-path=\"url(#p2771e90d67)\" d=\"M 16.9625 45.898125  L 71.000395 45.898125  L 71.000395 33.818125  L 16.9625 33.818125  z \" style=\"fill:#8fbc8f;\"/>\n   </g>\n   <g id=\"patch_4\">\n    <path clip-path=\"url(#p2771e90d67)\" d=\"M 16.9625 30.798125  L 74.524605 30.798125  L 74.524605 18.718125  L 16.9625 18.718125  z \" style=\"fill:#8fbc8f;\"/>\n   </g>\n   <g id=\"matplotlib.axis_1\">\n    <g id=\"xtick_1\">\n     <g id=\"line2d_1\">\n      <path clip-path=\"url(#p2771e90d67)\" d=\"M 16.9625 45.898125  L 16.9625 18.718125  \" style=\"fill:none;stroke:#b0b0b0;stroke-linecap:square;stroke-width:0.8;\"/>\n     </g>\n     <g id=\"line2d_2\">\n      <defs>\n       <path d=\"M 0 0  L 0 3.5  \" id=\"m45f2e7bed3\" style=\"stroke:#000000;stroke-width:0.8;\"/>\n      </defs>\n      <g>\n       <use style=\"stroke:#000000;stroke-width:0.8;\" x=\"16.9625\" xlink:href=\"#m45f2e7bed3\" y=\"45.898125\"/>\n      </g>\n     </g>\n    </g>\n    <g id=\"xtick_2\">\n     <g id=\"line2d_3\">\n      <path clip-path=\"url(#p2771e90d67)\" d=\"M 72.7625 45.898125  L 72.7625 18.718125  \" style=\"fill:none;stroke:#b0b0b0;stroke-linecap:square;stroke-width:0.8;\"/>\n     </g>\n     <g id=\"line2d_4\">\n      <g>\n       <use style=\"stroke:#000000;stroke-width:0.8;\" x=\"72.7625\" xlink:href=\"#m45f2e7bed3\" y=\"45.898125\"/>\n      </g>\n     </g>\n    </g>\n    <g id=\"xtick_3\">\n     <g id=\"line2d_5\">\n      <path clip-path=\"url(#p2771e90d67)\" d=\"M 128.5625 45.898125  L 128.5625 18.718125  \" style=\"fill:none;stroke:#b0b0b0;stroke-linecap:square;stroke-width:0.8;\"/>\n     </g>\n     <g id=\"line2d_6\">\n      <g>\n       <use style=\"stroke:#000000;stroke-width:0.8;\" x=\"128.5625\" xlink:href=\"#m45f2e7bed3\" y=\"45.898125\"/>\n      </g>\n     </g>\n    </g>\n   </g>\n   <g id=\"matplotlib.axis_2\">\n    <g id=\"ytick_1\">\n     <g id=\"line2d_7\">\n      <defs>\n       <path d=\"M 0 0  L -3.5 0  \" id=\"m5dc049c768\" style=\"stroke:#000000;stroke-width:0.8;\"/>\n      </defs>\n      <g>\n       <use style=\"stroke:#000000;stroke-width:0.8;\" x=\"16.9625\" xlink:href=\"#m5dc049c768\" y=\"39.858125\"/>\n      </g>\n     </g>\n     <g id=\"text_1\">\n      <!-- 1 -->\n      <defs>\n       <path d=\"M 12.40625 8.296875  L 28.515625 8.296875  L 28.515625 63.921875  L 10.984375 60.40625  L 10.984375 69.390625  L 28.421875 72.90625  L 38.28125 72.90625  L 38.28125 8.296875  L 54.390625 8.296875  L 54.390625 0  L 12.40625 0  z \" id=\"DejaVuSans-49\"/>\n      </defs>\n      <g transform=\"translate(3.6 43.657344)scale(0.1 -0.1)\">\n       <use xlink:href=\"#DejaVuSans-49\"/>\n      </g>\n     </g>\n    </g>\n    <g id=\"ytick_2\">\n     <g id=\"line2d_8\">\n      <g>\n       <use style=\"stroke:#000000;stroke-width:0.8;\" x=\"16.9625\" xlink:href=\"#m5dc049c768\" y=\"24.758125\"/>\n      </g>\n     </g>\n     <g id=\"text_2\">\n      <!-- 0 -->\n      <defs>\n       <path d=\"M 31.78125 66.40625  Q 24.171875 66.40625 20.328125 58.90625  Q 16.5 51.421875 16.5 36.375  Q 16.5 21.390625 20.328125 13.890625  Q 24.171875 6.390625 31.78125 6.390625  Q 39.453125 6.390625 43.28125 13.890625  Q 47.125 21.390625 47.125 36.375  Q 47.125 51.421875 43.28125 58.90625  Q 39.453125 66.40625 31.78125 66.40625  z M 31.78125 74.21875  Q 44.046875 74.21875 50.515625 64.515625  Q 56.984375 54.828125 56.984375 36.375  Q 56.984375 17.96875 50.515625 8.265625  Q 44.046875 -1.421875 31.78125 -1.421875  Q 19.53125 -1.421875 13.0625 8.265625  Q 6.59375 17.96875 6.59375 36.375  Q 6.59375 54.828125 13.0625 64.515625  Q 19.53125 74.21875 31.78125 74.21875  z \" id=\"DejaVuSans-48\"/>\n      </defs>\n      <g transform=\"translate(3.6 28.557344)scale(0.1 -0.1)\">\n       <use xlink:href=\"#DejaVuSans-48\"/>\n      </g>\n     </g>\n    </g>\n   </g>\n   <g id=\"patch_5\">\n    <path d=\"M 16.9625 45.898125  L 16.9625 18.718125  \" style=\"fill:none;stroke:#000000;stroke-linecap:square;stroke-linejoin:miter;stroke-width:0.8;\"/>\n   </g>\n   <g id=\"patch_6\">\n    <path d=\"M 128.5625 45.898125  L 128.5625 18.718125  \" style=\"fill:none;stroke:#000000;stroke-linecap:square;stroke-linejoin:miter;stroke-width:0.8;\"/>\n   </g>\n   <g id=\"patch_7\">\n    <path d=\"M 16.9625 45.898125  L 128.5625 45.898125  \" style=\"fill:none;stroke:#000000;stroke-linecap:square;stroke-linejoin:miter;stroke-width:0.8;\"/>\n   </g>\n   <g id=\"patch_8\">\n    <path d=\"M 16.9625 18.718125  L 128.5625 18.718125  \" style=\"fill:none;stroke:#000000;stroke-linecap:square;stroke-linejoin:miter;stroke-width:0.8;\"/>\n   </g>\n   <g id=\"text_3\">\n    <!-- 48.42% -->\n    <defs>\n     <path d=\"M 37.796875 64.3125  L 12.890625 25.390625  L 37.796875 25.390625  z M 35.203125 72.90625  L 47.609375 72.90625  L 47.609375 25.390625  L 58.015625 25.390625  L 58.015625 17.1875  L 47.609375 17.1875  L 47.609375 0  L 37.796875 0  L 37.796875 17.1875  L 4.890625 17.1875  L 4.890625 26.703125  z \" id=\"DejaVuSans-52\"/>\n     <path d=\"M 31.78125 34.625  Q 24.75 34.625 20.71875 30.859375  Q 16.703125 27.09375 16.703125 20.515625  Q 16.703125 13.921875 20.71875 10.15625  Q 24.75 6.390625 31.78125 6.390625  Q 38.8125 6.390625 42.859375 10.171875  Q 46.921875 13.96875 46.921875 20.515625  Q 46.921875 27.09375 42.890625 30.859375  Q 38.875 34.625 31.78125 34.625  z M 21.921875 38.8125  Q 15.578125 40.375 12.03125 44.71875  Q 8.5 49.078125 8.5 55.328125  Q 8.5 64.0625 14.71875 69.140625  Q 20.953125 74.21875 31.78125 74.21875  Q 42.671875 74.21875 48.875 69.140625  Q 55.078125 64.0625 55.078125 55.328125  Q 55.078125 49.078125 51.53125 44.71875  Q 48 40.375 41.703125 38.8125  Q 48.828125 37.15625 52.796875 32.3125  Q 56.78125 27.484375 56.78125 20.515625  Q 56.78125 9.90625 50.3125 4.234375  Q 43.84375 -1.421875 31.78125 -1.421875  Q 19.734375 -1.421875 13.25 4.234375  Q 6.78125 9.90625 6.78125 20.515625  Q 6.78125 27.484375 10.78125 32.3125  Q 14.796875 37.15625 21.921875 38.8125  z M 18.3125 54.390625  Q 18.3125 48.734375 21.84375 45.5625  Q 25.390625 42.390625 31.78125 42.390625  Q 38.140625 42.390625 41.71875 45.5625  Q 45.3125 48.734375 45.3125 54.390625  Q 45.3125 60.0625 41.71875 63.234375  Q 38.140625 66.40625 31.78125 66.40625  Q 25.390625 66.40625 21.84375 63.234375  Q 18.3125 60.0625 18.3125 54.390625  z \" id=\"DejaVuSans-56\"/>\n     <path d=\"M 10.6875 12.40625  L 21 12.40625  L 21 0  L 10.6875 0  z \" id=\"DejaVuSans-46\"/>\n     <path d=\"M 19.1875 8.296875  L 53.609375 8.296875  L 53.609375 0  L 7.328125 0  L 7.328125 8.296875  Q 12.9375 14.109375 22.625 23.890625  Q 32.328125 33.6875 34.8125 36.53125  Q 39.546875 41.84375 41.421875 45.53125  Q 43.3125 49.21875 43.3125 52.78125  Q 43.3125 58.59375 39.234375 62.25  Q 35.15625 65.921875 28.609375 65.921875  Q 23.96875 65.921875 18.8125 64.3125  Q 13.671875 62.703125 7.8125 59.421875  L 7.8125 69.390625  Q 13.765625 71.78125 18.9375 73  Q 24.125 74.21875 28.421875 74.21875  Q 39.75 74.21875 46.484375 68.546875  Q 53.21875 62.890625 53.21875 53.421875  Q 53.21875 48.921875 51.53125 44.890625  Q 49.859375 40.875 45.40625 35.40625  Q 44.1875 33.984375 37.640625 27.21875  Q 31.109375 20.453125 19.1875 8.296875  z \" id=\"DejaVuSans-50\"/>\n     <path d=\"M 72.703125 32.078125  Q 68.453125 32.078125 66.03125 28.46875  Q 63.625 24.859375 63.625 18.40625  Q 63.625 12.0625 66.03125 8.421875  Q 68.453125 4.78125 72.703125 4.78125  Q 76.859375 4.78125 79.265625 8.421875  Q 81.6875 12.0625 81.6875 18.40625  Q 81.6875 24.8125 79.265625 28.4375  Q 76.859375 32.078125 72.703125 32.078125  z M 72.703125 38.28125  Q 80.421875 38.28125 84.953125 32.90625  Q 89.5 27.546875 89.5 18.40625  Q 89.5 9.28125 84.9375 3.921875  Q 80.375 -1.421875 72.703125 -1.421875  Q 64.890625 -1.421875 60.34375 3.921875  Q 55.8125 9.28125 55.8125 18.40625  Q 55.8125 27.59375 60.375 32.9375  Q 64.9375 38.28125 72.703125 38.28125  z M 22.3125 68.015625  Q 18.109375 68.015625 15.6875 64.375  Q 13.28125 60.75 13.28125 54.390625  Q 13.28125 47.953125 15.671875 44.328125  Q 18.0625 40.71875 22.3125 40.71875  Q 26.5625 40.71875 28.96875 44.328125  Q 31.390625 47.953125 31.390625 54.390625  Q 31.390625 60.6875 28.953125 64.34375  Q 26.515625 68.015625 22.3125 68.015625  z M 66.40625 74.21875  L 74.21875 74.21875  L 28.609375 -1.421875  L 20.796875 -1.421875  z M 22.3125 74.21875  Q 30.03125 74.21875 34.609375 68.875  Q 39.203125 63.53125 39.203125 54.390625  Q 39.203125 45.171875 34.640625 39.84375  Q 30.078125 34.515625 22.3125 34.515625  Q 14.546875 34.515625 10.03125 39.859375  Q 5.515625 45.21875 5.515625 54.390625  Q 5.515625 63.484375 10.046875 68.84375  Q 14.59375 74.21875 22.3125 74.21875  z \" id=\"DejaVuSans-37\"/>\n    </defs>\n    <g transform=\"translate(90.432812 43.818437)scale(0.1 -0.1)\">\n     <use xlink:href=\"#DejaVuSans-52\"/>\n     <use x=\"63.623047\" xlink:href=\"#DejaVuSans-56\"/>\n     <use x=\"127.246094\" xlink:href=\"#DejaVuSans-46\"/>\n     <use x=\"159.033203\" xlink:href=\"#DejaVuSans-52\"/>\n     <use x=\"222.65625\" xlink:href=\"#DejaVuSans-50\"/>\n     <use x=\"286.279297\" xlink:href=\"#DejaVuSans-37\"/>\n    </g>\n   </g>\n   <g id=\"text_4\">\n    <!-- 51.58% -->\n    <defs>\n     <path d=\"M 10.796875 72.90625  L 49.515625 72.90625  L 49.515625 64.59375  L 19.828125 64.59375  L 19.828125 46.734375  Q 21.96875 47.46875 24.109375 47.828125  Q 26.265625 48.1875 28.421875 48.1875  Q 40.625 48.1875 47.75 41.5  Q 54.890625 34.8125 54.890625 23.390625  Q 54.890625 11.625 47.5625 5.09375  Q 40.234375 -1.421875 26.90625 -1.421875  Q 22.3125 -1.421875 17.546875 -0.640625  Q 12.796875 0.140625 7.71875 1.703125  L 7.71875 11.625  Q 12.109375 9.234375 16.796875 8.0625  Q 21.484375 6.890625 26.703125 6.890625  Q 35.15625 6.890625 40.078125 11.328125  Q 45.015625 15.765625 45.015625 23.390625  Q 45.015625 31 40.078125 35.4375  Q 35.15625 39.890625 26.703125 39.890625  Q 22.75 39.890625 18.8125 39.015625  Q 14.890625 38.140625 10.796875 36.28125  z \" id=\"DejaVuSans-53\"/>\n    </defs>\n    <g transform=\"translate(90.432812 28.718437)scale(0.1 -0.1)\">\n     <use xlink:href=\"#DejaVuSans-53\"/>\n     <use x=\"63.623047\" xlink:href=\"#DejaVuSans-49\"/>\n     <use x=\"127.246094\" xlink:href=\"#DejaVuSans-46\"/>\n     <use x=\"159.033203\" xlink:href=\"#DejaVuSans-53\"/>\n     <use x=\"222.65625\" xlink:href=\"#DejaVuSans-56\"/>\n     <use x=\"286.279297\" xlink:href=\"#DejaVuSans-37\"/>\n    </g>\n   </g>\n   <g id=\"text_5\">\n    <!-- r -->\n    <defs>\n     <path d=\"M 41.109375 46.296875  Q 39.59375 47.171875 37.8125 47.578125  Q 36.03125 48 33.890625 48  Q 26.265625 48 22.1875 43.046875  Q 18.109375 38.09375 18.109375 28.8125  L 18.109375 0  L 9.078125 0  L 9.078125 54.6875  L 18.109375 54.6875  L 18.109375 46.1875  Q 20.953125 51.171875 25.484375 53.578125  Q 30.03125 56 36.53125 56  Q 37.453125 56 38.578125 55.875  Q 39.703125 55.765625 41.0625 55.515625  z \" id=\"DejaVuSans-114\"/>\n    </defs>\n    <g transform=\"translate(70.295938 12.718125)scale(0.12 -0.12)\">\n     <use xlink:href=\"#DejaVuSans-114\"/>\n    </g>\n   </g>\n  </g>\n </g>\n <defs>\n  <clipPath id=\"p2771e90d67\">\n   <rect height=\"27.18\" width=\"111.6\" x=\"16.9625\" y=\"18.718125\"/>\n  </clipPath>\n </defs>\n</svg>\n\n</g>\n<!-- c&#45;&gt;r -->\n<g class=\"edge\" id=\"edge4\">\n<title>c-&gt;r</title>\n<g id=\"a_edge4\"><a xlink:title=\"(0, 2):\">\n<path d=\"M125.5789,-176.8654C132.1699,-168.407 139.9128,-158.4702 147.0468,-149.3149\" fill=\"none\" stroke=\"#4a4a4a\"/>\n<polygon fill=\"#4a4a4a\" points=\"149.991,-151.2309 153.3767,-141.1915 144.4694,-146.9283 149.991,-151.2309\" stroke=\"#4a4a4a\"/>\n</a>\n</g>\n</g>\n<!-- w -->\n<g class=\"node\" id=\"node4\">\n<title>w</title>\n<polygon fill=\"#ffffff\" points=\"160,-64 59,-64 59,-23 160,-23 160,-64\" stroke=\"#000000\"/>\n<svg height=\"41px\" preserveAspectRatio=\"xMinYMin meet\" viewBox=\"0 0 132.1625 52.998125\" width=\"101px\" x=\"59\" y=\"-64\"> <defs>\n  <style type=\"text/css\">\n*{stroke-linecap:butt;stroke-linejoin:round;}\n  </style>\n </defs>\n <g id=\"figure_1\">\n  <g id=\"patch_1\">\n   <path d=\"M 0 52.998125  L 132.1625 52.998125  L 132.1625 0  L 0 0  z \" style=\"fill:none;\"/>\n  </g>\n  <g id=\"axes_1\">\n   <g id=\"patch_2\">\n    <path d=\"M 16.9625 45.898125  L 128.5625 45.898125  L 128.5625 18.718125  L 16.9625 18.718125  z \" style=\"fill:none;\"/>\n   </g>\n   <g id=\"patch_3\">\n    <path clip-path=\"url(#pe5ae9bbce4)\" d=\"M 16.9625 45.898125  L 122.265911 45.898125  L 122.265911 33.818125  L 16.9625 33.818125  z \" style=\"fill:#8fbc8f;\"/>\n   </g>\n   <g id=\"patch_4\">\n    <path clip-path=\"url(#pe5ae9bbce4)\" d=\"M 16.9625 30.798125  L 23.259089 30.798125  L 23.259089 18.718125  L 16.9625 18.718125  z \" style=\"fill:#8fbc8f;\"/>\n   </g>\n   <g id=\"matplotlib.axis_1\">\n    <g id=\"xtick_1\">\n     <g id=\"line2d_1\">\n      <path clip-path=\"url(#pe5ae9bbce4)\" d=\"M 16.9625 45.898125  L 16.9625 18.718125  \" style=\"fill:none;stroke:#b0b0b0;stroke-linecap:square;stroke-width:0.8;\"/>\n     </g>\n     <g id=\"line2d_2\">\n      <defs>\n       <path d=\"M 0 0  L 0 3.5  \" id=\"mfb093eaf94\" style=\"stroke:#000000;stroke-width:0.8;\"/>\n      </defs>\n      <g>\n       <use style=\"stroke:#000000;stroke-width:0.8;\" x=\"16.9625\" xlink:href=\"#mfb093eaf94\" y=\"45.898125\"/>\n      </g>\n     </g>\n    </g>\n    <g id=\"xtick_2\">\n     <g id=\"line2d_3\">\n      <path clip-path=\"url(#pe5ae9bbce4)\" d=\"M 72.7625 45.898125  L 72.7625 18.718125  \" style=\"fill:none;stroke:#b0b0b0;stroke-linecap:square;stroke-width:0.8;\"/>\n     </g>\n     <g id=\"line2d_4\">\n      <g>\n       <use style=\"stroke:#000000;stroke-width:0.8;\" x=\"72.7625\" xlink:href=\"#mfb093eaf94\" y=\"45.898125\"/>\n      </g>\n     </g>\n    </g>\n    <g id=\"xtick_3\">\n     <g id=\"line2d_5\">\n      <path clip-path=\"url(#pe5ae9bbce4)\" d=\"M 128.5625 45.898125  L 128.5625 18.718125  \" style=\"fill:none;stroke:#b0b0b0;stroke-linecap:square;stroke-width:0.8;\"/>\n     </g>\n     <g id=\"line2d_6\">\n      <g>\n       <use style=\"stroke:#000000;stroke-width:0.8;\" x=\"128.5625\" xlink:href=\"#mfb093eaf94\" y=\"45.898125\"/>\n      </g>\n     </g>\n    </g>\n   </g>\n   <g id=\"matplotlib.axis_2\">\n    <g id=\"ytick_1\">\n     <g id=\"line2d_7\">\n      <defs>\n       <path d=\"M 0 0  L -3.5 0  \" id=\"mc32cbea966\" style=\"stroke:#000000;stroke-width:0.8;\"/>\n      </defs>\n      <g>\n       <use style=\"stroke:#000000;stroke-width:0.8;\" x=\"16.9625\" xlink:href=\"#mc32cbea966\" y=\"39.858125\"/>\n      </g>\n     </g>\n     <g id=\"text_1\">\n      <!-- 1 -->\n      <defs>\n       <path d=\"M 12.40625 8.296875  L 28.515625 8.296875  L 28.515625 63.921875  L 10.984375 60.40625  L 10.984375 69.390625  L 28.421875 72.90625  L 38.28125 72.90625  L 38.28125 8.296875  L 54.390625 8.296875  L 54.390625 0  L 12.40625 0  z \" id=\"DejaVuSans-49\"/>\n      </defs>\n      <g transform=\"translate(3.6 43.657344)scale(0.1 -0.1)\">\n       <use xlink:href=\"#DejaVuSans-49\"/>\n      </g>\n     </g>\n    </g>\n    <g id=\"ytick_2\">\n     <g id=\"line2d_8\">\n      <g>\n       <use style=\"stroke:#000000;stroke-width:0.8;\" x=\"16.9625\" xlink:href=\"#mc32cbea966\" y=\"24.758125\"/>\n      </g>\n     </g>\n     <g id=\"text_2\">\n      <!-- 0 -->\n      <defs>\n       <path d=\"M 31.78125 66.40625  Q 24.171875 66.40625 20.328125 58.90625  Q 16.5 51.421875 16.5 36.375  Q 16.5 21.390625 20.328125 13.890625  Q 24.171875 6.390625 31.78125 6.390625  Q 39.453125 6.390625 43.28125 13.890625  Q 47.125 21.390625 47.125 36.375  Q 47.125 51.421875 43.28125 58.90625  Q 39.453125 66.40625 31.78125 66.40625  z M 31.78125 74.21875  Q 44.046875 74.21875 50.515625 64.515625  Q 56.984375 54.828125 56.984375 36.375  Q 56.984375 17.96875 50.515625 8.265625  Q 44.046875 -1.421875 31.78125 -1.421875  Q 19.53125 -1.421875 13.0625 8.265625  Q 6.59375 17.96875 6.59375 36.375  Q 6.59375 54.828125 13.0625 64.515625  Q 19.53125 74.21875 31.78125 74.21875  z \" id=\"DejaVuSans-48\"/>\n      </defs>\n      <g transform=\"translate(3.6 28.557344)scale(0.1 -0.1)\">\n       <use xlink:href=\"#DejaVuSans-48\"/>\n      </g>\n     </g>\n    </g>\n   </g>\n   <g id=\"patch_5\">\n    <path d=\"M 16.9625 45.898125  L 16.9625 18.718125  \" style=\"fill:none;stroke:#000000;stroke-linecap:square;stroke-linejoin:miter;stroke-width:0.8;\"/>\n   </g>\n   <g id=\"patch_6\">\n    <path d=\"M 128.5625 45.898125  L 128.5625 18.718125  \" style=\"fill:none;stroke:#000000;stroke-linecap:square;stroke-linejoin:miter;stroke-width:0.8;\"/>\n   </g>\n   <g id=\"patch_7\">\n    <path d=\"M 16.9625 45.898125  L 128.5625 45.898125  \" style=\"fill:none;stroke:#000000;stroke-linecap:square;stroke-linejoin:miter;stroke-width:0.8;\"/>\n   </g>\n   <g id=\"patch_8\">\n    <path d=\"M 16.9625 18.718125  L 128.5625 18.718125  \" style=\"fill:none;stroke:#000000;stroke-linecap:square;stroke-linejoin:miter;stroke-width:0.8;\"/>\n   </g>\n   <g id=\"text_3\">\n    <!-- 94.36% -->\n    <defs>\n     <path d=\"M 10.984375 1.515625  L 10.984375 10.5  Q 14.703125 8.734375 18.5 7.8125  Q 22.3125 6.890625 25.984375 6.890625  Q 35.75 6.890625 40.890625 13.453125  Q 46.046875 20.015625 46.78125 33.40625  Q 43.953125 29.203125 39.59375 26.953125  Q 35.25 24.703125 29.984375 24.703125  Q 19.046875 24.703125 12.671875 31.3125  Q 6.296875 37.9375 6.296875 49.421875  Q 6.296875 60.640625 12.9375 67.421875  Q 19.578125 74.21875 30.609375 74.21875  Q 43.265625 74.21875 49.921875 64.515625  Q 56.59375 54.828125 56.59375 36.375  Q 56.59375 19.140625 48.40625 8.859375  Q 40.234375 -1.421875 26.421875 -1.421875  Q 22.703125 -1.421875 18.890625 -0.6875  Q 15.09375 0.046875 10.984375 1.515625  z M 30.609375 32.421875  Q 37.25 32.421875 41.125 36.953125  Q 45.015625 41.5 45.015625 49.421875  Q 45.015625 57.28125 41.125 61.84375  Q 37.25 66.40625 30.609375 66.40625  Q 23.96875 66.40625 20.09375 61.84375  Q 16.21875 57.28125 16.21875 49.421875  Q 16.21875 41.5 20.09375 36.953125  Q 23.96875 32.421875 30.609375 32.421875  z \" id=\"DejaVuSans-57\"/>\n     <path d=\"M 37.796875 64.3125  L 12.890625 25.390625  L 37.796875 25.390625  z M 35.203125 72.90625  L 47.609375 72.90625  L 47.609375 25.390625  L 58.015625 25.390625  L 58.015625 17.1875  L 47.609375 17.1875  L 47.609375 0  L 37.796875 0  L 37.796875 17.1875  L 4.890625 17.1875  L 4.890625 26.703125  z \" id=\"DejaVuSans-52\"/>\n     <path d=\"M 10.6875 12.40625  L 21 12.40625  L 21 0  L 10.6875 0  z \" id=\"DejaVuSans-46\"/>\n     <path d=\"M 40.578125 39.3125  Q 47.65625 37.796875 51.625 33  Q 55.609375 28.21875 55.609375 21.1875  Q 55.609375 10.40625 48.1875 4.484375  Q 40.765625 -1.421875 27.09375 -1.421875  Q 22.515625 -1.421875 17.65625 -0.515625  Q 12.796875 0.390625 7.625 2.203125  L 7.625 11.71875  Q 11.71875 9.328125 16.59375 8.109375  Q 21.484375 6.890625 26.8125 6.890625  Q 36.078125 6.890625 40.9375 10.546875  Q 45.796875 14.203125 45.796875 21.1875  Q 45.796875 27.640625 41.28125 31.265625  Q 36.765625 34.90625 28.71875 34.90625  L 20.21875 34.90625  L 20.21875 43.015625  L 29.109375 43.015625  Q 36.375 43.015625 40.234375 45.921875  Q 44.09375 48.828125 44.09375 54.296875  Q 44.09375 59.90625 40.109375 62.90625  Q 36.140625 65.921875 28.71875 65.921875  Q 24.65625 65.921875 20.015625 65.03125  Q 15.375 64.15625 9.8125 62.3125  L 9.8125 71.09375  Q 15.4375 72.65625 20.34375 73.4375  Q 25.25 74.21875 29.59375 74.21875  Q 40.828125 74.21875 47.359375 69.109375  Q 53.90625 64.015625 53.90625 55.328125  Q 53.90625 49.265625 50.4375 45.09375  Q 46.96875 40.921875 40.578125 39.3125  z \" id=\"DejaVuSans-51\"/>\n     <path d=\"M 33.015625 40.375  Q 26.375 40.375 22.484375 35.828125  Q 18.609375 31.296875 18.609375 23.390625  Q 18.609375 15.53125 22.484375 10.953125  Q 26.375 6.390625 33.015625 6.390625  Q 39.65625 6.390625 43.53125 10.953125  Q 47.40625 15.53125 47.40625 23.390625  Q 47.40625 31.296875 43.53125 35.828125  Q 39.65625 40.375 33.015625 40.375  z M 52.59375 71.296875  L 52.59375 62.3125  Q 48.875 64.0625 45.09375 64.984375  Q 41.3125 65.921875 37.59375 65.921875  Q 27.828125 65.921875 22.671875 59.328125  Q 17.53125 52.734375 16.796875 39.40625  Q 19.671875 43.65625 24.015625 45.921875  Q 28.375 48.1875 33.59375 48.1875  Q 44.578125 48.1875 50.953125 41.515625  Q 57.328125 34.859375 57.328125 23.390625  Q 57.328125 12.15625 50.6875 5.359375  Q 44.046875 -1.421875 33.015625 -1.421875  Q 20.359375 -1.421875 13.671875 8.265625  Q 6.984375 17.96875 6.984375 36.375  Q 6.984375 53.65625 15.1875 63.9375  Q 23.390625 74.21875 37.203125 74.21875  Q 40.921875 74.21875 44.703125 73.484375  Q 48.484375 72.75 52.59375 71.296875  z \" id=\"DejaVuSans-54\"/>\n     <path d=\"M 72.703125 32.078125  Q 68.453125 32.078125 66.03125 28.46875  Q 63.625 24.859375 63.625 18.40625  Q 63.625 12.0625 66.03125 8.421875  Q 68.453125 4.78125 72.703125 4.78125  Q 76.859375 4.78125 79.265625 8.421875  Q 81.6875 12.0625 81.6875 18.40625  Q 81.6875 24.8125 79.265625 28.4375  Q 76.859375 32.078125 72.703125 32.078125  z M 72.703125 38.28125  Q 80.421875 38.28125 84.953125 32.90625  Q 89.5 27.546875 89.5 18.40625  Q 89.5 9.28125 84.9375 3.921875  Q 80.375 -1.421875 72.703125 -1.421875  Q 64.890625 -1.421875 60.34375 3.921875  Q 55.8125 9.28125 55.8125 18.40625  Q 55.8125 27.59375 60.375 32.9375  Q 64.9375 38.28125 72.703125 38.28125  z M 22.3125 68.015625  Q 18.109375 68.015625 15.6875 64.375  Q 13.28125 60.75 13.28125 54.390625  Q 13.28125 47.953125 15.671875 44.328125  Q 18.0625 40.71875 22.3125 40.71875  Q 26.5625 40.71875 28.96875 44.328125  Q 31.390625 47.953125 31.390625 54.390625  Q 31.390625 60.6875 28.953125 64.34375  Q 26.515625 68.015625 22.3125 68.015625  z M 66.40625 74.21875  L 74.21875 74.21875  L 28.609375 -1.421875  L 20.796875 -1.421875  z M 22.3125 74.21875  Q 30.03125 74.21875 34.609375 68.875  Q 39.203125 63.53125 39.203125 54.390625  Q 39.203125 45.171875 34.640625 39.84375  Q 30.078125 34.515625 22.3125 34.515625  Q 14.546875 34.515625 10.03125 39.859375  Q 5.515625 45.21875 5.515625 54.390625  Q 5.515625 63.484375 10.046875 68.84375  Q 14.59375 74.21875 22.3125 74.21875  z \" id=\"DejaVuSans-37\"/>\n    </defs>\n    <g transform=\"translate(90.432812 43.818437)scale(0.1 -0.1)\">\n     <use xlink:href=\"#DejaVuSans-57\"/>\n     <use x=\"63.623047\" xlink:href=\"#DejaVuSans-52\"/>\n     <use x=\"127.246094\" xlink:href=\"#DejaVuSans-46\"/>\n     <use x=\"159.033203\" xlink:href=\"#DejaVuSans-51\"/>\n     <use x=\"222.65625\" xlink:href=\"#DejaVuSans-54\"/>\n     <use x=\"286.279297\" xlink:href=\"#DejaVuSans-37\"/>\n    </g>\n   </g>\n   <g id=\"text_4\">\n    <!-- 5.64% -->\n    <defs>\n     <path d=\"M 10.796875 72.90625  L 49.515625 72.90625  L 49.515625 64.59375  L 19.828125 64.59375  L 19.828125 46.734375  Q 21.96875 47.46875 24.109375 47.828125  Q 26.265625 48.1875 28.421875 48.1875  Q 40.625 48.1875 47.75 41.5  Q 54.890625 34.8125 54.890625 23.390625  Q 54.890625 11.625 47.5625 5.09375  Q 40.234375 -1.421875 26.90625 -1.421875  Q 22.3125 -1.421875 17.546875 -0.640625  Q 12.796875 0.140625 7.71875 1.703125  L 7.71875 11.625  Q 12.109375 9.234375 16.796875 8.0625  Q 21.484375 6.890625 26.703125 6.890625  Q 35.15625 6.890625 40.078125 11.328125  Q 45.015625 15.765625 45.015625 23.390625  Q 45.015625 31 40.078125 35.4375  Q 35.15625 39.890625 26.703125 39.890625  Q 22.75 39.890625 18.8125 39.015625  Q 14.890625 38.140625 10.796875 36.28125  z \" id=\"DejaVuSans-53\"/>\n    </defs>\n    <g transform=\"translate(96.795312 28.718437)scale(0.1 -0.1)\">\n     <use xlink:href=\"#DejaVuSans-53\"/>\n     <use x=\"63.623047\" xlink:href=\"#DejaVuSans-46\"/>\n     <use x=\"95.410156\" xlink:href=\"#DejaVuSans-54\"/>\n     <use x=\"159.033203\" xlink:href=\"#DejaVuSans-52\"/>\n     <use x=\"222.65625\" xlink:href=\"#DejaVuSans-37\"/>\n    </g>\n   </g>\n   <g id=\"text_5\">\n    <!-- w -->\n    <defs>\n     <path d=\"M 4.203125 54.6875  L 13.1875 54.6875  L 24.421875 12.015625  L 35.59375 54.6875  L 46.1875 54.6875  L 57.421875 12.015625  L 68.609375 54.6875  L 77.59375 54.6875  L 63.28125 0  L 52.6875 0  L 40.921875 44.828125  L 29.109375 0  L 18.5 0  z \" id=\"DejaVuSans-119\"/>\n    </defs>\n    <g transform=\"translate(67.855625 12.718125)scale(0.12 -0.12)\">\n     <use xlink:href=\"#DejaVuSans-119\"/>\n    </g>\n   </g>\n  </g>\n </g>\n <defs>\n  <clipPath id=\"pe5ae9bbce4\">\n   <rect height=\"27.18\" width=\"111.6\" x=\"16.9625\" y=\"18.718125\"/>\n  </clipPath>\n </defs>\n</svg>\n\n</g>\n<!-- s&#45;&gt;w -->\n<g class=\"edge\" id=\"edge2\">\n<title>s-&gt;w</title>\n<g id=\"a_edge2\"><a xlink:title=\"(1, 3):\">\n<path d=\"M66.3109,-99.8654C72.7921,-91.407 80.4059,-81.4702 87.421,-72.3149\" fill=\"none\" stroke=\"#4a4a4a\"/>\n<polygon fill=\"#4a4a4a\" points=\"90.3415,-74.2581 93.6454,-64.1915 84.785,-70.0005 90.3415,-74.2581\" stroke=\"#4a4a4a\"/>\n</a>\n</g>\n</g>\n<!-- r&#45;&gt;w -->\n<g class=\"edge\" id=\"edge3\">\n<title>r-&gt;w</title>\n<g id=\"a_edge3\"><a xlink:title=\"(2, 3):\">\n<path d=\"M153.4211,-99.8654C146.8301,-91.407 139.0872,-81.4702 131.9532,-72.3149\" fill=\"none\" stroke=\"#4a4a4a\"/>\n<polygon fill=\"#4a4a4a\" points=\"134.5306,-69.9283 125.6233,-64.1915 129.009,-74.2309 134.5306,-69.9283\" stroke=\"#4a4a4a\"/>\n</a>\n</g>\n</g>\n</g>\n</svg>"
          },
          "metadata": {
            "tags": []
          }
        }
      ]
    },
    {
      "cell_type": "code",
      "metadata": {
        "id": "8xWtO5td81WN",
        "colab_type": "code",
        "outputId": "1c5b05aa-8581-4904-c2a7-f7e81422f0e2",
        "colab": {
          "base_uri": "https://localhost:8080/",
          "height": 316
        }
      },
      "source": [
        "gnb.showInference(bn,evs={'c':[0.3,0.9]},targets={'c','w'})"
      ],
      "execution_count": 0,
      "outputs": [
        {
          "output_type": "display_data",
          "data": {
            "text/plain": [
              "<IPython.core.display.SVG object>"
            ],
            "image/svg+xml": "<svg height=\"221pt\" viewBox=\"0.00 0.00 146.00 221.00\" width=\"146pt\" xmlns=\"http://www.w3.org/2000/svg\" xmlns:xlink=\"http://www.w3.org/1999/xlink\">\n<g class=\"graph\" id=\"graph0\" transform=\"scale(1 1) rotate(0) translate(4 217)\">\n<title>structs</title>\n<text fill=\"#4a4a4a\" font-family=\"Times,serif\" font-size=\"14.00\" text-anchor=\"middle\" x=\"69\" y=\"-7.8\">Inference in   0.65ms</text>\n<!-- c -->\n<g class=\"node\" id=\"node1\">\n<title>c</title>\n<polygon fill=\"#f4a460\" points=\"119.5,-213 18.5,-213 18.5,-172 119.5,-172 119.5,-213\" stroke=\"#000000\"/>\n<svg height=\"41px\" preserveAspectRatio=\"xMinYMin meet\" viewBox=\"0 0 132.1625 52.998125\" width=\"101px\" x=\"18.5\" y=\"-213\"> <defs>\n  <style type=\"text/css\">\n*{stroke-linecap:butt;stroke-linejoin:round;}\n  </style>\n </defs>\n <g id=\"figure_1\">\n  <g id=\"patch_1\">\n   <path d=\"M 0 52.998125  L 132.1625 52.998125  L 132.1625 0  L 0 0  z \" style=\"fill:none;\"/>\n  </g>\n  <g id=\"axes_1\">\n   <g id=\"patch_2\">\n    <path d=\"M 16.9625 45.898125  L 128.5625 45.898125  L 128.5625 18.718125  L 16.9625 18.718125  z \" style=\"fill:none;\"/>\n   </g>\n   <g id=\"patch_3\">\n    <path clip-path=\"url(#pabd5d3a295)\" d=\"M 16.9625 45.898125  L 108.271591 45.898125  L 108.271591 33.818125  L 16.9625 33.818125  z \" style=\"fill:#8fbc8f;\"/>\n   </g>\n   <g id=\"patch_4\">\n    <path clip-path=\"url(#pabd5d3a295)\" d=\"M 16.9625 30.798125  L 37.253409 30.798125  L 37.253409 18.718125  L 16.9625 18.718125  z \" style=\"fill:#8fbc8f;\"/>\n   </g>\n   <g id=\"matplotlib.axis_1\">\n    <g id=\"xtick_1\">\n     <g id=\"line2d_1\">\n      <path clip-path=\"url(#pabd5d3a295)\" d=\"M 16.9625 45.898125  L 16.9625 18.718125  \" style=\"fill:none;stroke:#b0b0b0;stroke-linecap:square;stroke-width:0.8;\"/>\n     </g>\n     <g id=\"line2d_2\">\n      <defs>\n       <path d=\"M 0 0  L 0 3.5  \" id=\"me44aed95bb\" style=\"stroke:#000000;stroke-width:0.8;\"/>\n      </defs>\n      <g>\n       <use style=\"stroke:#000000;stroke-width:0.8;\" x=\"16.9625\" xlink:href=\"#me44aed95bb\" y=\"45.898125\"/>\n      </g>\n     </g>\n    </g>\n    <g id=\"xtick_2\">\n     <g id=\"line2d_3\">\n      <path clip-path=\"url(#pabd5d3a295)\" d=\"M 72.7625 45.898125  L 72.7625 18.718125  \" style=\"fill:none;stroke:#b0b0b0;stroke-linecap:square;stroke-width:0.8;\"/>\n     </g>\n     <g id=\"line2d_4\">\n      <g>\n       <use style=\"stroke:#000000;stroke-width:0.8;\" x=\"72.7625\" xlink:href=\"#me44aed95bb\" y=\"45.898125\"/>\n      </g>\n     </g>\n    </g>\n    <g id=\"xtick_3\">\n     <g id=\"line2d_5\">\n      <path clip-path=\"url(#pabd5d3a295)\" d=\"M 128.5625 45.898125  L 128.5625 18.718125  \" style=\"fill:none;stroke:#b0b0b0;stroke-linecap:square;stroke-width:0.8;\"/>\n     </g>\n     <g id=\"line2d_6\">\n      <g>\n       <use style=\"stroke:#000000;stroke-width:0.8;\" x=\"128.5625\" xlink:href=\"#me44aed95bb\" y=\"45.898125\"/>\n      </g>\n     </g>\n    </g>\n   </g>\n   <g id=\"matplotlib.axis_2\">\n    <g id=\"ytick_1\">\n     <g id=\"line2d_7\">\n      <defs>\n       <path d=\"M 0 0  L -3.5 0  \" id=\"ma8efff98ec\" style=\"stroke:#000000;stroke-width:0.8;\"/>\n      </defs>\n      <g>\n       <use style=\"stroke:#000000;stroke-width:0.8;\" x=\"16.9625\" xlink:href=\"#ma8efff98ec\" y=\"39.858125\"/>\n      </g>\n     </g>\n     <g id=\"text_1\">\n      <!-- 1 -->\n      <defs>\n       <path d=\"M 12.40625 8.296875  L 28.515625 8.296875  L 28.515625 63.921875  L 10.984375 60.40625  L 10.984375 69.390625  L 28.421875 72.90625  L 38.28125 72.90625  L 38.28125 8.296875  L 54.390625 8.296875  L 54.390625 0  L 12.40625 0  z \" id=\"DejaVuSans-49\"/>\n      </defs>\n      <g transform=\"translate(3.6 43.657344)scale(0.1 -0.1)\">\n       <use xlink:href=\"#DejaVuSans-49\"/>\n      </g>\n     </g>\n    </g>\n    <g id=\"ytick_2\">\n     <g id=\"line2d_8\">\n      <g>\n       <use style=\"stroke:#000000;stroke-width:0.8;\" x=\"16.9625\" xlink:href=\"#ma8efff98ec\" y=\"24.758125\"/>\n      </g>\n     </g>\n     <g id=\"text_2\">\n      <!-- 0 -->\n      <defs>\n       <path d=\"M 31.78125 66.40625  Q 24.171875 66.40625 20.328125 58.90625  Q 16.5 51.421875 16.5 36.375  Q 16.5 21.390625 20.328125 13.890625  Q 24.171875 6.390625 31.78125 6.390625  Q 39.453125 6.390625 43.28125 13.890625  Q 47.125 21.390625 47.125 36.375  Q 47.125 51.421875 43.28125 58.90625  Q 39.453125 66.40625 31.78125 66.40625  z M 31.78125 74.21875  Q 44.046875 74.21875 50.515625 64.515625  Q 56.984375 54.828125 56.984375 36.375  Q 56.984375 17.96875 50.515625 8.265625  Q 44.046875 -1.421875 31.78125 -1.421875  Q 19.53125 -1.421875 13.0625 8.265625  Q 6.59375 17.96875 6.59375 36.375  Q 6.59375 54.828125 13.0625 64.515625  Q 19.53125 74.21875 31.78125 74.21875  z \" id=\"DejaVuSans-48\"/>\n      </defs>\n      <g transform=\"translate(3.6 28.557344)scale(0.1 -0.1)\">\n       <use xlink:href=\"#DejaVuSans-48\"/>\n      </g>\n     </g>\n    </g>\n   </g>\n   <g id=\"patch_5\">\n    <path d=\"M 16.9625 45.898125  L 16.9625 18.718125  \" style=\"fill:none;stroke:#000000;stroke-linecap:square;stroke-linejoin:miter;stroke-width:0.8;\"/>\n   </g>\n   <g id=\"patch_6\">\n    <path d=\"M 128.5625 45.898125  L 128.5625 18.718125  \" style=\"fill:none;stroke:#000000;stroke-linecap:square;stroke-linejoin:miter;stroke-width:0.8;\"/>\n   </g>\n   <g id=\"patch_7\">\n    <path d=\"M 16.9625 45.898125  L 128.5625 45.898125  \" style=\"fill:none;stroke:#000000;stroke-linecap:square;stroke-linejoin:miter;stroke-width:0.8;\"/>\n   </g>\n   <g id=\"patch_8\">\n    <path d=\"M 16.9625 18.718125  L 128.5625 18.718125  \" style=\"fill:none;stroke:#000000;stroke-linecap:square;stroke-linejoin:miter;stroke-width:0.8;\"/>\n   </g>\n   <g id=\"text_3\">\n    <!-- 81.82% -->\n    <defs>\n     <path d=\"M 31.78125 34.625  Q 24.75 34.625 20.71875 30.859375  Q 16.703125 27.09375 16.703125 20.515625  Q 16.703125 13.921875 20.71875 10.15625  Q 24.75 6.390625 31.78125 6.390625  Q 38.8125 6.390625 42.859375 10.171875  Q 46.921875 13.96875 46.921875 20.515625  Q 46.921875 27.09375 42.890625 30.859375  Q 38.875 34.625 31.78125 34.625  z M 21.921875 38.8125  Q 15.578125 40.375 12.03125 44.71875  Q 8.5 49.078125 8.5 55.328125  Q 8.5 64.0625 14.71875 69.140625  Q 20.953125 74.21875 31.78125 74.21875  Q 42.671875 74.21875 48.875 69.140625  Q 55.078125 64.0625 55.078125 55.328125  Q 55.078125 49.078125 51.53125 44.71875  Q 48 40.375 41.703125 38.8125  Q 48.828125 37.15625 52.796875 32.3125  Q 56.78125 27.484375 56.78125 20.515625  Q 56.78125 9.90625 50.3125 4.234375  Q 43.84375 -1.421875 31.78125 -1.421875  Q 19.734375 -1.421875 13.25 4.234375  Q 6.78125 9.90625 6.78125 20.515625  Q 6.78125 27.484375 10.78125 32.3125  Q 14.796875 37.15625 21.921875 38.8125  z M 18.3125 54.390625  Q 18.3125 48.734375 21.84375 45.5625  Q 25.390625 42.390625 31.78125 42.390625  Q 38.140625 42.390625 41.71875 45.5625  Q 45.3125 48.734375 45.3125 54.390625  Q 45.3125 60.0625 41.71875 63.234375  Q 38.140625 66.40625 31.78125 66.40625  Q 25.390625 66.40625 21.84375 63.234375  Q 18.3125 60.0625 18.3125 54.390625  z \" id=\"DejaVuSans-56\"/>\n     <path d=\"M 10.6875 12.40625  L 21 12.40625  L 21 0  L 10.6875 0  z \" id=\"DejaVuSans-46\"/>\n     <path d=\"M 19.1875 8.296875  L 53.609375 8.296875  L 53.609375 0  L 7.328125 0  L 7.328125 8.296875  Q 12.9375 14.109375 22.625 23.890625  Q 32.328125 33.6875 34.8125 36.53125  Q 39.546875 41.84375 41.421875 45.53125  Q 43.3125 49.21875 43.3125 52.78125  Q 43.3125 58.59375 39.234375 62.25  Q 35.15625 65.921875 28.609375 65.921875  Q 23.96875 65.921875 18.8125 64.3125  Q 13.671875 62.703125 7.8125 59.421875  L 7.8125 69.390625  Q 13.765625 71.78125 18.9375 73  Q 24.125 74.21875 28.421875 74.21875  Q 39.75 74.21875 46.484375 68.546875  Q 53.21875 62.890625 53.21875 53.421875  Q 53.21875 48.921875 51.53125 44.890625  Q 49.859375 40.875 45.40625 35.40625  Q 44.1875 33.984375 37.640625 27.21875  Q 31.109375 20.453125 19.1875 8.296875  z \" id=\"DejaVuSans-50\"/>\n     <path d=\"M 72.703125 32.078125  Q 68.453125 32.078125 66.03125 28.46875  Q 63.625 24.859375 63.625 18.40625  Q 63.625 12.0625 66.03125 8.421875  Q 68.453125 4.78125 72.703125 4.78125  Q 76.859375 4.78125 79.265625 8.421875  Q 81.6875 12.0625 81.6875 18.40625  Q 81.6875 24.8125 79.265625 28.4375  Q 76.859375 32.078125 72.703125 32.078125  z M 72.703125 38.28125  Q 80.421875 38.28125 84.953125 32.90625  Q 89.5 27.546875 89.5 18.40625  Q 89.5 9.28125 84.9375 3.921875  Q 80.375 -1.421875 72.703125 -1.421875  Q 64.890625 -1.421875 60.34375 3.921875  Q 55.8125 9.28125 55.8125 18.40625  Q 55.8125 27.59375 60.375 32.9375  Q 64.9375 38.28125 72.703125 38.28125  z M 22.3125 68.015625  Q 18.109375 68.015625 15.6875 64.375  Q 13.28125 60.75 13.28125 54.390625  Q 13.28125 47.953125 15.671875 44.328125  Q 18.0625 40.71875 22.3125 40.71875  Q 26.5625 40.71875 28.96875 44.328125  Q 31.390625 47.953125 31.390625 54.390625  Q 31.390625 60.6875 28.953125 64.34375  Q 26.515625 68.015625 22.3125 68.015625  z M 66.40625 74.21875  L 74.21875 74.21875  L 28.609375 -1.421875  L 20.796875 -1.421875  z M 22.3125 74.21875  Q 30.03125 74.21875 34.609375 68.875  Q 39.203125 63.53125 39.203125 54.390625  Q 39.203125 45.171875 34.640625 39.84375  Q 30.078125 34.515625 22.3125 34.515625  Q 14.546875 34.515625 10.03125 39.859375  Q 5.515625 45.21875 5.515625 54.390625  Q 5.515625 63.484375 10.046875 68.84375  Q 14.59375 74.21875 22.3125 74.21875  z \" id=\"DejaVuSans-37\"/>\n    </defs>\n    <g transform=\"translate(90.432812 43.818437)scale(0.1 -0.1)\">\n     <use xlink:href=\"#DejaVuSans-56\"/>\n     <use x=\"63.623047\" xlink:href=\"#DejaVuSans-49\"/>\n     <use x=\"127.246094\" xlink:href=\"#DejaVuSans-46\"/>\n     <use x=\"159.033203\" xlink:href=\"#DejaVuSans-56\"/>\n     <use x=\"222.65625\" xlink:href=\"#DejaVuSans-50\"/>\n     <use x=\"286.279297\" xlink:href=\"#DejaVuSans-37\"/>\n    </g>\n   </g>\n   <g id=\"text_4\">\n    <!-- 18.18% -->\n    <g transform=\"translate(90.432812 28.718437)scale(0.1 -0.1)\">\n     <use xlink:href=\"#DejaVuSans-49\"/>\n     <use x=\"63.623047\" xlink:href=\"#DejaVuSans-56\"/>\n     <use x=\"127.246094\" xlink:href=\"#DejaVuSans-46\"/>\n     <use x=\"159.033203\" xlink:href=\"#DejaVuSans-49\"/>\n     <use x=\"222.65625\" xlink:href=\"#DejaVuSans-56\"/>\n     <use x=\"286.279297\" xlink:href=\"#DejaVuSans-37\"/>\n    </g>\n   </g>\n   <g id=\"text_5\">\n    <!-- c -->\n    <defs>\n     <path d=\"M 48.78125 52.59375  L 48.78125 44.1875  Q 44.96875 46.296875 41.140625 47.34375  Q 37.3125 48.390625 33.40625 48.390625  Q 24.65625 48.390625 19.8125 42.84375  Q 14.984375 37.3125 14.984375 27.296875  Q 14.984375 17.28125 19.8125 11.734375  Q 24.65625 6.203125 33.40625 6.203125  Q 37.3125 6.203125 41.140625 7.25  Q 44.96875 8.296875 48.78125 10.40625  L 48.78125 2.09375  Q 45.015625 0.34375 40.984375 -0.53125  Q 36.96875 -1.421875 32.421875 -1.421875  Q 20.0625 -1.421875 12.78125 6.34375  Q 5.515625 14.109375 5.515625 27.296875  Q 5.515625 40.671875 12.859375 48.328125  Q 20.21875 56 33.015625 56  Q 37.15625 56 41.109375 55.140625  Q 45.0625 54.296875 48.78125 52.59375  z \" id=\"DejaVuSans-99\"/>\n    </defs>\n    <g transform=\"translate(69.463437 12.718125)scale(0.12 -0.12)\">\n     <use xlink:href=\"#DejaVuSans-99\"/>\n    </g>\n   </g>\n  </g>\n </g>\n <defs>\n  <clipPath id=\"pabd5d3a295\">\n   <rect height=\"27.18\" width=\"111.6\" x=\"16.9625\" y=\"18.718125\"/>\n  </clipPath>\n </defs>\n</svg>\n\n</g>\n<!-- s -->\n<g class=\"node\" id=\"node2\">\n<title>s</title>\n<ellipse cx=\"33\" cy=\"-118\" fill=\"#404040\" rx=\"27\" ry=\"18\" stroke=\"#000000\"/>\n<text fill=\"#ffffff\" font-family=\"Times,serif\" font-size=\"14.00\" text-anchor=\"middle\" x=\"33\" y=\"-114.3\">s</text>\n</g>\n<!-- c&#45;&gt;s -->\n<g class=\"edge\" id=\"edge1\">\n<title>c-&gt;s</title>\n<g id=\"a_edge1\"><a xlink:title=\"(0, 1):\">\n<path d=\"M58.972,-171.7476C54.9384,-163.4004 50.2356,-153.6681 45.9487,-144.7966\" fill=\"none\" stroke=\"#4a4a4a\"/>\n<polygon fill=\"#4a4a4a\" points=\"49.0138,-143.0952 41.5115,-135.6142 42.7111,-146.1409 49.0138,-143.0952\" stroke=\"#4a4a4a\"/>\n</a>\n</g>\n</g>\n<!-- r -->\n<g class=\"node\" id=\"node3\">\n<title>r</title>\n<ellipse cx=\"105\" cy=\"-118\" fill=\"#404040\" rx=\"27\" ry=\"18\" stroke=\"#000000\"/>\n<text fill=\"#ffffff\" font-family=\"Times,serif\" font-size=\"14.00\" text-anchor=\"middle\" x=\"105\" y=\"-114.3\">r</text>\n</g>\n<!-- c&#45;&gt;r -->\n<g class=\"edge\" id=\"edge4\">\n<title>c-&gt;r</title>\n<g id=\"a_edge4\"><a xlink:title=\"(0, 2):\">\n<path d=\"M79.028,-171.7476C83.0616,-163.4004 87.7644,-153.6681 92.0513,-144.7966\" fill=\"none\" stroke=\"#4a4a4a\"/>\n<polygon fill=\"#4a4a4a\" points=\"95.2889,-146.1409 96.4885,-135.6142 88.9862,-143.0952 95.2889,-146.1409\" stroke=\"#4a4a4a\"/>\n</a>\n</g>\n</g>\n<!-- w -->\n<g class=\"node\" id=\"node4\">\n<title>w</title>\n<polygon fill=\"#ffffff\" points=\"119.5,-64 18.5,-64 18.5,-23 119.5,-23 119.5,-64\" stroke=\"#000000\"/>\n<svg height=\"41px\" preserveAspectRatio=\"xMinYMin meet\" viewBox=\"0 0 132.1625 52.998125\" width=\"101px\" x=\"18.5\" y=\"-64\"> <defs>\n  <style type=\"text/css\">\n*{stroke-linecap:butt;stroke-linejoin:round;}\n  </style>\n </defs>\n <g id=\"figure_1\">\n  <g id=\"patch_1\">\n   <path d=\"M 0 52.998125  L 132.1625 52.998125  L 132.1625 0  L 0 0  z \" style=\"fill:none;\"/>\n  </g>\n  <g id=\"axes_1\">\n   <g id=\"patch_2\">\n    <path d=\"M 16.9625 45.898125  L 128.5625 45.898125  L 128.5625 18.718125  L 16.9625 18.718125  z \" style=\"fill:none;\"/>\n   </g>\n   <g id=\"patch_3\">\n    <path clip-path=\"url(#p2c158f6d3f)\" d=\"M 16.9625 45.898125  L 96.145744 45.898125  L 96.145744 33.818125  L 16.9625 33.818125  z \" style=\"fill:#8fbc8f;\"/>\n   </g>\n   <g id=\"patch_4\">\n    <path clip-path=\"url(#p2c158f6d3f)\" d=\"M 16.9625 30.798125  L 49.379256 30.798125  L 49.379256 18.718125  L 16.9625 18.718125  z \" style=\"fill:#8fbc8f;\"/>\n   </g>\n   <g id=\"matplotlib.axis_1\">\n    <g id=\"xtick_1\">\n     <g id=\"line2d_1\">\n      <path clip-path=\"url(#p2c158f6d3f)\" d=\"M 16.9625 45.898125  L 16.9625 18.718125  \" style=\"fill:none;stroke:#b0b0b0;stroke-linecap:square;stroke-width:0.8;\"/>\n     </g>\n     <g id=\"line2d_2\">\n      <defs>\n       <path d=\"M 0 0  L 0 3.5  \" id=\"mf0e594b639\" style=\"stroke:#000000;stroke-width:0.8;\"/>\n      </defs>\n      <g>\n       <use style=\"stroke:#000000;stroke-width:0.8;\" x=\"16.9625\" xlink:href=\"#mf0e594b639\" y=\"45.898125\"/>\n      </g>\n     </g>\n    </g>\n    <g id=\"xtick_2\">\n     <g id=\"line2d_3\">\n      <path clip-path=\"url(#p2c158f6d3f)\" d=\"M 72.7625 45.898125  L 72.7625 18.718125  \" style=\"fill:none;stroke:#b0b0b0;stroke-linecap:square;stroke-width:0.8;\"/>\n     </g>\n     <g id=\"line2d_4\">\n      <g>\n       <use style=\"stroke:#000000;stroke-width:0.8;\" x=\"72.7625\" xlink:href=\"#mf0e594b639\" y=\"45.898125\"/>\n      </g>\n     </g>\n    </g>\n    <g id=\"xtick_3\">\n     <g id=\"line2d_5\">\n      <path clip-path=\"url(#p2c158f6d3f)\" d=\"M 128.5625 45.898125  L 128.5625 18.718125  \" style=\"fill:none;stroke:#b0b0b0;stroke-linecap:square;stroke-width:0.8;\"/>\n     </g>\n     <g id=\"line2d_6\">\n      <g>\n       <use style=\"stroke:#000000;stroke-width:0.8;\" x=\"128.5625\" xlink:href=\"#mf0e594b639\" y=\"45.898125\"/>\n      </g>\n     </g>\n    </g>\n   </g>\n   <g id=\"matplotlib.axis_2\">\n    <g id=\"ytick_1\">\n     <g id=\"line2d_7\">\n      <defs>\n       <path d=\"M 0 0  L -3.5 0  \" id=\"m80e300b0d8\" style=\"stroke:#000000;stroke-width:0.8;\"/>\n      </defs>\n      <g>\n       <use style=\"stroke:#000000;stroke-width:0.8;\" x=\"16.9625\" xlink:href=\"#m80e300b0d8\" y=\"39.858125\"/>\n      </g>\n     </g>\n     <g id=\"text_1\">\n      <!-- 1 -->\n      <defs>\n       <path d=\"M 12.40625 8.296875  L 28.515625 8.296875  L 28.515625 63.921875  L 10.984375 60.40625  L 10.984375 69.390625  L 28.421875 72.90625  L 38.28125 72.90625  L 38.28125 8.296875  L 54.390625 8.296875  L 54.390625 0  L 12.40625 0  z \" id=\"DejaVuSans-49\"/>\n      </defs>\n      <g transform=\"translate(3.6 43.657344)scale(0.1 -0.1)\">\n       <use xlink:href=\"#DejaVuSans-49\"/>\n      </g>\n     </g>\n    </g>\n    <g id=\"ytick_2\">\n     <g id=\"line2d_8\">\n      <g>\n       <use style=\"stroke:#000000;stroke-width:0.8;\" x=\"16.9625\" xlink:href=\"#m80e300b0d8\" y=\"24.758125\"/>\n      </g>\n     </g>\n     <g id=\"text_2\">\n      <!-- 0 -->\n      <defs>\n       <path d=\"M 31.78125 66.40625  Q 24.171875 66.40625 20.328125 58.90625  Q 16.5 51.421875 16.5 36.375  Q 16.5 21.390625 20.328125 13.890625  Q 24.171875 6.390625 31.78125 6.390625  Q 39.453125 6.390625 43.28125 13.890625  Q 47.125 21.390625 47.125 36.375  Q 47.125 51.421875 43.28125 58.90625  Q 39.453125 66.40625 31.78125 66.40625  z M 31.78125 74.21875  Q 44.046875 74.21875 50.515625 64.515625  Q 56.984375 54.828125 56.984375 36.375  Q 56.984375 17.96875 50.515625 8.265625  Q 44.046875 -1.421875 31.78125 -1.421875  Q 19.53125 -1.421875 13.0625 8.265625  Q 6.59375 17.96875 6.59375 36.375  Q 6.59375 54.828125 13.0625 64.515625  Q 19.53125 74.21875 31.78125 74.21875  z \" id=\"DejaVuSans-48\"/>\n      </defs>\n      <g transform=\"translate(3.6 28.557344)scale(0.1 -0.1)\">\n       <use xlink:href=\"#DejaVuSans-48\"/>\n      </g>\n     </g>\n    </g>\n   </g>\n   <g id=\"patch_5\">\n    <path d=\"M 16.9625 45.898125  L 16.9625 18.718125  \" style=\"fill:none;stroke:#000000;stroke-linecap:square;stroke-linejoin:miter;stroke-width:0.8;\"/>\n   </g>\n   <g id=\"patch_6\">\n    <path d=\"M 128.5625 45.898125  L 128.5625 18.718125  \" style=\"fill:none;stroke:#000000;stroke-linecap:square;stroke-linejoin:miter;stroke-width:0.8;\"/>\n   </g>\n   <g id=\"patch_7\">\n    <path d=\"M 16.9625 45.898125  L 128.5625 45.898125  \" style=\"fill:none;stroke:#000000;stroke-linecap:square;stroke-linejoin:miter;stroke-width:0.8;\"/>\n   </g>\n   <g id=\"patch_8\">\n    <path d=\"M 16.9625 18.718125  L 128.5625 18.718125  \" style=\"fill:none;stroke:#000000;stroke-linecap:square;stroke-linejoin:miter;stroke-width:0.8;\"/>\n   </g>\n   <g id=\"text_3\">\n    <!-- 70.95% -->\n    <defs>\n     <path d=\"M 8.203125 72.90625  L 55.078125 72.90625  L 55.078125 68.703125  L 28.609375 0  L 18.3125 0  L 43.21875 64.59375  L 8.203125 64.59375  z \" id=\"DejaVuSans-55\"/>\n     <path d=\"M 10.6875 12.40625  L 21 12.40625  L 21 0  L 10.6875 0  z \" id=\"DejaVuSans-46\"/>\n     <path d=\"M 10.984375 1.515625  L 10.984375 10.5  Q 14.703125 8.734375 18.5 7.8125  Q 22.3125 6.890625 25.984375 6.890625  Q 35.75 6.890625 40.890625 13.453125  Q 46.046875 20.015625 46.78125 33.40625  Q 43.953125 29.203125 39.59375 26.953125  Q 35.25 24.703125 29.984375 24.703125  Q 19.046875 24.703125 12.671875 31.3125  Q 6.296875 37.9375 6.296875 49.421875  Q 6.296875 60.640625 12.9375 67.421875  Q 19.578125 74.21875 30.609375 74.21875  Q 43.265625 74.21875 49.921875 64.515625  Q 56.59375 54.828125 56.59375 36.375  Q 56.59375 19.140625 48.40625 8.859375  Q 40.234375 -1.421875 26.421875 -1.421875  Q 22.703125 -1.421875 18.890625 -0.6875  Q 15.09375 0.046875 10.984375 1.515625  z M 30.609375 32.421875  Q 37.25 32.421875 41.125 36.953125  Q 45.015625 41.5 45.015625 49.421875  Q 45.015625 57.28125 41.125 61.84375  Q 37.25 66.40625 30.609375 66.40625  Q 23.96875 66.40625 20.09375 61.84375  Q 16.21875 57.28125 16.21875 49.421875  Q 16.21875 41.5 20.09375 36.953125  Q 23.96875 32.421875 30.609375 32.421875  z \" id=\"DejaVuSans-57\"/>\n     <path d=\"M 10.796875 72.90625  L 49.515625 72.90625  L 49.515625 64.59375  L 19.828125 64.59375  L 19.828125 46.734375  Q 21.96875 47.46875 24.109375 47.828125  Q 26.265625 48.1875 28.421875 48.1875  Q 40.625 48.1875 47.75 41.5  Q 54.890625 34.8125 54.890625 23.390625  Q 54.890625 11.625 47.5625 5.09375  Q 40.234375 -1.421875 26.90625 -1.421875  Q 22.3125 -1.421875 17.546875 -0.640625  Q 12.796875 0.140625 7.71875 1.703125  L 7.71875 11.625  Q 12.109375 9.234375 16.796875 8.0625  Q 21.484375 6.890625 26.703125 6.890625  Q 35.15625 6.890625 40.078125 11.328125  Q 45.015625 15.765625 45.015625 23.390625  Q 45.015625 31 40.078125 35.4375  Q 35.15625 39.890625 26.703125 39.890625  Q 22.75 39.890625 18.8125 39.015625  Q 14.890625 38.140625 10.796875 36.28125  z \" id=\"DejaVuSans-53\"/>\n     <path d=\"M 72.703125 32.078125  Q 68.453125 32.078125 66.03125 28.46875  Q 63.625 24.859375 63.625 18.40625  Q 63.625 12.0625 66.03125 8.421875  Q 68.453125 4.78125 72.703125 4.78125  Q 76.859375 4.78125 79.265625 8.421875  Q 81.6875 12.0625 81.6875 18.40625  Q 81.6875 24.8125 79.265625 28.4375  Q 76.859375 32.078125 72.703125 32.078125  z M 72.703125 38.28125  Q 80.421875 38.28125 84.953125 32.90625  Q 89.5 27.546875 89.5 18.40625  Q 89.5 9.28125 84.9375 3.921875  Q 80.375 -1.421875 72.703125 -1.421875  Q 64.890625 -1.421875 60.34375 3.921875  Q 55.8125 9.28125 55.8125 18.40625  Q 55.8125 27.59375 60.375 32.9375  Q 64.9375 38.28125 72.703125 38.28125  z M 22.3125 68.015625  Q 18.109375 68.015625 15.6875 64.375  Q 13.28125 60.75 13.28125 54.390625  Q 13.28125 47.953125 15.671875 44.328125  Q 18.0625 40.71875 22.3125 40.71875  Q 26.5625 40.71875 28.96875 44.328125  Q 31.390625 47.953125 31.390625 54.390625  Q 31.390625 60.6875 28.953125 64.34375  Q 26.515625 68.015625 22.3125 68.015625  z M 66.40625 74.21875  L 74.21875 74.21875  L 28.609375 -1.421875  L 20.796875 -1.421875  z M 22.3125 74.21875  Q 30.03125 74.21875 34.609375 68.875  Q 39.203125 63.53125 39.203125 54.390625  Q 39.203125 45.171875 34.640625 39.84375  Q 30.078125 34.515625 22.3125 34.515625  Q 14.546875 34.515625 10.03125 39.859375  Q 5.515625 45.21875 5.515625 54.390625  Q 5.515625 63.484375 10.046875 68.84375  Q 14.59375 74.21875 22.3125 74.21875  z \" id=\"DejaVuSans-37\"/>\n    </defs>\n    <g transform=\"translate(90.432812 43.818437)scale(0.1 -0.1)\">\n     <use xlink:href=\"#DejaVuSans-55\"/>\n     <use x=\"63.623047\" xlink:href=\"#DejaVuSans-48\"/>\n     <use x=\"127.246094\" xlink:href=\"#DejaVuSans-46\"/>\n     <use x=\"159.033203\" xlink:href=\"#DejaVuSans-57\"/>\n     <use x=\"222.65625\" xlink:href=\"#DejaVuSans-53\"/>\n     <use x=\"286.279297\" xlink:href=\"#DejaVuSans-37\"/>\n    </g>\n   </g>\n   <g id=\"text_4\">\n    <!-- 29.05% -->\n    <defs>\n     <path d=\"M 19.1875 8.296875  L 53.609375 8.296875  L 53.609375 0  L 7.328125 0  L 7.328125 8.296875  Q 12.9375 14.109375 22.625 23.890625  Q 32.328125 33.6875 34.8125 36.53125  Q 39.546875 41.84375 41.421875 45.53125  Q 43.3125 49.21875 43.3125 52.78125  Q 43.3125 58.59375 39.234375 62.25  Q 35.15625 65.921875 28.609375 65.921875  Q 23.96875 65.921875 18.8125 64.3125  Q 13.671875 62.703125 7.8125 59.421875  L 7.8125 69.390625  Q 13.765625 71.78125 18.9375 73  Q 24.125 74.21875 28.421875 74.21875  Q 39.75 74.21875 46.484375 68.546875  Q 53.21875 62.890625 53.21875 53.421875  Q 53.21875 48.921875 51.53125 44.890625  Q 49.859375 40.875 45.40625 35.40625  Q 44.1875 33.984375 37.640625 27.21875  Q 31.109375 20.453125 19.1875 8.296875  z \" id=\"DejaVuSans-50\"/>\n    </defs>\n    <g transform=\"translate(90.432812 28.718437)scale(0.1 -0.1)\">\n     <use xlink:href=\"#DejaVuSans-50\"/>\n     <use x=\"63.623047\" xlink:href=\"#DejaVuSans-57\"/>\n     <use x=\"127.246094\" xlink:href=\"#DejaVuSans-46\"/>\n     <use x=\"159.033203\" xlink:href=\"#DejaVuSans-48\"/>\n     <use x=\"222.65625\" xlink:href=\"#DejaVuSans-53\"/>\n     <use x=\"286.279297\" xlink:href=\"#DejaVuSans-37\"/>\n    </g>\n   </g>\n   <g id=\"text_5\">\n    <!-- w -->\n    <defs>\n     <path d=\"M 4.203125 54.6875  L 13.1875 54.6875  L 24.421875 12.015625  L 35.59375 54.6875  L 46.1875 54.6875  L 57.421875 12.015625  L 68.609375 54.6875  L 77.59375 54.6875  L 63.28125 0  L 52.6875 0  L 40.921875 44.828125  L 29.109375 0  L 18.5 0  z \" id=\"DejaVuSans-119\"/>\n    </defs>\n    <g transform=\"translate(67.855625 12.718125)scale(0.12 -0.12)\">\n     <use xlink:href=\"#DejaVuSans-119\"/>\n    </g>\n   </g>\n  </g>\n </g>\n <defs>\n  <clipPath id=\"p2c158f6d3f\">\n   <rect height=\"27.18\" width=\"111.6\" x=\"16.9625\" y=\"18.718125\"/>\n  </clipPath>\n </defs>\n</svg>\n\n</g>\n<!-- s&#45;&gt;w -->\n<g class=\"edge\" id=\"edge2\">\n<title>s-&gt;w</title>\n<g id=\"a_edge2\"><a xlink:title=\"(1, 3):\">\n<path d=\"M41.3496,-100.7209C45.3065,-92.5324 50.1467,-82.5158 54.6652,-73.1651\" fill=\"none\" stroke=\"#4a4a4a\"/>\n<polygon fill=\"#4a4a4a\" points=\"57.8322,-74.6555 59.0317,-64.1288 51.5295,-71.6098 57.8322,-74.6555\" stroke=\"#4a4a4a\"/>\n</a>\n</g>\n</g>\n<!-- r&#45;&gt;w -->\n<g class=\"edge\" id=\"edge3\">\n<title>r-&gt;w</title>\n<g id=\"a_edge3\"><a xlink:title=\"(2, 3):\">\n<path d=\"M96.6504,-100.7209C92.6935,-92.5324 87.8533,-82.5158 83.3348,-73.1651\" fill=\"none\" stroke=\"#4a4a4a\"/>\n<polygon fill=\"#4a4a4a\" points=\"86.4705,-71.6098 78.9683,-64.1288 80.1678,-74.6555 86.4705,-71.6098\" stroke=\"#4a4a4a\"/>\n</a>\n</g>\n</g>\n</g>\n</svg>"
          },
          "metadata": {
            "tags": []
          }
        }
      ]
    }
  ]
}