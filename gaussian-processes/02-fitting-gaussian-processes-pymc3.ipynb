{
  "nbformat": 4,
  "nbformat_minor": 0,
  "metadata": {
    "kernelspec": {
      "name": "python3",
      "display_name": "Python 3"
    },
    "language_info": {
      "codemirror_mode": {
        "name": "ipython",
        "version": 3
      },
      "file_extension": ".py",
      "mimetype": "text/x-python",
      "name": "python",
      "nbconvert_exporter": "python",
      "pygments_lexer": "ipython3",
      "version": "3.7.2"
    },
    "colab": {
      "name": "01-neural-processes-pytorch.ipynb",
      "provenance": [],
      "collapsed_sections": [],
      "include_colab_link": true
    },
    "accelerator": "GPU"
  },
  "cells": [
    {
      "cell_type": "markdown",
      "metadata": {
        "id": "view-in-github",
        "colab_type": "text"
      },
      "source": [
        "<a href=\"https://colab.research.google.com/github/martin-fabbri/colab-notebooks/blob/master/gaussian-processes/02-fitting-gaussian-processes-pymc3.ipynb\" target=\"_parent\"><img src=\"https://colab.research.google.com/assets/colab-badge.svg\" alt=\"Open In Colab\"/></a>"
      ]
    },
    {
      "cell_type": "markdown",
      "metadata": {
        "id": "liQwx4kaj5Th",
        "colab_type": "text"
      },
      "source": [
        "# Fitting Gaussian Process Model in PyMC3\n",
        "\n",
        "A commong applied task involves building regression models to characterize non-linear relatioshipts between variables. It is possible to fit such models by assuming a particular non-linear structure, such as sinusoidal, exponential or pulynomical function, to descrive a given response by one variable to another. A non-parametric approach can be adopted be defining a set of knots accross the variable space and use a spline or kernel regression to describe arbitrary non-linear relationships. Alternatively, a Bayesian non-parametric strategy can be adopted and directl model the unknown underlying function.\n",
        "\n",
        "Use of the term \"non-parametric\" in the context of Bayesian analysis is something of a misnomer. This is because the fundamental first step in Bayesian modeling is to specify a full probability model for the problem at hand, assigning probability densities to all unknown quantities of interest. So, it is difficult to explicitly state a full probability model without the use of probability functions, which are parametric! It turns out that Bayesian non-parametric methods do not imply that there are no parameters, but rather that the number of parameters grows with the size of the dataset. In fact, Bayesian non-parametric models are infinitely parametric.\n",
        "\n",
        "\n",
        "## Building models with Gaussians\n",
        "\n",
        "What if we chose to use Gaussian distributions to model our data?\n",
        "\n",
        "$$p(x \\mid \\pi, \\Sigma) = (2\\pi)^{-k/2}|\\Sigma|^{-1/2} \\exp\\left\\{ -\\frac{1}{2} (x-\\mu)^{\\prime}\\Sigma^{-1}(x-\\mu) \\right\\}$$\n",
        "There would not seem to be an advantage to doing this, because normal distributions are not particularly flexible distributions in and of themselves. However, adopting a set of Gaussians (a multivariate normal vector) confers a number of advantages. First, the marginal distribution of any subset of elements from a multivariate normal distribution is also normal:\n",
        "\n",
        "$$p(x,y) = \\mathcal{N}\\left(\\left[{\n",
        "\\begin{array}{c}\n",
        "  {\\mu_x}  \\\\\n",
        "  {\\mu_y}  \\\\\n",
        "\\end{array}\n",
        "}\\right], \\left[{\n",
        "\\begin{array}{c}\n",
        "  {\\Sigma_x} &amp; {\\Sigma_{xy}}  \\\\\n",
        "  {\\Sigma_{xy}^T} &amp; {\\Sigma_y}  \\\\\n",
        "\\end{array}\n",
        "}\\right]\\right)$$$$p(x) = \\int p(x,y) dy = \\mathcal{N}(\\mu_x, \\Sigma_x)$$\n",
        "Also, conditionals distributions of a subset of a multivariate normal distribution (conditional on the remaining elements) are normal too:\n",
        "\n",
        "$$p(x|y) = \\mathcal{N}(\\mu_x + \\Sigma_{xy}\\Sigma_y^{-1}(y-\\mu_y), \n",
        "\\Sigma_x-\\Sigma_{xy}\\Sigma_y^{-1}\\Sigma_{xy}^T)$$\n",
        "A Gaussian process generalizes the multivariate normal to infinite dimension. It is defined as an infinite collection of random variables, any finite subset of which have a Gaussian distribution. Thus, the marginalization property is explicit in its definition. Another way of thinking about an infinite vector is as a function. When we write a function that takes continuous values as inputs, we are essentially specifying an infinte vector that only returns values (indexed by the inputs) when the function is called upon to do so. By the same token, this notion of an infinite-dimensional Gaussian as a function allows us to work with them computationally: we are never required to store all the elements of the Gaussian process, only to calculate them on demand.\n",
        "\n",
        "So, we can describe a Gaussian process as a disribution over functions. Just as a multivariate normal distribution is completely specified by a mean vector and covariance matrix, a GP is fully specified by a mean function and a covariance function:\n",
        "\n",
        "$$p(x) \\sim \\mathcal{GP}(m(x), k(x,x^{\\prime}))$$\n",
        "It is the marginalization property that makes working with a Gaussian process feasible: we can marginalize over the infinitely-many variables that we are not interested in, or have not observed.\n",
        "\n",
        "For example, one specification of a GP might be as follows:\n",
        "\n",
        "$$\\begin{aligned}\n",
        "m(x) &amp;=0 \\\\\n",
        "k(x,x^{\\prime}) &amp;= \\theta_1\\exp\\left(-\\frac{\\theta_2}{2}(x-x^{\\prime})^2\\right)\n",
        "\\end{aligned}$$\n",
        "here, the covariance function is a squared exponential, for which values of $x$ and $x^{\\prime}$ that are close together result in values of $k$ closer to 1 and those that are far apart return values closer to zero. It may seem odd to simply adopt the zero function to represent the mean function of the Gaussian process -- surely we can do better than that! It turns out that most of the learning in the GP involves the covariance function and its parameters, so very little is gained in specifying a complicated mean function.\n",
        "\n",
        "For a finite number of points, the GP becomes a multivariate normal, with the mean and covariance as the mean functon and covariance function evaluated at those points."
      ]
    },
    {
      "cell_type": "code",
      "metadata": {
        "id": "uFt47sOZ49B4",
        "colab_type": "code",
        "outputId": "596db776-cd6b-4ea1-fafb-06b01bd58422",
        "colab": {
          "base_uri": "https://localhost:8080/",
          "height": 317
        }
      },
      "source": [
        "!nvidia-smi"
      ],
      "execution_count": 2,
      "outputs": [
        {
          "output_type": "stream",
          "text": [
            "Thu Oct  3 14:09:00 2019       \n",
            "+-----------------------------------------------------------------------------+\n",
            "| NVIDIA-SMI 430.40       Driver Version: 418.67       CUDA Version: 10.1     |\n",
            "|-------------------------------+----------------------+----------------------+\n",
            "| GPU  Name        Persistence-M| Bus-Id        Disp.A | Volatile Uncorr. ECC |\n",
            "| Fan  Temp  Perf  Pwr:Usage/Cap|         Memory-Usage | GPU-Util  Compute M. |\n",
            "|===============================+======================+======================|\n",
            "|   0  Tesla K80           Off  | 00000000:00:04.0 Off |                    0 |\n",
            "| N/A   73C    P8    33W / 149W |      0MiB / 11441MiB |      0%      Default |\n",
            "+-------------------------------+----------------------+----------------------+\n",
            "                                                                               \n",
            "+-----------------------------------------------------------------------------+\n",
            "| Processes:                                                       GPU Memory |\n",
            "|  GPU       PID   Type   Process name                             Usage      |\n",
            "|=============================================================================|\n",
            "|  No running processes found                                                 |\n",
            "+-----------------------------------------------------------------------------+\n"
          ],
          "name": "stdout"
        }
      ]
    },
    {
      "cell_type": "code",
      "metadata": {
        "id": "jjZsFXR8BWfM",
        "colab_type": "code",
        "outputId": "dc03db4d-dba2-4deb-c003-6ddb7b5eded2",
        "colab": {
          "base_uri": "https://localhost:8080/",
          "height": 140
        }
      },
      "source": [
        "!git clone https://github.com/martin-fabbri/colab-notebooks"
      ],
      "execution_count": 3,
      "outputs": [
        {
          "output_type": "stream",
          "text": [
            "Cloning into 'colab-notebooks'...\n",
            "remote: Enumerating objects: 34, done.\u001b[K\n",
            "remote: Counting objects: 100% (34/34), done.\u001b[K\n",
            "remote: Compressing objects: 100% (32/32), done.\u001b[K\n",
            "remote: Total 398 (delta 17), reused 5 (delta 2), pack-reused 364\u001b[K\n",
            "Receiving objects: 100% (398/398), 9.65 MiB | 26.69 MiB/s, done.\n",
            "Resolving deltas: 100% (216/216), done.\n"
          ],
          "name": "stdout"
        }
      ]
    },
    {
      "cell_type": "code",
      "metadata": {
        "id": "-Hi0gIkKBbH4",
        "colab_type": "code",
        "colab": {}
      },
      "source": [
        "import numpy as np\n",
        "import matplotlib.pyplot as plt\n",
        "import matplotlib.cm as cmap\n",
        "import pymc3 as pm\n",
        "import scipy as sp\n",
        "import pandas as pd\n",
        "import seaborn as sns\n",
        "%matplotlib inline\n",
        "sns.set_context('talk')\n",
        "\n",
        "np.random.seed(42)"
      ],
      "execution_count": 0,
      "outputs": []
    },
    {
      "cell_type": "markdown",
      "metadata": {
        "id": "NQGuXZ81BYqy",
        "colab_type": "text"
      },
      "source": [
        "### Squared Exponential Covariance\n",
        "\n",
        "$$\\begin{aligned}\n",
        "k(x,x^{\\prime}) = \\theta_1\\exp\\left(-\\frac{\\theta_2}{2}(x-x^{\\prime})^2\\right)\n",
        "\\end{aligned}$$"
      ]
    },
    {
      "cell_type": "code",
      "metadata": {
        "id": "r3U1J6XXBWwP",
        "colab_type": "code",
        "colab": {}
      },
      "source": [
        "def exponential_cov(x, y, params):\n",
        "  \"\"\"\n",
        "  params -> theta(i)\n",
        "  \"\"\"\n",
        "  return params[0] * np.exp(-0.5 * params[1] * np.subtract.outer(x, y)**2)\n"
      ],
      "execution_count": 0,
      "outputs": []
    },
    {
      "cell_type": "markdown",
      "metadata": {
        "id": "spTtx-t-CoHr",
        "colab_type": "text"
      },
      "source": [
        "### Sampling from a Gaussian Process\n",
        "\n",
        "We are going generate realizations sequentially, point by point, using the lovely conditioning property of mutlivariate Gaussian distributions. Here is that conditional:\n",
        "\n",
        "$$p(x|y) = \\mathcal{N}(\\mu_x + \\Sigma_{xy}\\Sigma_y^{-1}(y-\\mu_y), \n",
        "\\Sigma_x-\\Sigma_{xy}\\Sigma_y^{-1}\\Sigma_{xy}^T)$$\n",
        "And this the function that implements it:"
      ]
    },
    {
      "cell_type": "code",
      "metadata": {
        "id": "9R2SMC5tQoUm",
        "colab_type": "code",
        "colab": {}
      },
      "source": [
        "def conditional(x_new, x, y, params):\n",
        "    B = exponential_cov(x_new, x, params)\n",
        "    C = exponential_cov(x, x, params)\n",
        "    A = exponential_cov(x_new, x_new, params)\n",
        "    mu = np.linalg.inv(C).dot(B.T).T.dot(y)\n",
        "    sigma = A - B.dot(np.linalg.inv(C).dot(B.T))\n",
        "    return(mu.squeeze(), sigma.squeeze())\n",
        "  "
      ],
      "execution_count": 0,
      "outputs": []
    },
    {
      "cell_type": "markdown",
      "metadata": {
        "id": "pikDLXDlF_uB",
        "colab_type": "text"
      },
      "source": [
        "We will start with a Gaussian process prior with hyperparameters $\\theta_0=1, \\theta_1=10$. We will also assume a zero function as the mean, so we can plot a band that represents one standard deviation from the mean."
      ]
    },
    {
      "cell_type": "code",
      "metadata": {
        "id": "PIYKwGoXZ_8R",
        "colab_type": "code",
        "outputId": "44cd089d-07ca-4633-f13f-b896da39adf9",
        "colab": {
          "base_uri": "https://localhost:8080/",
          "height": 305
        }
      },
      "source": [
        "θ = [1, 10]\n",
        "σ_0 = exponential_cov(0, 0, θ)\n",
        "xpts = np.arange(-3, 3, step=0.01)\n",
        "\n",
        "plt.errorbar(xpts, np.zeros(len(xpts)), yerr=σ_0, capsize=0)\n",
        "plt.ylim(-3, 3)"
      ],
      "execution_count": 7,
      "outputs": [
        {
          "output_type": "execute_result",
          "data": {
            "text/plain": [
              "(-3, 3)"
            ]
          },
          "metadata": {
            "tags": []
          },
          "execution_count": 7
        },
        {
          "output_type": "display_data",
          "data": {
            "image/png": "[encoded data removed]",
            "text/plain": [
              "<Figure size 432x288 with 1 Axes>"
            ]
          },
          "metadata": {
            "tags": []
          }
        }
      ]
    },
    {
      "cell_type": "markdown",
      "metadata": {
        "id": "wCPcSnl4H90-",
        "colab_type": "text"
      },
      "source": [
        "Let's select an arbitrary starting point to sample, say $x=1$. Since there are no prevous points, we can sample from an unconditional Gaussian:"
      ]
    },
    {
      "cell_type": "code",
      "metadata": {
        "id": "ZhaZokRhH9Oy",
        "colab_type": "code",
        "colab": {
          "base_uri": "https://localhost:8080/",
          "height": 34
        },
        "outputId": "89e5940d-2f00-45bb-93b7-8a77432f4fe2"
      },
      "source": [
        "x = [1.]\n",
        "y = [np.random.normal(scale=σ_0)]\n",
        "y"
      ],
      "execution_count": 8,
      "outputs": [
        {
          "output_type": "execute_result",
          "data": {
            "text/plain": [
              "[0.4967141530112327]"
            ]
          },
          "metadata": {
            "tags": []
          },
          "execution_count": 8
        }
      ]
    },
    {
      "cell_type": "markdown",
      "metadata": {
        "id": "EmPvA4XkIw_0",
        "colab_type": "text"
      },
      "source": [
        "We can now update our confidence band, given the point that we just sampled, using the covariance function to generate new point-wise intervals, conditional on the value $[x_0, y_0]$."
      ]
    },
    {
      "cell_type": "code",
      "metadata": {
        "id": "qvFknBsqIwc1",
        "colab_type": "code",
        "colab": {
          "base_uri": "https://localhost:8080/",
          "height": 34
        },
        "outputId": "a26b0e65-93cb-45da-cb1d-ec67e638086e"
      },
      "source": [
        "σ_1 = exponential_cov(x, x, θ)\n",
        "σ_1"
      ],
      "execution_count": 9,
      "outputs": [
        {
          "output_type": "execute_result",
          "data": {
            "text/plain": [
              "array([[1.]])"
            ]
          },
          "metadata": {
            "tags": []
          },
          "execution_count": 9
        }
      ]
    },
    {
      "cell_type": "code",
      "metadata": {
        "id": "AMuzPqEmIwZz",
        "colab_type": "code",
        "colab": {}
      },
      "source": [
        "def predict(x, data, kernel, params, sigma, t):\n",
        "  k = [kernel(x, y, params) for y in data]\n",
        "  Sinv = np.linalg.inv(sigma)\n",
        "  y_pred = np.dot(k, Sinv).dot(t)\n",
        "  sigma_new = kernel(x, x, params) - np.dot(k, Sinv).dot(k)\n",
        "  return y_pred, sigma_new\n"
      ],
      "execution_count": 0,
      "outputs": []
    },
    {
      "cell_type": "code",
      "metadata": {
        "id": "sD-J00MpIwW2",
        "colab_type": "code",
        "colab": {
          "base_uri": "https://localhost:8080/",
          "height": 70
        },
        "outputId": "4d253acc-c73c-4085-f026-961ca42ba2b2"
      },
      "source": [
        "x_pred = np.linspace(-3, 3, 1000)\n",
        "predictions = [predict(i, x, exponential_cov, θ, σ_1, y) for i in x_pred]\n",
        "predictions[:3]"
      ],
      "execution_count": 11,
      "outputs": [
        {
          "output_type": "execute_result",
          "data": {
            "text/plain": [
              "[(8.964952284247832e-36, 1.0),\n",
              " (1.1397370424705615e-35, 1.0),\n",
              " (1.4484539263965649e-35, 1.0)]"
            ]
          },
          "metadata": {
            "tags": []
          },
          "execution_count": 11
        }
      ]
    },
    {
      "cell_type": "code",
      "metadata": {
        "id": "-IbTcNwEIwT8",
        "colab_type": "code",
        "colab": {
          "base_uri": "https://localhost:8080/",
          "height": 288
        },
        "outputId": "12de1feb-96e4-4fb6-a534-0eacc63e72da"
      },
      "source": [
        "y_pred, sigmas = np.transpose(predictions)\n",
        "plt.errorbar(x_pred, y_pred, yerr=sigmas, capsize=0)\n",
        "plt.plot(x, y, \"ro\")\n",
        "plt.xlim(-3, 3); plt.ylim(-3, 3);"
      ],
      "execution_count": 12,
      "outputs": [
        {
          "output_type": "display_data",
          "data": {
            "image/png": "[encoded data removed]",
            "text/plain": [
              "<Figure size 432x288 with 1 Axes>"
            ]
          },
          "metadata": {
            "tags": []
          }
        }
      ]
    },
    {
      "cell_type": "markdown",
      "metadata": {
        "id": "F7YPTFWh7svO",
        "colab_type": "text"
      },
      "source": [
        "So conditional on this point, and the covariance structure we gave specified, we have essentialy contrained the probable location of additional points. Let's sample another.\n",
        "\n",
        "$$p(x|y) = \\mathcal{N}(\\mu_x + \\Sigma_{xy}\\Sigma_y^{-1}(y-\\mu_y), \n",
        "\\Sigma_x-\\Sigma_{xy}\\Sigma_y^{-1}\\Sigma_{xy}^T)$$\n"
      ]
    },
    {
      "cell_type": "code",
      "metadata": {
        "id": "OhXyJzUo7sdg",
        "colab_type": "code",
        "colab": {
          "base_uri": "https://localhost:8080/",
          "height": 52
        },
        "outputId": "ffae7acc-648d-43df-a173-e1541ab9be2b"
      },
      "source": [
        "m, s = conditional([-0.7], x, y, θ)\n",
        "print('m, s:', m, s)\n",
        "y2 = np.random.normal(m, s)\n",
        "print('y2:', y2)"
      ],
      "execution_count": 19,
      "outputs": [
        {
          "output_type": "stream",
          "text": [
            "m, s: 2.633608839077871e-07 0.9999999999997189\n",
            "y2: 0.496714416371977\n"
          ],
          "name": "stdout"
        }
      ]
    },
    {
      "cell_type": "markdown",
      "metadata": {
        "id": "o0MHM7b9-xih",
        "colab_type": "text"
      },
      "source": [
        "This point is added to the realization, and can ve used to further update the location of the next point."
      ]
    },
    {
      "cell_type": "code",
      "metadata": {
        "id": "KgMX5IAmIwRD",
        "colab_type": "code",
        "colab": {}
      },
      "source": [
        "x.append(-0.7)\n",
        "y.append(y2)"
      ],
      "execution_count": 0,
      "outputs": []
    },
    {
      "cell_type": "code",
      "metadata": {
        "id": "UO6dNUIZIwN7",
        "colab_type": "code",
        "colab": {}
      },
      "source": [
        ""
      ],
      "execution_count": 0,
      "outputs": []
    }
  ]
}