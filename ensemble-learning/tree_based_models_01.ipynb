{
  "nbformat": 4,
  "nbformat_minor": 0,
  "metadata": {
    "colab": {
      "name": "tree-based-models-01",
      "provenance": [],
      "collapsed_sections": [],
      "authorship_tag": "ABX9TyOfVdv8HTU5qScdbMA0kDyE",
      "include_colab_link": true
    },
    "kernelspec": {
      "name": "python3",
      "display_name": "Python 3"
    }
  },
  "cells": [
    {
      "cell_type": "markdown",
      "metadata": {
        "id": "view-in-github",
        "colab_type": "text"
      },
      "source": [
        "<a href=\"https://colab.research.google.com/github/martin-fabbri/colab-notebooks/blob/master/ensemble-learning/tree_based_models_01.ipynb\" target=\"_parent\"><img src=\"https://colab.research.google.com/assets/colab-badge.svg\" alt=\"Open In Colab\"/></a>"
      ]
    },
    {
      "cell_type": "markdown",
      "metadata": {
        "id": "SrP_AyhYtdS8",
        "colab_type": "text"
      },
      "source": [
        "## Tree-Based Models"
      ]
    },
    {
      "cell_type": "code",
      "metadata": {
        "id": "RvWftzgQUenE",
        "colab_type": "code",
        "colab": {
          "base_uri": "https://localhost:8080/",
          "height": 34
        },
        "outputId": "adb7c81b-cdef-442f-9c16-6fe61b6f4ead"
      },
      "source": [
        "!git clone -q https://github.com/martin-fabbri/colab-notebooks.git"
      ],
      "execution_count": 87,
      "outputs": [
        {
          "output_type": "stream",
          "text": [
            "fatal: destination path 'colab-notebooks' already exists and is not an empty directory.\n"
          ],
          "name": "stdout"
        }
      ]
    },
    {
      "cell_type": "code",
      "metadata": {
        "id": "x374pRKisibe",
        "colab_type": "code",
        "colab": {}
      },
      "source": [
        "import pandas as pd\n",
        "import mlxtend\n",
        "import numpy as np\n",
        "import matplotlib.pyplot as plt\n",
        "import seaborn as sns\n",
        "\n",
        "from collections import OrderedDict\n",
        "from sklearn.datasets import load_breast_cancer\n",
        "from sklearn.datasets import make_classification\n",
        "from sklearn.ensemble import AdaBoostClassifier\n",
        "from sklearn.ensemble import BaggingClassifier\n",
        "from sklearn.ensemble import GradientBoostingRegressor\n",
        "from sklearn.ensemble import RandomForestClassifier\n",
        "from sklearn.ensemble import RandomForestRegressor\n",
        "from sklearn.ensemble import VotingClassifier\n",
        "from sklearn.linear_model import LogisticRegression\n",
        "from sklearn.model_selection import train_test_split\n",
        "from sklearn.model_selection import cross_val_score\n",
        "from sklearn.metrics import accuracy_score\n",
        "from sklearn.metrics import mean_squared_error as MSE\n",
        "from sklearn.metrics import roc_auc_score\n",
        "from sklearn.model_selection import GridSearchCV\n",
        "from sklearn.neighbors import KNeighborsClassifier\n",
        "from sklearn.preprocessing import LabelEncoder\n",
        "from sklearn.tree import DecisionTreeClassifier\n",
        "from sklearn.tree import DecisionTreeRegressor\n",
        "from sklearn.utils import check_random_state\n",
        "from mlxtend.utils import check_Xy\n",
        "from mlxtend.plotting import plot_decision_regions\n",
        "\n",
        "from IPython.display import Image"
      ],
      "execution_count": 0,
      "outputs": []
    },
    {
      "cell_type": "code",
      "metadata": {
        "id": "3tb8xGLHtxq3",
        "colab_type": "code",
        "colab": {}
      },
      "source": [
        "check_random_state(1)\n",
        "ds = load_breast_cancer()\n",
        "ds.feature_names\n",
        "sns.set(style='ticks', color_codes=True)"
      ],
      "execution_count": 0,
      "outputs": []
    },
    {
      "cell_type": "code",
      "metadata": {
        "id": "BABjoev4txpZ",
        "colab_type": "code",
        "colab": {}
      },
      "source": [
        "X = pd.DataFrame(ds.data[:, [0,7]], columns=['mean_radius', \n",
        "                                             'mean concave points'])\n",
        "y = pd.Series(ds.target)\n",
        "X_train, X_test, y_train, y_test = train_test_split(X, y, test_size=0.2, \n",
        "                                                    stratify=y, random_state=1)"
      ],
      "execution_count": 0,
      "outputs": []
    },
    {
      "cell_type": "code",
      "metadata": {
        "id": "RHu13N8Jtxlc",
        "colab_type": "code",
        "outputId": "20784f41-aaae-4edd-c7fe-3249e8851b16",
        "colab": {
          "base_uri": "https://localhost:8080/",
          "height": 34
        }
      },
      "source": [
        "dt = DecisionTreeClassifier(max_depth=6, random_state=1)\n",
        "dt.fit(X_train, y_train)\n",
        "y_pred = dt.predict(X_test)\n",
        "print(y_pred[0:5])"
      ],
      "execution_count": 91,
      "outputs": [
        {
          "output_type": "stream",
          "text": [
            "[1 0 1 1 0]\n"
          ],
          "name": "stdout"
        }
      ]
    },
    {
      "cell_type": "code",
      "metadata": {
        "id": "hBNNf6bQtxiS",
        "colab_type": "code",
        "outputId": "7152a950-d39d-4b1d-de09-4aae2b805be9",
        "colab": {
          "base_uri": "https://localhost:8080/",
          "height": 34
        }
      },
      "source": [
        "acc = accuracy_score(y_test, y_pred)\n",
        "print(f'Test set accuracy: {acc:.2f}')"
      ],
      "execution_count": 92,
      "outputs": [
        {
          "output_type": "stream",
          "text": [
            "Test set accuracy: 0.89\n"
          ],
          "name": "stdout"
        }
      ]
    },
    {
      "cell_type": "markdown",
      "metadata": {
        "id": "Wl3xkUMp0c9-",
        "colab_type": "text"
      },
      "source": [
        "## Logistic regression vs classification trees"
      ]
    },
    {
      "cell_type": "code",
      "metadata": {
        "id": "yvxFUmHotxe-",
        "colab_type": "code",
        "colab": {}
      },
      "source": [
        "def plot_labeled_decision_regions(X,y, models):    \n",
        "    '''\n",
        "    Function producing a scatter plot of the instances contained \n",
        "    in the 2D dataset (X,y) along with the decision \n",
        "    regions of two trained classification models contained in the\n",
        "    list 'models'.\n",
        "            \n",
        "    Parameters\n",
        "    ----------\n",
        "    X: pandas DataFrame corresponding to two numerical features \n",
        "    y: pandas Series corresponding the class labels\n",
        "    models: list containing two trained classifiers \n",
        "    \n",
        "    '''\n",
        "    if len(models) != 2:\n",
        "        raise Exception('''\n",
        "        Models should be a list containing only two trained classifiers.\n",
        "        ''')\n",
        "    if not isinstance(X, pd.DataFrame):\n",
        "        raise Exception('''\n",
        "        X has to be a pandas DataFrame with two numerical features.\n",
        "        ''')\n",
        "    if not isinstance(y, pd.Series):\n",
        "        raise Exception('''\n",
        "        y has to be a pandas Series corresponding to the labels.\n",
        "        ''')\n",
        "    fig, ax = plt.subplots(1, 2, figsize=(6.0,2.7), sharey=True)\n",
        "    for i, model in enumerate(models):\n",
        "        plot_decision_regions(X.values,y.values, model, legend= 2, ax = ax[i])\n",
        "        ax[i].set_title(model.__class__.__name__)\n",
        "        ax[i].set_xlabel(X.columns[0])\n",
        "        if i == 0:\n",
        "            ax[i].set_ylabel(X.columns[1])\n",
        "        ax[i].set_ylim(X.values[:,1].min(), X.values[:,1].max())\n",
        "        ax[i].set_xlim(X.values[:,0].min(), X.values[:,0].max())\n",
        "    plt.tight_layout()\n",
        "    plt.show()"
      ],
      "execution_count": 0,
      "outputs": []
    },
    {
      "cell_type": "code",
      "metadata": {
        "id": "XhSmzy7Otxb4",
        "colab_type": "code",
        "outputId": "2a87e580-3782-4c9e-aa09-e09e8e90836b",
        "colab": {
          "base_uri": "https://localhost:8080/",
          "height": 199
        }
      },
      "source": [
        "logreg = LogisticRegression(random_state=1)\n",
        "\n",
        "logreg.fit(X_train, y_train)\n",
        "clfs = [logreg, dt]\n",
        "\n",
        "plot_labeled_decision_regions(X_test, y_test, clfs)\n"
      ],
      "execution_count": 94,
      "outputs": [
        {
          "output_type": "display_data",
          "data": {
            "image/png": "[encoded data removed]",
            "text/plain": [
              "<Figure size 432x194.4 with 2 Axes>"
            ]
          },
          "metadata": {
            "tags": []
          }
        }
      ]
    },
    {
      "cell_type": "code",
      "metadata": {
        "id": "PS4arXcoMfdl",
        "colab_type": "code",
        "colab": {}
      },
      "source": [
        "accuracy_gini = accuracy_score(y_test, y_pred)"
      ],
      "execution_count": 0,
      "outputs": []
    },
    {
      "cell_type": "markdown",
      "metadata": {
        "id": "Sm7CT4HtEaOX",
        "colab_type": "text"
      },
      "source": [
        "## Decision Trees from Scratch"
      ]
    },
    {
      "cell_type": "code",
      "metadata": {
        "id": "VY15QAHStxY-",
        "colab_type": "code",
        "colab": {}
      },
      "source": [
        "training_data = [\n",
        "    ['Green', 3, 'Apple'],\n",
        "    ['Yellow', 3, 'Apple'],\n",
        "    ['Red', 1, 'Grape'],\n",
        "    ['Red', 1, 'Grape'],\n",
        "    ['Yellow', 3, 'Lemon'],\n",
        "]\n",
        "header = ['color', 'diameter', 'label']\n",
        "df = pd.DataFrame(training_data, columns=header)"
      ],
      "execution_count": 0,
      "outputs": []
    },
    {
      "cell_type": "code",
      "metadata": {
        "id": "TLoKqe03dPSS",
        "colab_type": "code",
        "colab": {}
      },
      "source": [
        "def class_counts(rows):\n",
        "    \"\"\"Counts the number of each type of example in a dataset.\"\"\"\n",
        "    counts = {}  # a dictionary of label -> count.\n",
        "    for row in rows:\n",
        "        # in our dataset format, the label is always the last column\n",
        "        label = row[-1]\n",
        "        if label not in counts:\n",
        "            counts[label] = 0\n",
        "        counts[label] += 1\n",
        "    return counts"
      ],
      "execution_count": 0,
      "outputs": []
    },
    {
      "cell_type": "code",
      "metadata": {
        "id": "Kb0cIcrvdOtR",
        "colab_type": "code",
        "outputId": "dc0e768a-6ef7-44ce-c327-b2afd1b4364b",
        "colab": {
          "base_uri": "https://localhost:8080/",
          "height": 34
        }
      },
      "source": [
        "#######\n",
        "# Demo:\n",
        "class_counts(training_data)\n",
        "#######"
      ],
      "execution_count": 98,
      "outputs": [
        {
          "output_type": "execute_result",
          "data": {
            "text/plain": [
              "{'Apple': 2, 'Grape': 2, 'Lemon': 1}"
            ]
          },
          "metadata": {
            "tags": []
          },
          "execution_count": 98
        }
      ]
    },
    {
      "cell_type": "code",
      "metadata": {
        "id": "UBdbfjWHtxV-",
        "colab_type": "code",
        "outputId": "b8c471f7-120c-42be-e166-75fdec746731",
        "colab": {
          "base_uri": "https://localhost:8080/",
          "height": 50
        }
      },
      "source": [
        "print(df['color'].unique())\n",
        "print(df.iloc[:, 0].unique())"
      ],
      "execution_count": 99,
      "outputs": [
        {
          "output_type": "stream",
          "text": [
            "['Green' 'Yellow' 'Red']\n",
            "['Green' 'Yellow' 'Red']\n"
          ],
          "name": "stdout"
        }
      ]
    },
    {
      "cell_type": "code",
      "metadata": {
        "id": "4L-Z5GWhtxS4",
        "colab_type": "code",
        "outputId": "83653865-c01d-4ed0-d641-40710de99075",
        "colab": {
          "base_uri": "https://localhost:8080/",
          "height": 84
        }
      },
      "source": [
        "df['label'].value_counts()"
      ],
      "execution_count": 100,
      "outputs": [
        {
          "output_type": "execute_result",
          "data": {
            "text/plain": [
              "Grape    2\n",
              "Apple    2\n",
              "Lemon    1\n",
              "Name: label, dtype: int64"
            ]
          },
          "metadata": {
            "tags": []
          },
          "execution_count": 100
        }
      ]
    },
    {
      "cell_type": "code",
      "metadata": {
        "id": "jLzPykpbtxP3",
        "colab_type": "code",
        "colab": {}
      },
      "source": [
        "def is_numeric(value):\n",
        "    \"\"\"Test if a value is numeric.\"\"\"\n",
        "    return isinstance(value, int) or isinstance(value, float)"
      ],
      "execution_count": 0,
      "outputs": []
    },
    {
      "cell_type": "code",
      "metadata": {
        "id": "cfHpXvJ5txM6",
        "colab_type": "code",
        "outputId": "dd41a7b1-e583-4f74-837e-f3d7c8cc300a",
        "colab": {
          "base_uri": "https://localhost:8080/",
          "height": 34
        }
      },
      "source": [
        "#######\n",
        "# Demo:\n",
        "is_numeric(7)\n",
        "# is_numeric(\"Red\")\n",
        "#######"
      ],
      "execution_count": 102,
      "outputs": [
        {
          "output_type": "execute_result",
          "data": {
            "text/plain": [
              "True"
            ]
          },
          "metadata": {
            "tags": []
          },
          "execution_count": 102
        }
      ]
    },
    {
      "cell_type": "code",
      "metadata": {
        "id": "uocyd3YqtxKW",
        "colab_type": "code",
        "colab": {}
      },
      "source": [
        "class Question:\n",
        "  def __init__(self, column, value):\n",
        "    self.column = column\n",
        "    self.value = value\n",
        "  \n",
        "  def match(self, example):\n",
        "    val = example[self.column]\n",
        "    if is_numeric(val):\n",
        "      return val >= self.value\n",
        "    else:\n",
        "      return val == self.value\n",
        "\n",
        "  def __repr__(self):\n",
        "    condition = '=='\n",
        "    if is_numeric(self.value):\n",
        "      condition = '>='\n",
        "    return f'Is {header[self.column]} {condition} {str(self.value)}?'"
      ],
      "execution_count": 0,
      "outputs": []
    },
    {
      "cell_type": "code",
      "metadata": {
        "id": "q-_Dwr94IkAG",
        "colab_type": "code",
        "outputId": "3783b9d2-8d34-41f7-c8b0-a7dc1edff23c",
        "colab": {
          "base_uri": "https://localhost:8080/",
          "height": 34
        }
      },
      "source": [
        "Question(1, 3)"
      ],
      "execution_count": 104,
      "outputs": [
        {
          "output_type": "execute_result",
          "data": {
            "text/plain": [
              "Is diameter >= 3?"
            ]
          },
          "metadata": {
            "tags": []
          },
          "execution_count": 104
        }
      ]
    },
    {
      "cell_type": "code",
      "metadata": {
        "id": "99z3lCEzIlFk",
        "colab_type": "code",
        "outputId": "07b5a7fa-d2c7-4516-fd9f-5bd92614a919",
        "colab": {
          "base_uri": "https://localhost:8080/",
          "height": 34
        }
      },
      "source": [
        "q = Question(0, 'Green')\n",
        "q"
      ],
      "execution_count": 105,
      "outputs": [
        {
          "output_type": "execute_result",
          "data": {
            "text/plain": [
              "Is color == Green?"
            ]
          },
          "metadata": {
            "tags": []
          },
          "execution_count": 105
        }
      ]
    },
    {
      "cell_type": "code",
      "metadata": {
        "id": "VNJtjkLdIlBm",
        "colab_type": "code",
        "outputId": "ff6c5e60-a881-42ab-9a90-8a86263b4d6e",
        "colab": {
          "base_uri": "https://localhost:8080/",
          "height": 34
        }
      },
      "source": [
        "example = training_data[0]\n",
        "q.match(example)"
      ],
      "execution_count": 106,
      "outputs": [
        {
          "output_type": "execute_result",
          "data": {
            "text/plain": [
              "True"
            ]
          },
          "metadata": {
            "tags": []
          },
          "execution_count": 106
        }
      ]
    },
    {
      "cell_type": "code",
      "metadata": {
        "id": "X9-hq_jja4rh",
        "colab_type": "code",
        "outputId": "ada48f40-6c49-40c2-c299-cf0223e1e693",
        "colab": {
          "base_uri": "https://localhost:8080/",
          "height": 50
        }
      },
      "source": [
        "question_color_red = Question(0, 'Red')\n",
        "print(question_color_red)\n",
        "question_color_red.match(['Red', 1, 'Grape'])"
      ],
      "execution_count": 107,
      "outputs": [
        {
          "output_type": "stream",
          "text": [
            "Is color == Red?\n"
          ],
          "name": "stdout"
        },
        {
          "output_type": "execute_result",
          "data": {
            "text/plain": [
              "True"
            ]
          },
          "metadata": {
            "tags": []
          },
          "execution_count": 107
        }
      ]
    },
    {
      "cell_type": "code",
      "metadata": {
        "id": "xNdCml39Ik_8",
        "colab_type": "code",
        "colab": {}
      },
      "source": [
        "def partition(rows, question):\n",
        "  true_rows, false_rows = [], []\n",
        "  for row in rows:\n",
        "    if question.match(row):\n",
        "      true_rows.append(row)\n",
        "    else:\n",
        "      false_rows.append(row)\n",
        "  return true_rows, false_rows"
      ],
      "execution_count": 0,
      "outputs": []
    },
    {
      "cell_type": "code",
      "metadata": {
        "id": "ELqw0aeOIk71",
        "colab_type": "code",
        "outputId": "d89e2c77-f2f2-4dcd-8af2-14526ad553e2",
        "colab": {
          "base_uri": "https://localhost:8080/",
          "height": 50
        }
      },
      "source": [
        "true_rows, false_rows = partition(training_data, Question(0, 'Red'))\n",
        "true_rows, false_rows"
      ],
      "execution_count": 109,
      "outputs": [
        {
          "output_type": "execute_result",
          "data": {
            "text/plain": [
              "([['Red', 1, 'Grape'], ['Red', 1, 'Grape']],\n",
              " [['Green', 3, 'Apple'], ['Yellow', 3, 'Apple'], ['Yellow', 3, 'Lemon']])"
            ]
          },
          "metadata": {
            "tags": []
          },
          "execution_count": 109
        }
      ]
    },
    {
      "cell_type": "code",
      "metadata": {
        "id": "xyUMAdcrIk59",
        "colab_type": "code",
        "colab": {}
      },
      "source": [
        "def gini(rows):\n",
        "  counts = class_counts(rows)\n",
        "  print(f'counts: {counts}')\n",
        "  impurity = 1\n",
        "  for lbl in counts:\n",
        "    prob_of_lbl = counts[lbl] / float(len(rows))\n",
        "    impurity -= prob_of_lbl**2\n",
        "    print(f'impurity: {impurity}')\n",
        "  return impurity\n"
      ],
      "execution_count": 0,
      "outputs": []
    },
    {
      "cell_type": "code",
      "metadata": {
        "id": "uriN63MxIk2h",
        "colab_type": "code",
        "outputId": "04493680-7650-466b-e8ec-de4ad197ef21",
        "colab": {
          "base_uri": "https://localhost:8080/",
          "height": 67
        }
      },
      "source": [
        "no_mixing = [['Apple'], ['Apple']]\n",
        "gini(no_mixing)"
      ],
      "execution_count": 111,
      "outputs": [
        {
          "output_type": "stream",
          "text": [
            "counts: {'Apple': 2}\n",
            "impurity: 0.0\n"
          ],
          "name": "stdout"
        },
        {
          "output_type": "execute_result",
          "data": {
            "text/plain": [
              "0.0"
            ]
          },
          "metadata": {
            "tags": []
          },
          "execution_count": 111
        }
      ]
    },
    {
      "cell_type": "code",
      "metadata": {
        "id": "K9aY7AzVIky3",
        "colab_type": "code",
        "outputId": "b392b0fa-d369-4125-f792-c140aa85fc2c",
        "colab": {
          "base_uri": "https://localhost:8080/",
          "height": 84
        }
      },
      "source": [
        "some_mixing = [['Apple'], ['Orange']]\n",
        "gini(some_mixing)"
      ],
      "execution_count": 112,
      "outputs": [
        {
          "output_type": "stream",
          "text": [
            "counts: {'Apple': 1, 'Orange': 1}\n",
            "impurity: 0.75\n",
            "impurity: 0.5\n"
          ],
          "name": "stdout"
        },
        {
          "output_type": "execute_result",
          "data": {
            "text/plain": [
              "0.5"
            ]
          },
          "metadata": {
            "tags": []
          },
          "execution_count": 112
        }
      ]
    },
    {
      "cell_type": "code",
      "metadata": {
        "id": "qUagFM7qIkxl",
        "colab_type": "code",
        "outputId": "dc154144-c030-4e4f-90a6-fbfb94efab0c",
        "colab": {
          "base_uri": "https://localhost:8080/",
          "height": 134
        }
      },
      "source": [
        "lots_of_mixing = [['Apple'], ['Orange'], ['Grape'], ['Grapefruit'], ['Blueberry']]\n",
        "gini(lots_of_mixing)"
      ],
      "execution_count": 113,
      "outputs": [
        {
          "output_type": "stream",
          "text": [
            "counts: {'Apple': 1, 'Orange': 1, 'Grape': 1, 'Grapefruit': 1, 'Blueberry': 1}\n",
            "impurity: 0.96\n",
            "impurity: 0.9199999999999999\n",
            "impurity: 0.8799999999999999\n",
            "impurity: 0.8399999999999999\n",
            "impurity: 0.7999999999999998\n"
          ],
          "name": "stdout"
        },
        {
          "output_type": "execute_result",
          "data": {
            "text/plain": [
              "0.7999999999999998"
            ]
          },
          "metadata": {
            "tags": []
          },
          "execution_count": 113
        }
      ]
    },
    {
      "cell_type": "code",
      "metadata": {
        "id": "7rBS4VgIIkuQ",
        "colab_type": "code",
        "outputId": "38e97c82-c3e1-48b4-81e4-d5e9c6cc744e",
        "colab": {
          "base_uri": "https://localhost:8080/",
          "height": 101
        }
      },
      "source": [
        "huge_mixing = [['Apple'], ['Apple'], ['Apple'], ['Grape'], ['Grape'], \n",
        "                       ['Blueberry'], ['Blueberry'], ['Apple'], ['Apple']]\n",
        "gini(huge_mixing)"
      ],
      "execution_count": 114,
      "outputs": [
        {
          "output_type": "stream",
          "text": [
            "counts: {'Apple': 5, 'Grape': 2, 'Blueberry': 2}\n",
            "impurity: 0.691358024691358\n",
            "impurity: 0.6419753086419753\n",
            "impurity: 0.5925925925925926\n"
          ],
          "name": "stdout"
        },
        {
          "output_type": "execute_result",
          "data": {
            "text/plain": [
              "0.5925925925925926"
            ]
          },
          "metadata": {
            "tags": []
          },
          "execution_count": 114
        }
      ]
    },
    {
      "cell_type": "code",
      "metadata": {
        "id": "8hHkOkrWIkqv",
        "colab_type": "code",
        "colab": {}
      },
      "source": [
        "def info_gain(left, right, current_uncertainty):\n",
        "  p = float(len(left)) / (len(left) + len(right))\n",
        "  return current_uncertainty - p * gini(left) - (1 - p) * gini(right)"
      ],
      "execution_count": 0,
      "outputs": []
    },
    {
      "cell_type": "code",
      "metadata": {
        "id": "xUz2MhZ-IknR",
        "colab_type": "code",
        "outputId": "813b1187-048b-4953-92c0-f48ea6dbc4a7",
        "colab": {
          "base_uri": "https://localhost:8080/",
          "height": 101
        }
      },
      "source": [
        "current_uncertainty = gini(training_data)\n",
        "current_uncertainty"
      ],
      "execution_count": 116,
      "outputs": [
        {
          "output_type": "stream",
          "text": [
            "counts: {'Apple': 2, 'Grape': 2, 'Lemon': 1}\n",
            "impurity: 0.84\n",
            "impurity: 0.6799999999999999\n",
            "impurity: 0.6399999999999999\n"
          ],
          "name": "stdout"
        },
        {
          "output_type": "execute_result",
          "data": {
            "text/plain": [
              "0.6399999999999999"
            ]
          },
          "metadata": {
            "tags": []
          },
          "execution_count": 116
        }
      ]
    },
    {
      "cell_type": "code",
      "metadata": {
        "id": "R0wAU8n9IkmA",
        "colab_type": "code",
        "outputId": "335b30f2-43ac-49ad-a00f-d5052e284226",
        "colab": {
          "base_uri": "https://localhost:8080/",
          "height": 134
        }
      },
      "source": [
        "true_rows, false_rows = partition(training_data, Question(0, 'Green'))\n",
        "info_gain(true_rows, false_rows, current_uncertainty)"
      ],
      "execution_count": 117,
      "outputs": [
        {
          "output_type": "stream",
          "text": [
            "counts: {'Apple': 1}\n",
            "impurity: 0.0\n",
            "counts: {'Apple': 1, 'Grape': 2, 'Lemon': 1}\n",
            "impurity: 0.9375\n",
            "impurity: 0.6875\n",
            "impurity: 0.625\n"
          ],
          "name": "stdout"
        },
        {
          "output_type": "execute_result",
          "data": {
            "text/plain": [
              "0.1399999999999999"
            ]
          },
          "metadata": {
            "tags": []
          },
          "execution_count": 117
        }
      ]
    },
    {
      "cell_type": "code",
      "metadata": {
        "id": "u1VabfdMIkh2",
        "colab_type": "code",
        "outputId": "299f0e87-9c96-4854-99fc-745652e30ccc",
        "colab": {
          "base_uri": "https://localhost:8080/",
          "height": 118
        }
      },
      "source": [
        "true_rows, false_rows = partition(training_data, Question(0, 'Red'))\n",
        "info_gain(true_rows, false_rows, current_uncertainty)"
      ],
      "execution_count": 118,
      "outputs": [
        {
          "output_type": "stream",
          "text": [
            "counts: {'Grape': 2}\n",
            "impurity: 0.0\n",
            "counts: {'Apple': 2, 'Lemon': 1}\n",
            "impurity: 0.5555555555555556\n",
            "impurity: 0.4444444444444445\n"
          ],
          "name": "stdout"
        },
        {
          "output_type": "execute_result",
          "data": {
            "text/plain": [
              "0.37333333333333324"
            ]
          },
          "metadata": {
            "tags": []
          },
          "execution_count": 118
        }
      ]
    },
    {
      "cell_type": "code",
      "metadata": {
        "id": "R4rEvqf7Ikeq",
        "colab_type": "code",
        "outputId": "9f8a8c51-f9c9-4b74-d90f-a0bf823c5fc8",
        "colab": {
          "base_uri": "https://localhost:8080/",
          "height": 34
        }
      },
      "source": [
        "true_rows"
      ],
      "execution_count": 119,
      "outputs": [
        {
          "output_type": "execute_result",
          "data": {
            "text/plain": [
              "[['Red', 1, 'Grape'], ['Red', 1, 'Grape']]"
            ]
          },
          "metadata": {
            "tags": []
          },
          "execution_count": 119
        }
      ]
    },
    {
      "cell_type": "code",
      "metadata": {
        "id": "oHZ1zlwpIka9",
        "colab_type": "code",
        "outputId": "08893c37-1c65-4248-bd9d-1e9c29901a00",
        "colab": {
          "base_uri": "https://localhost:8080/",
          "height": 34
        }
      },
      "source": [
        "false_rows"
      ],
      "execution_count": 120,
      "outputs": [
        {
          "output_type": "execute_result",
          "data": {
            "text/plain": [
              "[['Green', 3, 'Apple'], ['Yellow', 3, 'Apple'], ['Yellow', 3, 'Lemon']]"
            ]
          },
          "metadata": {
            "tags": []
          },
          "execution_count": 120
        }
      ]
    },
    {
      "cell_type": "code",
      "metadata": {
        "id": "fwya23cAIkXl",
        "colab_type": "code",
        "outputId": "03ae3bf5-63b2-4da9-eab4-534b7812f530",
        "colab": {
          "base_uri": "https://localhost:8080/",
          "height": 34
        }
      },
      "source": [
        "# On the other hand, partitioning by Green doesn't help so much.\n",
        "true_rows, false_rows = partition(training_data, Question(0,'Green'))\n",
        "\n",
        "# We've isolated one apple in the true rows.\n",
        "true_rows"
      ],
      "execution_count": 121,
      "outputs": [
        {
          "output_type": "execute_result",
          "data": {
            "text/plain": [
              "[['Green', 3, 'Apple']]"
            ]
          },
          "metadata": {
            "tags": []
          },
          "execution_count": 121
        }
      ]
    },
    {
      "cell_type": "code",
      "metadata": {
        "id": "VgMBShCiIkU2",
        "colab_type": "code",
        "outputId": "8abb2b23-bec7-49bd-9c3e-197882766a17",
        "colab": {
          "base_uri": "https://localhost:8080/",
          "height": 84
        }
      },
      "source": [
        "# But, the false-rows are badly mixed up.\n",
        "false_rows\n",
        "#######"
      ],
      "execution_count": 122,
      "outputs": [
        {
          "output_type": "execute_result",
          "data": {
            "text/plain": [
              "[['Yellow', 3, 'Apple'],\n",
              " ['Red', 1, 'Grape'],\n",
              " ['Red', 1, 'Grape'],\n",
              " ['Yellow', 3, 'Lemon']]"
            ]
          },
          "metadata": {
            "tags": []
          },
          "execution_count": 122
        }
      ]
    },
    {
      "cell_type": "code",
      "metadata": {
        "id": "DV1-RclbIkSg",
        "colab_type": "code",
        "colab": {}
      },
      "source": [
        "def find_best_split(rows):\n",
        "  \"\"\"Find the best question to ask by iterating over every feature / value\n",
        "  and calculating the information gain.\"\"\"\n",
        "  best_gain = 0\n",
        "  best_question = None\n",
        "  current_uncertainty = gini(rows)\n",
        "  n_features = len(rows[0]) - 1\n",
        "  for col in range(n_features):\n",
        "    values = set([row[col] for row in rows])\n",
        "    for val in values:\n",
        "      question = Question(col, val)\n",
        "      true_rows, false_rows = partition(rows, question)\n",
        "      # skip this split if it doesn't divide the dataset\n",
        "      if len(true_rows) == 0 or len(false_rows) == 0:\n",
        "        continue\n",
        "      gain = info_gain(true_rows, false_rows, current_uncertainty)\n",
        "      if gain >= best_gain:\n",
        "        best_gain, best_question = gain, question\n",
        "      \n",
        "  return best_gain, best_question"
      ],
      "execution_count": 0,
      "outputs": []
    },
    {
      "cell_type": "code",
      "metadata": {
        "id": "ztAKUebdz707",
        "colab_type": "code",
        "outputId": "93d87d3b-9561-4845-e854-e1780eebd439",
        "colab": {
          "base_uri": "https://localhost:8080/",
          "height": 470
        }
      },
      "source": [
        "#######\n",
        "# Demo:\n",
        "# Find the best question to ask first for our toy dataset.\n",
        "best_gain, best_question = find_best_split(training_data)\n",
        "best_question\n",
        "# FYI: is color == Red is just as good. See the note in the code above\n",
        "# where I used '>='.\n",
        "#######"
      ],
      "execution_count": 124,
      "outputs": [
        {
          "output_type": "stream",
          "text": [
            "counts: {'Apple': 2, 'Grape': 2, 'Lemon': 1}\n",
            "impurity: 0.84\n",
            "impurity: 0.6799999999999999\n",
            "impurity: 0.6399999999999999\n",
            "counts: {'Apple': 1}\n",
            "impurity: 0.0\n",
            "counts: {'Apple': 1, 'Grape': 2, 'Lemon': 1}\n",
            "impurity: 0.9375\n",
            "impurity: 0.6875\n",
            "impurity: 0.625\n",
            "counts: {'Grape': 2}\n",
            "impurity: 0.0\n",
            "counts: {'Apple': 2, 'Lemon': 1}\n",
            "impurity: 0.5555555555555556\n",
            "impurity: 0.4444444444444445\n",
            "counts: {'Apple': 1, 'Lemon': 1}\n",
            "impurity: 0.75\n",
            "impurity: 0.5\n",
            "counts: {'Apple': 1, 'Grape': 2}\n",
            "impurity: 0.8888888888888888\n",
            "impurity: 0.4444444444444444\n",
            "counts: {'Apple': 2, 'Lemon': 1}\n",
            "impurity: 0.5555555555555556\n",
            "impurity: 0.4444444444444445\n",
            "counts: {'Grape': 2}\n",
            "impurity: 0.0\n"
          ],
          "name": "stdout"
        },
        {
          "output_type": "execute_result",
          "data": {
            "text/plain": [
              "Is diameter >= 3?"
            ]
          },
          "metadata": {
            "tags": []
          },
          "execution_count": 124
        }
      ]
    },
    {
      "cell_type": "code",
      "metadata": {
        "id": "T4HzFaBQCFRH",
        "colab_type": "code",
        "colab": {}
      },
      "source": [
        "class Leaf:\n",
        "  \"\"\"A Leaf node classifies data.\n",
        "\n",
        "  This holds a dictionary of class (e.g., \"Apple\") -> number of times\n",
        "  it appears in the rows from the training data that reach this leaf.\n",
        "  \"\"\"\n",
        "  def __init__(self, rows):\n",
        "    self.predictions = class_counts(rows)"
      ],
      "execution_count": 0,
      "outputs": []
    },
    {
      "cell_type": "code",
      "metadata": {
        "id": "vW8y7BnJz7xk",
        "colab_type": "code",
        "colab": {}
      },
      "source": [
        "class DecisionNode:\n",
        "  \"\"\"A Decision Node asks a question.\n",
        "  This holds a reference to the question, and to the two child nodes.\n",
        "  \"\"\"\n",
        "  def __init__(self,\n",
        "               question,\n",
        "               true_branch,\n",
        "               false_branch):\n",
        "    self.question = question\n",
        "    self.true_branch = true_branch\n",
        "    self.false_branch = false_branch"
      ],
      "execution_count": 0,
      "outputs": []
    },
    {
      "cell_type": "code",
      "metadata": {
        "id": "QL-e8Xj4z7v4",
        "colab_type": "code",
        "colab": {}
      },
      "source": [
        "def build_tree(rows):\n",
        "  \"\"\"Builds the tree.\n",
        "\n",
        "  Rules of recursion: 1) Believe that it works. 2) Start by checking\n",
        "  for the base case (no further information gain). 3) Prepare for\n",
        "  giant stack traces.\n",
        "  \"\"\"\n",
        "  gain, question = find_best_split(rows)\n",
        "  if gain == 0:\n",
        "    return Leaf(rows)\n",
        "\n",
        "  true_rows, false_rows = partition(rows, question)\n",
        "  true_branch = build_tree(true_rows)\n",
        "  false_branch = build_tree(false_rows)\n",
        "  return DecisionNode(question, true_branch, false_branch)"
      ],
      "execution_count": 0,
      "outputs": []
    },
    {
      "cell_type": "code",
      "metadata": {
        "id": "nNKsxJzgz7r-",
        "colab_type": "code",
        "colab": {}
      },
      "source": [
        "def print_tree(node, spacing=\"\"):\n",
        "  \"\"\"World's most elegant tree printing function.\"\"\"\n",
        "\n",
        "  # Base case: we've reached a leaf\n",
        "  if isinstance(node, Leaf):\n",
        "      print (spacing + \"Predict\", node.predictions)\n",
        "      return\n",
        "\n",
        "  # Print the question at this node\n",
        "  print (spacing + str(node.question))\n",
        "\n",
        "  # Call this function recursively on the true branch\n",
        "  print (spacing + '--> True:')\n",
        "  print_tree(node.true_branch, spacing + \"  \")\n",
        "\n",
        "  # Call this function recursively on the false branch\n",
        "  print (spacing + '--> False:')\n",
        "  print_tree(node.false_branch, spacing + \"  \")"
      ],
      "execution_count": 0,
      "outputs": []
    },
    {
      "cell_type": "code",
      "metadata": {
        "id": "QaRZe_KOz7oe",
        "colab_type": "code",
        "outputId": "4ce78932-ecf2-4ef5-a9ac-42a98d3ffe97",
        "colab": {
          "base_uri": "https://localhost:8080/",
          "height": 790
        }
      },
      "source": [
        "my_tree = build_tree(training_data)"
      ],
      "execution_count": 129,
      "outputs": [
        {
          "output_type": "stream",
          "text": [
            "counts: {'Apple': 2, 'Grape': 2, 'Lemon': 1}\n",
            "impurity: 0.84\n",
            "impurity: 0.6799999999999999\n",
            "impurity: 0.6399999999999999\n",
            "counts: {'Apple': 1}\n",
            "impurity: 0.0\n",
            "counts: {'Apple': 1, 'Grape': 2, 'Lemon': 1}\n",
            "impurity: 0.9375\n",
            "impurity: 0.6875\n",
            "impurity: 0.625\n",
            "counts: {'Grape': 2}\n",
            "impurity: 0.0\n",
            "counts: {'Apple': 2, 'Lemon': 1}\n",
            "impurity: 0.5555555555555556\n",
            "impurity: 0.4444444444444445\n",
            "counts: {'Apple': 1, 'Lemon': 1}\n",
            "impurity: 0.75\n",
            "impurity: 0.5\n",
            "counts: {'Apple': 1, 'Grape': 2}\n",
            "impurity: 0.8888888888888888\n",
            "impurity: 0.4444444444444444\n",
            "counts: {'Apple': 2, 'Lemon': 1}\n",
            "impurity: 0.5555555555555556\n",
            "impurity: 0.4444444444444445\n",
            "counts: {'Grape': 2}\n",
            "impurity: 0.0\n",
            "counts: {'Apple': 2, 'Lemon': 1}\n",
            "impurity: 0.5555555555555556\n",
            "impurity: 0.4444444444444445\n",
            "counts: {'Apple': 1}\n",
            "impurity: 0.0\n",
            "counts: {'Apple': 1, 'Lemon': 1}\n",
            "impurity: 0.75\n",
            "impurity: 0.5\n",
            "counts: {'Apple': 1, 'Lemon': 1}\n",
            "impurity: 0.75\n",
            "impurity: 0.5\n",
            "counts: {'Apple': 1}\n",
            "impurity: 0.0\n",
            "counts: {'Apple': 1, 'Lemon': 1}\n",
            "impurity: 0.75\n",
            "impurity: 0.5\n",
            "counts: {'Apple': 1}\n",
            "impurity: 0.0\n",
            "counts: {'Grape': 2}\n",
            "impurity: 0.0\n"
          ],
          "name": "stdout"
        }
      ]
    },
    {
      "cell_type": "code",
      "metadata": {
        "id": "teiLmbyIz7lh",
        "colab_type": "code",
        "outputId": "1af97573-dd90-48bf-bf4c-b6b2f5393ad0",
        "colab": {
          "base_uri": "https://localhost:8080/",
          "height": 168
        }
      },
      "source": [
        "print_tree(my_tree)"
      ],
      "execution_count": 130,
      "outputs": [
        {
          "output_type": "stream",
          "text": [
            "Is diameter >= 3?\n",
            "--> True:\n",
            "  Is color == Yellow?\n",
            "  --> True:\n",
            "    Predict {'Apple': 1, 'Lemon': 1}\n",
            "  --> False:\n",
            "    Predict {'Apple': 1}\n",
            "--> False:\n",
            "  Predict {'Grape': 2}\n"
          ],
          "name": "stdout"
        }
      ]
    },
    {
      "cell_type": "code",
      "metadata": {
        "id": "IEyp3q55z7jN",
        "colab_type": "code",
        "colab": {}
      },
      "source": [
        "def classify(row, node):\n",
        "  if isinstance(node, Leaf):\n",
        "    return node.predictions\n",
        "\n",
        "  if node.question.match(row):\n",
        "    return classify(row, node.true_branch)\n",
        "  else:\n",
        "    return classify(row, node.false_branch)"
      ],
      "execution_count": 0,
      "outputs": []
    },
    {
      "cell_type": "code",
      "metadata": {
        "id": "KEMifUWuz7fh",
        "colab_type": "code",
        "outputId": "63190c27-69a7-4fd0-de81-2438d39fcd8f",
        "colab": {
          "base_uri": "https://localhost:8080/",
          "height": 34
        }
      },
      "source": [
        "#######\n",
        "# Demo:\n",
        "# The tree predicts the 1st row of our\n",
        "# training data is an apple with confidence 1.\n",
        "classify(training_data[0], my_tree)\n",
        "#######"
      ],
      "execution_count": 132,
      "outputs": [
        {
          "output_type": "execute_result",
          "data": {
            "text/plain": [
              "{'Apple': 1}"
            ]
          },
          "metadata": {
            "tags": []
          },
          "execution_count": 132
        }
      ]
    },
    {
      "cell_type": "code",
      "metadata": {
        "id": "bx67tdBEz7cV",
        "colab_type": "code",
        "colab": {}
      },
      "source": [
        "def print_leaf(counts):\n",
        "    \"\"\"A nicer way to print the predictions at a leaf.\"\"\"\n",
        "    total = sum(counts.values()) * 1.0\n",
        "    probs = {}\n",
        "    for lbl in counts.keys():\n",
        "        probs[lbl] = str(int(counts[lbl] / total * 100)) + \"%\"\n",
        "    return probs"
      ],
      "execution_count": 0,
      "outputs": []
    },
    {
      "cell_type": "code",
      "metadata": {
        "id": "z8v9CgdyIkPK",
        "colab_type": "code",
        "outputId": "5de3e49f-edc4-4dc4-c74b-71bf10599f1f",
        "colab": {
          "base_uri": "https://localhost:8080/",
          "height": 34
        }
      },
      "source": [
        "#######\n",
        "# Demo:\n",
        "# Printing that a bit nicer\n",
        "print_leaf(classify(training_data[0], my_tree))\n",
        "#######"
      ],
      "execution_count": 134,
      "outputs": [
        {
          "output_type": "execute_result",
          "data": {
            "text/plain": [
              "{'Apple': '100%'}"
            ]
          },
          "metadata": {
            "tags": []
          },
          "execution_count": 134
        }
      ]
    },
    {
      "cell_type": "code",
      "metadata": {
        "id": "MIxaZK6wIkLz",
        "colab_type": "code",
        "outputId": "0bbbe92f-f2fc-4ad3-df72-ad160ea57608",
        "colab": {
          "base_uri": "https://localhost:8080/",
          "height": 34
        }
      },
      "source": [
        "#######\n",
        "# Demo:\n",
        "# On the second example, the confidence is lower\n",
        "print_leaf(classify(training_data[1], my_tree))\n",
        "#######"
      ],
      "execution_count": 135,
      "outputs": [
        {
          "output_type": "execute_result",
          "data": {
            "text/plain": [
              "{'Apple': '50%', 'Lemon': '50%'}"
            ]
          },
          "metadata": {
            "tags": []
          },
          "execution_count": 135
        }
      ]
    },
    {
      "cell_type": "code",
      "metadata": {
        "id": "ulgucp3QIkJA",
        "colab_type": "code",
        "colab": {}
      },
      "source": [
        "# Evaluate\n",
        "testing_data = [\n",
        "    ['Green', 3, 'Apple'],\n",
        "    ['Yellow', 4, 'Apple'],\n",
        "    ['Red', 2, 'Grape'],\n",
        "    ['Red', 1, 'Grape'],\n",
        "    ['Yellow', 3, 'Lemon'],\n",
        "]"
      ],
      "execution_count": 0,
      "outputs": []
    },
    {
      "cell_type": "code",
      "metadata": {
        "id": "MBRU4MRtIkF0",
        "colab_type": "code",
        "outputId": "a8030fdf-e194-43b0-dff1-11f143d42f5d",
        "colab": {
          "base_uri": "https://localhost:8080/",
          "height": 101
        }
      },
      "source": [
        "for row in testing_data:\n",
        "    print (\"Actual: %s. Predicted: %s\" %\n",
        "           (row[-1], print_leaf(classify(row, my_tree))))"
      ],
      "execution_count": 137,
      "outputs": [
        {
          "output_type": "stream",
          "text": [
            "Actual: Apple. Predicted: {'Apple': '100%'}\n",
            "Actual: Apple. Predicted: {'Apple': '50%', 'Lemon': '50%'}\n",
            "Actual: Grape. Predicted: {'Grape': '100%'}\n",
            "Actual: Grape. Predicted: {'Grape': '100%'}\n",
            "Actual: Lemon. Predicted: {'Apple': '50%', 'Lemon': '50%'}\n"
          ],
          "name": "stdout"
        }
      ]
    },
    {
      "cell_type": "markdown",
      "metadata": {
        "id": "oj6n7MXXKg5O",
        "colab_type": "text"
      },
      "source": [
        "## Using entropy as a criterion"
      ]
    },
    {
      "cell_type": "code",
      "metadata": {
        "id": "jWJqP4QnF-KV",
        "colab_type": "code",
        "colab": {}
      },
      "source": [
        "check_random_state(1)\n",
        "ds = load_breast_cancer()\n",
        "X = pd.DataFrame(ds.data[:, [0,7]], columns=['mean_radius', \n",
        "                                             'mean concave points'])\n",
        "y = pd.Series(ds.target)\n",
        "X_train, X_test, y_train, y_test = train_test_split(X, y, test_size=0.2, \n",
        "                                                    stratify=y, random_state=1)"
      ],
      "execution_count": 0,
      "outputs": []
    },
    {
      "cell_type": "code",
      "metadata": {
        "id": "VIrMtktzF-Gd",
        "colab_type": "code",
        "outputId": "ef698383-f185-4bb6-e48c-337150a57184",
        "colab": {
          "base_uri": "https://localhost:8080/",
          "height": 50
        }
      },
      "source": [
        "dt_entropy = DecisionTreeClassifier(criterion='entropy', max_depth=8, random_state=1)\n",
        "dt_entropy.fit(X_train, y_train)\n",
        "y_pred = dt_entropy.predict(X_test)\n",
        "accuracy_entropy = accuracy_score(y_test, y_pred)\n",
        "print('Accuracy achieved by using entropy: ', accuracy_entropy)\n",
        "print('Accuracy achieved by using the gini index: ', accuracy_gini)"
      ],
      "execution_count": 139,
      "outputs": [
        {
          "output_type": "stream",
          "text": [
            "Accuracy achieved by using entropy:  0.9122807017543859\n",
            "Accuracy achieved by using the gini index:  0.8947368421052632\n"
          ],
          "name": "stdout"
        }
      ]
    },
    {
      "cell_type": "markdown",
      "metadata": {
        "id": "VkakznX_1KFE",
        "colab_type": "text"
      },
      "source": [
        "## Decision Tree for Regression"
      ]
    },
    {
      "cell_type": "code",
      "metadata": {
        "id": "x54cepm_F-D6",
        "colab_type": "code",
        "outputId": "3cc69216-8fd9-4b08-dc17-74532b93fa9f",
        "colab": {
          "base_uri": "https://localhost:8080/",
          "height": 246
        }
      },
      "source": [
        "auto_mpg_url = 'https://raw.githubusercontent.com/martin-fabbri/colab-notebooks/master/data/auto_mpg.csv'\n",
        "mpg = pd.read_csv(auto_mpg_url)\n",
        "mpg.head()"
      ],
      "execution_count": 140,
      "outputs": [
        {
          "output_type": "execute_result",
          "data": {
            "text/html": [
              "<div>\n",
              "<style scoped>\n",
              "    .dataframe tbody tr th:only-of-type {\n",
              "        vertical-align: middle;\n",
              "    }\n",
              "\n",
              "    .dataframe tbody tr th {\n",
              "        vertical-align: top;\n",
              "    }\n",
              "\n",
              "    .dataframe thead th {\n",
              "        text-align: right;\n",
              "    }\n",
              "</style>\n",
              "<table border=\"1\" class=\"dataframe\">\n",
              "  <thead>\n",
              "    <tr style=\"text-align: right;\">\n",
              "      <th></th>\n",
              "      <th>mpg</th>\n",
              "      <th>cylinders</th>\n",
              "      <th>displacement</th>\n",
              "      <th>horsepower</th>\n",
              "      <th>weight</th>\n",
              "      <th>acceleration</th>\n",
              "      <th>model_year</th>\n",
              "      <th>origin</th>\n",
              "      <th>car_name</th>\n",
              "    </tr>\n",
              "  </thead>\n",
              "  <tbody>\n",
              "    <tr>\n",
              "      <th>0</th>\n",
              "      <td>18.0</td>\n",
              "      <td>8</td>\n",
              "      <td>307.0</td>\n",
              "      <td>130</td>\n",
              "      <td>3504</td>\n",
              "      <td>12.0</td>\n",
              "      <td>70</td>\n",
              "      <td>1</td>\n",
              "      <td>chevrolet chevelle malibu</td>\n",
              "    </tr>\n",
              "    <tr>\n",
              "      <th>1</th>\n",
              "      <td>15.0</td>\n",
              "      <td>8</td>\n",
              "      <td>350.0</td>\n",
              "      <td>165</td>\n",
              "      <td>3693</td>\n",
              "      <td>11.5</td>\n",
              "      <td>70</td>\n",
              "      <td>1</td>\n",
              "      <td>buick skylark 320</td>\n",
              "    </tr>\n",
              "    <tr>\n",
              "      <th>2</th>\n",
              "      <td>18.0</td>\n",
              "      <td>8</td>\n",
              "      <td>318.0</td>\n",
              "      <td>150</td>\n",
              "      <td>3436</td>\n",
              "      <td>11.0</td>\n",
              "      <td>70</td>\n",
              "      <td>1</td>\n",
              "      <td>plymouth satellite</td>\n",
              "    </tr>\n",
              "    <tr>\n",
              "      <th>3</th>\n",
              "      <td>16.0</td>\n",
              "      <td>8</td>\n",
              "      <td>304.0</td>\n",
              "      <td>150</td>\n",
              "      <td>3433</td>\n",
              "      <td>12.0</td>\n",
              "      <td>70</td>\n",
              "      <td>1</td>\n",
              "      <td>amc rebel sst</td>\n",
              "    </tr>\n",
              "    <tr>\n",
              "      <th>4</th>\n",
              "      <td>17.0</td>\n",
              "      <td>8</td>\n",
              "      <td>302.0</td>\n",
              "      <td>140</td>\n",
              "      <td>3449</td>\n",
              "      <td>10.5</td>\n",
              "      <td>70</td>\n",
              "      <td>1</td>\n",
              "      <td>ford torino</td>\n",
              "    </tr>\n",
              "  </tbody>\n",
              "</table>\n",
              "</div>"
            ],
            "text/plain": [
              "    mpg  cylinders  displacement  ... model_year  origin                   car_name\n",
              "0  18.0          8         307.0  ...         70       1  chevrolet chevelle malibu\n",
              "1  15.0          8         350.0  ...         70       1          buick skylark 320\n",
              "2  18.0          8         318.0  ...         70       1         plymouth satellite\n",
              "3  16.0          8         304.0  ...         70       1              amc rebel sst\n",
              "4  17.0          8         302.0  ...         70       1                ford torino\n",
              "\n",
              "[5 rows x 9 columns]"
            ]
          },
          "metadata": {
            "tags": []
          },
          "execution_count": 140
        }
      ]
    },
    {
      "cell_type": "code",
      "metadata": {
        "id": "KPGc06zc1L7r",
        "colab_type": "code",
        "outputId": "6aee4b4f-0052-4083-f932-a6ca99b93e3f",
        "colab": {
          "base_uri": "https://localhost:8080/",
          "height": 118
        }
      },
      "source": [
        "X = mpg.drop(['mpg', 'horsepower', 'car_name'], axis=1)\n",
        "y = mpg['mpg']\n",
        "X_train, X_test, y_train, y_test = train_test_split(X, y, test_size=0.2, \n",
        "                                                    random_state=43)\n",
        "dt = DecisionTreeRegressor(max_depth=8, min_samples_leaf=0.13, random_state=3)\n",
        "dt.fit(X_train, y_train)"
      ],
      "execution_count": 141,
      "outputs": [
        {
          "output_type": "execute_result",
          "data": {
            "text/plain": [
              "DecisionTreeRegressor(ccp_alpha=0.0, criterion='mse', max_depth=8,\n",
              "                      max_features=None, max_leaf_nodes=None,\n",
              "                      min_impurity_decrease=0.0, min_impurity_split=None,\n",
              "                      min_samples_leaf=0.13, min_samples_split=2,\n",
              "                      min_weight_fraction_leaf=0.0, presort='deprecated',\n",
              "                      random_state=3, splitter='best')"
            ]
          },
          "metadata": {
            "tags": []
          },
          "execution_count": 141
        }
      ]
    },
    {
      "cell_type": "code",
      "metadata": {
        "id": "zyQPFprp1L6G",
        "colab_type": "code",
        "outputId": "7e8589a5-52f2-4ece-914c-d4ae45784fc9",
        "colab": {
          "base_uri": "https://localhost:8080/",
          "height": 34
        }
      },
      "source": [
        "y_pred = dt.predict(X_test)\n",
        "mse_dt = MSE(y_test, y_pred)\n",
        "rmse_dt = mse_dt ** 0.5\n",
        "print(f'Test set RMSE of dt: {rmse_dt:.2f}')"
      ],
      "execution_count": 142,
      "outputs": [
        {
          "output_type": "stream",
          "text": [
            "Test set RMSE of dt: 3.93\n"
          ],
          "name": "stdout"
        }
      ]
    },
    {
      "cell_type": "markdown",
      "metadata": {
        "id": "xmxMwlOQjdrt",
        "colab_type": "text"
      },
      "source": [
        "## The Bias-Variance Tradeoff"
      ]
    },
    {
      "cell_type": "code",
      "metadata": {
        "id": "RhbbSnHp1L1C",
        "colab_type": "code",
        "colab": {}
      },
      "source": [
        "SEED = 1\n",
        "X_train, X_test, y_train, y_test = train_test_split(X, y, test_size=0.3, \n",
        "                                                    random_state=SEED)\n",
        "dt = DecisionTreeRegressor(max_depth=4, min_samples_leaf=0.26, \n",
        "                            random_state=SEED)"
      ],
      "execution_count": 0,
      "outputs": []
    },
    {
      "cell_type": "code",
      "metadata": {
        "id": "Wgah9eSK1LzT",
        "colab_type": "code",
        "outputId": "b144276d-f357-41c9-b2e9-153e968074ff",
        "colab": {
          "base_uri": "https://localhost:8080/",
          "height": 34
        }
      },
      "source": [
        "MSE_CV_scores = - cross_val_score(dt, X_train, y_train, cv=10, \n",
        "                                  scoring='neg_mean_squared_error',\n",
        "                                  n_jobs=-1)\n",
        "RMSE_CV = (MSE_CV_scores.mean()) ** (1/2)\n",
        "f'CV RMSE: {RMSE_CV:.2f}'"
      ],
      "execution_count": 144,
      "outputs": [
        {
          "output_type": "execute_result",
          "data": {
            "text/plain": [
              "'CV RMSE: 4.80'"
            ]
          },
          "metadata": {
            "tags": []
          },
          "execution_count": 144
        }
      ]
    },
    {
      "cell_type": "code",
      "metadata": {
        "id": "7Kjsd9zD1LvL",
        "colab_type": "code",
        "outputId": "78e301cd-0d2f-4b57-965c-86f47446b61b",
        "colab": {
          "base_uri": "https://localhost:8080/",
          "height": 34
        }
      },
      "source": [
        "dt.fit(X_train, y_train)\n",
        "y_pred_train = dt.predict(X_train)\n",
        "RMSE_train = (MSE(y_train, y_pred_train)) ** (1/2)\n",
        "f'Train RMSE: {RMSE_CV:.2f}'\n"
      ],
      "execution_count": 145,
      "outputs": [
        {
          "output_type": "execute_result",
          "data": {
            "text/plain": [
              "'Train RMSE: 4.80'"
            ]
          },
          "metadata": {
            "tags": []
          },
          "execution_count": 145
        }
      ]
    },
    {
      "cell_type": "markdown",
      "metadata": {
        "id": "9uwCg-VE6-B9",
        "colab_type": "text"
      },
      "source": [
        "## Ensemble Learning"
      ]
    },
    {
      "cell_type": "code",
      "metadata": {
        "id": "jUE2N_yADedu",
        "colab_type": "code",
        "colab": {}
      },
      "source": [
        "ds = load_breast_cancer()\n",
        "X = pd.DataFrame(ds.data[:, [0,7]], columns=['mean_radius', \n",
        "                                             'mean_concave_points'])\n",
        "y = pd.Series(ds.target)\n",
        "X_train, X_test, y_train, y_test = train_test_split(X, y, test_size=0.2, \n",
        "                                                    stratify=y, random_state=1)"
      ],
      "execution_count": 0,
      "outputs": []
    },
    {
      "cell_type": "code",
      "metadata": {
        "id": "GrzLlygD6_oF",
        "colab_type": "code",
        "outputId": "72ceb188-a1f9-4e1a-f5db-6afd16e8b6cc",
        "colab": {
          "base_uri": "https://localhost:8080/",
          "height": 67
        }
      },
      "source": [
        "SEED = 1\n",
        "lr = LogisticRegression(random_state=SEED)\n",
        "knn = KNeighborsClassifier(n_neighbors=27)\n",
        "dt = DecisionTreeClassifier(min_samples_leaf=0.13, random_state=SEED)\n",
        "\n",
        "classifiers = [\n",
        "  ('Logistic Regression', lr),\n",
        "  ('K Nearest Neighbours', knn),\n",
        "  ('Classification Tree', dt)\n",
        "]\n",
        "\n",
        "for clf_name, clf in classifiers:\n",
        "  clf.fit(X_train, y_train)\n",
        "  y_pred = clf.predict(X_test)\n",
        "  accuracy = accuracy_score(y_test, y_pred)\n",
        "  print(f'{clf_name} : {accuracy:.3f}') "
      ],
      "execution_count": 147,
      "outputs": [
        {
          "output_type": "stream",
          "text": [
            "Logistic Regression : 0.912\n",
            "K Nearest Neighbours : 0.904\n",
            "Classification Tree : 0.912\n"
          ],
          "name": "stdout"
        }
      ]
    },
    {
      "cell_type": "code",
      "metadata": {
        "id": "mhin3JqY6_jv",
        "colab_type": "code",
        "outputId": "6241e153-4bed-45ba-cbe8-3c6d1dcdfb55",
        "colab": {
          "base_uri": "https://localhost:8080/",
          "height": 34
        }
      },
      "source": [
        "vc = VotingClassifier(estimators=classifiers)\n",
        "vc.fit(X_train, y_train)\n",
        "y_pred = vc.predict(X_test)\n",
        "accuracy = accuracy_score(y_test, y_pred)\n",
        "print(f'Voting Classifier: {accuracy:.3f}')"
      ],
      "execution_count": 148,
      "outputs": [
        {
          "output_type": "stream",
          "text": [
            "Voting Classifier: 0.912\n"
          ],
          "name": "stdout"
        }
      ]
    },
    {
      "cell_type": "markdown",
      "metadata": {
        "id": "8Yiosagkmx0_",
        "colab_type": "text"
      },
      "source": [
        "\n",
        "## Bagging and Random Forests\n"
      ]
    },
    {
      "cell_type": "code",
      "metadata": {
        "id": "Iw3VMef46_hD",
        "colab_type": "code",
        "outputId": "46d06c74-27cb-4b1a-d7ef-2110d3c156b9",
        "colab": {
          "base_uri": "https://localhost:8080/",
          "height": 34
        }
      },
      "source": [
        "dt = DecisionTreeClassifier(random_state=1)\n",
        "bc = BaggingClassifier(base_estimator=dt, n_estimators=50, random_state=1)\n",
        "bc.fit(X_train, y_train)\n",
        "y_pred = bc.predict(X_test)\n",
        "acc_test = accuracy_score(y_test, y_pred)\n",
        "print(f'Test set accuracy of bc: {acc_test:.2f}')"
      ],
      "execution_count": 149,
      "outputs": [
        {
          "output_type": "stream",
          "text": [
            "Test set accuracy of bc: 0.93\n"
          ],
          "name": "stdout"
        }
      ]
    },
    {
      "cell_type": "markdown",
      "metadata": {
        "id": "oNeEf37EqkMJ",
        "colab_type": "text"
      },
      "source": [
        "## Out-of-bag Evaluation"
      ]
    },
    {
      "cell_type": "markdown",
      "metadata": {
        "id": "IaCnzSREhPnA",
        "colab_type": "text"
      },
      "source": [
        "The `Random Forest` classifier is trained using bootstap aggregation, where each tree is fit from a bootstrap sample of the training observations $z_i=(x_i, y_i)$. The *out-of-bag* (OOB) error is the average error for each $z_i$ calculated using predictions from the trees that do not contain $z_i$ in their bootstrap sample. This allows `Random Forest` to be fit and validated whilst being trained."
      ]
    },
    {
      "cell_type": "code",
      "metadata": {
        "id": "gGDYbPot7MTD",
        "colab_type": "code",
        "outputId": "883a731a-b40c-4ceb-e019-0cee17e48b58",
        "colab": {
          "base_uri": "https://localhost:8080/",
          "height": 285
        }
      },
      "source": [
        "rs = check_random_state(123)\n",
        "X, y = make_classification(n_samples=500, n_features=25, n_clusters_per_class=1,\n",
        "                           n_informative=15, random_state=rs)\n",
        "ensemble_clfs = [\n",
        "  (\"RandomForestClssifier, max_features='sqrt'\",\n",
        "   RandomForestClassifier(warm_start=True, oob_score=True, max_features='sqrt',\n",
        "                          random_state=rs)),\n",
        "  (\"RandomForestClssifier, max_features='log2'\",\n",
        "   RandomForestClassifier(warm_start=True, oob_score=True, max_features='log2',\n",
        "                          random_state=rs)),\n",
        "  (\"RandomForestClssifier, max_features='None'\",\n",
        "   RandomForestClassifier(warm_start=True, oob_score=True, max_features=None,\n",
        "                          random_state=rs))    \n",
        "]\n",
        "error_rate = OrderedDict((label, []) for label, _ in ensemble_clfs)\n",
        "min_estimators = 15\n",
        "max_estimators = 175\n",
        "\n",
        "for label, clf in ensemble_clfs:\n",
        "  for i in range(min_estimators, max_estimators + 1):\n",
        "    clf.set_params(n_estimators=i)\n",
        "    clf.fit(X, y)\n",
        "    oob_error = 1 - clf.oob_score_\n",
        "    error_rate[label].append((i, oob_error))\n",
        "\n",
        "for label, clf_err in error_rate.items():\n",
        "  xs, ys = zip(*clf_err)\n",
        "  plt.plot(xs, ys, label=label)\n",
        "\n",
        "plt.xlim(min_estimators, max_estimators)\n",
        "plt.xlabel('n_estimators')\n",
        "plt.ylabel('OOB error rate')\n",
        "plt.legend(loc='upper right');"
      ],
      "execution_count": 150,
      "outputs": [
        {
          "output_type": "display_data",
          "data": {
            "image/png": "[encoded data removed]",
            "text/plain": [
              "<Figure size 432x288 with 1 Axes>"
            ]
          },
          "metadata": {
            "tags": []
          }
        }
      ]
    },
    {
      "cell_type": "markdown",
      "metadata": {
        "id": "Y3vi70fZExai",
        "colab_type": "text"
      },
      "source": [
        "## OOB score vs Test set score"
      ]
    },
    {
      "cell_type": "code",
      "metadata": {
        "id": "J9E_1m_p6_dc",
        "colab_type": "code",
        "outputId": "c710b2b8-bf7f-469f-8b26-875d43650f83",
        "colab": {
          "base_uri": "https://localhost:8080/",
          "height": 34
        }
      },
      "source": [
        "rs = check_random_state(1)\n",
        "dt = DecisionTreeClassifier(min_samples_leaf=8, random_state=rs)\n",
        "bc = BaggingClassifier(\n",
        "    base_estimator=dt,\n",
        "    n_estimators=50,\n",
        "    oob_score=True,\n",
        "    random_state=1\n",
        ")\n",
        "bc.fit(X_train, y_train)\n",
        "y_pred = bc.predict(X_test)\n",
        "acc_test = accuracy_score(y_test, y_pred)\n",
        "acc_oob = bc.oob_score_\n",
        "print(f'Test set accuracy: {acc_test:.3f}, OOB accuracy: {acc_oob:.3f}')"
      ],
      "execution_count": 151,
      "outputs": [
        {
          "output_type": "stream",
          "text": [
            "Test set accuracy: 0.930, OOB accuracy: 0.910\n"
          ],
          "name": "stdout"
        }
      ]
    },
    {
      "cell_type": "markdown",
      "metadata": {
        "id": "J1OMQuPjef27",
        "colab_type": "text"
      },
      "source": [
        "## Train an RF regressor"
      ]
    },
    {
      "cell_type": "code",
      "metadata": {
        "id": "Aetme3t6rNoL",
        "colab_type": "code",
        "outputId": "596b423c-1695-4650-fb84-f11870d1fce8",
        "colab": {
          "base_uri": "https://localhost:8080/",
          "height": 34
        }
      },
      "source": [
        "rs = check_random_state(43)\n",
        "bike = 'https://raw.githubusercontent.com/martin-fabbri/colab-notebooks/master/data/bike_sharing_demand_train.csv'\n",
        "\n",
        "train_df = pd.read_csv(bike, parse_dates=['datetime'])\n",
        "train_df['yr'] = train_df['datetime'].apply(lambda x: x.year)\n",
        "train_df['mnth'] = train_df['datetime'].apply(lambda x: x.month)\n",
        "train_df['hr'] = train_df['datetime'].apply(lambda x: x.hour)\n",
        "train_df['weekday'] = train_df['datetime'].apply(lambda x: x.weekday())\n",
        "\n",
        "le = LabelEncoder()\n",
        "train_df['yr'] = le.fit_transform(train_df['yr'])\n",
        "train_df['mnth'] = le.fit_transform(train_df['mnth'])\n",
        "\n",
        "train_df = train_df.drop(['datetime', 'registered', 'casual'], axis=1)\n",
        "\n",
        "train_df.shape"
      ],
      "execution_count": 152,
      "outputs": [
        {
          "output_type": "execute_result",
          "data": {
            "text/plain": [
              "(10886, 13)"
            ]
          },
          "metadata": {
            "tags": []
          },
          "execution_count": 152
        }
      ]
    },
    {
      "cell_type": "code",
      "metadata": {
        "id": "F4h8eshhrNmM",
        "colab_type": "code",
        "colab": {}
      },
      "source": [
        "X, y = train_df.drop(['count'], axis=1), train_df['count']\n",
        "X_train, X_test, y_train, y_test = train_test_split(X, y, test_size=0.2,\n",
        "                                                    random_state=rs)"
      ],
      "execution_count": 0,
      "outputs": []
    },
    {
      "cell_type": "code",
      "metadata": {
        "id": "eeZKlekSrNhk",
        "colab_type": "code",
        "outputId": "6235ec33-741d-4791-da22-e211d19f6e9f",
        "colab": {
          "base_uri": "https://localhost:8080/",
          "height": 151
        }
      },
      "source": [
        "rf = RandomForestRegressor(n_estimators=25, random_state=rs)\n",
        "rf.fit(X_train, y_train)"
      ],
      "execution_count": 154,
      "outputs": [
        {
          "output_type": "execute_result",
          "data": {
            "text/plain": [
              "RandomForestRegressor(bootstrap=True, ccp_alpha=0.0, criterion='mse',\n",
              "                      max_depth=None, max_features='auto', max_leaf_nodes=None,\n",
              "                      max_samples=None, min_impurity_decrease=0.0,\n",
              "                      min_impurity_split=None, min_samples_leaf=1,\n",
              "                      min_samples_split=2, min_weight_fraction_leaf=0.0,\n",
              "                      n_estimators=25, n_jobs=None, oob_score=False,\n",
              "                      random_state=RandomState(MT19937) at 0x7FBB44675360,\n",
              "                      verbose=0, warm_start=False)"
            ]
          },
          "metadata": {
            "tags": []
          },
          "execution_count": 154
        }
      ]
    },
    {
      "cell_type": "code",
      "metadata": {
        "id": "620qNvnrrNeg",
        "colab_type": "code",
        "outputId": "f98364f9-9025-43d4-b696-2cb114311e39",
        "colab": {
          "base_uri": "https://localhost:8080/",
          "height": 34
        }
      },
      "source": [
        "# Predict the test set labels\n",
        "y_pred = rf.predict(X_test)\n",
        "\n",
        "# Evaluate the test set RMSE\n",
        "rmse_test = MSE(y_test, y_pred) ** (1/2)\n",
        "\n",
        "print(f'Test set RMSE of rf: {rmse_test:.2f}')"
      ],
      "execution_count": 155,
      "outputs": [
        {
          "output_type": "stream",
          "text": [
            "Test set RMSE of rf: 42.24\n"
          ],
          "name": "stdout"
        }
      ]
    },
    {
      "cell_type": "markdown",
      "metadata": {
        "id": "94cbKA9I9dcO",
        "colab_type": "text"
      },
      "source": [
        "## Visualizing features importances"
      ]
    },
    {
      "cell_type": "code",
      "metadata": {
        "id": "_Ql9vLOCrNbL",
        "colab_type": "code",
        "outputId": "40d98d1e-a33c-42fe-ef05-c73f72712eec",
        "colab": {
          "base_uri": "https://localhost:8080/",
          "height": 284
        }
      },
      "source": [
        "importances = pd.Series(data=rf.feature_importances_, index=X_train.columns)\n",
        "importances_sorted = importances.sort_values()\n",
        "importances_sorted.plot(kind='barh', color='lightgreen')\n",
        "plt.title('Features Importances');"
      ],
      "execution_count": 156,
      "outputs": [
        {
          "output_type": "display_data",
          "data": {
            "image/png": "[encoded data removed]",
            "text/plain": [
              "<Figure size 432x288 with 1 Axes>"
            ]
          },
          "metadata": {
            "tags": []
          }
        }
      ]
    },
    {
      "cell_type": "markdown",
      "metadata": {
        "id": "49AGVfMQIOYr",
        "colab_type": "text"
      },
      "source": [
        "## AdaBoost"
      ]
    },
    {
      "cell_type": "code",
      "metadata": {
        "id": "MV9-GOR-rNX5",
        "colab_type": "code",
        "colab": {}
      },
      "source": [
        "rs = check_random_state(1)\n",
        "liver = 'https://raw.githubusercontent.com/martin-fabbri/colab-notebooks/master/data/indian_liver_patient.csv'\n",
        "df = pd.read_csv(liver)\n",
        "df['is_female'] = df['gender'].replace({'Female' : 0, 'Male' : 1})\n",
        "le = LabelEncoder()\n",
        "df['age'] = le.fit_transform(df['age'])\n",
        "X = df.drop(['is_patient', 'alkphos', 'gender'], axis=1)\n",
        "y = df['is_patient']\n",
        "X_train, X_test, y_train, y_test = train_test_split(X, y, test_size=0.2,\n",
        "                                                    random_state=rs)"
      ],
      "execution_count": 0,
      "outputs": []
    },
    {
      "cell_type": "code",
      "metadata": {
        "id": "w83_ckrFMV_n",
        "colab_type": "code",
        "colab": {}
      },
      "source": [
        "dt = DecisionTreeClassifier(max_depth=2, random_state=rs)\n",
        "ada = AdaBoostClassifier(base_estimator=dt, n_estimators=180, random_state=rs)\n",
        "ada.fit(X_train, y_train)\n",
        "y_pred_proba = ada.predict_proba(X_test)[:, 1]"
      ],
      "execution_count": 0,
      "outputs": []
    },
    {
      "cell_type": "code",
      "metadata": {
        "id": "nSnIKU7IMV6Z",
        "colab_type": "code",
        "outputId": "43dbc840-8253-475b-f3c2-be962a171ff0",
        "colab": {
          "base_uri": "https://localhost:8080/",
          "height": 34
        }
      },
      "source": [
        "ada_roc_auc = roc_auc_score(y_test, y_pred_proba)\n",
        "print('ROC AUC score: {:.2f}'.format(ada_roc_auc))"
      ],
      "execution_count": 159,
      "outputs": [
        {
          "output_type": "stream",
          "text": [
            "ROC AUC score: 0.64\n"
          ],
          "name": "stdout"
        }
      ]
    },
    {
      "cell_type": "markdown",
      "metadata": {
        "id": "hpFkfo32VTYA",
        "colab_type": "text"
      },
      "source": [
        "## Gradient Boosting"
      ]
    },
    {
      "cell_type": "code",
      "metadata": {
        "id": "EJYiGdr01LtA",
        "colab_type": "code",
        "colab": {
          "base_uri": "https://localhost:8080/",
          "height": 298
        },
        "outputId": "9d56a610-db35-4f52-ac28-4b247a725ac7"
      },
      "source": [
        "Image(filename='colab-notebooks/ensemble-learning/images/gradient-boosting-01.png', width=500)"
      ],
      "execution_count": 160,
      "outputs": [
        {
          "output_type": "execute_result",
          "data": {
            "image/png": "[encoded data removed]",
            "text/plain": [
              "<IPython.core.display.Image object>"
            ]
          },
          "metadata": {
            "tags": [],
            "image/png": {
              "width": 500
            }
          },
          "execution_count": 160
        }
      ]
    },
    {
      "cell_type": "code",
      "metadata": {
        "id": "CZCVCuLp1LpM",
        "colab_type": "code",
        "colab": {
          "base_uri": "https://localhost:8080/",
          "height": 34
        },
        "outputId": "5346b35f-0661-4700-8d52-23a96bf3f7b9"
      },
      "source": [
        "rs = check_random_state(2)\n",
        "bike = 'https://raw.githubusercontent.com/martin-fabbri/colab-notebooks/master/data/bike_sharing_demand_train.csv'\n",
        "\n",
        "train_df = pd.read_csv(bike, parse_dates=['datetime'])\n",
        "train_df['yr'] = train_df['datetime'].apply(lambda x: x.year)\n",
        "train_df['mnth'] = train_df['datetime'].apply(lambda x: x.month)\n",
        "train_df['hr'] = train_df['datetime'].apply(lambda x: x.hour)\n",
        "train_df['weekday'] = train_df['datetime'].apply(lambda x: x.weekday())\n",
        "\n",
        "le = LabelEncoder()\n",
        "train_df['yr'] = le.fit_transform(train_df['yr'])\n",
        "train_df['mnth'] = le.fit_transform(train_df['mnth'])\n",
        "\n",
        "train_df = train_df.drop(['datetime', 'registered', 'casual'], axis=1)\n",
        "\n",
        "train_df.shape"
      ],
      "execution_count": 161,
      "outputs": [
        {
          "output_type": "execute_result",
          "data": {
            "text/plain": [
              "(10886, 13)"
            ]
          },
          "metadata": {
            "tags": []
          },
          "execution_count": 161
        }
      ]
    },
    {
      "cell_type": "code",
      "metadata": {
        "id": "OiiZ5ZAsF-Al",
        "colab_type": "code",
        "colab": {
          "base_uri": "https://localhost:8080/",
          "height": 34
        },
        "outputId": "b09212d7-ad76-4e2d-b955-6c7a30c65347"
      },
      "source": [
        "gb = GradientBoostingRegressor(max_depth=4, n_estimators=200, random_state=rs)\n",
        "gb.fit(X_train, y_train)\n",
        "y_pred = gb.predict(X_test)\n",
        "mse_test = MSE(y_test, y_pred)\n",
        "rmse_test = mse_test**(1/2)\n",
        "print('Test set RMSE of gb: {:.3f}'.format(rmse_test))"
      ],
      "execution_count": 162,
      "outputs": [
        {
          "output_type": "stream",
          "text": [
            "Test set RMSE of gb: 0.481\n"
          ],
          "name": "stdout"
        }
      ]
    },
    {
      "cell_type": "markdown",
      "metadata": {
        "id": "QmiPUSWSjs3h",
        "colab_type": "text"
      },
      "source": [
        "## Stochastic Gradient Boosting"
      ]
    },
    {
      "cell_type": "code",
      "metadata": {
        "id": "8QVj1lWGF99P",
        "colab_type": "code",
        "colab": {
          "base_uri": "https://localhost:8080/",
          "height": 298
        },
        "outputId": "b5ff5cf2-b8cc-42eb-e86c-34e3d30854c7"
      },
      "source": [
        "Image(filename='colab-notebooks/ensemble-learning/images/stochastic-gradient-boosting-01.png', width=500)"
      ],
      "execution_count": 163,
      "outputs": [
        {
          "output_type": "execute_result",
          "data": {
            "image/png": "[encoded data removed]",
            "text/plain": [
              "<IPython.core.display.Image object>"
            ]
          },
          "metadata": {
            "tags": [],
            "image/png": {
              "width": 500
            }
          },
          "execution_count": 163
        }
      ]
    },
    {
      "cell_type": "code",
      "metadata": {
        "id": "ClJaBdDfbCSE",
        "colab_type": "code",
        "colab": {}
      },
      "source": [
        "rs = check_random_state(2)\n",
        "bike = 'https://raw.githubusercontent.com/martin-fabbri/colab-notebooks/master/data/bike_sharing_demand_train.csv'\n",
        "\n",
        "train_df = pd.read_csv(bike, parse_dates=['datetime'])\n",
        "train_df['yr'] = train_df['datetime'].apply(lambda x: x.year)\n",
        "train_df['mnth'] = train_df['datetime'].apply(lambda x: x.month)\n",
        "train_df['hr'] = train_df['datetime'].apply(lambda x: x.hour)\n",
        "train_df['weekday'] = train_df['datetime'].apply(lambda x: x.weekday())\n",
        "\n",
        "le = LabelEncoder()\n",
        "train_df['yr'] = le.fit_transform(train_df['yr'])\n",
        "train_df['mnth'] = le.fit_transform(train_df['mnth'])\n",
        "\n",
        "train_df = train_df.drop(['datetime', 'registered', 'casual'], axis=1)\n",
        "X, y = train_df.drop(['count'], axis=1), train_df['count']\n",
        "X_train, X_test, y_train, y_test = train_test_split(X, y, test_size=0.2,\n",
        "                                                    random_state=rs)\n"
      ],
      "execution_count": 0,
      "outputs": []
    },
    {
      "cell_type": "code",
      "metadata": {
        "id": "Wjk4JGJ-bCPe",
        "colab_type": "code",
        "colab": {
          "base_uri": "https://localhost:8080/",
          "height": 34
        },
        "outputId": "be9fe6d8-619a-4289-c705-2ce90a343949"
      },
      "source": [
        "sgbr = GradientBoostingRegressor(\n",
        "    max_depth=4,\n",
        "    subsample=0.9,\n",
        "    max_features=0.75,\n",
        "    n_estimators=200,\n",
        "    random_state=rs\n",
        ")\n",
        "sgbr.fit(X_train, y_train)\n",
        "y_pred = sgbr.predict(X_test)\n",
        "mse_test = MSE(y_test, y_pred)\n",
        "rmse_test = mse_test**(1/2)\n",
        "print('Test set RMSE of sgbr: {:.3f}'.format(rmse_test))"
      ],
      "execution_count": 185,
      "outputs": [
        {
          "output_type": "stream",
          "text": [
            "Test set RMSE of sgbr: 46.921\n"
          ],
          "name": "stdout"
        }
      ]
    },
    {
      "cell_type": "markdown",
      "metadata": {
        "id": "PFyNFn_NFn_9",
        "colab_type": "text"
      },
      "source": [
        "## Model Tuning"
      ]
    },
    {
      "cell_type": "code",
      "metadata": {
        "id": "GIAKdyDLLqOe",
        "colab_type": "code",
        "colab": {}
      },
      "source": [
        "rs = check_random_state(1)\n",
        "liver = 'https://raw.githubusercontent.com/martin-fabbri/colab-notebooks/master/data/indian_liver_patient.csv'\n",
        "df = pd.read_csv(liver)\n",
        "df['is_female'] = df['gender'].replace({'Female' : 0, 'Male' : 1})\n",
        "le = LabelEncoder()\n",
        "df['age'] = le.fit_transform(df['age'])\n",
        "X = df.drop(['is_patient', 'alkphos', 'gender'], axis=1)\n",
        "y = df['is_patient']\n",
        "X_train, X_test, y_train, y_test = train_test_split(X, y, test_size=0.2,\n",
        "                                                    random_state=rs)"
      ],
      "execution_count": 0,
      "outputs": []
    },
    {
      "cell_type": "code",
      "metadata": {
        "id": "UtJCL20ubCMV",
        "colab_type": "code",
        "colab": {
          "base_uri": "https://localhost:8080/",
          "height": 34
        },
        "outputId": "01021d3d-281c-45c2-8a72-5ccec8ce6c86"
      },
      "source": [
        "params_dt = {\n",
        "    'max_depth' : [2, 3, 4], \n",
        "    'min_samples_leaf' : [0.12, 0.14, 0.16, 0.18]\n",
        "}\n",
        "dt = DecisionTreeClassifier(random_state=rs)\n",
        "grid_dt = GridSearchCV(\n",
        "    estimator = dt,\n",
        "    param_grid = params_dt,\n",
        "    scoring='roc_auc',\n",
        "    cv=5,\n",
        "    n_jobs=-1\n",
        ")\n",
        "grid_dt.fit(X_train, y_train)\n",
        "best_model = grid_dt.best_estimator_\n",
        "y_pred_proba = best_model.predict_proba(X_test)[:, 1]\n",
        "test_roc_auc = roc_auc_score(y_test, y_pred_proba)\n",
        "print(f'Test set ROC AUC score: {test_roc_auc:.3f}')"
      ],
      "execution_count": 187,
      "outputs": [
        {
          "output_type": "stream",
          "text": [
            "Test set ROC AUC score: 0.685\n"
          ],
          "name": "stdout"
        }
      ]
    },
    {
      "cell_type": "code",
      "metadata": {
        "id": "R4MzlbxibCKT",
        "colab_type": "code",
        "colab": {
          "base_uri": "https://localhost:8080/",
          "height": 134
        },
        "outputId": "43eed62d-2991-4809-85f0-a97a655f2d6c"
      },
      "source": [
        "best_model"
      ],
      "execution_count": 188,
      "outputs": [
        {
          "output_type": "execute_result",
          "data": {
            "text/plain": [
              "DecisionTreeClassifier(ccp_alpha=0.0, class_weight=None, criterion='gini',\n",
              "                       max_depth=3, max_features=None, max_leaf_nodes=None,\n",
              "                       min_impurity_decrease=0.0, min_impurity_split=None,\n",
              "                       min_samples_leaf=0.12, min_samples_split=2,\n",
              "                       min_weight_fraction_leaf=0.0, presort='deprecated',\n",
              "                       random_state=RandomState(MT19937) at 0x7FBB445CB048,\n",
              "                       splitter='best')"
            ]
          },
          "metadata": {
            "tags": []
          },
          "execution_count": 188
        }
      ]
    },
    {
      "cell_type": "markdown",
      "metadata": {
        "id": "yhyVIe0YT4-K",
        "colab_type": "text"
      },
      "source": [
        "## Tune Random Forest Hyperparameters"
      ]
    },
    {
      "cell_type": "code",
      "metadata": {
        "id": "_qtCr03zI0vA",
        "colab_type": "code",
        "colab": {}
      },
      "source": [
        "rs = check_random_state(2)\n",
        "bike = 'https://raw.githubusercontent.com/martin-fabbri/colab-notebooks/master/data/bike_sharing_demand_train.csv'\n",
        "\n",
        "train_df = pd.read_csv(bike, parse_dates=['datetime'])\n",
        "train_df['yr'] = train_df['datetime'].apply(lambda x: x.year)\n",
        "train_df['mnth'] = train_df['datetime'].apply(lambda x: x.month)\n",
        "train_df['hr'] = train_df['datetime'].apply(lambda x: x.hour)\n",
        "train_df['weekday'] = train_df['datetime'].apply(lambda x: x.weekday())\n",
        "\n",
        "le = LabelEncoder()\n",
        "train_df['yr'] = le.fit_transform(train_df['yr'])\n",
        "train_df['mnth'] = le.fit_transform(train_df['mnth'])\n",
        "\n",
        "train_df = train_df.drop(['datetime', 'registered', 'casual'], axis=1)\n",
        "\n",
        "X, y = train_df.drop(['count'], axis=1), train_df['count']\n",
        "X_train, X_test, y_train, y_test = train_test_split(X, y, test_size=0.2,\n",
        "                                                    random_state=rs)"
      ],
      "execution_count": 0,
      "outputs": []
    },
    {
      "cell_type": "code",
      "metadata": {
        "id": "MTT0fdAKI0rq",
        "colab_type": "code",
        "colab": {
          "base_uri": "https://localhost:8080/",
          "height": 490
        },
        "outputId": "04bdec77-308a-4d8b-9a9c-7581b9df6058"
      },
      "source": [
        "rf = RandomForestRegressor(random_state=rs)\n",
        "params_rf = {\n",
        "    'n_estimators' : [100, 350, 500],\n",
        "    'max_features' : ['log2', 'auto', 'sqrt'],\n",
        "    'min_samples_leaf' : [2, 10, 30]\n",
        "}\n",
        "grid_rf = GridSearchCV(\n",
        "    estimator = rf,\n",
        "    param_grid = params_rf,\n",
        "    scoring = 'neg_mean_squared_error',\n",
        "    cv = 3,\n",
        "    verbose = 1,\n",
        "    n_jobs = -1\n",
        ")\n",
        "grid_rf.fit(X_train, y_train)"
      ],
      "execution_count": 198,
      "outputs": [
        {
          "output_type": "stream",
          "text": [
            "Fitting 3 folds for each of 27 candidates, totalling 81 fits\n"
          ],
          "name": "stdout"
        },
        {
          "output_type": "stream",
          "text": [
            "[Parallel(n_jobs=-1)]: Using backend LokyBackend with 2 concurrent workers.\n",
            "/usr/local/lib/python3.6/dist-packages/joblib/externals/loky/process_executor.py:706: UserWarning: A worker stopped while some jobs were given to the executor. This can be caused by a too short worker timeout or by a memory leak.\n",
            "  \"timeout or by a memory leak.\", UserWarning\n",
            "[Parallel(n_jobs=-1)]: Done  46 tasks      | elapsed:  1.9min\n",
            "[Parallel(n_jobs=-1)]: Done  81 out of  81 | elapsed:  2.9min finished\n"
          ],
          "name": "stderr"
        },
        {
          "output_type": "execute_result",
          "data": {
            "text/plain": [
              "GridSearchCV(cv=3, error_score=nan,\n",
              "             estimator=RandomForestRegressor(bootstrap=True, ccp_alpha=0.0,\n",
              "                                             criterion='mse', max_depth=None,\n",
              "                                             max_features='auto',\n",
              "                                             max_leaf_nodes=None,\n",
              "                                             max_samples=None,\n",
              "                                             min_impurity_decrease=0.0,\n",
              "                                             min_impurity_split=None,\n",
              "                                             min_samples_leaf=1,\n",
              "                                             min_samples_split=2,\n",
              "                                             min_weight_fraction_leaf=0.0,\n",
              "                                             n_estimators=100, n_jobs=None,\n",
              "                                             oob_score=False,\n",
              "                                             random_state=RandomState(MT19937) at 0x7FBB4763FBA0,\n",
              "                                             verbose=0, warm_start=False),\n",
              "             iid='deprecated', n_jobs=-1,\n",
              "             param_grid={'max_features': ['log2', 'auto', 'sqrt'],\n",
              "                         'min_samples_leaf': [2, 10, 30],\n",
              "                         'n_estimators': [100, 350, 500]},\n",
              "             pre_dispatch='2*n_jobs', refit=True, return_train_score=False,\n",
              "             scoring='neg_mean_squared_error', verbose=1)"
            ]
          },
          "metadata": {
            "tags": []
          },
          "execution_count": 198
        }
      ]
    },
    {
      "cell_type": "code",
      "metadata": {
        "id": "PyM2zanfI0od",
        "colab_type": "code",
        "colab": {
          "base_uri": "https://localhost:8080/",
          "height": 34
        },
        "outputId": "2f3ae65b-c914-4e88-e3ed-e250995c9387"
      },
      "source": [
        "best_model = grid_rf.best_estimator_\n",
        "y_pred = best_model.predict(X_test)\n",
        "rmse_test = MSE(y_test, y_pred)**(1/2)\n",
        "print(f'Test RMSE of best model: {rmse_test:.3f}') "
      ],
      "execution_count": 199,
      "outputs": [
        {
          "output_type": "stream",
          "text": [
            "Test RMSE of best model: 44.029\n"
          ],
          "name": "stdout"
        }
      ]
    },
    {
      "cell_type": "code",
      "metadata": {
        "id": "B9AokXphI0ms",
        "colab_type": "code",
        "colab": {}
      },
      "source": [
        ""
      ],
      "execution_count": 0,
      "outputs": []
    },
    {
      "cell_type": "code",
      "metadata": {
        "id": "hHjJvrusI0il",
        "colab_type": "code",
        "colab": {}
      },
      "source": [
        ""
      ],
      "execution_count": 0,
      "outputs": []
    },
    {
      "cell_type": "code",
      "metadata": {
        "id": "gT1iLFRlI0gN",
        "colab_type": "code",
        "colab": {}
      },
      "source": [
        ""
      ],
      "execution_count": 0,
      "outputs": []
    },
    {
      "cell_type": "code",
      "metadata": {
        "id": "Hlt2dAFhI0cd",
        "colab_type": "code",
        "colab": {}
      },
      "source": [
        ""
      ],
      "execution_count": 0,
      "outputs": []
    },
    {
      "cell_type": "code",
      "metadata": {
        "id": "d4zmx26nI0ZO",
        "colab_type": "code",
        "colab": {}
      },
      "source": [
        ""
      ],
      "execution_count": 0,
      "outputs": []
    },
    {
      "cell_type": "code",
      "metadata": {
        "id": "wpvV60WdbCGR",
        "colab_type": "code",
        "colab": {}
      },
      "source": [
        ""
      ],
      "execution_count": 0,
      "outputs": []
    },
    {
      "cell_type": "code",
      "metadata": {
        "id": "QZhNLgAdbCC7",
        "colab_type": "code",
        "colab": {}
      },
      "source": [
        ""
      ],
      "execution_count": 0,
      "outputs": []
    }
  ]
}