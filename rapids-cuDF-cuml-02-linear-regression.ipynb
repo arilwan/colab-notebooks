{
  "nbformat": 4,
  "nbformat_minor": 0,
  "metadata": {
    "colab": {
      "name": "colab-rapids-01.ipynb",
      "version": "0.3.2",
      "provenance": [],
      "machine_shape": "hm",
      "include_colab_link": true
    },
    "kernelspec": {
      "name": "python3",
      "display_name": "Python 3"
    },
    "accelerator": "GPU"
  },
  "cells": [
    {
      "cell_type": "markdown",
      "metadata": {
        "id": "view-in-github",
        "colab_type": "text"
      },
      "source": [
        "<a href=\"https://colab.research.google.com/github/martin-fabbri/colab-notebooks/blob/master/rapids-cuDF-cuml-02-linear-regression.ipynb\" target=\"_parent\"><img src=\"https://colab.research.google.com/assets/colab-badge.svg\" alt=\"Open In Colab\"/></a>"
      ]
    },
    {
      "cell_type": "markdown",
      "metadata": {
        "id": "L3CR--oLtH0J",
        "colab_type": "text"
      },
      "source": [
        "# cuML - Linear Regression"
      ]
    },
    {
      "cell_type": "code",
      "metadata": {
        "id": "Z2FjFcDp-2FF",
        "colab_type": "code",
        "outputId": "e6fb1752-8df4-417a-c2f6-2c8b280676eb",
        "colab": {
          "base_uri": "https://localhost:8080/",
          "height": 319
        }
      },
      "source": [
        "!nvidia-smi"
      ],
      "execution_count": 1,
      "outputs": [
        {
          "output_type": "stream",
          "text": [
            "Thu Sep 12 01:08:13 2019       \n",
            "+-----------------------------------------------------------------------------+\n",
            "| NVIDIA-SMI 430.40       Driver Version: 418.67       CUDA Version: 10.1     |\n",
            "|-------------------------------+----------------------+----------------------+\n",
            "| GPU  Name        Persistence-M| Bus-Id        Disp.A | Volatile Uncorr. ECC |\n",
            "| Fan  Temp  Perf  Pwr:Usage/Cap|         Memory-Usage | GPU-Util  Compute M. |\n",
            "|===============================+======================+======================|\n",
            "|   0  Tesla T4            Off  | 00000000:00:04.0 Off |                    0 |\n",
            "| N/A   51C    P8    10W /  70W |      0MiB / 15079MiB |      0%      Default |\n",
            "+-------------------------------+----------------------+----------------------+\n",
            "                                                                               \n",
            "+-----------------------------------------------------------------------------+\n",
            "| Processes:                                                       GPU Memory |\n",
            "|  GPU       PID   Type   Process name                             Usage      |\n",
            "|=============================================================================|\n",
            "|  No running processes found                                                 |\n",
            "+-----------------------------------------------------------------------------+\n"
          ],
          "name": "stdout"
        }
      ]
    },
    {
      "cell_type": "code",
      "metadata": {
        "id": "3EN-u_90tKZW",
        "colab_type": "code",
        "outputId": "3e285e15-abe4-4f86-910b-cfb5a8840d4a",
        "colab": {
          "base_uri": "https://localhost:8080/",
          "height": 1000
        }
      },
      "source": [
        "!wget -nc https://github.com/rapidsai/notebooks-extended/raw/master/utils/rapids-colab.sh\n",
        "!bash rapids-colab.sh\n",
        "\n",
        "import sys, os\n",
        "\n",
        "sys.path.append('/usr/local/lib/python3.6/site-packages/')\n",
        "os.environ['NUMBAPRO_NVVM'] = '/usr/local/cuda/nvvm/lib64/libnvvm.so'\n",
        "os.environ['NUMBAPRO_LIBDEVICE'] = '/usr/local/cuda/nvvm/libdevice/'"
      ],
      "execution_count": 2,
      "outputs": [
        {
          "output_type": "stream",
          "text": [
            "--2019-09-12 01:08:18--  https://github.com/rapidsai/notebooks-extended/raw/master/utils/rapids-colab.sh\n",
            "Resolving github.com (github.com)... 140.82.118.4\n",
            "Connecting to github.com (github.com)|140.82.118.4|:443... connected.\n",
            "HTTP request sent, awaiting response... 301 Moved Permanently\n",
            "Location: https://github.com/rapidsai/notebooks-contrib/raw/master/utils/rapids-colab.sh [following]\n",
            "--2019-09-12 01:08:23--  https://github.com/rapidsai/notebooks-contrib/raw/master/utils/rapids-colab.sh\n",
            "Reusing existing connection to github.com:443.\n",
            "HTTP request sent, awaiting response... 302 Found\n",
            "Location: https://raw.githubusercontent.com/rapidsai/notebooks-contrib/master/utils/rapids-colab.sh [following]\n",
            "--2019-09-12 01:08:23--  https://raw.githubusercontent.com/rapidsai/notebooks-contrib/master/utils/rapids-colab.sh\n",
            "Resolving raw.githubusercontent.com (raw.githubusercontent.com)... 151.101.0.133, 151.101.64.133, 151.101.128.133, ...\n",
            "Connecting to raw.githubusercontent.com (raw.githubusercontent.com)|151.101.0.133|:443... connected.\n",
            "HTTP request sent, awaiting response... 200 OK\n",
            "Length: 1609 (1.6K) [text/plain]\n",
            "Saving to: ‘rapids-colab.sh’\n",
            "\n",
            "rapids-colab.sh     100%[===================>]   1.57K  --.-KB/s    in 0s      \n",
            "\n",
            "2019-09-12 01:08:24 (303 MB/s) - ‘rapids-colab.sh’ saved [1609/1609]\n",
            "\n",
            "--2019-09-12 01:08:25--  https://github.com/rapidsai/notebooks-extended/raw/master/utils/env-check.py\n",
            "Resolving github.com (github.com)... 140.82.118.4\n",
            "Connecting to github.com (github.com)|140.82.118.4|:443... connected.\n",
            "HTTP request sent, awaiting response... 301 Moved Permanently\n",
            "Location: https://github.com/rapidsai/notebooks-contrib/raw/master/utils/env-check.py [following]\n",
            "--2019-09-12 01:08:25--  https://github.com/rapidsai/notebooks-contrib/raw/master/utils/env-check.py\n",
            "Reusing existing connection to github.com:443.\n",
            "HTTP request sent, awaiting response... 302 Found\n",
            "Location: https://raw.githubusercontent.com/rapidsai/notebooks-contrib/master/utils/env-check.py [following]\n",
            "--2019-09-12 01:08:25--  https://raw.githubusercontent.com/rapidsai/notebooks-contrib/master/utils/env-check.py\n",
            "Resolving raw.githubusercontent.com (raw.githubusercontent.com)... 151.101.0.133, 151.101.64.133, 151.101.128.133, ...\n",
            "Connecting to raw.githubusercontent.com (raw.githubusercontent.com)|151.101.0.133|:443... connected.\n",
            "HTTP request sent, awaiting response... 200 OK\n",
            "Length: 783 [text/plain]\n",
            "Saving to: ‘env-check.py’\n",
            "\n",
            "env-check.py        100%[===================>]     783  --.-KB/s    in 0s      \n",
            "\n",
            "2019-09-12 01:08:25 (215 MB/s) - ‘env-check.py’ saved [783/783]\n",
            "\n",
            "Checking for GPU type:\n",
            "*********************************************\n",
            "Woo! Your instance has the right kind of GPU!\n",
            "*********************************************\n",
            "\n",
            "Removing conflicting packages, will replace with RAPIDS compatible versions\n",
            "Uninstalling xgboost-0.90:\n",
            "  Successfully uninstalled xgboost-0.90\n",
            "Uninstalling dask-1.1.5:\n",
            "  Successfully uninstalled dask-1.1.5\n",
            "Uninstalling distributed-1.25.3:\n",
            "  Successfully uninstalled distributed-1.25.3\n",
            "Installing conda\n",
            "--2019-09-12 01:08:30--  https://repo.continuum.io/miniconda/Miniconda3-4.5.4-Linux-x86_64.sh\n",
            "Resolving repo.continuum.io (repo.continuum.io)... 104.18.200.79, 104.18.201.79, 2606:4700::6812:c84f, ...\n",
            "Connecting to repo.continuum.io (repo.continuum.io)|104.18.200.79|:443... connected.\n",
            "HTTP request sent, awaiting response... 200 OK\n",
            "Length: 58468498 (56M) [application/x-sh]\n",
            "Saving to: ‘Miniconda3-4.5.4-Linux-x86_64.sh’\n",
            "\n",
            "Miniconda3-4.5.4-Li 100%[===================>]  55.76M  85.9MB/s    in 0.6s    \n",
            "\n",
            "2019-09-12 01:08:30 (85.9 MB/s) - ‘Miniconda3-4.5.4-Linux-x86_64.sh’ saved [58468498/58468498]\n",
            "\n",
            "PREFIX=/usr/local\n",
            "installing: python-3.6.5-hc3d631a_2 ...\n",
            "Python 3.6.5 :: Anaconda, Inc.\n",
            "installing: ca-certificates-2018.03.07-0 ...\n",
            "installing: conda-env-2.6.0-h36134e3_1 ...\n",
            "installing: libgcc-ng-7.2.0-hdf63c60_3 ...\n",
            "installing: libstdcxx-ng-7.2.0-hdf63c60_3 ...\n",
            "installing: libffi-3.2.1-hd88cf55_4 ...\n",
            "installing: ncurses-6.1-hf484d3e_0 ...\n",
            "installing: openssl-1.0.2o-h20670df_0 ...\n",
            "installing: tk-8.6.7-hc745277_3 ...\n",
            "installing: xz-5.2.4-h14c3975_4 ...\n",
            "installing: yaml-0.1.7-had09818_2 ...\n",
            "installing: zlib-1.2.11-ha838bed_2 ...\n",
            "installing: libedit-3.1.20170329-h6b74fdf_2 ...\n",
            "installing: readline-7.0-ha6073c6_4 ...\n",
            "installing: sqlite-3.23.1-he433501_0 ...\n",
            "installing: asn1crypto-0.24.0-py36_0 ...\n",
            "installing: certifi-2018.4.16-py36_0 ...\n",
            "installing: chardet-3.0.4-py36h0f667ec_1 ...\n",
            "installing: idna-2.6-py36h82fb2a8_1 ...\n",
            "installing: pycosat-0.6.3-py36h0a5515d_0 ...\n",
            "installing: pycparser-2.18-py36hf9f622e_1 ...\n",
            "installing: pysocks-1.6.8-py36_0 ...\n",
            "installing: ruamel_yaml-0.15.37-py36h14c3975_2 ...\n",
            "installing: six-1.11.0-py36h372c433_1 ...\n",
            "installing: cffi-1.11.5-py36h9745a5d_0 ...\n",
            "installing: setuptools-39.2.0-py36_0 ...\n",
            "installing: cryptography-2.2.2-py36h14c3975_0 ...\n",
            "installing: wheel-0.31.1-py36_0 ...\n",
            "installing: pip-10.0.1-py36_0 ...\n",
            "installing: pyopenssl-18.0.0-py36_0 ...\n",
            "installing: urllib3-1.22-py36hbe7ace6_0 ...\n",
            "installing: requests-2.18.4-py36he2e5f8d_1 ...\n",
            "installing: conda-4.5.4-py36_0 ...\n",
            "installation finished.\n",
            "WARNING:\n",
            "    You currently have a PYTHONPATH environment variable set. This may cause\n",
            "    unexpected behavior when running the Python interpreter in Miniconda3.\n",
            "    For best results, please verify that your PYTHONPATH only points to\n",
            "    directories of packages that are compatible with the Python interpreter\n",
            "    in Miniconda3: /usr/local\n",
            "Installing RAPIDS 0.10 packages\n",
            "Please standby, this will take a few minutes...\n",
            "\n",
            "\n",
            "==> WARNING: A newer version of conda exists. <==\n",
            "  current version: 4.5.4\n",
            "  latest version: 4.7.11\n",
            "\n",
            "Please update conda by running\n",
            "\n",
            "    $ conda update -n base conda\n",
            "\n",
            "\n",
            "msgpack-python-0.6.1 |   89 KB | : 100% 1.0/1 [00:00<00:00, 20.35it/s]\n",
            "olefile-0.46         |   31 KB | : 100% 1.0/1 [00:00<00:00, 30.14it/s]\n",
            "sqlite-3.29.0        |  1.9 MB | : 100% 1.0/1 [00:00<00:00,  3.64it/s]              \n",
            "xgboost-0.90.rapidsd |   11 KB | : 100% 1.0/1 [00:00<00:00,  1.15it/s] \n",
            "glog-0.4.0           |  104 KB | : 100% 1.0/1 [00:00<00:00, 21.25it/s]\n",
            "brotli-1.0.7         |  1.0 MB | : 100% 1.0/1 [00:00<00:00,  6.72it/s]               \n",
            "pyparsing-2.4.2      |   57 KB | : 100% 1.0/1 [00:00<00:00, 22.82it/s]\n",
            "fsspec-0.4.4         |   39 KB | : 100% 1.0/1 [00:00<00:00, 24.91it/s]\n",
            "cryptography-2.7     |  607 KB | : 100% 1.0/1 [00:00<00:00,  5.23it/s]               \n",
            "certifi-2019.9.11    |  147 KB | : 100% 1.0/1 [00:00<00:00, 20.33it/s]\n",
            "libpng-1.6.37        |  343 KB | : 100% 1.0/1 [00:00<00:00, 11.87it/s]\n",
            "tk-8.6.9             |  3.2 MB | : 100% 1.0/1 [00:00<00:00,  1.79it/s]               \n",
            "bokeh-1.3.4          |  4.0 MB | : 100% 1.0/1 [00:01<00:00,  1.18s/it]              \n",
            "pillow-6.1.0         |  634 KB | : 100% 1.0/1 [00:00<00:00,  6.49it/s]               \n",
            "pysocks-1.7.0        |   26 KB | : 100% 1.0/1 [00:00<00:00, 34.62it/s]\n",
            "libgcc-ng-9.1.0      |  8.1 MB | : 100% 1.0/1 [00:01<00:00,  1.10s/it]               \n",
            "setuptools-41.2.0    |  634 KB | : 100% 1.0/1 [00:00<00:00,  5.70it/s]               \n",
            "cffi-1.12.3          |  218 KB | : 100% 1.0/1 [00:00<00:00, 13.83it/s]\n",
            "google-auth-oauthlib |   18 KB | : 100% 1.0/1 [00:00<00:00, 34.47it/s]\n",
            "nvstrings-0.10.0a    |  125 KB | : 100% 1.0/1 [00:00<00:00,  2.12it/s]               \n",
            "py-xgboost-0.90.rapi |   86 KB | : 100% 1.0/1 [00:00<00:00,  1.78it/s]               \n",
            "jinja2-2.10.1        |   91 KB | : 100% 1.0/1 [00:00<00:00, 19.31it/s]\n",
            "libtiff-4.0.10       |  587 KB | : 100% 1.0/1 [00:00<00:00,  8.57it/s]               \n",
            "locket-0.2.0         |    6 KB | : 100% 1.0/1 [00:00<00:00, 31.61it/s]\n",
            "numpy-1.17.2         |  5.2 MB | : 100% 1.0/1 [00:01<00:00,  1.04s/it]               \n",
            "cudatoolkit-10.0.130 | 380.0 MB | : 100% 1.0/1 [00:42<00:00, 42.78s/it]                \n",
            "_libgcc_mutex-0.1    |    3 KB | : 100% 1.0/1 [00:00<00:00, 54.89it/s]\n",
            "liblapack-3.8.0      |   10 KB | : 100% 1.0/1 [00:00<00:00, 34.47it/s]\n",
            "zstd-1.4.0           |  928 KB | : 100% 1.0/1 [00:00<00:00,  6.84it/s]               \n",
            "dask-cuda-0.10.0a    |  924 KB | : 100% 1.0/1 [00:01<00:00,  1.50s/it]               \n",
            "libblas-3.8.0        |   10 KB | : 100% 1.0/1 [00:00<00:00, 36.97it/s]\n",
            "wheel-0.33.6         |   35 KB | : 100% 1.0/1 [00:00<00:00, 29.76it/s]\n",
            "idna-2.8             |  132 KB | : 100% 1.0/1 [00:00<00:00, 23.11it/s]\n",
            "oauthlib-3.0.1       |   82 KB | : 100% 1.0/1 [00:00<00:00, 18.73it/s]\n",
            "pytz-2019.2          |  228 KB | : 100% 1.0/1 [00:00<00:00,  5.73it/s]              \n",
            "requests-2.22.0      |   84 KB | : 100% 1.0/1 [00:00<00:00, 22.45it/s]\n",
            "python-3.6.7         | 34.6 MB | : 100% 1.0/1 [00:04<00:00,  4.33s/it]               \n",
            "packaging-19.0       |   23 KB | : 100% 1.0/1 [00:00<00:00, 34.39it/s]\n",
            "libcumlprims-0.9.0   |  3.9 MB | : 100% 1.0/1 [00:01<00:00,  1.22s/it]               \n",
            "libffi-3.2.1         |   46 KB | : 100% 1.0/1 [00:00<00:00, 30.59it/s]\n",
            "re2-2019.09.01       |  431 KB | : 100% 1.0/1 [00:00<00:00, 11.37it/s]\n",
            "pyasn1-0.4.6         |   52 KB | : 100% 1.0/1 [00:00<00:00, 21.66it/s]\n",
            "dlpack-0.2           |   12 KB | : 100% 1.0/1 [00:00<00:00, 41.19it/s]\n",
            "libcblas-3.8.0       |   10 KB | : 100% 1.0/1 [00:00<00:00, 38.90it/s]\n",
            "sortedcontainers-2.1 |   25 KB | : 100% 1.0/1 [00:00<00:00, 34.64it/s]\n",
            "distributed-2.3.2    |  370 KB | : 100% 1.0/1 [00:00<00:00,  6.68it/s]               \n",
            "pyjwt-1.7.1          |   17 KB | : 100% 1.0/1 [00:00<00:00, 34.94it/s]\n",
            "pycparser-2.19       |  173 KB | : 100% 1.0/1 [00:00<00:00, 16.71it/s]\n",
            "cython-0.29.13       |  2.2 MB | : 100% 1.0/1 [00:00<00:00,  2.20it/s]               \n",
            "blinker-1.4          |   13 KB | : 100% 1.0/1 [00:00<00:00, 39.38it/s]\n",
            "zlib-1.2.11          |  105 KB | : 100% 1.0/1 [00:00<00:00, 25.46it/s]\n",
            "scipy-1.3.1          | 18.1 MB | : 100% 1.0/1 [00:02<00:00,  2.82s/it]               \n",
            "fastavro-0.22.4      |  405 KB | : 100% 1.0/1 [00:00<00:00, 10.05it/s]\n",
            "pyarrow-0.14.1       |  2.8 MB | : 100% 1.0/1 [00:00<00:00,  1.43it/s]               \n",
            "gflags-2.2.2         |  177 KB | : 100% 1.0/1 [00:00<00:00, 16.55it/s]\n",
            "joblib-0.13.2        |  180 KB | : 100% 1.0/1 [00:00<00:00, 11.56it/s]\n",
            "dask-cudf-0.10.0a    |   63 KB | : 100% 1.0/1 [00:00<00:00,  3.77it/s]              \n",
            "asn1crypto-0.24.0    |  154 KB | : 100% 1.0/1 [00:00<00:00, 15.52it/s]\n",
            "requests-oauthlib-1. |   19 KB | : 100% 1.0/1 [00:00<00:00, 34.86it/s]\n",
            "pyasn1-modules-0.2.6 |   47 KB | : 100% 1.0/1 [00:00<00:00, 20.73it/s]\n",
            "dask-2.3.0           |    4 KB | : 100% 1.0/1 [00:00<00:00, 19.15it/s]\n",
            "click-7.0            |   61 KB | : 100% 1.0/1 [00:00<00:00, 26.41it/s]\n",
            "thrift-cpp-0.12.0    |  2.4 MB | : 100% 1.0/1 [00:00<00:00,  2.48it/s]               \n",
            "pandas-0.24.2        | 11.1 MB | : 100% 1.0/1 [00:02<00:00,  2.13s/it]               \n",
            "chardet-3.0.4        |  190 KB | : 100% 1.0/1 [00:00<00:00, 13.50it/s]\n",
            "cachetools-2.1.0     |   10 KB | : 100% 1.0/1 [00:00<00:00, 34.14it/s]\n",
            "readline-8.0         |  441 KB | : 100% 1.0/1 [00:00<00:00, 10.21it/s]\n",
            "numba-0.45.1         |  3.1 MB | : 100% 1.0/1 [00:00<00:00,  1.20it/s]               \n",
            "decorator-4.4.0      |   11 KB | : 100% 1.0/1 [00:00<00:00, 37.22it/s]\n",
            "urllib3-1.25.3       |  187 KB | : 100% 1.0/1 [00:00<00:00, 11.45it/s]\n",
            "libxgboost-0.90.rapi | 32.8 MB | : 100% 1.0/1 [00:07<00:00,  7.75s/it]               \n",
            "double-conversion-3. |   85 KB | : 100% 1.0/1 [00:00<00:00, 24.84it/s]\n",
            "c-ares-1.15.0        |  100 KB | : 100% 1.0/1 [00:00<00:00, 23.44it/s]\n",
            "llvmlite-0.29.0      | 19.9 MB | : 100% 1.0/1 [00:02<00:00,  2.89s/it]               \n",
            "openssl-1.1.1c       |  2.1 MB | : 100% 1.0/1 [00:00<00:00,  3.21it/s]               \n",
            "uriparser-0.9.3      |   49 KB | : 100% 1.0/1 [00:00<00:00, 25.26it/s]\n",
            "libprotobuf-3.8.0    |  4.7 MB | : 100% 1.0/1 [00:00<00:00,  1.16it/s]               \n",
            "toolz-0.10.0         |   46 KB | : 100% 1.0/1 [00:00<00:00, 25.85it/s]\n",
            "lz4-c-1.8.3          |  187 KB | : 100% 1.0/1 [00:00<00:00, 16.79it/s]\n",
            "cugraph-0.10.0a      |  1.3 MB | : 100% 1.0/1 [00:01<00:00,  1.43s/it]               \n",
            "nccl-2.4.6.1         | 66.6 MB | : 100% 1.0/1 [00:10<00:00, 10.78s/it]               \n",
            "libcuml-0.10.0a      | 29.3 MB | : 100% 1.0/1 [00:07<00:00,  7.84s/it]               \n",
            "xz-5.2.4             |  366 KB | : 100% 1.0/1 [00:00<00:00, 10.46it/s]\n",
            "dask-cuml-0.8.0a     |   30 KB | : 100% 1.0/1 [00:00<00:00,  3.69it/s]                \n",
            "libcugraph-0.10.0a   | 11.2 MB | : 100% 1.0/1 [00:02<00:00,  2.30s/it]               \n",
            "cuml-0.10.0a         |  6.0 MB | : 100% 1.0/1 [00:01<00:00,  1.56s/it]              \n",
            "rmm-0.10.0a          |   14 KB | : 100% 1.0/1 [00:00<00:00,  3.86it/s] \n",
            "bzip2-1.0.8          |  397 KB | : 100% 1.0/1 [00:00<00:00, 11.22it/s]\n",
            "yaml-0.1.7           |   78 KB | : 100% 1.0/1 [00:00<00:00, 24.85it/s]\n",
            "python-dateutil-2.8. |  219 KB | : 100% 1.0/1 [00:00<00:00, 19.06it/s]\n",
            "icu-64.2             | 12.6 MB | : 100% 1.0/1 [00:01<00:00,  1.70s/it]              \n",
            "scikit-learn-0.21.3  |  6.7 MB | : 100% 1.0/1 [00:01<00:00,  1.29s/it]               \n",
            "tblib-1.4.0          |   12 KB | : 100% 1.0/1 [00:00<00:00, 33.91it/s]\n",
            "ca-certificates-2019 |  144 KB | : 100% 1.0/1 [00:00<00:00, 25.84it/s]\n",
            "boost-cpp-1.70.0     | 21.1 MB | : 100% 1.0/1 [00:07<00:00,  7.73s/it]               \n",
            "jpeg-9c              |  251 KB | : 100% 1.0/1 [00:00<00:00, 13.78it/s]\n",
            "ncurses-6.1          |  1.3 MB | : 100% 1.0/1 [00:00<00:00,  1.07it/s]              \n",
            "arrow-cpp-0.14.1     | 17.3 MB | : 100% 1.0/1 [00:02<00:00,  2.52s/it]               \n",
            "pip-19.2.3           |  1.9 MB | : 100% 1.0/1 [00:00<00:00,  2.08it/s]               \n",
            "librmm-0.10.0a       |   44 KB | : 100% 1.0/1 [00:00<00:00,  1.00it/s]               \n",
            "dask-core-2.3.0      |  574 KB | : 100% 1.0/1 [00:00<00:00,  5.71it/s]               \n",
            "pynvml-8.0.3         |   30 KB | : 100% 1.0/1 [00:00<00:00, 32.28it/s]\n",
            "tornado-6.0.3        |  636 KB | : 100% 1.0/1 [00:00<00:00,  5.59it/s]               \n",
            "libstdcxx-ng-9.1.0   |  4.0 MB | : 100% 1.0/1 [00:00<00:00,  1.74it/s]               \n",
            "partd-1.0.0          |   16 KB | : 100% 1.0/1 [00:00<00:00, 32.20it/s]\n",
            "pyopenssl-19.0.0     |   81 KB | : 100% 1.0/1 [00:00<00:00, 23.13it/s]\n",
            "psutil-5.6.3         |  322 KB | : 100% 1.0/1 [00:00<00:00,  9.28it/s]\n",
            "rsa-3.4.2            |   31 KB | : 100% 1.0/1 [00:00<00:00, 26.70it/s]\n",
            "cloudpickle-1.2.2    |   23 KB | : 100% 1.0/1 [00:00<00:00, 34.40it/s]\n",
            "markupsafe-1.1.1     |   26 KB | : 100% 1.0/1 [00:00<00:00, 33.46it/s]\n",
            "libgfortran-ng-7.3.0 |  1.3 MB | : 100% 1.0/1 [00:00<00:00,  4.57it/s]               \n",
            "zict-1.0.0           |   10 KB | : 100% 1.0/1 [00:00<00:00, 29.68it/s]\n",
            "cudf-0.10.0a         |  4.8 MB | : 100% 1.0/1 [00:01<00:00,  1.58s/it]               \n",
            "parquet-cpp-1.5.1    |    3 KB | : 100% 1.0/1 [00:00<00:00, 42.79it/s]\n",
            "grpc-cpp-1.23.0      |  4.5 MB | : 100% 1.0/1 [00:00<00:00,  1.16it/s]               \n",
            "google-auth-1.6.3    |   45 KB | : 100% 1.0/1 [00:00<00:00, 25.51it/s]\n",
            "gcsfs-0.3.0          |   19 KB | : 100% 1.0/1 [00:00<00:00, 27.80it/s]\n",
            "six-1.12.0           |   22 KB | : 100% 1.0/1 [00:00<00:00, 37.93it/s]\n",
            "libevent-2.1.10      |  1.3 MB | : 100% 1.0/1 [00:00<00:00,  3.10it/s]               \n",
            "heapdict-1.0.0       |    7 KB | : 100% 1.0/1 [00:00<00:00, 42.07it/s]\n",
            "pyyaml-5.1.2         |  184 KB | : 100% 1.0/1 [00:00<00:00, 17.67it/s]\n",
            "cytoolz-0.10.0       |  429 KB | : 100% 1.0/1 [00:00<00:00, 10.24it/s]\n",
            "libopenblas-0.3.7    |  7.6 MB | : 100% 1.0/1 [00:01<00:00,  1.19s/it]               \n",
            "libcudf-0.10.0a      | 27.8 MB | : 100% 1.0/1 [00:14<00:00, 14.03s/it]               \n",
            "freetype-2.10.0      |  884 KB | : 100% 1.0/1 [00:00<00:00,  6.40it/s]               \n",
            "libnvstrings-0.10.0a | 24.7 MB | : 100% 1.0/1 [00:12<00:00, 12.04s/it]               \n",
            "snappy-1.1.7         |   39 KB | : 100% 1.0/1 [00:00<00:00, 25.11it/s]\n",
            "Copying shared object files to /usr/lib\n",
            "\n",
            "*********************************************\n",
            "Your Google Colab instance is RAPIDS ready!\n",
            "*********************************************\n"
          ],
          "name": "stdout"
        }
      ]
    },
    {
      "cell_type": "markdown",
      "metadata": {
        "id": "RSXLHPlUaHZj",
        "colab_type": "text"
      },
      "source": [
        "### Required Imports"
      ]
    },
    {
      "cell_type": "code",
      "metadata": {
        "id": "_Dd7pWJHaNHS",
        "colab_type": "code",
        "outputId": "b2f05b41-67f2-4da3-c48f-6bb53582c130",
        "colab": {
          "base_uri": "https://localhost:8080/",
          "height": 88
        }
      },
      "source": [
        "import cudf\n",
        "import cuml\n",
        "import gzip\n",
        "import math\n",
        "import sklearn\n",
        "import time\n",
        "import os\n",
        "\n",
        "import numpy as np\n",
        "import pandas as pd\n",
        "import matplotlib.pyplot as plt\n",
        "\n",
        "from math import cos, sin, asin, sqrt, pi, atan2\n",
        "from numba import cuda\n",
        "from sklearn.linear_model import LinearRegression\n",
        "from cuml.linear_model import LinearRegression as LinearRegressionGPU\n",
        "\n",
        "# select a particular GPU to run the notebook\n",
        "os.environ[\"CUDA_VISIBLE_DEVICES\"]=\"2\"\n",
        "\n",
        "%matplotlib inline\n",
        "\n",
        "print('NumPy Version:', np.__version__)\n",
        "print('Scikit-learn Version:', sklearn.__version__)\n",
        "print('cuDF Version:', cudf.__version__)\n",
        "print('cuML Version:', cuml.__version__)"
      ],
      "execution_count": 12,
      "outputs": [
        {
          "output_type": "stream",
          "text": [
            "NumPy Version: 1.16.5\n",
            "Scikit-learn Version: 0.21.3\n",
            "cuDF Version: 0.10.0a+1233.gf8e8353\n",
            "cuML Version: 0.10.0a+456.gb96498b\n"
          ],
          "name": "stdout"
        }
      ]
    },
    {
      "cell_type": "markdown",
      "metadata": {
        "id": "XpBwe6S5ZSQZ",
        "colab_type": "text"
      },
      "source": [
        "### Helper Functions"
      ]
    },
    {
      "cell_type": "code",
      "metadata": {
        "id": "vCENJEs6EEM5",
        "colab_type": "code",
        "colab": {
          "base_uri": "https://localhost:8080/",
          "height": 141
        },
        "outputId": "76e21e88-3d3d-4a2a-bbc3-5f9b57a47736"
      },
      "source": [
        "!git clone https://github.com/Quansight/scipy-2019-rapids-tutorial"
      ],
      "execution_count": 4,
      "outputs": [
        {
          "output_type": "stream",
          "text": [
            "Cloning into 'scipy-2019-rapids-tutorial'...\n",
            "remote: Enumerating objects: 245, done.\u001b[K\n",
            "remote: Counting objects: 100% (245/245), done.\u001b[K\n",
            "remote: Compressing objects: 100% (162/162), done.\u001b[K\n",
            "remote: Total 245 (delta 144), reused 170 (delta 82), pack-reused 0\u001b[K\n",
            "Receiving objects: 100% (245/245), 35.10 MiB | 22.41 MiB/s, done.\n",
            "Resolving deltas: 100% (144/144), done.\n"
          ],
          "name": "stdout"
        }
      ]
    },
    {
      "cell_type": "code",
      "metadata": {
        "id": "04MUjzJcEYPI",
        "colab_type": "code",
        "colab": {}
      },
      "source": [
        "dataset = 'scipy-2019-rapids-tutorial/cuml/data/mortgage.npy.gz'\n",
        "\n",
        "if not os.path.exists(dataset):\n",
        "  print('Unable to find dataset.')"
      ],
      "execution_count": 0,
      "outputs": []
    },
    {
      "cell_type": "code",
      "metadata": {
        "id": "ZHNe_DzEs9kL",
        "colab_type": "code",
        "colab": {}
      },
      "source": [
        "def load_data(nrows, ncols, cached = dataset):\n",
        "  # split the dataset in a 80:20 split\n",
        "  train_rows = int(nrows*0.8)\n",
        "  with gzip.open(cached) as f:\n",
        "    X = np.load(f)\n",
        "    print(X)\n",
        "  "
      ],
      "execution_count": 0,
      "outputs": []
    },
    {
      "cell_type": "code",
      "metadata": {
        "id": "lp6ovcjwF9pM",
        "colab_type": "code",
        "colab": {
          "base_uri": "https://localhost:8080/",
          "height": 177
        },
        "outputId": "b87f809a-7c9a-45e1-bc71-126625ae41bd"
      },
      "source": [
        "%%time\n",
        "\n",
        "nrows = 2 **20\n",
        "ncols = 399\n",
        "\n",
        "load_data(nrows, ncols)"
      ],
      "execution_count": 14,
      "outputs": [
        {
          "output_type": "stream",
          "text": [
            "[[0.6666667  0.19690022 0.0045045  ... 0.         0.         1.        ]\n",
            " [0.6666667  0.19690022 0.00900901 ... 0.         0.         1.        ]\n",
            " [0.6666667  0.19690022 0.01351351 ... 0.         0.         1.        ]\n",
            " ...\n",
            " [0.5555556  0.34976676 0.1981982  ... 0.         0.         1.        ]\n",
            " [0.5555556  0.34976676 0.2027027  ... 0.         0.         1.        ]\n",
            " [0.5555556  0.34899753 0.2072072  ... 0.         0.         1.        ]]\n",
            "CPU times: user 4.33 s, sys: 615 ms, total: 4.94 s\n",
            "Wall time: 4.95 s\n"
          ],
          "name": "stdout"
        }
      ]
    },
    {
      "cell_type": "code",
      "metadata": {
        "id": "qcIXOD6m5d1G",
        "colab_type": "code",
        "outputId": "d5253a3b-1f53-4661-b054-196ea667ded9",
        "colab": {
          "base_uri": "https://localhost:8080/",
          "height": 286
        }
      },
      "source": [
        "plt.scatter(x, y_noisy, label='empirical data points')\n",
        "plt.plot(x, y, color='black', label='true relatioship')\n",
        "plt.legend()"
      ],
      "execution_count": 0,
      "outputs": [
        {
          "output_type": "execute_result",
          "data": {
            "text/plain": [
              "<matplotlib.legend.Legend at 0x7fad6e7540b8>"
            ]
          },
          "metadata": {
            "tags": []
          },
          "execution_count": 5
        },
        {
          "output_type": "display_data",
          "data": {
            "image/png": "[encoded data removed]",
            "text/plain": [
              "<Figure size 432x288 with 1 Axes>"
            ]
          },
          "metadata": {
            "tags": []
          }
        }
      ]
    },
    {
      "cell_type": "code",
      "metadata": {
        "id": "V5CKxrSq-TEU",
        "colab_type": "code",
        "outputId": "3d124896-3fcc-42d1-fd04-be1e509b3e0c",
        "colab": {
          "base_uri": "https://localhost:8080/",
          "height": 52
        }
      },
      "source": [
        "%%time\n",
        "linear_regression = LinearRegression()\n",
        "linear_regression.fit(np.expand_dims(x, 1), y)"
      ],
      "execution_count": 0,
      "outputs": [
        {
          "output_type": "stream",
          "text": [
            "CPU times: user 29.4 ms, sys: 1.04 ms, total: 30.5 ms\n",
            "Wall time: 46.2 ms\n"
          ],
          "name": "stdout"
        }
      ]
    },
    {
      "cell_type": "markdown",
      "metadata": {
        "id": "E5xARoJb-nUY",
        "colab_type": "text"
      },
      "source": [
        "Create new data and perform inference"
      ]
    },
    {
      "cell_type": "code",
      "metadata": {
        "id": "BdA6CsdD-jyq",
        "colab_type": "code",
        "colab": {}
      },
      "source": [
        "inputs = np.linspace(start=-5, stop=5, num=1000000)"
      ],
      "execution_count": 0,
      "outputs": []
    },
    {
      "cell_type": "code",
      "metadata": {
        "id": "FQUuaEIp_fko",
        "colab_type": "code",
        "colab": {}
      },
      "source": [
        "outputs = linear_regression.predict(np.expand_dims(inputs, 1))"
      ],
      "execution_count": 0,
      "outputs": []
    },
    {
      "cell_type": "markdown",
      "metadata": {
        "id": "zHnh_V0s_um4",
        "colab_type": "text"
      },
      "source": [
        "Let's now visualize our empirical data points"
      ]
    },
    {
      "cell_type": "code",
      "metadata": {
        "id": "gT9Yi2HF_zrU",
        "colab_type": "code",
        "outputId": "e4c0061c-fa12-4e1d-e9c7-140cc068b0fe",
        "colab": {
          "base_uri": "https://localhost:8080/",
          "height": 286
        }
      },
      "source": [
        "plt.scatter(x, y_noisy, label='empirical data points')\n",
        "plt.plot(x, y, color='black', label='true relatioship')\n",
        "plt.plot(inputs, outputs, color='red', label='predict relationships (cpu)')\n",
        "plt.legend()"
      ],
      "execution_count": 0,
      "outputs": [
        {
          "output_type": "execute_result",
          "data": {
            "text/plain": [
              "<matplotlib.legend.Legend at 0x7fad6aeecf98>"
            ]
          },
          "metadata": {
            "tags": []
          },
          "execution_count": 9
        },
        {
          "output_type": "display_data",
          "data": {
            "image/png": "[encoded data removed]",
            "text/plain": [
              "<Figure size 432x288 with 1 Axes>"
            ]
          },
          "metadata": {
            "tags": []
          }
        }
      ]
    },
    {
      "cell_type": "code",
      "metadata": {
        "id": "3OLNQVouBLNS",
        "colab_type": "code",
        "outputId": "ce69737a-284e-4b22-f151-34a3fd422702",
        "colab": {
          "base_uri": "https://localhost:8080/",
          "height": 201
        }
      },
      "source": [
        "df = cudf.DataFrame({'x': x, 'y': y_noisy})\n",
        "df.head(5)"
      ],
      "execution_count": 0,
      "outputs": [
        {
          "output_type": "execute_result",
          "data": {
            "text/html": [
              "<div>\n",
              "<style scoped>\n",
              "    .dataframe tbody tr th:only-of-type {\n",
              "        vertical-align: middle;\n",
              "    }\n",
              "\n",
              "    .dataframe tbody tr th {\n",
              "        vertical-align: top;\n",
              "    }\n",
              "\n",
              "    .dataframe thead th {\n",
              "        text-align: right;\n",
              "    }\n",
              "</style>\n",
              "<table border=\"1\" class=\"dataframe\">\n",
              "  <thead>\n",
              "    <tr style=\"text-align: right;\">\n",
              "      <th></th>\n",
              "      <th>x</th>\n",
              "      <th>y</th>\n",
              "    </tr>\n",
              "  </thead>\n",
              "  <tbody>\n",
              "    <tr>\n",
              "      <th>0</th>\n",
              "      <td>2.930472</td>\n",
              "      <td>7.108608</td>\n",
              "    </tr>\n",
              "    <tr>\n",
              "      <th>1</th>\n",
              "      <td>0.721014</td>\n",
              "      <td>2.735794</td>\n",
              "    </tr>\n",
              "    <tr>\n",
              "      <th>2</th>\n",
              "      <td>5.390496</td>\n",
              "      <td>11.656830</td>\n",
              "    </tr>\n",
              "    <tr>\n",
              "      <th>3</th>\n",
              "      <td>1.035208</td>\n",
              "      <td>2.065743</td>\n",
              "    </tr>\n",
              "    <tr>\n",
              "      <th>4</th>\n",
              "      <td>3.796838</td>\n",
              "      <td>11.080224</td>\n",
              "    </tr>\n",
              "  </tbody>\n",
              "</table>\n",
              "</div>"
            ],
            "text/plain": [
              "          x          y\n",
              "0  2.930472   7.108608\n",
              "1  0.721014   2.735794\n",
              "2  5.390496  11.656830\n",
              "3  1.035208   2.065743\n",
              "4  3.796838  11.080224"
            ]
          },
          "metadata": {
            "tags": []
          },
          "execution_count": 10
        }
      ]
    },
    {
      "cell_type": "code",
      "metadata": {
        "id": "o8BWUiIiBm1O",
        "colab_type": "code",
        "outputId": "f96ee5b8-481d-40aa-bb74-9b2a14a7fca8",
        "colab": {
          "base_uri": "https://localhost:8080/",
          "height": 52
        }
      },
      "source": [
        "%%time\n",
        "# instantiate and fit model\n",
        "linear_regression_gpu = LinearRegressionGPU()\n",
        "linear_regression_gpu.fit(df[['x']], df['y'])"
      ],
      "execution_count": 0,
      "outputs": [
        {
          "output_type": "stream",
          "text": [
            "CPU times: user 738 ms, sys: 301 ms, total: 1.04 s\n",
            "Wall time: 1.13 s\n"
          ],
          "name": "stdout"
        }
      ]
    },
    {
      "cell_type": "code",
      "metadata": {
        "id": "BmFlbY7-BmtS",
        "colab_type": "code",
        "colab": {}
      },
      "source": [
        "new_data_df = cudf.DataFrame({'inputs': inputs})"
      ],
      "execution_count": 0,
      "outputs": []
    },
    {
      "cell_type": "code",
      "metadata": {
        "id": "xlKErE7_Bmkm",
        "colab_type": "code",
        "colab": {}
      },
      "source": [
        "outputs_gpu = linear_regression_gpu.predict(new_data_df[['inputs']])"
      ],
      "execution_count": 0,
      "outputs": []
    },
    {
      "cell_type": "code",
      "metadata": {
        "id": "weTvbzxaBmYj",
        "colab_type": "code",
        "outputId": "ebbf617b-581c-40a0-e90a-41cbde7e03bb",
        "colab": {
          "base_uri": "https://localhost:8080/",
          "height": 286
        }
      },
      "source": [
        "plt.scatter(x, y_noisy, label='empirical data points')\n",
        "plt.plot(x, y, color='black', label='true relationship')\n",
        "plt.plot(inputs, outputs, color='red', label='predicted relationship (cpu)')\n",
        "plt.plot(inputs, outputs_gpu.to_array(), color='green', label='predicted relationship (gpu)')\n",
        "plt.legend()"
      ],
      "execution_count": 0,
      "outputs": [
        {
          "output_type": "execute_result",
          "data": {
            "text/plain": [
              "<matplotlib.legend.Legend at 0x7fad69953f98>"
            ]
          },
          "metadata": {
            "tags": []
          },
          "execution_count": 14
        },
        {
          "output_type": "display_data",
          "data": {
            "image/png": "[encoded data removed]",
            "text/plain": [
              "<Figure size 432x288 with 1 Axes>"
            ]
          },
          "metadata": {
            "tags": []
          }
        }
      ]
    }
  ]
}