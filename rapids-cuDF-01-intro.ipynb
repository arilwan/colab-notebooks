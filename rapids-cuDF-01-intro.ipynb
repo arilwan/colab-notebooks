{
  "nbformat": 4,
  "nbformat_minor": 0,
  "metadata": {
    "colab": {
      "name": "colab-rapids-01.ipynb",
      "version": "0.3.2",
      "provenance": [],
      "include_colab_link": true
    },
    "kernelspec": {
      "name": "python3",
      "display_name": "Python 3"
    },
    "accelerator": "GPU"
  },
  "cells": [
    {
      "cell_type": "markdown",
      "metadata": {
        "id": "view-in-github",
        "colab_type": "text"
      },
      "source": [
        "<a href=\"https://colab.research.google.com/github/martin-fabbri/colab-notebooks/blob/master/rapids-cuDF-01-intro.ipynb\" target=\"_parent\"><img src=\"https://colab.research.google.com/assets/colab-badge.svg\" alt=\"Open In Colab\"/></a>"
      ]
    },
    {
      "cell_type": "markdown",
      "metadata": {
        "id": "L3CR--oLtH0J",
        "colab_type": "text"
      },
      "source": [
        "#Setup:\n",
        "\n",
        "1. Use pynvml to confirm Colab allocated you a Tesla T4 GPU.\n",
        "2. Install most recent Miniconda release compatible with Google Colab's Python install  (3.6.7)\n",
        "3. Install RAPIDS libraries\n",
        "4. Copy RAPIDS .so files into current working directory, a workaround for conda/colab interactions\n",
        "5. Update env variables so Python can find and use RAPIDS artifacts\n",
        "\n",
        "All of the above steps are automated in the next cell.\n",
        "\n",
        "You should re-run this cell any time your instance re-starts."
      ]
    },
    {
      "cell_type": "code",
      "metadata": {
        "id": "Z2FjFcDp-2FF",
        "colab_type": "code",
        "outputId": "eccc4717-d923-452b-d6b0-0cdf1340b1f1",
        "colab": {
          "base_uri": "https://localhost:8080/",
          "height": 319
        }
      },
      "source": [
        "!nvidia-smi"
      ],
      "execution_count": 1,
      "outputs": [
        {
          "output_type": "stream",
          "text": [
            "Wed Sep 11 00:28:58 2019       \n",
            "+-----------------------------------------------------------------------------+\n",
            "| NVIDIA-SMI 430.40       Driver Version: 418.67       CUDA Version: 10.1     |\n",
            "|-------------------------------+----------------------+----------------------+\n",
            "| GPU  Name        Persistence-M| Bus-Id        Disp.A | Volatile Uncorr. ECC |\n",
            "| Fan  Temp  Perf  Pwr:Usage/Cap|         Memory-Usage | GPU-Util  Compute M. |\n",
            "|===============================+======================+======================|\n",
            "|   0  Tesla T4            Off  | 00000000:00:04.0 Off |                    0 |\n",
            "| N/A   72C    P0    31W /  70W |      0MiB / 15079MiB |      0%      Default |\n",
            "+-------------------------------+----------------------+----------------------+\n",
            "                                                                               \n",
            "+-----------------------------------------------------------------------------+\n",
            "| Processes:                                                       GPU Memory |\n",
            "|  GPU       PID   Type   Process name                             Usage      |\n",
            "|=============================================================================|\n",
            "|  No running processes found                                                 |\n",
            "+-----------------------------------------------------------------------------+\n"
          ],
          "name": "stdout"
        }
      ]
    },
    {
      "cell_type": "code",
      "metadata": {
        "id": "3EN-u_90tKZW",
        "colab_type": "code",
        "outputId": "ea6eced8-6c2e-4a6c-808a-800eff03b96d",
        "colab": {
          "base_uri": "https://localhost:8080/",
          "height": 1000
        }
      },
      "source": [
        "!wget -nc https://github.com/rapidsai/notebooks-extended/raw/master/utils/rapids-colab.sh\n",
        "!bash rapids-colab.sh\n",
        "\n",
        "import sys, os\n",
        "\n",
        "sys.path.append('/usr/local/lib/python3.6/site-packages/')\n",
        "os.environ['NUMBAPRO_NVVM'] = '/usr/local/cuda/nvvm/lib64/libnvvm.so'\n",
        "os.environ['NUMBAPRO_LIBDEVICE'] = '/usr/local/cuda/nvvm/libdevice/'"
      ],
      "execution_count": 2,
      "outputs": [
        {
          "output_type": "stream",
          "text": [
            "--2019-09-11 00:29:03--  https://github.com/rapidsai/notebooks-extended/raw/master/utils/rapids-colab.sh\n",
            "Resolving github.com (github.com)... 140.82.118.4\n",
            "Connecting to github.com (github.com)|140.82.118.4|:443... connected.\n",
            "HTTP request sent, awaiting response... 301 Moved Permanently\n",
            "Location: https://github.com/rapidsai/notebooks-contrib/raw/master/utils/rapids-colab.sh [following]\n",
            "--2019-09-11 00:29:04--  https://github.com/rapidsai/notebooks-contrib/raw/master/utils/rapids-colab.sh\n",
            "Reusing existing connection to github.com:443.\n",
            "HTTP request sent, awaiting response... 302 Found\n",
            "Location: https://raw.githubusercontent.com/rapidsai/notebooks-contrib/master/utils/rapids-colab.sh [following]\n",
            "--2019-09-11 00:29:04--  https://raw.githubusercontent.com/rapidsai/notebooks-contrib/master/utils/rapids-colab.sh\n",
            "Resolving raw.githubusercontent.com (raw.githubusercontent.com)... 151.101.0.133, 151.101.64.133, 151.101.128.133, ...\n",
            "Connecting to raw.githubusercontent.com (raw.githubusercontent.com)|151.101.0.133|:443... connected.\n",
            "HTTP request sent, awaiting response... 200 OK\n",
            "Length: 1609 (1.6K) [text/plain]\n",
            "Saving to: ‘rapids-colab.sh’\n",
            "\n",
            "rapids-colab.sh     100%[===================>]   1.57K  --.-KB/s    in 0s      \n",
            "\n",
            "2019-09-11 00:29:04 (275 MB/s) - ‘rapids-colab.sh’ saved [1609/1609]\n",
            "\n",
            "--2019-09-11 00:29:05--  https://github.com/rapidsai/notebooks-extended/raw/master/utils/env-check.py\n",
            "Resolving github.com (github.com)... 140.82.118.4\n",
            "Connecting to github.com (github.com)|140.82.118.4|:443... connected.\n",
            "HTTP request sent, awaiting response... 301 Moved Permanently\n",
            "Location: https://github.com/rapidsai/notebooks-contrib/raw/master/utils/env-check.py [following]\n",
            "--2019-09-11 00:29:05--  https://github.com/rapidsai/notebooks-contrib/raw/master/utils/env-check.py\n",
            "Reusing existing connection to github.com:443.\n",
            "HTTP request sent, awaiting response... 302 Found\n",
            "Location: https://raw.githubusercontent.com/rapidsai/notebooks-contrib/master/utils/env-check.py [following]\n",
            "--2019-09-11 00:29:06--  https://raw.githubusercontent.com/rapidsai/notebooks-contrib/master/utils/env-check.py\n",
            "Resolving raw.githubusercontent.com (raw.githubusercontent.com)... 151.101.0.133, 151.101.64.133, 151.101.128.133, ...\n",
            "Connecting to raw.githubusercontent.com (raw.githubusercontent.com)|151.101.0.133|:443... connected.\n",
            "HTTP request sent, awaiting response... 200 OK\n",
            "Length: 783 [text/plain]\n",
            "Saving to: ‘env-check.py’\n",
            "\n",
            "env-check.py        100%[===================>]     783  --.-KB/s    in 0s      \n",
            "\n",
            "2019-09-11 00:29:06 (27.2 MB/s) - ‘env-check.py’ saved [783/783]\n",
            "\n",
            "Checking for GPU type:\n",
            "*********************************************\n",
            "Woo! Your instance has the right kind of GPU!\n",
            "*********************************************\n",
            "\n",
            "Removing conflicting packages, will replace with RAPIDS compatible versions\n",
            "Uninstalling xgboost-0.90:\n",
            "  Successfully uninstalled xgboost-0.90\n",
            "Uninstalling dask-1.1.5:\n",
            "  Successfully uninstalled dask-1.1.5\n",
            "Uninstalling distributed-1.25.3:\n",
            "  Successfully uninstalled distributed-1.25.3\n",
            "Installing conda\n",
            "--2019-09-11 00:29:10--  https://repo.continuum.io/miniconda/Miniconda3-4.5.4-Linux-x86_64.sh\n",
            "Resolving repo.continuum.io (repo.continuum.io)... 104.18.200.79, 104.18.201.79, 2606:4700::6812:c84f, ...\n",
            "Connecting to repo.continuum.io (repo.continuum.io)|104.18.200.79|:443... connected.\n",
            "HTTP request sent, awaiting response... 200 OK\n",
            "Length: 58468498 (56M) [application/x-sh]\n",
            "Saving to: ‘Miniconda3-4.5.4-Linux-x86_64.sh’\n",
            "\n",
            "Miniconda3-4.5.4-Li 100%[===================>]  55.76M  79.7MB/s    in 0.7s    \n",
            "\n",
            "2019-09-11 00:29:11 (79.7 MB/s) - ‘Miniconda3-4.5.4-Linux-x86_64.sh’ saved [58468498/58468498]\n",
            "\n",
            "PREFIX=/usr/local\n",
            "installing: python-3.6.5-hc3d631a_2 ...\n",
            "Python 3.6.5 :: Anaconda, Inc.\n",
            "installing: ca-certificates-2018.03.07-0 ...\n",
            "installing: conda-env-2.6.0-h36134e3_1 ...\n",
            "installing: libgcc-ng-7.2.0-hdf63c60_3 ...\n",
            "installing: libstdcxx-ng-7.2.0-hdf63c60_3 ...\n",
            "installing: libffi-3.2.1-hd88cf55_4 ...\n",
            "installing: ncurses-6.1-hf484d3e_0 ...\n",
            "installing: openssl-1.0.2o-h20670df_0 ...\n",
            "installing: tk-8.6.7-hc745277_3 ...\n",
            "installing: xz-5.2.4-h14c3975_4 ...\n",
            "installing: yaml-0.1.7-had09818_2 ...\n",
            "installing: zlib-1.2.11-ha838bed_2 ...\n",
            "installing: libedit-3.1.20170329-h6b74fdf_2 ...\n",
            "installing: readline-7.0-ha6073c6_4 ...\n",
            "installing: sqlite-3.23.1-he433501_0 ...\n",
            "installing: asn1crypto-0.24.0-py36_0 ...\n",
            "installing: certifi-2018.4.16-py36_0 ...\n",
            "installing: chardet-3.0.4-py36h0f667ec_1 ...\n",
            "installing: idna-2.6-py36h82fb2a8_1 ...\n",
            "installing: pycosat-0.6.3-py36h0a5515d_0 ...\n",
            "installing: pycparser-2.18-py36hf9f622e_1 ...\n",
            "installing: pysocks-1.6.8-py36_0 ...\n",
            "installing: ruamel_yaml-0.15.37-py36h14c3975_2 ...\n",
            "installing: six-1.11.0-py36h372c433_1 ...\n",
            "installing: cffi-1.11.5-py36h9745a5d_0 ...\n",
            "installing: setuptools-39.2.0-py36_0 ...\n",
            "installing: cryptography-2.2.2-py36h14c3975_0 ...\n",
            "installing: wheel-0.31.1-py36_0 ...\n",
            "installing: pip-10.0.1-py36_0 ...\n",
            "installing: pyopenssl-18.0.0-py36_0 ...\n",
            "installing: urllib3-1.22-py36hbe7ace6_0 ...\n",
            "installing: requests-2.18.4-py36he2e5f8d_1 ...\n",
            "installing: conda-4.5.4-py36_0 ...\n",
            "installation finished.\n",
            "WARNING:\n",
            "    You currently have a PYTHONPATH environment variable set. This may cause\n",
            "    unexpected behavior when running the Python interpreter in Miniconda3.\n",
            "    For best results, please verify that your PYTHONPATH only points to\n",
            "    directories of packages that are compatible with the Python interpreter\n",
            "    in Miniconda3: /usr/local\n",
            "Installing RAPIDS 0.10 packages\n",
            "Please standby, this will take a few minutes...\n",
            "\n",
            "\n",
            "==> WARNING: A newer version of conda exists. <==\n",
            "  current version: 4.5.4\n",
            "  latest version: 4.7.11\n",
            "\n",
            "Please update conda by running\n",
            "\n",
            "    $ conda update -n base conda\n",
            "\n",
            "\n",
            "readline-8.0         |  441 KB | : 100% 1.0/1 [00:00<00:00,  8.42it/s]\n",
            "python-dateutil-2.8. |  219 KB | : 100% 1.0/1 [00:00<00:00, 16.89it/s]\n",
            "numba-0.45.1         |  3.1 MB | : 100% 1.0/1 [00:00<00:00,  1.12it/s]               \n",
            "msgpack-python-0.6.1 |   89 KB | : 100% 1.0/1 [00:00<00:00, 23.15it/s]\n",
            "lz4-c-1.8.3          |  187 KB | : 100% 1.0/1 [00:00<00:00, 14.23it/s]\n",
            "cryptography-2.7     |  607 KB | : 100% 1.0/1 [00:00<00:00,  5.02it/s]               \n",
            "gflags-2.2.2         |  177 KB | : 100% 1.0/1 [00:00<00:00, 13.68it/s]\n",
            "yaml-0.1.7           |   78 KB | : 100% 1.0/1 [00:00<00:00, 24.44it/s]\n",
            "chardet-3.0.4        |  190 KB | : 100% 1.0/1 [00:00<00:00, 13.37it/s]\n",
            "libxgboost-0.90.rapi | 32.8 MB | : 100% 1.0/1 [00:09<00:00,  9.16s/it]               \n",
            "numpy-1.17.2         |  5.2 MB | : 100% 1.0/1 [00:01<00:00,  1.06s/it]               \n",
            "icu-64.2             | 12.6 MB | : 100% 1.0/1 [00:01<00:00,  1.88s/it]              \n",
            "pyparsing-2.4.2      |   57 KB | : 100% 1.0/1 [00:00<00:00, 27.17it/s]\n",
            "markupsafe-1.1.1     |   26 KB | : 100% 1.0/1 [00:00<00:00, 30.63it/s]\n",
            "bokeh-1.3.4          |  4.0 MB | : 100% 1.0/1 [00:01<00:00,  1.28s/it]              \n",
            "re2-2019.09.01       |  431 KB | : 100% 1.0/1 [00:00<00:00, 10.18it/s]\n",
            "double-conversion-3. |   85 KB | : 100% 1.0/1 [00:00<00:00, 24.03it/s]\n",
            "requests-2.22.0      |   84 KB | : 100% 1.0/1 [00:00<00:00, 19.90it/s]\n",
            "libcudf-0.10.0a      | 27.8 MB | : 100% 1.0/1 [00:07<00:00,  7.24s/it]               \n",
            "six-1.12.0           |   22 KB | : 100% 1.0/1 [00:00<00:00, 27.68it/s]\n",
            "certifi-2019.6.16    |  149 KB | : 100% 1.0/1 [00:00<00:00, 22.81it/s]\n",
            "libcumlprims-0.9.0   |  3.9 MB | : 100% 1.0/1 [00:01<00:00,  1.19s/it]               \n",
            "gcsfs-0.3.0          |   19 KB | : 100% 1.0/1 [00:00<00:00, 33.87it/s]\n",
            "distributed-2.3.2    |  370 KB | : 100% 1.0/1 [00:00<00:00,  6.68it/s]               \n",
            "libnvstrings-0.10.0a | 24.7 MB | : 100% 1.0/1 [00:05<00:00,  5.42s/it]               \n",
            "libtiff-4.0.10       |  587 KB | : 100% 1.0/1 [00:00<00:00,  7.74it/s]               \n",
            "cloudpickle-1.2.2    |   23 KB | : 100% 1.0/1 [00:00<00:00, 29.74it/s]\n",
            "cudf-0.10.0a         |  4.8 MB | : 100% 1.0/1 [00:01<00:00,  1.57s/it]               \n",
            "google-auth-oauthlib |   18 KB | : 100% 1.0/1 [00:00<00:00, 26.23it/s]\n",
            "py-xgboost-0.90.rapi |   86 KB | : 100% 1.0/1 [00:00<00:00,  1.56it/s]               \n",
            "arrow-cpp-0.14.1     | 17.3 MB | : 100% 1.0/1 [00:02<00:00,  2.63s/it]              \n",
            "libgfortran-ng-7.3.0 |  1.3 MB | : 100% 1.0/1 [00:00<00:00,  4.38it/s]               \n",
            "bzip2-1.0.8          |  397 KB | : 100% 1.0/1 [00:00<00:00, 11.01it/s]\n",
            "parquet-cpp-1.5.1    |    3 KB | : 100% 1.0/1 [00:00<00:00, 43.87it/s]\n",
            "pytz-2019.2          |  228 KB | : 100% 1.0/1 [00:00<00:00,  3.79it/s]              \n",
            "idna-2.8             |  132 KB | : 100% 1.0/1 [00:00<00:00, 17.32it/s]\n",
            "librmm-0.10.0a       |   44 KB | : 100% 1.0/1 [00:00<00:00,  3.66it/s]               \n",
            "urllib3-1.25.3       |  187 KB | : 100% 1.0/1 [00:00<00:00, 11.25it/s]\n",
            "dask-2.3.0           |    4 KB | : 100% 1.0/1 [00:00<00:00,  1.78it/s] \n",
            "libopenblas-0.3.7    |  7.6 MB | : 100% 1.0/1 [00:01<00:00,  1.22s/it]               \n",
            "pynvml-8.0.3         |   30 KB | : 100% 1.0/1 [00:00<00:00, 30.14it/s]\n",
            "libffi-3.2.1         |   46 KB | : 100% 1.0/1 [00:00<00:00, 27.02it/s]\n",
            "liblapack-3.8.0      |   10 KB | : 100% 1.0/1 [00:00<00:00, 28.24it/s]\n",
            "setuptools-41.2.0    |  634 KB | : 100% 1.0/1 [00:00<00:00,  5.51it/s]               \n",
            "fsspec-0.4.4         |   39 KB | : 100% 1.0/1 [00:00<00:00, 27.03it/s]\n",
            "pyarrow-0.14.1       |  2.8 MB | : 100% 1.0/1 [00:00<00:00,  1.37it/s]               \n",
            "zstd-1.4.0           |  928 KB | : 100% 1.0/1 [00:00<00:00,  6.33it/s]               \n",
            "c-ares-1.15.0        |  100 KB | : 100% 1.0/1 [00:00<00:00, 23.13it/s]\n",
            "brotli-1.0.7         |  1.0 MB | : 100% 1.0/1 [00:00<00:00,  6.30it/s]               \n",
            "ncurses-6.1          |  1.3 MB | : 100% 1.0/1 [00:00<00:00,  1.30it/s]               \n",
            "cython-0.29.13       |  2.2 MB | : 100% 1.0/1 [00:00<00:00,  2.04it/s]               \n",
            "requests-oauthlib-1. |   19 KB | : 100% 1.0/1 [00:00<00:00, 34.01it/s]\n",
            "dask-core-2.3.0      |  574 KB | : 100% 1.0/1 [00:00<00:00,  5.56it/s]               \n",
            "partd-1.0.0          |   16 KB | : 100% 1.0/1 [00:00<00:00, 21.79it/s]\n",
            "dlpack-0.2           |   12 KB | : 100% 1.0/1 [00:00<00:00, 40.72it/s]\n",
            "pyjwt-1.7.1          |   17 KB | : 100% 1.0/1 [00:00<00:00, 34.20it/s]\n",
            "click-7.0            |   61 KB | : 100% 1.0/1 [00:00<00:00, 25.87it/s]\n",
            "libpng-1.6.37        |  343 KB | : 100% 1.0/1 [00:00<00:00, 11.80it/s]\n",
            "libcblas-3.8.0       |   10 KB | : 100% 1.0/1 [00:00<00:00, 32.86it/s]\n",
            "rsa-3.4.2            |   31 KB | : 100% 1.0/1 [00:00<00:00,  1.95it/s]               \n",
            "oauthlib-3.0.1       |   82 KB | : 100% 1.0/1 [00:00<00:00, 16.12it/s]\n",
            "decorator-4.4.0      |   11 KB | : 100% 1.0/1 [00:00<00:00, 39.33it/s]\n",
            "libstdcxx-ng-9.1.0   |  4.0 MB | : 100% 1.0/1 [00:00<00:00,  1.65it/s]               \n",
            "libcugraph-0.10.0a   | 11.2 MB | : 100% 1.0/1 [00:02<00:00,  2.98s/it]               \n",
            "xgboost-0.90.rapidsd |   11 KB | : 100% 1.0/1 [00:00<00:00,  3.77it/s] \n",
            "sqlite-3.29.0        |  1.9 MB | : 100% 1.0/1 [00:00<00:00,  3.46it/s]               \n",
            "cudatoolkit-10.0.130 | 380.0 MB | : 100% 1.0/1 [00:45<00:00, 45.90s/it]                \n",
            "pysocks-1.7.0        |   26 KB | : 100% 1.0/1 [00:00<00:00, 22.16it/s]\n",
            "libgcc-ng-9.1.0      |  8.1 MB | : 100% 1.0/1 [00:01<00:00,  1.11s/it]               \n",
            "cffi-1.12.3          |  218 KB | : 100% 1.0/1 [00:00<00:00, 13.70it/s]\n",
            "zict-1.0.0           |   10 KB | : 100% 1.0/1 [00:00<00:00, 32.92it/s]\n",
            "cugraph-0.10.0a      |  1.3 MB | : 100% 1.0/1 [00:01<00:00,  1.57s/it]               \n",
            "cytoolz-0.10.0       |  429 KB | : 100% 1.0/1 [00:00<00:00,  8.87it/s]\n",
            "glog-0.4.0           |  104 KB | : 100% 1.0/1 [00:00<00:00, 22.95it/s]\n",
            "libevent-2.1.10      |  1.3 MB | : 100% 1.0/1 [00:00<00:00,  2.85it/s]               \n",
            "thrift-cpp-0.12.0    |  2.4 MB | : 100% 1.0/1 [00:00<00:00,  2.21it/s]              \n",
            "uriparser-0.9.3      |   49 KB | : 100% 1.0/1 [00:00<00:00, 21.82it/s]\n",
            "scikit-learn-0.21.3  |  6.7 MB | : 100% 1.0/1 [00:01<00:00,  1.43s/it]             \n",
            "wheel-0.33.6         |   35 KB | : 100% 1.0/1 [00:00<00:00, 27.91it/s]\n",
            "tornado-6.0.3        |  636 KB | : 100% 1.0/1 [00:00<00:00,  5.44it/s]               \n",
            "ca-certificates-2019 |  145 KB | : 100% 1.0/1 [00:00<00:00, 22.04it/s]\n",
            "nvstrings-0.10.0a    |  125 KB | : 100% 1.0/1 [00:00<00:00,  3.01it/s]                \n",
            "scipy-1.3.1          | 18.1 MB | : 100% 1.0/1 [00:03<00:00,  3.00s/it]               \n",
            "libblas-3.8.0        |   10 KB | : 100% 1.0/1 [00:00<00:00, 35.32it/s]\n",
            "snappy-1.1.7         |   39 KB | : 100% 1.0/1 [00:00<00:00, 28.94it/s]\n",
            "jpeg-9c              |  251 KB | : 100% 1.0/1 [00:00<00:00, 14.32it/s]\n",
            "pandas-0.24.2        | 11.1 MB | : 100% 1.0/1 [00:02<00:00,  2.33s/it]               \n",
            "pyasn1-0.4.6         |   52 KB | : 100% 1.0/1 [00:00<00:00, 20.18it/s]\n",
            "sortedcontainers-2.1 |   25 KB | : 100% 1.0/1 [00:00<00:00, 33.88it/s]\n",
            "fastavro-0.22.4      |  405 KB | : 100% 1.0/1 [00:00<00:00, 10.22it/s]\n",
            "cachetools-2.1.0     |   10 KB | : 100% 1.0/1 [00:00<00:00, 33.73it/s]\n",
            "jinja2-2.10.1        |   91 KB | : 100% 1.0/1 [00:00<00:00, 20.04it/s]\n",
            "pycparser-2.19       |  173 KB | : 100% 1.0/1 [00:00<00:00, 13.93it/s]\n",
            "psutil-5.6.3         |  322 KB | : 100% 1.0/1 [00:00<00:00, 10.52it/s]\n",
            "tblib-1.4.0          |   12 KB | : 100% 1.0/1 [00:00<00:00, 26.01it/s]\n",
            "pyasn1-modules-0.2.6 |   47 KB | : 100% 1.0/1 [00:00<00:00, 19.84it/s]\n",
            "pyopenssl-19.0.0     |   81 KB | : 100% 1.0/1 [00:00<00:00, 21.81it/s]\n",
            "freetype-2.10.0      |  884 KB | : 100% 1.0/1 [00:00<00:00,  6.25it/s]               \n",
            "cuml-0.10.0a         |  6.0 MB | : 100% 1.0/1 [00:02<00:00,  2.62s/it]               \n",
            "rmm-0.10.0a          |   14 KB | : 100% 1.0/1 [00:00<00:00,  3.79it/s] \n",
            "python-3.6.7         | 34.6 MB | : 100% 1.0/1 [00:04<00:00,  4.81s/it]               \n",
            "nccl-2.4.6.1         | 66.6 MB | : 100% 1.0/1 [00:10<00:00, 10.18s/it]               \n",
            "libprotobuf-3.8.0    |  4.7 MB | : 100% 1.0/1 [00:00<00:00,  1.12it/s]               \n",
            "heapdict-1.0.0       |    7 KB | : 100% 1.0/1 [00:00<00:00, 32.33it/s]\n",
            "asn1crypto-0.24.0    |  154 KB | : 100% 1.0/1 [00:00<00:00, 14.93it/s]\n",
            "dask-cudf-0.10.0a    |   63 KB | : 100% 1.0/1 [00:00<00:00,  1.26it/s] \n",
            "xz-5.2.4             |  366 KB | : 100% 1.0/1 [00:00<00:00,  9.49it/s]\n",
            "boost-cpp-1.70.0     | 21.1 MB | : 100% 1.0/1 [00:08<00:00,  8.50s/it]               \n",
            "openssl-1.1.1c       |  2.1 MB | : 100% 1.0/1 [00:00<00:00,  2.97it/s]               \n",
            "packaging-19.0       |   23 KB | : 100% 1.0/1 [00:00<00:00, 21.34it/s]\n",
            "llvmlite-0.29.0      | 19.9 MB | : 100% 1.0/1 [00:02<00:00,  2.96s/it]               \n",
            "zlib-1.2.11          |  105 KB | : 100% 1.0/1 [00:00<00:00, 24.18it/s]\n",
            "libcuml-0.10.0a      | 29.3 MB | : 100% 1.0/1 [00:20<00:00, 20.67s/it]               \n",
            "pip-19.2.3           |  1.9 MB | : 100% 1.0/1 [00:01<00:00,  1.26s/it]               \n",
            "_libgcc_mutex-0.1    |    3 KB | : 100% 1.0/1 [00:00<00:00, 40.96it/s]\n",
            "olefile-0.46         |   31 KB | : 100% 1.0/1 [00:00<00:00, 27.43it/s]\n",
            "pillow-6.1.0         |  634 KB | : 100% 1.0/1 [00:00<00:00,  5.65it/s]               \n",
            "blinker-1.4          |   13 KB | : 100% 1.0/1 [00:00<00:00, 31.74it/s]\n",
            "google-auth-1.6.3    |   45 KB | : 100% 1.0/1 [00:00<00:00, 22.28it/s]\n",
            "grpc-cpp-1.23.0      |  4.5 MB | : 100% 1.0/1 [00:00<00:00,  1.09it/s]              \n",
            "toolz-0.10.0         |   46 KB | : 100% 1.0/1 [00:00<00:00, 25.57it/s]\n",
            "locket-0.2.0         |    6 KB | : 100% 1.0/1 [00:00<00:00, 34.38it/s]\n",
            "dask-cuml-0.8.0a     |   30 KB | : 100% 1.0/1 [00:00<00:00,  1.06s/it]                \n",
            "tk-8.6.9             |  3.2 MB | : 100% 1.0/1 [00:00<00:00,  1.64it/s]               \n",
            "dask-cuda-0.10.0a    |  924 KB | : 100% 1.0/1 [00:01<00:00,  1.16s/it]              \n",
            "joblib-0.13.2        |  180 KB | : 100% 1.0/1 [00:00<00:00, 11.15it/s]\n",
            "pyyaml-5.1.2         |  184 KB | : 100% 1.0/1 [00:00<00:00, 15.95it/s]\n",
            "Copying shared object files to /usr/lib\n",
            "\n",
            "*********************************************\n",
            "Your Google Colab instance is RAPIDS ready!\n",
            "*********************************************\n"
          ],
          "name": "stdout"
        }
      ]
    },
    {
      "cell_type": "markdown",
      "metadata": {
        "id": "8xErLYOxtU4f",
        "colab_type": "text"
      },
      "source": [
        "# RAPIDS Examples #\n",
        "\n",
        "Now you can run code! \n",
        "\n",
        "What follows are basic examples where all processing takes place on the GPU."
      ]
    },
    {
      "cell_type": "markdown",
      "metadata": {
        "id": "RSXLHPlUaHZj",
        "colab_type": "text"
      },
      "source": [
        "## Required Imports"
      ]
    },
    {
      "cell_type": "code",
      "metadata": {
        "id": "_Dd7pWJHaNHS",
        "colab_type": "code",
        "colab": {}
      },
      "source": [
        "import cudf\n",
        "import pandas as pd\n",
        "import numpy as np\n",
        "import math\n",
        "import os"
      ],
      "execution_count": 0,
      "outputs": []
    },
    {
      "cell_type": "markdown",
      "metadata": {
        "id": "XpBwe6S5ZSQZ",
        "colab_type": "text"
      },
      "source": [
        "# cuDF Series\n",
        "\n",
        "---\n",
        "Creating a cudf.Series"
      ]
    },
    {
      "cell_type": "code",
      "metadata": {
        "id": "oXS-i96LZiS9",
        "colab_type": "code",
        "colab": {
          "base_uri": "https://localhost:8080/",
          "height": 123
        },
        "outputId": "ec32f08e-2f18-44b3-bcd3-1a94de8d5320"
      },
      "source": [
        "s = cudf.Series([1, 2, 3, None, 4])\n",
        "print(s)"
      ],
      "execution_count": 26,
      "outputs": [
        {
          "output_type": "stream",
          "text": [
            "0       1\n",
            "1       2\n",
            "2       3\n",
            "3    null\n",
            "4       4\n",
            "dtype: int64\n"
          ],
          "name": "stdout"
        }
      ]
    },
    {
      "cell_type": "markdown",
      "metadata": {
        "id": "fe5IqmLxke6U",
        "colab_type": "text"
      },
      "source": [
        "Creating a cudf dataframe"
      ]
    },
    {
      "cell_type": "code",
      "metadata": {
        "id": "W7FN8vb0keLf",
        "colab_type": "code",
        "colab": {
          "base_uri": "https://localhost:8080/",
          "height": 201
        },
        "outputId": "a8741635-0ce0-4e66-8bca-133469856568"
      },
      "source": [
        "df = cudf.DataFrame([('a', list(range(20))), ('b', list(reversed(range(20)))), ('c', list(range(30, 50)))])\n",
        "df.head(5)"
      ],
      "execution_count": 27,
      "outputs": [
        {
          "output_type": "execute_result",
          "data": {
            "text/html": [
              "<div>\n",
              "<style scoped>\n",
              "    .dataframe tbody tr th:only-of-type {\n",
              "        vertical-align: middle;\n",
              "    }\n",
              "\n",
              "    .dataframe tbody tr th {\n",
              "        vertical-align: top;\n",
              "    }\n",
              "\n",
              "    .dataframe thead th {\n",
              "        text-align: right;\n",
              "    }\n",
              "</style>\n",
              "<table border=\"1\" class=\"dataframe\">\n",
              "  <thead>\n",
              "    <tr style=\"text-align: right;\">\n",
              "      <th></th>\n",
              "      <th>a</th>\n",
              "      <th>b</th>\n",
              "      <th>c</th>\n",
              "    </tr>\n",
              "  </thead>\n",
              "  <tbody>\n",
              "    <tr>\n",
              "      <th>0</th>\n",
              "      <td>0</td>\n",
              "      <td>19</td>\n",
              "      <td>30</td>\n",
              "    </tr>\n",
              "    <tr>\n",
              "      <th>1</th>\n",
              "      <td>1</td>\n",
              "      <td>18</td>\n",
              "      <td>31</td>\n",
              "    </tr>\n",
              "    <tr>\n",
              "      <th>2</th>\n",
              "      <td>2</td>\n",
              "      <td>17</td>\n",
              "      <td>32</td>\n",
              "    </tr>\n",
              "    <tr>\n",
              "      <th>3</th>\n",
              "      <td>3</td>\n",
              "      <td>16</td>\n",
              "      <td>33</td>\n",
              "    </tr>\n",
              "    <tr>\n",
              "      <th>4</th>\n",
              "      <td>4</td>\n",
              "      <td>15</td>\n",
              "      <td>34</td>\n",
              "    </tr>\n",
              "  </tbody>\n",
              "</table>\n",
              "</div>"
            ],
            "text/plain": [
              "   a   b   c\n",
              "0  0  19  30\n",
              "1  1  18  31\n",
              "2  2  17  32\n",
              "3  3  16  33\n",
              "4  4  15  34"
            ]
          },
          "metadata": {
            "tags": []
          },
          "execution_count": 27
        }
      ]
    },
    {
      "cell_type": "markdown",
      "metadata": {
        "id": "EJqUlfmylqA5",
        "colab_type": "text"
      },
      "source": [
        "Create a cudf dataframe from a pd.dataframe"
      ]
    },
    {
      "cell_type": "code",
      "metadata": {
        "id": "RoEA15Q8lpkU",
        "colab_type": "code",
        "colab": {
          "base_uri": "https://localhost:8080/",
          "height": 251
        },
        "outputId": "b22eb712-dd2f-48c0-c677-e65d8fa34b49"
      },
      "source": [
        "pdf = pd.DataFrame({'a': [0, 1, 2, 3], 'b': [0.0, 0.1, None, 0.2]})\n",
        "print('Panda df:', pdf.info())\n",
        "\n",
        "cdf = cudf.DataFrame.from_pandas(pdf)\n",
        "cdf.head(2)"
      ],
      "execution_count": 28,
      "outputs": [
        {
          "output_type": "stream",
          "text": [
            "<class 'pandas.core.frame.DataFrame'>\n",
            "RangeIndex: 4 entries, 0 to 3\n",
            "Data columns (total 2 columns):\n",
            "a    4 non-null int64\n",
            "b    3 non-null float64\n",
            "dtypes: float64(1), int64(1)\n",
            "memory usage: 144.0 bytes\n",
            "Panda df: None\n"
          ],
          "name": "stdout"
        },
        {
          "output_type": "execute_result",
          "data": {
            "text/html": [
              "<div>\n",
              "<style scoped>\n",
              "    .dataframe tbody tr th:only-of-type {\n",
              "        vertical-align: middle;\n",
              "    }\n",
              "\n",
              "    .dataframe tbody tr th {\n",
              "        vertical-align: top;\n",
              "    }\n",
              "\n",
              "    .dataframe thead th {\n",
              "        text-align: right;\n",
              "    }\n",
              "</style>\n",
              "<table border=\"1\" class=\"dataframe\">\n",
              "  <thead>\n",
              "    <tr style=\"text-align: right;\">\n",
              "      <th></th>\n",
              "      <th>a</th>\n",
              "      <th>b</th>\n",
              "    </tr>\n",
              "  </thead>\n",
              "  <tbody>\n",
              "    <tr>\n",
              "      <th>0</th>\n",
              "      <td>0</td>\n",
              "      <td>0.0</td>\n",
              "    </tr>\n",
              "    <tr>\n",
              "      <th>1</th>\n",
              "      <td>1</td>\n",
              "      <td>0.1</td>\n",
              "    </tr>\n",
              "  </tbody>\n",
              "</table>\n",
              "</div>"
            ],
            "text/plain": [
              "   a    b\n",
              "0  0  0.0\n",
              "1  1  0.1"
            ]
          },
          "metadata": {
            "tags": []
          },
          "execution_count": 28
        }
      ]
    },
    {
      "cell_type": "markdown",
      "metadata": {
        "id": "Wuc_Cn0nneUM",
        "colab_type": "text"
      },
      "source": [
        "## cuDF Dataframe Basics"
      ]
    },
    {
      "cell_type": "markdown",
      "metadata": {
        "id": "LuWVbnQSq9yP",
        "colab_type": "text"
      },
      "source": [
        "Object Creation"
      ]
    },
    {
      "cell_type": "code",
      "metadata": {
        "id": "muYLGluoneEL",
        "colab_type": "code",
        "colab": {
          "base_uri": "https://localhost:8080/",
          "height": 123
        },
        "outputId": "7dce3ffc-01f4-4b50-dd69-8c2dc9d65358"
      },
      "source": [
        "pdf = pd.DataFrame({'a': [0, 1, 2, 3, 4],'b': [0.1, 0.2, None, 0.3, 0.5]})\n",
        "cdf = cudf.DataFrame.from_pandas(pdf)\n",
        "print(cdf)"
      ],
      "execution_count": 29,
      "outputs": [
        {
          "output_type": "stream",
          "text": [
            "   a     b\n",
            "0  0   0.1\n",
            "1  1   0.2\n",
            "2  2  null\n",
            "3  3   0.3\n",
            "4  4   0.5\n"
          ],
          "name": "stdout"
        }
      ]
    },
    {
      "cell_type": "markdown",
      "metadata": {
        "id": "Jz1Ihu1zrLpd",
        "colab_type": "text"
      },
      "source": [
        "Sorting values"
      ]
    },
    {
      "cell_type": "code",
      "metadata": {
        "id": "PzOfNDMOrLfx",
        "colab_type": "code",
        "colab": {
          "base_uri": "https://localhost:8080/",
          "height": 201
        },
        "outputId": "236faf10-0e12-4f0c-9553-c40cec970bc5"
      },
      "source": [
        "pdf.sort_values(by='b')\n",
        "cdf.sort_values(by='b')"
      ],
      "execution_count": 30,
      "outputs": [
        {
          "output_type": "execute_result",
          "data": {
            "text/html": [
              "<div>\n",
              "<style scoped>\n",
              "    .dataframe tbody tr th:only-of-type {\n",
              "        vertical-align: middle;\n",
              "    }\n",
              "\n",
              "    .dataframe tbody tr th {\n",
              "        vertical-align: top;\n",
              "    }\n",
              "\n",
              "    .dataframe thead th {\n",
              "        text-align: right;\n",
              "    }\n",
              "</style>\n",
              "<table border=\"1\" class=\"dataframe\">\n",
              "  <thead>\n",
              "    <tr style=\"text-align: right;\">\n",
              "      <th></th>\n",
              "      <th>a</th>\n",
              "      <th>b</th>\n",
              "    </tr>\n",
              "  </thead>\n",
              "  <tbody>\n",
              "    <tr>\n",
              "      <th>0</th>\n",
              "      <td>0</td>\n",
              "      <td>0.1</td>\n",
              "    </tr>\n",
              "    <tr>\n",
              "      <th>1</th>\n",
              "      <td>1</td>\n",
              "      <td>0.2</td>\n",
              "    </tr>\n",
              "    <tr>\n",
              "      <th>3</th>\n",
              "      <td>3</td>\n",
              "      <td>0.3</td>\n",
              "    </tr>\n",
              "    <tr>\n",
              "      <th>4</th>\n",
              "      <td>4</td>\n",
              "      <td>0.5</td>\n",
              "    </tr>\n",
              "    <tr>\n",
              "      <th>2</th>\n",
              "      <td>2</td>\n",
              "      <td>null</td>\n",
              "    </tr>\n",
              "  </tbody>\n",
              "</table>\n",
              "</div>"
            ],
            "text/plain": [
              "   a     b\n",
              "0  0   0.1\n",
              "1  1   0.2\n",
              "3  3   0.3\n",
              "4  4   0.5\n",
              "2  2  null"
            ]
          },
          "metadata": {
            "tags": []
          },
          "execution_count": 30
        }
      ]
    },
    {
      "cell_type": "markdown",
      "metadata": {
        "id": "LRd7TXtVrLLJ",
        "colab_type": "text"
      },
      "source": [
        "Selection"
      ]
    },
    {
      "cell_type": "code",
      "metadata": {
        "id": "2xNRX1K5rKz-",
        "colab_type": "code",
        "colab": {
          "base_uri": "https://localhost:8080/",
          "height": 88
        },
        "outputId": "fd0d31c0-08ca-429d-b081-ac80472b05e7"
      },
      "source": [
        "pdf['a'].head(3)\n",
        "cdf['a'].head(3)"
      ],
      "execution_count": 31,
      "outputs": [
        {
          "output_type": "execute_result",
          "data": {
            "text/plain": [
              "0    0\n",
              "1    1\n",
              "2    2\n",
              "Name: a, dtype: int64"
            ]
          },
          "metadata": {
            "tags": []
          },
          "execution_count": 31
        }
      ]
    },
    {
      "cell_type": "markdown",
      "metadata": {
        "id": "-TtM0RoRrrf_",
        "colab_type": "text"
      },
      "source": [
        "Selection by label"
      ]
    },
    {
      "cell_type": "code",
      "metadata": {
        "id": "OG2ru7iWrrWM",
        "colab_type": "code",
        "colab": {
          "base_uri": "https://localhost:8080/",
          "height": 109
        },
        "outputId": "ba6ac415-450a-4a42-81b4-80399e508c22"
      },
      "source": [
        "cdf.loc[:1, ['a', 'b']]"
      ],
      "execution_count": 32,
      "outputs": [
        {
          "output_type": "execute_result",
          "data": {
            "text/html": [
              "<div>\n",
              "<style scoped>\n",
              "    .dataframe tbody tr th:only-of-type {\n",
              "        vertical-align: middle;\n",
              "    }\n",
              "\n",
              "    .dataframe tbody tr th {\n",
              "        vertical-align: top;\n",
              "    }\n",
              "\n",
              "    .dataframe thead th {\n",
              "        text-align: right;\n",
              "    }\n",
              "</style>\n",
              "<table border=\"1\" class=\"dataframe\">\n",
              "  <thead>\n",
              "    <tr style=\"text-align: right;\">\n",
              "      <th></th>\n",
              "      <th>a</th>\n",
              "      <th>b</th>\n",
              "    </tr>\n",
              "  </thead>\n",
              "  <tbody>\n",
              "    <tr>\n",
              "      <th>0</th>\n",
              "      <td>0</td>\n",
              "      <td>0.1</td>\n",
              "    </tr>\n",
              "    <tr>\n",
              "      <th>1</th>\n",
              "      <td>1</td>\n",
              "      <td>0.2</td>\n",
              "    </tr>\n",
              "  </tbody>\n",
              "</table>\n",
              "</div>"
            ],
            "text/plain": [
              "   a    b\n",
              "0  0  0.1\n",
              "1  1  0.2"
            ]
          },
          "metadata": {
            "tags": []
          },
          "execution_count": 32
        }
      ]
    },
    {
      "cell_type": "markdown",
      "metadata": {
        "id": "KK4guPPwrrIl",
        "colab_type": "text"
      },
      "source": [
        "Selection by position"
      ]
    },
    {
      "cell_type": "code",
      "metadata": {
        "id": "d1pvZd3hrqld",
        "colab_type": "code",
        "colab": {
          "base_uri": "https://localhost:8080/",
          "height": 70
        },
        "outputId": "643da35a-40c6-4120-d74b-77552773b702"
      },
      "source": [
        "pdf.iloc[0]"
      ],
      "execution_count": 33,
      "outputs": [
        {
          "output_type": "execute_result",
          "data": {
            "text/plain": [
              "a    0.0\n",
              "b    0.1\n",
              "Name: 0, dtype: float64"
            ]
          },
          "metadata": {
            "tags": []
          },
          "execution_count": 33
        }
      ]
    },
    {
      "cell_type": "code",
      "metadata": {
        "id": "S3ApoUuduvGg",
        "colab_type": "code",
        "colab": {
          "base_uri": "https://localhost:8080/",
          "height": 123
        },
        "outputId": "5e6c6f5f-e654-45a0-b14f-0f3e15fed723"
      },
      "source": [
        "print(cdf.iloc[0])\n",
        "print(cdf.iloc[1:3])"
      ],
      "execution_count": 34,
      "outputs": [
        {
          "output_type": "stream",
          "text": [
            "a    0.0\n",
            "b    0.1\n",
            "Name: 0, dtype: float64\n",
            "   a     b\n",
            "1  1   0.2\n",
            "2  2  null\n"
          ],
          "name": "stdout"
        }
      ]
    },
    {
      "cell_type": "markdown",
      "metadata": {
        "id": "R-ws7qF135_b",
        "colab_type": "text"
      },
      "source": [
        "### Boolean Indexing"
      ]
    },
    {
      "cell_type": "markdown",
      "metadata": {
        "id": "SY7mZPmu4CBO",
        "colab_type": "text"
      },
      "source": [
        "Selecting rows in a DataFrame or Series by boolean indexing."
      ]
    },
    {
      "cell_type": "code",
      "metadata": {
        "id": "FwiEZ9f5351G",
        "colab_type": "code",
        "colab": {
          "base_uri": "https://localhost:8080/",
          "height": 88
        },
        "outputId": "6533512f-b209-4513-9d36-597acb566626"
      },
      "source": [
        "print(cdf[cdf.a > 1.5])"
      ],
      "execution_count": 35,
      "outputs": [
        {
          "output_type": "stream",
          "text": [
            "   a     b\n",
            "2  2  null\n",
            "3  3   0.3\n",
            "4  4   0.5\n"
          ],
          "name": "stdout"
        }
      ]
    },
    {
      "cell_type": "code",
      "metadata": {
        "id": "_P6In4aR35iX",
        "colab_type": "code",
        "colab": {
          "base_uri": "https://localhost:8080/",
          "height": 70
        },
        "outputId": "bc46826a-75db-4b94-a3e1-d4bd32b1b7fa"
      },
      "source": [
        "print(cdf.query(\"b >= 0.3 and b <= 0.5\"))"
      ],
      "execution_count": 36,
      "outputs": [
        {
          "output_type": "stream",
          "text": [
            "   a    b\n",
            "3  3  0.3\n",
            "4  4  0.5\n"
          ],
          "name": "stdout"
        }
      ]
    },
    {
      "cell_type": "code",
      "metadata": {
        "id": "zCqlnHmg35N5",
        "colab_type": "code",
        "colab": {
          "base_uri": "https://localhost:8080/",
          "height": 170
        },
        "outputId": "07b480b7-25bb-4a3b-aa07-571b79bc9db6"
      },
      "source": [
        "val = 2\n",
        "cdf.query(\"a != @val\")"
      ],
      "execution_count": 37,
      "outputs": [
        {
          "output_type": "execute_result",
          "data": {
            "text/html": [
              "<div>\n",
              "<style scoped>\n",
              "    .dataframe tbody tr th:only-of-type {\n",
              "        vertical-align: middle;\n",
              "    }\n",
              "\n",
              "    .dataframe tbody tr th {\n",
              "        vertical-align: top;\n",
              "    }\n",
              "\n",
              "    .dataframe thead th {\n",
              "        text-align: right;\n",
              "    }\n",
              "</style>\n",
              "<table border=\"1\" class=\"dataframe\">\n",
              "  <thead>\n",
              "    <tr style=\"text-align: right;\">\n",
              "      <th></th>\n",
              "      <th>a</th>\n",
              "      <th>b</th>\n",
              "    </tr>\n",
              "  </thead>\n",
              "  <tbody>\n",
              "    <tr>\n",
              "      <th>0</th>\n",
              "      <td>0</td>\n",
              "      <td>0.1</td>\n",
              "    </tr>\n",
              "    <tr>\n",
              "      <th>1</th>\n",
              "      <td>1</td>\n",
              "      <td>0.2</td>\n",
              "    </tr>\n",
              "    <tr>\n",
              "      <th>3</th>\n",
              "      <td>3</td>\n",
              "      <td>0.3</td>\n",
              "    </tr>\n",
              "    <tr>\n",
              "      <th>4</th>\n",
              "      <td>4</td>\n",
              "      <td>0.5</td>\n",
              "    </tr>\n",
              "  </tbody>\n",
              "</table>\n",
              "</div>"
            ],
            "text/plain": [
              "   a    b\n",
              "0  0  0.1\n",
              "1  1  0.2\n",
              "3  3  0.3\n",
              "4  4  0.5"
            ]
          },
          "metadata": {
            "tags": []
          },
          "execution_count": 37
        }
      ]
    },
    {
      "cell_type": "markdown",
      "metadata": {
        "id": "f8mZnx2O3481",
        "colab_type": "text"
      },
      "source": [
        "### Missing Data"
      ]
    },
    {
      "cell_type": "code",
      "metadata": {
        "id": "vnNyrVbe34wq",
        "colab_type": "code",
        "colab": {
          "base_uri": "https://localhost:8080/",
          "height": 123
        },
        "outputId": "d1a93b4a-666b-429b-887f-e4ac20514d1b"
      },
      "source": [
        "print(cdf.fillna(0))"
      ],
      "execution_count": 38,
      "outputs": [
        {
          "output_type": "stream",
          "text": [
            "   a    b\n",
            "0  0  0.1\n",
            "1  1  0.2\n",
            "2  2  0.0\n",
            "3  3  0.3\n",
            "4  4  0.5\n"
          ],
          "name": "stdout"
        }
      ]
    },
    {
      "cell_type": "markdown",
      "metadata": {
        "id": "KAj_mwRQ9om9",
        "colab_type": "text"
      },
      "source": [
        "### Operations"
      ]
    },
    {
      "cell_type": "code",
      "metadata": {
        "id": "dIHSd-169ogB",
        "colab_type": "code",
        "colab": {
          "base_uri": "https://localhost:8080/",
          "height": 34
        },
        "outputId": "47d4795f-5a2d-442e-a85e-0144a0c8dde0"
      },
      "source": [
        "s = cudf.Series(np.arange(10)).astype(np.float32)\n",
        "print(s.mean(), s.var())"
      ],
      "execution_count": 40,
      "outputs": [
        {
          "output_type": "stream",
          "text": [
            "4.5 9.166666666666668\n"
          ],
          "name": "stdout"
        }
      ]
    },
    {
      "cell_type": "code",
      "metadata": {
        "id": "bIfVxyT29oQj",
        "colab_type": "code",
        "colab": {}
      },
      "source": [
        "def add_ten(num):\n",
        "  return num + 10\n",
        "\n",
        "# s.applymap(add_ten)"
      ],
      "execution_count": 0,
      "outputs": []
    },
    {
      "cell_type": "code",
      "metadata": {
        "id": "1SkHGz8G9n-C",
        "colab_type": "code",
        "colab": {}
      },
      "source": [
        "def complex_math_transform(num):\n",
        "    return math.cos(num) * 3 / 9\n",
        "\n",
        "# print(s.applymap(complex_math_transform))"
      ],
      "execution_count": 0,
      "outputs": []
    },
    {
      "cell_type": "markdown",
      "metadata": {
        "id": "miHJyWw39n1O",
        "colab_type": "text"
      },
      "source": [
        "### String Methods"
      ]
    },
    {
      "cell_type": "code",
      "metadata": {
        "id": "PAfdHcKv9ntC",
        "colab_type": "code",
        "colab": {
          "base_uri": "https://localhost:8080/",
          "height": 88
        },
        "outputId": "f2acf763-9f10-4462-b621-f0551ab8888f"
      },
      "source": [
        "s = cudf.Series(['A', 'B', 'C', 'AaBb', 'Baca', None, 'CABA', 'dog', 'cat'])\n",
        "s.str.lower().head(3)"
      ],
      "execution_count": 43,
      "outputs": [
        {
          "output_type": "execute_result",
          "data": {
            "text/plain": [
              "0    a\n",
              "1    b\n",
              "2    c\n",
              "dtype: object"
            ]
          },
          "metadata": {
            "tags": []
          },
          "execution_count": 43
        }
      ]
    },
    {
      "cell_type": "markdown",
      "metadata": {
        "id": "4nheablw9ni-",
        "colab_type": "text"
      },
      "source": [
        "### Concat"
      ]
    },
    {
      "cell_type": "code",
      "metadata": {
        "id": "qiftVP3K9nYK",
        "colab_type": "code",
        "colab": {
          "base_uri": "https://localhost:8080/",
          "height": 212
        },
        "outputId": "03ab9b4c-85fe-41b6-f4c8-db969d004509"
      },
      "source": [
        "s = cudf.Series([1, 2, 3, None, 5])\n",
        "cudf.concat([s, s])"
      ],
      "execution_count": 44,
      "outputs": [
        {
          "output_type": "execute_result",
          "data": {
            "text/plain": [
              "0       1\n",
              "1       2\n",
              "2       3\n",
              "3    null\n",
              "4       5\n",
              "0       1\n",
              "1       2\n",
              "2       3\n",
              "3    null\n",
              "4       5\n",
              "dtype: int64"
            ]
          },
          "metadata": {
            "tags": []
          },
          "execution_count": 44
        }
      ]
    },
    {
      "cell_type": "markdown",
      "metadata": {
        "id": "7WLnbOm2xsLf",
        "colab_type": "text"
      },
      "source": [
        "### Append"
      ]
    },
    {
      "cell_type": "code",
      "metadata": {
        "id": "KpqWLm5jxoUN",
        "colab_type": "code",
        "colab": {
          "base_uri": "https://localhost:8080/",
          "height": 212
        },
        "outputId": "69c4e7e2-7aaf-476c-d9ab-4299f0cadf84"
      },
      "source": [
        "s.append(s)"
      ],
      "execution_count": 45,
      "outputs": [
        {
          "output_type": "execute_result",
          "data": {
            "text/plain": [
              "0       1\n",
              "1       2\n",
              "2       3\n",
              "3    null\n",
              "4       5\n",
              "0       1\n",
              "1       2\n",
              "2       3\n",
              "3    null\n",
              "4       5\n",
              "dtype: int64"
            ]
          },
          "metadata": {
            "tags": []
          },
          "execution_count": 45
        }
      ]
    },
    {
      "cell_type": "markdown",
      "metadata": {
        "id": "-iP0M7TWyF_K",
        "colab_type": "text"
      },
      "source": [
        "### Grouping"
      ]
    },
    {
      "cell_type": "markdown",
      "metadata": {
        "id": "2ftkKx1IyW-V",
        "colab_type": "text"
      },
      "source": [
        "Like pandas, cuDF supports the Split-Apply-Combine grouping paradigm."
      ]
    },
    {
      "cell_type": "code",
      "metadata": {
        "id": "2CfbcxKFyC_R",
        "colab_type": "code",
        "colab": {
          "base_uri": "https://localhost:8080/",
          "height": 170
        },
        "outputId": "6298f481-9b7c-46e9-ba3a-a798a6bd6c19"
      },
      "source": [
        "cdf['agg_col1'] = [1 if x % 2 == 0 else 0 for x in range(len(cdf))]\n",
        "cdf"
      ],
      "execution_count": 53,
      "outputs": [
        {
          "output_type": "execute_result",
          "data": {
            "text/html": [
              "<div>\n",
              "<style scoped>\n",
              "    .dataframe tbody tr th:only-of-type {\n",
              "        vertical-align: middle;\n",
              "    }\n",
              "\n",
              "    .dataframe tbody tr th {\n",
              "        vertical-align: top;\n",
              "    }\n",
              "\n",
              "    .dataframe thead th {\n",
              "        text-align: right;\n",
              "    }\n",
              "</style>\n",
              "<table border=\"1\" class=\"dataframe\">\n",
              "  <thead>\n",
              "    <tr style=\"text-align: right;\">\n",
              "      <th></th>\n",
              "      <th>a</th>\n",
              "      <th>b</th>\n",
              "      <th>agg_col1</th>\n",
              "    </tr>\n",
              "  </thead>\n",
              "  <tbody>\n",
              "    <tr>\n",
              "      <th>0</th>\n",
              "      <td>0</td>\n",
              "      <td>0.0</td>\n",
              "      <td>1</td>\n",
              "    </tr>\n",
              "    <tr>\n",
              "      <th>1</th>\n",
              "      <td>1</td>\n",
              "      <td>0.1</td>\n",
              "      <td>0</td>\n",
              "    </tr>\n",
              "    <tr>\n",
              "      <th>2</th>\n",
              "      <td>2</td>\n",
              "      <td>null</td>\n",
              "      <td>1</td>\n",
              "    </tr>\n",
              "    <tr>\n",
              "      <th>3</th>\n",
              "      <td>3</td>\n",
              "      <td>0.2</td>\n",
              "      <td>0</td>\n",
              "    </tr>\n",
              "  </tbody>\n",
              "</table>\n",
              "</div>"
            ],
            "text/plain": [
              "   a     b  agg_col1\n",
              "0  0   0.0         1\n",
              "1  1   0.1         0\n",
              "2  2  null         1\n",
              "3  3   0.2         0"
            ]
          },
          "metadata": {
            "tags": []
          },
          "execution_count": 53
        }
      ]
    },
    {
      "cell_type": "code",
      "metadata": {
        "id": "im3pTwQ15755",
        "colab_type": "code",
        "colab": {
          "base_uri": "https://localhost:8080/",
          "height": 140
        },
        "outputId": "d1372cc8-9a5b-4df3-b915-21ecadf80fcd"
      },
      "source": [
        "cdf.groupby('agg_col1').sum()"
      ],
      "execution_count": 54,
      "outputs": [
        {
          "output_type": "execute_result",
          "data": {
            "text/html": [
              "<div>\n",
              "<style scoped>\n",
              "    .dataframe tbody tr th:only-of-type {\n",
              "        vertical-align: middle;\n",
              "    }\n",
              "\n",
              "    .dataframe tbody tr th {\n",
              "        vertical-align: top;\n",
              "    }\n",
              "\n",
              "    .dataframe thead th {\n",
              "        text-align: right;\n",
              "    }\n",
              "</style>\n",
              "<table border=\"1\" class=\"dataframe\">\n",
              "  <thead>\n",
              "    <tr style=\"text-align: right;\">\n",
              "      <th></th>\n",
              "      <th>a</th>\n",
              "      <th>b</th>\n",
              "    </tr>\n",
              "    <tr>\n",
              "      <th>agg_col1</th>\n",
              "      <th></th>\n",
              "      <th></th>\n",
              "    </tr>\n",
              "  </thead>\n",
              "  <tbody>\n",
              "    <tr>\n",
              "      <th>0</th>\n",
              "      <td>4</td>\n",
              "      <td>0.3</td>\n",
              "    </tr>\n",
              "    <tr>\n",
              "      <th>1</th>\n",
              "      <td>2</td>\n",
              "      <td>0.0</td>\n",
              "    </tr>\n",
              "  </tbody>\n",
              "</table>\n",
              "</div>"
            ],
            "text/plain": [
              "          a    b\n",
              "agg_col1        \n",
              "0         4  0.3\n",
              "1         2  0.0"
            ]
          },
          "metadata": {
            "tags": []
          },
          "execution_count": 54
        }
      ]
    },
    {
      "cell_type": "code",
      "metadata": {
        "id": "QscE87Or7G1A",
        "colab_type": "code",
        "colab": {
          "base_uri": "https://localhost:8080/",
          "height": 140
        },
        "outputId": "318abcd9-6e4a-4d19-80f0-e85df78ddf01"
      },
      "source": [
        "cdf.groupby('agg_col1').agg({'a':'max', 'b':'mean'})"
      ],
      "execution_count": 56,
      "outputs": [
        {
          "output_type": "execute_result",
          "data": {
            "text/html": [
              "<div>\n",
              "<style scoped>\n",
              "    .dataframe tbody tr th:only-of-type {\n",
              "        vertical-align: middle;\n",
              "    }\n",
              "\n",
              "    .dataframe tbody tr th {\n",
              "        vertical-align: top;\n",
              "    }\n",
              "\n",
              "    .dataframe thead th {\n",
              "        text-align: right;\n",
              "    }\n",
              "</style>\n",
              "<table border=\"1\" class=\"dataframe\">\n",
              "  <thead>\n",
              "    <tr style=\"text-align: right;\">\n",
              "      <th></th>\n",
              "      <th>a</th>\n",
              "      <th>b</th>\n",
              "    </tr>\n",
              "    <tr>\n",
              "      <th>agg_col1</th>\n",
              "      <th></th>\n",
              "      <th></th>\n",
              "    </tr>\n",
              "  </thead>\n",
              "  <tbody>\n",
              "    <tr>\n",
              "      <th>0</th>\n",
              "      <td>3</td>\n",
              "      <td>0.15</td>\n",
              "    </tr>\n",
              "    <tr>\n",
              "      <th>1</th>\n",
              "      <td>2</td>\n",
              "      <td>0.00</td>\n",
              "    </tr>\n",
              "  </tbody>\n",
              "</table>\n",
              "</div>"
            ],
            "text/plain": [
              "          a     b\n",
              "agg_col1         \n",
              "0         3  0.15\n",
              "1         2  0.00"
            ]
          },
          "metadata": {
            "tags": []
          },
          "execution_count": 56
        }
      ]
    },
    {
      "cell_type": "markdown",
      "metadata": {
        "id": "SbHLAWHxC4-x",
        "colab_type": "text"
      },
      "source": [
        "### Time Series"
      ]
    },
    {
      "cell_type": "code",
      "metadata": {
        "id": "AeU0Z6zIC4nA",
        "colab_type": "code",
        "colab": {
          "base_uri": "https://localhost:8080/",
          "height": 201
        },
        "outputId": "e37bafce-5aa6-41dd-b479-db469f43369e"
      },
      "source": [
        "date_df = cudf.DataFrame()\n",
        "date_df['date'] = pd.date_range('11/20/2018', periods=72, freq='D')\n",
        "date_df['value'] = np.random.sample(len(date_df))\n",
        "date_df.head()"
      ],
      "execution_count": 57,
      "outputs": [
        {
          "output_type": "execute_result",
          "data": {
            "text/html": [
              "<div>\n",
              "<style scoped>\n",
              "    .dataframe tbody tr th:only-of-type {\n",
              "        vertical-align: middle;\n",
              "    }\n",
              "\n",
              "    .dataframe tbody tr th {\n",
              "        vertical-align: top;\n",
              "    }\n",
              "\n",
              "    .dataframe thead th {\n",
              "        text-align: right;\n",
              "    }\n",
              "</style>\n",
              "<table border=\"1\" class=\"dataframe\">\n",
              "  <thead>\n",
              "    <tr style=\"text-align: right;\">\n",
              "      <th></th>\n",
              "      <th>date</th>\n",
              "      <th>value</th>\n",
              "    </tr>\n",
              "  </thead>\n",
              "  <tbody>\n",
              "    <tr>\n",
              "      <th>0</th>\n",
              "      <td>2018-11-20</td>\n",
              "      <td>0.474169</td>\n",
              "    </tr>\n",
              "    <tr>\n",
              "      <th>1</th>\n",
              "      <td>2018-11-21</td>\n",
              "      <td>0.911718</td>\n",
              "    </tr>\n",
              "    <tr>\n",
              "      <th>2</th>\n",
              "      <td>2018-11-22</td>\n",
              "      <td>0.841736</td>\n",
              "    </tr>\n",
              "    <tr>\n",
              "      <th>3</th>\n",
              "      <td>2018-11-23</td>\n",
              "      <td>0.114351</td>\n",
              "    </tr>\n",
              "    <tr>\n",
              "      <th>4</th>\n",
              "      <td>2018-11-24</td>\n",
              "      <td>0.126640</td>\n",
              "    </tr>\n",
              "  </tbody>\n",
              "</table>\n",
              "</div>"
            ],
            "text/plain": [
              "        date     value\n",
              "0 2018-11-20  0.474169\n",
              "1 2018-11-21  0.911718\n",
              "2 2018-11-22  0.841736\n",
              "3 2018-11-23  0.114351\n",
              "4 2018-11-24  0.126640"
            ]
          },
          "metadata": {
            "tags": []
          },
          "execution_count": 57
        }
      ]
    },
    {
      "cell_type": "code",
      "metadata": {
        "id": "b60-dD2xHQCb",
        "colab_type": "code",
        "colab": {
          "base_uri": "https://localhost:8080/",
          "height": 201
        },
        "outputId": "07e87594-e3d9-4b37-8321-734d95867518"
      },
      "source": [
        "date_df['minute'] = date_df.date.dt.minute\n",
        "date_df.head()"
      ],
      "execution_count": 60,
      "outputs": [
        {
          "output_type": "execute_result",
          "data": {
            "text/html": [
              "<div>\n",
              "<style scoped>\n",
              "    .dataframe tbody tr th:only-of-type {\n",
              "        vertical-align: middle;\n",
              "    }\n",
              "\n",
              "    .dataframe tbody tr th {\n",
              "        vertical-align: top;\n",
              "    }\n",
              "\n",
              "    .dataframe thead th {\n",
              "        text-align: right;\n",
              "    }\n",
              "</style>\n",
              "<table border=\"1\" class=\"dataframe\">\n",
              "  <thead>\n",
              "    <tr style=\"text-align: right;\">\n",
              "      <th></th>\n",
              "      <th>date</th>\n",
              "      <th>value</th>\n",
              "      <th>minute</th>\n",
              "    </tr>\n",
              "  </thead>\n",
              "  <tbody>\n",
              "    <tr>\n",
              "      <th>0</th>\n",
              "      <td>2018-11-20</td>\n",
              "      <td>0.474169</td>\n",
              "      <td>0</td>\n",
              "    </tr>\n",
              "    <tr>\n",
              "      <th>1</th>\n",
              "      <td>2018-11-21</td>\n",
              "      <td>0.911718</td>\n",
              "      <td>0</td>\n",
              "    </tr>\n",
              "    <tr>\n",
              "      <th>2</th>\n",
              "      <td>2018-11-22</td>\n",
              "      <td>0.841736</td>\n",
              "      <td>0</td>\n",
              "    </tr>\n",
              "    <tr>\n",
              "      <th>3</th>\n",
              "      <td>2018-11-23</td>\n",
              "      <td>0.114351</td>\n",
              "      <td>0</td>\n",
              "    </tr>\n",
              "    <tr>\n",
              "      <th>4</th>\n",
              "      <td>2018-11-24</td>\n",
              "      <td>0.126640</td>\n",
              "      <td>0</td>\n",
              "    </tr>\n",
              "  </tbody>\n",
              "</table>\n",
              "</div>"
            ],
            "text/plain": [
              "        date     value  minute\n",
              "0 2018-11-20  0.474169       0\n",
              "1 2018-11-21  0.911718       0\n",
              "2 2018-11-22  0.841736       0\n",
              "3 2018-11-23  0.114351       0\n",
              "4 2018-11-24  0.126640       0"
            ]
          },
          "metadata": {
            "tags": []
          },
          "execution_count": 60
        }
      ]
    },
    {
      "cell_type": "markdown",
      "metadata": {
        "id": "mdccXhxBHnGd",
        "colab_type": "text"
      },
      "source": [
        "### Converting data representation"
      ]
    },
    {
      "cell_type": "markdown",
      "metadata": {
        "id": "UIH-zwroH0_i",
        "colab_type": "text"
      },
      "source": [
        "To Pandas"
      ]
    },
    {
      "cell_type": "code",
      "metadata": {
        "id": "hskaE__PHnAE",
        "colab_type": "code",
        "colab": {
          "base_uri": "https://localhost:8080/",
          "height": 177
        },
        "outputId": "85fd72b1-e116-4b54-9da4-b11c16c72516"
      },
      "source": [
        "df.head().to_pandas().info()"
      ],
      "execution_count": 62,
      "outputs": [
        {
          "output_type": "stream",
          "text": [
            "<class 'pandas.core.frame.DataFrame'>\n",
            "RangeIndex: 5 entries, 0 to 4\n",
            "Data columns (total 4 columns):\n",
            "a           5 non-null int64\n",
            "b           5 non-null int64\n",
            "c           5 non-null int64\n",
            "agg_col1    5 non-null int64\n",
            "dtypes: int64(4)\n",
            "memory usage: 240.0 bytes\n"
          ],
          "name": "stdout"
        }
      ]
    },
    {
      "cell_type": "markdown",
      "metadata": {
        "id": "Bf73HICfHm5i",
        "colab_type": "text"
      },
      "source": [
        "To Numpy"
      ]
    },
    {
      "cell_type": "code",
      "metadata": {
        "id": "7y5lIXNEHmxb",
        "colab_type": "code",
        "colab": {
          "base_uri": "https://localhost:8080/",
          "height": 70
        },
        "outputId": "2ff76155-e183-4f87-ec55-a4ca9266c542"
      },
      "source": [
        "df.as_matrix()[:3]"
      ],
      "execution_count": 65,
      "outputs": [
        {
          "output_type": "execute_result",
          "data": {
            "text/plain": [
              "array([[ 0, 19, 30,  1],\n",
              "       [ 1, 18, 31,  0],\n",
              "       [ 2, 17, 32,  1]])"
            ]
          },
          "metadata": {
            "tags": []
          },
          "execution_count": 65
        }
      ]
    },
    {
      "cell_type": "markdown",
      "metadata": {
        "id": "TmBYi0XwHmqG",
        "colab_type": "text"
      },
      "source": [
        "Converting a cuDF series to a numpy ndarray"
      ]
    },
    {
      "cell_type": "code",
      "metadata": {
        "id": "JVxZ4lf5Hmh_",
        "colab_type": "code",
        "colab": {
          "base_uri": "https://localhost:8080/",
          "height": 52
        },
        "outputId": "2ec0d728-1e91-4103-eda6-0bd7058db5d0"
      },
      "source": [
        "df['a'].to_array()"
      ],
      "execution_count": 66,
      "outputs": [
        {
          "output_type": "execute_result",
          "data": {
            "text/plain": [
              "array([ 0,  1,  2,  3,  4,  5,  6,  7,  8,  9, 10, 11, 12, 13, 14, 15, 16,\n",
              "       17, 18, 19])"
            ]
          },
          "metadata": {
            "tags": []
          },
          "execution_count": 66
        }
      ]
    },
    {
      "cell_type": "markdown",
      "metadata": {
        "id": "QqwhGpwAHmZ0",
        "colab_type": "text"
      },
      "source": [
        "### Getting data In/Out"
      ]
    },
    {
      "cell_type": "markdown",
      "metadata": {
        "id": "wcZPmdsqIuKP",
        "colab_type": "text"
      },
      "source": [
        "Writting to a CSV file, by first sending data to a Pandas dataframe on the host"
      ]
    },
    {
      "cell_type": "code",
      "metadata": {
        "id": "e1et_QSGHmRJ",
        "colab_type": "code",
        "colab": {}
      },
      "source": [
        "if not os.path.exists('example_output'):\n",
        "  os.mkdir('example_output')\n",
        "  \n",
        "df.to_pandas().to_csv('example_output/foo.csv', index=False)"
      ],
      "execution_count": 0,
      "outputs": []
    },
    {
      "cell_type": "markdown",
      "metadata": {
        "id": "GZNX8DUHHmHs",
        "colab_type": "text"
      },
      "source": [
        "Reading from a csv file"
      ]
    },
    {
      "cell_type": "code",
      "metadata": {
        "id": "O40MteMDHl2k",
        "colab_type": "code",
        "colab": {
          "base_uri": "https://localhost:8080/",
          "height": 201
        },
        "outputId": "b34c6456-03d8-4e72-a85a-ffeb93000d00"
      },
      "source": [
        "df = cudf.read_csv('example_output/foo.csv')\n",
        "df.head()"
      ],
      "execution_count": 70,
      "outputs": [
        {
          "output_type": "execute_result",
          "data": {
            "text/html": [
              "<div>\n",
              "<style scoped>\n",
              "    .dataframe tbody tr th:only-of-type {\n",
              "        vertical-align: middle;\n",
              "    }\n",
              "\n",
              "    .dataframe tbody tr th {\n",
              "        vertical-align: top;\n",
              "    }\n",
              "\n",
              "    .dataframe thead th {\n",
              "        text-align: right;\n",
              "    }\n",
              "</style>\n",
              "<table border=\"1\" class=\"dataframe\">\n",
              "  <thead>\n",
              "    <tr style=\"text-align: right;\">\n",
              "      <th></th>\n",
              "      <th>a</th>\n",
              "      <th>b</th>\n",
              "      <th>c</th>\n",
              "      <th>agg_col1</th>\n",
              "    </tr>\n",
              "  </thead>\n",
              "  <tbody>\n",
              "    <tr>\n",
              "      <th>0</th>\n",
              "      <td>0</td>\n",
              "      <td>19</td>\n",
              "      <td>30</td>\n",
              "      <td>1</td>\n",
              "    </tr>\n",
              "    <tr>\n",
              "      <th>1</th>\n",
              "      <td>1</td>\n",
              "      <td>18</td>\n",
              "      <td>31</td>\n",
              "      <td>0</td>\n",
              "    </tr>\n",
              "    <tr>\n",
              "      <th>2</th>\n",
              "      <td>2</td>\n",
              "      <td>17</td>\n",
              "      <td>32</td>\n",
              "      <td>1</td>\n",
              "    </tr>\n",
              "    <tr>\n",
              "      <th>3</th>\n",
              "      <td>3</td>\n",
              "      <td>16</td>\n",
              "      <td>33</td>\n",
              "      <td>0</td>\n",
              "    </tr>\n",
              "    <tr>\n",
              "      <th>4</th>\n",
              "      <td>4</td>\n",
              "      <td>15</td>\n",
              "      <td>34</td>\n",
              "      <td>1</td>\n",
              "    </tr>\n",
              "  </tbody>\n",
              "</table>\n",
              "</div>"
            ],
            "text/plain": [
              "   a   b   c  agg_col1\n",
              "0  0  19  30         1\n",
              "1  1  18  31         0\n",
              "2  2  17  32         1\n",
              "3  3  16  33         0\n",
              "4  4  15  34         1"
            ]
          },
          "metadata": {
            "tags": []
          },
          "execution_count": 70
        }
      ]
    },
    {
      "cell_type": "markdown",
      "metadata": {
        "id": "HE-am5SntmlE",
        "colab_type": "text"
      },
      "source": [
        "#[cuDF](https://github.com/rapidsai/cudf)#\n",
        "\n",
        "Load a dataset into a GPU memory resident DataFrame and perform a basic calculation.\n",
        "\n",
        "Everything from CSV parsing to calculating tip percentage and computing a grouped average is done on the GPU."
      ]
    },
    {
      "cell_type": "code",
      "metadata": {
        "id": "SQWxtDETtqnY",
        "colab_type": "code",
        "outputId": "1d63215e-c4fd-4284-d4ac-1bd40bf9319c",
        "colab": {
          "base_uri": "https://localhost:8080/",
          "height": 156
        }
      },
      "source": [
        "tips_df = cudf.read_csv(\"https://github.com/plotly/datasets/raw/master/tips.csv\")\n",
        "tips_df['tip_percentage'] = tips_df['tip']/tips_df['total_bill']*100\n",
        "\n",
        "# display average tip by dining party size\n",
        "print(tips_df.groupby('size').tip_percentage.mean())"
      ],
      "execution_count": 0,
      "outputs": [
        {
          "output_type": "stream",
          "text": [
            "size\n",
            "1    21.729202\n",
            "2    16.571919\n",
            "3    15.215685\n",
            "4    14.594901\n",
            "5    14.149549\n",
            "6    15.622920\n",
            "Name: tip_percentage, dtype: float64\n"
          ],
          "name": "stdout"
        }
      ]
    },
    {
      "cell_type": "code",
      "metadata": {
        "id": "oPv95So-ahTs",
        "colab_type": "code",
        "colab": {}
      },
      "source": [
        ""
      ],
      "execution_count": 0,
      "outputs": []
    },
    {
      "cell_type": "markdown",
      "metadata": {
        "id": "uOkjdCMvtuU0",
        "colab_type": "text"
      },
      "source": [
        "#[cuML](https://github.com/rapidsai/cuml)\n",
        "\n",
        "This snippet does label and one-hot encoding of the tips dataset's categorical features and applies standard scaling to all columns. All operations run on the GPU."
      ]
    },
    {
      "cell_type": "code",
      "metadata": {
        "id": "U3mAVL76CB4l",
        "colab_type": "code",
        "outputId": "f0d32cc4-97b9-4a86-f1da-3bdeca7c7f80",
        "colab": {
          "base_uri": "https://localhost:8080/",
          "height": 202
        }
      },
      "source": [
        "import cuml\n",
        "\n",
        "# label encode the categorical features of the tips dataset\n",
        "for col in ['sex', 'smoker', 'day', 'time']:\n",
        "  le = cuml.preprocessing.LabelEncoder()\n",
        "  tips_df[col] = le.fit_transform(tips_df[col])\n",
        "\n",
        "# day and time are non-binary categorical features, one-hot-encode them\n",
        "tips_df = cudf.get_dummies(tips_df, columns=['day', 'time'])\n",
        "\n",
        "# do standard scaling on all columns\n",
        "for col in tips_df.columns:\n",
        "  tips_df[col] = (tips_df[col] - tips_df[col].mean())/tips_df[col].std()\n",
        "\n",
        "# inspect the results\n",
        "tips_df.head().to_pandas()"
      ],
      "execution_count": 0,
      "outputs": [
        {
          "output_type": "execute_result",
          "data": {
            "text/html": [
              "<div>\n",
              "<style scoped>\n",
              "    .dataframe tbody tr th:only-of-type {\n",
              "        vertical-align: middle;\n",
              "    }\n",
              "\n",
              "    .dataframe tbody tr th {\n",
              "        vertical-align: top;\n",
              "    }\n",
              "\n",
              "    .dataframe thead th {\n",
              "        text-align: right;\n",
              "    }\n",
              "</style>\n",
              "<table border=\"1\" class=\"dataframe\">\n",
              "  <thead>\n",
              "    <tr style=\"text-align: right;\">\n",
              "      <th></th>\n",
              "      <th>total_bill</th>\n",
              "      <th>tip</th>\n",
              "      <th>sex</th>\n",
              "      <th>smoker</th>\n",
              "      <th>size</th>\n",
              "      <th>tip_percentage</th>\n",
              "      <th>day_0</th>\n",
              "      <th>day_1</th>\n",
              "      <th>day_2</th>\n",
              "      <th>day_3</th>\n",
              "      <th>time_0</th>\n",
              "      <th>time_1</th>\n",
              "    </tr>\n",
              "  </thead>\n",
              "  <tbody>\n",
              "    <tr>\n",
              "      <th>0</th>\n",
              "      <td>-0.314066</td>\n",
              "      <td>-1.436993</td>\n",
              "      <td>-1.340598</td>\n",
              "      <td>-0.783179</td>\n",
              "      <td>-0.598961</td>\n",
              "      <td>-1.659607</td>\n",
              "      <td>-0.289997</td>\n",
              "      <td>-0.742879</td>\n",
              "      <td>1.483734</td>\n",
              "      <td>-0.582463</td>\n",
              "      <td>0.620307</td>\n",
              "      <td>-0.620307</td>\n",
              "    </tr>\n",
              "    <tr>\n",
              "      <th>1</th>\n",
              "      <td>-1.061054</td>\n",
              "      <td>-0.967217</td>\n",
              "      <td>0.742879</td>\n",
              "      <td>-0.783179</td>\n",
              "      <td>0.452453</td>\n",
              "      <td>-0.004274</td>\n",
              "      <td>-0.289997</td>\n",
              "      <td>-0.742879</td>\n",
              "      <td>1.483734</td>\n",
              "      <td>-0.582463</td>\n",
              "      <td>0.620307</td>\n",
              "      <td>-0.620307</td>\n",
              "    </tr>\n",
              "    <tr>\n",
              "      <th>2</th>\n",
              "      <td>0.137497</td>\n",
              "      <td>0.362610</td>\n",
              "      <td>0.742879</td>\n",
              "      <td>-0.783179</td>\n",
              "      <td>0.452453</td>\n",
              "      <td>0.094720</td>\n",
              "      <td>-0.289997</td>\n",
              "      <td>-0.742879</td>\n",
              "      <td>1.483734</td>\n",
              "      <td>-0.582463</td>\n",
              "      <td>0.620307</td>\n",
              "      <td>-0.620307</td>\n",
              "    </tr>\n",
              "    <tr>\n",
              "      <th>3</th>\n",
              "      <td>0.437416</td>\n",
              "      <td>0.225291</td>\n",
              "      <td>0.742879</td>\n",
              "      <td>-0.783179</td>\n",
              "      <td>-0.598961</td>\n",
              "      <td>-0.344218</td>\n",
              "      <td>-0.289997</td>\n",
              "      <td>-0.742879</td>\n",
              "      <td>1.483734</td>\n",
              "      <td>-0.582463</td>\n",
              "      <td>0.620307</td>\n",
              "      <td>-0.620307</td>\n",
              "    </tr>\n",
              "    <tr>\n",
              "      <th>4</th>\n",
              "      <td>0.539635</td>\n",
              "      <td>0.442111</td>\n",
              "      <td>-1.340598</td>\n",
              "      <td>-0.783179</td>\n",
              "      <td>1.503867</td>\n",
              "      <td>-0.229154</td>\n",
              "      <td>-0.289997</td>\n",
              "      <td>-0.742879</td>\n",
              "      <td>1.483734</td>\n",
              "      <td>-0.582463</td>\n",
              "      <td>0.620307</td>\n",
              "      <td>-0.620307</td>\n",
              "    </tr>\n",
              "  </tbody>\n",
              "</table>\n",
              "</div>"
            ],
            "text/plain": [
              "   total_bill       tip       sex  ...     day_3    time_0    time_1\n",
              "0   -0.314066 -1.436993 -1.340598  ... -0.582463  0.620307 -0.620307\n",
              "1   -1.061054 -0.967217  0.742879  ... -0.582463  0.620307 -0.620307\n",
              "2    0.137497  0.362610  0.742879  ... -0.582463  0.620307 -0.620307\n",
              "3    0.437416  0.225291  0.742879  ... -0.582463  0.620307 -0.620307\n",
              "4    0.539635  0.442111 -1.340598  ... -0.582463  0.620307 -0.620307\n",
              "\n",
              "[5 rows x 12 columns]"
            ]
          },
          "metadata": {
            "tags": []
          },
          "execution_count": 5
        }
      ]
    },
    {
      "cell_type": "markdown",
      "metadata": {
        "id": "P9AaiYyGEU2i",
        "colab_type": "text"
      },
      "source": [
        "## K-Nearest Neighbors\n",
        "Lastly, create a K-Nearest Neighbors model and find the 5 most similar tippers."
      ]
    },
    {
      "cell_type": "code",
      "metadata": {
        "id": "VKLgolqQ-z_I",
        "colab_type": "code",
        "outputId": "eb018bb3-ad0d-40e1-b2b1-beb95eb7d20b",
        "colab": {
          "base_uri": "https://localhost:8080/",
          "height": 202
        }
      },
      "source": [
        "# create a KNN model\n",
        "knn = cuml.NearestNeighbors()\n",
        "knn.fit(tips_df)\n",
        "\n",
        "# find 5 nearest neighbors\n",
        "k = 5\n",
        "distances_df, indices_df = knn.kneighbors(tips_df, k)\n",
        "indices_df.head().to_pandas()"
      ],
      "execution_count": 0,
      "outputs": [
        {
          "output_type": "execute_result",
          "data": {
            "text/html": [
              "<div>\n",
              "<style scoped>\n",
              "    .dataframe tbody tr th:only-of-type {\n",
              "        vertical-align: middle;\n",
              "    }\n",
              "\n",
              "    .dataframe tbody tr th {\n",
              "        vertical-align: top;\n",
              "    }\n",
              "\n",
              "    .dataframe thead th {\n",
              "        text-align: right;\n",
              "    }\n",
              "</style>\n",
              "<table border=\"1\" class=\"dataframe\">\n",
              "  <thead>\n",
              "    <tr style=\"text-align: right;\">\n",
              "      <th></th>\n",
              "      <th>0</th>\n",
              "      <th>1</th>\n",
              "      <th>2</th>\n",
              "      <th>3</th>\n",
              "      <th>4</th>\n",
              "    </tr>\n",
              "  </thead>\n",
              "  <tbody>\n",
              "    <tr>\n",
              "      <th>0</th>\n",
              "      <td>0</td>\n",
              "      <td>162</td>\n",
              "      <td>16</td>\n",
              "      <td>12</td>\n",
              "      <td>166</td>\n",
              "    </tr>\n",
              "    <tr>\n",
              "      <th>1</th>\n",
              "      <td>1</td>\n",
              "      <td>53</td>\n",
              "      <td>10</td>\n",
              "      <td>152</td>\n",
              "      <td>151</td>\n",
              "    </tr>\n",
              "    <tr>\n",
              "      <th>2</th>\n",
              "      <td>2</td>\n",
              "      <td>165</td>\n",
              "      <td>152</td>\n",
              "      <td>160</td>\n",
              "      <td>55</td>\n",
              "    </tr>\n",
              "    <tr>\n",
              "      <th>3</th>\n",
              "      <td>3</td>\n",
              "      <td>45</td>\n",
              "      <td>113</td>\n",
              "      <td>49</td>\n",
              "      <td>55</td>\n",
              "    </tr>\n",
              "    <tr>\n",
              "      <th>4</th>\n",
              "      <td>4</td>\n",
              "      <td>157</td>\n",
              "      <td>114</td>\n",
              "      <td>11</td>\n",
              "      <td>52</td>\n",
              "    </tr>\n",
              "  </tbody>\n",
              "</table>\n",
              "</div>"
            ],
            "text/plain": [
              "   0    1    2    3    4\n",
              "0  0  162   16   12  166\n",
              "1  1   53   10  152  151\n",
              "2  2  165  152  160   55\n",
              "3  3   45  113   49   55\n",
              "4  4  157  114   11   52"
            ]
          },
          "metadata": {
            "tags": []
          },
          "execution_count": 9
        }
      ]
    },
    {
      "cell_type": "markdown",
      "metadata": {
        "id": "DPYE_RTHMKBD",
        "colab_type": "text"
      },
      "source": [
        "##Determining Feature Importance with XGBoost\n",
        "\n",
        "Lastly, we can use [XGBoost](https://github.com/dmlc/xgboost)'s GPU accelerated decision trees to determine which features have the greatest impact on tip percentage."
      ]
    },
    {
      "cell_type": "code",
      "metadata": {
        "id": "sjZTA8pRL8Bh",
        "colab_type": "code",
        "outputId": "875a8ae0-0155-48a5-db00-1b5d004fca5c",
        "colab": {
          "base_uri": "https://localhost:8080/",
          "height": 519
        }
      },
      "source": [
        "import xgboost as xgb\n",
        "\n",
        "params = {\n",
        "  'n_gpus':       1,\n",
        "  'tree_method':  'gpu_hist',\n",
        "  'objective':    'reg:squarederror'\n",
        "}\n",
        "\n",
        "X_feature_names = [\"total_bill\", \"sex\", \"smoker\", \"size\",\n",
        "                   \"day_0\",    \"day_1\",    \"day_2\", \"day_3\",\n",
        "                   \"time_0\",    \"time_1\"]\n",
        "\n",
        "X_train = tips_df[X_feature_names]\n",
        "y_train = cudf.DataFrame({'y': tips_df['tip_percentage']})\n",
        "\n",
        "# Convert to XGBoost's DMatrix format and train the model\n",
        "dmatrix_train = xgb.DMatrix(X_train,\n",
        "                            label=y_train,\n",
        "                            feature_names=X_train.columns)\n",
        "\n",
        "bst = xgb.train(params, dmatrix_train)\n",
        "\n",
        "# See what data is the most important for predicting % tipped\n",
        "xgb.plot_importance(bst)"
      ],
      "execution_count": 0,
      "outputs": [
        {
          "output_type": "error",
          "ename": "TypeError",
          "evalue": "ignored",
          "traceback": [
            "\u001b[0;31m---------------------------------------------------------------------------\u001b[0m",
            "\u001b[0;31mValueError\u001b[0m                                Traceback (most recent call last)",
            "\u001b[0;32m/usr/local/lib/python3.6/dist-packages/scipy/sparse/compressed.py\u001b[0m in \u001b[0;36m__init__\u001b[0;34m(self, arg1, shape, dtype, copy)\u001b[0m\n\u001b[1;32m     82\u001b[0m             \u001b[0;32mtry\u001b[0m\u001b[0;34m:\u001b[0m\u001b[0;34m\u001b[0m\u001b[0;34m\u001b[0m\u001b[0m\n\u001b[0;32m---> 83\u001b[0;31m                 \u001b[0marg1\u001b[0m \u001b[0;34m=\u001b[0m \u001b[0mnp\u001b[0m\u001b[0;34m.\u001b[0m\u001b[0masarray\u001b[0m\u001b[0;34m(\u001b[0m\u001b[0marg1\u001b[0m\u001b[0;34m)\u001b[0m\u001b[0;34m\u001b[0m\u001b[0;34m\u001b[0m\u001b[0m\n\u001b[0m\u001b[1;32m     84\u001b[0m             \u001b[0;32mexcept\u001b[0m \u001b[0mException\u001b[0m\u001b[0;34m:\u001b[0m\u001b[0;34m\u001b[0m\u001b[0;34m\u001b[0m\u001b[0m\n",
            "\u001b[0;32m/usr/local/lib/python3.6/dist-packages/numpy/core/numeric.py\u001b[0m in \u001b[0;36masarray\u001b[0;34m(a, dtype, order)\u001b[0m\n\u001b[1;32m    537\u001b[0m     \"\"\"\n\u001b[0;32m--> 538\u001b[0;31m     \u001b[0;32mreturn\u001b[0m \u001b[0marray\u001b[0m\u001b[0;34m(\u001b[0m\u001b[0ma\u001b[0m\u001b[0;34m,\u001b[0m \u001b[0mdtype\u001b[0m\u001b[0;34m,\u001b[0m \u001b[0mcopy\u001b[0m\u001b[0;34m=\u001b[0m\u001b[0;32mFalse\u001b[0m\u001b[0;34m,\u001b[0m \u001b[0morder\u001b[0m\u001b[0;34m=\u001b[0m\u001b[0morder\u001b[0m\u001b[0;34m)\u001b[0m\u001b[0;34m\u001b[0m\u001b[0;34m\u001b[0m\u001b[0m\n\u001b[0m\u001b[1;32m    539\u001b[0m \u001b[0;34m\u001b[0m\u001b[0m\n",
            "\u001b[0;31mValueError\u001b[0m: cannot copy sequence with size 244 to array axis with dimension 10",
            "\nDuring handling of the above exception, another exception occurred:\n",
            "\u001b[0;31mValueError\u001b[0m                                Traceback (most recent call last)",
            "\u001b[0;32m/usr/local/lib/python3.6/site-packages/xgboost/core.py\u001b[0m in \u001b[0;36m__init__\u001b[0;34m(self, data, label, missing, weight, silent, feature_names, feature_types, nthread)\u001b[0m\n\u001b[1;32m    409\u001b[0m             \u001b[0;32mtry\u001b[0m\u001b[0;34m:\u001b[0m\u001b[0;34m\u001b[0m\u001b[0;34m\u001b[0m\u001b[0m\n\u001b[0;32m--> 410\u001b[0;31m                 \u001b[0mcsr\u001b[0m \u001b[0;34m=\u001b[0m \u001b[0mscipy\u001b[0m\u001b[0;34m.\u001b[0m\u001b[0msparse\u001b[0m\u001b[0;34m.\u001b[0m\u001b[0mcsr_matrix\u001b[0m\u001b[0;34m(\u001b[0m\u001b[0mdata\u001b[0m\u001b[0;34m)\u001b[0m\u001b[0;34m\u001b[0m\u001b[0;34m\u001b[0m\u001b[0m\n\u001b[0m\u001b[1;32m    411\u001b[0m                 \u001b[0mself\u001b[0m\u001b[0;34m.\u001b[0m\u001b[0m_init_from_csr\u001b[0m\u001b[0;34m(\u001b[0m\u001b[0mcsr\u001b[0m\u001b[0;34m)\u001b[0m\u001b[0;34m\u001b[0m\u001b[0;34m\u001b[0m\u001b[0m\n",
            "\u001b[0;32m/usr/local/lib/python3.6/dist-packages/scipy/sparse/compressed.py\u001b[0m in \u001b[0;36m__init__\u001b[0;34m(self, arg1, shape, dtype, copy)\u001b[0m\n\u001b[1;32m     85\u001b[0m                 raise ValueError(\"unrecognized {}_matrix constructor usage\"\n\u001b[0;32m---> 86\u001b[0;31m                                  \"\".format(self.format))\n\u001b[0m\u001b[1;32m     87\u001b[0m             \u001b[0;32mfrom\u001b[0m \u001b[0;34m.\u001b[0m\u001b[0mcoo\u001b[0m \u001b[0;32mimport\u001b[0m \u001b[0mcoo_matrix\u001b[0m\u001b[0;34m\u001b[0m\u001b[0;34m\u001b[0m\u001b[0m\n",
            "\u001b[0;31mValueError\u001b[0m: unrecognized csr_matrix constructor usage",
            "\nDuring handling of the above exception, another exception occurred:\n",
            "\u001b[0;31mTypeError\u001b[0m                                 Traceback (most recent call last)",
            "\u001b[0;32m<ipython-input-10-e1728a9610a9>\u001b[0m in \u001b[0;36m<module>\u001b[0;34m()\u001b[0m\n\u001b[1;32m     17\u001b[0m dmatrix_train = xgb.DMatrix(X_train,\n\u001b[1;32m     18\u001b[0m                             \u001b[0mlabel\u001b[0m\u001b[0;34m=\u001b[0m\u001b[0my_train\u001b[0m\u001b[0;34m,\u001b[0m\u001b[0;34m\u001b[0m\u001b[0;34m\u001b[0m\u001b[0m\n\u001b[0;32m---> 19\u001b[0;31m                             feature_names=X_train.columns)\n\u001b[0m\u001b[1;32m     20\u001b[0m \u001b[0;34m\u001b[0m\u001b[0m\n\u001b[1;32m     21\u001b[0m \u001b[0mbst\u001b[0m \u001b[0;34m=\u001b[0m \u001b[0mxgb\u001b[0m\u001b[0;34m.\u001b[0m\u001b[0mtrain\u001b[0m\u001b[0;34m(\u001b[0m\u001b[0mparams\u001b[0m\u001b[0;34m,\u001b[0m \u001b[0mdmatrix_train\u001b[0m\u001b[0;34m)\u001b[0m\u001b[0;34m\u001b[0m\u001b[0;34m\u001b[0m\u001b[0m\n",
            "\u001b[0;32m/usr/local/lib/python3.6/site-packages/xgboost/core.py\u001b[0m in \u001b[0;36m__init__\u001b[0;34m(self, data, label, missing, weight, silent, feature_names, feature_types, nthread)\u001b[0m\n\u001b[1;32m    412\u001b[0m             \u001b[0;32mexcept\u001b[0m\u001b[0;34m:\u001b[0m\u001b[0;34m\u001b[0m\u001b[0;34m\u001b[0m\u001b[0m\n\u001b[1;32m    413\u001b[0m                 raise TypeError('can not initialize DMatrix from'\n\u001b[0;32m--> 414\u001b[0;31m                                 ' {}'.format(type(data).__name__))\n\u001b[0m\u001b[1;32m    415\u001b[0m \u001b[0;34m\u001b[0m\u001b[0m\n\u001b[1;32m    416\u001b[0m         \u001b[0;32mif\u001b[0m \u001b[0mlabel\u001b[0m \u001b[0;32mis\u001b[0m \u001b[0;32mnot\u001b[0m \u001b[0;32mNone\u001b[0m\u001b[0;34m:\u001b[0m\u001b[0;34m\u001b[0m\u001b[0;34m\u001b[0m\u001b[0m\n",
            "\u001b[0;31mTypeError\u001b[0m: can not initialize DMatrix from DataFrame"
          ]
        }
      ]
    },
    {
      "cell_type": "markdown",
      "metadata": {
        "id": "HdxlltBFuh65",
        "colab_type": "text"
      },
      "source": [
        "#[cuGraph](https://github.com/rapidsai/cugraph)\n",
        "\n",
        "Like the cuDF snippet above, this code loads a CSV file from a URL, then dives into cugraph to computes the PageRank score for each vertex.  Those scores are then used as weight to compute the Weighted Jaccard Similarity which is used to find the most common nodes in the Epinions dataset."
      ]
    },
    {
      "cell_type": "code",
      "metadata": {
        "id": "iGOXOoCzulnP",
        "colab_type": "code",
        "outputId": "6b0c05dd-27c2-4526-e585-0ed41c23947f",
        "colab": {
          "base_uri": "https://localhost:8080/",
          "height": 52
        }
      },
      "source": [
        "import cugraph, cudf\n",
        "import gzip, io, requests\n",
        "from collections import OrderedDict\n",
        "\n",
        "# download some data\n",
        "url=\"https://snap.stanford.edu/data/soc-Epinions1.txt.gz\"\n",
        "content = gzip.decompress(requests.get(url).content).decode()\n",
        "\n",
        "cols = [\"src\", \"dst\"]\n",
        "dtypes = OrderedDict([ (\"src\", \"int32\"), (\"dst\", \"int32\")])\n",
        "# read the CSV data from memory buffer\n",
        "gdf = cudf.read_csv(io.StringIO(content), names=cols, delimiter='\\t', dtype=list(dtypes.values()), skiprows=4)\n",
        "\n",
        "# create a Graph \n",
        "G = cugraph.Graph()\n",
        "G.add_edge_list(gdf[\"src\"], gdf[\"dst\"])\n",
        "\n",
        "# Call Pagerank on the graph to get weights to use:\n",
        "pr_df = cugraph.pagerank(G)\n",
        "\n",
        "# find the max page rank value - there could be more than one with the max score\n",
        "pr_max = pr_df['pagerank'].max()\n",
        "\n",
        "pr_filtered = pr_df.query('pagerank >= @pr_max')\n",
        "    \n",
        "for i in range(len(pr_filtered)):\n",
        "    print(\"PageRank: top vertex is \" + str(pr_filtered['vertex'][i]) + \n",
        "        \" with score of \" + str(pr_filtered['pagerank'][i]))  \n",
        "\n",
        "# Call weighted Jaccard using the Pagerank scores as weights:\n",
        "# https://github.com/rapidsai/cugraph/issues/398\n",
        "df = cugraph.jaccard_w(G, pr_df['pagerank'])\n",
        "\n",
        "max_coeff = df['jaccard_coeff'].max()\n",
        "j_gdf = df.query('jaccard_coeff >= @max_coeff')\n",
        "\n",
        "for i in range(len(j_gdf)):\n",
        "    print(\"Weighted Jaccard Similarity: Vertices \" + str(j_gdf['source'][i]) + \n",
        "      \" and \" + str(j_gdf['destination'][i] ) + \n",
        "      \" are most similar with score: \" + str(df['jaccard_coeff'][i]))"
      ],
      "execution_count": 0,
      "outputs": [
        {
          "output_type": "stream",
          "text": [
            "PageRank: top vertex is 18 with score of 0.004534927\n",
            "Weighted Jaccard Similarity: Vertices 22693 and 57123 are most similar with score: 0.26571962\n"
          ],
          "name": "stdout"
        }
      ]
    },
    {
      "cell_type": "markdown",
      "metadata": {
        "id": "ys95ryXAt2j2",
        "colab_type": "text"
      },
      "source": [
        "# Next Steps #\n",
        "\n",
        "For an overview of how you can access and work with your own datasets in Colab, check out [this guide](https://towardsdatascience.com/3-ways-to-load-csv-files-into-colab-7c14fcbdcb92).\n",
        "\n",
        "For more RAPIDS examples, check out our RAPIDS notebooks repos:\n",
        "1. https://github.com/rapidsai/notebooks\n",
        "2. https://github.com/rapidsai/notebooks-extended"
      ]
    }
  ]
}