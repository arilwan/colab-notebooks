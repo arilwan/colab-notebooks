{
  "nbformat": 4,
  "nbformat_minor": 0,
  "metadata": {
    "colab": {
      "name": "colab-rapids-01.ipynb",
      "version": "0.3.2",
      "provenance": [],
      "include_colab_link": true
    },
    "kernelspec": {
      "name": "python3",
      "display_name": "Python 3"
    },
    "accelerator": "GPU"
  },
  "cells": [
    {
      "cell_type": "markdown",
      "metadata": {
        "id": "view-in-github",
        "colab_type": "text"
      },
      "source": [
        "<a href=\"https://colab.research.google.com/github/martin-fabbri/colab-notebooks/blob/master/rapids-cuDF-cust-fun-02-.ipynb\" target=\"_parent\"><img src=\"https://colab.research.google.com/assets/colab-badge.svg\" alt=\"Open In Colab\"/></a>"
      ]
    },
    {
      "cell_type": "markdown",
      "metadata": {
        "id": "L3CR--oLtH0J",
        "colab_type": "text"
      },
      "source": [
        "#Setup:\n",
        "\n",
        "1. Use pynvml to confirm Colab allocated you a Tesla T4 GPU.\n",
        "2. Install most recent Miniconda release compatible with Google Colab's Python install  (3.6.7)\n",
        "3. Install RAPIDS libraries\n",
        "4. Copy RAPIDS .so files into current working directory, a workaround for conda/colab interactions\n",
        "5. Update env variables so Python can find and use RAPIDS artifacts\n",
        "\n",
        "All of the above steps are automated in the next cell.\n",
        "\n",
        "You should re-run this cell any time your instance re-starts."
      ]
    },
    {
      "cell_type": "code",
      "metadata": {
        "id": "Z2FjFcDp-2FF",
        "colab_type": "code",
        "outputId": "939730a3-b894-4a01-d689-609954c3ae3b",
        "colab": {
          "base_uri": "https://localhost:8080/",
          "height": 319
        }
      },
      "source": [
        "!nvidia-smi"
      ],
      "execution_count": 1,
      "outputs": [
        {
          "output_type": "stream",
          "text": [
            "Wed Sep 11 05:30:01 2019       \n",
            "+-----------------------------------------------------------------------------+\n",
            "| NVIDIA-SMI 430.40       Driver Version: 418.67       CUDA Version: 10.1     |\n",
            "|-------------------------------+----------------------+----------------------+\n",
            "| GPU  Name        Persistence-M| Bus-Id        Disp.A | Volatile Uncorr. ECC |\n",
            "| Fan  Temp  Perf  Pwr:Usage/Cap|         Memory-Usage | GPU-Util  Compute M. |\n",
            "|===============================+======================+======================|\n",
            "|   0  Tesla T4            Off  | 00000000:00:04.0 Off |                    0 |\n",
            "| N/A   53C    P0    28W /  70W |      0MiB / 15079MiB |      0%      Default |\n",
            "+-------------------------------+----------------------+----------------------+\n",
            "                                                                               \n",
            "+-----------------------------------------------------------------------------+\n",
            "| Processes:                                                       GPU Memory |\n",
            "|  GPU       PID   Type   Process name                             Usage      |\n",
            "|=============================================================================|\n",
            "|  No running processes found                                                 |\n",
            "+-----------------------------------------------------------------------------+\n"
          ],
          "name": "stdout"
        }
      ]
    },
    {
      "cell_type": "code",
      "metadata": {
        "id": "3EN-u_90tKZW",
        "colab_type": "code",
        "outputId": "63d66f2a-45cd-41af-8f45-ec8341aa70ba",
        "colab": {
          "base_uri": "https://localhost:8080/",
          "height": 1000
        }
      },
      "source": [
        "!wget -nc https://github.com/rapidsai/notebooks-extended/raw/master/utils/rapids-colab.sh\n",
        "!bash rapids-colab.sh\n",
        "\n",
        "import sys, os\n",
        "\n",
        "sys.path.append('/usr/local/lib/python3.6/site-packages/')\n",
        "os.environ['NUMBAPRO_NVVM'] = '/usr/local/cuda/nvvm/lib64/libnvvm.so'\n",
        "os.environ['NUMBAPRO_LIBDEVICE'] = '/usr/local/cuda/nvvm/libdevice/'"
      ],
      "execution_count": 2,
      "outputs": [
        {
          "output_type": "stream",
          "text": [
            "--2019-09-11 05:30:18--  https://github.com/rapidsai/notebooks-extended/raw/master/utils/rapids-colab.sh\n",
            "Resolving github.com (github.com)... 52.74.223.119\n",
            "Connecting to github.com (github.com)|52.74.223.119|:443... connected.\n",
            "HTTP request sent, awaiting response... 301 Moved Permanently\n",
            "Location: https://github.com/rapidsai/notebooks-contrib/raw/master/utils/rapids-colab.sh [following]\n",
            "--2019-09-11 05:30:19--  https://github.com/rapidsai/notebooks-contrib/raw/master/utils/rapids-colab.sh\n",
            "Reusing existing connection to github.com:443.\n",
            "HTTP request sent, awaiting response... 302 Found\n",
            "Location: https://raw.githubusercontent.com/rapidsai/notebooks-contrib/master/utils/rapids-colab.sh [following]\n",
            "--2019-09-11 05:30:19--  https://raw.githubusercontent.com/rapidsai/notebooks-contrib/master/utils/rapids-colab.sh\n",
            "Resolving raw.githubusercontent.com (raw.githubusercontent.com)... 151.101.0.133, 151.101.64.133, 151.101.128.133, ...\n",
            "Connecting to raw.githubusercontent.com (raw.githubusercontent.com)|151.101.0.133|:443... connected.\n",
            "HTTP request sent, awaiting response... 200 OK\n",
            "Length: 1609 (1.6K) [text/plain]\n",
            "Saving to: ‘rapids-colab.sh’\n",
            "\n",
            "rapids-colab.sh     100%[===================>]   1.57K  --.-KB/s    in 0s      \n",
            "\n",
            "2019-09-11 05:30:19 (273 MB/s) - ‘rapids-colab.sh’ saved [1609/1609]\n",
            "\n",
            "--2019-09-11 05:30:22--  https://github.com/rapidsai/notebooks-extended/raw/master/utils/env-check.py\n",
            "Resolving github.com (github.com)... 52.74.223.119\n",
            "Connecting to github.com (github.com)|52.74.223.119|:443... connected.\n",
            "HTTP request sent, awaiting response... 301 Moved Permanently\n",
            "Location: https://github.com/rapidsai/notebooks-contrib/raw/master/utils/env-check.py [following]\n",
            "--2019-09-11 05:30:22--  https://github.com/rapidsai/notebooks-contrib/raw/master/utils/env-check.py\n",
            "Reusing existing connection to github.com:443.\n",
            "HTTP request sent, awaiting response... 302 Found\n",
            "Location: https://raw.githubusercontent.com/rapidsai/notebooks-contrib/master/utils/env-check.py [following]\n",
            "--2019-09-11 05:30:23--  https://raw.githubusercontent.com/rapidsai/notebooks-contrib/master/utils/env-check.py\n",
            "Resolving raw.githubusercontent.com (raw.githubusercontent.com)... 151.101.0.133, 151.101.64.133, 151.101.128.133, ...\n",
            "Connecting to raw.githubusercontent.com (raw.githubusercontent.com)|151.101.0.133|:443... connected.\n",
            "HTTP request sent, awaiting response... 200 OK\n",
            "Length: 783 [text/plain]\n",
            "Saving to: ‘env-check.py’\n",
            "\n",
            "env-check.py        100%[===================>]     783  --.-KB/s    in 0s      \n",
            "\n",
            "2019-09-11 05:30:23 (41.3 MB/s) - ‘env-check.py’ saved [783/783]\n",
            "\n",
            "Checking for GPU type:\n",
            "*********************************************\n",
            "Woo! Your instance has the right kind of GPU!\n",
            "*********************************************\n",
            "\n",
            "Removing conflicting packages, will replace with RAPIDS compatible versions\n",
            "Uninstalling xgboost-0.90:\n",
            "  Successfully uninstalled xgboost-0.90\n",
            "Uninstalling dask-1.1.5:\n",
            "  Successfully uninstalled dask-1.1.5\n",
            "Uninstalling distributed-1.25.3:\n",
            "  Successfully uninstalled distributed-1.25.3\n",
            "Installing conda\n",
            "--2019-09-11 05:30:27--  https://repo.continuum.io/miniconda/Miniconda3-4.5.4-Linux-x86_64.sh\n",
            "Resolving repo.continuum.io (repo.continuum.io)... 104.18.200.79, 104.18.201.79, 2606:4700::6812:c84f, ...\n",
            "Connecting to repo.continuum.io (repo.continuum.io)|104.18.200.79|:443... connected.\n",
            "HTTP request sent, awaiting response... 200 OK\n",
            "Length: 58468498 (56M) [application/x-sh]\n",
            "Saving to: ‘Miniconda3-4.5.4-Linux-x86_64.sh’\n",
            "\n",
            "Miniconda3-4.5.4-Li 100%[===================>]  55.76M  47.9MB/s    in 1.2s    \n",
            "\n",
            "2019-09-11 05:30:29 (47.9 MB/s) - ‘Miniconda3-4.5.4-Linux-x86_64.sh’ saved [58468498/58468498]\n",
            "\n",
            "PREFIX=/usr/local\n",
            "installing: python-3.6.5-hc3d631a_2 ...\n",
            "Python 3.6.5 :: Anaconda, Inc.\n",
            "installing: ca-certificates-2018.03.07-0 ...\n",
            "installing: conda-env-2.6.0-h36134e3_1 ...\n",
            "installing: libgcc-ng-7.2.0-hdf63c60_3 ...\n",
            "installing: libstdcxx-ng-7.2.0-hdf63c60_3 ...\n",
            "installing: libffi-3.2.1-hd88cf55_4 ...\n",
            "installing: ncurses-6.1-hf484d3e_0 ...\n",
            "installing: openssl-1.0.2o-h20670df_0 ...\n",
            "installing: tk-8.6.7-hc745277_3 ...\n",
            "installing: xz-5.2.4-h14c3975_4 ...\n",
            "installing: yaml-0.1.7-had09818_2 ...\n",
            "installing: zlib-1.2.11-ha838bed_2 ...\n",
            "installing: libedit-3.1.20170329-h6b74fdf_2 ...\n",
            "installing: readline-7.0-ha6073c6_4 ...\n",
            "installing: sqlite-3.23.1-he433501_0 ...\n",
            "installing: asn1crypto-0.24.0-py36_0 ...\n",
            "installing: certifi-2018.4.16-py36_0 ...\n",
            "installing: chardet-3.0.4-py36h0f667ec_1 ...\n",
            "installing: idna-2.6-py36h82fb2a8_1 ...\n",
            "installing: pycosat-0.6.3-py36h0a5515d_0 ...\n",
            "installing: pycparser-2.18-py36hf9f622e_1 ...\n",
            "installing: pysocks-1.6.8-py36_0 ...\n",
            "installing: ruamel_yaml-0.15.37-py36h14c3975_2 ...\n",
            "installing: six-1.11.0-py36h372c433_1 ...\n",
            "installing: cffi-1.11.5-py36h9745a5d_0 ...\n",
            "installing: setuptools-39.2.0-py36_0 ...\n",
            "installing: cryptography-2.2.2-py36h14c3975_0 ...\n",
            "installing: wheel-0.31.1-py36_0 ...\n",
            "installing: pip-10.0.1-py36_0 ...\n",
            "installing: pyopenssl-18.0.0-py36_0 ...\n",
            "installing: urllib3-1.22-py36hbe7ace6_0 ...\n",
            "installing: requests-2.18.4-py36he2e5f8d_1 ...\n",
            "installing: conda-4.5.4-py36_0 ...\n",
            "installation finished.\n",
            "WARNING:\n",
            "    You currently have a PYTHONPATH environment variable set. This may cause\n",
            "    unexpected behavior when running the Python interpreter in Miniconda3.\n",
            "    For best results, please verify that your PYTHONPATH only points to\n",
            "    directories of packages that are compatible with the Python interpreter\n",
            "    in Miniconda3: /usr/local\n",
            "Installing RAPIDS 0.10 packages\n",
            "Please standby, this will take a few minutes...\n",
            "\n",
            "\n",
            "==> WARNING: A newer version of conda exists. <==\n",
            "  current version: 4.5.4\n",
            "  latest version: 4.7.11\n",
            "\n",
            "Please update conda by running\n",
            "\n",
            "    $ conda update -n base conda\n",
            "\n",
            "\n",
            "libevent-2.1.10      |  1.3 MB | : 100% 1.0/1 [00:00<00:00,  2.14it/s]               \n",
            "cytoolz-0.10.0       |  429 KB | : 100% 1.0/1 [00:00<00:00,  6.08it/s]               \n",
            "python-3.6.7         | 34.6 MB | : 100% 1.0/1 [00:04<00:00,  4.92s/it]               \n",
            "asn1crypto-0.24.0    |  154 KB | : 100% 1.0/1 [00:00<00:00,  2.58it/s]                \n",
            "libtiff-4.0.10       |  587 KB | : 100% 1.0/1 [00:00<00:00,  5.64it/s]               \n",
            "olefile-0.46         |   31 KB | : 100% 1.0/1 [00:00<00:00, 11.60it/s]\n",
            "psutil-5.6.3         |  322 KB | : 100% 1.0/1 [00:00<00:00,  6.33it/s]               \n",
            "pynvml-8.0.3         |   30 KB | : 100% 1.0/1 [00:00<00:00,  9.81it/s]\n",
            "cryptography-2.7     |  607 KB | : 100% 1.0/1 [00:00<00:00,  3.59it/s]               \n",
            "bzip2-1.0.8          |  397 KB | : 100% 1.0/1 [00:00<00:00,  6.87it/s]               \n",
            "chardet-3.0.4        |  190 KB | : 100% 1.0/1 [00:00<00:00,  7.27it/s]               \n",
            "libgfortran-ng-7.3.0 |  1.3 MB | : 100% 1.0/1 [00:00<00:00,  3.43it/s]              \n",
            "decorator-4.4.0      |   11 KB | : 100% 1.0/1 [00:00<00:00, 12.82it/s]\n",
            "parquet-cpp-1.5.1    |    3 KB | : 100% 1.0/1 [00:00<00:00, 13.55it/s]\n",
            "pyopenssl-19.0.0     |   81 KB | : 100% 1.0/1 [00:00<00:00, 10.68it/s]\n",
            "requests-oauthlib-1. |   19 KB | : 100% 1.0/1 [00:00<00:00, 11.26it/s]\n",
            "cuml-0.10.0a         |  6.0 MB | : 100% 1.0/1 [00:04<00:00,  4.47s/it]               \n",
            "pyyaml-5.1.2         |  184 KB | : 100% 1.0/1 [00:00<00:00,  9.08it/s]\n",
            "markupsafe-1.1.1     |   26 KB | : 100% 1.0/1 [00:00<00:00, 12.97it/s]\n",
            "packaging-19.0       |   23 KB | : 100% 1.0/1 [00:00<00:00, 13.21it/s]\n",
            "grpc-cpp-1.23.0      |  4.5 MB | : 100% 1.0/1 [00:00<00:00,  1.02it/s]               \n",
            "toolz-0.10.0         |   46 KB | : 100% 1.0/1 [00:00<00:00, 10.34it/s]\n",
            "readline-8.0         |  441 KB | : 100% 1.0/1 [00:00<00:00,  6.55it/s]               \n",
            "xz-5.2.4             |  366 KB | : 100% 1.0/1 [00:00<00:00,  6.89it/s]               \n",
            "libstdcxx-ng-9.1.0   |  4.0 MB | : 100% 1.0/1 [00:00<00:00,  1.40it/s]               \n",
            "glog-0.4.0           |  104 KB | : 100% 1.0/1 [00:00<00:00, 10.78it/s]\n",
            "librmm-0.10.0a       |   44 KB | : 100% 1.0/1 [00:01<00:00,  3.24s/it]               \n",
            "libxgboost-0.90.rapi | 32.8 MB | : 100% 1.0/1 [00:10<00:00, 10.10s/it]               \n",
            "click-7.0            |   61 KB | : 100% 1.0/1 [00:00<00:00, 11.62it/s]\n",
            "dask-cuda-0.10.0a    |  924 KB | : 100% 1.0/1 [00:03<00:00,  3.31s/it]               \n",
            "blinker-1.4          |   13 KB | : 100% 1.0/1 [00:00<00:00, 13.15it/s]\n",
            "gcsfs-0.3.0          |   19 KB | : 100% 1.0/1 [00:00<00:00, 12.69it/s]\n",
            "msgpack-python-0.6.1 |   89 KB | : 100% 1.0/1 [00:00<00:00, 12.32it/s]\n",
            "bokeh-1.3.4          |  4.0 MB | : 100% 1.0/1 [00:01<00:00,  1.31s/it]               \n",
            "google-auth-oauthlib |   18 KB | : 100% 1.0/1 [00:00<00:00, 12.43it/s]\n",
            "oauthlib-3.0.1       |   82 KB | : 100% 1.0/1 [00:00<00:00,  9.14it/s]\n",
            "c-ares-1.15.0        |  100 KB | : 100% 1.0/1 [00:00<00:00, 10.54it/s]\n",
            "jinja2-2.10.1        |   91 KB | : 100% 1.0/1 [00:00<00:00,  9.62it/s]\n",
            "dlpack-0.2           |   12 KB | : 100% 1.0/1 [00:00<00:00, 12.23it/s]\n",
            "pysocks-1.7.0        |   26 KB | : 100% 1.0/1 [00:00<00:00, 11.95it/s]\n",
            "numpy-1.17.2         |  5.2 MB | : 100% 1.0/1 [00:01<00:00,  1.13s/it]              \n",
            "certifi-2019.6.16    |  149 KB | : 100% 1.0/1 [00:00<00:00, 10.58it/s]\n",
            "cugraph-0.10.0a      |  1.3 MB | : 100% 1.0/1 [00:01<00:00,  1.06s/it]               \n",
            "pyparsing-2.4.2      |   57 KB | : 100% 1.0/1 [00:00<00:00, 12.16it/s]\n",
            "sqlite-3.29.0        |  1.9 MB | : 100% 1.0/1 [00:00<00:00,  2.90it/s]              \n",
            "tblib-1.4.0          |   12 KB | : 100% 1.0/1 [00:00<00:00, 12.38it/s]\n",
            "_libgcc_mutex-0.1    |    3 KB | : 100% 1.0/1 [00:00<00:00, 16.86it/s]\n",
            "libprotobuf-3.8.0    |  4.7 MB | : 100% 1.0/1 [00:00<00:00,  1.06it/s]               \n",
            "heapdict-1.0.0       |    7 KB | : 100% 1.0/1 [00:00<00:00,  7.88it/s]\n",
            "libcumlprims-0.9.0   |  3.9 MB | : 100% 1.0/1 [00:01<00:00,  1.85s/it]               \n",
            "uriparser-0.9.3      |   49 KB | : 100% 1.0/1 [00:00<00:00, 12.17it/s]\n",
            "libgcc-ng-9.1.0      |  8.1 MB | : 100% 1.0/1 [00:01<00:00,  1.19s/it]               \n",
            "locket-0.2.0         |    6 KB | : 100% 1.0/1 [00:00<00:00, 13.72it/s]\n",
            "cython-0.29.13       |  2.2 MB | : 100% 1.0/1 [00:00<00:00,  1.84it/s]               \n",
            "cloudpickle-1.2.2    |   23 KB | : 100% 1.0/1 [00:00<00:00, 13.31it/s]\n",
            "zstd-1.4.0           |  928 KB | : 100% 1.0/1 [00:00<00:00,  4.81it/s]               \n",
            "scipy-1.3.1          | 18.1 MB | : 100% 1.0/1 [00:03<00:00,  3.17s/it]               \n",
            "ncurses-6.1          |  1.3 MB | : 100% 1.0/1 [00:00<00:00,  1.24it/s]               \n",
            "libcblas-3.8.0       |   10 KB | : 100% 1.0/1 [00:00<00:00, 12.84it/s]\n",
            "idna-2.8             |  132 KB | : 100% 1.0/1 [00:00<00:00, 10.79it/s]\n",
            "py-xgboost-0.90.rapi |   86 KB | : 100% 1.0/1 [00:01<00:00,  1.73s/it]               \n",
            "ca-certificates-2019 |  145 KB | : 100% 1.0/1 [00:00<00:00, 10.97it/s]\n",
            "wheel-0.33.6         |   35 KB | : 100% 1.0/1 [00:00<00:00, 12.79it/s]\n",
            "rmm-0.10.0a          |   14 KB | : 100% 1.0/1 [00:00<00:00,  1.71it/s] \n",
            "yaml-0.1.7           |   78 KB | : 100% 1.0/1 [00:00<00:00, 11.33it/s]\n",
            "double-conversion-3. |   85 KB | : 100% 1.0/1 [00:00<00:00, 10.70it/s]\n",
            "pyasn1-0.4.6         |   52 KB | : 100% 1.0/1 [00:00<00:00, 10.21it/s]\n",
            "libopenblas-0.3.7    |  7.6 MB | : 100% 1.0/1 [00:01<00:00,  1.35s/it]               \n",
            "pycparser-2.19       |  173 KB | : 100% 1.0/1 [00:00<00:00,  9.50it/s]\n",
            "libnvstrings-0.10.0a | 24.7 MB | : 100% 1.0/1 [00:07<00:00,  7.69s/it]               \n",
            "libblas-3.8.0        |   10 KB | : 100% 1.0/1 [00:00<00:00, 12.70it/s]\n",
            "libcuml-0.10.0a      | 29.3 MB | : 100% 1.0/1 [00:09<00:00,  9.04s/it]               \n",
            "pillow-6.1.0         |  634 KB | : 100% 1.0/1 [00:00<00:00,  4.82it/s]               \n",
            "openssl-1.1.1c       |  2.1 MB | : 100% 1.0/1 [00:00<00:00,  2.57it/s]               \n",
            "tk-8.6.9             |  3.2 MB | : 100% 1.0/1 [00:00<00:00,  1.44it/s]               \n",
            "llvmlite-0.29.0      | 19.9 MB | : 100% 1.0/1 [00:04<00:00,  4.00s/it]               \n",
            "dask-core-2.3.0      |  574 KB | : 100% 1.0/1 [00:00<00:00,  4.09it/s]               \n",
            "libcudf-0.10.0a      | 27.8 MB | : 100% 1.0/1 [00:09<00:00,  9.62s/it]               \n",
            "distributed-2.3.2    |  370 KB | : 100% 1.0/1 [00:00<00:00,  5.15it/s]               \n",
            "re2-2019.09.01       |  431 KB | : 100% 1.0/1 [00:00<00:00,  7.07it/s]               \n",
            "zict-1.0.0           |   10 KB | : 100% 1.0/1 [00:00<00:00, 13.52it/s]\n",
            "tornado-6.0.3        |  636 KB | : 100% 1.0/1 [00:00<00:00,  4.34it/s]              \n",
            "thrift-cpp-0.12.0    |  2.4 MB | : 100% 1.0/1 [00:00<00:00,  2.10it/s]               \n",
            "partd-1.0.0          |   16 KB | : 100% 1.0/1 [00:00<00:00, 13.14it/s]\n",
            "google-auth-1.6.3    |   45 KB | : 100% 1.0/1 [00:00<00:00, 10.79it/s]\n",
            "sortedcontainers-2.1 |   25 KB | : 100% 1.0/1 [00:00<00:00, 11.77it/s]\n",
            "joblib-0.13.2        |  180 KB | : 100% 1.0/1 [00:00<00:00,  7.43it/s]\n",
            "pytz-2019.2          |  228 KB | : 100% 1.0/1 [00:00<00:00,  4.49it/s]              \n",
            "liblapack-3.8.0      |   10 KB | : 100% 1.0/1 [00:00<00:00, 13.77it/s]\n",
            "zlib-1.2.11          |  105 KB | : 100% 1.0/1 [00:00<00:00, 11.52it/s]\n",
            "urllib3-1.25.3       |  187 KB | : 100% 1.0/1 [00:00<00:00,  7.43it/s]\n",
            "six-1.12.0           |   22 KB | : 100% 1.0/1 [00:00<00:00, 12.35it/s]\n",
            "fastavro-0.22.4      |  405 KB | : 100% 1.0/1 [00:00<00:00,  5.73it/s]               \n",
            "fsspec-0.4.4         |   39 KB | : 100% 1.0/1 [00:00<00:00, 12.75it/s]\n",
            "jpeg-9c              |  251 KB | : 100% 1.0/1 [00:00<00:00,  8.52it/s]\n",
            "nvstrings-0.10.0a    |  125 KB | : 100% 1.0/1 [00:01<00:00,  1.71s/it]               \n",
            "cachetools-2.1.0     |   10 KB | : 100% 1.0/1 [00:00<00:00, 12.75it/s]\n",
            "pyarrow-0.14.1       |  2.8 MB | : 100% 1.0/1 [00:00<00:00,  1.29it/s]               \n",
            "pip-19.2.3           |  1.9 MB | : 100% 1.0/1 [00:00<00:00,  1.77it/s]               \n",
            "cffi-1.12.3          |  218 KB | : 100% 1.0/1 [00:00<00:00,  8.41it/s]\n",
            "gflags-2.2.2         |  177 KB | : 100% 1.0/1 [00:00<00:00,  8.59it/s]               \n",
            "setuptools-41.2.0    |  634 KB | : 100% 1.0/1 [00:00<00:00,  4.38it/s]               \n",
            "cudatoolkit-10.0.130 | 380.0 MB | : 100% 1.0/1 [00:46<00:00, 46.61s/it]                \n",
            "lz4-c-1.8.3          |  187 KB | : 100% 1.0/1 [00:00<00:00,  7.96it/s]\n",
            "nccl-2.4.6.1         | 66.6 MB | : 100% 1.0/1 [00:15<00:00, 15.15s/it]               \n",
            "libpng-1.6.37        |  343 KB | : 100% 1.0/1 [00:00<00:00,  4.55it/s]               \n",
            "libffi-3.2.1         |   46 KB | : 100% 1.0/1 [00:00<00:00,  9.65it/s]\n",
            "dask-cuml-0.8.0a     |   30 KB | : 100% 1.0/1 [00:02<00:00,  2.17s/it] \n",
            "xgboost-0.90.rapidsd |   11 KB | : 100% 1.0/1 [00:00<00:00,  1.63it/s] \n",
            "snappy-1.1.7         |   39 KB | : 100% 1.0/1 [00:00<00:00, 10.90it/s]\n",
            "rsa-3.4.2            |   31 KB | : 100% 1.0/1 [00:00<00:00, 11.60it/s]\n",
            "freetype-2.10.0      |  884 KB | : 100% 1.0/1 [00:00<00:00,  2.55it/s]               \n",
            "brotli-1.0.7         |  1.0 MB | : 100% 1.0/1 [00:00<00:00,  2.95it/s]               \n",
            "numba-0.45.1         |  3.1 MB | : 100% 1.0/1 [00:01<00:00,  1.14s/it]               \n",
            "pandas-0.24.2        | 11.1 MB | : 100% 1.0/1 [00:02<00:00,  2.59s/it]               \n",
            "boost-cpp-1.70.0     | 21.1 MB | : 100% 1.0/1 [00:08<00:00,  8.25s/it]               \n",
            "python-dateutil-2.8. |  219 KB | : 100% 1.0/1 [00:00<00:00,  7.78it/s]               \n",
            "pyasn1-modules-0.2.6 |   47 KB | : 100% 1.0/1 [00:00<00:00, 10.40it/s]\n",
            "scikit-learn-0.21.3  |  6.7 MB | : 100% 1.0/1 [00:02<00:00,  2.46s/it]               \n",
            "dask-2.3.0           |    4 KB | : 100% 1.0/1 [00:00<00:00, 13.53it/s]\n",
            "requests-2.22.0      |   84 KB | : 100% 1.0/1 [00:00<00:00,  9.91it/s]\n",
            "arrow-cpp-0.14.1     | 17.3 MB | : 100% 1.0/1 [00:02<00:00,  2.94s/it]               \n",
            "libcugraph-0.10.0a   | 11.2 MB | : 100% 1.0/1 [00:05<00:00,  5.74s/it]               \n",
            "pyjwt-1.7.1          |   17 KB | : 100% 1.0/1 [00:00<00:00, 13.05it/s]\n",
            "dask-cudf-0.10.0a    |   63 KB | : 100% 1.0/1 [00:00<00:00,  1.73it/s]              \n",
            "cudf-0.10.0a         |  4.8 MB | : 100% 1.0/1 [00:01<00:00,  1.54s/it]               \n",
            "icu-64.2             | 12.6 MB | : 100% 1.0/1 [00:01<00:00,  1.92s/it]               \n",
            "Copying shared object files to /usr/lib\n",
            "\n",
            "*********************************************\n",
            "Your Google Colab instance is RAPIDS ready!\n",
            "*********************************************\n"
          ],
          "name": "stdout"
        }
      ]
    },
    {
      "cell_type": "markdown",
      "metadata": {
        "id": "8xErLYOxtU4f",
        "colab_type": "text"
      },
      "source": [
        "# RAPIDS Examples #\n",
        "\n",
        "Now you can run code! \n",
        "\n",
        "What follows are basic examples where all processing takes place on the GPU."
      ]
    },
    {
      "cell_type": "markdown",
      "metadata": {
        "id": "RSXLHPlUaHZj",
        "colab_type": "text"
      },
      "source": [
        "## Required Imports"
      ]
    },
    {
      "cell_type": "code",
      "metadata": {
        "id": "_Dd7pWJHaNHS",
        "colab_type": "code",
        "colab": {}
      },
      "source": [
        "import cudf\n",
        "import pandas as pd\n",
        "import numpy as np\n",
        "import math\n",
        "import os"
      ],
      "execution_count": 0,
      "outputs": []
    },
    {
      "cell_type": "markdown",
      "metadata": {
        "id": "XpBwe6S5ZSQZ",
        "colab_type": "text"
      },
      "source": [
        "# cuDF Series\n",
        "\n",
        "---\n",
        "Creating a cudf.Series"
      ]
    },
    {
      "cell_type": "code",
      "metadata": {
        "id": "oXS-i96LZiS9",
        "colab_type": "code",
        "colab": {
          "base_uri": "https://localhost:8080/",
          "height": 123
        },
        "outputId": "b0099275-f4e4-4d97-b05b-7258cf22cbfd"
      },
      "source": [
        "s = cudf.Series([1, 2, 3, None, 4])\n",
        "print(s)"
      ],
      "execution_count": 4,
      "outputs": [
        {
          "output_type": "stream",
          "text": [
            "0       1\n",
            "1       2\n",
            "2       3\n",
            "3    null\n",
            "4       4\n",
            "dtype: int64\n"
          ],
          "name": "stdout"
        }
      ]
    },
    {
      "cell_type": "markdown",
      "metadata": {
        "id": "fe5IqmLxke6U",
        "colab_type": "text"
      },
      "source": [
        "Creating a cudf dataframe"
      ]
    },
    {
      "cell_type": "code",
      "metadata": {
        "id": "W7FN8vb0keLf",
        "colab_type": "code",
        "colab": {
          "base_uri": "https://localhost:8080/",
          "height": 201
        },
        "outputId": "88ec335a-ee6a-4998-d3eb-3c22a0f90bb6"
      },
      "source": [
        "df = cudf.DataFrame([('a', list(range(20))), ('b', list(reversed(range(20)))), ('c', list(range(30, 50)))])\n",
        "df.head(5)"
      ],
      "execution_count": 5,
      "outputs": [
        {
          "output_type": "execute_result",
          "data": {
            "text/html": [
              "<div>\n",
              "<style scoped>\n",
              "    .dataframe tbody tr th:only-of-type {\n",
              "        vertical-align: middle;\n",
              "    }\n",
              "\n",
              "    .dataframe tbody tr th {\n",
              "        vertical-align: top;\n",
              "    }\n",
              "\n",
              "    .dataframe thead th {\n",
              "        text-align: right;\n",
              "    }\n",
              "</style>\n",
              "<table border=\"1\" class=\"dataframe\">\n",
              "  <thead>\n",
              "    <tr style=\"text-align: right;\">\n",
              "      <th></th>\n",
              "      <th>a</th>\n",
              "      <th>b</th>\n",
              "      <th>c</th>\n",
              "    </tr>\n",
              "  </thead>\n",
              "  <tbody>\n",
              "    <tr>\n",
              "      <th>0</th>\n",
              "      <td>0</td>\n",
              "      <td>19</td>\n",
              "      <td>30</td>\n",
              "    </tr>\n",
              "    <tr>\n",
              "      <th>1</th>\n",
              "      <td>1</td>\n",
              "      <td>18</td>\n",
              "      <td>31</td>\n",
              "    </tr>\n",
              "    <tr>\n",
              "      <th>2</th>\n",
              "      <td>2</td>\n",
              "      <td>17</td>\n",
              "      <td>32</td>\n",
              "    </tr>\n",
              "    <tr>\n",
              "      <th>3</th>\n",
              "      <td>3</td>\n",
              "      <td>16</td>\n",
              "      <td>33</td>\n",
              "    </tr>\n",
              "    <tr>\n",
              "      <th>4</th>\n",
              "      <td>4</td>\n",
              "      <td>15</td>\n",
              "      <td>34</td>\n",
              "    </tr>\n",
              "  </tbody>\n",
              "</table>\n",
              "</div>"
            ],
            "text/plain": [
              "   a   b   c\n",
              "0  0  19  30\n",
              "1  1  18  31\n",
              "2  2  17  32\n",
              "3  3  16  33\n",
              "4  4  15  34"
            ]
          },
          "metadata": {
            "tags": []
          },
          "execution_count": 5
        }
      ]
    },
    {
      "cell_type": "markdown",
      "metadata": {
        "id": "EJqUlfmylqA5",
        "colab_type": "text"
      },
      "source": [
        "Create a cudf dataframe from a pd.dataframe"
      ]
    },
    {
      "cell_type": "code",
      "metadata": {
        "id": "RoEA15Q8lpkU",
        "colab_type": "code",
        "colab": {
          "base_uri": "https://localhost:8080/",
          "height": 251
        },
        "outputId": "0789ef32-d4ca-45e9-ab4e-0a0692208907"
      },
      "source": [
        "pdf = pd.DataFrame({'a': [0, 1, 2, 3], 'b': [0.0, 0.1, None, 0.2]})\n",
        "print('Panda df:', pdf.info())\n",
        "\n",
        "cdf = cudf.DataFrame.from_pandas(pdf)\n",
        "cdf.head(2)"
      ],
      "execution_count": 6,
      "outputs": [
        {
          "output_type": "stream",
          "text": [
            "<class 'pandas.core.frame.DataFrame'>\n",
            "RangeIndex: 4 entries, 0 to 3\n",
            "Data columns (total 2 columns):\n",
            "a    4 non-null int64\n",
            "b    3 non-null float64\n",
            "dtypes: float64(1), int64(1)\n",
            "memory usage: 144.0 bytes\n",
            "Panda df: None\n"
          ],
          "name": "stdout"
        },
        {
          "output_type": "execute_result",
          "data": {
            "text/html": [
              "<div>\n",
              "<style scoped>\n",
              "    .dataframe tbody tr th:only-of-type {\n",
              "        vertical-align: middle;\n",
              "    }\n",
              "\n",
              "    .dataframe tbody tr th {\n",
              "        vertical-align: top;\n",
              "    }\n",
              "\n",
              "    .dataframe thead th {\n",
              "        text-align: right;\n",
              "    }\n",
              "</style>\n",
              "<table border=\"1\" class=\"dataframe\">\n",
              "  <thead>\n",
              "    <tr style=\"text-align: right;\">\n",
              "      <th></th>\n",
              "      <th>a</th>\n",
              "      <th>b</th>\n",
              "    </tr>\n",
              "  </thead>\n",
              "  <tbody>\n",
              "    <tr>\n",
              "      <th>0</th>\n",
              "      <td>0</td>\n",
              "      <td>0.0</td>\n",
              "    </tr>\n",
              "    <tr>\n",
              "      <th>1</th>\n",
              "      <td>1</td>\n",
              "      <td>0.1</td>\n",
              "    </tr>\n",
              "  </tbody>\n",
              "</table>\n",
              "</div>"
            ],
            "text/plain": [
              "   a    b\n",
              "0  0  0.0\n",
              "1  1  0.1"
            ]
          },
          "metadata": {
            "tags": []
          },
          "execution_count": 6
        }
      ]
    },
    {
      "cell_type": "markdown",
      "metadata": {
        "id": "Wuc_Cn0nneUM",
        "colab_type": "text"
      },
      "source": [
        "## cuDF Dataframe Basics"
      ]
    },
    {
      "cell_type": "markdown",
      "metadata": {
        "id": "LuWVbnQSq9yP",
        "colab_type": "text"
      },
      "source": [
        "Object Creation"
      ]
    },
    {
      "cell_type": "code",
      "metadata": {
        "id": "muYLGluoneEL",
        "colab_type": "code",
        "colab": {
          "base_uri": "https://localhost:8080/",
          "height": 123
        },
        "outputId": "38046a53-4ce9-478d-a031-7631d80a3c67"
      },
      "source": [
        "pdf = pd.DataFrame({'a': [0, 1, 2, 3, 4],'b': [0.1, 0.2, None, 0.3, 0.5]})\n",
        "cdf = cudf.DataFrame.from_pandas(pdf)\n",
        "print(cdf)"
      ],
      "execution_count": 7,
      "outputs": [
        {
          "output_type": "stream",
          "text": [
            "   a     b\n",
            "0  0   0.1\n",
            "1  1   0.2\n",
            "2  2  null\n",
            "3  3   0.3\n",
            "4  4   0.5\n"
          ],
          "name": "stdout"
        }
      ]
    },
    {
      "cell_type": "markdown",
      "metadata": {
        "id": "Jz1Ihu1zrLpd",
        "colab_type": "text"
      },
      "source": [
        "Sorting values"
      ]
    },
    {
      "cell_type": "code",
      "metadata": {
        "id": "PzOfNDMOrLfx",
        "colab_type": "code",
        "colab": {
          "base_uri": "https://localhost:8080/",
          "height": 201
        },
        "outputId": "837a8c78-5246-44f9-be4b-6d39cafc27d6"
      },
      "source": [
        "pdf.sort_values(by='b')\n",
        "cdf.sort_values(by='b')"
      ],
      "execution_count": 8,
      "outputs": [
        {
          "output_type": "execute_result",
          "data": {
            "text/html": [
              "<div>\n",
              "<style scoped>\n",
              "    .dataframe tbody tr th:only-of-type {\n",
              "        vertical-align: middle;\n",
              "    }\n",
              "\n",
              "    .dataframe tbody tr th {\n",
              "        vertical-align: top;\n",
              "    }\n",
              "\n",
              "    .dataframe thead th {\n",
              "        text-align: right;\n",
              "    }\n",
              "</style>\n",
              "<table border=\"1\" class=\"dataframe\">\n",
              "  <thead>\n",
              "    <tr style=\"text-align: right;\">\n",
              "      <th></th>\n",
              "      <th>a</th>\n",
              "      <th>b</th>\n",
              "    </tr>\n",
              "  </thead>\n",
              "  <tbody>\n",
              "    <tr>\n",
              "      <th>0</th>\n",
              "      <td>0</td>\n",
              "      <td>0.1</td>\n",
              "    </tr>\n",
              "    <tr>\n",
              "      <th>1</th>\n",
              "      <td>1</td>\n",
              "      <td>0.2</td>\n",
              "    </tr>\n",
              "    <tr>\n",
              "      <th>3</th>\n",
              "      <td>3</td>\n",
              "      <td>0.3</td>\n",
              "    </tr>\n",
              "    <tr>\n",
              "      <th>4</th>\n",
              "      <td>4</td>\n",
              "      <td>0.5</td>\n",
              "    </tr>\n",
              "    <tr>\n",
              "      <th>2</th>\n",
              "      <td>2</td>\n",
              "      <td>null</td>\n",
              "    </tr>\n",
              "  </tbody>\n",
              "</table>\n",
              "</div>"
            ],
            "text/plain": [
              "   a     b\n",
              "0  0   0.1\n",
              "1  1   0.2\n",
              "3  3   0.3\n",
              "4  4   0.5\n",
              "2  2  null"
            ]
          },
          "metadata": {
            "tags": []
          },
          "execution_count": 8
        }
      ]
    },
    {
      "cell_type": "markdown",
      "metadata": {
        "id": "LRd7TXtVrLLJ",
        "colab_type": "text"
      },
      "source": [
        "Selection"
      ]
    },
    {
      "cell_type": "code",
      "metadata": {
        "id": "2xNRX1K5rKz-",
        "colab_type": "code",
        "colab": {
          "base_uri": "https://localhost:8080/",
          "height": 88
        },
        "outputId": "0550a743-0511-4ade-8074-e54d26655f9f"
      },
      "source": [
        "pdf['a'].head(3)\n",
        "cdf['a'].head(3)"
      ],
      "execution_count": 9,
      "outputs": [
        {
          "output_type": "execute_result",
          "data": {
            "text/plain": [
              "0    0\n",
              "1    1\n",
              "2    2\n",
              "Name: a, dtype: int64"
            ]
          },
          "metadata": {
            "tags": []
          },
          "execution_count": 9
        }
      ]
    },
    {
      "cell_type": "markdown",
      "metadata": {
        "id": "-TtM0RoRrrf_",
        "colab_type": "text"
      },
      "source": [
        "Selection by label"
      ]
    },
    {
      "cell_type": "code",
      "metadata": {
        "id": "OG2ru7iWrrWM",
        "colab_type": "code",
        "colab": {
          "base_uri": "https://localhost:8080/",
          "height": 109
        },
        "outputId": "60b8ceaa-ac1f-45a4-cd48-97c9e5c65ed3"
      },
      "source": [
        "cdf.loc[:1, ['a', 'b']]"
      ],
      "execution_count": 10,
      "outputs": [
        {
          "output_type": "execute_result",
          "data": {
            "text/html": [
              "<div>\n",
              "<style scoped>\n",
              "    .dataframe tbody tr th:only-of-type {\n",
              "        vertical-align: middle;\n",
              "    }\n",
              "\n",
              "    .dataframe tbody tr th {\n",
              "        vertical-align: top;\n",
              "    }\n",
              "\n",
              "    .dataframe thead th {\n",
              "        text-align: right;\n",
              "    }\n",
              "</style>\n",
              "<table border=\"1\" class=\"dataframe\">\n",
              "  <thead>\n",
              "    <tr style=\"text-align: right;\">\n",
              "      <th></th>\n",
              "      <th>a</th>\n",
              "      <th>b</th>\n",
              "    </tr>\n",
              "  </thead>\n",
              "  <tbody>\n",
              "    <tr>\n",
              "      <th>0</th>\n",
              "      <td>0</td>\n",
              "      <td>0.1</td>\n",
              "    </tr>\n",
              "    <tr>\n",
              "      <th>1</th>\n",
              "      <td>1</td>\n",
              "      <td>0.2</td>\n",
              "    </tr>\n",
              "  </tbody>\n",
              "</table>\n",
              "</div>"
            ],
            "text/plain": [
              "   a    b\n",
              "0  0  0.1\n",
              "1  1  0.2"
            ]
          },
          "metadata": {
            "tags": []
          },
          "execution_count": 10
        }
      ]
    },
    {
      "cell_type": "markdown",
      "metadata": {
        "id": "KK4guPPwrrIl",
        "colab_type": "text"
      },
      "source": [
        "Selection by position"
      ]
    },
    {
      "cell_type": "code",
      "metadata": {
        "id": "d1pvZd3hrqld",
        "colab_type": "code",
        "colab": {
          "base_uri": "https://localhost:8080/",
          "height": 70
        },
        "outputId": "ecbc6823-1312-47fd-ba37-c53cfff24304"
      },
      "source": [
        "pdf.iloc[0]"
      ],
      "execution_count": 11,
      "outputs": [
        {
          "output_type": "execute_result",
          "data": {
            "text/plain": [
              "a    0.0\n",
              "b    0.1\n",
              "Name: 0, dtype: float64"
            ]
          },
          "metadata": {
            "tags": []
          },
          "execution_count": 11
        }
      ]
    },
    {
      "cell_type": "code",
      "metadata": {
        "id": "S3ApoUuduvGg",
        "colab_type": "code",
        "colab": {
          "base_uri": "https://localhost:8080/",
          "height": 123
        },
        "outputId": "52d2384b-0de8-4f11-c7a3-cfce93ced1cc"
      },
      "source": [
        "print(cdf.iloc[0])\n",
        "print(cdf.iloc[1:3])"
      ],
      "execution_count": 12,
      "outputs": [
        {
          "output_type": "stream",
          "text": [
            "a    0.0\n",
            "b    0.1\n",
            "Name: 0, dtype: float64\n",
            "   a     b\n",
            "1  1   0.2\n",
            "2  2  null\n"
          ],
          "name": "stdout"
        }
      ]
    },
    {
      "cell_type": "markdown",
      "metadata": {
        "id": "R-ws7qF135_b",
        "colab_type": "text"
      },
      "source": [
        "### Boolean Indexing"
      ]
    },
    {
      "cell_type": "markdown",
      "metadata": {
        "id": "SY7mZPmu4CBO",
        "colab_type": "text"
      },
      "source": [
        "Selecting rows in a DataFrame or Series by boolean indexing."
      ]
    },
    {
      "cell_type": "code",
      "metadata": {
        "id": "FwiEZ9f5351G",
        "colab_type": "code",
        "colab": {
          "base_uri": "https://localhost:8080/",
          "height": 88
        },
        "outputId": "04f5120f-74d1-4503-ebb7-35fc228a19dc"
      },
      "source": [
        "print(cdf[cdf.a > 1.5])"
      ],
      "execution_count": 13,
      "outputs": [
        {
          "output_type": "stream",
          "text": [
            "   a     b\n",
            "2  2  null\n",
            "3  3   0.3\n",
            "4  4   0.5\n"
          ],
          "name": "stdout"
        }
      ]
    },
    {
      "cell_type": "code",
      "metadata": {
        "id": "_P6In4aR35iX",
        "colab_type": "code",
        "colab": {
          "base_uri": "https://localhost:8080/",
          "height": 70
        },
        "outputId": "afb8d4a0-b0d5-4f97-f5af-91a15625f7c5"
      },
      "source": [
        "print(cdf.query(\"b >= 0.3 and b <= 0.5\"))"
      ],
      "execution_count": 14,
      "outputs": [
        {
          "output_type": "stream",
          "text": [
            "   a    b\n",
            "3  3  0.3\n",
            "4  4  0.5\n"
          ],
          "name": "stdout"
        }
      ]
    },
    {
      "cell_type": "code",
      "metadata": {
        "id": "zCqlnHmg35N5",
        "colab_type": "code",
        "colab": {
          "base_uri": "https://localhost:8080/",
          "height": 170
        },
        "outputId": "76d397aa-8c59-4cb6-c676-8426b3fd1ff6"
      },
      "source": [
        "val = 2\n",
        "cdf.query(\"a != @val\")"
      ],
      "execution_count": 15,
      "outputs": [
        {
          "output_type": "execute_result",
          "data": {
            "text/html": [
              "<div>\n",
              "<style scoped>\n",
              "    .dataframe tbody tr th:only-of-type {\n",
              "        vertical-align: middle;\n",
              "    }\n",
              "\n",
              "    .dataframe tbody tr th {\n",
              "        vertical-align: top;\n",
              "    }\n",
              "\n",
              "    .dataframe thead th {\n",
              "        text-align: right;\n",
              "    }\n",
              "</style>\n",
              "<table border=\"1\" class=\"dataframe\">\n",
              "  <thead>\n",
              "    <tr style=\"text-align: right;\">\n",
              "      <th></th>\n",
              "      <th>a</th>\n",
              "      <th>b</th>\n",
              "    </tr>\n",
              "  </thead>\n",
              "  <tbody>\n",
              "    <tr>\n",
              "      <th>0</th>\n",
              "      <td>0</td>\n",
              "      <td>0.1</td>\n",
              "    </tr>\n",
              "    <tr>\n",
              "      <th>1</th>\n",
              "      <td>1</td>\n",
              "      <td>0.2</td>\n",
              "    </tr>\n",
              "    <tr>\n",
              "      <th>3</th>\n",
              "      <td>3</td>\n",
              "      <td>0.3</td>\n",
              "    </tr>\n",
              "    <tr>\n",
              "      <th>4</th>\n",
              "      <td>4</td>\n",
              "      <td>0.5</td>\n",
              "    </tr>\n",
              "  </tbody>\n",
              "</table>\n",
              "</div>"
            ],
            "text/plain": [
              "   a    b\n",
              "0  0  0.1\n",
              "1  1  0.2\n",
              "3  3  0.3\n",
              "4  4  0.5"
            ]
          },
          "metadata": {
            "tags": []
          },
          "execution_count": 15
        }
      ]
    },
    {
      "cell_type": "markdown",
      "metadata": {
        "id": "f8mZnx2O3481",
        "colab_type": "text"
      },
      "source": [
        "### Missing Data"
      ]
    },
    {
      "cell_type": "code",
      "metadata": {
        "id": "vnNyrVbe34wq",
        "colab_type": "code",
        "colab": {
          "base_uri": "https://localhost:8080/",
          "height": 123
        },
        "outputId": "3c8d1b7a-ce43-4806-f428-df0b22031d75"
      },
      "source": [
        "print(cdf.fillna(0))"
      ],
      "execution_count": 16,
      "outputs": [
        {
          "output_type": "stream",
          "text": [
            "   a    b\n",
            "0  0  0.1\n",
            "1  1  0.2\n",
            "2  2  0.0\n",
            "3  3  0.3\n",
            "4  4  0.5\n"
          ],
          "name": "stdout"
        }
      ]
    },
    {
      "cell_type": "markdown",
      "metadata": {
        "id": "KAj_mwRQ9om9",
        "colab_type": "text"
      },
      "source": [
        "### Operations"
      ]
    },
    {
      "cell_type": "code",
      "metadata": {
        "id": "dIHSd-169ogB",
        "colab_type": "code",
        "colab": {
          "base_uri": "https://localhost:8080/",
          "height": 34
        },
        "outputId": "48b6c014-246a-42b6-b87d-a9fcb6e120f9"
      },
      "source": [
        "s = cudf.Series(np.arange(10)).astype(np.float32)\n",
        "print(s.mean(), s.var())"
      ],
      "execution_count": 17,
      "outputs": [
        {
          "output_type": "stream",
          "text": [
            "4.5 9.166666666666668\n"
          ],
          "name": "stdout"
        }
      ]
    },
    {
      "cell_type": "code",
      "metadata": {
        "id": "bIfVxyT29oQj",
        "colab_type": "code",
        "colab": {}
      },
      "source": [
        "def add_ten(num):\n",
        "  return num + 10\n",
        "\n",
        "# s.applymap(add_ten)"
      ],
      "execution_count": 0,
      "outputs": []
    },
    {
      "cell_type": "code",
      "metadata": {
        "id": "1SkHGz8G9n-C",
        "colab_type": "code",
        "colab": {}
      },
      "source": [
        "def complex_math_transform(num):\n",
        "    return math.cos(num) * 3 / 9\n",
        "\n",
        "# print(s.applymap(complex_math_transform))"
      ],
      "execution_count": 0,
      "outputs": []
    },
    {
      "cell_type": "markdown",
      "metadata": {
        "id": "miHJyWw39n1O",
        "colab_type": "text"
      },
      "source": [
        "### String Methods"
      ]
    },
    {
      "cell_type": "code",
      "metadata": {
        "id": "PAfdHcKv9ntC",
        "colab_type": "code",
        "colab": {
          "base_uri": "https://localhost:8080/",
          "height": 88
        },
        "outputId": "260b8e2d-c9dd-4832-a73d-a21f5fbe0310"
      },
      "source": [
        "s = cudf.Series(['A', 'B', 'C', 'AaBb', 'Baca', None, 'CABA', 'dog', 'cat'])\n",
        "s.str.lower().head(3)"
      ],
      "execution_count": 20,
      "outputs": [
        {
          "output_type": "execute_result",
          "data": {
            "text/plain": [
              "0    a\n",
              "1    b\n",
              "2    c\n",
              "dtype: object"
            ]
          },
          "metadata": {
            "tags": []
          },
          "execution_count": 20
        }
      ]
    },
    {
      "cell_type": "markdown",
      "metadata": {
        "id": "4nheablw9ni-",
        "colab_type": "text"
      },
      "source": [
        "### Concat"
      ]
    },
    {
      "cell_type": "code",
      "metadata": {
        "id": "qiftVP3K9nYK",
        "colab_type": "code",
        "colab": {
          "base_uri": "https://localhost:8080/",
          "height": 212
        },
        "outputId": "7102f170-eb37-4646-a36b-31289a925b05"
      },
      "source": [
        "s = cudf.Series([1, 2, 3, None, 5])\n",
        "cudf.concat([s, s])"
      ],
      "execution_count": 21,
      "outputs": [
        {
          "output_type": "execute_result",
          "data": {
            "text/plain": [
              "0       1\n",
              "1       2\n",
              "2       3\n",
              "3    null\n",
              "4       5\n",
              "0       1\n",
              "1       2\n",
              "2       3\n",
              "3    null\n",
              "4       5\n",
              "dtype: int64"
            ]
          },
          "metadata": {
            "tags": []
          },
          "execution_count": 21
        }
      ]
    },
    {
      "cell_type": "markdown",
      "metadata": {
        "id": "7WLnbOm2xsLf",
        "colab_type": "text"
      },
      "source": [
        "### Append"
      ]
    },
    {
      "cell_type": "code",
      "metadata": {
        "id": "KpqWLm5jxoUN",
        "colab_type": "code",
        "colab": {
          "base_uri": "https://localhost:8080/",
          "height": 212
        },
        "outputId": "d9f429cb-36ef-439c-c52a-ad18b2bb6483"
      },
      "source": [
        "s.append(s)"
      ],
      "execution_count": 22,
      "outputs": [
        {
          "output_type": "execute_result",
          "data": {
            "text/plain": [
              "0       1\n",
              "1       2\n",
              "2       3\n",
              "3    null\n",
              "4       5\n",
              "0       1\n",
              "1       2\n",
              "2       3\n",
              "3    null\n",
              "4       5\n",
              "dtype: int64"
            ]
          },
          "metadata": {
            "tags": []
          },
          "execution_count": 22
        }
      ]
    },
    {
      "cell_type": "markdown",
      "metadata": {
        "id": "-iP0M7TWyF_K",
        "colab_type": "text"
      },
      "source": [
        "### Grouping"
      ]
    },
    {
      "cell_type": "markdown",
      "metadata": {
        "id": "2ftkKx1IyW-V",
        "colab_type": "text"
      },
      "source": [
        "Like pandas, cuDF supports the Split-Apply-Combine grouping paradigm."
      ]
    },
    {
      "cell_type": "code",
      "metadata": {
        "id": "2CfbcxKFyC_R",
        "colab_type": "code",
        "colab": {
          "base_uri": "https://localhost:8080/",
          "height": 201
        },
        "outputId": "ec739771-e9bc-43c4-e4e6-3d2538f16e5b"
      },
      "source": [
        "cdf['agg_col1'] = [1 if x % 2 == 0 else 0 for x in range(len(cdf))]\n",
        "cdf"
      ],
      "execution_count": 23,
      "outputs": [
        {
          "output_type": "execute_result",
          "data": {
            "text/html": [
              "<div>\n",
              "<style scoped>\n",
              "    .dataframe tbody tr th:only-of-type {\n",
              "        vertical-align: middle;\n",
              "    }\n",
              "\n",
              "    .dataframe tbody tr th {\n",
              "        vertical-align: top;\n",
              "    }\n",
              "\n",
              "    .dataframe thead th {\n",
              "        text-align: right;\n",
              "    }\n",
              "</style>\n",
              "<table border=\"1\" class=\"dataframe\">\n",
              "  <thead>\n",
              "    <tr style=\"text-align: right;\">\n",
              "      <th></th>\n",
              "      <th>a</th>\n",
              "      <th>b</th>\n",
              "      <th>agg_col1</th>\n",
              "    </tr>\n",
              "  </thead>\n",
              "  <tbody>\n",
              "    <tr>\n",
              "      <th>0</th>\n",
              "      <td>0</td>\n",
              "      <td>0.1</td>\n",
              "      <td>1</td>\n",
              "    </tr>\n",
              "    <tr>\n",
              "      <th>1</th>\n",
              "      <td>1</td>\n",
              "      <td>0.2</td>\n",
              "      <td>0</td>\n",
              "    </tr>\n",
              "    <tr>\n",
              "      <th>2</th>\n",
              "      <td>2</td>\n",
              "      <td>null</td>\n",
              "      <td>1</td>\n",
              "    </tr>\n",
              "    <tr>\n",
              "      <th>3</th>\n",
              "      <td>3</td>\n",
              "      <td>0.3</td>\n",
              "      <td>0</td>\n",
              "    </tr>\n",
              "    <tr>\n",
              "      <th>4</th>\n",
              "      <td>4</td>\n",
              "      <td>0.5</td>\n",
              "      <td>1</td>\n",
              "    </tr>\n",
              "  </tbody>\n",
              "</table>\n",
              "</div>"
            ],
            "text/plain": [
              "   a     b  agg_col1\n",
              "0  0   0.1         1\n",
              "1  1   0.2         0\n",
              "2  2  null         1\n",
              "3  3   0.3         0\n",
              "4  4   0.5         1"
            ]
          },
          "metadata": {
            "tags": []
          },
          "execution_count": 23
        }
      ]
    },
    {
      "cell_type": "code",
      "metadata": {
        "id": "im3pTwQ15755",
        "colab_type": "code",
        "colab": {
          "base_uri": "https://localhost:8080/",
          "height": 140
        },
        "outputId": "8a3b4129-0194-43ff-c88b-f8f788953f61"
      },
      "source": [
        "cdf.groupby('agg_col1').sum()"
      ],
      "execution_count": 24,
      "outputs": [
        {
          "output_type": "execute_result",
          "data": {
            "text/html": [
              "<div>\n",
              "<style scoped>\n",
              "    .dataframe tbody tr th:only-of-type {\n",
              "        vertical-align: middle;\n",
              "    }\n",
              "\n",
              "    .dataframe tbody tr th {\n",
              "        vertical-align: top;\n",
              "    }\n",
              "\n",
              "    .dataframe thead th {\n",
              "        text-align: right;\n",
              "    }\n",
              "</style>\n",
              "<table border=\"1\" class=\"dataframe\">\n",
              "  <thead>\n",
              "    <tr style=\"text-align: right;\">\n",
              "      <th></th>\n",
              "      <th>a</th>\n",
              "      <th>b</th>\n",
              "    </tr>\n",
              "    <tr>\n",
              "      <th>agg_col1</th>\n",
              "      <th></th>\n",
              "      <th></th>\n",
              "    </tr>\n",
              "  </thead>\n",
              "  <tbody>\n",
              "    <tr>\n",
              "      <th>0</th>\n",
              "      <td>4</td>\n",
              "      <td>0.5</td>\n",
              "    </tr>\n",
              "    <tr>\n",
              "      <th>1</th>\n",
              "      <td>6</td>\n",
              "      <td>0.6</td>\n",
              "    </tr>\n",
              "  </tbody>\n",
              "</table>\n",
              "</div>"
            ],
            "text/plain": [
              "          a    b\n",
              "agg_col1        \n",
              "0         4  0.5\n",
              "1         6  0.6"
            ]
          },
          "metadata": {
            "tags": []
          },
          "execution_count": 24
        }
      ]
    },
    {
      "cell_type": "code",
      "metadata": {
        "id": "QscE87Or7G1A",
        "colab_type": "code",
        "colab": {
          "base_uri": "https://localhost:8080/",
          "height": 140
        },
        "outputId": "4fefd538-955d-4a2b-bd5d-672b92a73165"
      },
      "source": [
        "cdf.groupby('agg_col1').agg({'a':'max', 'b':'mean'})"
      ],
      "execution_count": 25,
      "outputs": [
        {
          "output_type": "execute_result",
          "data": {
            "text/html": [
              "<div>\n",
              "<style scoped>\n",
              "    .dataframe tbody tr th:only-of-type {\n",
              "        vertical-align: middle;\n",
              "    }\n",
              "\n",
              "    .dataframe tbody tr th {\n",
              "        vertical-align: top;\n",
              "    }\n",
              "\n",
              "    .dataframe thead th {\n",
              "        text-align: right;\n",
              "    }\n",
              "</style>\n",
              "<table border=\"1\" class=\"dataframe\">\n",
              "  <thead>\n",
              "    <tr style=\"text-align: right;\">\n",
              "      <th></th>\n",
              "      <th>a</th>\n",
              "      <th>b</th>\n",
              "    </tr>\n",
              "    <tr>\n",
              "      <th>agg_col1</th>\n",
              "      <th></th>\n",
              "      <th></th>\n",
              "    </tr>\n",
              "  </thead>\n",
              "  <tbody>\n",
              "    <tr>\n",
              "      <th>0</th>\n",
              "      <td>3</td>\n",
              "      <td>0.25</td>\n",
              "    </tr>\n",
              "    <tr>\n",
              "      <th>1</th>\n",
              "      <td>4</td>\n",
              "      <td>0.30</td>\n",
              "    </tr>\n",
              "  </tbody>\n",
              "</table>\n",
              "</div>"
            ],
            "text/plain": [
              "          a     b\n",
              "agg_col1         \n",
              "0         3  0.25\n",
              "1         4  0.30"
            ]
          },
          "metadata": {
            "tags": []
          },
          "execution_count": 25
        }
      ]
    },
    {
      "cell_type": "markdown",
      "metadata": {
        "id": "SbHLAWHxC4-x",
        "colab_type": "text"
      },
      "source": [
        "### Time Series"
      ]
    },
    {
      "cell_type": "code",
      "metadata": {
        "id": "AeU0Z6zIC4nA",
        "colab_type": "code",
        "colab": {
          "base_uri": "https://localhost:8080/",
          "height": 201
        },
        "outputId": "b87a9031-579a-47a7-85c8-bebc00425734"
      },
      "source": [
        "date_df = cudf.DataFrame()\n",
        "date_df['date'] = pd.date_range('11/20/2018', periods=72, freq='D')\n",
        "date_df['value'] = np.random.sample(len(date_df))\n",
        "date_df.head()"
      ],
      "execution_count": 26,
      "outputs": [
        {
          "output_type": "execute_result",
          "data": {
            "text/html": [
              "<div>\n",
              "<style scoped>\n",
              "    .dataframe tbody tr th:only-of-type {\n",
              "        vertical-align: middle;\n",
              "    }\n",
              "\n",
              "    .dataframe tbody tr th {\n",
              "        vertical-align: top;\n",
              "    }\n",
              "\n",
              "    .dataframe thead th {\n",
              "        text-align: right;\n",
              "    }\n",
              "</style>\n",
              "<table border=\"1\" class=\"dataframe\">\n",
              "  <thead>\n",
              "    <tr style=\"text-align: right;\">\n",
              "      <th></th>\n",
              "      <th>date</th>\n",
              "      <th>value</th>\n",
              "    </tr>\n",
              "  </thead>\n",
              "  <tbody>\n",
              "    <tr>\n",
              "      <th>0</th>\n",
              "      <td>2018-11-20</td>\n",
              "      <td>0.109395</td>\n",
              "    </tr>\n",
              "    <tr>\n",
              "      <th>1</th>\n",
              "      <td>2018-11-21</td>\n",
              "      <td>0.840001</td>\n",
              "    </tr>\n",
              "    <tr>\n",
              "      <th>2</th>\n",
              "      <td>2018-11-22</td>\n",
              "      <td>0.442165</td>\n",
              "    </tr>\n",
              "    <tr>\n",
              "      <th>3</th>\n",
              "      <td>2018-11-23</td>\n",
              "      <td>0.839554</td>\n",
              "    </tr>\n",
              "    <tr>\n",
              "      <th>4</th>\n",
              "      <td>2018-11-24</td>\n",
              "      <td>0.548335</td>\n",
              "    </tr>\n",
              "  </tbody>\n",
              "</table>\n",
              "</div>"
            ],
            "text/plain": [
              "        date     value\n",
              "0 2018-11-20  0.109395\n",
              "1 2018-11-21  0.840001\n",
              "2 2018-11-22  0.442165\n",
              "3 2018-11-23  0.839554\n",
              "4 2018-11-24  0.548335"
            ]
          },
          "metadata": {
            "tags": []
          },
          "execution_count": 26
        }
      ]
    },
    {
      "cell_type": "code",
      "metadata": {
        "id": "b60-dD2xHQCb",
        "colab_type": "code",
        "colab": {
          "base_uri": "https://localhost:8080/",
          "height": 201
        },
        "outputId": "02bc33bd-1d99-4f33-d801-236b6741a468"
      },
      "source": [
        "date_df['minute'] = date_df.date.dt.minute\n",
        "date_df.head()"
      ],
      "execution_count": 27,
      "outputs": [
        {
          "output_type": "execute_result",
          "data": {
            "text/html": [
              "<div>\n",
              "<style scoped>\n",
              "    .dataframe tbody tr th:only-of-type {\n",
              "        vertical-align: middle;\n",
              "    }\n",
              "\n",
              "    .dataframe tbody tr th {\n",
              "        vertical-align: top;\n",
              "    }\n",
              "\n",
              "    .dataframe thead th {\n",
              "        text-align: right;\n",
              "    }\n",
              "</style>\n",
              "<table border=\"1\" class=\"dataframe\">\n",
              "  <thead>\n",
              "    <tr style=\"text-align: right;\">\n",
              "      <th></th>\n",
              "      <th>date</th>\n",
              "      <th>value</th>\n",
              "      <th>minute</th>\n",
              "    </tr>\n",
              "  </thead>\n",
              "  <tbody>\n",
              "    <tr>\n",
              "      <th>0</th>\n",
              "      <td>2018-11-20</td>\n",
              "      <td>0.109395</td>\n",
              "      <td>0</td>\n",
              "    </tr>\n",
              "    <tr>\n",
              "      <th>1</th>\n",
              "      <td>2018-11-21</td>\n",
              "      <td>0.840001</td>\n",
              "      <td>0</td>\n",
              "    </tr>\n",
              "    <tr>\n",
              "      <th>2</th>\n",
              "      <td>2018-11-22</td>\n",
              "      <td>0.442165</td>\n",
              "      <td>0</td>\n",
              "    </tr>\n",
              "    <tr>\n",
              "      <th>3</th>\n",
              "      <td>2018-11-23</td>\n",
              "      <td>0.839554</td>\n",
              "      <td>0</td>\n",
              "    </tr>\n",
              "    <tr>\n",
              "      <th>4</th>\n",
              "      <td>2018-11-24</td>\n",
              "      <td>0.548335</td>\n",
              "      <td>0</td>\n",
              "    </tr>\n",
              "  </tbody>\n",
              "</table>\n",
              "</div>"
            ],
            "text/plain": [
              "        date     value  minute\n",
              "0 2018-11-20  0.109395       0\n",
              "1 2018-11-21  0.840001       0\n",
              "2 2018-11-22  0.442165       0\n",
              "3 2018-11-23  0.839554       0\n",
              "4 2018-11-24  0.548335       0"
            ]
          },
          "metadata": {
            "tags": []
          },
          "execution_count": 27
        }
      ]
    },
    {
      "cell_type": "markdown",
      "metadata": {
        "id": "mdccXhxBHnGd",
        "colab_type": "text"
      },
      "source": [
        "### Converting data representation"
      ]
    },
    {
      "cell_type": "markdown",
      "metadata": {
        "id": "UIH-zwroH0_i",
        "colab_type": "text"
      },
      "source": [
        "To Pandas"
      ]
    },
    {
      "cell_type": "code",
      "metadata": {
        "id": "hskaE__PHnAE",
        "colab_type": "code",
        "colab": {
          "base_uri": "https://localhost:8080/",
          "height": 159
        },
        "outputId": "a96e6656-b3df-4dfe-dc10-f5393b6192f8"
      },
      "source": [
        "df.head().to_pandas().info()"
      ],
      "execution_count": 28,
      "outputs": [
        {
          "output_type": "stream",
          "text": [
            "<class 'pandas.core.frame.DataFrame'>\n",
            "RangeIndex: 5 entries, 0 to 4\n",
            "Data columns (total 3 columns):\n",
            "a    5 non-null int64\n",
            "b    5 non-null int64\n",
            "c    5 non-null int64\n",
            "dtypes: int64(3)\n",
            "memory usage: 200.0 bytes\n"
          ],
          "name": "stdout"
        }
      ]
    },
    {
      "cell_type": "markdown",
      "metadata": {
        "id": "Bf73HICfHm5i",
        "colab_type": "text"
      },
      "source": [
        "To Numpy"
      ]
    },
    {
      "cell_type": "code",
      "metadata": {
        "id": "7y5lIXNEHmxb",
        "colab_type": "code",
        "colab": {
          "base_uri": "https://localhost:8080/",
          "height": 70
        },
        "outputId": "62c6b81f-c55f-4d7b-ad22-2cc1ca81330d"
      },
      "source": [
        "df.as_matrix()[:3]"
      ],
      "execution_count": 29,
      "outputs": [
        {
          "output_type": "execute_result",
          "data": {
            "text/plain": [
              "array([[ 0, 19, 30],\n",
              "       [ 1, 18, 31],\n",
              "       [ 2, 17, 32]])"
            ]
          },
          "metadata": {
            "tags": []
          },
          "execution_count": 29
        }
      ]
    },
    {
      "cell_type": "markdown",
      "metadata": {
        "id": "TmBYi0XwHmqG",
        "colab_type": "text"
      },
      "source": [
        "Converting a cuDF series to a numpy ndarray"
      ]
    },
    {
      "cell_type": "code",
      "metadata": {
        "id": "JVxZ4lf5Hmh_",
        "colab_type": "code",
        "colab": {
          "base_uri": "https://localhost:8080/",
          "height": 52
        },
        "outputId": "87b4d6d4-d224-43bf-bdd0-16230339020d"
      },
      "source": [
        "df['a'].to_array()"
      ],
      "execution_count": 30,
      "outputs": [
        {
          "output_type": "execute_result",
          "data": {
            "text/plain": [
              "array([ 0,  1,  2,  3,  4,  5,  6,  7,  8,  9, 10, 11, 12, 13, 14, 15, 16,\n",
              "       17, 18, 19])"
            ]
          },
          "metadata": {
            "tags": []
          },
          "execution_count": 30
        }
      ]
    },
    {
      "cell_type": "markdown",
      "metadata": {
        "id": "QqwhGpwAHmZ0",
        "colab_type": "text"
      },
      "source": [
        "### Getting data In/Out"
      ]
    },
    {
      "cell_type": "markdown",
      "metadata": {
        "id": "wcZPmdsqIuKP",
        "colab_type": "text"
      },
      "source": [
        "Writting to a CSV file, by first sending data to a Pandas dataframe on the host"
      ]
    },
    {
      "cell_type": "code",
      "metadata": {
        "id": "e1et_QSGHmRJ",
        "colab_type": "code",
        "colab": {}
      },
      "source": [
        "if not os.path.exists('example_output'):\n",
        "  os.mkdir('example_output')\n",
        "  \n",
        "df.to_pandas().to_csv('example_output/foo.csv', index=False)"
      ],
      "execution_count": 0,
      "outputs": []
    },
    {
      "cell_type": "markdown",
      "metadata": {
        "id": "GZNX8DUHHmHs",
        "colab_type": "text"
      },
      "source": [
        "Reading from a csv file"
      ]
    },
    {
      "cell_type": "code",
      "metadata": {
        "id": "O40MteMDHl2k",
        "colab_type": "code",
        "colab": {
          "base_uri": "https://localhost:8080/",
          "height": 201
        },
        "outputId": "2fffc3d5-c0bb-4272-c568-bbdded2c983c"
      },
      "source": [
        "df = cudf.read_csv('example_output/foo.csv')\n",
        "df.head()"
      ],
      "execution_count": 32,
      "outputs": [
        {
          "output_type": "execute_result",
          "data": {
            "text/html": [
              "<div>\n",
              "<style scoped>\n",
              "    .dataframe tbody tr th:only-of-type {\n",
              "        vertical-align: middle;\n",
              "    }\n",
              "\n",
              "    .dataframe tbody tr th {\n",
              "        vertical-align: top;\n",
              "    }\n",
              "\n",
              "    .dataframe thead th {\n",
              "        text-align: right;\n",
              "    }\n",
              "</style>\n",
              "<table border=\"1\" class=\"dataframe\">\n",
              "  <thead>\n",
              "    <tr style=\"text-align: right;\">\n",
              "      <th></th>\n",
              "      <th>a</th>\n",
              "      <th>b</th>\n",
              "      <th>c</th>\n",
              "    </tr>\n",
              "  </thead>\n",
              "  <tbody>\n",
              "    <tr>\n",
              "      <th>0</th>\n",
              "      <td>0</td>\n",
              "      <td>19</td>\n",
              "      <td>30</td>\n",
              "    </tr>\n",
              "    <tr>\n",
              "      <th>1</th>\n",
              "      <td>1</td>\n",
              "      <td>18</td>\n",
              "      <td>31</td>\n",
              "    </tr>\n",
              "    <tr>\n",
              "      <th>2</th>\n",
              "      <td>2</td>\n",
              "      <td>17</td>\n",
              "      <td>32</td>\n",
              "    </tr>\n",
              "    <tr>\n",
              "      <th>3</th>\n",
              "      <td>3</td>\n",
              "      <td>16</td>\n",
              "      <td>33</td>\n",
              "    </tr>\n",
              "    <tr>\n",
              "      <th>4</th>\n",
              "      <td>4</td>\n",
              "      <td>15</td>\n",
              "      <td>34</td>\n",
              "    </tr>\n",
              "  </tbody>\n",
              "</table>\n",
              "</div>"
            ],
            "text/plain": [
              "   a   b   c\n",
              "0  0  19  30\n",
              "1  1  18  31\n",
              "2  2  17  32\n",
              "3  3  16  33\n",
              "4  4  15  34"
            ]
          },
          "metadata": {
            "tags": []
          },
          "execution_count": 32
        }
      ]
    },
    {
      "cell_type": "markdown",
      "metadata": {
        "id": "hgIr8HXXOEAt",
        "colab_type": "text"
      },
      "source": [
        "### Performance\n",
        "\n",
        "One of the primary reasons to use cuDF over pandas is performance. For some workflows, the GPU can be much faster than the CPU. "
      ]
    },
    {
      "cell_type": "code",
      "metadata": {
        "id": "3RJlEnxsOD4H",
        "colab_type": "code",
        "colab": {}
      },
      "source": [
        "a = np.random.rand(10000000)"
      ],
      "execution_count": 0,
      "outputs": []
    },
    {
      "cell_type": "code",
      "metadata": {
        "id": "FXaVAilbODld",
        "colab_type": "code",
        "colab": {}
      },
      "source": [
        "pdf = pd.DataFrame()\n",
        "cdf = cudf.DataFrame()"
      ],
      "execution_count": 0,
      "outputs": []
    },
    {
      "cell_type": "code",
      "metadata": {
        "id": "_rAZZbZ2ODPt",
        "colab_type": "code",
        "colab": {
          "base_uri": "https://localhost:8080/",
          "height": 88
        },
        "outputId": "aa805425-ceca-4c3e-9e1a-fe76a9b0573f"
      },
      "source": [
        "%time pdf['a'] = a\n",
        "%time cdf['a'] = a"
      ],
      "execution_count": 35,
      "outputs": [
        {
          "output_type": "stream",
          "text": [
            "CPU times: user 469 ms, sys: 349 ms, total: 817 ms\n",
            "Wall time: 837 ms\n",
            "CPU times: user 20.1 ms, sys: 0 ns, total: 20.1 ms\n",
            "Wall time: 20.2 ms\n"
          ],
          "name": "stdout"
        }
      ]
    },
    {
      "cell_type": "code",
      "metadata": {
        "id": "fmL8RLfvOC0s",
        "colab_type": "code",
        "colab": {
          "base_uri": "https://localhost:8080/",
          "height": 34
        },
        "outputId": "2e097520-4a70-4201-b87a-f697cfde8db2"
      },
      "source": [
        "%%timeit\n",
        "pdf['a'].sum()"
      ],
      "execution_count": 36,
      "outputs": [
        {
          "output_type": "stream",
          "text": [
            "10 loops, best of 3: 59.3 ms per loop\n"
          ],
          "name": "stdout"
        }
      ]
    },
    {
      "cell_type": "code",
      "metadata": {
        "id": "frjRZdJ4PbTj",
        "colab_type": "code",
        "colab": {
          "base_uri": "https://localhost:8080/",
          "height": 34
        },
        "outputId": "32eae9af-e855-4770-91f3-cf148884574e"
      },
      "source": [
        "%%timeit\n",
        "cdf['a'].sum()"
      ],
      "execution_count": 37,
      "outputs": [
        {
          "output_type": "stream",
          "text": [
            "1000 loops, best of 3: 524 µs per loop\n"
          ],
          "name": "stdout"
        }
      ]
    },
    {
      "cell_type": "code",
      "metadata": {
        "id": "AhAW6pSqP84I",
        "colab_type": "code",
        "colab": {
          "base_uri": "https://localhost:8080/",
          "height": 106
        },
        "outputId": "acdc4b22-8f1d-4151-a71f-8342d3cdede6"
      },
      "source": [
        "%time pdf['a'].sum()\n",
        "%time cdf['a'].sum()"
      ],
      "execution_count": 38,
      "outputs": [
        {
          "output_type": "stream",
          "text": [
            "CPU times: user 63.4 ms, sys: 4.04 ms, total: 67.5 ms\n",
            "Wall time: 73.3 ms\n",
            "CPU times: user 1.07 ms, sys: 11 µs, total: 1.08 ms\n",
            "Wall time: 981 µs\n"
          ],
          "name": "stdout"
        },
        {
          "output_type": "execute_result",
          "data": {
            "text/plain": [
              "5000387.719516846"
            ]
          },
          "metadata": {
            "tags": []
          },
          "execution_count": 38
        }
      ]
    },
    {
      "cell_type": "markdown",
      "metadata": {
        "id": "RdxY-tMxQSKX",
        "colab_type": "text"
      },
      "source": [
        "### Use case: Sensor data analytics\n",
        "\n",
        "To get a more realistic sense of how powerful cuDF and GPUs can be, let's imagine you had a fleet of sensors that collect data every millisecond. These sensors could be measuring preasure, temprerature, or something else entirely.\n",
        "\n",
        "Let's image we want to analysize one day's worth of sensor data. We'll assign random values for teh sensor value to use for this example."
      ]
    },
    {
      "cell_type": "code",
      "metadata": {
        "id": "SG3Ys8i6QRig",
        "colab_type": "code",
        "colab": {
          "base_uri": "https://localhost:8080/",
          "height": 212
        },
        "outputId": "6c58131a-48a8-4f79-9c41-2103fbd88044"
      },
      "source": [
        "%%time\n",
        "\n",
        "date_df = pd.DataFrame()\n",
        "date_df['date'] = pd.date_range(start='2019-07-05', end='2019-07-06', freq='ms')\n",
        "date_df['value'] = np.random.sample(len(date_df))\n",
        "\n",
        "date_df['hour'] = date_df.date.dt.hour\n",
        "date_df['minute'] = date_df.date.dt.minute\n",
        "\n",
        "date_df.info()"
      ],
      "execution_count": 39,
      "outputs": [
        {
          "output_type": "stream",
          "text": [
            "<class 'pandas.core.frame.DataFrame'>\n",
            "RangeIndex: 86400001 entries, 0 to 86400000\n",
            "Data columns (total 4 columns):\n",
            "date      datetime64[ns]\n",
            "value     float64\n",
            "hour      int64\n",
            "minute    int64\n",
            "dtypes: datetime64[ns](1), float64(1), int64(2)\n",
            "memory usage: 2.6 GB\n",
            "CPU times: user 11.1 s, sys: 5.4 s, total: 16.5 s\n",
            "Wall time: 16.5 s\n"
          ],
          "name": "stdout"
        }
      ]
    },
    {
      "cell_type": "code",
      "metadata": {
        "id": "Vj_ajATzQQ3P",
        "colab_type": "code",
        "colab": {
          "base_uri": "https://localhost:8080/",
          "height": 201
        },
        "outputId": "cb1c0e54-59fb-4046-b4f4-790995db9cc4"
      },
      "source": [
        "date_df.head(5)"
      ],
      "execution_count": 40,
      "outputs": [
        {
          "output_type": "execute_result",
          "data": {
            "text/html": [
              "<div>\n",
              "<style scoped>\n",
              "    .dataframe tbody tr th:only-of-type {\n",
              "        vertical-align: middle;\n",
              "    }\n",
              "\n",
              "    .dataframe tbody tr th {\n",
              "        vertical-align: top;\n",
              "    }\n",
              "\n",
              "    .dataframe thead th {\n",
              "        text-align: right;\n",
              "    }\n",
              "</style>\n",
              "<table border=\"1\" class=\"dataframe\">\n",
              "  <thead>\n",
              "    <tr style=\"text-align: right;\">\n",
              "      <th></th>\n",
              "      <th>date</th>\n",
              "      <th>value</th>\n",
              "      <th>hour</th>\n",
              "      <th>minute</th>\n",
              "    </tr>\n",
              "  </thead>\n",
              "  <tbody>\n",
              "    <tr>\n",
              "      <th>0</th>\n",
              "      <td>2019-07-05 00:00:00.000</td>\n",
              "      <td>0.044373</td>\n",
              "      <td>0</td>\n",
              "      <td>0</td>\n",
              "    </tr>\n",
              "    <tr>\n",
              "      <th>1</th>\n",
              "      <td>2019-07-05 00:00:00.001</td>\n",
              "      <td>0.345961</td>\n",
              "      <td>0</td>\n",
              "      <td>0</td>\n",
              "    </tr>\n",
              "    <tr>\n",
              "      <th>2</th>\n",
              "      <td>2019-07-05 00:00:00.002</td>\n",
              "      <td>0.398337</td>\n",
              "      <td>0</td>\n",
              "      <td>0</td>\n",
              "    </tr>\n",
              "    <tr>\n",
              "      <th>3</th>\n",
              "      <td>2019-07-05 00:00:00.003</td>\n",
              "      <td>0.086970</td>\n",
              "      <td>0</td>\n",
              "      <td>0</td>\n",
              "    </tr>\n",
              "    <tr>\n",
              "      <th>4</th>\n",
              "      <td>2019-07-05 00:00:00.004</td>\n",
              "      <td>0.188798</td>\n",
              "      <td>0</td>\n",
              "      <td>0</td>\n",
              "    </tr>\n",
              "  </tbody>\n",
              "</table>\n",
              "</div>"
            ],
            "text/plain": [
              "                     date     value  hour  minute\n",
              "0 2019-07-05 00:00:00.000  0.044373     0       0\n",
              "1 2019-07-05 00:00:00.001  0.345961     0       0\n",
              "2 2019-07-05 00:00:00.002  0.398337     0       0\n",
              "3 2019-07-05 00:00:00.003  0.086970     0       0\n",
              "4 2019-07-05 00:00:00.004  0.188798     0       0"
            ]
          },
          "metadata": {
            "tags": []
          },
          "execution_count": 40
        }
      ]
    },
    {
      "cell_type": "code",
      "metadata": {
        "id": "tZtNi-Hkbyq9",
        "colab_type": "code",
        "colab": {
          "base_uri": "https://localhost:8080/",
          "height": 267
        },
        "outputId": "846d8d6e-e85d-4c71-df91-2c0597ac51fd"
      },
      "source": [
        "%time results = date_df.groupby(['hour', 'minute']).agg({'value': 'max'})\n",
        "results.head()"
      ],
      "execution_count": 41,
      "outputs": [
        {
          "output_type": "stream",
          "text": [
            "CPU times: user 2.78 s, sys: 13.5 ms, total: 2.8 s\n",
            "Wall time: 2.82 s\n"
          ],
          "name": "stdout"
        },
        {
          "output_type": "execute_result",
          "data": {
            "text/html": [
              "<div>\n",
              "<style scoped>\n",
              "    .dataframe tbody tr th:only-of-type {\n",
              "        vertical-align: middle;\n",
              "    }\n",
              "\n",
              "    .dataframe tbody tr th {\n",
              "        vertical-align: top;\n",
              "    }\n",
              "\n",
              "    .dataframe thead th {\n",
              "        text-align: right;\n",
              "    }\n",
              "</style>\n",
              "<table border=\"1\" class=\"dataframe\">\n",
              "  <thead>\n",
              "    <tr style=\"text-align: right;\">\n",
              "      <th></th>\n",
              "      <th></th>\n",
              "      <th>value</th>\n",
              "    </tr>\n",
              "    <tr>\n",
              "      <th>hour</th>\n",
              "      <th>minute</th>\n",
              "      <th></th>\n",
              "    </tr>\n",
              "  </thead>\n",
              "  <tbody>\n",
              "    <tr>\n",
              "      <th rowspan=\"5\" valign=\"top\">0</th>\n",
              "      <th>0</th>\n",
              "      <td>0.999991</td>\n",
              "    </tr>\n",
              "    <tr>\n",
              "      <th>1</th>\n",
              "      <td>0.999976</td>\n",
              "    </tr>\n",
              "    <tr>\n",
              "      <th>2</th>\n",
              "      <td>0.999995</td>\n",
              "    </tr>\n",
              "    <tr>\n",
              "      <th>3</th>\n",
              "      <td>0.999974</td>\n",
              "    </tr>\n",
              "    <tr>\n",
              "      <th>4</th>\n",
              "      <td>0.999985</td>\n",
              "    </tr>\n",
              "  </tbody>\n",
              "</table>\n",
              "</div>"
            ],
            "text/plain": [
              "                value\n",
              "hour minute          \n",
              "0    0       0.999991\n",
              "     1       0.999976\n",
              "     2       0.999995\n",
              "     3       0.999974\n",
              "     4       0.999985"
            ]
          },
          "metadata": {
            "tags": []
          },
          "execution_count": 41
        }
      ]
    },
    {
      "cell_type": "code",
      "metadata": {
        "id": "bH20kAQ4byHG",
        "colab_type": "code",
        "colab": {
          "base_uri": "https://localhost:8080/",
          "height": 70
        },
        "outputId": "fc756d74-3981-4c2a-e022-78c1ff3c4a68"
      },
      "source": [
        "%%time\n",
        "\n",
        "cu_df = cudf.DataFrame()\n",
        "cu_df['date'] = pd.date_range(start='2019-07-05', end='2019-07-06', freq='ms')\n",
        "cu_df['value'] = np.random.sample(len(date_df))\n",
        "\n",
        "cu_df['hour'] = cu_df.date.dt.hour\n",
        "cu_df['minute'] = cu_df.date.dt.minute\n",
        "cu_df['second'] = cu_df.date.dt.second\n",
        "\n",
        "print(cu_df.shape)"
      ],
      "execution_count": 42,
      "outputs": [
        {
          "output_type": "stream",
          "text": [
            "(86400001, 5)\n",
            "CPU times: user 1.23 s, sys: 21.5 ms, total: 1.25 s\n",
            "Wall time: 1.26 s\n"
          ],
          "name": "stdout"
        }
      ]
    },
    {
      "cell_type": "code",
      "metadata": {
        "id": "E10nDUCkdQ2y",
        "colab_type": "code",
        "colab": {
          "base_uri": "https://localhost:8080/",
          "height": 267
        },
        "outputId": "fb850f17-dd09-4737-b01a-d5f19b1ff7bf"
      },
      "source": [
        "%time results = cu_df.groupby(['hour', 'minute', 'second']).agg({'value': 'max'})\n",
        "results.head()"
      ],
      "execution_count": 43,
      "outputs": [
        {
          "output_type": "stream",
          "text": [
            "CPU times: user 82.3 ms, sys: 62.4 ms, total: 145 ms\n",
            "Wall time: 147 ms\n"
          ],
          "name": "stdout"
        },
        {
          "output_type": "execute_result",
          "data": {
            "text/html": [
              "<div>\n",
              "<style scoped>\n",
              "    .dataframe tbody tr th:only-of-type {\n",
              "        vertical-align: middle;\n",
              "    }\n",
              "\n",
              "    .dataframe tbody tr th {\n",
              "        vertical-align: top;\n",
              "    }\n",
              "\n",
              "    .dataframe thead th {\n",
              "        text-align: right;\n",
              "    }\n",
              "</style>\n",
              "<table border=\"1\" class=\"dataframe\">\n",
              "  <thead>\n",
              "    <tr style=\"text-align: right;\">\n",
              "      <th></th>\n",
              "      <th></th>\n",
              "      <th></th>\n",
              "      <th>value</th>\n",
              "    </tr>\n",
              "    <tr>\n",
              "      <th>hour</th>\n",
              "      <th>minute</th>\n",
              "      <th>second</th>\n",
              "      <th></th>\n",
              "    </tr>\n",
              "  </thead>\n",
              "  <tbody>\n",
              "    <tr>\n",
              "      <th rowspan=\"5\" valign=\"top\">0</th>\n",
              "      <th rowspan=\"5\" valign=\"top\">0</th>\n",
              "      <th>0</th>\n",
              "      <td>0.999488</td>\n",
              "    </tr>\n",
              "    <tr>\n",
              "      <th>1</th>\n",
              "      <td>0.999413</td>\n",
              "    </tr>\n",
              "    <tr>\n",
              "      <th>2</th>\n",
              "      <td>0.999250</td>\n",
              "    </tr>\n",
              "    <tr>\n",
              "      <th>3</th>\n",
              "      <td>0.999582</td>\n",
              "    </tr>\n",
              "    <tr>\n",
              "      <th>4</th>\n",
              "      <td>0.998248</td>\n",
              "    </tr>\n",
              "  </tbody>\n",
              "</table>\n",
              "</div>"
            ],
            "text/plain": [
              "                       value\n",
              "hour minute second          \n",
              "0    0      0       0.999488\n",
              "            1       0.999413\n",
              "            2       0.999250\n",
              "            3       0.999582\n",
              "            4       0.998248"
            ]
          },
          "metadata": {
            "tags": []
          },
          "execution_count": 43
        }
      ]
    },
    {
      "cell_type": "markdown",
      "metadata": {
        "id": "HE-am5SntmlE",
        "colab_type": "text"
      },
      "source": [
        "#[cuDF](https://github.com/rapidsai/cudf)#\n",
        "\n",
        "Load a dataset into a GPU memory resident DataFrame and perform a basic calculation.\n",
        "\n",
        "Everything from CSV parsing to calculating tip percentage and computing a grouped average is done on the GPU."
      ]
    },
    {
      "cell_type": "code",
      "metadata": {
        "id": "SQWxtDETtqnY",
        "colab_type": "code",
        "outputId": "1d63215e-c4fd-4284-d4ac-1bd40bf9319c",
        "colab": {
          "base_uri": "https://localhost:8080/",
          "height": 156
        }
      },
      "source": [
        "tips_df = cudf.read_csv(\"https://github.com/plotly/datasets/raw/master/tips.csv\")\n",
        "tips_df['tip_percentage'] = tips_df['tip']/tips_df['total_bill']*100\n",
        "\n",
        "# display average tip by dining party size\n",
        "print(tips_df.groupby('size').tip_percentage.mean())"
      ],
      "execution_count": 0,
      "outputs": [
        {
          "output_type": "stream",
          "text": [
            "size\n",
            "1    21.729202\n",
            "2    16.571919\n",
            "3    15.215685\n",
            "4    14.594901\n",
            "5    14.149549\n",
            "6    15.622920\n",
            "Name: tip_percentage, dtype: float64\n"
          ],
          "name": "stdout"
        }
      ]
    },
    {
      "cell_type": "code",
      "metadata": {
        "id": "oPv95So-ahTs",
        "colab_type": "code",
        "colab": {}
      },
      "source": [
        ""
      ],
      "execution_count": 0,
      "outputs": []
    },
    {
      "cell_type": "markdown",
      "metadata": {
        "id": "uOkjdCMvtuU0",
        "colab_type": "text"
      },
      "source": [
        "#[cuML](https://github.com/rapidsai/cuml)\n",
        "\n",
        "This snippet does label and one-hot encoding of the tips dataset's categorical features and applies standard scaling to all columns. All operations run on the GPU."
      ]
    },
    {
      "cell_type": "code",
      "metadata": {
        "id": "U3mAVL76CB4l",
        "colab_type": "code",
        "outputId": "f0d32cc4-97b9-4a86-f1da-3bdeca7c7f80",
        "colab": {
          "base_uri": "https://localhost:8080/",
          "height": 202
        }
      },
      "source": [
        "import cuml\n",
        "\n",
        "# label encode the categorical features of the tips dataset\n",
        "for col in ['sex', 'smoker', 'day', 'time']:\n",
        "  le = cuml.preprocessing.LabelEncoder()\n",
        "  tips_df[col] = le.fit_transform(tips_df[col])\n",
        "\n",
        "# day and time are non-binary categorical features, one-hot-encode them\n",
        "tips_df = cudf.get_dummies(tips_df, columns=['day', 'time'])\n",
        "\n",
        "# do standard scaling on all columns\n",
        "for col in tips_df.columns:\n",
        "  tips_df[col] = (tips_df[col] - tips_df[col].mean())/tips_df[col].std()\n",
        "\n",
        "# inspect the results\n",
        "tips_df.head().to_pandas()"
      ],
      "execution_count": 0,
      "outputs": [
        {
          "output_type": "execute_result",
          "data": {
            "text/html": [
              "<div>\n",
              "<style scoped>\n",
              "    .dataframe tbody tr th:only-of-type {\n",
              "        vertical-align: middle;\n",
              "    }\n",
              "\n",
              "    .dataframe tbody tr th {\n",
              "        vertical-align: top;\n",
              "    }\n",
              "\n",
              "    .dataframe thead th {\n",
              "        text-align: right;\n",
              "    }\n",
              "</style>\n",
              "<table border=\"1\" class=\"dataframe\">\n",
              "  <thead>\n",
              "    <tr style=\"text-align: right;\">\n",
              "      <th></th>\n",
              "      <th>total_bill</th>\n",
              "      <th>tip</th>\n",
              "      <th>sex</th>\n",
              "      <th>smoker</th>\n",
              "      <th>size</th>\n",
              "      <th>tip_percentage</th>\n",
              "      <th>day_0</th>\n",
              "      <th>day_1</th>\n",
              "      <th>day_2</th>\n",
              "      <th>day_3</th>\n",
              "      <th>time_0</th>\n",
              "      <th>time_1</th>\n",
              "    </tr>\n",
              "  </thead>\n",
              "  <tbody>\n",
              "    <tr>\n",
              "      <th>0</th>\n",
              "      <td>-0.314066</td>\n",
              "      <td>-1.436993</td>\n",
              "      <td>-1.340598</td>\n",
              "      <td>-0.783179</td>\n",
              "      <td>-0.598961</td>\n",
              "      <td>-1.659607</td>\n",
              "      <td>-0.289997</td>\n",
              "      <td>-0.742879</td>\n",
              "      <td>1.483734</td>\n",
              "      <td>-0.582463</td>\n",
              "      <td>0.620307</td>\n",
              "      <td>-0.620307</td>\n",
              "    </tr>\n",
              "    <tr>\n",
              "      <th>1</th>\n",
              "      <td>-1.061054</td>\n",
              "      <td>-0.967217</td>\n",
              "      <td>0.742879</td>\n",
              "      <td>-0.783179</td>\n",
              "      <td>0.452453</td>\n",
              "      <td>-0.004274</td>\n",
              "      <td>-0.289997</td>\n",
              "      <td>-0.742879</td>\n",
              "      <td>1.483734</td>\n",
              "      <td>-0.582463</td>\n",
              "      <td>0.620307</td>\n",
              "      <td>-0.620307</td>\n",
              "    </tr>\n",
              "    <tr>\n",
              "      <th>2</th>\n",
              "      <td>0.137497</td>\n",
              "      <td>0.362610</td>\n",
              "      <td>0.742879</td>\n",
              "      <td>-0.783179</td>\n",
              "      <td>0.452453</td>\n",
              "      <td>0.094720</td>\n",
              "      <td>-0.289997</td>\n",
              "      <td>-0.742879</td>\n",
              "      <td>1.483734</td>\n",
              "      <td>-0.582463</td>\n",
              "      <td>0.620307</td>\n",
              "      <td>-0.620307</td>\n",
              "    </tr>\n",
              "    <tr>\n",
              "      <th>3</th>\n",
              "      <td>0.437416</td>\n",
              "      <td>0.225291</td>\n",
              "      <td>0.742879</td>\n",
              "      <td>-0.783179</td>\n",
              "      <td>-0.598961</td>\n",
              "      <td>-0.344218</td>\n",
              "      <td>-0.289997</td>\n",
              "      <td>-0.742879</td>\n",
              "      <td>1.483734</td>\n",
              "      <td>-0.582463</td>\n",
              "      <td>0.620307</td>\n",
              "      <td>-0.620307</td>\n",
              "    </tr>\n",
              "    <tr>\n",
              "      <th>4</th>\n",
              "      <td>0.539635</td>\n",
              "      <td>0.442111</td>\n",
              "      <td>-1.340598</td>\n",
              "      <td>-0.783179</td>\n",
              "      <td>1.503867</td>\n",
              "      <td>-0.229154</td>\n",
              "      <td>-0.289997</td>\n",
              "      <td>-0.742879</td>\n",
              "      <td>1.483734</td>\n",
              "      <td>-0.582463</td>\n",
              "      <td>0.620307</td>\n",
              "      <td>-0.620307</td>\n",
              "    </tr>\n",
              "  </tbody>\n",
              "</table>\n",
              "</div>"
            ],
            "text/plain": [
              "   total_bill       tip       sex  ...     day_3    time_0    time_1\n",
              "0   -0.314066 -1.436993 -1.340598  ... -0.582463  0.620307 -0.620307\n",
              "1   -1.061054 -0.967217  0.742879  ... -0.582463  0.620307 -0.620307\n",
              "2    0.137497  0.362610  0.742879  ... -0.582463  0.620307 -0.620307\n",
              "3    0.437416  0.225291  0.742879  ... -0.582463  0.620307 -0.620307\n",
              "4    0.539635  0.442111 -1.340598  ... -0.582463  0.620307 -0.620307\n",
              "\n",
              "[5 rows x 12 columns]"
            ]
          },
          "metadata": {
            "tags": []
          },
          "execution_count": 5
        }
      ]
    },
    {
      "cell_type": "markdown",
      "metadata": {
        "id": "P9AaiYyGEU2i",
        "colab_type": "text"
      },
      "source": [
        "## K-Nearest Neighbors\n",
        "Lastly, create a K-Nearest Neighbors model and find the 5 most similar tippers."
      ]
    },
    {
      "cell_type": "code",
      "metadata": {
        "id": "VKLgolqQ-z_I",
        "colab_type": "code",
        "outputId": "eb018bb3-ad0d-40e1-b2b1-beb95eb7d20b",
        "colab": {
          "base_uri": "https://localhost:8080/",
          "height": 202
        }
      },
      "source": [
        "# create a KNN model\n",
        "knn = cuml.NearestNeighbors()\n",
        "knn.fit(tips_df)\n",
        "\n",
        "# find 5 nearest neighbors\n",
        "k = 5\n",
        "distances_df, indices_df = knn.kneighbors(tips_df, k)\n",
        "indices_df.head().to_pandas()"
      ],
      "execution_count": 0,
      "outputs": [
        {
          "output_type": "execute_result",
          "data": {
            "text/html": [
              "<div>\n",
              "<style scoped>\n",
              "    .dataframe tbody tr th:only-of-type {\n",
              "        vertical-align: middle;\n",
              "    }\n",
              "\n",
              "    .dataframe tbody tr th {\n",
              "        vertical-align: top;\n",
              "    }\n",
              "\n",
              "    .dataframe thead th {\n",
              "        text-align: right;\n",
              "    }\n",
              "</style>\n",
              "<table border=\"1\" class=\"dataframe\">\n",
              "  <thead>\n",
              "    <tr style=\"text-align: right;\">\n",
              "      <th></th>\n",
              "      <th>0</th>\n",
              "      <th>1</th>\n",
              "      <th>2</th>\n",
              "      <th>3</th>\n",
              "      <th>4</th>\n",
              "    </tr>\n",
              "  </thead>\n",
              "  <tbody>\n",
              "    <tr>\n",
              "      <th>0</th>\n",
              "      <td>0</td>\n",
              "      <td>162</td>\n",
              "      <td>16</td>\n",
              "      <td>12</td>\n",
              "      <td>166</td>\n",
              "    </tr>\n",
              "    <tr>\n",
              "      <th>1</th>\n",
              "      <td>1</td>\n",
              "      <td>53</td>\n",
              "      <td>10</td>\n",
              "      <td>152</td>\n",
              "      <td>151</td>\n",
              "    </tr>\n",
              "    <tr>\n",
              "      <th>2</th>\n",
              "      <td>2</td>\n",
              "      <td>165</td>\n",
              "      <td>152</td>\n",
              "      <td>160</td>\n",
              "      <td>55</td>\n",
              "    </tr>\n",
              "    <tr>\n",
              "      <th>3</th>\n",
              "      <td>3</td>\n",
              "      <td>45</td>\n",
              "      <td>113</td>\n",
              "      <td>49</td>\n",
              "      <td>55</td>\n",
              "    </tr>\n",
              "    <tr>\n",
              "      <th>4</th>\n",
              "      <td>4</td>\n",
              "      <td>157</td>\n",
              "      <td>114</td>\n",
              "      <td>11</td>\n",
              "      <td>52</td>\n",
              "    </tr>\n",
              "  </tbody>\n",
              "</table>\n",
              "</div>"
            ],
            "text/plain": [
              "   0    1    2    3    4\n",
              "0  0  162   16   12  166\n",
              "1  1   53   10  152  151\n",
              "2  2  165  152  160   55\n",
              "3  3   45  113   49   55\n",
              "4  4  157  114   11   52"
            ]
          },
          "metadata": {
            "tags": []
          },
          "execution_count": 9
        }
      ]
    },
    {
      "cell_type": "markdown",
      "metadata": {
        "id": "DPYE_RTHMKBD",
        "colab_type": "text"
      },
      "source": [
        "##Determining Feature Importance with XGBoost\n",
        "\n",
        "Lastly, we can use [XGBoost](https://github.com/dmlc/xgboost)'s GPU accelerated decision trees to determine which features have the greatest impact on tip percentage."
      ]
    },
    {
      "cell_type": "code",
      "metadata": {
        "id": "sjZTA8pRL8Bh",
        "colab_type": "code",
        "outputId": "875a8ae0-0155-48a5-db00-1b5d004fca5c",
        "colab": {
          "base_uri": "https://localhost:8080/",
          "height": 519
        }
      },
      "source": [
        "import xgboost as xgb\n",
        "\n",
        "params = {\n",
        "  'n_gpus':       1,\n",
        "  'tree_method':  'gpu_hist',\n",
        "  'objective':    'reg:squarederror'\n",
        "}\n",
        "\n",
        "X_feature_names = [\"total_bill\", \"sex\", \"smoker\", \"size\",\n",
        "                   \"day_0\",    \"day_1\",    \"day_2\", \"day_3\",\n",
        "                   \"time_0\",    \"time_1\"]\n",
        "\n",
        "X_train = tips_df[X_feature_names]\n",
        "y_train = cudf.DataFrame({'y': tips_df['tip_percentage']})\n",
        "\n",
        "# Convert to XGBoost's DMatrix format and train the model\n",
        "dmatrix_train = xgb.DMatrix(X_train,\n",
        "                            label=y_train,\n",
        "                            feature_names=X_train.columns)\n",
        "\n",
        "bst = xgb.train(params, dmatrix_train)\n",
        "\n",
        "# See what data is the most important for predicting % tipped\n",
        "xgb.plot_importance(bst)"
      ],
      "execution_count": 0,
      "outputs": [
        {
          "output_type": "error",
          "ename": "TypeError",
          "evalue": "ignored",
          "traceback": [
            "\u001b[0;31m---------------------------------------------------------------------------\u001b[0m",
            "\u001b[0;31mValueError\u001b[0m                                Traceback (most recent call last)",
            "\u001b[0;32m/usr/local/lib/python3.6/dist-packages/scipy/sparse/compressed.py\u001b[0m in \u001b[0;36m__init__\u001b[0;34m(self, arg1, shape, dtype, copy)\u001b[0m\n\u001b[1;32m     82\u001b[0m             \u001b[0;32mtry\u001b[0m\u001b[0;34m:\u001b[0m\u001b[0;34m\u001b[0m\u001b[0;34m\u001b[0m\u001b[0m\n\u001b[0;32m---> 83\u001b[0;31m                 \u001b[0marg1\u001b[0m \u001b[0;34m=\u001b[0m \u001b[0mnp\u001b[0m\u001b[0;34m.\u001b[0m\u001b[0masarray\u001b[0m\u001b[0;34m(\u001b[0m\u001b[0marg1\u001b[0m\u001b[0;34m)\u001b[0m\u001b[0;34m\u001b[0m\u001b[0;34m\u001b[0m\u001b[0m\n\u001b[0m\u001b[1;32m     84\u001b[0m             \u001b[0;32mexcept\u001b[0m \u001b[0mException\u001b[0m\u001b[0;34m:\u001b[0m\u001b[0;34m\u001b[0m\u001b[0;34m\u001b[0m\u001b[0m\n",
            "\u001b[0;32m/usr/local/lib/python3.6/dist-packages/numpy/core/numeric.py\u001b[0m in \u001b[0;36masarray\u001b[0;34m(a, dtype, order)\u001b[0m\n\u001b[1;32m    537\u001b[0m     \"\"\"\n\u001b[0;32m--> 538\u001b[0;31m     \u001b[0;32mreturn\u001b[0m \u001b[0marray\u001b[0m\u001b[0;34m(\u001b[0m\u001b[0ma\u001b[0m\u001b[0;34m,\u001b[0m \u001b[0mdtype\u001b[0m\u001b[0;34m,\u001b[0m \u001b[0mcopy\u001b[0m\u001b[0;34m=\u001b[0m\u001b[0;32mFalse\u001b[0m\u001b[0;34m,\u001b[0m \u001b[0morder\u001b[0m\u001b[0;34m=\u001b[0m\u001b[0morder\u001b[0m\u001b[0;34m)\u001b[0m\u001b[0;34m\u001b[0m\u001b[0;34m\u001b[0m\u001b[0m\n\u001b[0m\u001b[1;32m    539\u001b[0m \u001b[0;34m\u001b[0m\u001b[0m\n",
            "\u001b[0;31mValueError\u001b[0m: cannot copy sequence with size 244 to array axis with dimension 10",
            "\nDuring handling of the above exception, another exception occurred:\n",
            "\u001b[0;31mValueError\u001b[0m                                Traceback (most recent call last)",
            "\u001b[0;32m/usr/local/lib/python3.6/site-packages/xgboost/core.py\u001b[0m in \u001b[0;36m__init__\u001b[0;34m(self, data, label, missing, weight, silent, feature_names, feature_types, nthread)\u001b[0m\n\u001b[1;32m    409\u001b[0m             \u001b[0;32mtry\u001b[0m\u001b[0;34m:\u001b[0m\u001b[0;34m\u001b[0m\u001b[0;34m\u001b[0m\u001b[0m\n\u001b[0;32m--> 410\u001b[0;31m                 \u001b[0mcsr\u001b[0m \u001b[0;34m=\u001b[0m \u001b[0mscipy\u001b[0m\u001b[0;34m.\u001b[0m\u001b[0msparse\u001b[0m\u001b[0;34m.\u001b[0m\u001b[0mcsr_matrix\u001b[0m\u001b[0;34m(\u001b[0m\u001b[0mdata\u001b[0m\u001b[0;34m)\u001b[0m\u001b[0;34m\u001b[0m\u001b[0;34m\u001b[0m\u001b[0m\n\u001b[0m\u001b[1;32m    411\u001b[0m                 \u001b[0mself\u001b[0m\u001b[0;34m.\u001b[0m\u001b[0m_init_from_csr\u001b[0m\u001b[0;34m(\u001b[0m\u001b[0mcsr\u001b[0m\u001b[0;34m)\u001b[0m\u001b[0;34m\u001b[0m\u001b[0;34m\u001b[0m\u001b[0m\n",
            "\u001b[0;32m/usr/local/lib/python3.6/dist-packages/scipy/sparse/compressed.py\u001b[0m in \u001b[0;36m__init__\u001b[0;34m(self, arg1, shape, dtype, copy)\u001b[0m\n\u001b[1;32m     85\u001b[0m                 raise ValueError(\"unrecognized {}_matrix constructor usage\"\n\u001b[0;32m---> 86\u001b[0;31m                                  \"\".format(self.format))\n\u001b[0m\u001b[1;32m     87\u001b[0m             \u001b[0;32mfrom\u001b[0m \u001b[0;34m.\u001b[0m\u001b[0mcoo\u001b[0m \u001b[0;32mimport\u001b[0m \u001b[0mcoo_matrix\u001b[0m\u001b[0;34m\u001b[0m\u001b[0;34m\u001b[0m\u001b[0m\n",
            "\u001b[0;31mValueError\u001b[0m: unrecognized csr_matrix constructor usage",
            "\nDuring handling of the above exception, another exception occurred:\n",
            "\u001b[0;31mTypeError\u001b[0m                                 Traceback (most recent call last)",
            "\u001b[0;32m<ipython-input-10-e1728a9610a9>\u001b[0m in \u001b[0;36m<module>\u001b[0;34m()\u001b[0m\n\u001b[1;32m     17\u001b[0m dmatrix_train = xgb.DMatrix(X_train,\n\u001b[1;32m     18\u001b[0m                             \u001b[0mlabel\u001b[0m\u001b[0;34m=\u001b[0m\u001b[0my_train\u001b[0m\u001b[0;34m,\u001b[0m\u001b[0;34m\u001b[0m\u001b[0;34m\u001b[0m\u001b[0m\n\u001b[0;32m---> 19\u001b[0;31m                             feature_names=X_train.columns)\n\u001b[0m\u001b[1;32m     20\u001b[0m \u001b[0;34m\u001b[0m\u001b[0m\n\u001b[1;32m     21\u001b[0m \u001b[0mbst\u001b[0m \u001b[0;34m=\u001b[0m \u001b[0mxgb\u001b[0m\u001b[0;34m.\u001b[0m\u001b[0mtrain\u001b[0m\u001b[0;34m(\u001b[0m\u001b[0mparams\u001b[0m\u001b[0;34m,\u001b[0m \u001b[0mdmatrix_train\u001b[0m\u001b[0;34m)\u001b[0m\u001b[0;34m\u001b[0m\u001b[0;34m\u001b[0m\u001b[0m\n",
            "\u001b[0;32m/usr/local/lib/python3.6/site-packages/xgboost/core.py\u001b[0m in \u001b[0;36m__init__\u001b[0;34m(self, data, label, missing, weight, silent, feature_names, feature_types, nthread)\u001b[0m\n\u001b[1;32m    412\u001b[0m             \u001b[0;32mexcept\u001b[0m\u001b[0;34m:\u001b[0m\u001b[0;34m\u001b[0m\u001b[0;34m\u001b[0m\u001b[0m\n\u001b[1;32m    413\u001b[0m                 raise TypeError('can not initialize DMatrix from'\n\u001b[0;32m--> 414\u001b[0;31m                                 ' {}'.format(type(data).__name__))\n\u001b[0m\u001b[1;32m    415\u001b[0m \u001b[0;34m\u001b[0m\u001b[0m\n\u001b[1;32m    416\u001b[0m         \u001b[0;32mif\u001b[0m \u001b[0mlabel\u001b[0m \u001b[0;32mis\u001b[0m \u001b[0;32mnot\u001b[0m \u001b[0;32mNone\u001b[0m\u001b[0;34m:\u001b[0m\u001b[0;34m\u001b[0m\u001b[0;34m\u001b[0m\u001b[0m\n",
            "\u001b[0;31mTypeError\u001b[0m: can not initialize DMatrix from DataFrame"
          ]
        }
      ]
    },
    {
      "cell_type": "markdown",
      "metadata": {
        "id": "HdxlltBFuh65",
        "colab_type": "text"
      },
      "source": [
        "#[cuGraph](https://github.com/rapidsai/cugraph)\n",
        "\n",
        "Like the cuDF snippet above, this code loads a CSV file from a URL, then dives into cugraph to computes the PageRank score for each vertex.  Those scores are then used as weight to compute the Weighted Jaccard Similarity which is used to find the most common nodes in the Epinions dataset."
      ]
    },
    {
      "cell_type": "code",
      "metadata": {
        "id": "iGOXOoCzulnP",
        "colab_type": "code",
        "outputId": "6b0c05dd-27c2-4526-e585-0ed41c23947f",
        "colab": {
          "base_uri": "https://localhost:8080/",
          "height": 52
        }
      },
      "source": [
        "import cugraph, cudf\n",
        "import gzip, io, requests\n",
        "from collections import OrderedDict\n",
        "\n",
        "# download some data\n",
        "url=\"https://snap.stanford.edu/data/soc-Epinions1.txt.gz\"\n",
        "content = gzip.decompress(requests.get(url).content).decode()\n",
        "\n",
        "cols = [\"src\", \"dst\"]\n",
        "dtypes = OrderedDict([ (\"src\", \"int32\"), (\"dst\", \"int32\")])\n",
        "# read the CSV data from memory buffer\n",
        "gdf = cudf.read_csv(io.StringIO(content), names=cols, delimiter='\\t', dtype=list(dtypes.values()), skiprows=4)\n",
        "\n",
        "# create a Graph \n",
        "G = cugraph.Graph()\n",
        "G.add_edge_list(gdf[\"src\"], gdf[\"dst\"])\n",
        "\n",
        "# Call Pagerank on the graph to get weights to use:\n",
        "pr_df = cugraph.pagerank(G)\n",
        "\n",
        "# find the max page rank value - there could be more than one with the max score\n",
        "pr_max = pr_df['pagerank'].max()\n",
        "\n",
        "pr_filtered = pr_df.query('pagerank >= @pr_max')\n",
        "    \n",
        "for i in range(len(pr_filtered)):\n",
        "    print(\"PageRank: top vertex is \" + str(pr_filtered['vertex'][i]) + \n",
        "        \" with score of \" + str(pr_filtered['pagerank'][i]))  \n",
        "\n",
        "# Call weighted Jaccard using the Pagerank scores as weights:\n",
        "# https://github.com/rapidsai/cugraph/issues/398\n",
        "df = cugraph.jaccard_w(G, pr_df['pagerank'])\n",
        "\n",
        "max_coeff = df['jaccard_coeff'].max()\n",
        "j_gdf = df.query('jaccard_coeff >= @max_coeff')\n",
        "\n",
        "for i in range(len(j_gdf)):\n",
        "    print(\"Weighted Jaccard Similarity: Vertices \" + str(j_gdf['source'][i]) + \n",
        "      \" and \" + str(j_gdf['destination'][i] ) + \n",
        "      \" are most similar with score: \" + str(df['jaccard_coeff'][i]))"
      ],
      "execution_count": 0,
      "outputs": [
        {
          "output_type": "stream",
          "text": [
            "PageRank: top vertex is 18 with score of 0.004534927\n",
            "Weighted Jaccard Similarity: Vertices 22693 and 57123 are most similar with score: 0.26571962\n"
          ],
          "name": "stdout"
        }
      ]
    },
    {
      "cell_type": "markdown",
      "metadata": {
        "id": "ys95ryXAt2j2",
        "colab_type": "text"
      },
      "source": [
        "# Next Steps #\n",
        "\n",
        "For an overview of how you can access and work with your own datasets in Colab, check out [this guide](https://towardsdatascience.com/3-ways-to-load-csv-files-into-colab-7c14fcbdcb92).\n",
        "\n",
        "For more RAPIDS examples, check out our RAPIDS notebooks repos:\n",
        "1. https://github.com/rapidsai/notebooks\n",
        "2. https://github.com/rapidsai/notebooks-extended"
      ]
    }
  ]
}