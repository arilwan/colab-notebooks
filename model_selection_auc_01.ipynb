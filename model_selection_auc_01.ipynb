{
  "nbformat": 4,
  "nbformat_minor": 0,
  "metadata": {
    "colab": {
      "name": "model-selection-auc-01.ipynb",
      "provenance": [],
      "collapsed_sections": [],
      "authorship_tag": "ABX9TyP/+Pt4F9GCzEh0xZrAmMEE",
      "include_colab_link": true
    },
    "kernelspec": {
      "name": "python3",
      "display_name": "Python 3"
    }
  },
  "cells": [
    {
      "cell_type": "markdown",
      "metadata": {
        "id": "view-in-github",
        "colab_type": "text"
      },
      "source": [
        "<a href=\"https://colab.research.google.com/github/martin-fabbri/colab-notebooks/blob/master/model_selection_auc_01.ipynb\" target=\"_parent\"><img src=\"https://colab.research.google.com/assets/colab-badge.svg\" alt=\"Open In Colab\"/></a>"
      ]
    },
    {
      "cell_type": "markdown",
      "metadata": {
        "id": "Q_JZhSC5Zutw",
        "colab_type": "text"
      },
      "source": [
        "# ROC / AUC\n"
      ]
    },
    {
      "cell_type": "markdown",
      "metadata": {
        "id": "wnhO4-uaYUFx",
        "colab_type": "text"
      },
      "source": [
        "Table of Contents"
      ]
    },
    {
      "cell_type": "code",
      "metadata": {
        "id": "cllkClfSYKIr",
        "colab_type": "code",
        "outputId": "25f2d318-4e9c-4399-cbd0-958115ab3b91",
        "colab": {
          "base_uri": "https://localhost:8080/",
          "height": 50
        }
      },
      "source": [
        "import numpy as np\n",
        "import pandas as pd\n",
        "import matplotlib.pyplot as plt\n",
        "from collections import defaultdict\n",
        "from sklearn.model_selection import train_test_split\n",
        "from sklearn.base import BaseEstimator\n",
        "from sklearn.base import TransformerMixin\n",
        "from sklearn.ensemble import RandomForestClassifier\n",
        "from sklearn.preprocessing import LabelEncoder\n",
        "from sklearn.preprocessing import OneHotEncoder\n",
        "from sklearn.preprocessing import StandardScaler\n",
        "from sklearn.model_selection import cross_val_score\n",
        "from sklearn.pipeline import make_pipeline\n",
        "from sklearn.compose import make_column_transformer\n",
        "\n",
        "print(f'numpy: {np.__version__}')\n",
        "print(f'pandas: {pd.__version__}')"
      ],
      "execution_count": 0,
      "outputs": [
        {
          "output_type": "stream",
          "text": [
            "numpy: 1.17.5\n",
            "pandas: 0.25.3\n"
          ],
          "name": "stdout"
        }
      ]
    },
    {
      "cell_type": "markdown",
      "metadata": {
        "id": "s3xrkNPwaWh4",
        "colab_type": "text"
      },
      "source": [
        "## ROC/AUC for Binary Calssification"
      ]
    },
    {
      "cell_type": "markdown",
      "metadata": {
        "id": "HxSJHi6taj01",
        "colab_type": "text"
      },
      "source": [
        "We will analyze a employee retention. Our goal is to find the employees that are likely to leave in the future."
      ]
    },
    {
      "cell_type": "code",
      "metadata": {
        "id": "VODjRtwMaWFb",
        "colab_type": "code",
        "outputId": "82bafa96-606c-4be8-b664-d4f4a18acd85",
        "colab": {
          "base_uri": "https://localhost:8080/",
          "height": 218
        }
      },
      "source": [
        "hr_retention_url = 'https://raw.githubusercontent.com/martin-fabbri/colab-notebooks/master/data/model-selection/hr_retention.csv'\n",
        "df = pd.read_csv(hr_retention_url)\n",
        "df.info()"
      ],
      "execution_count": 0,
      "outputs": [
        {
          "output_type": "stream",
          "text": [
            "<class 'pandas.core.frame.DataFrame'>\n",
            "RangeIndex: 12000 entries, 0 to 11999\n",
            "Data columns (total 7 columns):\n",
            "s          12000 non-null float64\n",
            "lpr        12000 non-null float64\n",
            "np         12000 non-null int64\n",
            "anh        12000 non-null int64\n",
            "tic        12000 non-null int64\n",
            "newborn    12000 non-null int64\n",
            "left       12000 non-null int64\n",
            "dtypes: float64(2), int64(5)\n",
            "memory usage: 656.4 KB\n"
          ],
          "name": "stdout"
        }
      ]
    },
    {
      "cell_type": "markdown",
      "metadata": {
        "id": "ywrGTu7MeJh6",
        "colab_type": "text"
      },
      "source": [
        "Variables definition:\n",
        "\n",
        "- **s**: The satisfaction level on a scale of 0 to 1\n",
        "- **lpe**: Last project evaluation by a client on a scale of 0 to 1\n",
        "- **np**: Represents the number of projects worked on by employee in the last 12 month\n",
        "- **anh**: Average number of hours worked in the last 12 month for that employee\n",
        "- **tic**: Amount of time the employee spent in the company, measured in years\n",
        "- **newborn**: This variable will take the value 1 if the employee had a newborn within the last 12 month and 0 otherwise\n",
        "- **left**: 1 if the employee left the company, 0 if they're still working here. This is our response variable"
      ]
    },
    {
      "cell_type": "code",
      "metadata": {
        "id": "gPr0NIMKeJGr",
        "colab_type": "code",
        "outputId": "d9c45f04-660e-4c1a-fc5b-7bccef62304f",
        "colab": {
          "base_uri": "https://localhost:8080/",
          "height": 195
        }
      },
      "source": [
        "df.head()"
      ],
      "execution_count": 0,
      "outputs": [
        {
          "output_type": "execute_result",
          "data": {
            "text/html": [
              "<div>\n",
              "<style scoped>\n",
              "    .dataframe tbody tr th:only-of-type {\n",
              "        vertical-align: middle;\n",
              "    }\n",
              "\n",
              "    .dataframe tbody tr th {\n",
              "        vertical-align: top;\n",
              "    }\n",
              "\n",
              "    .dataframe thead th {\n",
              "        text-align: right;\n",
              "    }\n",
              "</style>\n",
              "<table border=\"1\" class=\"dataframe\">\n",
              "  <thead>\n",
              "    <tr style=\"text-align: right;\">\n",
              "      <th></th>\n",
              "      <th>s</th>\n",
              "      <th>lpr</th>\n",
              "      <th>np</th>\n",
              "      <th>anh</th>\n",
              "      <th>tic</th>\n",
              "      <th>newborn</th>\n",
              "      <th>left</th>\n",
              "    </tr>\n",
              "  </thead>\n",
              "  <tbody>\n",
              "    <tr>\n",
              "      <th>0</th>\n",
              "      <td>0.38</td>\n",
              "      <td>0.53</td>\n",
              "      <td>2</td>\n",
              "      <td>157</td>\n",
              "      <td>3</td>\n",
              "      <td>0</td>\n",
              "      <td>1</td>\n",
              "    </tr>\n",
              "    <tr>\n",
              "      <th>1</th>\n",
              "      <td>0.80</td>\n",
              "      <td>0.86</td>\n",
              "      <td>5</td>\n",
              "      <td>262</td>\n",
              "      <td>6</td>\n",
              "      <td>0</td>\n",
              "      <td>1</td>\n",
              "    </tr>\n",
              "    <tr>\n",
              "      <th>2</th>\n",
              "      <td>0.11</td>\n",
              "      <td>0.88</td>\n",
              "      <td>7</td>\n",
              "      <td>272</td>\n",
              "      <td>4</td>\n",
              "      <td>0</td>\n",
              "      <td>1</td>\n",
              "    </tr>\n",
              "    <tr>\n",
              "      <th>3</th>\n",
              "      <td>0.72</td>\n",
              "      <td>0.87</td>\n",
              "      <td>5</td>\n",
              "      <td>223</td>\n",
              "      <td>5</td>\n",
              "      <td>0</td>\n",
              "      <td>1</td>\n",
              "    </tr>\n",
              "    <tr>\n",
              "      <th>4</th>\n",
              "      <td>0.37</td>\n",
              "      <td>0.52</td>\n",
              "      <td>2</td>\n",
              "      <td>159</td>\n",
              "      <td>3</td>\n",
              "      <td>0</td>\n",
              "      <td>1</td>\n",
              "    </tr>\n",
              "  </tbody>\n",
              "</table>\n",
              "</div>"
            ],
            "text/plain": [
              "      s   lpr  np  anh  tic  newborn  left\n",
              "0  0.38  0.53   2  157    3        0     1\n",
              "1  0.80  0.86   5  262    6        0     1\n",
              "2  0.11  0.88   7  272    4        0     1\n",
              "3  0.72  0.87   5  223    5        0     1\n",
              "4  0.37  0.52   2  159    3        0     1"
            ]
          },
          "metadata": {
            "tags": []
          },
          "execution_count": 3
        }
      ]
    },
    {
      "cell_type": "code",
      "metadata": {
        "id": "2XgwjF3td3MQ",
        "colab_type": "code",
        "outputId": "f59a1117-be1e-4fad-dfa8-0013fc022b5d",
        "colab": {
          "base_uri": "https://localhost:8080/",
          "height": 34
        }
      },
      "source": [
        "X = df.drop(['left'], axis=1)\n",
        "y = df['left']\n",
        "print('labels distribution:', np.bincount(y) / y.size)\n",
        "\n",
        "test_size = 0.2\n",
        "random_state = 43\n",
        "X_train, X_test, y_train, y_test = train_test_split(X, y, test_size=test_size, \n",
        "                                                    random_state=random_state, \n",
        "                                                    stratify=y)"
      ],
      "execution_count": 0,
      "outputs": [
        {
          "output_type": "stream",
          "text": [
            "labels distribution: [0.83333333 0.16666667]\n"
          ],
          "name": "stdout"
        }
      ]
    },
    {
      "cell_type": "markdown",
      "metadata": {
        "id": "lDoOdCyeFa6_",
        "colab_type": "text"
      },
      "source": [
        "### Preprocessing\n",
        "\n",
        "We will perform generic preprocessing task including:\n",
        "\n",
        "- Normalize numeric columns\n",
        "- One-hot-encode categorical columns. The ***newborn*** variable is treated as a categorical variable.\n"
      ]
    },
    {
      "cell_type": "code",
      "metadata": {
        "id": "crwFh8nE_NkH",
        "colab_type": "code",
        "colab": {}
      },
      "source": [
        "column_trans = make_column_transformer(\n",
        "    (StandardScaler(), ['s', 'lpr', 'np', 'anh', 'tic']),\n",
        "    (OneHotEncoder(), ['newborn']),\n",
        "    remainder='passthrough'\n",
        ")"
      ],
      "execution_count": 0,
      "outputs": []
    },
    {
      "cell_type": "markdown",
      "metadata": {
        "id": "QJ0ioOsORxYP",
        "colab_type": "text"
      },
      "source": [
        "## Model Building"
      ]
    },
    {
      "cell_type": "code",
      "metadata": {
        "id": "fUHUaEEaBl23",
        "colab_type": "code",
        "outputId": "ac52c01f-eb87-435f-d586-07d1215c91f7",
        "colab": {
          "base_uri": "https://localhost:8080/",
          "height": 34
        }
      },
      "source": [
        "rf = RandomForestClassifier(max_depth = 4, random_state=43)\n",
        "pipe = make_pipeline(column_trans, rf)\n",
        "\n",
        "cross_val_score(pipe, X, y, cv=3, scoring='accuracy').mean()"
      ],
      "execution_count": 0,
      "outputs": [
        {
          "output_type": "execute_result",
          "data": {
            "text/plain": [
              "0.9473333333333334"
            ]
          },
          "metadata": {
            "tags": []
          },
          "execution_count": 8
        }
      ]
    },
    {
      "cell_type": "markdown",
      "metadata": {
        "id": "m8flYHT31eQh",
        "colab_type": "text"
      },
      "source": [
        "After training our model, we need to evaluate whether its any good or not and the most straightforward and intuitive metric for a supervised classifier's performance is accuracy. Unfortunately, there are circumstances where simple accuracy does not work well. For example, with a disease that only affects 1 in a million people, a completely bogus screening test that always reports \"negative\" will be 99.9999% accurate. Unlike accuracy, ROC curves are less sensitive to class imbalance; the bogus screening test would have an AUC of 0.5, which is like not having a test at all."
      ]
    },
    {
      "cell_type": "markdown",
      "metadata": {
        "id": "ODd4y1whcGxv",
        "colab_type": "text"
      },
      "source": [
        ">First column name | Second column name\n",
        ">--- | ---\n",
        ">Row 1, Col 1 | Row 1, Col 2\n",
        ">Row 2, Col 1 | Row 2, Col 2\n",
        "\n",
        "---\n",
        "\n"
      ]
    },
    {
      "cell_type": "markdown",
      "metadata": {
        "id": "S5sswUZb1j6f",
        "colab_type": "text"
      },
      "source": [
        "**ROC curve (Receiver Operating Characteristic)** is a commonly used way to visualize the performance of a binary classifier and AUC (Area Under the ROC Curve) is used to summarize its performance in a single number. Most machine learning algorithms have the ability to produce probability scores that tells us the strength in which it thinks a given observation is positive. Turning these probability scores into yes or no predictions requires setting a threshold; cases with scores above the threshold are classified as positive, and vice versa. Different threshold values can lead to different result:\n",
        "\n",
        "- A higher threshold is more conservative about labeling a case as positive; this makes it less likely to produce false positive (an observation that has a negative label but gets classified as positive by the model) results but more likely to miss cases that are in fact positive (lower true positive rate)\n",
        "- A lower threshold produces positive labels more liberally, so it creates more false positives but also generate more true positives\n",
        "\n",
        "A quick refresher on terminology:\n",
        "\n",
        "\\begin{align}\n",
        "[\\text{true positive rate}]\n",
        "&= \\frac{[\\text{# positive data points with positive predictions}]}{\\text{[# all positive data points]}} \\\\\n",
        "&= \\frac{[\\text{# true positives}]}{[\\text{# true positives}] + [\\text{# false negatives}]}\n",
        "\\end{align}\n",
        "\n",
        "true positive rate is also known as **recall** or **sensitivity**\n",
        "\n",
        "\\begin{align}\n",
        "[\\text{false positive rate}]\n",
        "&= \\frac{[\\text{# positive data points with positive predictions}]}{\\text{[# all negative data points]}} \\\\\n",
        "&= \\frac{[\\text{# false positives}]}{[\\text{# false positives}] + [\\text{# true negatives}]}\n",
        "\\end{align}\n",
        "\n",
        "The ROC curve is created by plotting the true positive rate (when it's actually a yes, how often does it predict yes?) on the y axis against the false positive rate (when it's actually a no, how often does it predict yes?) on the x axis at various cutoff settings, giving us a picture of the whole spectrum of the trade-off we're making between the two measures.\n",
        "\n",
        "If all these true/false positive terminology is confusing to you, consider reading the material at the following link. [Blog: Simple guide to confusion matrix terminology](http://www.dataschool.io/simple-guide-to-confusion-matrix-terminology/)"
      ]
    },
    {
      "cell_type": "code",
      "metadata": {
        "id": "st1m5xAmZ2yL",
        "colab_type": "code",
        "colab": {}
      },
      "source": [
        ""
      ],
      "execution_count": 0,
      "outputs": []
    },
    {
      "cell_type": "code",
      "metadata": {
        "id": "_TgxhMhwZ2uU",
        "colab_type": "code",
        "colab": {}
      },
      "source": [
        ""
      ],
      "execution_count": 0,
      "outputs": []
    },
    {
      "cell_type": "code",
      "metadata": {
        "id": "Tzu6HVq3Z2sw",
        "colab_type": "code",
        "colab": {}
      },
      "source": [
        ""
      ],
      "execution_count": 0,
      "outputs": []
    },
    {
      "cell_type": "code",
      "metadata": {
        "id": "yQuKwcFyZ2px",
        "colab_type": "code",
        "colab": {}
      },
      "source": [
        ""
      ],
      "execution_count": 0,
      "outputs": []
    },
    {
      "cell_type": "code",
      "metadata": {
        "id": "DmjGAQZsZ2mk",
        "colab_type": "code",
        "colab": {}
      },
      "source": [
        ""
      ],
      "execution_count": 0,
      "outputs": []
    },
    {
      "cell_type": "code",
      "metadata": {
        "id": "QFTEpVFfZ2ji",
        "colab_type": "code",
        "colab": {}
      },
      "source": [
        ""
      ],
      "execution_count": 0,
      "outputs": []
    },
    {
      "cell_type": "code",
      "metadata": {
        "id": "V9PiqGP1Z2gL",
        "colab_type": "code",
        "colab": {}
      },
      "source": [
        ""
      ],
      "execution_count": 0,
      "outputs": []
    },
    {
      "cell_type": "code",
      "metadata": {
        "id": "RwCtZir_Z2dL",
        "colab_type": "code",
        "colab": {}
      },
      "source": [
        ""
      ],
      "execution_count": 0,
      "outputs": []
    },
    {
      "cell_type": "code",
      "metadata": {
        "id": "hZFHDjeWZ2ab",
        "colab_type": "code",
        "colab": {}
      },
      "source": [
        ""
      ],
      "execution_count": 0,
      "outputs": []
    },
    {
      "cell_type": "code",
      "metadata": {
        "id": "5YS9BzcKZ2Xd",
        "colab_type": "code",
        "colab": {}
      },
      "source": [
        ""
      ],
      "execution_count": 0,
      "outputs": []
    }
  ]
}