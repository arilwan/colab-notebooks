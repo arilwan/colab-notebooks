{
  "nbformat": 4,
  "nbformat_minor": 0,
  "metadata": {
    "colab": {
      "name": "colab-rapids-01.ipynb",
      "version": "0.3.2",
      "provenance": [],
      "machine_shape": "hm",
      "include_colab_link": true
    },
    "kernelspec": {
      "name": "python3",
      "display_name": "Python 3"
    },
    "accelerator": "GPU"
  },
  "cells": [
    {
      "cell_type": "markdown",
      "metadata": {
        "id": "view-in-github",
        "colab_type": "text"
      },
      "source": [
        "<a href=\"https://colab.research.google.com/github/martin-fabbri/colab-notebooks/blob/master/rapids-cuDF-cuml-01.ipynb\" target=\"_parent\"><img src=\"https://colab.research.google.com/assets/colab-badge.svg\" alt=\"Open In Colab\"/></a>"
      ]
    },
    {
      "cell_type": "markdown",
      "metadata": {
        "id": "L3CR--oLtH0J",
        "colab_type": "text"
      },
      "source": [
        "# Introduction to cuML"
      ]
    },
    {
      "cell_type": "code",
      "metadata": {
        "id": "Z2FjFcDp-2FF",
        "colab_type": "code",
        "outputId": "54c75292-60e0-41e7-a5d2-6e8035ecb213",
        "colab": {
          "base_uri": "https://localhost:8080/",
          "height": 319
        }
      },
      "source": [
        "!nvidia-smi"
      ],
      "execution_count": 4,
      "outputs": [
        {
          "output_type": "stream",
          "text": [
            "Wed Sep 11 19:48:12 2019       \n",
            "+-----------------------------------------------------------------------------+\n",
            "| NVIDIA-SMI 430.40       Driver Version: 418.67       CUDA Version: 10.1     |\n",
            "|-------------------------------+----------------------+----------------------+\n",
            "| GPU  Name        Persistence-M| Bus-Id        Disp.A | Volatile Uncorr. ECC |\n",
            "| Fan  Temp  Perf  Pwr:Usage/Cap|         Memory-Usage | GPU-Util  Compute M. |\n",
            "|===============================+======================+======================|\n",
            "|   0  Tesla T4            Off  | 00000000:00:04.0 Off |                    0 |\n",
            "| N/A   42C    P8     9W /  70W |      0MiB / 15079MiB |      0%      Default |\n",
            "+-------------------------------+----------------------+----------------------+\n",
            "                                                                               \n",
            "+-----------------------------------------------------------------------------+\n",
            "| Processes:                                                       GPU Memory |\n",
            "|  GPU       PID   Type   Process name                             Usage      |\n",
            "|=============================================================================|\n",
            "|  No running processes found                                                 |\n",
            "+-----------------------------------------------------------------------------+\n"
          ],
          "name": "stdout"
        }
      ]
    },
    {
      "cell_type": "code",
      "metadata": {
        "id": "3EN-u_90tKZW",
        "colab_type": "code",
        "outputId": "58ce36fa-ffa8-44cb-80d1-296af6a132bf",
        "colab": {
          "base_uri": "https://localhost:8080/",
          "height": 1000
        }
      },
      "source": [
        "!wget -nc https://github.com/rapidsai/notebooks-extended/raw/master/utils/rapids-colab.sh\n",
        "!bash rapids-colab.sh\n",
        "\n",
        "import sys, os\n",
        "\n",
        "sys.path.append('/usr/local/lib/python3.6/site-packages/')\n",
        "os.environ['NUMBAPRO_NVVM'] = '/usr/local/cuda/nvvm/lib64/libnvvm.so'\n",
        "os.environ['NUMBAPRO_LIBDEVICE'] = '/usr/local/cuda/nvvm/libdevice/'"
      ],
      "execution_count": 5,
      "outputs": [
        {
          "output_type": "stream",
          "text": [
            "--2019-09-11 19:48:17--  https://github.com/rapidsai/notebooks-extended/raw/master/utils/rapids-colab.sh\n",
            "Resolving github.com (github.com)... 140.82.118.3\n",
            "Connecting to github.com (github.com)|140.82.118.3|:443... connected.\n",
            "HTTP request sent, awaiting response... 301 Moved Permanently\n",
            "Location: https://github.com/rapidsai/notebooks-contrib/raw/master/utils/rapids-colab.sh [following]\n",
            "--2019-09-11 19:48:17--  https://github.com/rapidsai/notebooks-contrib/raw/master/utils/rapids-colab.sh\n",
            "Reusing existing connection to github.com:443.\n",
            "HTTP request sent, awaiting response... 302 Found\n",
            "Location: https://raw.githubusercontent.com/rapidsai/notebooks-contrib/master/utils/rapids-colab.sh [following]\n",
            "--2019-09-11 19:48:17--  https://raw.githubusercontent.com/rapidsai/notebooks-contrib/master/utils/rapids-colab.sh\n",
            "Resolving raw.githubusercontent.com (raw.githubusercontent.com)... 151.101.0.133, 151.101.64.133, 151.101.128.133, ...\n",
            "Connecting to raw.githubusercontent.com (raw.githubusercontent.com)|151.101.0.133|:443... connected.\n",
            "HTTP request sent, awaiting response... 200 OK\n",
            "Length: 1609 (1.6K) [text/plain]\n",
            "Saving to: ‘rapids-colab.sh’\n",
            "\n",
            "\rrapids-colab.sh       0%[                    ]       0  --.-KB/s               \rrapids-colab.sh     100%[===================>]   1.57K  --.-KB/s    in 0s      \n",
            "\n",
            "2019-09-11 19:48:17 (302 MB/s) - ‘rapids-colab.sh’ saved [1609/1609]\n",
            "\n",
            "--2019-09-11 19:48:19--  https://github.com/rapidsai/notebooks-extended/raw/master/utils/env-check.py\n",
            "Resolving github.com (github.com)... 140.82.118.3\n",
            "Connecting to github.com (github.com)|140.82.118.3|:443... connected.\n",
            "HTTP request sent, awaiting response... 301 Moved Permanently\n",
            "Location: https://github.com/rapidsai/notebooks-contrib/raw/master/utils/env-check.py [following]\n",
            "--2019-09-11 19:48:19--  https://github.com/rapidsai/notebooks-contrib/raw/master/utils/env-check.py\n",
            "Reusing existing connection to github.com:443.\n",
            "HTTP request sent, awaiting response... 302 Found\n",
            "Location: https://raw.githubusercontent.com/rapidsai/notebooks-contrib/master/utils/env-check.py [following]\n",
            "--2019-09-11 19:48:19--  https://raw.githubusercontent.com/rapidsai/notebooks-contrib/master/utils/env-check.py\n",
            "Resolving raw.githubusercontent.com (raw.githubusercontent.com)... 151.101.0.133, 151.101.64.133, 151.101.128.133, ...\n",
            "Connecting to raw.githubusercontent.com (raw.githubusercontent.com)|151.101.0.133|:443... connected.\n",
            "HTTP request sent, awaiting response... 200 OK\n",
            "Length: 783 [text/plain]\n",
            "Saving to: ‘env-check.py’\n",
            "\n",
            "env-check.py        100%[===================>]     783  --.-KB/s    in 0s      \n",
            "\n",
            "2019-09-11 19:48:19 (127 MB/s) - ‘env-check.py’ saved [783/783]\n",
            "\n",
            "Checking for GPU type:\n",
            "*********************************************\n",
            "Woo! Your instance has the right kind of GPU!\n",
            "*********************************************\n",
            "\n",
            "Removing conflicting packages, will replace with RAPIDS compatible versions\n",
            "Uninstalling xgboost-0.90:\n",
            "  Successfully uninstalled xgboost-0.90\n",
            "Uninstalling dask-1.1.5:\n",
            "  Successfully uninstalled dask-1.1.5\n",
            "Uninstalling distributed-1.25.3:\n",
            "  Successfully uninstalled distributed-1.25.3\n",
            "Installing conda\n",
            "--2019-09-11 19:48:23--  https://repo.continuum.io/miniconda/Miniconda3-4.5.4-Linux-x86_64.sh\n",
            "Resolving repo.continuum.io (repo.continuum.io)... 104.18.200.79, 104.18.201.79, 2606:4700::6812:c84f, ...\n",
            "Connecting to repo.continuum.io (repo.continuum.io)|104.18.200.79|:443... connected.\n",
            "HTTP request sent, awaiting response... 200 OK\n",
            "Length: 58468498 (56M) [application/x-sh]\n",
            "Saving to: ‘Miniconda3-4.5.4-Linux-x86_64.sh’\n",
            "\n",
            "Miniconda3-4.5.4-Li 100%[===================>]  55.76M   106MB/s    in 0.5s    \n",
            "\n",
            "2019-09-11 19:48:24 (106 MB/s) - ‘Miniconda3-4.5.4-Linux-x86_64.sh’ saved [58468498/58468498]\n",
            "\n",
            "PREFIX=/usr/local\n",
            "installing: python-3.6.5-hc3d631a_2 ...\n",
            "Python 3.6.5 :: Anaconda, Inc.\n",
            "installing: ca-certificates-2018.03.07-0 ...\n",
            "installing: conda-env-2.6.0-h36134e3_1 ...\n",
            "installing: libgcc-ng-7.2.0-hdf63c60_3 ...\n",
            "installing: libstdcxx-ng-7.2.0-hdf63c60_3 ...\n",
            "installing: libffi-3.2.1-hd88cf55_4 ...\n",
            "installing: ncurses-6.1-hf484d3e_0 ...\n",
            "installing: openssl-1.0.2o-h20670df_0 ...\n",
            "installing: tk-8.6.7-hc745277_3 ...\n",
            "installing: xz-5.2.4-h14c3975_4 ...\n",
            "installing: yaml-0.1.7-had09818_2 ...\n",
            "installing: zlib-1.2.11-ha838bed_2 ...\n",
            "installing: libedit-3.1.20170329-h6b74fdf_2 ...\n",
            "installing: readline-7.0-ha6073c6_4 ...\n",
            "installing: sqlite-3.23.1-he433501_0 ...\n",
            "installing: asn1crypto-0.24.0-py36_0 ...\n",
            "installing: certifi-2018.4.16-py36_0 ...\n",
            "installing: chardet-3.0.4-py36h0f667ec_1 ...\n",
            "installing: idna-2.6-py36h82fb2a8_1 ...\n",
            "installing: pycosat-0.6.3-py36h0a5515d_0 ...\n",
            "installing: pycparser-2.18-py36hf9f622e_1 ...\n",
            "installing: pysocks-1.6.8-py36_0 ...\n",
            "installing: ruamel_yaml-0.15.37-py36h14c3975_2 ...\n",
            "installing: six-1.11.0-py36h372c433_1 ...\n",
            "installing: cffi-1.11.5-py36h9745a5d_0 ...\n",
            "installing: setuptools-39.2.0-py36_0 ...\n",
            "installing: cryptography-2.2.2-py36h14c3975_0 ...\n",
            "installing: wheel-0.31.1-py36_0 ...\n",
            "installing: pip-10.0.1-py36_0 ...\n",
            "installing: pyopenssl-18.0.0-py36_0 ...\n",
            "installing: urllib3-1.22-py36hbe7ace6_0 ...\n",
            "installing: requests-2.18.4-py36he2e5f8d_1 ...\n",
            "installing: conda-4.5.4-py36_0 ...\n",
            "installation finished.\n",
            "WARNING:\n",
            "    You currently have a PYTHONPATH environment variable set. This may cause\n",
            "    unexpected behavior when running the Python interpreter in Miniconda3.\n",
            "    For best results, please verify that your PYTHONPATH only points to\n",
            "    directories of packages that are compatible with the Python interpreter\n",
            "    in Miniconda3: /usr/local\n",
            "Installing RAPIDS 0.10 packages\n",
            "Please standby, this will take a few minutes...\n",
            "\n",
            "\n",
            "==> WARNING: A newer version of conda exists. <==\n",
            "  current version: 4.5.4\n",
            "  latest version: 4.7.11\n",
            "\n",
            "Please update conda by running\n",
            "\n",
            "    $ conda update -n base conda\n",
            "\n",
            "\n",
            "cffi-1.12.3          |  218 KB | : 100% 1.0/1 [00:00<00:00, 13.00it/s]\n",
            "openssl-1.1.1c       |  2.1 MB | : 100% 1.0/1 [00:00<00:00,  3.06it/s]               \n",
            "cudatoolkit-10.0.130 | 380.0 MB | : 100% 1.0/1 [00:44<00:00, 171.58s/it]               \n",
            "nccl-2.4.6.1         | 66.6 MB | : 100% 1.0/1 [00:11<00:00, 11.52s/it]               \n",
            "cudf-0.10.0a         |  4.8 MB | : 100% 1.0/1 [00:02<00:00,  2.39s/it]               \n",
            "cython-0.29.13       |  2.2 MB | : 100% 1.0/1 [00:00<00:00,  1.91it/s]              \n",
            "scipy-1.3.1          | 18.1 MB | : 100% 1.0/1 [00:03<00:00,  3.13s/it]              \n",
            "jinja2-2.10.1        |   91 KB | : 100% 1.0/1 [00:00<00:00, 13.54it/s]\n",
            "freetype-2.10.0      |  884 KB | : 100% 1.0/1 [00:00<00:00,  5.18it/s]               \n",
            "msgpack-python-0.6.1 |   89 KB | : 100% 1.0/1 [00:00<00:00, 21.47it/s]\n",
            "c-ares-1.15.0        |  100 KB | : 100% 1.0/1 [00:00<00:00,  2.34it/s]                \n",
            "double-conversion-3. |   85 KB | : 100% 1.0/1 [00:00<00:00, 18.99it/s]\n",
            "cytoolz-0.10.0       |  429 KB | : 100% 1.0/1 [00:00<00:00,  9.86it/s]\n",
            "libevent-2.1.10      |  1.3 MB | : 100% 1.0/1 [00:00<00:00,  2.90it/s]               \n",
            "pyarrow-0.14.1       |  2.8 MB | : 100% 1.0/1 [00:00<00:00,  1.37it/s]               \n",
            "libcuml-0.10.0a      | 29.3 MB | : 100% 1.0/1 [00:07<00:00,  7.80s/it]               \n",
            "pynvml-8.0.3         |   30 KB | : 100% 1.0/1 [00:00<00:00, 15.75it/s]\n",
            "ncurses-6.1          |  1.3 MB | : 100% 1.0/1 [00:00<00:00,  1.25it/s]               \n",
            "fsspec-0.4.4         |   39 KB | : 100% 1.0/1 [00:00<00:00, 14.74it/s]\n",
            "tornado-6.0.3        |  636 KB | : 100% 1.0/1 [00:00<00:00,  5.12it/s]               \n",
            "brotli-1.0.7         |  1.0 MB | : 100% 1.0/1 [00:00<00:00,  6.41it/s]               \n",
            "python-dateutil-2.8. |  219 KB | : 100% 1.0/1 [00:00<00:00, 18.93it/s]\n",
            "cachetools-2.1.0     |   10 KB | : 100% 1.0/1 [00:00<00:00, 32.88it/s]\n",
            "rsa-3.4.2            |   31 KB | : 100% 1.0/1 [00:00<00:00, 21.24it/s]\n",
            "six-1.12.0           |   22 KB | : 100% 1.0/1 [00:00<00:00, 21.80it/s]\n",
            "boost-cpp-1.70.0     | 21.1 MB | : 100% 1.0/1 [00:13<00:00, 13.07s/it]               \n",
            "pillow-6.1.0         |  634 KB | : 100% 1.0/1 [00:00<00:00,  4.06it/s]               \n",
            "libcblas-3.8.0       |   10 KB | : 100% 1.0/1 [00:00<00:00, 23.64it/s]\n",
            "snappy-1.1.7         |   39 KB | : 100% 1.0/1 [00:00<00:00, 26.26it/s]\n",
            "grpc-cpp-1.23.0      |  4.5 MB | : 100% 1.0/1 [00:00<00:00,  1.06it/s]               \n",
            "cuml-0.10.0a         |  6.0 MB | : 100% 1.0/1 [00:02<00:00,  2.43s/it]              \n",
            "click-7.0            |   61 KB | : 100% 1.0/1 [00:00<00:00, 18.59it/s]\n",
            "lz4-c-1.8.3          |  187 KB | : 100% 1.0/1 [00:00<00:00,  3.12it/s]                \n",
            "ca-certificates-2019 |  145 KB | : 100% 1.0/1 [00:00<00:00, 21.29it/s]\n",
            "markupsafe-1.1.1     |   26 KB | : 100% 1.0/1 [00:00<00:00, 25.11it/s]\n",
            "pyyaml-5.1.2         |  184 KB | : 100% 1.0/1 [00:00<00:00, 11.67it/s]\n",
            "thrift-cpp-0.12.0    |  2.4 MB | : 100% 1.0/1 [00:00<00:00,  2.06it/s]               \n",
            "libxgboost-0.90.rapi | 32.8 MB | : 100% 1.0/1 [00:07<00:00,  7.98s/it]               \n",
            "llvmlite-0.29.0      | 19.9 MB | : 100% 1.0/1 [00:03<00:00,  3.07s/it]               \n",
            "oauthlib-3.0.1       |   82 KB | : 100% 1.0/1 [00:00<00:00, 15.69it/s]\n",
            "xgboost-0.90.rapidsd |   11 KB | : 100% 1.0/1 [00:00<00:00,  1.15it/s] \n",
            "dask-cuml-0.8.0a     |   30 KB | : 100% 1.0/1 [00:00<00:00,  2.68it/s]                \n",
            "gflags-2.2.2         |  177 KB | : 100% 1.0/1 [00:00<00:00, 13.60it/s]\n",
            "cryptography-2.7     |  607 KB | : 100% 1.0/1 [00:00<00:00,  5.10it/s]               \n",
            "libcumlprims-0.9.0   |  3.9 MB | : 100% 1.0/1 [00:01<00:00,  1.65s/it]               \n",
            "idna-2.8             |  132 KB | : 100% 1.0/1 [00:00<00:00, 17.98it/s]\n",
            "heapdict-1.0.0       |    7 KB | : 100% 1.0/1 [00:00<00:00, 30.73it/s]\n",
            "libcugraph-0.10.0a   | 11.2 MB | : 100% 1.0/1 [00:02<00:00,  2.20s/it]               \n",
            "certifi-2019.6.16    |  149 KB | : 100% 1.0/1 [00:00<00:00, 22.41it/s]\n",
            "arrow-cpp-0.14.1     | 17.3 MB | : 100% 1.0/1 [00:02<00:00,  2.80s/it]               \n",
            "chardet-3.0.4        |  190 KB | : 100% 1.0/1 [00:00<00:00,  8.50it/s]               \n",
            "sortedcontainers-2.1 |   25 KB | : 100% 1.0/1 [00:00<00:00, 31.15it/s]\n",
            "librmm-0.10.0a       |   44 KB | : 100% 1.0/1 [00:00<00:00,  3.22it/s]               \n",
            "libnvstrings-0.10.0a | 24.7 MB | : 100% 1.0/1 [00:05<00:00,  5.29s/it]               \n",
            "libcudf-0.10.0a      | 27.8 MB | : 100% 1.0/1 [00:05<00:00,  5.90s/it]               \n",
            "fastavro-0.22.4      |  405 KB | : 100% 1.0/1 [00:00<00:00,  9.40it/s]\n",
            "olefile-0.46         |   31 KB | : 100% 1.0/1 [00:00<00:00, 20.54it/s]\n",
            "uriparser-0.9.3      |   49 KB | : 100% 1.0/1 [00:00<00:00, 25.69it/s]\n",
            "wheel-0.33.6         |   35 KB | : 100% 1.0/1 [00:00<00:00, 23.46it/s]\n",
            "yaml-0.1.7           |   78 KB | : 100% 1.0/1 [00:00<00:00, 17.77it/s]\n",
            "liblapack-3.8.0      |   10 KB | : 100% 1.0/1 [00:00<00:00, 24.24it/s]\n",
            "setuptools-41.2.0    |  634 KB | : 100% 1.0/1 [00:00<00:00,  5.33it/s]               \n",
            "numpy-1.17.2         |  5.2 MB | : 100% 1.0/1 [00:01<00:00,  1.08s/it]               \n",
            "_libgcc_mutex-0.1    |    3 KB | : 100% 1.0/1 [00:00<00:00, 46.40it/s]\n",
            "decorator-4.4.0      |   11 KB | : 100% 1.0/1 [00:00<00:00, 34.59it/s]\n",
            "cloudpickle-1.2.2    |   23 KB | : 100% 1.0/1 [00:00<00:00, 34.29it/s]\n",
            "glog-0.4.0           |  104 KB | : 100% 1.0/1 [00:00<00:00, 22.23it/s]\n",
            "libblas-3.8.0        |   10 KB | : 100% 1.0/1 [00:00<00:00, 36.48it/s]\n",
            "pip-19.2.3           |  1.9 MB | : 100% 1.0/1 [00:00<00:00,  2.00it/s]               \n",
            "libstdcxx-ng-9.1.0   |  4.0 MB | : 100% 1.0/1 [00:00<00:00,  1.73it/s]               \n",
            "python-3.6.7         | 34.6 MB | : 100% 1.0/1 [00:04<00:00,  4.76s/it]               \n",
            "distributed-2.3.2    |  370 KB | : 100% 1.0/1 [00:00<00:00,  6.35it/s]               \n",
            "requests-2.22.0      |   84 KB | : 100% 1.0/1 [00:00<00:00, 19.35it/s]\n",
            "libpng-1.6.37        |  343 KB | : 100% 1.0/1 [00:00<00:00,  1.68it/s]                 \n",
            "dask-cuda-0.10.0a    |  924 KB | : 100% 1.0/1 [00:01<00:00,  1.35s/it]               \n",
            "blinker-1.4          |   13 KB | : 100% 1.0/1 [00:00<00:00, 37.71it/s]\n",
            "urllib3-1.25.3       |  187 KB | : 100% 1.0/1 [00:00<00:00, 10.96it/s]\n",
            "psutil-5.6.3         |  322 KB | : 100% 1.0/1 [00:00<00:00,  9.19it/s]\n",
            "dask-2.3.0           |    4 KB | : 100% 1.0/1 [00:00<00:00, 35.54it/s]\n",
            "libgfortran-ng-7.3.0 |  1.3 MB | : 100% 1.0/1 [00:00<00:00,  4.35it/s]               \n",
            "libgcc-ng-9.1.0      |  8.1 MB | : 100% 1.0/1 [00:02<00:00,  2.50s/it]               \n",
            "libopenblas-0.3.7    |  7.6 MB | : 100% 1.0/1 [00:01<00:00,  1.24s/it]               \n",
            "pyasn1-0.4.6         |   52 KB | : 100% 1.0/1 [00:00<00:00, 19.46it/s]\n",
            "libprotobuf-3.8.0    |  4.7 MB | : 100% 1.0/1 [00:00<00:00,  1.11it/s]               \n",
            "dlpack-0.2           |   12 KB | : 100% 1.0/1 [00:00<00:00, 36.21it/s]\n",
            "pyasn1-modules-0.2.6 |   47 KB | : 100% 1.0/1 [00:00<00:00, 17.25it/s]\n",
            "icu-64.2             | 12.6 MB | : 100% 1.0/1 [00:01<00:00,  1.80s/it]              \n",
            "google-auth-1.6.3    |   45 KB | : 100% 1.0/1 [00:00<00:00, 23.64it/s]\n",
            "xz-5.2.4             |  366 KB | : 100% 1.0/1 [00:00<00:00, 10.19it/s]\n",
            "pycparser-2.19       |  173 KB | : 100% 1.0/1 [00:00<00:00, 13.79it/s]\n",
            "bokeh-1.3.4          |  4.0 MB | : 100% 1.0/1 [00:01<00:00,  1.30s/it]               \n",
            "numba-0.45.1         |  3.1 MB | : 100% 1.0/1 [00:01<00:00,  1.09s/it]              \n",
            "pandas-0.24.2        | 11.1 MB | : 100% 1.0/1 [00:02<00:00,  2.27s/it]               \n",
            "zstd-1.4.0           |  928 KB | : 100% 1.0/1 [00:00<00:00,  6.59it/s]               \n",
            "pytz-2019.2          |  228 KB | : 100% 1.0/1 [00:00<00:00,  5.14it/s]              \n",
            "packaging-19.0       |   23 KB | : 100% 1.0/1 [00:00<00:00, 21.72it/s]\n",
            "dask-core-2.3.0      |  574 KB | : 100% 1.0/1 [00:00<00:00,  5.36it/s]               \n",
            "zlib-1.2.11          |  105 KB | : 100% 1.0/1 [00:00<00:00, 23.01it/s]\n",
            "pyjwt-1.7.1          |   17 KB | : 100% 1.0/1 [00:00<00:00, 27.75it/s]\n",
            "dask-cudf-0.10.0a    |   63 KB | : 100% 1.0/1 [00:00<00:00,  1.35it/s] \n",
            "google-auth-oauthlib |   18 KB | : 100% 1.0/1 [00:00<00:00, 24.14it/s]\n",
            "tblib-1.4.0          |   12 KB | : 100% 1.0/1 [00:00<00:00, 30.64it/s]\n",
            "toolz-0.10.0         |   46 KB | : 100% 1.0/1 [00:00<00:00,  3.28it/s]               \n",
            "re2-2019.09.01       |  431 KB | : 100% 1.0/1 [00:00<00:00,  9.75it/s]\n",
            "jpeg-9c              |  251 KB | : 100% 1.0/1 [00:00<00:00, 11.74it/s]\n",
            "zict-1.0.0           |   10 KB | : 100% 1.0/1 [00:00<00:00, 29.23it/s]\n",
            "sqlite-3.29.0        |  1.9 MB | : 100% 1.0/1 [00:00<00:00,  3.44it/s]               \n",
            "parquet-cpp-1.5.1    |    3 KB | : 100% 1.0/1 [00:00<00:00, 36.91it/s]\n",
            "nvstrings-0.10.0a    |  125 KB | : 100% 1.0/1 [00:00<00:00,  2.18s/it]                \n",
            "readline-8.0         |  441 KB | : 100% 1.0/1 [00:00<00:00,  9.68it/s]\n",
            "pyparsing-2.4.2      |   57 KB | : 100% 1.0/1 [00:00<00:00, 21.37it/s]\n",
            "asn1crypto-0.24.0    |  154 KB | : 100% 1.0/1 [00:00<00:00, 14.00it/s]\n",
            "locket-0.2.0         |    6 KB | : 100% 1.0/1 [00:00<00:00, 12.44it/s]\n",
            "libffi-3.2.1         |   46 KB | : 100% 1.0/1 [00:00<00:00, 25.57it/s]\n",
            "scikit-learn-0.21.3  |  6.7 MB | : 100% 1.0/1 [00:01<00:00,  1.34s/it]               \n",
            "partd-1.0.0          |   16 KB | : 100% 1.0/1 [00:00<00:00,  5.73it/s]               \n",
            "gcsfs-0.3.0          |   19 KB | : 100% 1.0/1 [00:00<00:00, 25.81it/s]\n",
            "requests-oauthlib-1. |   19 KB | : 100% 1.0/1 [00:00<00:00, 31.33it/s]\n",
            "py-xgboost-0.90.rapi |   86 KB | : 100% 1.0/1 [00:00<00:00,  2.77it/s]               \n",
            "tk-8.6.9             |  3.2 MB | : 100% 1.0/1 [00:00<00:00,  1.68it/s]             \n",
            "libtiff-4.0.10       |  587 KB | : 100% 1.0/1 [00:00<00:00,  8.19it/s]               \n",
            "cugraph-0.10.0a      |  1.3 MB | : 100% 1.0/1 [00:00<00:00,  1.30it/s]               \n",
            "joblib-0.13.2        |  180 KB | : 100% 1.0/1 [00:00<00:00, 11.07it/s]\n",
            "pyopenssl-19.0.0     |   81 KB | : 100% 1.0/1 [00:00<00:00, 23.61it/s]\n",
            "rmm-0.10.0a          |   14 KB | : 100% 1.0/1 [00:00<00:00,  3.76it/s] \n",
            "bzip2-1.0.8          |  397 KB | : 100% 1.0/1 [00:00<00:00,  9.33it/s]\n",
            "pysocks-1.7.0        |   26 KB | : 100% 1.0/1 [00:00<00:00, 29.84it/s]\n",
            "Copying shared object files to /usr/lib\n",
            "\n",
            "*********************************************\n",
            "Your Google Colab instance is RAPIDS ready!\n",
            "*********************************************\n"
          ],
          "name": "stdout"
        }
      ]
    },
    {
      "cell_type": "markdown",
      "metadata": {
        "id": "RSXLHPlUaHZj",
        "colab_type": "text"
      },
      "source": [
        "### Required Imports"
      ]
    },
    {
      "cell_type": "code",
      "metadata": {
        "id": "_Dd7pWJHaNHS",
        "colab_type": "code",
        "colab": {
          "base_uri": "https://localhost:8080/",
          "height": 88
        },
        "outputId": "b8f09c51-6805-4261-96fa-c0fd410a499d"
      },
      "source": [
        "import cudf\n",
        "import pandas as pd\n",
        "import numpy as np\n",
        "import math\n",
        "from math import cos, sin, asin, sqrt, pi, atan2\n",
        "from numba import cuda\n",
        "import time\n",
        "import os\n",
        "import matplotlib.pyplot as plt\n",
        "import sklearn\n",
        "from sklearn.linear_model import LinearRegression\n",
        "import cuml\n",
        "from cuml.linear_model import LinearRegression as LinearRegressionGPU\n",
        "\n",
        "\n",
        "\n",
        "%matplotlib inline\n",
        "\n",
        "print('NumPy Version:', np.__version__)\n",
        "print('Scikit-learn Version:', sklearn.__version__)\n",
        "print('cuDF Version:', cudf.__version__)\n",
        "print('cuML Version:', cuml.__version__)"
      ],
      "execution_count": 28,
      "outputs": [
        {
          "output_type": "stream",
          "text": [
            "NumPy Version: 1.16.5\n",
            "Scikit-learn Version: 0.21.3\n",
            "cuDF Version: 0.10.0a+1233.gf8e8353\n",
            "cuML Version: 0.10.0a+456.gb96498b\n"
          ],
          "name": "stdout"
        }
      ]
    },
    {
      "cell_type": "markdown",
      "metadata": {
        "id": "XpBwe6S5ZSQZ",
        "colab_type": "text"
      },
      "source": [
        "### Scikit-Learn"
      ]
    },
    {
      "cell_type": "markdown",
      "metadata": {
        "id": "GQa9zT0Xs1hj",
        "colab_type": "text"
      },
      "source": [
        "Linear Regression\n",
        "\n",
        "y = 2.0 * x + 1.0"
      ]
    },
    {
      "cell_type": "code",
      "metadata": {
        "id": "ZHNe_DzEs9kL",
        "colab_type": "code",
        "colab": {
          "base_uri": "https://localhost:8080/",
          "height": 34
        },
        "outputId": "af7a4d76-bf57-43ce-c2f1-f3540a73290b"
      },
      "source": [
        "\n",
        "n_rows = 1000000\n",
        "w = 2.0\n",
        "x = np.random.normal(loc=0, scale=2, size=(n_rows,))\n",
        "b = 1.0\n",
        "y = w * x + b\n",
        "\n",
        "\n",
        "noise = np.random.normal(loc=0, scale=2, size=(n_rows,))\n",
        "y_noisy = y + noise\n",
        "\n",
        "y_noisy[:5]"
      ],
      "execution_count": 15,
      "outputs": [
        {
          "output_type": "execute_result",
          "data": {
            "text/plain": [
              "array([3.1331545 , 6.42272191, 3.24798057, 3.45747926, 4.97974749])"
            ]
          },
          "metadata": {
            "tags": []
          },
          "execution_count": 15
        }
      ]
    },
    {
      "cell_type": "code",
      "metadata": {
        "id": "qcIXOD6m5d1G",
        "colab_type": "code",
        "colab": {
          "base_uri": "https://localhost:8080/",
          "height": 286
        },
        "outputId": "1c6965c2-016a-4645-c371-a17004105882"
      },
      "source": [
        "plt.scatter(x, y_noisy, label='empirical data points')\n",
        "plt.plot(x, y, color='black', label='true relatioship')\n",
        "plt.legend()"
      ],
      "execution_count": 17,
      "outputs": [
        {
          "output_type": "execute_result",
          "data": {
            "text/plain": [
              "<matplotlib.legend.Legend at 0x7f43abeee748>"
            ]
          },
          "metadata": {
            "tags": []
          },
          "execution_count": 17
        },
        {
          "output_type": "display_data",
          "data": {
            "image/png": "[encoded data removed]",
            "text/plain": [
              "<Figure size 432x288 with 1 Axes>"
            ]
          },
          "metadata": {
            "tags": []
          }
        }
      ]
    },
    {
      "cell_type": "code",
      "metadata": {
        "id": "V5CKxrSq-TEU",
        "colab_type": "code",
        "colab": {
          "base_uri": "https://localhost:8080/",
          "height": 52
        },
        "outputId": "f11aec17-4dff-4acb-9df2-2594de01a916"
      },
      "source": [
        "%%time\n",
        "linear_regression = LinearRegression()\n",
        "linear_regression.fit(np.expand_dims(x, 1), y)"
      ],
      "execution_count": 19,
      "outputs": [
        {
          "output_type": "stream",
          "text": [
            "CPU times: user 35.2 ms, sys: 18.1 ms, total: 53.3 ms\n",
            "Wall time: 54.5 ms\n"
          ],
          "name": "stdout"
        }
      ]
    },
    {
      "cell_type": "markdown",
      "metadata": {
        "id": "E5xARoJb-nUY",
        "colab_type": "text"
      },
      "source": [
        "Create new data and perform inference"
      ]
    },
    {
      "cell_type": "code",
      "metadata": {
        "id": "BdA6CsdD-jyq",
        "colab_type": "code",
        "colab": {}
      },
      "source": [
        "inputs = np.linspace(start=-5, stop=5, num=1000000)"
      ],
      "execution_count": 0,
      "outputs": []
    },
    {
      "cell_type": "code",
      "metadata": {
        "id": "FQUuaEIp_fko",
        "colab_type": "code",
        "colab": {}
      },
      "source": [
        "outputs = linear_regression.predict(np.expand_dims(inputs, 1))"
      ],
      "execution_count": 0,
      "outputs": []
    },
    {
      "cell_type": "markdown",
      "metadata": {
        "id": "zHnh_V0s_um4",
        "colab_type": "text"
      },
      "source": [
        "Let's now visualize our empirical data points"
      ]
    },
    {
      "cell_type": "code",
      "metadata": {
        "id": "gT9Yi2HF_zrU",
        "colab_type": "code",
        "colab": {
          "base_uri": "https://localhost:8080/",
          "height": 286
        },
        "outputId": "a888c7df-8349-4c48-f10a-a4a0cfd25999"
      },
      "source": [
        "plt.scatter(x, y_noisy, label='empirical data points')\n",
        "plt.plot(x, y, color='black', label='true relatioship')\n",
        "plt.plot(inputs, outputs, color='red', label='predict relationships (cpu)')\n",
        "plt.legend()"
      ],
      "execution_count": 23,
      "outputs": [
        {
          "output_type": "execute_result",
          "data": {
            "text/plain": [
              "<matplotlib.legend.Legend at 0x7f43a48f07f0>"
            ]
          },
          "metadata": {
            "tags": []
          },
          "execution_count": 23
        },
        {
          "output_type": "display_data",
          "data": {
            "image/png": "[encoded data removed]",
            "text/plain": [
              "<Figure size 432x288 with 1 Axes>"
            ]
          },
          "metadata": {
            "tags": []
          }
        }
      ]
    },
    {
      "cell_type": "code",
      "metadata": {
        "id": "3OLNQVouBLNS",
        "colab_type": "code",
        "colab": {
          "base_uri": "https://localhost:8080/",
          "height": 201
        },
        "outputId": "4d2bdc15-1c54-40f5-8270-48694a026dab"
      },
      "source": [
        "df = cudf.DataFrame({'x': x, 'y': y_noisy})\n",
        "df.head(5)"
      ],
      "execution_count": 25,
      "outputs": [
        {
          "output_type": "execute_result",
          "data": {
            "text/html": [
              "<div>\n",
              "<style scoped>\n",
              "    .dataframe tbody tr th:only-of-type {\n",
              "        vertical-align: middle;\n",
              "    }\n",
              "\n",
              "    .dataframe tbody tr th {\n",
              "        vertical-align: top;\n",
              "    }\n",
              "\n",
              "    .dataframe thead th {\n",
              "        text-align: right;\n",
              "    }\n",
              "</style>\n",
              "<table border=\"1\" class=\"dataframe\">\n",
              "  <thead>\n",
              "    <tr style=\"text-align: right;\">\n",
              "      <th></th>\n",
              "      <th>x</th>\n",
              "      <th>y</th>\n",
              "    </tr>\n",
              "  </thead>\n",
              "  <tbody>\n",
              "    <tr>\n",
              "      <th>0</th>\n",
              "      <td>1.496413</td>\n",
              "      <td>3.133155</td>\n",
              "    </tr>\n",
              "    <tr>\n",
              "      <th>1</th>\n",
              "      <td>2.088522</td>\n",
              "      <td>6.422722</td>\n",
              "    </tr>\n",
              "    <tr>\n",
              "      <th>2</th>\n",
              "      <td>0.812700</td>\n",
              "      <td>3.247981</td>\n",
              "    </tr>\n",
              "    <tr>\n",
              "      <th>3</th>\n",
              "      <td>0.285123</td>\n",
              "      <td>3.457479</td>\n",
              "    </tr>\n",
              "    <tr>\n",
              "      <th>4</th>\n",
              "      <td>0.971407</td>\n",
              "      <td>4.979747</td>\n",
              "    </tr>\n",
              "  </tbody>\n",
              "</table>\n",
              "</div>"
            ],
            "text/plain": [
              "          x         y\n",
              "0  1.496413  3.133155\n",
              "1  2.088522  6.422722\n",
              "2  0.812700  3.247981\n",
              "3  0.285123  3.457479\n",
              "4  0.971407  4.979747"
            ]
          },
          "metadata": {
            "tags": []
          },
          "execution_count": 25
        }
      ]
    },
    {
      "cell_type": "code",
      "metadata": {
        "id": "o8BWUiIiBm1O",
        "colab_type": "code",
        "colab": {
          "base_uri": "https://localhost:8080/",
          "height": 408
        },
        "outputId": "f1bd2cba-49bf-4e6d-d4c3-03b950bff007"
      },
      "source": [
        "%%time\n",
        "# instantiate and fit model\n",
        "linear_regression_gpu = LinearRegressionGPU()\n",
        "linear_regression_gpu.fit(df[['x']]. df['y'])"
      ],
      "execution_count": 26,
      "outputs": [
        {
          "output_type": "error",
          "ename": "NameError",
          "evalue": "ignored",
          "traceback": [
            "\u001b[0;31m---------------------------------------------------------------------------\u001b[0m",
            "\u001b[0;31mNameError\u001b[0m                                 Traceback (most recent call last)",
            "\u001b[0;32m<ipython-input-26-b795aab57914>\u001b[0m in \u001b[0;36m<module>\u001b[0;34m()\u001b[0m\n\u001b[0;32m----> 1\u001b[0;31m \u001b[0mget_ipython\u001b[0m\u001b[0;34m(\u001b[0m\u001b[0;34m)\u001b[0m\u001b[0;34m.\u001b[0m\u001b[0mrun_cell_magic\u001b[0m\u001b[0;34m(\u001b[0m\u001b[0;34m'time'\u001b[0m\u001b[0;34m,\u001b[0m \u001b[0;34m''\u001b[0m\u001b[0;34m,\u001b[0m \u001b[0;34m\"# instantiate and fit model\\nlinear_regression_gpu = LinearRegressionGPU()\\nlinear_regression_gpu.fit(df[['x']]. df['y'])\"\u001b[0m\u001b[0;34m)\u001b[0m\u001b[0;34m\u001b[0m\u001b[0;34m\u001b[0m\u001b[0m\n\u001b[0m",
            "\u001b[0;32m/usr/local/lib/python3.6/dist-packages/IPython/core/interactiveshell.py\u001b[0m in \u001b[0;36mrun_cell_magic\u001b[0;34m(self, magic_name, line, cell)\u001b[0m\n\u001b[1;32m   2115\u001b[0m             \u001b[0mmagic_arg_s\u001b[0m \u001b[0;34m=\u001b[0m \u001b[0mself\u001b[0m\u001b[0;34m.\u001b[0m\u001b[0mvar_expand\u001b[0m\u001b[0;34m(\u001b[0m\u001b[0mline\u001b[0m\u001b[0;34m,\u001b[0m \u001b[0mstack_depth\u001b[0m\u001b[0;34m)\u001b[0m\u001b[0;34m\u001b[0m\u001b[0;34m\u001b[0m\u001b[0m\n\u001b[1;32m   2116\u001b[0m             \u001b[0;32mwith\u001b[0m \u001b[0mself\u001b[0m\u001b[0;34m.\u001b[0m\u001b[0mbuiltin_trap\u001b[0m\u001b[0;34m:\u001b[0m\u001b[0;34m\u001b[0m\u001b[0;34m\u001b[0m\u001b[0m\n\u001b[0;32m-> 2117\u001b[0;31m                 \u001b[0mresult\u001b[0m \u001b[0;34m=\u001b[0m \u001b[0mfn\u001b[0m\u001b[0;34m(\u001b[0m\u001b[0mmagic_arg_s\u001b[0m\u001b[0;34m,\u001b[0m \u001b[0mcell\u001b[0m\u001b[0;34m)\u001b[0m\u001b[0;34m\u001b[0m\u001b[0;34m\u001b[0m\u001b[0m\n\u001b[0m\u001b[1;32m   2118\u001b[0m             \u001b[0;32mreturn\u001b[0m \u001b[0mresult\u001b[0m\u001b[0;34m\u001b[0m\u001b[0;34m\u001b[0m\u001b[0m\n\u001b[1;32m   2119\u001b[0m \u001b[0;34m\u001b[0m\u001b[0m\n",
            "\u001b[0;32m</usr/local/lib/python3.6/dist-packages/decorator.py:decorator-gen-60>\u001b[0m in \u001b[0;36mtime\u001b[0;34m(self, line, cell, local_ns)\u001b[0m\n",
            "\u001b[0;32m/usr/local/lib/python3.6/dist-packages/IPython/core/magic.py\u001b[0m in \u001b[0;36m<lambda>\u001b[0;34m(f, *a, **k)\u001b[0m\n\u001b[1;32m    186\u001b[0m     \u001b[0;31m# but it's overkill for just that one bit of state.\u001b[0m\u001b[0;34m\u001b[0m\u001b[0;34m\u001b[0m\u001b[0;34m\u001b[0m\u001b[0m\n\u001b[1;32m    187\u001b[0m     \u001b[0;32mdef\u001b[0m \u001b[0mmagic_deco\u001b[0m\u001b[0;34m(\u001b[0m\u001b[0marg\u001b[0m\u001b[0;34m)\u001b[0m\u001b[0;34m:\u001b[0m\u001b[0;34m\u001b[0m\u001b[0;34m\u001b[0m\u001b[0m\n\u001b[0;32m--> 188\u001b[0;31m         \u001b[0mcall\u001b[0m \u001b[0;34m=\u001b[0m \u001b[0;32mlambda\u001b[0m \u001b[0mf\u001b[0m\u001b[0;34m,\u001b[0m \u001b[0;34m*\u001b[0m\u001b[0ma\u001b[0m\u001b[0;34m,\u001b[0m \u001b[0;34m**\u001b[0m\u001b[0mk\u001b[0m\u001b[0;34m:\u001b[0m \u001b[0mf\u001b[0m\u001b[0;34m(\u001b[0m\u001b[0;34m*\u001b[0m\u001b[0ma\u001b[0m\u001b[0;34m,\u001b[0m \u001b[0;34m**\u001b[0m\u001b[0mk\u001b[0m\u001b[0;34m)\u001b[0m\u001b[0;34m\u001b[0m\u001b[0;34m\u001b[0m\u001b[0m\n\u001b[0m\u001b[1;32m    189\u001b[0m \u001b[0;34m\u001b[0m\u001b[0m\n\u001b[1;32m    190\u001b[0m         \u001b[0;32mif\u001b[0m \u001b[0mcallable\u001b[0m\u001b[0;34m(\u001b[0m\u001b[0marg\u001b[0m\u001b[0;34m)\u001b[0m\u001b[0;34m:\u001b[0m\u001b[0;34m\u001b[0m\u001b[0;34m\u001b[0m\u001b[0m\n",
            "\u001b[0;32m/usr/local/lib/python3.6/dist-packages/IPython/core/magics/execution.py\u001b[0m in \u001b[0;36mtime\u001b[0;34m(self, line, cell, local_ns)\u001b[0m\n\u001b[1;32m   1191\u001b[0m         \u001b[0;32melse\u001b[0m\u001b[0;34m:\u001b[0m\u001b[0;34m\u001b[0m\u001b[0;34m\u001b[0m\u001b[0m\n\u001b[1;32m   1192\u001b[0m             \u001b[0mst\u001b[0m \u001b[0;34m=\u001b[0m \u001b[0mclock2\u001b[0m\u001b[0;34m(\u001b[0m\u001b[0;34m)\u001b[0m\u001b[0;34m\u001b[0m\u001b[0;34m\u001b[0m\u001b[0m\n\u001b[0;32m-> 1193\u001b[0;31m             \u001b[0mexec\u001b[0m\u001b[0;34m(\u001b[0m\u001b[0mcode\u001b[0m\u001b[0;34m,\u001b[0m \u001b[0mglob\u001b[0m\u001b[0;34m,\u001b[0m \u001b[0mlocal_ns\u001b[0m\u001b[0;34m)\u001b[0m\u001b[0;34m\u001b[0m\u001b[0;34m\u001b[0m\u001b[0m\n\u001b[0m\u001b[1;32m   1194\u001b[0m             \u001b[0mend\u001b[0m \u001b[0;34m=\u001b[0m \u001b[0mclock2\u001b[0m\u001b[0;34m(\u001b[0m\u001b[0;34m)\u001b[0m\u001b[0;34m\u001b[0m\u001b[0;34m\u001b[0m\u001b[0m\n\u001b[1;32m   1195\u001b[0m             \u001b[0mout\u001b[0m \u001b[0;34m=\u001b[0m \u001b[0;32mNone\u001b[0m\u001b[0;34m\u001b[0m\u001b[0;34m\u001b[0m\u001b[0m\n",
            "\u001b[0;32m<timed exec>\u001b[0m in \u001b[0;36m<module>\u001b[0;34m()\u001b[0m\n",
            "\u001b[0;31mNameError\u001b[0m: name 'LinearRegressionGPU' is not defined"
          ]
        }
      ]
    },
    {
      "cell_type": "code",
      "metadata": {
        "id": "BmFlbY7-BmtS",
        "colab_type": "code",
        "colab": {}
      },
      "source": [
        ""
      ],
      "execution_count": 0,
      "outputs": []
    },
    {
      "cell_type": "code",
      "metadata": {
        "id": "xlKErE7_Bmkm",
        "colab_type": "code",
        "colab": {}
      },
      "source": [
        ""
      ],
      "execution_count": 0,
      "outputs": []
    },
    {
      "cell_type": "code",
      "metadata": {
        "id": "weTvbzxaBmYj",
        "colab_type": "code",
        "colab": {}
      },
      "source": [
        ""
      ],
      "execution_count": 0,
      "outputs": []
    }
  ]
}