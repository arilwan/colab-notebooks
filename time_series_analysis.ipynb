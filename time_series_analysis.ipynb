{
  "nbformat": 4,
  "nbformat_minor": 0,
  "metadata": {
    "colab": {
      "name": "time-series-analysis.ipynb",
      "provenance": [],
      "collapsed_sections": [],
      "include_colab_link": true
    },
    "kernelspec": {
      "name": "python3",
      "display_name": "Python 3"
    }
  },
  "cells": [
    {
      "cell_type": "markdown",
      "metadata": {
        "id": "view-in-github",
        "colab_type": "text"
      },
      "source": [
        "<a href=\"https://colab.research.google.com/github/martin-fabbri/colab-notebooks/blob/master/time_series_analysis.ipynb\" target=\"_parent\"><img src=\"https://colab.research.google.com/assets/colab-badge.svg\" alt=\"Open In Colab\"/></a>"
      ]
    },
    {
      "cell_type": "markdown",
      "metadata": {
        "id": "BGW0ggXLwpFw",
        "colab_type": "text"
      },
      "source": [
        "# Time Series Analysis"
      ]
    },
    {
      "cell_type": "markdown",
      "metadata": {
        "id": "tccuiCiUf4ZD",
        "colab_type": "text"
      },
      "source": [
        "## Dependencies"
      ]
    },
    {
      "cell_type": "code",
      "metadata": {
        "id": "O8kV8wjMf7GT",
        "colab_type": "code",
        "colab": {}
      },
      "source": [
        "import pandas as pd\n",
        "import matplotlib.pyplot as plt\n"
      ],
      "execution_count": 0,
      "outputs": []
    },
    {
      "cell_type": "markdown",
      "metadata": {
        "id": "l6_i5fSqf83G",
        "colab_type": "text"
      },
      "source": [
        "## Google Diet Search Trends\n"
      ]
    },
    {
      "cell_type": "code",
      "metadata": {
        "id": "-teXkHAxwmzG",
        "colab_type": "code",
        "colab": {
          "base_uri": "https://localhost:8080/",
          "height": 123
        },
        "outputId": "60787f5d-ad8b-4647-af84-ad324a452809"
      },
      "source": [
        "google_diet_search_url = 'https://raw.githubusercontent.com/martin-fabbri/colab-notebooks/master/data/diet_serach_google_trends.csv'\n",
        "\n",
        "diet = pd.read_csv(google_diet_search_url, parse_dates=['month'], index_col=['month'])\n",
        "#diet.index = pd.to_datetime(diet.index)\n",
        "diet.info()"
      ],
      "execution_count": 8,
      "outputs": [
        {
          "output_type": "stream",
          "text": [
            "<class 'pandas.core.frame.DataFrame'>\n",
            "DatetimeIndex: 192 entries, 2004-01-01 to 2019-12-01\n",
            "Data columns (total 1 columns):\n",
            "diet    192 non-null int64\n",
            "dtypes: int64(1)\n",
            "memory usage: 3.0 KB\n"
          ],
          "name": "stdout"
        }
      ]
    },
    {
      "cell_type": "code",
      "metadata": {
        "id": "wM3943U9k95O",
        "colab_type": "code",
        "colab": {
          "base_uri": "https://localhost:8080/",
          "height": 279
        },
        "outputId": "57106200-e78c-4297-98ea-86061a81358b"
      },
      "source": [
        "diet.plot(grid=True);"
      ],
      "execution_count": 9,
      "outputs": [
        {
          "output_type": "display_data",
          "data": {
            "image/png": "[encoded data removed]",
            "text/plain": [
              "<Figure size 432x288 with 1 Axes>"
            ]
          },
          "metadata": {
            "tags": []
          }
        }
      ]
    },
    {
      "cell_type": "code",
      "metadata": {
        "id": "8zx1WQKblyVo",
        "colab_type": "code",
        "colab": {
          "base_uri": "https://localhost:8080/",
          "height": 527
        },
        "outputId": "05946a5e-aa17-4d75-b323-3b0e385f8122"
      },
      "source": [
        "diet2012 = diet[diet.index.year >= 2012]\n",
        "print(diet2012.head())\n",
        "print(diet2012.tail())\n",
        "diet2012.plot(grid=True);"
      ],
      "execution_count": 24,
      "outputs": [
        {
          "output_type": "stream",
          "text": [
            "            diet\n",
            "month           \n",
            "2012-01-01    78\n",
            "2012-02-01    69\n",
            "2012-03-01    69\n",
            "2012-04-01    66\n",
            "2012-05-01    64\n",
            "            diet\n",
            "month           \n",
            "2019-08-01    50\n",
            "2019-09-01    48\n",
            "2019-10-01    46\n",
            "2019-11-01    43\n",
            "2019-12-01    40\n"
          ],
          "name": "stdout"
        },
        {
          "output_type": "display_data",
          "data": {
            "image/png": "[encoded data removed]",
            "text/plain": [
              "<Figure size 432x288 with 1 Axes>"
            ]
          },
          "metadata": {
            "tags": []
          }
        }
      ]
    },
    {
      "cell_type": "markdown",
      "metadata": {
        "id": "fOQ0RoPzCDdy",
        "colab_type": "text"
      },
      "source": [
        "## Merging Time Series With Different Dates\n",
        "\n",
        "Stock and bond markets in the U.S. are closed on different days. For example, although the bond market is closed on Columbus Day (around Oct 12) and Veterans Day (around Nov 11), the stock market is open on those days. One way to see the dates that the stock market is open and the bond market is closed is to convert both indexes of dates into sets and take the difference in sets.\n",
        "\n",
        "The pandas .join() method is a convenient tool to merge the stock and bond DataFrames on dates when both markets are open."
      ]
    },
    {
      "cell_type": "code",
      "metadata": {
        "id": "K61wVJ3IlySZ",
        "colab_type": "code",
        "colab": {
          "base_uri": "https://localhost:8080/",
          "height": 301
        },
        "outputId": "859cbf88-8fe8-4061-f86e-2f1a964d2ff9"
      },
      "source": [
        "stocks_url = 'https://raw.githubusercontent.com/martin-fabbri/colab-notebooks/master/data/gspc_sp500_stocks.csv'\n",
        "bonds_url='https://raw.githubusercontent.com/martin-fabbri/colab-notebooks/master/data/tnx_us_bonds_us10y.csv'\n",
        "\n",
        "stocks = pd.read_csv(stocks_url, parse_dates=['Date'], index_col=['Date'])\n",
        "bonds = pd.read_csv(bonds_url, parse_dates=['Date'], index_col=['Date'])\n",
        "print(stocks.head())\n",
        "print(bonds.head())"
      ],
      "execution_count": 30,
      "outputs": [
        {
          "output_type": "stream",
          "text": [
            "                   Open         High  ...    Adj Close      Volume\n",
            "Date                                  ...                         \n",
            "2010-12-30  1259.439941  1261.089966  ...  1257.880005  1970720000\n",
            "2010-12-31  1256.760010  1259.339966  ...  1257.640015  1799770000\n",
            "2011-01-03  1257.619995  1276.170044  ...  1271.869995  4286670000\n",
            "2011-01-04  1272.949951  1274.119995  ...  1270.199951  4796420000\n",
            "2011-01-05  1268.780029  1277.630005  ...  1276.560059  4764920000\n",
            "\n",
            "[5 rows x 6 columns]\n",
            "             Open   High    Low  Close  Adj Close  Volume\n",
            "Date                                                     \n",
            "2010-12-30  3.384  3.421  3.355  3.369      3.369     0.0\n",
            "2010-12-31  3.324  3.363  3.282  3.305      3.305     0.0\n",
            "2011-01-02    NaN    NaN    NaN    NaN        NaN     NaN\n",
            "2011-01-03  3.377  3.420  3.313  3.342      3.342     0.0\n",
            "2011-01-04  3.338  3.362  3.302  3.346      3.346     0.0\n"
          ],
          "name": "stdout"
        }
      ]
    },
    {
      "cell_type": "code",
      "metadata": {
        "id": "_2niLym3lyO8",
        "colab_type": "code",
        "colab": {
          "base_uri": "https://localhost:8080/",
          "height": 373
        },
        "outputId": "2e278921-bd1e-4c88-d2cc-29152899760e"
      },
      "source": [
        "# Convert the stock index and bond index into sets\n",
        "set_stock_dates = set(stocks.index)\n",
        "set_bond_dates = set(bonds.index)\n",
        "\n",
        "# Take the difference between the sets and print\n",
        "print(set_stock_dates - set_bond_dates)\n",
        "\n",
        "stocks_and_bonds = stocks.join(bonds, how='inner', lsuffix='_stc', rsuffix='_bnd')\n",
        "stocks_and_bonds.head()"
      ],
      "execution_count": 36,
      "outputs": [
        {
          "output_type": "stream",
          "text": [
            "{Timestamp('2016-10-10 00:00:00'), Timestamp('2016-11-11 00:00:00')}\n"
          ],
          "name": "stdout"
        },
        {
          "output_type": "execute_result",
          "data": {
            "text/html": [
              "<div>\n",
              "<style scoped>\n",
              "    .dataframe tbody tr th:only-of-type {\n",
              "        vertical-align: middle;\n",
              "    }\n",
              "\n",
              "    .dataframe tbody tr th {\n",
              "        vertical-align: top;\n",
              "    }\n",
              "\n",
              "    .dataframe thead th {\n",
              "        text-align: right;\n",
              "    }\n",
              "</style>\n",
              "<table border=\"1\" class=\"dataframe\">\n",
              "  <thead>\n",
              "    <tr style=\"text-align: right;\">\n",
              "      <th></th>\n",
              "      <th>Open_stc</th>\n",
              "      <th>High_stc</th>\n",
              "      <th>Low_stc</th>\n",
              "      <th>Close_stc</th>\n",
              "      <th>Adj Close_stc</th>\n",
              "      <th>Volume_stc</th>\n",
              "      <th>Open_bnd</th>\n",
              "      <th>High_bnd</th>\n",
              "      <th>Low_bnd</th>\n",
              "      <th>Close_bnd</th>\n",
              "      <th>Adj Close_bnd</th>\n",
              "      <th>Volume_bnd</th>\n",
              "    </tr>\n",
              "    <tr>\n",
              "      <th>Date</th>\n",
              "      <th></th>\n",
              "      <th></th>\n",
              "      <th></th>\n",
              "      <th></th>\n",
              "      <th></th>\n",
              "      <th></th>\n",
              "      <th></th>\n",
              "      <th></th>\n",
              "      <th></th>\n",
              "      <th></th>\n",
              "      <th></th>\n",
              "      <th></th>\n",
              "    </tr>\n",
              "  </thead>\n",
              "  <tbody>\n",
              "    <tr>\n",
              "      <th>2010-12-30</th>\n",
              "      <td>1259.439941</td>\n",
              "      <td>1261.089966</td>\n",
              "      <td>1256.319946</td>\n",
              "      <td>1257.880005</td>\n",
              "      <td>1257.880005</td>\n",
              "      <td>1970720000</td>\n",
              "      <td>3.384</td>\n",
              "      <td>3.421</td>\n",
              "      <td>3.355</td>\n",
              "      <td>3.369</td>\n",
              "      <td>3.369</td>\n",
              "      <td>0.0</td>\n",
              "    </tr>\n",
              "    <tr>\n",
              "      <th>2010-12-31</th>\n",
              "      <td>1256.760010</td>\n",
              "      <td>1259.339966</td>\n",
              "      <td>1254.189941</td>\n",
              "      <td>1257.640015</td>\n",
              "      <td>1257.640015</td>\n",
              "      <td>1799770000</td>\n",
              "      <td>3.324</td>\n",
              "      <td>3.363</td>\n",
              "      <td>3.282</td>\n",
              "      <td>3.305</td>\n",
              "      <td>3.305</td>\n",
              "      <td>0.0</td>\n",
              "    </tr>\n",
              "    <tr>\n",
              "      <th>2011-01-03</th>\n",
              "      <td>1257.619995</td>\n",
              "      <td>1276.170044</td>\n",
              "      <td>1257.619995</td>\n",
              "      <td>1271.869995</td>\n",
              "      <td>1271.869995</td>\n",
              "      <td>4286670000</td>\n",
              "      <td>3.377</td>\n",
              "      <td>3.420</td>\n",
              "      <td>3.313</td>\n",
              "      <td>3.342</td>\n",
              "      <td>3.342</td>\n",
              "      <td>0.0</td>\n",
              "    </tr>\n",
              "    <tr>\n",
              "      <th>2011-01-04</th>\n",
              "      <td>1272.949951</td>\n",
              "      <td>1274.119995</td>\n",
              "      <td>1262.660034</td>\n",
              "      <td>1270.199951</td>\n",
              "      <td>1270.199951</td>\n",
              "      <td>4796420000</td>\n",
              "      <td>3.338</td>\n",
              "      <td>3.362</td>\n",
              "      <td>3.302</td>\n",
              "      <td>3.346</td>\n",
              "      <td>3.346</td>\n",
              "      <td>0.0</td>\n",
              "    </tr>\n",
              "    <tr>\n",
              "      <th>2011-01-05</th>\n",
              "      <td>1268.780029</td>\n",
              "      <td>1277.630005</td>\n",
              "      <td>1265.359985</td>\n",
              "      <td>1276.560059</td>\n",
              "      <td>1276.560059</td>\n",
              "      <td>4764920000</td>\n",
              "      <td>3.381</td>\n",
              "      <td>3.497</td>\n",
              "      <td>3.379</td>\n",
              "      <td>3.483</td>\n",
              "      <td>3.483</td>\n",
              "      <td>0.0</td>\n",
              "    </tr>\n",
              "  </tbody>\n",
              "</table>\n",
              "</div>"
            ],
            "text/plain": [
              "               Open_stc     High_stc  ...  Adj Close_bnd  Volume_bnd\n",
              "Date                                  ...                           \n",
              "2010-12-30  1259.439941  1261.089966  ...          3.369         0.0\n",
              "2010-12-31  1256.760010  1259.339966  ...          3.305         0.0\n",
              "2011-01-03  1257.619995  1276.170044  ...          3.342         0.0\n",
              "2011-01-04  1272.949951  1274.119995  ...          3.346         0.0\n",
              "2011-01-05  1268.780029  1277.630005  ...          3.483         0.0\n",
              "\n",
              "[5 rows x 12 columns]"
            ]
          },
          "metadata": {
            "tags": []
          },
          "execution_count": 36
        }
      ]
    },
    {
      "cell_type": "markdown",
      "metadata": {
        "id": "wCUA-j85TXEU",
        "colab_type": "text"
      },
      "source": [
        "## Correlation of Stocks and Bonds"
      ]
    },
    {
      "cell_type": "code",
      "metadata": {
        "id": "Pfhm5VfaCReA",
        "colab_type": "code",
        "colab": {
          "base_uri": "https://localhost:8080/",
          "height": 442
        },
        "outputId": "4d1339dc-409b-41e1-8683-47d083222834"
      },
      "source": [
        "returns = stocks_and_bonds.pct_change()\n",
        "print(returns.head())\n",
        "correlation = returns['Close_stc'].corr(returns['Close_bnd'])\n",
        "print(correlation)\n",
        "plt.scatter(returns['Close_stc'], returns['Close_bnd']);\n"
      ],
      "execution_count": 40,
      "outputs": [
        {
          "output_type": "stream",
          "text": [
            "            Open_stc  High_stc   Low_stc  ...  Close_bnd  Adj Close_bnd  Volume_bnd\n",
            "Date                                      ...                                      \n",
            "2010-12-30       NaN       NaN       NaN  ...        NaN            NaN         NaN\n",
            "2010-12-31 -0.002128 -0.001388 -0.001695  ...  -0.018997      -0.018997         NaN\n",
            "2011-01-03  0.000684  0.013364  0.002735  ...   0.011195       0.011195         NaN\n",
            "2011-01-04  0.012190 -0.001606  0.004008  ...   0.001197       0.001197         NaN\n",
            "2011-01-05 -0.003276  0.002755  0.002138  ...   0.040944       0.040944         NaN\n",
            "\n",
            "[5 rows x 12 columns]\n",
            "0.4381423924113941\n"
          ],
          "name": "stdout"
        },
        {
          "output_type": "display_data",
          "data": {
            "image/png": "[encoded data removed]",
            "text/plain": [
              "<Figure size 432x288 with 1 Axes>"
            ]
          },
          "metadata": {
            "tags": []
          }
        }
      ]
    },
    {
      "cell_type": "markdown",
      "metadata": {
        "id": "EqdlvB07sxrq",
        "colab_type": "text"
      },
      "source": [
        "## Flying Saucers Aren't Correlated to Flying Markets\n",
        "\n",
        "Two trending series may show a strong correlation even if they are completely unrelated. This is referred to as \"spurious correlation\". That's why when you look at the correlation of say, two stocks, you should look at the correlation of their returns and not their levels.\n",
        "\n",
        "To illustrate this point, calculate the correlation between the levels of the stock market and the annual sightings of UFOs. Both of those time series have trended up over the last several decades, and the correlation of their levels is very high. Then calculate the correlation of their percent changes. This will be close to zero, since there is no relationship between those two series."
      ]
    },
    {
      "cell_type": "code",
      "metadata": {
        "id": "tFuMfLQ3sxY4",
        "colab_type": "code",
        "colab": {
          "base_uri": "https://localhost:8080/",
          "height": 763
        },
        "outputId": "9d80bcc1-a346-4263-fe0b-10c9a50dfcb4"
      },
      "source": [
        "dji_url = 'https://raw.githubusercontent.com/martin-fabbri/colab-notebooks/master/data/financial-time-series/dow_jones_1990_2019.csv'\n",
        "ufo_url = 'https://raw.githubusercontent.com/martin-fabbri/colab-notebooks/master/data/ufo_national_reporting.csv'\n",
        "\n",
        "dji = pd.read_csv(dji_url, parse_dates=['month'], index_col=['month'])\n",
        "ufo = pd.read_csv(ufo_url, parse_dates=['month'], index_col=['month'])\n",
        "\n",
        "print(dji.head())\n",
        "print(ufo.head())\n",
        "\n",
        "dji = dji.resample('Y').sum()\n",
        "ufo = ufo.resample('Y').sum()\n",
        "\n",
        "print(dji.head())\n",
        "print(ufo.head())\n",
        "\n",
        "levels = dji.join(ufo, how='inner')\n",
        "print(levels.head())\n",
        "print(levels.tail())"
      ],
      "execution_count": 55,
      "outputs": [
        {
          "output_type": "stream",
          "text": [
            "                  close\n",
            "month                  \n",
            "1990-01-01  2590.540039\n",
            "1990-02-01  2627.250000\n",
            "1990-03-01  2707.209961\n",
            "1990-04-01  2656.760010\n",
            "1990-05-01  2876.659912\n",
            "            count\n",
            "month            \n",
            "2019-12-01    452\n",
            "2019-11-01    679\n",
            "2019-10-01    705\n",
            "2019-09-01    644\n",
            "2019-08-01    465\n",
            "                   close\n",
            "month                   \n",
            "1990-12-31  31946.789793\n",
            "1991-12-31  35572.350343\n",
            "1992-12-31  39556.609862\n",
            "1993-12-31  42451.450440\n",
            "1994-12-31  45514.260008\n",
            "            count\n",
            "month            \n",
            "1990-12-31      6\n",
            "1991-12-31    117\n",
            "1992-12-31    129\n",
            "1993-12-31    145\n",
            "1994-12-31    191\n",
            "                   close  count\n",
            "month                          \n",
            "1990-12-31  31946.789793      6\n",
            "1991-12-31  35572.350343    117\n",
            "1992-12-31  39556.609862    129\n",
            "1993-12-31  42451.450440    145\n",
            "1994-12-31  45514.260008    191\n",
            "                   close  count\n",
            "month                          \n",
            "2015-12-31  209855.55373   6909\n",
            "2016-12-31  216328.59179   5686\n",
            "2017-12-31  263251.46092   5043\n",
            "2018-12-31  299952.10158   3395\n",
            "2019-12-31  318596.41994   5791\n"
          ],
          "name": "stdout"
        }
      ]
    },
    {
      "cell_type": "code",
      "metadata": {
        "id": "5tPxZ9KasxWd",
        "colab_type": "code",
        "colab": {
          "base_uri": "https://localhost:8080/",
          "height": 34
        },
        "outputId": "02486622-cf38-4068-fd76-d68382fd07a0"
      },
      "source": [
        "correlation1 = levels['close'].corr(levels['count'])\n",
        "print(\"Correlation of levels: \", correlation1)"
      ],
      "execution_count": 59,
      "outputs": [
        {
          "output_type": "stream",
          "text": [
            "Correlation of levels:  0.6691135250162759\n"
          ],
          "name": "stdout"
        }
      ]
    },
    {
      "cell_type": "code",
      "metadata": {
        "id": "EDZYAtkrsxTg",
        "colab_type": "code",
        "colab": {
          "base_uri": "https://localhost:8080/",
          "height": 34
        },
        "outputId": "20ccf9b8-2c32-456d-831b-596ce943ecd4"
      },
      "source": [
        "changes = levels.pct_change()\n",
        "correlation2 = changes['close'].corr(changes['count'])\n",
        "print(\"Correlation of levels: \", correlation2)"
      ],
      "execution_count": 62,
      "outputs": [
        {
          "output_type": "stream",
          "text": [
            "Correlation of levels:  0.0420344334388898\n"
          ],
          "name": "stdout"
        }
      ]
    },
    {
      "cell_type": "code",
      "metadata": {
        "id": "9jR0PxQnsxQO",
        "colab_type": "code",
        "colab": {}
      },
      "source": [
        ""
      ],
      "execution_count": 0,
      "outputs": []
    },
    {
      "cell_type": "code",
      "metadata": {
        "id": "7pvSraCRCRmm",
        "colab_type": "code",
        "colab": {}
      },
      "source": [
        ""
      ],
      "execution_count": 0,
      "outputs": []
    },
    {
      "cell_type": "code",
      "metadata": {
        "id": "q5W7l2bLCRj7",
        "colab_type": "code",
        "colab": {}
      },
      "source": [
        ""
      ],
      "execution_count": 0,
      "outputs": []
    },
    {
      "cell_type": "markdown",
      "metadata": {
        "id": "ubrXjjAbwoTw",
        "colab_type": "text"
      },
      "source": [
        ""
      ]
    }
  ]
}